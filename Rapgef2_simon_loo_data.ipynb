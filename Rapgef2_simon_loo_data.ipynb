{
 "cells": [
  {
   "cell_type": "markdown",
   "metadata": {
    "hidePrompt": true
   },
   "source": [
    "Press the double arrow above and enjoy! This program allows you to examine Rapgef2 expression in all cell clusters identified in Loo, L., Simon, J. M., Xing, L., McCoy, E. S., Niehaus, J. K., Guo, J., ... & Zylka, M. J. (2019). Single-cell transcriptomic analysis of mouse neocortical development. Nature communications, 10(1), 1-11.\n",
    "\n"
   ]
  },
  {
   "cell_type": "markdown",
   "metadata": {
    "hideCode": true,
    "hidePrompt": true
   },
   "source": [
    "Cells are grouped into Cell Types (Inhibitory, Cortical Layers, Non-neuronal, Proliferative, Midbrain). They are further divided into Clusters (identified by Loo et al) and age of sample. Each 'block' on each bar is an individual cluster. "
   ]
  },
  {
   "cell_type": "code",
   "execution_count": 3,
   "metadata": {
    "hideCode": false,
    "hidePrompt": true,
    "hide_input": false,
    "init_cell": true
   },
   "outputs": [
    {
     "data": {
      "application/vnd.plotly.v1+json": {
       "config": {
        "plotlyServerURL": "https://plot.ly"
       },
       "data": [
        {
         "alignmentgroup": "True",
         "customdata": [
          [
           "e14.5",
           "Layer I [17-E]"
          ],
          [
           "e14.5",
           "Layer V-VI [2-E]"
          ],
          [
           "e14.5",
           "Layer V-VI [3-E]"
          ],
          [
           "e14.5",
           "Layer V-VI [5-E]"
          ],
          [
           "e14.5",
           "Layer V-VI [13-E]"
          ],
          [
           "e14.5",
           "Layer V-VI [7-E]"
          ],
          [
           "e14.5",
           "SVZ1 (migrating) [4-E]"
          ],
          [
           "e14.5",
           "Int1 [1-E]"
          ],
          [
           "e14.5",
           "Int2 [12-E]"
          ],
          [
           "e14.5",
           "Thalamic [19-E]"
          ],
          [
           "e14.5",
           "Striatal inh1 [16-E]"
          ],
          [
           "e14.5",
           "Striatal inh2 [9-E]"
          ],
          [
           "e14.5",
           "Ganglionic eminences [6-E]"
          ],
          [
           "e14.5",
           "SVZ3 (proliferating) [15-E]"
          ],
          [
           "e14.5",
           "SVZ2 (VZ-SVZ) [11-E]"
          ],
          [
           "e14.5",
           "RG2 [14-E]"
          ],
          [
           "e14.5",
           "RG3 (cortical hem) [21-E]"
          ],
          [
           "e14.5",
           "RG1 [8-E]"
          ],
          [
           "e14.5",
           "RG4 [10-E]"
          ],
          [
           "e14.5",
           "Choroid plexus [22-E]"
          ],
          [
           "e14.5",
           "Microglia [20-E]"
          ],
          [
           "e14.5",
           "Endothelial [18-E]"
          ]
         ],
         "hovertemplate": "<b>%{hovertext}</b><br><br>Age=%{customdata[0]}<br>Category=%{x}<br>Expression=%{y}<br>Cluster=%{customdata[1]}<extra></extra>",
         "hovertext": [
          "Layer I ",
          "Layer V-VI ",
          "Layer V-VI ",
          "Layer V-VI ",
          "Layer V-VI ",
          "Layer V-VI ",
          "SVZ1 (migrating) ",
          "Int1 ",
          "Int2 ",
          "Thalamic ",
          "Striatal inh1 ",
          "Striatal inh2 ",
          "Ganglionic eminences ",
          "SVZ3 (proliferating) ",
          "SVZ2 (VZ-SVZ) ",
          "RG2 ",
          "RG3 (cortical hem) ",
          "RG1 ",
          "RG4 ",
          "Choroid plexus ",
          "Microglia ",
          "Endothelial "
         ],
         "legendgroup": "e14.5",
         "marker": {
          "color": "#636efa"
         },
         "name": "e14.5",
         "offsetgroup": "e14.5",
         "orientation": "v",
         "showlegend": true,
         "textposition": "auto",
         "type": "bar",
         "x": [
          "Cortical Layers",
          "Cortical Layers",
          "Cortical Layers",
          "Cortical Layers",
          "Cortical Layers",
          "Cortical Layers",
          "Proliferative",
          "Inhibitory",
          "Inhibitory",
          "Midbrain",
          "Midbrain",
          "Midbrain",
          "Non-Neuronal",
          "Proliferative",
          "Proliferative",
          "Proliferative",
          "Proliferative",
          "Proliferative",
          "Proliferative",
          "Non-Neuronal",
          "Non-Neuronal",
          "Non-Neuronal"
         ],
         "xaxis": "x",
         "y": [
          0.035783348,
          0.003438035,
          0.034018797999999996,
          0.085107604,
          0.030869591000000002,
          0.08179170599999999,
          0.08198662599999999,
          -0.119255049,
          0.074230353,
          -0.018170602,
          -0.05996990000000001,
          -0.10006749699999999,
          -0.079695693,
          0.0013201920000000002,
          -0.056915783,
          0.007653448,
          -0.148772245,
          -0.004143455999999999,
          -0.010726578999999998,
          -0.017539161,
          -0.017471371,
          0.267331428
         ],
         "yaxis": "y"
        },
        {
         "alignmentgroup": "True",
         "customdata": [
          [
           "p0",
           "Layer I [19-P]"
          ],
          [
           "p0",
           "Layer II-IV [15-P]"
          ],
          [
           "p0",
           "Layer II-IV [1-P]"
          ],
          [
           "p0",
           "Layer II-IV [4-P]"
          ],
          [
           "p0",
           "Layer V-VI [18-P]"
          ],
          [
           "p0",
           "Layer V-VI [12-P]"
          ],
          [
           "p0",
           "SVZ1 (migrating) [2-P]"
          ],
          [
           "p0",
           "SVZ2 (migrating) [8-P]"
          ],
          [
           "p0",
           "Int1 [5-P]"
          ],
          [
           "p0",
           "Int3 [11-P]"
          ],
          [
           "p0",
           "Int4 [6-P]"
          ],
          [
           "p0",
           "Int2 [14-P]"
          ],
          [
           "p0",
           "Striatal inh1 [3-P]"
          ],
          [
           "p0",
           "Striatal inh2 [7-P]"
          ],
          [
           "p0",
           "Ganglionic eminences [9-P]"
          ],
          [
           "p0",
           "Astrocytes (immature) 1 [10-P]"
          ],
          [
           "p0",
           "Astrocytes (immature) 2 [13-P]"
          ],
          [
           "p0",
           "Oligodendrocytes [16-P]"
          ],
          [
           "p0",
           "Choroid plexus [20-P]"
          ],
          [
           "p0",
           "Microglia [22-P]"
          ],
          [
           "p0",
           "Endothelial2 [21-P]"
          ],
          [
           "p0",
           "Endothelial1 [17-P]"
          ]
         ],
         "hovertemplate": "<b>%{hovertext}</b><br><br>Age=%{customdata[0]}<br>Category=%{x}<br>Expression=%{y}<br>Cluster=%{customdata[1]}<extra></extra>",
         "hovertext": [
          "Layer I ",
          "Layer II-IV ",
          "Layer II-IV ",
          "Layer II-IV ",
          "Layer V-VI ",
          "Layer V-VI ",
          "SVZ1 (migrating) ",
          "SVZ2 (migrating) ",
          "Int1 ",
          "Int3 ",
          "Int4 ",
          "Int2 ",
          "Striatal inh1 ",
          "Striatal inh2 ",
          "Ganglionic eminences ",
          "Astrocytes (immature) 1 ",
          "Astrocytes (immature) 2 ",
          "Oligodendrocytes ",
          "Choroid plexus ",
          "Microglia ",
          "Endothelial2 ",
          "Endothelial1 "
         ],
         "legendgroup": "p0",
         "marker": {
          "color": "#EF553B"
         },
         "name": "p0",
         "offsetgroup": "p0",
         "orientation": "v",
         "showlegend": true,
         "textposition": "auto",
         "type": "bar",
         "x": [
          "Cortical Layers",
          "Cortical Layers",
          "Cortical Layers",
          "Cortical Layers",
          "Cortical Layers",
          "Cortical Layers",
          "Proliferative",
          "Proliferative",
          "Inhibitory",
          "Inhibitory",
          "Inhibitory",
          "Inhibitory",
          "Midbrain",
          "Midbrain",
          "Non-Neuronal",
          "Non-Neuronal",
          "Non-Neuronal",
          "Non-Neuronal",
          "Non-Neuronal",
          "Non-Neuronal",
          "Non-Neuronal",
          "Non-Neuronal"
         ],
         "xaxis": "x",
         "y": [
          -0.060587172,
          -0.053296800000000005,
          -0.011128143,
          -0.015901945,
          0.049780915999999995,
          0.129189029,
          -0.09089812,
          -3.54e-06,
          -0.055491967999999996,
          0.057162320999999995,
          -0.095149049,
          0.073766575,
          0.027200405,
          0.009913432,
          -0.04677294,
          -0.016751734,
          0.062491668,
          0.041792561,
          -0.040309154,
          -0.116139602,
          0.331144434,
          0.377568151
         ],
         "yaxis": "y"
        }
       ],
       "layout": {
        "barmode": "group",
        "legend": {
         "title": {
          "text": "Age"
         },
         "tracegroupgap": 0
        },
        "margin": {
         "t": 60
        },
        "template": {
         "data": {
          "bar": [
           {
            "error_x": {
             "color": "#2a3f5f"
            },
            "error_y": {
             "color": "#2a3f5f"
            },
            "marker": {
             "line": {
              "color": "#E5ECF6",
              "width": 0.5
             }
            },
            "type": "bar"
           }
          ],
          "barpolar": [
           {
            "marker": {
             "line": {
              "color": "#E5ECF6",
              "width": 0.5
             }
            },
            "type": "barpolar"
           }
          ],
          "carpet": [
           {
            "aaxis": {
             "endlinecolor": "#2a3f5f",
             "gridcolor": "white",
             "linecolor": "white",
             "minorgridcolor": "white",
             "startlinecolor": "#2a3f5f"
            },
            "baxis": {
             "endlinecolor": "#2a3f5f",
             "gridcolor": "white",
             "linecolor": "white",
             "minorgridcolor": "white",
             "startlinecolor": "#2a3f5f"
            },
            "type": "carpet"
           }
          ],
          "choropleth": [
           {
            "colorbar": {
             "outlinewidth": 0,
             "ticks": ""
            },
            "type": "choropleth"
           }
          ],
          "contour": [
           {
            "colorbar": {
             "outlinewidth": 0,
             "ticks": ""
            },
            "colorscale": [
             [
              0,
              "#0d0887"
             ],
             [
              0.1111111111111111,
              "#46039f"
             ],
             [
              0.2222222222222222,
              "#7201a8"
             ],
             [
              0.3333333333333333,
              "#9c179e"
             ],
             [
              0.4444444444444444,
              "#bd3786"
             ],
             [
              0.5555555555555556,
              "#d8576b"
             ],
             [
              0.6666666666666666,
              "#ed7953"
             ],
             [
              0.7777777777777778,
              "#fb9f3a"
             ],
             [
              0.8888888888888888,
              "#fdca26"
             ],
             [
              1,
              "#f0f921"
             ]
            ],
            "type": "contour"
           }
          ],
          "contourcarpet": [
           {
            "colorbar": {
             "outlinewidth": 0,
             "ticks": ""
            },
            "type": "contourcarpet"
           }
          ],
          "heatmap": [
           {
            "colorbar": {
             "outlinewidth": 0,
             "ticks": ""
            },
            "colorscale": [
             [
              0,
              "#0d0887"
             ],
             [
              0.1111111111111111,
              "#46039f"
             ],
             [
              0.2222222222222222,
              "#7201a8"
             ],
             [
              0.3333333333333333,
              "#9c179e"
             ],
             [
              0.4444444444444444,
              "#bd3786"
             ],
             [
              0.5555555555555556,
              "#d8576b"
             ],
             [
              0.6666666666666666,
              "#ed7953"
             ],
             [
              0.7777777777777778,
              "#fb9f3a"
             ],
             [
              0.8888888888888888,
              "#fdca26"
             ],
             [
              1,
              "#f0f921"
             ]
            ],
            "type": "heatmap"
           }
          ],
          "heatmapgl": [
           {
            "colorbar": {
             "outlinewidth": 0,
             "ticks": ""
            },
            "colorscale": [
             [
              0,
              "#0d0887"
             ],
             [
              0.1111111111111111,
              "#46039f"
             ],
             [
              0.2222222222222222,
              "#7201a8"
             ],
             [
              0.3333333333333333,
              "#9c179e"
             ],
             [
              0.4444444444444444,
              "#bd3786"
             ],
             [
              0.5555555555555556,
              "#d8576b"
             ],
             [
              0.6666666666666666,
              "#ed7953"
             ],
             [
              0.7777777777777778,
              "#fb9f3a"
             ],
             [
              0.8888888888888888,
              "#fdca26"
             ],
             [
              1,
              "#f0f921"
             ]
            ],
            "type": "heatmapgl"
           }
          ],
          "histogram": [
           {
            "marker": {
             "colorbar": {
              "outlinewidth": 0,
              "ticks": ""
             }
            },
            "type": "histogram"
           }
          ],
          "histogram2d": [
           {
            "colorbar": {
             "outlinewidth": 0,
             "ticks": ""
            },
            "colorscale": [
             [
              0,
              "#0d0887"
             ],
             [
              0.1111111111111111,
              "#46039f"
             ],
             [
              0.2222222222222222,
              "#7201a8"
             ],
             [
              0.3333333333333333,
              "#9c179e"
             ],
             [
              0.4444444444444444,
              "#bd3786"
             ],
             [
              0.5555555555555556,
              "#d8576b"
             ],
             [
              0.6666666666666666,
              "#ed7953"
             ],
             [
              0.7777777777777778,
              "#fb9f3a"
             ],
             [
              0.8888888888888888,
              "#fdca26"
             ],
             [
              1,
              "#f0f921"
             ]
            ],
            "type": "histogram2d"
           }
          ],
          "histogram2dcontour": [
           {
            "colorbar": {
             "outlinewidth": 0,
             "ticks": ""
            },
            "colorscale": [
             [
              0,
              "#0d0887"
             ],
             [
              0.1111111111111111,
              "#46039f"
             ],
             [
              0.2222222222222222,
              "#7201a8"
             ],
             [
              0.3333333333333333,
              "#9c179e"
             ],
             [
              0.4444444444444444,
              "#bd3786"
             ],
             [
              0.5555555555555556,
              "#d8576b"
             ],
             [
              0.6666666666666666,
              "#ed7953"
             ],
             [
              0.7777777777777778,
              "#fb9f3a"
             ],
             [
              0.8888888888888888,
              "#fdca26"
             ],
             [
              1,
              "#f0f921"
             ]
            ],
            "type": "histogram2dcontour"
           }
          ],
          "mesh3d": [
           {
            "colorbar": {
             "outlinewidth": 0,
             "ticks": ""
            },
            "type": "mesh3d"
           }
          ],
          "parcoords": [
           {
            "line": {
             "colorbar": {
              "outlinewidth": 0,
              "ticks": ""
             }
            },
            "type": "parcoords"
           }
          ],
          "pie": [
           {
            "automargin": true,
            "type": "pie"
           }
          ],
          "scatter": [
           {
            "marker": {
             "colorbar": {
              "outlinewidth": 0,
              "ticks": ""
             }
            },
            "type": "scatter"
           }
          ],
          "scatter3d": [
           {
            "line": {
             "colorbar": {
              "outlinewidth": 0,
              "ticks": ""
             }
            },
            "marker": {
             "colorbar": {
              "outlinewidth": 0,
              "ticks": ""
             }
            },
            "type": "scatter3d"
           }
          ],
          "scattercarpet": [
           {
            "marker": {
             "colorbar": {
              "outlinewidth": 0,
              "ticks": ""
             }
            },
            "type": "scattercarpet"
           }
          ],
          "scattergeo": [
           {
            "marker": {
             "colorbar": {
              "outlinewidth": 0,
              "ticks": ""
             }
            },
            "type": "scattergeo"
           }
          ],
          "scattergl": [
           {
            "marker": {
             "colorbar": {
              "outlinewidth": 0,
              "ticks": ""
             }
            },
            "type": "scattergl"
           }
          ],
          "scattermapbox": [
           {
            "marker": {
             "colorbar": {
              "outlinewidth": 0,
              "ticks": ""
             }
            },
            "type": "scattermapbox"
           }
          ],
          "scatterpolar": [
           {
            "marker": {
             "colorbar": {
              "outlinewidth": 0,
              "ticks": ""
             }
            },
            "type": "scatterpolar"
           }
          ],
          "scatterpolargl": [
           {
            "marker": {
             "colorbar": {
              "outlinewidth": 0,
              "ticks": ""
             }
            },
            "type": "scatterpolargl"
           }
          ],
          "scatterternary": [
           {
            "marker": {
             "colorbar": {
              "outlinewidth": 0,
              "ticks": ""
             }
            },
            "type": "scatterternary"
           }
          ],
          "surface": [
           {
            "colorbar": {
             "outlinewidth": 0,
             "ticks": ""
            },
            "colorscale": [
             [
              0,
              "#0d0887"
             ],
             [
              0.1111111111111111,
              "#46039f"
             ],
             [
              0.2222222222222222,
              "#7201a8"
             ],
             [
              0.3333333333333333,
              "#9c179e"
             ],
             [
              0.4444444444444444,
              "#bd3786"
             ],
             [
              0.5555555555555556,
              "#d8576b"
             ],
             [
              0.6666666666666666,
              "#ed7953"
             ],
             [
              0.7777777777777778,
              "#fb9f3a"
             ],
             [
              0.8888888888888888,
              "#fdca26"
             ],
             [
              1,
              "#f0f921"
             ]
            ],
            "type": "surface"
           }
          ],
          "table": [
           {
            "cells": {
             "fill": {
              "color": "#EBF0F8"
             },
             "line": {
              "color": "white"
             }
            },
            "header": {
             "fill": {
              "color": "#C8D4E3"
             },
             "line": {
              "color": "white"
             }
            },
            "type": "table"
           }
          ]
         },
         "layout": {
          "annotationdefaults": {
           "arrowcolor": "#2a3f5f",
           "arrowhead": 0,
           "arrowwidth": 1
          },
          "coloraxis": {
           "colorbar": {
            "outlinewidth": 0,
            "ticks": ""
           }
          },
          "colorscale": {
           "diverging": [
            [
             0,
             "#8e0152"
            ],
            [
             0.1,
             "#c51b7d"
            ],
            [
             0.2,
             "#de77ae"
            ],
            [
             0.3,
             "#f1b6da"
            ],
            [
             0.4,
             "#fde0ef"
            ],
            [
             0.5,
             "#f7f7f7"
            ],
            [
             0.6,
             "#e6f5d0"
            ],
            [
             0.7,
             "#b8e186"
            ],
            [
             0.8,
             "#7fbc41"
            ],
            [
             0.9,
             "#4d9221"
            ],
            [
             1,
             "#276419"
            ]
           ],
           "sequential": [
            [
             0,
             "#0d0887"
            ],
            [
             0.1111111111111111,
             "#46039f"
            ],
            [
             0.2222222222222222,
             "#7201a8"
            ],
            [
             0.3333333333333333,
             "#9c179e"
            ],
            [
             0.4444444444444444,
             "#bd3786"
            ],
            [
             0.5555555555555556,
             "#d8576b"
            ],
            [
             0.6666666666666666,
             "#ed7953"
            ],
            [
             0.7777777777777778,
             "#fb9f3a"
            ],
            [
             0.8888888888888888,
             "#fdca26"
            ],
            [
             1,
             "#f0f921"
            ]
           ],
           "sequentialminus": [
            [
             0,
             "#0d0887"
            ],
            [
             0.1111111111111111,
             "#46039f"
            ],
            [
             0.2222222222222222,
             "#7201a8"
            ],
            [
             0.3333333333333333,
             "#9c179e"
            ],
            [
             0.4444444444444444,
             "#bd3786"
            ],
            [
             0.5555555555555556,
             "#d8576b"
            ],
            [
             0.6666666666666666,
             "#ed7953"
            ],
            [
             0.7777777777777778,
             "#fb9f3a"
            ],
            [
             0.8888888888888888,
             "#fdca26"
            ],
            [
             1,
             "#f0f921"
            ]
           ]
          },
          "colorway": [
           "#636efa",
           "#EF553B",
           "#00cc96",
           "#ab63fa",
           "#FFA15A",
           "#19d3f3",
           "#FF6692",
           "#B6E880",
           "#FF97FF",
           "#FECB52"
          ],
          "font": {
           "color": "#2a3f5f"
          },
          "geo": {
           "bgcolor": "white",
           "lakecolor": "white",
           "landcolor": "#E5ECF6",
           "showlakes": true,
           "showland": true,
           "subunitcolor": "white"
          },
          "hoverlabel": {
           "align": "left"
          },
          "hovermode": "closest",
          "mapbox": {
           "style": "light"
          },
          "paper_bgcolor": "white",
          "plot_bgcolor": "#E5ECF6",
          "polar": {
           "angularaxis": {
            "gridcolor": "white",
            "linecolor": "white",
            "ticks": ""
           },
           "bgcolor": "#E5ECF6",
           "radialaxis": {
            "gridcolor": "white",
            "linecolor": "white",
            "ticks": ""
           }
          },
          "scene": {
           "xaxis": {
            "backgroundcolor": "#E5ECF6",
            "gridcolor": "white",
            "gridwidth": 2,
            "linecolor": "white",
            "showbackground": true,
            "ticks": "",
            "zerolinecolor": "white"
           },
           "yaxis": {
            "backgroundcolor": "#E5ECF6",
            "gridcolor": "white",
            "gridwidth": 2,
            "linecolor": "white",
            "showbackground": true,
            "ticks": "",
            "zerolinecolor": "white"
           },
           "zaxis": {
            "backgroundcolor": "#E5ECF6",
            "gridcolor": "white",
            "gridwidth": 2,
            "linecolor": "white",
            "showbackground": true,
            "ticks": "",
            "zerolinecolor": "white"
           }
          },
          "shapedefaults": {
           "line": {
            "color": "#2a3f5f"
           }
          },
          "ternary": {
           "aaxis": {
            "gridcolor": "white",
            "linecolor": "white",
            "ticks": ""
           },
           "baxis": {
            "gridcolor": "white",
            "linecolor": "white",
            "ticks": ""
           },
           "bgcolor": "#E5ECF6",
           "caxis": {
            "gridcolor": "white",
            "linecolor": "white",
            "ticks": ""
           }
          },
          "title": {
           "x": 0.05
          },
          "xaxis": {
           "automargin": true,
           "gridcolor": "white",
           "linecolor": "white",
           "ticks": "",
           "title": {
            "standoff": 15
           },
           "zerolinecolor": "white",
           "zerolinewidth": 2
          },
          "yaxis": {
           "automargin": true,
           "gridcolor": "white",
           "linecolor": "white",
           "ticks": "",
           "title": {
            "standoff": 15
           },
           "zerolinecolor": "white",
           "zerolinewidth": 2
          }
         }
        },
        "xaxis": {
         "anchor": "y",
         "domain": [
          0,
          1
         ],
         "title": {
          "text": "Category"
         }
        },
        "yaxis": {
         "anchor": "x",
         "domain": [
          0,
          1
         ],
         "title": {
          "text": "Expression"
         }
        }
       }
      },
      "text/html": [
       "<div>\n",
       "        \n",
       "        \n",
       "            <div id=\"43495a02-4b57-407d-bba7-a012b9b7b57f\" class=\"plotly-graph-div\" style=\"height:525px; width:100%;\"></div>\n",
       "            <script type=\"text/javascript\">\n",
       "                require([\"plotly\"], function(Plotly) {\n",
       "                    window.PLOTLYENV=window.PLOTLYENV || {};\n",
       "                    \n",
       "                if (document.getElementById(\"43495a02-4b57-407d-bba7-a012b9b7b57f\")) {\n",
       "                    Plotly.newPlot(\n",
       "                        '43495a02-4b57-407d-bba7-a012b9b7b57f',\n",
       "                        [{\"alignmentgroup\": \"True\", \"customdata\": [[\"e14.5\", \"Layer I [17-E]\"], [\"e14.5\", \"Layer V-VI [2-E]\"], [\"e14.5\", \"Layer V-VI [3-E]\"], [\"e14.5\", \"Layer V-VI [5-E]\"], [\"e14.5\", \"Layer V-VI [13-E]\"], [\"e14.5\", \"Layer V-VI [7-E]\"], [\"e14.5\", \"SVZ1 (migrating) [4-E]\"], [\"e14.5\", \"Int1 [1-E]\"], [\"e14.5\", \"Int2 [12-E]\"], [\"e14.5\", \"Thalamic [19-E]\"], [\"e14.5\", \"Striatal inh1 [16-E]\"], [\"e14.5\", \"Striatal inh2 [9-E]\"], [\"e14.5\", \"Ganglionic eminences [6-E]\"], [\"e14.5\", \"SVZ3 (proliferating) [15-E]\"], [\"e14.5\", \"SVZ2 (VZ-SVZ) [11-E]\"], [\"e14.5\", \"RG2 [14-E]\"], [\"e14.5\", \"RG3 (cortical hem) [21-E]\"], [\"e14.5\", \"RG1 [8-E]\"], [\"e14.5\", \"RG4 [10-E]\"], [\"e14.5\", \"Choroid plexus [22-E]\"], [\"e14.5\", \"Microglia [20-E]\"], [\"e14.5\", \"Endothelial [18-E]\"]], \"hovertemplate\": \"<b>%{hovertext}</b><br><br>Age=%{customdata[0]}<br>Category=%{x}<br>Expression=%{y}<br>Cluster=%{customdata[1]}<extra></extra>\", \"hovertext\": [\"Layer I \", \"Layer V-VI \", \"Layer V-VI \", \"Layer V-VI \", \"Layer V-VI \", \"Layer V-VI \", \"SVZ1 (migrating) \", \"Int1 \", \"Int2 \", \"Thalamic \", \"Striatal inh1 \", \"Striatal inh2 \", \"Ganglionic eminences \", \"SVZ3 (proliferating) \", \"SVZ2 (VZ-SVZ) \", \"RG2 \", \"RG3 (cortical hem) \", \"RG1 \", \"RG4 \", \"Choroid plexus \", \"Microglia \", \"Endothelial \"], \"legendgroup\": \"e14.5\", \"marker\": {\"color\": \"#636efa\"}, \"name\": \"e14.5\", \"offsetgroup\": \"e14.5\", \"orientation\": \"v\", \"showlegend\": true, \"textposition\": \"auto\", \"type\": \"bar\", \"x\": [\"Cortical Layers\", \"Cortical Layers\", \"Cortical Layers\", \"Cortical Layers\", \"Cortical Layers\", \"Cortical Layers\", \"Proliferative\", \"Inhibitory\", \"Inhibitory\", \"Midbrain\", \"Midbrain\", \"Midbrain\", \"Non-Neuronal\", \"Proliferative\", \"Proliferative\", \"Proliferative\", \"Proliferative\", \"Proliferative\", \"Proliferative\", \"Non-Neuronal\", \"Non-Neuronal\", \"Non-Neuronal\"], \"xaxis\": \"x\", \"y\": [0.035783348, 0.003438035, 0.034018797999999996, 0.085107604, 0.030869591000000002, 0.08179170599999999, 0.08198662599999999, -0.119255049, 0.074230353, -0.018170602, -0.05996990000000001, -0.10006749699999999, -0.079695693, 0.0013201920000000002, -0.056915783, 0.007653448, -0.148772245, -0.004143455999999999, -0.010726578999999998, -0.017539161, -0.017471371, 0.267331428], \"yaxis\": \"y\"}, {\"alignmentgroup\": \"True\", \"customdata\": [[\"p0\", \"Layer I [19-P]\"], [\"p0\", \"Layer II-IV [15-P]\"], [\"p0\", \"Layer II-IV [1-P]\"], [\"p0\", \"Layer II-IV [4-P]\"], [\"p0\", \"Layer V-VI [18-P]\"], [\"p0\", \"Layer V-VI [12-P]\"], [\"p0\", \"SVZ1 (migrating) [2-P]\"], [\"p0\", \"SVZ2 (migrating) [8-P]\"], [\"p0\", \"Int1 [5-P]\"], [\"p0\", \"Int3 [11-P]\"], [\"p0\", \"Int4 [6-P]\"], [\"p0\", \"Int2 [14-P]\"], [\"p0\", \"Striatal inh1 [3-P]\"], [\"p0\", \"Striatal inh2 [7-P]\"], [\"p0\", \"Ganglionic eminences [9-P]\"], [\"p0\", \"Astrocytes (immature) 1 [10-P]\"], [\"p0\", \"Astrocytes (immature) 2 [13-P]\"], [\"p0\", \"Oligodendrocytes [16-P]\"], [\"p0\", \"Choroid plexus [20-P]\"], [\"p0\", \"Microglia [22-P]\"], [\"p0\", \"Endothelial2 [21-P]\"], [\"p0\", \"Endothelial1 [17-P]\"]], \"hovertemplate\": \"<b>%{hovertext}</b><br><br>Age=%{customdata[0]}<br>Category=%{x}<br>Expression=%{y}<br>Cluster=%{customdata[1]}<extra></extra>\", \"hovertext\": [\"Layer I \", \"Layer II-IV \", \"Layer II-IV \", \"Layer II-IV \", \"Layer V-VI \", \"Layer V-VI \", \"SVZ1 (migrating) \", \"SVZ2 (migrating) \", \"Int1 \", \"Int3 \", \"Int4 \", \"Int2 \", \"Striatal inh1 \", \"Striatal inh2 \", \"Ganglionic eminences \", \"Astrocytes (immature) 1 \", \"Astrocytes (immature) 2 \", \"Oligodendrocytes \", \"Choroid plexus \", \"Microglia \", \"Endothelial2 \", \"Endothelial1 \"], \"legendgroup\": \"p0\", \"marker\": {\"color\": \"#EF553B\"}, \"name\": \"p0\", \"offsetgroup\": \"p0\", \"orientation\": \"v\", \"showlegend\": true, \"textposition\": \"auto\", \"type\": \"bar\", \"x\": [\"Cortical Layers\", \"Cortical Layers\", \"Cortical Layers\", \"Cortical Layers\", \"Cortical Layers\", \"Cortical Layers\", \"Proliferative\", \"Proliferative\", \"Inhibitory\", \"Inhibitory\", \"Inhibitory\", \"Inhibitory\", \"Midbrain\", \"Midbrain\", \"Non-Neuronal\", \"Non-Neuronal\", \"Non-Neuronal\", \"Non-Neuronal\", \"Non-Neuronal\", \"Non-Neuronal\", \"Non-Neuronal\", \"Non-Neuronal\"], \"xaxis\": \"x\", \"y\": [-0.060587172, -0.053296800000000005, -0.011128143, -0.015901945, 0.049780915999999995, 0.129189029, -0.09089812, -3.54e-06, -0.055491967999999996, 0.057162320999999995, -0.095149049, 0.073766575, 0.027200405, 0.009913432, -0.04677294, -0.016751734, 0.062491668, 0.041792561, -0.040309154, -0.116139602, 0.331144434, 0.377568151], \"yaxis\": \"y\"}],\n",
       "                        {\"barmode\": \"group\", \"legend\": {\"title\": {\"text\": \"Age\"}, \"tracegroupgap\": 0}, \"margin\": {\"t\": 60}, \"template\": {\"data\": {\"bar\": [{\"error_x\": {\"color\": \"#2a3f5f\"}, \"error_y\": {\"color\": \"#2a3f5f\"}, \"marker\": {\"line\": {\"color\": \"#E5ECF6\", \"width\": 0.5}}, \"type\": \"bar\"}], \"barpolar\": [{\"marker\": {\"line\": {\"color\": \"#E5ECF6\", \"width\": 0.5}}, \"type\": \"barpolar\"}], \"carpet\": [{\"aaxis\": {\"endlinecolor\": \"#2a3f5f\", \"gridcolor\": \"white\", \"linecolor\": \"white\", \"minorgridcolor\": \"white\", \"startlinecolor\": \"#2a3f5f\"}, \"baxis\": {\"endlinecolor\": \"#2a3f5f\", \"gridcolor\": \"white\", \"linecolor\": \"white\", \"minorgridcolor\": \"white\", \"startlinecolor\": \"#2a3f5f\"}, \"type\": \"carpet\"}], \"choropleth\": [{\"colorbar\": {\"outlinewidth\": 0, \"ticks\": \"\"}, \"type\": \"choropleth\"}], \"contour\": [{\"colorbar\": {\"outlinewidth\": 0, \"ticks\": \"\"}, \"colorscale\": [[0.0, \"#0d0887\"], [0.1111111111111111, \"#46039f\"], [0.2222222222222222, \"#7201a8\"], [0.3333333333333333, \"#9c179e\"], [0.4444444444444444, \"#bd3786\"], [0.5555555555555556, \"#d8576b\"], [0.6666666666666666, \"#ed7953\"], [0.7777777777777778, \"#fb9f3a\"], [0.8888888888888888, \"#fdca26\"], [1.0, \"#f0f921\"]], \"type\": \"contour\"}], \"contourcarpet\": [{\"colorbar\": {\"outlinewidth\": 0, \"ticks\": \"\"}, \"type\": \"contourcarpet\"}], \"heatmap\": [{\"colorbar\": {\"outlinewidth\": 0, \"ticks\": \"\"}, \"colorscale\": [[0.0, \"#0d0887\"], [0.1111111111111111, \"#46039f\"], [0.2222222222222222, \"#7201a8\"], [0.3333333333333333, \"#9c179e\"], [0.4444444444444444, \"#bd3786\"], [0.5555555555555556, \"#d8576b\"], [0.6666666666666666, \"#ed7953\"], [0.7777777777777778, \"#fb9f3a\"], [0.8888888888888888, \"#fdca26\"], [1.0, \"#f0f921\"]], \"type\": \"heatmap\"}], \"heatmapgl\": [{\"colorbar\": {\"outlinewidth\": 0, \"ticks\": \"\"}, \"colorscale\": [[0.0, \"#0d0887\"], [0.1111111111111111, \"#46039f\"], [0.2222222222222222, \"#7201a8\"], [0.3333333333333333, \"#9c179e\"], [0.4444444444444444, \"#bd3786\"], [0.5555555555555556, \"#d8576b\"], [0.6666666666666666, \"#ed7953\"], [0.7777777777777778, \"#fb9f3a\"], [0.8888888888888888, \"#fdca26\"], [1.0, \"#f0f921\"]], \"type\": \"heatmapgl\"}], \"histogram\": [{\"marker\": {\"colorbar\": {\"outlinewidth\": 0, \"ticks\": \"\"}}, \"type\": \"histogram\"}], \"histogram2d\": [{\"colorbar\": {\"outlinewidth\": 0, \"ticks\": \"\"}, \"colorscale\": [[0.0, \"#0d0887\"], [0.1111111111111111, \"#46039f\"], [0.2222222222222222, \"#7201a8\"], [0.3333333333333333, \"#9c179e\"], [0.4444444444444444, \"#bd3786\"], [0.5555555555555556, \"#d8576b\"], [0.6666666666666666, \"#ed7953\"], [0.7777777777777778, \"#fb9f3a\"], [0.8888888888888888, \"#fdca26\"], [1.0, \"#f0f921\"]], \"type\": \"histogram2d\"}], \"histogram2dcontour\": [{\"colorbar\": {\"outlinewidth\": 0, \"ticks\": \"\"}, \"colorscale\": [[0.0, \"#0d0887\"], [0.1111111111111111, \"#46039f\"], [0.2222222222222222, \"#7201a8\"], [0.3333333333333333, \"#9c179e\"], [0.4444444444444444, \"#bd3786\"], [0.5555555555555556, \"#d8576b\"], [0.6666666666666666, \"#ed7953\"], [0.7777777777777778, \"#fb9f3a\"], [0.8888888888888888, \"#fdca26\"], [1.0, \"#f0f921\"]], \"type\": \"histogram2dcontour\"}], \"mesh3d\": [{\"colorbar\": {\"outlinewidth\": 0, \"ticks\": \"\"}, \"type\": \"mesh3d\"}], \"parcoords\": [{\"line\": {\"colorbar\": {\"outlinewidth\": 0, \"ticks\": \"\"}}, \"type\": \"parcoords\"}], \"pie\": [{\"automargin\": true, \"type\": \"pie\"}], \"scatter\": [{\"marker\": {\"colorbar\": {\"outlinewidth\": 0, \"ticks\": \"\"}}, \"type\": \"scatter\"}], \"scatter3d\": [{\"line\": {\"colorbar\": {\"outlinewidth\": 0, \"ticks\": \"\"}}, \"marker\": {\"colorbar\": {\"outlinewidth\": 0, \"ticks\": \"\"}}, \"type\": \"scatter3d\"}], \"scattercarpet\": [{\"marker\": {\"colorbar\": {\"outlinewidth\": 0, \"ticks\": \"\"}}, \"type\": \"scattercarpet\"}], \"scattergeo\": [{\"marker\": {\"colorbar\": {\"outlinewidth\": 0, \"ticks\": \"\"}}, \"type\": \"scattergeo\"}], \"scattergl\": [{\"marker\": {\"colorbar\": {\"outlinewidth\": 0, \"ticks\": \"\"}}, \"type\": \"scattergl\"}], \"scattermapbox\": [{\"marker\": {\"colorbar\": {\"outlinewidth\": 0, \"ticks\": \"\"}}, \"type\": \"scattermapbox\"}], \"scatterpolar\": [{\"marker\": {\"colorbar\": {\"outlinewidth\": 0, \"ticks\": \"\"}}, \"type\": \"scatterpolar\"}], \"scatterpolargl\": [{\"marker\": {\"colorbar\": {\"outlinewidth\": 0, \"ticks\": \"\"}}, \"type\": \"scatterpolargl\"}], \"scatterternary\": [{\"marker\": {\"colorbar\": {\"outlinewidth\": 0, \"ticks\": \"\"}}, \"type\": \"scatterternary\"}], \"surface\": [{\"colorbar\": {\"outlinewidth\": 0, \"ticks\": \"\"}, \"colorscale\": [[0.0, \"#0d0887\"], [0.1111111111111111, \"#46039f\"], [0.2222222222222222, \"#7201a8\"], [0.3333333333333333, \"#9c179e\"], [0.4444444444444444, \"#bd3786\"], [0.5555555555555556, \"#d8576b\"], [0.6666666666666666, \"#ed7953\"], [0.7777777777777778, \"#fb9f3a\"], [0.8888888888888888, \"#fdca26\"], [1.0, \"#f0f921\"]], \"type\": \"surface\"}], \"table\": [{\"cells\": {\"fill\": {\"color\": \"#EBF0F8\"}, \"line\": {\"color\": \"white\"}}, \"header\": {\"fill\": {\"color\": \"#C8D4E3\"}, \"line\": {\"color\": \"white\"}}, \"type\": \"table\"}]}, \"layout\": {\"annotationdefaults\": {\"arrowcolor\": \"#2a3f5f\", \"arrowhead\": 0, \"arrowwidth\": 1}, \"coloraxis\": {\"colorbar\": {\"outlinewidth\": 0, \"ticks\": \"\"}}, \"colorscale\": {\"diverging\": [[0, \"#8e0152\"], [0.1, \"#c51b7d\"], [0.2, \"#de77ae\"], [0.3, \"#f1b6da\"], [0.4, \"#fde0ef\"], [0.5, \"#f7f7f7\"], [0.6, \"#e6f5d0\"], [0.7, \"#b8e186\"], [0.8, \"#7fbc41\"], [0.9, \"#4d9221\"], [1, \"#276419\"]], \"sequential\": [[0.0, \"#0d0887\"], [0.1111111111111111, \"#46039f\"], [0.2222222222222222, \"#7201a8\"], [0.3333333333333333, \"#9c179e\"], [0.4444444444444444, \"#bd3786\"], [0.5555555555555556, \"#d8576b\"], [0.6666666666666666, \"#ed7953\"], [0.7777777777777778, \"#fb9f3a\"], [0.8888888888888888, \"#fdca26\"], [1.0, \"#f0f921\"]], \"sequentialminus\": [[0.0, \"#0d0887\"], [0.1111111111111111, \"#46039f\"], [0.2222222222222222, \"#7201a8\"], [0.3333333333333333, \"#9c179e\"], [0.4444444444444444, \"#bd3786\"], [0.5555555555555556, \"#d8576b\"], [0.6666666666666666, \"#ed7953\"], [0.7777777777777778, \"#fb9f3a\"], [0.8888888888888888, \"#fdca26\"], [1.0, \"#f0f921\"]]}, \"colorway\": [\"#636efa\", \"#EF553B\", \"#00cc96\", \"#ab63fa\", \"#FFA15A\", \"#19d3f3\", \"#FF6692\", \"#B6E880\", \"#FF97FF\", \"#FECB52\"], \"font\": {\"color\": \"#2a3f5f\"}, \"geo\": {\"bgcolor\": \"white\", \"lakecolor\": \"white\", \"landcolor\": \"#E5ECF6\", \"showlakes\": true, \"showland\": true, \"subunitcolor\": \"white\"}, \"hoverlabel\": {\"align\": \"left\"}, \"hovermode\": \"closest\", \"mapbox\": {\"style\": \"light\"}, \"paper_bgcolor\": \"white\", \"plot_bgcolor\": \"#E5ECF6\", \"polar\": {\"angularaxis\": {\"gridcolor\": \"white\", \"linecolor\": \"white\", \"ticks\": \"\"}, \"bgcolor\": \"#E5ECF6\", \"radialaxis\": {\"gridcolor\": \"white\", \"linecolor\": \"white\", \"ticks\": \"\"}}, \"scene\": {\"xaxis\": {\"backgroundcolor\": \"#E5ECF6\", \"gridcolor\": \"white\", \"gridwidth\": 2, \"linecolor\": \"white\", \"showbackground\": true, \"ticks\": \"\", \"zerolinecolor\": \"white\"}, \"yaxis\": {\"backgroundcolor\": \"#E5ECF6\", \"gridcolor\": \"white\", \"gridwidth\": 2, \"linecolor\": \"white\", \"showbackground\": true, \"ticks\": \"\", \"zerolinecolor\": \"white\"}, \"zaxis\": {\"backgroundcolor\": \"#E5ECF6\", \"gridcolor\": \"white\", \"gridwidth\": 2, \"linecolor\": \"white\", \"showbackground\": true, \"ticks\": \"\", \"zerolinecolor\": \"white\"}}, \"shapedefaults\": {\"line\": {\"color\": \"#2a3f5f\"}}, \"ternary\": {\"aaxis\": {\"gridcolor\": \"white\", \"linecolor\": \"white\", \"ticks\": \"\"}, \"baxis\": {\"gridcolor\": \"white\", \"linecolor\": \"white\", \"ticks\": \"\"}, \"bgcolor\": \"#E5ECF6\", \"caxis\": {\"gridcolor\": \"white\", \"linecolor\": \"white\", \"ticks\": \"\"}}, \"title\": {\"x\": 0.05}, \"xaxis\": {\"automargin\": true, \"gridcolor\": \"white\", \"linecolor\": \"white\", \"ticks\": \"\", \"title\": {\"standoff\": 15}, \"zerolinecolor\": \"white\", \"zerolinewidth\": 2}, \"yaxis\": {\"automargin\": true, \"gridcolor\": \"white\", \"linecolor\": \"white\", \"ticks\": \"\", \"title\": {\"standoff\": 15}, \"zerolinecolor\": \"white\", \"zerolinewidth\": 2}}}, \"xaxis\": {\"anchor\": \"y\", \"domain\": [0.0, 1.0], \"title\": {\"text\": \"Category\"}}, \"yaxis\": {\"anchor\": \"x\", \"domain\": [0.0, 1.0], \"title\": {\"text\": \"Expression\"}}},\n",
       "                        {\"responsive\": true}\n",
       "                    ).then(function(){\n",
       "                            \n",
       "var gd = document.getElementById('43495a02-4b57-407d-bba7-a012b9b7b57f');\n",
       "var x = new MutationObserver(function (mutations, observer) {{\n",
       "        var display = window.getComputedStyle(gd).display;\n",
       "        if (!display || display === 'none') {{\n",
       "            console.log([gd, 'removed!']);\n",
       "            Plotly.purge(gd);\n",
       "            observer.disconnect();\n",
       "        }}\n",
       "}});\n",
       "\n",
       "// Listen for the removal of the full notebook cells\n",
       "var notebookContainer = gd.closest('#notebook-container');\n",
       "if (notebookContainer) {{\n",
       "    x.observe(notebookContainer, {childList: true});\n",
       "}}\n",
       "\n",
       "// Listen for the clearing of the current output cell\n",
       "var outputEl = gd.closest('.output');\n",
       "if (outputEl) {{\n",
       "    x.observe(outputEl, {childList: true});\n",
       "}}\n",
       "\n",
       "                        })\n",
       "                };\n",
       "                });\n",
       "            </script>\n",
       "        </div>"
      ]
     },
     "metadata": {},
     "output_type": "display_data"
    },
    {
     "data": {
      "application/vnd.plotly.v1+json": {
       "config": {
        "plotlyServerURL": "https://plot.ly"
       },
       "data": [
        {
         "cells": {
          "align": "left",
          "fill": {
           "color": "lavender"
          },
          "values": [
           [
            "Rapgef2",
            "Rapgef2",
            "Rapgef2",
            "Rapgef2",
            "Rapgef2",
            "Rapgef2",
            "Rapgef2",
            "Rapgef2",
            "Rapgef2",
            "Rapgef2",
            "Rapgef2",
            "Rapgef2",
            "Rapgef2",
            "Rapgef2",
            "Rapgef2",
            "Rapgef2",
            "Rapgef2",
            "Rapgef2",
            "Rapgef2",
            "Rapgef2",
            "Rapgef2",
            "Rapgef2",
            "Rapgef2",
            "Rapgef2",
            "Rapgef2",
            "Rapgef2",
            "Rapgef2",
            "Rapgef2",
            "Rapgef2",
            "Rapgef2",
            "Rapgef2",
            "Rapgef2",
            "Rapgef2",
            "Rapgef2",
            "Rapgef2",
            "Rapgef2",
            "Rapgef2",
            "Rapgef2",
            "Rapgef2",
            "Rapgef2",
            "Rapgef2",
            "Rapgef2",
            "Rapgef2",
            "Rapgef2"
           ],
           [
            "Layer I [17-E]",
            "Layer I [19-P]",
            "Layer II-IV [15-P]",
            "Layer II-IV [1-P]",
            "Layer II-IV [4-P]",
            "Layer V-VI [2-E]",
            "Layer V-VI [3-E]",
            "Layer V-VI [5-E]",
            "Layer V-VI [13-E]",
            "Layer V-VI [18-P]",
            "Layer V-VI [7-E]",
            "Layer V-VI [12-P]",
            "SVZ1 (migrating) [4-E]",
            "SVZ1 (migrating) [2-P]",
            "SVZ2 (migrating) [8-P]",
            "Int1 [1-E]",
            "Int2 [12-E]",
            "Int1 [5-P]",
            "Int3 [11-P]",
            "Int4 [6-P]",
            "Int2 [14-P]",
            "Thalamic [19-E]",
            "Striatal inh1 [16-E]",
            "Striatal inh2 [9-E]",
            "Striatal inh1 [3-P]",
            "Striatal inh2 [7-P]",
            "Ganglionic eminences [6-E]",
            "Ganglionic eminences [9-P]",
            "SVZ3 (proliferating) [15-E]",
            "SVZ2 (VZ-SVZ) [11-E]",
            "RG2 [14-E]",
            "RG3 (cortical hem) [21-E]",
            "RG1 [8-E]",
            "RG4 [10-E]",
            "Astrocytes (immature) 1 [10-P]",
            "Astrocytes (immature) 2 [13-P]",
            "Oligodendrocytes [16-P]",
            "Choroid plexus [22-E]",
            "Choroid plexus [20-P]",
            "Microglia [20-E]",
            "Microglia [22-P]",
            "Endothelial [18-E]",
            "Endothelial2 [21-P]",
            "Endothelial1 [17-P]"
           ],
           [
            0.035783348,
            -0.060587172,
            -0.053296800000000005,
            -0.011128143,
            -0.015901945,
            0.003438035,
            0.034018797999999996,
            0.085107604,
            0.030869591000000002,
            0.049780915999999995,
            0.08179170599999999,
            0.129189029,
            0.08198662599999999,
            -0.09089812,
            -3.54e-06,
            -0.119255049,
            0.074230353,
            -0.055491967999999996,
            0.057162320999999995,
            -0.095149049,
            0.073766575,
            -0.018170602,
            -0.05996990000000001,
            -0.10006749699999999,
            0.027200405,
            0.009913432,
            -0.079695693,
            -0.04677294,
            0.0013201920000000002,
            -0.056915783,
            0.007653448,
            -0.148772245,
            -0.004143455999999999,
            -0.010726578999999998,
            -0.016751734,
            0.062491668,
            0.041792561,
            -0.017539161,
            -0.040309154,
            -0.017471371,
            -0.116139602,
            0.267331428,
            0.331144434,
            0.377568151
           ],
           [
            "Layer I ",
            "Layer I ",
            "Layer II-IV ",
            "Layer II-IV ",
            "Layer II-IV ",
            "Layer V-VI ",
            "Layer V-VI ",
            "Layer V-VI ",
            "Layer V-VI ",
            "Layer V-VI ",
            "Layer V-VI ",
            "Layer V-VI ",
            "SVZ1 (migrating) ",
            "SVZ1 (migrating) ",
            "SVZ2 (migrating) ",
            "Int1 ",
            "Int2 ",
            "Int1 ",
            "Int3 ",
            "Int4 ",
            "Int2 ",
            "Thalamic ",
            "Striatal inh1 ",
            "Striatal inh2 ",
            "Striatal inh1 ",
            "Striatal inh2 ",
            "Ganglionic eminences ",
            "Ganglionic eminences ",
            "SVZ3 (proliferating) ",
            "SVZ2 (VZ-SVZ) ",
            "RG2 ",
            "RG3 (cortical hem) ",
            "RG1 ",
            "RG4 ",
            "Astrocytes (immature) 1 ",
            "Astrocytes (immature) 2 ",
            "Oligodendrocytes ",
            "Choroid plexus ",
            "Choroid plexus ",
            "Microglia ",
            "Microglia ",
            "Endothelial ",
            "Endothelial2 ",
            "Endothelial1 "
           ],
           [
            "e14.5",
            "p0",
            "p0",
            "p0",
            "p0",
            "e14.5",
            "e14.5",
            "e14.5",
            "e14.5",
            "p0",
            "e14.5",
            "p0",
            "e14.5",
            "p0",
            "p0",
            "e14.5",
            "e14.5",
            "p0",
            "p0",
            "p0",
            "p0",
            "e14.5",
            "e14.5",
            "e14.5",
            "p0",
            "p0",
            "e14.5",
            "p0",
            "e14.5",
            "e14.5",
            "e14.5",
            "e14.5",
            "e14.5",
            "e14.5",
            "p0",
            "p0",
            "p0",
            "e14.5",
            "p0",
            "e14.5",
            "p0",
            "e14.5",
            "p0",
            "p0"
           ],
           [
            "Cortical Layers",
            "Cortical Layers",
            "Cortical Layers",
            "Cortical Layers",
            "Cortical Layers",
            "Cortical Layers",
            "Cortical Layers",
            "Cortical Layers",
            "Cortical Layers",
            "Cortical Layers",
            "Cortical Layers",
            "Cortical Layers",
            "Proliferative",
            "Proliferative",
            "Proliferative",
            "Inhibitory",
            "Inhibitory",
            "Inhibitory",
            "Inhibitory",
            "Inhibitory",
            "Inhibitory",
            "Midbrain",
            "Midbrain",
            "Midbrain",
            "Midbrain",
            "Midbrain",
            "Non-Neuronal",
            "Non-Neuronal",
            "Proliferative",
            "Proliferative",
            "Proliferative",
            "Proliferative",
            "Proliferative",
            "Proliferative",
            "Non-Neuronal",
            "Non-Neuronal",
            "Non-Neuronal",
            "Non-Neuronal",
            "Non-Neuronal",
            "Non-Neuronal",
            "Non-Neuronal",
            "Non-Neuronal",
            "Non-Neuronal",
            "Non-Neuronal"
           ]
          ]
         },
         "header": {
          "align": "left",
          "fill": {
           "color": "paleturquoise"
          },
          "values": [
           "GeneID",
           "Cluster",
           "Expression",
           "Cell_Type",
           "Age",
           "Category"
          ]
         },
         "type": "table"
        }
       ],
       "layout": {
        "template": {
         "data": {
          "bar": [
           {
            "error_x": {
             "color": "#2a3f5f"
            },
            "error_y": {
             "color": "#2a3f5f"
            },
            "marker": {
             "line": {
              "color": "#E5ECF6",
              "width": 0.5
             }
            },
            "type": "bar"
           }
          ],
          "barpolar": [
           {
            "marker": {
             "line": {
              "color": "#E5ECF6",
              "width": 0.5
             }
            },
            "type": "barpolar"
           }
          ],
          "carpet": [
           {
            "aaxis": {
             "endlinecolor": "#2a3f5f",
             "gridcolor": "white",
             "linecolor": "white",
             "minorgridcolor": "white",
             "startlinecolor": "#2a3f5f"
            },
            "baxis": {
             "endlinecolor": "#2a3f5f",
             "gridcolor": "white",
             "linecolor": "white",
             "minorgridcolor": "white",
             "startlinecolor": "#2a3f5f"
            },
            "type": "carpet"
           }
          ],
          "choropleth": [
           {
            "colorbar": {
             "outlinewidth": 0,
             "ticks": ""
            },
            "type": "choropleth"
           }
          ],
          "contour": [
           {
            "colorbar": {
             "outlinewidth": 0,
             "ticks": ""
            },
            "colorscale": [
             [
              0,
              "#0d0887"
             ],
             [
              0.1111111111111111,
              "#46039f"
             ],
             [
              0.2222222222222222,
              "#7201a8"
             ],
             [
              0.3333333333333333,
              "#9c179e"
             ],
             [
              0.4444444444444444,
              "#bd3786"
             ],
             [
              0.5555555555555556,
              "#d8576b"
             ],
             [
              0.6666666666666666,
              "#ed7953"
             ],
             [
              0.7777777777777778,
              "#fb9f3a"
             ],
             [
              0.8888888888888888,
              "#fdca26"
             ],
             [
              1,
              "#f0f921"
             ]
            ],
            "type": "contour"
           }
          ],
          "contourcarpet": [
           {
            "colorbar": {
             "outlinewidth": 0,
             "ticks": ""
            },
            "type": "contourcarpet"
           }
          ],
          "heatmap": [
           {
            "colorbar": {
             "outlinewidth": 0,
             "ticks": ""
            },
            "colorscale": [
             [
              0,
              "#0d0887"
             ],
             [
              0.1111111111111111,
              "#46039f"
             ],
             [
              0.2222222222222222,
              "#7201a8"
             ],
             [
              0.3333333333333333,
              "#9c179e"
             ],
             [
              0.4444444444444444,
              "#bd3786"
             ],
             [
              0.5555555555555556,
              "#d8576b"
             ],
             [
              0.6666666666666666,
              "#ed7953"
             ],
             [
              0.7777777777777778,
              "#fb9f3a"
             ],
             [
              0.8888888888888888,
              "#fdca26"
             ],
             [
              1,
              "#f0f921"
             ]
            ],
            "type": "heatmap"
           }
          ],
          "heatmapgl": [
           {
            "colorbar": {
             "outlinewidth": 0,
             "ticks": ""
            },
            "colorscale": [
             [
              0,
              "#0d0887"
             ],
             [
              0.1111111111111111,
              "#46039f"
             ],
             [
              0.2222222222222222,
              "#7201a8"
             ],
             [
              0.3333333333333333,
              "#9c179e"
             ],
             [
              0.4444444444444444,
              "#bd3786"
             ],
             [
              0.5555555555555556,
              "#d8576b"
             ],
             [
              0.6666666666666666,
              "#ed7953"
             ],
             [
              0.7777777777777778,
              "#fb9f3a"
             ],
             [
              0.8888888888888888,
              "#fdca26"
             ],
             [
              1,
              "#f0f921"
             ]
            ],
            "type": "heatmapgl"
           }
          ],
          "histogram": [
           {
            "marker": {
             "colorbar": {
              "outlinewidth": 0,
              "ticks": ""
             }
            },
            "type": "histogram"
           }
          ],
          "histogram2d": [
           {
            "colorbar": {
             "outlinewidth": 0,
             "ticks": ""
            },
            "colorscale": [
             [
              0,
              "#0d0887"
             ],
             [
              0.1111111111111111,
              "#46039f"
             ],
             [
              0.2222222222222222,
              "#7201a8"
             ],
             [
              0.3333333333333333,
              "#9c179e"
             ],
             [
              0.4444444444444444,
              "#bd3786"
             ],
             [
              0.5555555555555556,
              "#d8576b"
             ],
             [
              0.6666666666666666,
              "#ed7953"
             ],
             [
              0.7777777777777778,
              "#fb9f3a"
             ],
             [
              0.8888888888888888,
              "#fdca26"
             ],
             [
              1,
              "#f0f921"
             ]
            ],
            "type": "histogram2d"
           }
          ],
          "histogram2dcontour": [
           {
            "colorbar": {
             "outlinewidth": 0,
             "ticks": ""
            },
            "colorscale": [
             [
              0,
              "#0d0887"
             ],
             [
              0.1111111111111111,
              "#46039f"
             ],
             [
              0.2222222222222222,
              "#7201a8"
             ],
             [
              0.3333333333333333,
              "#9c179e"
             ],
             [
              0.4444444444444444,
              "#bd3786"
             ],
             [
              0.5555555555555556,
              "#d8576b"
             ],
             [
              0.6666666666666666,
              "#ed7953"
             ],
             [
              0.7777777777777778,
              "#fb9f3a"
             ],
             [
              0.8888888888888888,
              "#fdca26"
             ],
             [
              1,
              "#f0f921"
             ]
            ],
            "type": "histogram2dcontour"
           }
          ],
          "mesh3d": [
           {
            "colorbar": {
             "outlinewidth": 0,
             "ticks": ""
            },
            "type": "mesh3d"
           }
          ],
          "parcoords": [
           {
            "line": {
             "colorbar": {
              "outlinewidth": 0,
              "ticks": ""
             }
            },
            "type": "parcoords"
           }
          ],
          "pie": [
           {
            "automargin": true,
            "type": "pie"
           }
          ],
          "scatter": [
           {
            "marker": {
             "colorbar": {
              "outlinewidth": 0,
              "ticks": ""
             }
            },
            "type": "scatter"
           }
          ],
          "scatter3d": [
           {
            "line": {
             "colorbar": {
              "outlinewidth": 0,
              "ticks": ""
             }
            },
            "marker": {
             "colorbar": {
              "outlinewidth": 0,
              "ticks": ""
             }
            },
            "type": "scatter3d"
           }
          ],
          "scattercarpet": [
           {
            "marker": {
             "colorbar": {
              "outlinewidth": 0,
              "ticks": ""
             }
            },
            "type": "scattercarpet"
           }
          ],
          "scattergeo": [
           {
            "marker": {
             "colorbar": {
              "outlinewidth": 0,
              "ticks": ""
             }
            },
            "type": "scattergeo"
           }
          ],
          "scattergl": [
           {
            "marker": {
             "colorbar": {
              "outlinewidth": 0,
              "ticks": ""
             }
            },
            "type": "scattergl"
           }
          ],
          "scattermapbox": [
           {
            "marker": {
             "colorbar": {
              "outlinewidth": 0,
              "ticks": ""
             }
            },
            "type": "scattermapbox"
           }
          ],
          "scatterpolar": [
           {
            "marker": {
             "colorbar": {
              "outlinewidth": 0,
              "ticks": ""
             }
            },
            "type": "scatterpolar"
           }
          ],
          "scatterpolargl": [
           {
            "marker": {
             "colorbar": {
              "outlinewidth": 0,
              "ticks": ""
             }
            },
            "type": "scatterpolargl"
           }
          ],
          "scatterternary": [
           {
            "marker": {
             "colorbar": {
              "outlinewidth": 0,
              "ticks": ""
             }
            },
            "type": "scatterternary"
           }
          ],
          "surface": [
           {
            "colorbar": {
             "outlinewidth": 0,
             "ticks": ""
            },
            "colorscale": [
             [
              0,
              "#0d0887"
             ],
             [
              0.1111111111111111,
              "#46039f"
             ],
             [
              0.2222222222222222,
              "#7201a8"
             ],
             [
              0.3333333333333333,
              "#9c179e"
             ],
             [
              0.4444444444444444,
              "#bd3786"
             ],
             [
              0.5555555555555556,
              "#d8576b"
             ],
             [
              0.6666666666666666,
              "#ed7953"
             ],
             [
              0.7777777777777778,
              "#fb9f3a"
             ],
             [
              0.8888888888888888,
              "#fdca26"
             ],
             [
              1,
              "#f0f921"
             ]
            ],
            "type": "surface"
           }
          ],
          "table": [
           {
            "cells": {
             "fill": {
              "color": "#EBF0F8"
             },
             "line": {
              "color": "white"
             }
            },
            "header": {
             "fill": {
              "color": "#C8D4E3"
             },
             "line": {
              "color": "white"
             }
            },
            "type": "table"
           }
          ]
         },
         "layout": {
          "annotationdefaults": {
           "arrowcolor": "#2a3f5f",
           "arrowhead": 0,
           "arrowwidth": 1
          },
          "coloraxis": {
           "colorbar": {
            "outlinewidth": 0,
            "ticks": ""
           }
          },
          "colorscale": {
           "diverging": [
            [
             0,
             "#8e0152"
            ],
            [
             0.1,
             "#c51b7d"
            ],
            [
             0.2,
             "#de77ae"
            ],
            [
             0.3,
             "#f1b6da"
            ],
            [
             0.4,
             "#fde0ef"
            ],
            [
             0.5,
             "#f7f7f7"
            ],
            [
             0.6,
             "#e6f5d0"
            ],
            [
             0.7,
             "#b8e186"
            ],
            [
             0.8,
             "#7fbc41"
            ],
            [
             0.9,
             "#4d9221"
            ],
            [
             1,
             "#276419"
            ]
           ],
           "sequential": [
            [
             0,
             "#0d0887"
            ],
            [
             0.1111111111111111,
             "#46039f"
            ],
            [
             0.2222222222222222,
             "#7201a8"
            ],
            [
             0.3333333333333333,
             "#9c179e"
            ],
            [
             0.4444444444444444,
             "#bd3786"
            ],
            [
             0.5555555555555556,
             "#d8576b"
            ],
            [
             0.6666666666666666,
             "#ed7953"
            ],
            [
             0.7777777777777778,
             "#fb9f3a"
            ],
            [
             0.8888888888888888,
             "#fdca26"
            ],
            [
             1,
             "#f0f921"
            ]
           ],
           "sequentialminus": [
            [
             0,
             "#0d0887"
            ],
            [
             0.1111111111111111,
             "#46039f"
            ],
            [
             0.2222222222222222,
             "#7201a8"
            ],
            [
             0.3333333333333333,
             "#9c179e"
            ],
            [
             0.4444444444444444,
             "#bd3786"
            ],
            [
             0.5555555555555556,
             "#d8576b"
            ],
            [
             0.6666666666666666,
             "#ed7953"
            ],
            [
             0.7777777777777778,
             "#fb9f3a"
            ],
            [
             0.8888888888888888,
             "#fdca26"
            ],
            [
             1,
             "#f0f921"
            ]
           ]
          },
          "colorway": [
           "#636efa",
           "#EF553B",
           "#00cc96",
           "#ab63fa",
           "#FFA15A",
           "#19d3f3",
           "#FF6692",
           "#B6E880",
           "#FF97FF",
           "#FECB52"
          ],
          "font": {
           "color": "#2a3f5f"
          },
          "geo": {
           "bgcolor": "white",
           "lakecolor": "white",
           "landcolor": "#E5ECF6",
           "showlakes": true,
           "showland": true,
           "subunitcolor": "white"
          },
          "hoverlabel": {
           "align": "left"
          },
          "hovermode": "closest",
          "mapbox": {
           "style": "light"
          },
          "paper_bgcolor": "white",
          "plot_bgcolor": "#E5ECF6",
          "polar": {
           "angularaxis": {
            "gridcolor": "white",
            "linecolor": "white",
            "ticks": ""
           },
           "bgcolor": "#E5ECF6",
           "radialaxis": {
            "gridcolor": "white",
            "linecolor": "white",
            "ticks": ""
           }
          },
          "scene": {
           "xaxis": {
            "backgroundcolor": "#E5ECF6",
            "gridcolor": "white",
            "gridwidth": 2,
            "linecolor": "white",
            "showbackground": true,
            "ticks": "",
            "zerolinecolor": "white"
           },
           "yaxis": {
            "backgroundcolor": "#E5ECF6",
            "gridcolor": "white",
            "gridwidth": 2,
            "linecolor": "white",
            "showbackground": true,
            "ticks": "",
            "zerolinecolor": "white"
           },
           "zaxis": {
            "backgroundcolor": "#E5ECF6",
            "gridcolor": "white",
            "gridwidth": 2,
            "linecolor": "white",
            "showbackground": true,
            "ticks": "",
            "zerolinecolor": "white"
           }
          },
          "shapedefaults": {
           "line": {
            "color": "#2a3f5f"
           }
          },
          "ternary": {
           "aaxis": {
            "gridcolor": "white",
            "linecolor": "white",
            "ticks": ""
           },
           "baxis": {
            "gridcolor": "white",
            "linecolor": "white",
            "ticks": ""
           },
           "bgcolor": "#E5ECF6",
           "caxis": {
            "gridcolor": "white",
            "linecolor": "white",
            "ticks": ""
           }
          },
          "title": {
           "x": 0.05
          },
          "xaxis": {
           "automargin": true,
           "gridcolor": "white",
           "linecolor": "white",
           "ticks": "",
           "title": {
            "standoff": 15
           },
           "zerolinecolor": "white",
           "zerolinewidth": 2
          },
          "yaxis": {
           "automargin": true,
           "gridcolor": "white",
           "linecolor": "white",
           "ticks": "",
           "title": {
            "standoff": 15
           },
           "zerolinecolor": "white",
           "zerolinewidth": 2
          }
         }
        }
       }
      },
      "text/html": [
       "<div>\n",
       "        \n",
       "        \n",
       "            <div id=\"2b2f5098-7d86-479a-abb9-6b3a9c11cee7\" class=\"plotly-graph-div\" style=\"height:525px; width:100%;\"></div>\n",
       "            <script type=\"text/javascript\">\n",
       "                require([\"plotly\"], function(Plotly) {\n",
       "                    window.PLOTLYENV=window.PLOTLYENV || {};\n",
       "                    \n",
       "                if (document.getElementById(\"2b2f5098-7d86-479a-abb9-6b3a9c11cee7\")) {\n",
       "                    Plotly.newPlot(\n",
       "                        '2b2f5098-7d86-479a-abb9-6b3a9c11cee7',\n",
       "                        [{\"cells\": {\"align\": \"left\", \"fill\": {\"color\": \"lavender\"}, \"values\": [[\"Rapgef2\", \"Rapgef2\", \"Rapgef2\", \"Rapgef2\", \"Rapgef2\", \"Rapgef2\", \"Rapgef2\", \"Rapgef2\", \"Rapgef2\", \"Rapgef2\", \"Rapgef2\", \"Rapgef2\", \"Rapgef2\", \"Rapgef2\", \"Rapgef2\", \"Rapgef2\", \"Rapgef2\", \"Rapgef2\", \"Rapgef2\", \"Rapgef2\", \"Rapgef2\", \"Rapgef2\", \"Rapgef2\", \"Rapgef2\", \"Rapgef2\", \"Rapgef2\", \"Rapgef2\", \"Rapgef2\", \"Rapgef2\", \"Rapgef2\", \"Rapgef2\", \"Rapgef2\", \"Rapgef2\", \"Rapgef2\", \"Rapgef2\", \"Rapgef2\", \"Rapgef2\", \"Rapgef2\", \"Rapgef2\", \"Rapgef2\", \"Rapgef2\", \"Rapgef2\", \"Rapgef2\", \"Rapgef2\"], [\"Layer I [17-E]\", \"Layer I [19-P]\", \"Layer II-IV [15-P]\", \"Layer II-IV [1-P]\", \"Layer II-IV [4-P]\", \"Layer V-VI [2-E]\", \"Layer V-VI [3-E]\", \"Layer V-VI [5-E]\", \"Layer V-VI [13-E]\", \"Layer V-VI [18-P]\", \"Layer V-VI [7-E]\", \"Layer V-VI [12-P]\", \"SVZ1 (migrating) [4-E]\", \"SVZ1 (migrating) [2-P]\", \"SVZ2 (migrating) [8-P]\", \"Int1 [1-E]\", \"Int2 [12-E]\", \"Int1 [5-P]\", \"Int3 [11-P]\", \"Int4 [6-P]\", \"Int2 [14-P]\", \"Thalamic [19-E]\", \"Striatal inh1 [16-E]\", \"Striatal inh2 [9-E]\", \"Striatal inh1 [3-P]\", \"Striatal inh2 [7-P]\", \"Ganglionic eminences [6-E]\", \"Ganglionic eminences [9-P]\", \"SVZ3 (proliferating) [15-E]\", \"SVZ2 (VZ-SVZ) [11-E]\", \"RG2 [14-E]\", \"RG3 (cortical hem) [21-E]\", \"RG1 [8-E]\", \"RG4 [10-E]\", \"Astrocytes (immature) 1 [10-P]\", \"Astrocytes (immature) 2 [13-P]\", \"Oligodendrocytes [16-P]\", \"Choroid plexus [22-E]\", \"Choroid plexus [20-P]\", \"Microglia [20-E]\", \"Microglia [22-P]\", \"Endothelial [18-E]\", \"Endothelial2 [21-P]\", \"Endothelial1 [17-P]\"], [0.035783348, -0.060587172, -0.053296800000000005, -0.011128143, -0.015901945, 0.003438035, 0.034018797999999996, 0.085107604, 0.030869591000000002, 0.049780915999999995, 0.08179170599999999, 0.129189029, 0.08198662599999999, -0.09089812, -3.54e-06, -0.119255049, 0.074230353, -0.055491967999999996, 0.057162320999999995, -0.095149049, 0.073766575, -0.018170602, -0.05996990000000001, -0.10006749699999999, 0.027200405, 0.009913432, -0.079695693, -0.04677294, 0.0013201920000000002, -0.056915783, 0.007653448, -0.148772245, -0.004143455999999999, -0.010726578999999998, -0.016751734, 0.062491668, 0.041792561, -0.017539161, -0.040309154, -0.017471371, -0.116139602, 0.267331428, 0.331144434, 0.377568151], [\"Layer I \", \"Layer I \", \"Layer II-IV \", \"Layer II-IV \", \"Layer II-IV \", \"Layer V-VI \", \"Layer V-VI \", \"Layer V-VI \", \"Layer V-VI \", \"Layer V-VI \", \"Layer V-VI \", \"Layer V-VI \", \"SVZ1 (migrating) \", \"SVZ1 (migrating) \", \"SVZ2 (migrating) \", \"Int1 \", \"Int2 \", \"Int1 \", \"Int3 \", \"Int4 \", \"Int2 \", \"Thalamic \", \"Striatal inh1 \", \"Striatal inh2 \", \"Striatal inh1 \", \"Striatal inh2 \", \"Ganglionic eminences \", \"Ganglionic eminences \", \"SVZ3 (proliferating) \", \"SVZ2 (VZ-SVZ) \", \"RG2 \", \"RG3 (cortical hem) \", \"RG1 \", \"RG4 \", \"Astrocytes (immature) 1 \", \"Astrocytes (immature) 2 \", \"Oligodendrocytes \", \"Choroid plexus \", \"Choroid plexus \", \"Microglia \", \"Microglia \", \"Endothelial \", \"Endothelial2 \", \"Endothelial1 \"], [\"e14.5\", \"p0\", \"p0\", \"p0\", \"p0\", \"e14.5\", \"e14.5\", \"e14.5\", \"e14.5\", \"p0\", \"e14.5\", \"p0\", \"e14.5\", \"p0\", \"p0\", \"e14.5\", \"e14.5\", \"p0\", \"p0\", \"p0\", \"p0\", \"e14.5\", \"e14.5\", \"e14.5\", \"p0\", \"p0\", \"e14.5\", \"p0\", \"e14.5\", \"e14.5\", \"e14.5\", \"e14.5\", \"e14.5\", \"e14.5\", \"p0\", \"p0\", \"p0\", \"e14.5\", \"p0\", \"e14.5\", \"p0\", \"e14.5\", \"p0\", \"p0\"], [\"Cortical Layers\", \"Cortical Layers\", \"Cortical Layers\", \"Cortical Layers\", \"Cortical Layers\", \"Cortical Layers\", \"Cortical Layers\", \"Cortical Layers\", \"Cortical Layers\", \"Cortical Layers\", \"Cortical Layers\", \"Cortical Layers\", \"Proliferative\", \"Proliferative\", \"Proliferative\", \"Inhibitory\", \"Inhibitory\", \"Inhibitory\", \"Inhibitory\", \"Inhibitory\", \"Inhibitory\", \"Midbrain\", \"Midbrain\", \"Midbrain\", \"Midbrain\", \"Midbrain\", \"Non-Neuronal\", \"Non-Neuronal\", \"Proliferative\", \"Proliferative\", \"Proliferative\", \"Proliferative\", \"Proliferative\", \"Proliferative\", \"Non-Neuronal\", \"Non-Neuronal\", \"Non-Neuronal\", \"Non-Neuronal\", \"Non-Neuronal\", \"Non-Neuronal\", \"Non-Neuronal\", \"Non-Neuronal\", \"Non-Neuronal\", \"Non-Neuronal\"]]}, \"header\": {\"align\": \"left\", \"fill\": {\"color\": \"paleturquoise\"}, \"values\": [\"GeneID\", \"Cluster\", \"Expression\", \"Cell_Type\", \"Age\", \"Category\"]}, \"type\": \"table\"}],\n",
       "                        {\"template\": {\"data\": {\"bar\": [{\"error_x\": {\"color\": \"#2a3f5f\"}, \"error_y\": {\"color\": \"#2a3f5f\"}, \"marker\": {\"line\": {\"color\": \"#E5ECF6\", \"width\": 0.5}}, \"type\": \"bar\"}], \"barpolar\": [{\"marker\": {\"line\": {\"color\": \"#E5ECF6\", \"width\": 0.5}}, \"type\": \"barpolar\"}], \"carpet\": [{\"aaxis\": {\"endlinecolor\": \"#2a3f5f\", \"gridcolor\": \"white\", \"linecolor\": \"white\", \"minorgridcolor\": \"white\", \"startlinecolor\": \"#2a3f5f\"}, \"baxis\": {\"endlinecolor\": \"#2a3f5f\", \"gridcolor\": \"white\", \"linecolor\": \"white\", \"minorgridcolor\": \"white\", \"startlinecolor\": \"#2a3f5f\"}, \"type\": \"carpet\"}], \"choropleth\": [{\"colorbar\": {\"outlinewidth\": 0, \"ticks\": \"\"}, \"type\": \"choropleth\"}], \"contour\": [{\"colorbar\": {\"outlinewidth\": 0, \"ticks\": \"\"}, \"colorscale\": [[0.0, \"#0d0887\"], [0.1111111111111111, \"#46039f\"], [0.2222222222222222, \"#7201a8\"], [0.3333333333333333, \"#9c179e\"], [0.4444444444444444, \"#bd3786\"], [0.5555555555555556, \"#d8576b\"], [0.6666666666666666, \"#ed7953\"], [0.7777777777777778, \"#fb9f3a\"], [0.8888888888888888, \"#fdca26\"], [1.0, \"#f0f921\"]], \"type\": \"contour\"}], \"contourcarpet\": [{\"colorbar\": {\"outlinewidth\": 0, \"ticks\": \"\"}, \"type\": \"contourcarpet\"}], \"heatmap\": [{\"colorbar\": {\"outlinewidth\": 0, \"ticks\": \"\"}, \"colorscale\": [[0.0, \"#0d0887\"], [0.1111111111111111, \"#46039f\"], [0.2222222222222222, \"#7201a8\"], [0.3333333333333333, \"#9c179e\"], [0.4444444444444444, \"#bd3786\"], [0.5555555555555556, \"#d8576b\"], [0.6666666666666666, \"#ed7953\"], [0.7777777777777778, \"#fb9f3a\"], [0.8888888888888888, \"#fdca26\"], [1.0, \"#f0f921\"]], \"type\": \"heatmap\"}], \"heatmapgl\": [{\"colorbar\": {\"outlinewidth\": 0, \"ticks\": \"\"}, \"colorscale\": [[0.0, \"#0d0887\"], [0.1111111111111111, \"#46039f\"], [0.2222222222222222, \"#7201a8\"], [0.3333333333333333, \"#9c179e\"], [0.4444444444444444, \"#bd3786\"], [0.5555555555555556, \"#d8576b\"], [0.6666666666666666, \"#ed7953\"], [0.7777777777777778, \"#fb9f3a\"], [0.8888888888888888, \"#fdca26\"], [1.0, \"#f0f921\"]], \"type\": \"heatmapgl\"}], \"histogram\": [{\"marker\": {\"colorbar\": {\"outlinewidth\": 0, \"ticks\": \"\"}}, \"type\": \"histogram\"}], \"histogram2d\": [{\"colorbar\": {\"outlinewidth\": 0, \"ticks\": \"\"}, \"colorscale\": [[0.0, \"#0d0887\"], [0.1111111111111111, \"#46039f\"], [0.2222222222222222, \"#7201a8\"], [0.3333333333333333, \"#9c179e\"], [0.4444444444444444, \"#bd3786\"], [0.5555555555555556, \"#d8576b\"], [0.6666666666666666, \"#ed7953\"], [0.7777777777777778, \"#fb9f3a\"], [0.8888888888888888, \"#fdca26\"], [1.0, \"#f0f921\"]], \"type\": \"histogram2d\"}], \"histogram2dcontour\": [{\"colorbar\": {\"outlinewidth\": 0, \"ticks\": \"\"}, \"colorscale\": [[0.0, \"#0d0887\"], [0.1111111111111111, \"#46039f\"], [0.2222222222222222, \"#7201a8\"], [0.3333333333333333, \"#9c179e\"], [0.4444444444444444, \"#bd3786\"], [0.5555555555555556, \"#d8576b\"], [0.6666666666666666, \"#ed7953\"], [0.7777777777777778, \"#fb9f3a\"], [0.8888888888888888, \"#fdca26\"], [1.0, \"#f0f921\"]], \"type\": \"histogram2dcontour\"}], \"mesh3d\": [{\"colorbar\": {\"outlinewidth\": 0, \"ticks\": \"\"}, \"type\": \"mesh3d\"}], \"parcoords\": [{\"line\": {\"colorbar\": {\"outlinewidth\": 0, \"ticks\": \"\"}}, \"type\": \"parcoords\"}], \"pie\": [{\"automargin\": true, \"type\": \"pie\"}], \"scatter\": [{\"marker\": {\"colorbar\": {\"outlinewidth\": 0, \"ticks\": \"\"}}, \"type\": \"scatter\"}], \"scatter3d\": [{\"line\": {\"colorbar\": {\"outlinewidth\": 0, \"ticks\": \"\"}}, \"marker\": {\"colorbar\": {\"outlinewidth\": 0, \"ticks\": \"\"}}, \"type\": \"scatter3d\"}], \"scattercarpet\": [{\"marker\": {\"colorbar\": {\"outlinewidth\": 0, \"ticks\": \"\"}}, \"type\": \"scattercarpet\"}], \"scattergeo\": [{\"marker\": {\"colorbar\": {\"outlinewidth\": 0, \"ticks\": \"\"}}, \"type\": \"scattergeo\"}], \"scattergl\": [{\"marker\": {\"colorbar\": {\"outlinewidth\": 0, \"ticks\": \"\"}}, \"type\": \"scattergl\"}], \"scattermapbox\": [{\"marker\": {\"colorbar\": {\"outlinewidth\": 0, \"ticks\": \"\"}}, \"type\": \"scattermapbox\"}], \"scatterpolar\": [{\"marker\": {\"colorbar\": {\"outlinewidth\": 0, \"ticks\": \"\"}}, \"type\": \"scatterpolar\"}], \"scatterpolargl\": [{\"marker\": {\"colorbar\": {\"outlinewidth\": 0, \"ticks\": \"\"}}, \"type\": \"scatterpolargl\"}], \"scatterternary\": [{\"marker\": {\"colorbar\": {\"outlinewidth\": 0, \"ticks\": \"\"}}, \"type\": \"scatterternary\"}], \"surface\": [{\"colorbar\": {\"outlinewidth\": 0, \"ticks\": \"\"}, \"colorscale\": [[0.0, \"#0d0887\"], [0.1111111111111111, \"#46039f\"], [0.2222222222222222, \"#7201a8\"], [0.3333333333333333, \"#9c179e\"], [0.4444444444444444, \"#bd3786\"], [0.5555555555555556, \"#d8576b\"], [0.6666666666666666, \"#ed7953\"], [0.7777777777777778, \"#fb9f3a\"], [0.8888888888888888, \"#fdca26\"], [1.0, \"#f0f921\"]], \"type\": \"surface\"}], \"table\": [{\"cells\": {\"fill\": {\"color\": \"#EBF0F8\"}, \"line\": {\"color\": \"white\"}}, \"header\": {\"fill\": {\"color\": \"#C8D4E3\"}, \"line\": {\"color\": \"white\"}}, \"type\": \"table\"}]}, \"layout\": {\"annotationdefaults\": {\"arrowcolor\": \"#2a3f5f\", \"arrowhead\": 0, \"arrowwidth\": 1}, \"coloraxis\": {\"colorbar\": {\"outlinewidth\": 0, \"ticks\": \"\"}}, \"colorscale\": {\"diverging\": [[0, \"#8e0152\"], [0.1, \"#c51b7d\"], [0.2, \"#de77ae\"], [0.3, \"#f1b6da\"], [0.4, \"#fde0ef\"], [0.5, \"#f7f7f7\"], [0.6, \"#e6f5d0\"], [0.7, \"#b8e186\"], [0.8, \"#7fbc41\"], [0.9, \"#4d9221\"], [1, \"#276419\"]], \"sequential\": [[0.0, \"#0d0887\"], [0.1111111111111111, \"#46039f\"], [0.2222222222222222, \"#7201a8\"], [0.3333333333333333, \"#9c179e\"], [0.4444444444444444, \"#bd3786\"], [0.5555555555555556, \"#d8576b\"], [0.6666666666666666, \"#ed7953\"], [0.7777777777777778, \"#fb9f3a\"], [0.8888888888888888, \"#fdca26\"], [1.0, \"#f0f921\"]], \"sequentialminus\": [[0.0, \"#0d0887\"], [0.1111111111111111, \"#46039f\"], [0.2222222222222222, \"#7201a8\"], [0.3333333333333333, \"#9c179e\"], [0.4444444444444444, \"#bd3786\"], [0.5555555555555556, \"#d8576b\"], [0.6666666666666666, \"#ed7953\"], [0.7777777777777778, \"#fb9f3a\"], [0.8888888888888888, \"#fdca26\"], [1.0, \"#f0f921\"]]}, \"colorway\": [\"#636efa\", \"#EF553B\", \"#00cc96\", \"#ab63fa\", \"#FFA15A\", \"#19d3f3\", \"#FF6692\", \"#B6E880\", \"#FF97FF\", \"#FECB52\"], \"font\": {\"color\": \"#2a3f5f\"}, \"geo\": {\"bgcolor\": \"white\", \"lakecolor\": \"white\", \"landcolor\": \"#E5ECF6\", \"showlakes\": true, \"showland\": true, \"subunitcolor\": \"white\"}, \"hoverlabel\": {\"align\": \"left\"}, \"hovermode\": \"closest\", \"mapbox\": {\"style\": \"light\"}, \"paper_bgcolor\": \"white\", \"plot_bgcolor\": \"#E5ECF6\", \"polar\": {\"angularaxis\": {\"gridcolor\": \"white\", \"linecolor\": \"white\", \"ticks\": \"\"}, \"bgcolor\": \"#E5ECF6\", \"radialaxis\": {\"gridcolor\": \"white\", \"linecolor\": \"white\", \"ticks\": \"\"}}, \"scene\": {\"xaxis\": {\"backgroundcolor\": \"#E5ECF6\", \"gridcolor\": \"white\", \"gridwidth\": 2, \"linecolor\": \"white\", \"showbackground\": true, \"ticks\": \"\", \"zerolinecolor\": \"white\"}, \"yaxis\": {\"backgroundcolor\": \"#E5ECF6\", \"gridcolor\": \"white\", \"gridwidth\": 2, \"linecolor\": \"white\", \"showbackground\": true, \"ticks\": \"\", \"zerolinecolor\": \"white\"}, \"zaxis\": {\"backgroundcolor\": \"#E5ECF6\", \"gridcolor\": \"white\", \"gridwidth\": 2, \"linecolor\": \"white\", \"showbackground\": true, \"ticks\": \"\", \"zerolinecolor\": \"white\"}}, \"shapedefaults\": {\"line\": {\"color\": \"#2a3f5f\"}}, \"ternary\": {\"aaxis\": {\"gridcolor\": \"white\", \"linecolor\": \"white\", \"ticks\": \"\"}, \"baxis\": {\"gridcolor\": \"white\", \"linecolor\": \"white\", \"ticks\": \"\"}, \"bgcolor\": \"#E5ECF6\", \"caxis\": {\"gridcolor\": \"white\", \"linecolor\": \"white\", \"ticks\": \"\"}}, \"title\": {\"x\": 0.05}, \"xaxis\": {\"automargin\": true, \"gridcolor\": \"white\", \"linecolor\": \"white\", \"ticks\": \"\", \"title\": {\"standoff\": 15}, \"zerolinecolor\": \"white\", \"zerolinewidth\": 2}, \"yaxis\": {\"automargin\": true, \"gridcolor\": \"white\", \"linecolor\": \"white\", \"ticks\": \"\", \"title\": {\"standoff\": 15}, \"zerolinecolor\": \"white\", \"zerolinewidth\": 2}}}},\n",
       "                        {\"responsive\": true}\n",
       "                    ).then(function(){\n",
       "                            \n",
       "var gd = document.getElementById('2b2f5098-7d86-479a-abb9-6b3a9c11cee7');\n",
       "var x = new MutationObserver(function (mutations, observer) {{\n",
       "        var display = window.getComputedStyle(gd).display;\n",
       "        if (!display || display === 'none') {{\n",
       "            console.log([gd, 'removed!']);\n",
       "            Plotly.purge(gd);\n",
       "            observer.disconnect();\n",
       "        }}\n",
       "}});\n",
       "\n",
       "// Listen for the removal of the full notebook cells\n",
       "var notebookContainer = gd.closest('#notebook-container');\n",
       "if (notebookContainer) {{\n",
       "    x.observe(notebookContainer, {childList: true});\n",
       "}}\n",
       "\n",
       "// Listen for the clearing of the current output cell\n",
       "var outputEl = gd.closest('.output');\n",
       "if (outputEl) {{\n",
       "    x.observe(outputEl, {childList: true});\n",
       "}}\n",
       "\n",
       "                        })\n",
       "                };\n",
       "                });\n",
       "            </script>\n",
       "        </div>"
      ]
     },
     "metadata": {},
     "output_type": "display_data"
    }
   ],
   "source": [
    "import matplotlib \n",
    "import ipywidgets as widgets\n",
    "import pandas as pd\n",
    "import io\n",
    "import seaborn as sns\n",
    "from IPython.display import display\n",
    "from ipywidgets import interact_manual, interactive,GridspecLayout, AppLayout, Button, Layout, Widget\n",
    "import plotly.express as px\n",
    "\n",
    "data = pd.read_csv(\"LooSimon_MouseCortexDropSeq_E14P0_avgExpByCellType.csv\")\n",
    "# Get column names \n",
    "listOfColumnNames = list(data.columns.values[1:])\n",
    "idx = list(data['GeneID'])\n",
    "\n",
    "\n",
    "\n",
    "genes = ['Rapgef2']\n",
    "cells = listOfColumnNames\n",
    "data_gene_cell = data[cells]\n",
    "data_gene_cell.index= data['GeneID']\n",
    "data_gene_cell = data_gene_cell.loc[genes]\n",
    "data_gene_cell = data_gene_cell.reset_index()\n",
    "\n",
    "data_gene_cell2 = pd.melt(data_gene_cell, id_vars =['GeneID'],\n",
    "                              var_name ='Cluster', value_name ='Expression')\n",
    "\n",
    "ages = []\n",
    "cell_type = []\n",
    "supergroup = []\n",
    "import re\n",
    "\n",
    "for i in data_gene_cell2['Cluster']:    \n",
    "    if '-P]' in i:\n",
    "        ages.append('p0')\n",
    "    if '-E]' in i:\n",
    "        ages.append('e14.5')\n",
    "    if 'Layer' in i:\n",
    "        supergroup.append(\"Cortical Layers\")\n",
    "    if any(x in i for x in ['Endothelial','Choroid','Astrocyte','Oligo','Ganglionic','Micro']): \n",
    "        supergroup.append(\"Non-Neuronal\")\n",
    "    if any(x in i for x in ['SVZ','RG']): \n",
    "        supergroup.append(\"Proliferative\")\n",
    "    if \"Int\" in i:\n",
    "        supergroup.append(\"Inhibitory\")\n",
    "    if any(x in i for x in ['Thalamic','Striatal']): \n",
    "        supergroup.append(\"Midbrain\")\n",
    "    j = re.sub(\"[\\[].*?[\\]]\", \"\", i)\n",
    "    cell_type.append(j)\n",
    "\n",
    "data_gene_cell2['Cell_Type'] = cell_type\n",
    "data_gene_cell2['Age'] = ages\n",
    "data_gene_cell2['Category'] = supergroup\n",
    "\n",
    "\n",
    "import plotly.graph_objects as go\n",
    "fig = px.bar(data_gene_cell2, x=\"Category\", y=\"Expression\", color = \"Age\", \n",
    "             #facet_col = \"Category\",\n",
    "             hover_name = \"Cell_Type\",\n",
    "             hover_data = [\"Age\", \"Cluster\"]\n",
    "            )\n",
    "fig.update_layout(barmode='group')\n",
    "\n",
    "fig.show()\n",
    "\n",
    "fig2 = go.Figure(data=[go.Table(\n",
    "        header=dict(values=list(data_gene_cell2.columns),\n",
    "                fill_color='paleturquoise',\n",
    "                align='left'),\n",
    "        cells=dict(values=[data_gene_cell2.GeneID, data_gene_cell2.Cluster, data_gene_cell2.Expression,\n",
    "                          data_gene_cell2.Cell_Type, data_gene_cell2.Age, data_gene_cell2.Category],\n",
    "                fill_color='lavender',\n",
    "                align='left'))\n",
    "            ])\n",
    "\n",
    "fig2.show()"
   ]
  }
 ],
 "metadata": {
  "celltoolbar": "Hide code",
  "kernelspec": {
   "display_name": "Python 3",
   "language": "python",
   "name": "python3"
  },
  "language_info": {
   "codemirror_mode": {
    "name": "ipython",
    "version": 3
   },
   "file_extension": ".py",
   "mimetype": "text/x-python",
   "name": "python",
   "nbconvert_exporter": "python",
   "pygments_lexer": "ipython3",
   "version": "3.7.6"
  }
 },
 "nbformat": 4,
 "nbformat_minor": 4
}
