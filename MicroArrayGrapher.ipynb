{
 "cells": [
  {
   "cell_type": "code",
   "execution_count": null,
   "metadata": {
    "hideCode": true,
    "hidePrompt": true
   },
   "outputs": [],
   "source": []
  },
  {
   "cell_type": "code",
   "execution_count": null,
   "metadata": {
    "hideCode": true,
    "hidePrompt": true
   },
   "outputs": [],
   "source": [
    "import matplotlib\n",
    "import pandas as pd\n",
    "import ipywidgets as widgets\n",
    "import io\n",
    "import plotly.express as px\n",
    "from IPython.display import display\n",
    "from ipywidgets import interact_manual, interactive,GridspecLayout, AppLayout, Button, Layout, Widget"
   ]
  },
  {
   "cell_type": "code",
   "execution_count": null,
   "metadata": {
    "hideCode": true,
    "hidePrompt": true
   },
   "outputs": [],
   "source": [
    "#retreive file with ANOVA data\n",
    "result = pd.read_excel(\"EidenMicroArrayANOVAS.xlsx\")\n",
    "result.rename(columns = {'p-value(PKONS vs. PWTNS)':'p-value(PKO vs. PWT)'}, inplace=True)"
   ]
  },
  {
   "cell_type": "code",
   "execution_count": null,
   "metadata": {
    "hideCode": true,
    "hidePrompt": true
   },
   "outputs": [],
   "source": [
    "expressions = pd.read_excel(\"EditedMicroarraysExpValues.xlsx\")"
   ]
  },
  {
   "cell_type": "code",
   "execution_count": null,
   "metadata": {
    "hideCode": true,
    "hidePrompt": true
   },
   "outputs": [],
   "source": [
    "##define GUI  \n",
    "def choose_gene(change):\n",
    "    if dropdown.value not in genes2:\n",
    "        if dropdown.value != '':\n",
    "            genes2.append(dropdown.value)\n",
    "            with outgenes:\n",
    "                display(dropdown.value)"
   ]
  },
  {
   "cell_type": "code",
   "execution_count": null,
   "metadata": {
    "hideCode": true,
    "hidePrompt": true
   },
   "outputs": [],
   "source": [
    "graph_out1 = widgets.Output()  \n",
    "graph_out2 = widgets.Output()\n",
    "    \n",
    "def on_value_change(change):\n",
    "    #just be here\n",
    "    print('')\n",
    "    \n",
    "def on_go_button_clicked(go_button):\n",
    "    mouse_means2, stats, sig_genes = get_vals(go_button)\n",
    "#Mark errors\n",
    "    if len(genes2) < 1:\n",
    "        with outerrors:\n",
    "            print(\"Choose at least one Gene\")\n",
    "    else:\n",
    "\n",
    "       ###Graph expression   \n",
    "        import plotly.graph_objects as go\n",
    "        fig = px.bar(mouse_means2, x=\"Genotype\", y=\"average\",\n",
    "                         facet_col = \"Gene Symbol\",\n",
    "                         color = \"Tissue\",\n",
    "                         barmode = 'group',\n",
    "                     color_discrete_sequence= px.colors.sequential.Plasma,\n",
    "                     error_y=\"error\"\n",
    "                  )\n",
    "        for a in fig.layout.annotations:\n",
    "            a.text = a.text.split(\"=\")[1]\n",
    "            fig.update_yaxes(title_text='')\n",
    "\n",
    "        fig.show()\n",
    "\n",
    "       ###Graph statistics         \n",
    "        fig = px.bar(stats, x=\"Tissue\", y=\"Fold-Change(PKO vs. PWT)\",\n",
    "                    width=800, height=400,\n",
    "                    facet_col = \"Gene Symbol\",\n",
    "                    color = \"p-value(PKO vs. PWT)\", range_color=[0,p_threshold.value] #Change so user input tells it what p and fc to use\n",
    "              )\n",
    "        #.for_each_trace(lambda t: t.update(name=t.name.split(\"=\")[1]))\n",
    "        fig.for_each_annotation(lambda a: a.update(text=a.text.split(\"=\")[-1]))\n",
    "\n",
    "\n",
    "        fig.show()"
   ]
  },
  {
   "cell_type": "code",
   "execution_count": null,
   "metadata": {
    "hideCode": true,
    "hidePrompt": true
   },
   "outputs": [],
   "source": [
    "style = {'description_width': 'initial'}\n",
    "genes2 = []             \n",
    "spacer = widgets.Label('')\n",
    "genetitle = widgets.Label('Select Genes')\n",
    "\n",
    "dropdown =  widgets.Combobox(\n",
    "    options= [\"sig_genes\"],\n",
    "    description='Gene',\n",
    "    placeholder='Type here',\n",
    "    layout={'width': '80%'})\n",
    "\n",
    "   \n",
    "outgenes = widgets.Output()   \n",
    "outgraph = widgets.Output(layout={'border': '1px solid black'})  \n",
    "\n",
    "        \n",
    "gene_button = widgets.Button(description = 'Enter Gene', \n",
    "                button_style = '', \n",
    "                display='flex',\n",
    "                flex_flow='column',\n",
    "                align_items='stretch')\n",
    "gene_button.on_click(choose_gene)\n",
    "\n",
    "go_button = widgets.Button(description = 'Produce Output', \n",
    "                           button_style = '', \n",
    "                            display='flex',\n",
    "                            flex_flow='column',\n",
    "                            align_items='stretch')\n",
    "go_button.on_click(on_go_button_clicked)\n",
    "\n",
    "gene_button.observe(dropdown.value)\n",
    "go_button.observe(dropdown.value)\n",
    "\n",
    "p_threshold = widgets.BoundedFloatText(\n",
    "    value=0.05,\n",
    "    description='p-value:',\n",
    "    disabled=False,\n",
    "    width = '80%',\n",
    "    min=0,\n",
    "    max=0.1,\n",
    "    step=0.01,\n",
    "    style=style)\n",
    "p_threshold.observe(on_value_change, names='value')\n",
    "\n",
    "fc_threshold = widgets.BoundedFloatText(\n",
    "    value=2,\n",
    "    description='fold change (+/-):',\n",
    "    disabled=False,\n",
    "    min=1.5,\n",
    "    max=20,\n",
    "    step=0.5,\n",
    "    width = '80%',\n",
    "    style=style)\n",
    "fc_threshold.observe(on_value_change, names='value')\n",
    "\n",
    "\n",
    "graph_out1 = widgets.Output()  \n",
    "graph_out2 = widgets.Output()  "
   ]
  },
  {
   "cell_type": "code",
   "execution_count": null,
   "metadata": {
    "hideCode": true,
    "hidePrompt": true,
    "scrolled": false
   },
   "outputs": [],
   "source": [
    "genesbox = widgets.VBox([genetitle,dropdown, gene_button])\n",
    "#cellsbox = widgets.VBox([celllabel, Cells_drop])\n",
    "genechoices = widgets.VBox([genesbox, outgenes,go_button])\n",
    "outerrors = widgets.Output() \n",
    "\n",
    "graphit = widgets.VBox([graph_out1, graph_out2])\n",
    "top_app = widgets.HBox([genechoices, outerrors]) ##Put seletcors for p and fc values here\n",
    "app = widgets.VBox([top_app, graphit])"
   ]
  },
  {
   "cell_type": "code",
   "execution_count": null,
   "metadata": {
    "hideCode": true,
    "hidePrompt": true
   },
   "outputs": [],
   "source": [
    "def on_thresh_button_clicked(th_go_button):\n",
    "    \n",
    "    results_stringent = result[result[\"p-value(PKO vs. PWT)\"] <= p_threshold.value]#Change so user input tells it what p and fc to use\n",
    "    results_stringent2=results_stringent[(results_stringent['Fold-Change(PKO vs. PWT)']>= fc_threshold.value) | (results_stringent['Fold-Change(PKO vs. PWT)']<= -fc_threshold.value)]\n",
    "    sig_genes0 = results_stringent2[\"Gene Symbol\"].tolist()\n",
    "    sig_genes = list(set(sig_genes0))\n",
    "    mouse_means1 = expressions[expressions[\"Gene Symbol\"].isin(genes2)]\n",
    "    mouse_means2 = (mouse_means1.groupby(['Gene Symbol','Tissue','Genotype'])['Expression']\n",
    "         .agg([('average','mean'),('error','sem')])\n",
    "         .reset_index())\n",
    "    stats = results_stringent2[results_stringent2[\"Gene Symbol\"].isin(genes2)]\n",
    "    \n",
    "    #create next part of app\n",
    "    dropdown.options = sig_genes\n",
    "    display(app)\n",
    "    return(mouse_means2, stats)"
   ]
  },
  {
   "cell_type": "code",
   "execution_count": null,
   "metadata": {
    "hideCode": true,
    "hidePrompt": true
   },
   "outputs": [],
   "source": [
    "threshold_title = widgets.Label('First, set p and fold-change')\n",
    "th_go_button = widgets.Button(description = 'Set Thresholds', \n",
    "                           button_style = '', \n",
    "                            display='flex',\n",
    "                            flex_flow='column',\n",
    "                            align_items='stretch')\n",
    "th_go_button.on_click(on_thresh_button_clicked)\n",
    "#th_go_button.observe(dropdown.value)"
   ]
  },
  {
   "cell_type": "code",
   "execution_count": null,
   "metadata": {
    "hideCode": true,
    "hidePrompt": true
   },
   "outputs": [],
   "source": [
    "def get_vals(go_button):\n",
    "    results_stringent = result[result[\"p-value(PKO vs. PWT)\"] <= p_threshold.value]#Change so user input tells it what p and fc to use\n",
    "    results_stringent2=results_stringent[(results_stringent['Fold-Change(PKO vs. PWT)']>= fc_threshold.value) | (results_stringent['Fold-Change(PKO vs. PWT)']<= fc_threshold.value)]\n",
    "    sig_genes = results_stringent2[\"Gene Symbol\"].tolist()\n",
    "    mouse_means1 = expressions[expressions[\"Gene Symbol\"].isin(genes2)]\n",
    "    mouse_means2 = (mouse_means1.groupby(['Gene Symbol','Tissue','Genotype'])['Expression']\n",
    "         .agg([('average','mean'),('error','sem')])\n",
    "         .reset_index())\n",
    "    stats = results_stringent2[results_stringent2[\"Gene Symbol\"].isin(genes2)]\n",
    "    return(mouse_means2, stats, sig_genes)"
   ]
  },
  {
   "cell_type": "code",
   "execution_count": null,
   "metadata": {
    "hideCode": true,
    "hidePrompt": true
   },
   "outputs": [],
   "source": [
    "thresholds = widgets.VBox([threshold_title,p_threshold, fc_threshold])\n",
    "th_go = widgets.HBox([thresholds,th_go_button])\n",
    "th_go"
   ]
  }
 ],
 "metadata": {
  "celltoolbar": "Hide code",
  "kernelspec": {
   "display_name": "Python 3",
   "language": "python",
   "name": "python3"
  },
  "language_info": {
   "codemirror_mode": {
    "name": "ipython",
    "version": 3
   },
   "file_extension": ".py",
   "mimetype": "text/x-python",
   "name": "python",
   "nbconvert_exporter": "python",
   "pygments_lexer": "ipython3",
   "version": "3.7.4"
  }
 },
 "nbformat": 4,
 "nbformat_minor": 2
}
