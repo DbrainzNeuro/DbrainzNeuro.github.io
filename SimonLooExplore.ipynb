{
 "cells": [
  {
   "cell_type": "markdown",
   "metadata": {},
   "source": [
    "# Press the Double Arrow above to Begin, then click red pop-up to confirm"
   ]
  },
  {
   "cell_type": "code",
   "execution_count": null,
   "metadata": {
    "hide_input": true,
    "scrolled": true
   },
   "outputs": [],
   "source": [
    "display(\"Loading Allen Transcriptomics Single-Cell RNAseq data, retreived May 2020. Be patient, it's loading!\")"
   ]
  },
  {
   "cell_type": "code",
   "execution_count": 1,
   "metadata": {
    "hide_input": false
   },
   "outputs": [],
   "source": [
    "import matplotlib \n",
    "import ipywidgets as widgets\n",
    "import pandas as pd\n",
    "import io\n",
    "import seaborn as sns\n",
    "from IPython.display import display\n",
    "from ipywidgets import interact_manual, interactive,GridspecLayout, AppLayout, Button, Layout, Widget\n",
    "import plotly.express as px\n",
    "\n",
    "data = pd.read_csv(\"LooSimon_MouseCortexDropSeq_E14P0_avgExpByCellType.csv\")\n",
    "# Get column names \n",
    "listOfColumnNames = list(data.columns.values[1:])\n",
    "idx = list(data['GeneID'])"
   ]
  },
  {
   "cell_type": "code",
   "execution_count": 2,
   "metadata": {},
   "outputs": [],
   "source": [
    "cells =[]\n",
    "genes = []\n",
    "\n",
    "def on_go_button_clicked(go_button):\n",
    "\n",
    "#Mark errors\n",
    "    if len(genes) < 1:\n",
    "        with outerrors:\n",
    "            print(\"Choose at least one Gene\")\n",
    "    if len(list(Cells_drop.value)) < 1:\n",
    "        with outerrors:\n",
    "            print(\"Choose at least one Cell Cluster\")\n",
    "            \n",
    "## restructure data frame to include selected types only \n",
    "    if len(genes) >= 1:\n",
    "         if len(list(Cells_drop.value)) >= 1:\n",
    "            data_gene_cell = data[list(Cells_drop.value)]\n",
    "            data_gene_cell.index= data['GeneID']\n",
    "            data_gene_cell = data_gene_cell.loc[genes]\n",
    "            data_gene_cell = data_gene_cell.reset_index()\n",
    "\n",
    "        ## reshape for plotting\n",
    "            data_gene_cell2 = pd.melt(data_gene_cell, id_vars =['GeneID'],\n",
    "                              var_name ='Cluster', value_name ='Expression')\n",
    "\n",
    "        ## plot\n",
    "            import plotly.graph_objects as go\n",
    "            fig = px.bar(data_gene_cell2, x=\"GeneID\", y=\"Expression\",color = \"Cluster\")\n",
    "            fig.update_layout(barmode='group')\n",
    "            with graph_out1:\n",
    "                fig.show()\n",
    "\n",
    "        ## print table\n",
    "            fig2 = go.Figure(data=[go.Table(\n",
    "                header=dict(values=list(data_gene_cell2.columns),\n",
    "                        fill_color='paleturquoise',\n",
    "                        align='left'),\n",
    "                cells=dict(values=[data_gene_cell2.GeneID, data_gene_cell2.Cluster, data_gene_cell2.Expression],\n",
    "                       fill_color='lavender',\n",
    "                       align='left'))\n",
    "            ])\n",
    "            with graph_out2:\n",
    "                fig2.show()\n",
    "\n",
    "\n",
    "def choose_gene(change):\n",
    "    if dropdown.value not in genes:\n",
    "        if dropdown.value != '':\n",
    "            genes.append(dropdown.value)\n",
    "            with outgenes:\n",
    "                display(dropdown.value)"
   ]
  },
  {
   "cell_type": "code",
   "execution_count": 3,
   "metadata": {
    "hide_input": false
   },
   "outputs": [],
   "source": [
    "##define GUI  \n",
    "\n",
    "spacer = widgets.Label('')\n",
    "genetitle = widgets.Label('Select Genes')\n",
    "\n",
    "dropdown =  widgets.Combobox(\n",
    "    options= idx,\n",
    "    description='Gene',\n",
    "    placeholder='Type here',\n",
    "    layout={'width': '80%'})\n",
    "\n",
    "   \n",
    "outgenes = widgets.Output()   \n",
    "outgraph = widgets.Output(layout={'border': '1px solid black'})  \n",
    "\n",
    "        \n",
    "gene_button = widgets.Button(description = 'Enter Gene', \n",
    "                button_style = '', \n",
    "                display='flex',\n",
    "                flex_flow='column',\n",
    "                align_items='stretch')\n",
    "\n",
    "gene_button.on_click(choose_gene)\n",
    "\n",
    "celllabel = widgets.Label('Cell Clusters:')\n",
    "Cells_drop =widgets.SelectMultiple(\n",
    "    options=listOfColumnNames,\n",
    "    rows=8,\n",
    "    layout={'width': 'max-content'}) \n",
    "\n",
    "\n",
    "go_button = widgets.Button(description = 'Produce Output', \n",
    "                           button_style = '', \n",
    "                            display='flex',\n",
    "                            flex_flow='column',\n",
    "                            align_items='stretch')\n",
    "go_button.on_click(on_go_button_clicked)\n",
    "\n",
    "gene_button.observe(dropdown.value)\n",
    "go_button.observe(dropdown.value)\n",
    "go_button.observe(Cells_drop.value)\n",
    "\n",
    "\n",
    "graph_out1 = widgets.Output()  \n",
    "graph_out2 = widgets.Output()  "
   ]
  },
  {
   "cell_type": "code",
   "execution_count": 4,
   "metadata": {
    "hide_input": false
   },
   "outputs": [
    {
     "data": {
      "application/vnd.jupyter.widget-view+json": {
       "model_id": "4bc21f0d478048ac962d7cc9d91fb6b8",
       "version_major": 2,
       "version_minor": 0
      },
      "text/plain": [
       "VBox(children=(HBox(children=(VBox(children=(Label(value='Cell Clusters:'), SelectMultiple(layout=Layout(width…"
      ]
     },
     "metadata": {},
     "output_type": "display_data"
    }
   ],
   "source": [
    "genesbox = widgets.VBox([genetitle,dropdown, gene_button])\n",
    "cellsbox = widgets.VBox([celllabel, Cells_drop])\n",
    "genechoices = widgets.VBox([genesbox, outgenes,go_button])\n",
    "outerrors = widgets.Output() \n",
    "\n",
    "graphit = widgets.VBox([graph_out1, graph_out2])\n",
    "top_app = widgets.HBox([cellsbox,genechoices, outerrors])\n",
    "app = widgets.VBox([top_app, graphit])\n",
    "\n",
    "\n",
    "app"
   ]
  },
  {
   "cell_type": "code",
   "execution_count": null,
   "metadata": {},
   "outputs": [],
   "source": []
  },
  {
   "cell_type": "code",
   "execution_count": null,
   "metadata": {},
   "outputs": [],
   "source": []
  },
  {
   "cell_type": "code",
   "execution_count": null,
   "metadata": {},
   "outputs": [],
   "source": []
  },
  {
   "cell_type": "code",
   "execution_count": 97,
   "metadata": {},
   "outputs": [],
   "source": [
    "\n",
    "genes = ['Rapgef2']\n",
    "cells = listOfColumnNames\n",
    "data_gene_cell = data[cells]\n",
    "data_gene_cell.index= data['GeneID']\n",
    "data_gene_cell = data_gene_cell.loc[genes]\n",
    "data_gene_cell = data_gene_cell.reset_index()\n",
    "\n",
    "data_gene_cell2 = pd.melt(data_gene_cell, id_vars =['GeneID'],\n",
    "                              var_name ='Cluster', value_name ='Expression')"
   ]
  },
  {
   "cell_type": "code",
   "execution_count": 99,
   "metadata": {},
   "outputs": [
    {
     "data": {
      "text/html": [
       "<div>\n",
       "<style scoped>\n",
       "    .dataframe tbody tr th:only-of-type {\n",
       "        vertical-align: middle;\n",
       "    }\n",
       "\n",
       "    .dataframe tbody tr th {\n",
       "        vertical-align: top;\n",
       "    }\n",
       "\n",
       "    .dataframe thead th {\n",
       "        text-align: right;\n",
       "    }\n",
       "</style>\n",
       "<table border=\"1\" class=\"dataframe\">\n",
       "  <thead>\n",
       "    <tr style=\"text-align: right;\">\n",
       "      <th></th>\n",
       "      <th>GeneID</th>\n",
       "      <th>Cluster</th>\n",
       "      <th>Expression</th>\n",
       "      <th>Cell_Type</th>\n",
       "      <th>Age</th>\n",
       "      <th>Category</th>\n",
       "    </tr>\n",
       "  </thead>\n",
       "  <tbody>\n",
       "    <tr>\n",
       "      <th>0</th>\n",
       "      <td>Rapgef2</td>\n",
       "      <td>Layer I [17-E]</td>\n",
       "      <td>0.035783</td>\n",
       "      <td>Layer I</td>\n",
       "      <td>e14.5</td>\n",
       "      <td>Cortical Layers</td>\n",
       "    </tr>\n",
       "    <tr>\n",
       "      <th>1</th>\n",
       "      <td>Rapgef2</td>\n",
       "      <td>Layer I [19-P]</td>\n",
       "      <td>-0.060587</td>\n",
       "      <td>Layer I</td>\n",
       "      <td>p0</td>\n",
       "      <td>Cortical Layers</td>\n",
       "    </tr>\n",
       "    <tr>\n",
       "      <th>2</th>\n",
       "      <td>Rapgef2</td>\n",
       "      <td>Layer V-VI [2-E]</td>\n",
       "      <td>0.003438</td>\n",
       "      <td>Layer V-VI</td>\n",
       "      <td>e14.5</td>\n",
       "      <td>Cortical Layers</td>\n",
       "    </tr>\n",
       "    <tr>\n",
       "      <th>3</th>\n",
       "      <td>Rapgef2</td>\n",
       "      <td>Layer II-IV [15-P]</td>\n",
       "      <td>-0.053297</td>\n",
       "      <td>Layer II-IV</td>\n",
       "      <td>p0</td>\n",
       "      <td>Cortical Layers</td>\n",
       "    </tr>\n",
       "    <tr>\n",
       "      <th>4</th>\n",
       "      <td>Rapgef2</td>\n",
       "      <td>Layer V-VI [3-E]</td>\n",
       "      <td>0.034019</td>\n",
       "      <td>Layer V-VI</td>\n",
       "      <td>e14.5</td>\n",
       "      <td>Cortical Layers</td>\n",
       "    </tr>\n",
       "    <tr>\n",
       "      <th>5</th>\n",
       "      <td>Rapgef2</td>\n",
       "      <td>Layer II-IV [1-P]</td>\n",
       "      <td>-0.011128</td>\n",
       "      <td>Layer II-IV</td>\n",
       "      <td>p0</td>\n",
       "      <td>Cortical Layers</td>\n",
       "    </tr>\n",
       "    <tr>\n",
       "      <th>6</th>\n",
       "      <td>Rapgef2</td>\n",
       "      <td>Layer II-IV [4-P]</td>\n",
       "      <td>-0.015902</td>\n",
       "      <td>Layer II-IV</td>\n",
       "      <td>p0</td>\n",
       "      <td>Cortical Layers</td>\n",
       "    </tr>\n",
       "    <tr>\n",
       "      <th>7</th>\n",
       "      <td>Rapgef2</td>\n",
       "      <td>Layer V-VI [5-E]</td>\n",
       "      <td>0.085108</td>\n",
       "      <td>Layer V-VI</td>\n",
       "      <td>e14.5</td>\n",
       "      <td>Cortical Layers</td>\n",
       "    </tr>\n",
       "    <tr>\n",
       "      <th>8</th>\n",
       "      <td>Rapgef2</td>\n",
       "      <td>Layer V-VI [13-E]</td>\n",
       "      <td>0.030870</td>\n",
       "      <td>Layer V-VI</td>\n",
       "      <td>e14.5</td>\n",
       "      <td>Cortical Layers</td>\n",
       "    </tr>\n",
       "    <tr>\n",
       "      <th>9</th>\n",
       "      <td>Rapgef2</td>\n",
       "      <td>Layer V-VI [18-P]</td>\n",
       "      <td>0.049781</td>\n",
       "      <td>Layer V-VI</td>\n",
       "      <td>p0</td>\n",
       "      <td>Cortical Layers</td>\n",
       "    </tr>\n",
       "    <tr>\n",
       "      <th>10</th>\n",
       "      <td>Rapgef2</td>\n",
       "      <td>Layer V-VI [7-E]</td>\n",
       "      <td>0.081792</td>\n",
       "      <td>Layer V-VI</td>\n",
       "      <td>e14.5</td>\n",
       "      <td>Cortical Layers</td>\n",
       "    </tr>\n",
       "    <tr>\n",
       "      <th>11</th>\n",
       "      <td>Rapgef2</td>\n",
       "      <td>Layer V-VI [12-P]</td>\n",
       "      <td>0.129189</td>\n",
       "      <td>Layer V-VI</td>\n",
       "      <td>p0</td>\n",
       "      <td>Cortical Layers</td>\n",
       "    </tr>\n",
       "    <tr>\n",
       "      <th>12</th>\n",
       "      <td>Rapgef2</td>\n",
       "      <td>SVZ1 (migrating) [4-E]</td>\n",
       "      <td>0.081987</td>\n",
       "      <td>SVZ1 (migrating)</td>\n",
       "      <td>e14.5</td>\n",
       "      <td>Proliferative</td>\n",
       "    </tr>\n",
       "    <tr>\n",
       "      <th>13</th>\n",
       "      <td>Rapgef2</td>\n",
       "      <td>SVZ1 (migrating) [2-P]</td>\n",
       "      <td>-0.090898</td>\n",
       "      <td>SVZ1 (migrating)</td>\n",
       "      <td>p0</td>\n",
       "      <td>Proliferative</td>\n",
       "    </tr>\n",
       "    <tr>\n",
       "      <th>14</th>\n",
       "      <td>Rapgef2</td>\n",
       "      <td>SVZ2 (migrating) [8-P]</td>\n",
       "      <td>-0.000004</td>\n",
       "      <td>SVZ2 (migrating)</td>\n",
       "      <td>p0</td>\n",
       "      <td>Proliferative</td>\n",
       "    </tr>\n",
       "    <tr>\n",
       "      <th>15</th>\n",
       "      <td>Rapgef2</td>\n",
       "      <td>Int1 [1-E]</td>\n",
       "      <td>-0.119255</td>\n",
       "      <td>Int1</td>\n",
       "      <td>e14.5</td>\n",
       "      <td>Inhibitory</td>\n",
       "    </tr>\n",
       "    <tr>\n",
       "      <th>16</th>\n",
       "      <td>Rapgef2</td>\n",
       "      <td>Int1 [5-P]</td>\n",
       "      <td>-0.055492</td>\n",
       "      <td>Int1</td>\n",
       "      <td>p0</td>\n",
       "      <td>Inhibitory</td>\n",
       "    </tr>\n",
       "    <tr>\n",
       "      <th>17</th>\n",
       "      <td>Rapgef2</td>\n",
       "      <td>Int3 [11-P]</td>\n",
       "      <td>0.057162</td>\n",
       "      <td>Int3</td>\n",
       "      <td>p0</td>\n",
       "      <td>Inhibitory</td>\n",
       "    </tr>\n",
       "    <tr>\n",
       "      <th>18</th>\n",
       "      <td>Rapgef2</td>\n",
       "      <td>Int4 [6-P]</td>\n",
       "      <td>-0.095149</td>\n",
       "      <td>Int4</td>\n",
       "      <td>p0</td>\n",
       "      <td>Inhibitory</td>\n",
       "    </tr>\n",
       "    <tr>\n",
       "      <th>19</th>\n",
       "      <td>Rapgef2</td>\n",
       "      <td>Int2 [12-E]</td>\n",
       "      <td>0.074230</td>\n",
       "      <td>Int2</td>\n",
       "      <td>e14.5</td>\n",
       "      <td>Inhibitory</td>\n",
       "    </tr>\n",
       "    <tr>\n",
       "      <th>20</th>\n",
       "      <td>Rapgef2</td>\n",
       "      <td>Int2 [14-P]</td>\n",
       "      <td>0.073767</td>\n",
       "      <td>Int2</td>\n",
       "      <td>p0</td>\n",
       "      <td>Inhibitory</td>\n",
       "    </tr>\n",
       "    <tr>\n",
       "      <th>21</th>\n",
       "      <td>Rapgef2</td>\n",
       "      <td>Thalamic [19-E]</td>\n",
       "      <td>-0.018171</td>\n",
       "      <td>Thalamic</td>\n",
       "      <td>e14.5</td>\n",
       "      <td>Midbrain</td>\n",
       "    </tr>\n",
       "    <tr>\n",
       "      <th>22</th>\n",
       "      <td>Rapgef2</td>\n",
       "      <td>Striatal inh1 [16-E]</td>\n",
       "      <td>-0.059970</td>\n",
       "      <td>Striatal inh1</td>\n",
       "      <td>e14.5</td>\n",
       "      <td>Midbrain</td>\n",
       "    </tr>\n",
       "    <tr>\n",
       "      <th>23</th>\n",
       "      <td>Rapgef2</td>\n",
       "      <td>Striatal inh1 [3-P]</td>\n",
       "      <td>0.027200</td>\n",
       "      <td>Striatal inh1</td>\n",
       "      <td>p0</td>\n",
       "      <td>Midbrain</td>\n",
       "    </tr>\n",
       "    <tr>\n",
       "      <th>24</th>\n",
       "      <td>Rapgef2</td>\n",
       "      <td>Striatal inh2 [9-E]</td>\n",
       "      <td>-0.100067</td>\n",
       "      <td>Striatal inh2</td>\n",
       "      <td>e14.5</td>\n",
       "      <td>Midbrain</td>\n",
       "    </tr>\n",
       "    <tr>\n",
       "      <th>25</th>\n",
       "      <td>Rapgef2</td>\n",
       "      <td>Striatal inh2 [7-P]</td>\n",
       "      <td>0.009913</td>\n",
       "      <td>Striatal inh2</td>\n",
       "      <td>p0</td>\n",
       "      <td>Midbrain</td>\n",
       "    </tr>\n",
       "    <tr>\n",
       "      <th>26</th>\n",
       "      <td>Rapgef2</td>\n",
       "      <td>Ganglionic eminences [6-E]</td>\n",
       "      <td>-0.079696</td>\n",
       "      <td>Ganglionic eminences</td>\n",
       "      <td>e14.5</td>\n",
       "      <td>Non-Neuronal</td>\n",
       "    </tr>\n",
       "    <tr>\n",
       "      <th>27</th>\n",
       "      <td>Rapgef2</td>\n",
       "      <td>Ganglionic eminences [9-P]</td>\n",
       "      <td>-0.046773</td>\n",
       "      <td>Ganglionic eminences</td>\n",
       "      <td>p0</td>\n",
       "      <td>Non-Neuronal</td>\n",
       "    </tr>\n",
       "    <tr>\n",
       "      <th>28</th>\n",
       "      <td>Rapgef2</td>\n",
       "      <td>SVZ3 (proliferating) [15-E]</td>\n",
       "      <td>0.001320</td>\n",
       "      <td>SVZ3 (proliferating)</td>\n",
       "      <td>e14.5</td>\n",
       "      <td>Proliferative</td>\n",
       "    </tr>\n",
       "    <tr>\n",
       "      <th>29</th>\n",
       "      <td>Rapgef2</td>\n",
       "      <td>RG2 [14-E]</td>\n",
       "      <td>0.007653</td>\n",
       "      <td>RG2</td>\n",
       "      <td>e14.5</td>\n",
       "      <td>Proliferative</td>\n",
       "    </tr>\n",
       "    <tr>\n",
       "      <th>30</th>\n",
       "      <td>Rapgef2</td>\n",
       "      <td>RG3 (cortical hem) [21-E]</td>\n",
       "      <td>-0.148772</td>\n",
       "      <td>RG3 (cortical hem)</td>\n",
       "      <td>e14.5</td>\n",
       "      <td>Proliferative</td>\n",
       "    </tr>\n",
       "    <tr>\n",
       "      <th>31</th>\n",
       "      <td>Rapgef2</td>\n",
       "      <td>SVZ2 (VZ-SVZ) [11-E]</td>\n",
       "      <td>-0.056916</td>\n",
       "      <td>SVZ2 (VZ-SVZ)</td>\n",
       "      <td>e14.5</td>\n",
       "      <td>Proliferative</td>\n",
       "    </tr>\n",
       "    <tr>\n",
       "      <th>32</th>\n",
       "      <td>Rapgef2</td>\n",
       "      <td>RG1 [8-E]</td>\n",
       "      <td>-0.004143</td>\n",
       "      <td>RG1</td>\n",
       "      <td>e14.5</td>\n",
       "      <td>Proliferative</td>\n",
       "    </tr>\n",
       "    <tr>\n",
       "      <th>33</th>\n",
       "      <td>Rapgef2</td>\n",
       "      <td>RG4 [10-E]</td>\n",
       "      <td>-0.010727</td>\n",
       "      <td>RG4</td>\n",
       "      <td>e14.5</td>\n",
       "      <td>Proliferative</td>\n",
       "    </tr>\n",
       "    <tr>\n",
       "      <th>34</th>\n",
       "      <td>Rapgef2</td>\n",
       "      <td>Astrocytes (immature) 1 [10-P]</td>\n",
       "      <td>-0.016752</td>\n",
       "      <td>Astrocytes (immature) 1</td>\n",
       "      <td>p0</td>\n",
       "      <td>Non-Neuronal</td>\n",
       "    </tr>\n",
       "    <tr>\n",
       "      <th>35</th>\n",
       "      <td>Rapgef2</td>\n",
       "      <td>Astrocytes (immature) 2 [13-P]</td>\n",
       "      <td>0.062492</td>\n",
       "      <td>Astrocytes (immature) 2</td>\n",
       "      <td>p0</td>\n",
       "      <td>Non-Neuronal</td>\n",
       "    </tr>\n",
       "    <tr>\n",
       "      <th>36</th>\n",
       "      <td>Rapgef2</td>\n",
       "      <td>Oligodendrocytes [16-P]</td>\n",
       "      <td>0.041793</td>\n",
       "      <td>Oligodendrocytes</td>\n",
       "      <td>p0</td>\n",
       "      <td>Non-Neuronal</td>\n",
       "    </tr>\n",
       "    <tr>\n",
       "      <th>37</th>\n",
       "      <td>Rapgef2</td>\n",
       "      <td>Choroid plexus [22-E]</td>\n",
       "      <td>-0.017539</td>\n",
       "      <td>Choroid plexus</td>\n",
       "      <td>e14.5</td>\n",
       "      <td>Non-Neuronal</td>\n",
       "    </tr>\n",
       "    <tr>\n",
       "      <th>38</th>\n",
       "      <td>Rapgef2</td>\n",
       "      <td>Choroid plexus [20-P]</td>\n",
       "      <td>-0.040309</td>\n",
       "      <td>Choroid plexus</td>\n",
       "      <td>p0</td>\n",
       "      <td>Non-Neuronal</td>\n",
       "    </tr>\n",
       "    <tr>\n",
       "      <th>39</th>\n",
       "      <td>Rapgef2</td>\n",
       "      <td>Microglia [20-E]</td>\n",
       "      <td>-0.017471</td>\n",
       "      <td>Microglia</td>\n",
       "      <td>e14.5</td>\n",
       "      <td>Non-Neuronal</td>\n",
       "    </tr>\n",
       "    <tr>\n",
       "      <th>40</th>\n",
       "      <td>Rapgef2</td>\n",
       "      <td>Microglia [22-P]</td>\n",
       "      <td>-0.116140</td>\n",
       "      <td>Microglia</td>\n",
       "      <td>p0</td>\n",
       "      <td>Non-Neuronal</td>\n",
       "    </tr>\n",
       "    <tr>\n",
       "      <th>41</th>\n",
       "      <td>Rapgef2</td>\n",
       "      <td>Endothelial [18-E]</td>\n",
       "      <td>0.267331</td>\n",
       "      <td>Endothelial</td>\n",
       "      <td>e14.5</td>\n",
       "      <td>Non-Neuronal</td>\n",
       "    </tr>\n",
       "    <tr>\n",
       "      <th>42</th>\n",
       "      <td>Rapgef2</td>\n",
       "      <td>Endothelial2 [21-P]</td>\n",
       "      <td>0.331144</td>\n",
       "      <td>Endothelial2</td>\n",
       "      <td>p0</td>\n",
       "      <td>Non-Neuronal</td>\n",
       "    </tr>\n",
       "    <tr>\n",
       "      <th>43</th>\n",
       "      <td>Rapgef2</td>\n",
       "      <td>Endothelial1 [17-P]</td>\n",
       "      <td>0.377568</td>\n",
       "      <td>Endothelial1</td>\n",
       "      <td>p0</td>\n",
       "      <td>Non-Neuronal</td>\n",
       "    </tr>\n",
       "  </tbody>\n",
       "</table>\n",
       "</div>"
      ],
      "text/plain": [
       "     GeneID                         Cluster  Expression  \\\n",
       "0   Rapgef2                  Layer I [17-E]    0.035783   \n",
       "1   Rapgef2                  Layer I [19-P]   -0.060587   \n",
       "2   Rapgef2                Layer V-VI [2-E]    0.003438   \n",
       "3   Rapgef2              Layer II-IV [15-P]   -0.053297   \n",
       "4   Rapgef2                Layer V-VI [3-E]    0.034019   \n",
       "5   Rapgef2               Layer II-IV [1-P]   -0.011128   \n",
       "6   Rapgef2               Layer II-IV [4-P]   -0.015902   \n",
       "7   Rapgef2                Layer V-VI [5-E]    0.085108   \n",
       "8   Rapgef2               Layer V-VI [13-E]    0.030870   \n",
       "9   Rapgef2               Layer V-VI [18-P]    0.049781   \n",
       "10  Rapgef2                Layer V-VI [7-E]    0.081792   \n",
       "11  Rapgef2               Layer V-VI [12-P]    0.129189   \n",
       "12  Rapgef2          SVZ1 (migrating) [4-E]    0.081987   \n",
       "13  Rapgef2          SVZ1 (migrating) [2-P]   -0.090898   \n",
       "14  Rapgef2          SVZ2 (migrating) [8-P]   -0.000004   \n",
       "15  Rapgef2                      Int1 [1-E]   -0.119255   \n",
       "16  Rapgef2                      Int1 [5-P]   -0.055492   \n",
       "17  Rapgef2                     Int3 [11-P]    0.057162   \n",
       "18  Rapgef2                      Int4 [6-P]   -0.095149   \n",
       "19  Rapgef2                     Int2 [12-E]    0.074230   \n",
       "20  Rapgef2                     Int2 [14-P]    0.073767   \n",
       "21  Rapgef2                 Thalamic [19-E]   -0.018171   \n",
       "22  Rapgef2            Striatal inh1 [16-E]   -0.059970   \n",
       "23  Rapgef2             Striatal inh1 [3-P]    0.027200   \n",
       "24  Rapgef2             Striatal inh2 [9-E]   -0.100067   \n",
       "25  Rapgef2             Striatal inh2 [7-P]    0.009913   \n",
       "26  Rapgef2      Ganglionic eminences [6-E]   -0.079696   \n",
       "27  Rapgef2      Ganglionic eminences [9-P]   -0.046773   \n",
       "28  Rapgef2     SVZ3 (proliferating) [15-E]    0.001320   \n",
       "29  Rapgef2                      RG2 [14-E]    0.007653   \n",
       "30  Rapgef2       RG3 (cortical hem) [21-E]   -0.148772   \n",
       "31  Rapgef2            SVZ2 (VZ-SVZ) [11-E]   -0.056916   \n",
       "32  Rapgef2                       RG1 [8-E]   -0.004143   \n",
       "33  Rapgef2                      RG4 [10-E]   -0.010727   \n",
       "34  Rapgef2  Astrocytes (immature) 1 [10-P]   -0.016752   \n",
       "35  Rapgef2  Astrocytes (immature) 2 [13-P]    0.062492   \n",
       "36  Rapgef2         Oligodendrocytes [16-P]    0.041793   \n",
       "37  Rapgef2           Choroid plexus [22-E]   -0.017539   \n",
       "38  Rapgef2           Choroid plexus [20-P]   -0.040309   \n",
       "39  Rapgef2                Microglia [20-E]   -0.017471   \n",
       "40  Rapgef2                Microglia [22-P]   -0.116140   \n",
       "41  Rapgef2              Endothelial [18-E]    0.267331   \n",
       "42  Rapgef2             Endothelial2 [21-P]    0.331144   \n",
       "43  Rapgef2             Endothelial1 [17-P]    0.377568   \n",
       "\n",
       "                   Cell_Type    Age         Category  \n",
       "0                   Layer I   e14.5  Cortical Layers  \n",
       "1                   Layer I      p0  Cortical Layers  \n",
       "2                Layer V-VI   e14.5  Cortical Layers  \n",
       "3               Layer II-IV      p0  Cortical Layers  \n",
       "4                Layer V-VI   e14.5  Cortical Layers  \n",
       "5               Layer II-IV      p0  Cortical Layers  \n",
       "6               Layer II-IV      p0  Cortical Layers  \n",
       "7                Layer V-VI   e14.5  Cortical Layers  \n",
       "8                Layer V-VI   e14.5  Cortical Layers  \n",
       "9                Layer V-VI      p0  Cortical Layers  \n",
       "10               Layer V-VI   e14.5  Cortical Layers  \n",
       "11               Layer V-VI      p0  Cortical Layers  \n",
       "12         SVZ1 (migrating)   e14.5    Proliferative  \n",
       "13         SVZ1 (migrating)      p0    Proliferative  \n",
       "14         SVZ2 (migrating)      p0    Proliferative  \n",
       "15                     Int1   e14.5       Inhibitory  \n",
       "16                     Int1      p0       Inhibitory  \n",
       "17                     Int3      p0       Inhibitory  \n",
       "18                     Int4      p0       Inhibitory  \n",
       "19                     Int2   e14.5       Inhibitory  \n",
       "20                     Int2      p0       Inhibitory  \n",
       "21                 Thalamic   e14.5         Midbrain  \n",
       "22            Striatal inh1   e14.5         Midbrain  \n",
       "23            Striatal inh1      p0         Midbrain  \n",
       "24            Striatal inh2   e14.5         Midbrain  \n",
       "25            Striatal inh2      p0         Midbrain  \n",
       "26     Ganglionic eminences   e14.5     Non-Neuronal  \n",
       "27     Ganglionic eminences      p0     Non-Neuronal  \n",
       "28     SVZ3 (proliferating)   e14.5    Proliferative  \n",
       "29                      RG2   e14.5    Proliferative  \n",
       "30       RG3 (cortical hem)   e14.5    Proliferative  \n",
       "31            SVZ2 (VZ-SVZ)   e14.5    Proliferative  \n",
       "32                      RG1   e14.5    Proliferative  \n",
       "33                      RG4   e14.5    Proliferative  \n",
       "34  Astrocytes (immature) 1      p0     Non-Neuronal  \n",
       "35  Astrocytes (immature) 2      p0     Non-Neuronal  \n",
       "36         Oligodendrocytes      p0     Non-Neuronal  \n",
       "37           Choroid plexus   e14.5     Non-Neuronal  \n",
       "38           Choroid plexus      p0     Non-Neuronal  \n",
       "39                Microglia   e14.5     Non-Neuronal  \n",
       "40                Microglia      p0     Non-Neuronal  \n",
       "41              Endothelial   e14.5     Non-Neuronal  \n",
       "42             Endothelial2      p0     Non-Neuronal  \n",
       "43             Endothelial1      p0     Non-Neuronal  "
      ]
     },
     "execution_count": 99,
     "metadata": {},
     "output_type": "execute_result"
    }
   ],
   "source": [
    "ages = []\n",
    "cell_type = []\n",
    "supergroup = []\n",
    "import re\n",
    "\n",
    "for i in data_gene_cell2['Cluster']:    \n",
    "    if '-P]' in i:\n",
    "        ages.append('p0')\n",
    "    if '-E]' in i:\n",
    "        ages.append('e14.5')\n",
    "    if 'Layer' in i:\n",
    "        supergroup.append(\"Cortical Layers\")\n",
    "    if any(x in i for x in ['Endothelial','Choroid','Astrocyte','Oligo','Ganglionic','Micro']): \n",
    "        supergroup.append(\"Non-Neuronal\")\n",
    "    if any(x in i for x in ['SVZ','RG']): \n",
    "        supergroup.append(\"Proliferative\")\n",
    "    if \"Int\" in i:\n",
    "        supergroup.append(\"Inhibitory\")\n",
    "    if any(x in i for x in ['Thalamic','Striatal']): \n",
    "        supergroup.append(\"Midbrain\")\n",
    "    j = re.sub(\"[\\[].*?[\\]]\", \"\", i)\n",
    "    cell_type.append(j)\n",
    "\n",
    "data_gene_cell2['Cell_Type'] = cell_type\n",
    "data_gene_cell2['Age'] = ages\n",
    "data_gene_cell2['Category'] = supergroup\n",
    "data_gene_cell2"
   ]
  },
  {
   "cell_type": "code",
   "execution_count": null,
   "metadata": {},
   "outputs": [],
   "source": []
  },
  {
   "cell_type": "code",
   "execution_count": 104,
   "metadata": {},
   "outputs": [
    {
     "data": {
      "application/vnd.plotly.v1+json": {
       "config": {
        "plotlyServerURL": "https://plot.ly"
       },
       "data": [
        {
         "alignmentgroup": "True",
         "customdata": [
          [
           "e14.5",
           "Layer I [17-E]"
          ],
          [
           "e14.5",
           "Layer V-VI [2-E]"
          ],
          [
           "e14.5",
           "Layer V-VI [3-E]"
          ],
          [
           "e14.5",
           "Layer V-VI [5-E]"
          ],
          [
           "e14.5",
           "Layer V-VI [13-E]"
          ],
          [
           "e14.5",
           "Layer V-VI [7-E]"
          ],
          [
           "e14.5",
           "SVZ1 (migrating) [4-E]"
          ],
          [
           "e14.5",
           "Int1 [1-E]"
          ],
          [
           "e14.5",
           "Int2 [12-E]"
          ],
          [
           "e14.5",
           "Thalamic [19-E]"
          ],
          [
           "e14.5",
           "Striatal inh1 [16-E]"
          ],
          [
           "e14.5",
           "Striatal inh2 [9-E]"
          ],
          [
           "e14.5",
           "Ganglionic eminences [6-E]"
          ],
          [
           "e14.5",
           "SVZ3 (proliferating) [15-E]"
          ],
          [
           "e14.5",
           "RG2 [14-E]"
          ],
          [
           "e14.5",
           "RG3 (cortical hem) [21-E]"
          ],
          [
           "e14.5",
           "SVZ2 (VZ-SVZ) [11-E]"
          ],
          [
           "e14.5",
           "RG1 [8-E]"
          ],
          [
           "e14.5",
           "RG4 [10-E]"
          ],
          [
           "e14.5",
           "Choroid plexus [22-E]"
          ],
          [
           "e14.5",
           "Microglia [20-E]"
          ],
          [
           "e14.5",
           "Endothelial [18-E]"
          ]
         ],
         "hovertemplate": "<b>%{hovertext}</b><br><br>Age=%{customdata[0]}<br>Category=%{x}<br>Expression=%{y}<br>Cluster=%{customdata[1]}<extra></extra>",
         "hovertext": [
          "Layer I ",
          "Layer V-VI ",
          "Layer V-VI ",
          "Layer V-VI ",
          "Layer V-VI ",
          "Layer V-VI ",
          "SVZ1 (migrating) ",
          "Int1 ",
          "Int2 ",
          "Thalamic ",
          "Striatal inh1 ",
          "Striatal inh2 ",
          "Ganglionic eminences ",
          "SVZ3 (proliferating) ",
          "RG2 ",
          "RG3 (cortical hem) ",
          "SVZ2 (VZ-SVZ) ",
          "RG1 ",
          "RG4 ",
          "Choroid plexus ",
          "Microglia ",
          "Endothelial "
         ],
         "legendgroup": "e14.5",
         "marker": {
          "color": "#636efa"
         },
         "name": "e14.5",
         "offsetgroup": "e14.5",
         "orientation": "v",
         "showlegend": true,
         "textposition": "auto",
         "type": "bar",
         "x": [
          "Cortical Layers",
          "Cortical Layers",
          "Cortical Layers",
          "Cortical Layers",
          "Cortical Layers",
          "Cortical Layers",
          "Proliferative",
          "Inhibitory",
          "Inhibitory",
          "Midbrain",
          "Midbrain",
          "Midbrain",
          "Non-Neuronal",
          "Proliferative",
          "Proliferative",
          "Proliferative",
          "Proliferative",
          "Proliferative",
          "Proliferative",
          "Non-Neuronal",
          "Non-Neuronal",
          "Non-Neuronal"
         ],
         "xaxis": "x",
         "y": [
          0.035783348,
          0.003438035,
          0.034018797999999996,
          0.085107604,
          0.030869591000000002,
          0.08179170599999999,
          0.08198662599999999,
          -0.119255049,
          0.074230353,
          -0.018170602,
          -0.05996990000000001,
          -0.10006749699999999,
          -0.079695693,
          0.0013201920000000002,
          0.007653448,
          -0.148772245,
          -0.056915783,
          -0.004143455999999999,
          -0.010726578999999998,
          -0.017539161,
          -0.017471371,
          0.267331428
         ],
         "yaxis": "y"
        },
        {
         "alignmentgroup": "True",
         "customdata": [
          [
           "p0",
           "Layer I [19-P]"
          ],
          [
           "p0",
           "Layer II-IV [15-P]"
          ],
          [
           "p0",
           "Layer II-IV [1-P]"
          ],
          [
           "p0",
           "Layer II-IV [4-P]"
          ],
          [
           "p0",
           "Layer V-VI [18-P]"
          ],
          [
           "p0",
           "Layer V-VI [12-P]"
          ],
          [
           "p0",
           "SVZ1 (migrating) [2-P]"
          ],
          [
           "p0",
           "SVZ2 (migrating) [8-P]"
          ],
          [
           "p0",
           "Int1 [5-P]"
          ],
          [
           "p0",
           "Int3 [11-P]"
          ],
          [
           "p0",
           "Int4 [6-P]"
          ],
          [
           "p0",
           "Int2 [14-P]"
          ],
          [
           "p0",
           "Striatal inh1 [3-P]"
          ],
          [
           "p0",
           "Striatal inh2 [7-P]"
          ],
          [
           "p0",
           "Ganglionic eminences [9-P]"
          ],
          [
           "p0",
           "Astrocytes (immature) 1 [10-P]"
          ],
          [
           "p0",
           "Astrocytes (immature) 2 [13-P]"
          ],
          [
           "p0",
           "Oligodendrocytes [16-P]"
          ],
          [
           "p0",
           "Choroid plexus [20-P]"
          ],
          [
           "p0",
           "Microglia [22-P]"
          ],
          [
           "p0",
           "Endothelial2 [21-P]"
          ],
          [
           "p0",
           "Endothelial1 [17-P]"
          ]
         ],
         "hovertemplate": "<b>%{hovertext}</b><br><br>Age=%{customdata[0]}<br>Category=%{x}<br>Expression=%{y}<br>Cluster=%{customdata[1]}<extra></extra>",
         "hovertext": [
          "Layer I ",
          "Layer II-IV ",
          "Layer II-IV ",
          "Layer II-IV ",
          "Layer V-VI ",
          "Layer V-VI ",
          "SVZ1 (migrating) ",
          "SVZ2 (migrating) ",
          "Int1 ",
          "Int3 ",
          "Int4 ",
          "Int2 ",
          "Striatal inh1 ",
          "Striatal inh2 ",
          "Ganglionic eminences ",
          "Astrocytes (immature) 1 ",
          "Astrocytes (immature) 2 ",
          "Oligodendrocytes ",
          "Choroid plexus ",
          "Microglia ",
          "Endothelial2 ",
          "Endothelial1 "
         ],
         "legendgroup": "p0",
         "marker": {
          "color": "#EF553B"
         },
         "name": "p0",
         "offsetgroup": "p0",
         "orientation": "v",
         "showlegend": true,
         "textposition": "auto",
         "type": "bar",
         "x": [
          "Cortical Layers",
          "Cortical Layers",
          "Cortical Layers",
          "Cortical Layers",
          "Cortical Layers",
          "Cortical Layers",
          "Proliferative",
          "Proliferative",
          "Inhibitory",
          "Inhibitory",
          "Inhibitory",
          "Inhibitory",
          "Midbrain",
          "Midbrain",
          "Non-Neuronal",
          "Non-Neuronal",
          "Non-Neuronal",
          "Non-Neuronal",
          "Non-Neuronal",
          "Non-Neuronal",
          "Non-Neuronal",
          "Non-Neuronal"
         ],
         "xaxis": "x",
         "y": [
          -0.060587172,
          -0.053296800000000005,
          -0.011128143,
          -0.015901945,
          0.049780915999999995,
          0.129189029,
          -0.09089812,
          -3.54e-06,
          -0.055491967999999996,
          0.057162320999999995,
          -0.095149049,
          0.073766575,
          0.027200405,
          0.009913432,
          -0.04677294,
          -0.016751734,
          0.062491668,
          0.041792561,
          -0.040309154,
          -0.116139602,
          0.331144434,
          0.377568151
         ],
         "yaxis": "y"
        }
       ],
       "layout": {
        "barmode": "group",
        "legend": {
         "title": {
          "text": "Age"
         },
         "tracegroupgap": 0
        },
        "margin": {
         "t": 60
        },
        "template": {
         "data": {
          "bar": [
           {
            "error_x": {
             "color": "#2a3f5f"
            },
            "error_y": {
             "color": "#2a3f5f"
            },
            "marker": {
             "line": {
              "color": "#E5ECF6",
              "width": 0.5
             }
            },
            "type": "bar"
           }
          ],
          "barpolar": [
           {
            "marker": {
             "line": {
              "color": "#E5ECF6",
              "width": 0.5
             }
            },
            "type": "barpolar"
           }
          ],
          "carpet": [
           {
            "aaxis": {
             "endlinecolor": "#2a3f5f",
             "gridcolor": "white",
             "linecolor": "white",
             "minorgridcolor": "white",
             "startlinecolor": "#2a3f5f"
            },
            "baxis": {
             "endlinecolor": "#2a3f5f",
             "gridcolor": "white",
             "linecolor": "white",
             "minorgridcolor": "white",
             "startlinecolor": "#2a3f5f"
            },
            "type": "carpet"
           }
          ],
          "choropleth": [
           {
            "colorbar": {
             "outlinewidth": 0,
             "ticks": ""
            },
            "type": "choropleth"
           }
          ],
          "contour": [
           {
            "colorbar": {
             "outlinewidth": 0,
             "ticks": ""
            },
            "colorscale": [
             [
              0,
              "#0d0887"
             ],
             [
              0.1111111111111111,
              "#46039f"
             ],
             [
              0.2222222222222222,
              "#7201a8"
             ],
             [
              0.3333333333333333,
              "#9c179e"
             ],
             [
              0.4444444444444444,
              "#bd3786"
             ],
             [
              0.5555555555555556,
              "#d8576b"
             ],
             [
              0.6666666666666666,
              "#ed7953"
             ],
             [
              0.7777777777777778,
              "#fb9f3a"
             ],
             [
              0.8888888888888888,
              "#fdca26"
             ],
             [
              1,
              "#f0f921"
             ]
            ],
            "type": "contour"
           }
          ],
          "contourcarpet": [
           {
            "colorbar": {
             "outlinewidth": 0,
             "ticks": ""
            },
            "type": "contourcarpet"
           }
          ],
          "heatmap": [
           {
            "colorbar": {
             "outlinewidth": 0,
             "ticks": ""
            },
            "colorscale": [
             [
              0,
              "#0d0887"
             ],
             [
              0.1111111111111111,
              "#46039f"
             ],
             [
              0.2222222222222222,
              "#7201a8"
             ],
             [
              0.3333333333333333,
              "#9c179e"
             ],
             [
              0.4444444444444444,
              "#bd3786"
             ],
             [
              0.5555555555555556,
              "#d8576b"
             ],
             [
              0.6666666666666666,
              "#ed7953"
             ],
             [
              0.7777777777777778,
              "#fb9f3a"
             ],
             [
              0.8888888888888888,
              "#fdca26"
             ],
             [
              1,
              "#f0f921"
             ]
            ],
            "type": "heatmap"
           }
          ],
          "heatmapgl": [
           {
            "colorbar": {
             "outlinewidth": 0,
             "ticks": ""
            },
            "colorscale": [
             [
              0,
              "#0d0887"
             ],
             [
              0.1111111111111111,
              "#46039f"
             ],
             [
              0.2222222222222222,
              "#7201a8"
             ],
             [
              0.3333333333333333,
              "#9c179e"
             ],
             [
              0.4444444444444444,
              "#bd3786"
             ],
             [
              0.5555555555555556,
              "#d8576b"
             ],
             [
              0.6666666666666666,
              "#ed7953"
             ],
             [
              0.7777777777777778,
              "#fb9f3a"
             ],
             [
              0.8888888888888888,
              "#fdca26"
             ],
             [
              1,
              "#f0f921"
             ]
            ],
            "type": "heatmapgl"
           }
          ],
          "histogram": [
           {
            "marker": {
             "colorbar": {
              "outlinewidth": 0,
              "ticks": ""
             }
            },
            "type": "histogram"
           }
          ],
          "histogram2d": [
           {
            "colorbar": {
             "outlinewidth": 0,
             "ticks": ""
            },
            "colorscale": [
             [
              0,
              "#0d0887"
             ],
             [
              0.1111111111111111,
              "#46039f"
             ],
             [
              0.2222222222222222,
              "#7201a8"
             ],
             [
              0.3333333333333333,
              "#9c179e"
             ],
             [
              0.4444444444444444,
              "#bd3786"
             ],
             [
              0.5555555555555556,
              "#d8576b"
             ],
             [
              0.6666666666666666,
              "#ed7953"
             ],
             [
              0.7777777777777778,
              "#fb9f3a"
             ],
             [
              0.8888888888888888,
              "#fdca26"
             ],
             [
              1,
              "#f0f921"
             ]
            ],
            "type": "histogram2d"
           }
          ],
          "histogram2dcontour": [
           {
            "colorbar": {
             "outlinewidth": 0,
             "ticks": ""
            },
            "colorscale": [
             [
              0,
              "#0d0887"
             ],
             [
              0.1111111111111111,
              "#46039f"
             ],
             [
              0.2222222222222222,
              "#7201a8"
             ],
             [
              0.3333333333333333,
              "#9c179e"
             ],
             [
              0.4444444444444444,
              "#bd3786"
             ],
             [
              0.5555555555555556,
              "#d8576b"
             ],
             [
              0.6666666666666666,
              "#ed7953"
             ],
             [
              0.7777777777777778,
              "#fb9f3a"
             ],
             [
              0.8888888888888888,
              "#fdca26"
             ],
             [
              1,
              "#f0f921"
             ]
            ],
            "type": "histogram2dcontour"
           }
          ],
          "mesh3d": [
           {
            "colorbar": {
             "outlinewidth": 0,
             "ticks": ""
            },
            "type": "mesh3d"
           }
          ],
          "parcoords": [
           {
            "line": {
             "colorbar": {
              "outlinewidth": 0,
              "ticks": ""
             }
            },
            "type": "parcoords"
           }
          ],
          "pie": [
           {
            "automargin": true,
            "type": "pie"
           }
          ],
          "scatter": [
           {
            "marker": {
             "colorbar": {
              "outlinewidth": 0,
              "ticks": ""
             }
            },
            "type": "scatter"
           }
          ],
          "scatter3d": [
           {
            "line": {
             "colorbar": {
              "outlinewidth": 0,
              "ticks": ""
             }
            },
            "marker": {
             "colorbar": {
              "outlinewidth": 0,
              "ticks": ""
             }
            },
            "type": "scatter3d"
           }
          ],
          "scattercarpet": [
           {
            "marker": {
             "colorbar": {
              "outlinewidth": 0,
              "ticks": ""
             }
            },
            "type": "scattercarpet"
           }
          ],
          "scattergeo": [
           {
            "marker": {
             "colorbar": {
              "outlinewidth": 0,
              "ticks": ""
             }
            },
            "type": "scattergeo"
           }
          ],
          "scattergl": [
           {
            "marker": {
             "colorbar": {
              "outlinewidth": 0,
              "ticks": ""
             }
            },
            "type": "scattergl"
           }
          ],
          "scattermapbox": [
           {
            "marker": {
             "colorbar": {
              "outlinewidth": 0,
              "ticks": ""
             }
            },
            "type": "scattermapbox"
           }
          ],
          "scatterpolar": [
           {
            "marker": {
             "colorbar": {
              "outlinewidth": 0,
              "ticks": ""
             }
            },
            "type": "scatterpolar"
           }
          ],
          "scatterpolargl": [
           {
            "marker": {
             "colorbar": {
              "outlinewidth": 0,
              "ticks": ""
             }
            },
            "type": "scatterpolargl"
           }
          ],
          "scatterternary": [
           {
            "marker": {
             "colorbar": {
              "outlinewidth": 0,
              "ticks": ""
             }
            },
            "type": "scatterternary"
           }
          ],
          "surface": [
           {
            "colorbar": {
             "outlinewidth": 0,
             "ticks": ""
            },
            "colorscale": [
             [
              0,
              "#0d0887"
             ],
             [
              0.1111111111111111,
              "#46039f"
             ],
             [
              0.2222222222222222,
              "#7201a8"
             ],
             [
              0.3333333333333333,
              "#9c179e"
             ],
             [
              0.4444444444444444,
              "#bd3786"
             ],
             [
              0.5555555555555556,
              "#d8576b"
             ],
             [
              0.6666666666666666,
              "#ed7953"
             ],
             [
              0.7777777777777778,
              "#fb9f3a"
             ],
             [
              0.8888888888888888,
              "#fdca26"
             ],
             [
              1,
              "#f0f921"
             ]
            ],
            "type": "surface"
           }
          ],
          "table": [
           {
            "cells": {
             "fill": {
              "color": "#EBF0F8"
             },
             "line": {
              "color": "white"
             }
            },
            "header": {
             "fill": {
              "color": "#C8D4E3"
             },
             "line": {
              "color": "white"
             }
            },
            "type": "table"
           }
          ]
         },
         "layout": {
          "annotationdefaults": {
           "arrowcolor": "#2a3f5f",
           "arrowhead": 0,
           "arrowwidth": 1
          },
          "coloraxis": {
           "colorbar": {
            "outlinewidth": 0,
            "ticks": ""
           }
          },
          "colorscale": {
           "diverging": [
            [
             0,
             "#8e0152"
            ],
            [
             0.1,
             "#c51b7d"
            ],
            [
             0.2,
             "#de77ae"
            ],
            [
             0.3,
             "#f1b6da"
            ],
            [
             0.4,
             "#fde0ef"
            ],
            [
             0.5,
             "#f7f7f7"
            ],
            [
             0.6,
             "#e6f5d0"
            ],
            [
             0.7,
             "#b8e186"
            ],
            [
             0.8,
             "#7fbc41"
            ],
            [
             0.9,
             "#4d9221"
            ],
            [
             1,
             "#276419"
            ]
           ],
           "sequential": [
            [
             0,
             "#0d0887"
            ],
            [
             0.1111111111111111,
             "#46039f"
            ],
            [
             0.2222222222222222,
             "#7201a8"
            ],
            [
             0.3333333333333333,
             "#9c179e"
            ],
            [
             0.4444444444444444,
             "#bd3786"
            ],
            [
             0.5555555555555556,
             "#d8576b"
            ],
            [
             0.6666666666666666,
             "#ed7953"
            ],
            [
             0.7777777777777778,
             "#fb9f3a"
            ],
            [
             0.8888888888888888,
             "#fdca26"
            ],
            [
             1,
             "#f0f921"
            ]
           ],
           "sequentialminus": [
            [
             0,
             "#0d0887"
            ],
            [
             0.1111111111111111,
             "#46039f"
            ],
            [
             0.2222222222222222,
             "#7201a8"
            ],
            [
             0.3333333333333333,
             "#9c179e"
            ],
            [
             0.4444444444444444,
             "#bd3786"
            ],
            [
             0.5555555555555556,
             "#d8576b"
            ],
            [
             0.6666666666666666,
             "#ed7953"
            ],
            [
             0.7777777777777778,
             "#fb9f3a"
            ],
            [
             0.8888888888888888,
             "#fdca26"
            ],
            [
             1,
             "#f0f921"
            ]
           ]
          },
          "colorway": [
           "#636efa",
           "#EF553B",
           "#00cc96",
           "#ab63fa",
           "#FFA15A",
           "#19d3f3",
           "#FF6692",
           "#B6E880",
           "#FF97FF",
           "#FECB52"
          ],
          "font": {
           "color": "#2a3f5f"
          },
          "geo": {
           "bgcolor": "white",
           "lakecolor": "white",
           "landcolor": "#E5ECF6",
           "showlakes": true,
           "showland": true,
           "subunitcolor": "white"
          },
          "hoverlabel": {
           "align": "left"
          },
          "hovermode": "closest",
          "mapbox": {
           "style": "light"
          },
          "paper_bgcolor": "white",
          "plot_bgcolor": "#E5ECF6",
          "polar": {
           "angularaxis": {
            "gridcolor": "white",
            "linecolor": "white",
            "ticks": ""
           },
           "bgcolor": "#E5ECF6",
           "radialaxis": {
            "gridcolor": "white",
            "linecolor": "white",
            "ticks": ""
           }
          },
          "scene": {
           "xaxis": {
            "backgroundcolor": "#E5ECF6",
            "gridcolor": "white",
            "gridwidth": 2,
            "linecolor": "white",
            "showbackground": true,
            "ticks": "",
            "zerolinecolor": "white"
           },
           "yaxis": {
            "backgroundcolor": "#E5ECF6",
            "gridcolor": "white",
            "gridwidth": 2,
            "linecolor": "white",
            "showbackground": true,
            "ticks": "",
            "zerolinecolor": "white"
           },
           "zaxis": {
            "backgroundcolor": "#E5ECF6",
            "gridcolor": "white",
            "gridwidth": 2,
            "linecolor": "white",
            "showbackground": true,
            "ticks": "",
            "zerolinecolor": "white"
           }
          },
          "shapedefaults": {
           "line": {
            "color": "#2a3f5f"
           }
          },
          "ternary": {
           "aaxis": {
            "gridcolor": "white",
            "linecolor": "white",
            "ticks": ""
           },
           "baxis": {
            "gridcolor": "white",
            "linecolor": "white",
            "ticks": ""
           },
           "bgcolor": "#E5ECF6",
           "caxis": {
            "gridcolor": "white",
            "linecolor": "white",
            "ticks": ""
           }
          },
          "title": {
           "x": 0.05
          },
          "xaxis": {
           "automargin": true,
           "gridcolor": "white",
           "linecolor": "white",
           "ticks": "",
           "title": {
            "standoff": 15
           },
           "zerolinecolor": "white",
           "zerolinewidth": 2
          },
          "yaxis": {
           "automargin": true,
           "gridcolor": "white",
           "linecolor": "white",
           "ticks": "",
           "title": {
            "standoff": 15
           },
           "zerolinecolor": "white",
           "zerolinewidth": 2
          }
         }
        },
        "xaxis": {
         "anchor": "y",
         "domain": [
          0,
          1
         ],
         "title": {
          "text": "Category"
         }
        },
        "yaxis": {
         "anchor": "x",
         "domain": [
          0,
          1
         ],
         "title": {
          "text": "Expression"
         }
        }
       }
      },
      "text/html": [
       "<div>\n",
       "        \n",
       "        \n",
       "            <div id=\"f9d422eb-e637-43da-92d6-742c3fedff0c\" class=\"plotly-graph-div\" style=\"height:525px; width:100%;\"></div>\n",
       "            <script type=\"text/javascript\">\n",
       "                require([\"plotly\"], function(Plotly) {\n",
       "                    window.PLOTLYENV=window.PLOTLYENV || {};\n",
       "                    \n",
       "                if (document.getElementById(\"f9d422eb-e637-43da-92d6-742c3fedff0c\")) {\n",
       "                    Plotly.newPlot(\n",
       "                        'f9d422eb-e637-43da-92d6-742c3fedff0c',\n",
       "                        [{\"alignmentgroup\": \"True\", \"customdata\": [[\"e14.5\", \"Layer I [17-E]\"], [\"e14.5\", \"Layer V-VI [2-E]\"], [\"e14.5\", \"Layer V-VI [3-E]\"], [\"e14.5\", \"Layer V-VI [5-E]\"], [\"e14.5\", \"Layer V-VI [13-E]\"], [\"e14.5\", \"Layer V-VI [7-E]\"], [\"e14.5\", \"SVZ1 (migrating) [4-E]\"], [\"e14.5\", \"Int1 [1-E]\"], [\"e14.5\", \"Int2 [12-E]\"], [\"e14.5\", \"Thalamic [19-E]\"], [\"e14.5\", \"Striatal inh1 [16-E]\"], [\"e14.5\", \"Striatal inh2 [9-E]\"], [\"e14.5\", \"Ganglionic eminences [6-E]\"], [\"e14.5\", \"SVZ3 (proliferating) [15-E]\"], [\"e14.5\", \"RG2 [14-E]\"], [\"e14.5\", \"RG3 (cortical hem) [21-E]\"], [\"e14.5\", \"SVZ2 (VZ-SVZ) [11-E]\"], [\"e14.5\", \"RG1 [8-E]\"], [\"e14.5\", \"RG4 [10-E]\"], [\"e14.5\", \"Choroid plexus [22-E]\"], [\"e14.5\", \"Microglia [20-E]\"], [\"e14.5\", \"Endothelial [18-E]\"]], \"hovertemplate\": \"<b>%{hovertext}</b><br><br>Age=%{customdata[0]}<br>Category=%{x}<br>Expression=%{y}<br>Cluster=%{customdata[1]}<extra></extra>\", \"hovertext\": [\"Layer I \", \"Layer V-VI \", \"Layer V-VI \", \"Layer V-VI \", \"Layer V-VI \", \"Layer V-VI \", \"SVZ1 (migrating) \", \"Int1 \", \"Int2 \", \"Thalamic \", \"Striatal inh1 \", \"Striatal inh2 \", \"Ganglionic eminences \", \"SVZ3 (proliferating) \", \"RG2 \", \"RG3 (cortical hem) \", \"SVZ2 (VZ-SVZ) \", \"RG1 \", \"RG4 \", \"Choroid plexus \", \"Microglia \", \"Endothelial \"], \"legendgroup\": \"e14.5\", \"marker\": {\"color\": \"#636efa\"}, \"name\": \"e14.5\", \"offsetgroup\": \"e14.5\", \"orientation\": \"v\", \"showlegend\": true, \"textposition\": \"auto\", \"type\": \"bar\", \"x\": [\"Cortical Layers\", \"Cortical Layers\", \"Cortical Layers\", \"Cortical Layers\", \"Cortical Layers\", \"Cortical Layers\", \"Proliferative\", \"Inhibitory\", \"Inhibitory\", \"Midbrain\", \"Midbrain\", \"Midbrain\", \"Non-Neuronal\", \"Proliferative\", \"Proliferative\", \"Proliferative\", \"Proliferative\", \"Proliferative\", \"Proliferative\", \"Non-Neuronal\", \"Non-Neuronal\", \"Non-Neuronal\"], \"xaxis\": \"x\", \"y\": [0.035783348, 0.003438035, 0.034018797999999996, 0.085107604, 0.030869591000000002, 0.08179170599999999, 0.08198662599999999, -0.119255049, 0.074230353, -0.018170602, -0.05996990000000001, -0.10006749699999999, -0.079695693, 0.0013201920000000002, 0.007653448, -0.148772245, -0.056915783, -0.004143455999999999, -0.010726578999999998, -0.017539161, -0.017471371, 0.267331428], \"yaxis\": \"y\"}, {\"alignmentgroup\": \"True\", \"customdata\": [[\"p0\", \"Layer I [19-P]\"], [\"p0\", \"Layer II-IV [15-P]\"], [\"p0\", \"Layer II-IV [1-P]\"], [\"p0\", \"Layer II-IV [4-P]\"], [\"p0\", \"Layer V-VI [18-P]\"], [\"p0\", \"Layer V-VI [12-P]\"], [\"p0\", \"SVZ1 (migrating) [2-P]\"], [\"p0\", \"SVZ2 (migrating) [8-P]\"], [\"p0\", \"Int1 [5-P]\"], [\"p0\", \"Int3 [11-P]\"], [\"p0\", \"Int4 [6-P]\"], [\"p0\", \"Int2 [14-P]\"], [\"p0\", \"Striatal inh1 [3-P]\"], [\"p0\", \"Striatal inh2 [7-P]\"], [\"p0\", \"Ganglionic eminences [9-P]\"], [\"p0\", \"Astrocytes (immature) 1 [10-P]\"], [\"p0\", \"Astrocytes (immature) 2 [13-P]\"], [\"p0\", \"Oligodendrocytes [16-P]\"], [\"p0\", \"Choroid plexus [20-P]\"], [\"p0\", \"Microglia [22-P]\"], [\"p0\", \"Endothelial2 [21-P]\"], [\"p0\", \"Endothelial1 [17-P]\"]], \"hovertemplate\": \"<b>%{hovertext}</b><br><br>Age=%{customdata[0]}<br>Category=%{x}<br>Expression=%{y}<br>Cluster=%{customdata[1]}<extra></extra>\", \"hovertext\": [\"Layer I \", \"Layer II-IV \", \"Layer II-IV \", \"Layer II-IV \", \"Layer V-VI \", \"Layer V-VI \", \"SVZ1 (migrating) \", \"SVZ2 (migrating) \", \"Int1 \", \"Int3 \", \"Int4 \", \"Int2 \", \"Striatal inh1 \", \"Striatal inh2 \", \"Ganglionic eminences \", \"Astrocytes (immature) 1 \", \"Astrocytes (immature) 2 \", \"Oligodendrocytes \", \"Choroid plexus \", \"Microglia \", \"Endothelial2 \", \"Endothelial1 \"], \"legendgroup\": \"p0\", \"marker\": {\"color\": \"#EF553B\"}, \"name\": \"p0\", \"offsetgroup\": \"p0\", \"orientation\": \"v\", \"showlegend\": true, \"textposition\": \"auto\", \"type\": \"bar\", \"x\": [\"Cortical Layers\", \"Cortical Layers\", \"Cortical Layers\", \"Cortical Layers\", \"Cortical Layers\", \"Cortical Layers\", \"Proliferative\", \"Proliferative\", \"Inhibitory\", \"Inhibitory\", \"Inhibitory\", \"Inhibitory\", \"Midbrain\", \"Midbrain\", \"Non-Neuronal\", \"Non-Neuronal\", \"Non-Neuronal\", \"Non-Neuronal\", \"Non-Neuronal\", \"Non-Neuronal\", \"Non-Neuronal\", \"Non-Neuronal\"], \"xaxis\": \"x\", \"y\": [-0.060587172, -0.053296800000000005, -0.011128143, -0.015901945, 0.049780915999999995, 0.129189029, -0.09089812, -3.54e-06, -0.055491967999999996, 0.057162320999999995, -0.095149049, 0.073766575, 0.027200405, 0.009913432, -0.04677294, -0.016751734, 0.062491668, 0.041792561, -0.040309154, -0.116139602, 0.331144434, 0.377568151], \"yaxis\": \"y\"}],\n",
       "                        {\"barmode\": \"group\", \"legend\": {\"title\": {\"text\": \"Age\"}, \"tracegroupgap\": 0}, \"margin\": {\"t\": 60}, \"template\": {\"data\": {\"bar\": [{\"error_x\": {\"color\": \"#2a3f5f\"}, \"error_y\": {\"color\": \"#2a3f5f\"}, \"marker\": {\"line\": {\"color\": \"#E5ECF6\", \"width\": 0.5}}, \"type\": \"bar\"}], \"barpolar\": [{\"marker\": {\"line\": {\"color\": \"#E5ECF6\", \"width\": 0.5}}, \"type\": \"barpolar\"}], \"carpet\": [{\"aaxis\": {\"endlinecolor\": \"#2a3f5f\", \"gridcolor\": \"white\", \"linecolor\": \"white\", \"minorgridcolor\": \"white\", \"startlinecolor\": \"#2a3f5f\"}, \"baxis\": {\"endlinecolor\": \"#2a3f5f\", \"gridcolor\": \"white\", \"linecolor\": \"white\", \"minorgridcolor\": \"white\", \"startlinecolor\": \"#2a3f5f\"}, \"type\": \"carpet\"}], \"choropleth\": [{\"colorbar\": {\"outlinewidth\": 0, \"ticks\": \"\"}, \"type\": \"choropleth\"}], \"contour\": [{\"colorbar\": {\"outlinewidth\": 0, \"ticks\": \"\"}, \"colorscale\": [[0.0, \"#0d0887\"], [0.1111111111111111, \"#46039f\"], [0.2222222222222222, \"#7201a8\"], [0.3333333333333333, \"#9c179e\"], [0.4444444444444444, \"#bd3786\"], [0.5555555555555556, \"#d8576b\"], [0.6666666666666666, \"#ed7953\"], [0.7777777777777778, \"#fb9f3a\"], [0.8888888888888888, \"#fdca26\"], [1.0, \"#f0f921\"]], \"type\": \"contour\"}], \"contourcarpet\": [{\"colorbar\": {\"outlinewidth\": 0, \"ticks\": \"\"}, \"type\": \"contourcarpet\"}], \"heatmap\": [{\"colorbar\": {\"outlinewidth\": 0, \"ticks\": \"\"}, \"colorscale\": [[0.0, \"#0d0887\"], [0.1111111111111111, \"#46039f\"], [0.2222222222222222, \"#7201a8\"], [0.3333333333333333, \"#9c179e\"], [0.4444444444444444, \"#bd3786\"], [0.5555555555555556, \"#d8576b\"], [0.6666666666666666, \"#ed7953\"], [0.7777777777777778, \"#fb9f3a\"], [0.8888888888888888, \"#fdca26\"], [1.0, \"#f0f921\"]], \"type\": \"heatmap\"}], \"heatmapgl\": [{\"colorbar\": {\"outlinewidth\": 0, \"ticks\": \"\"}, \"colorscale\": [[0.0, \"#0d0887\"], [0.1111111111111111, \"#46039f\"], [0.2222222222222222, \"#7201a8\"], [0.3333333333333333, \"#9c179e\"], [0.4444444444444444, \"#bd3786\"], [0.5555555555555556, \"#d8576b\"], [0.6666666666666666, \"#ed7953\"], [0.7777777777777778, \"#fb9f3a\"], [0.8888888888888888, \"#fdca26\"], [1.0, \"#f0f921\"]], \"type\": \"heatmapgl\"}], \"histogram\": [{\"marker\": {\"colorbar\": {\"outlinewidth\": 0, \"ticks\": \"\"}}, \"type\": \"histogram\"}], \"histogram2d\": [{\"colorbar\": {\"outlinewidth\": 0, \"ticks\": \"\"}, \"colorscale\": [[0.0, \"#0d0887\"], [0.1111111111111111, \"#46039f\"], [0.2222222222222222, \"#7201a8\"], [0.3333333333333333, \"#9c179e\"], [0.4444444444444444, \"#bd3786\"], [0.5555555555555556, \"#d8576b\"], [0.6666666666666666, \"#ed7953\"], [0.7777777777777778, \"#fb9f3a\"], [0.8888888888888888, \"#fdca26\"], [1.0, \"#f0f921\"]], \"type\": \"histogram2d\"}], \"histogram2dcontour\": [{\"colorbar\": {\"outlinewidth\": 0, \"ticks\": \"\"}, \"colorscale\": [[0.0, \"#0d0887\"], [0.1111111111111111, \"#46039f\"], [0.2222222222222222, \"#7201a8\"], [0.3333333333333333, \"#9c179e\"], [0.4444444444444444, \"#bd3786\"], [0.5555555555555556, \"#d8576b\"], [0.6666666666666666, \"#ed7953\"], [0.7777777777777778, \"#fb9f3a\"], [0.8888888888888888, \"#fdca26\"], [1.0, \"#f0f921\"]], \"type\": \"histogram2dcontour\"}], \"mesh3d\": [{\"colorbar\": {\"outlinewidth\": 0, \"ticks\": \"\"}, \"type\": \"mesh3d\"}], \"parcoords\": [{\"line\": {\"colorbar\": {\"outlinewidth\": 0, \"ticks\": \"\"}}, \"type\": \"parcoords\"}], \"pie\": [{\"automargin\": true, \"type\": \"pie\"}], \"scatter\": [{\"marker\": {\"colorbar\": {\"outlinewidth\": 0, \"ticks\": \"\"}}, \"type\": \"scatter\"}], \"scatter3d\": [{\"line\": {\"colorbar\": {\"outlinewidth\": 0, \"ticks\": \"\"}}, \"marker\": {\"colorbar\": {\"outlinewidth\": 0, \"ticks\": \"\"}}, \"type\": \"scatter3d\"}], \"scattercarpet\": [{\"marker\": {\"colorbar\": {\"outlinewidth\": 0, \"ticks\": \"\"}}, \"type\": \"scattercarpet\"}], \"scattergeo\": [{\"marker\": {\"colorbar\": {\"outlinewidth\": 0, \"ticks\": \"\"}}, \"type\": \"scattergeo\"}], \"scattergl\": [{\"marker\": {\"colorbar\": {\"outlinewidth\": 0, \"ticks\": \"\"}}, \"type\": \"scattergl\"}], \"scattermapbox\": [{\"marker\": {\"colorbar\": {\"outlinewidth\": 0, \"ticks\": \"\"}}, \"type\": \"scattermapbox\"}], \"scatterpolar\": [{\"marker\": {\"colorbar\": {\"outlinewidth\": 0, \"ticks\": \"\"}}, \"type\": \"scatterpolar\"}], \"scatterpolargl\": [{\"marker\": {\"colorbar\": {\"outlinewidth\": 0, \"ticks\": \"\"}}, \"type\": \"scatterpolargl\"}], \"scatterternary\": [{\"marker\": {\"colorbar\": {\"outlinewidth\": 0, \"ticks\": \"\"}}, \"type\": \"scatterternary\"}], \"surface\": [{\"colorbar\": {\"outlinewidth\": 0, \"ticks\": \"\"}, \"colorscale\": [[0.0, \"#0d0887\"], [0.1111111111111111, \"#46039f\"], [0.2222222222222222, \"#7201a8\"], [0.3333333333333333, \"#9c179e\"], [0.4444444444444444, \"#bd3786\"], [0.5555555555555556, \"#d8576b\"], [0.6666666666666666, \"#ed7953\"], [0.7777777777777778, \"#fb9f3a\"], [0.8888888888888888, \"#fdca26\"], [1.0, \"#f0f921\"]], \"type\": \"surface\"}], \"table\": [{\"cells\": {\"fill\": {\"color\": \"#EBF0F8\"}, \"line\": {\"color\": \"white\"}}, \"header\": {\"fill\": {\"color\": \"#C8D4E3\"}, \"line\": {\"color\": \"white\"}}, \"type\": \"table\"}]}, \"layout\": {\"annotationdefaults\": {\"arrowcolor\": \"#2a3f5f\", \"arrowhead\": 0, \"arrowwidth\": 1}, \"coloraxis\": {\"colorbar\": {\"outlinewidth\": 0, \"ticks\": \"\"}}, \"colorscale\": {\"diverging\": [[0, \"#8e0152\"], [0.1, \"#c51b7d\"], [0.2, \"#de77ae\"], [0.3, \"#f1b6da\"], [0.4, \"#fde0ef\"], [0.5, \"#f7f7f7\"], [0.6, \"#e6f5d0\"], [0.7, \"#b8e186\"], [0.8, \"#7fbc41\"], [0.9, \"#4d9221\"], [1, \"#276419\"]], \"sequential\": [[0.0, \"#0d0887\"], [0.1111111111111111, \"#46039f\"], [0.2222222222222222, \"#7201a8\"], [0.3333333333333333, \"#9c179e\"], [0.4444444444444444, \"#bd3786\"], [0.5555555555555556, \"#d8576b\"], [0.6666666666666666, \"#ed7953\"], [0.7777777777777778, \"#fb9f3a\"], [0.8888888888888888, \"#fdca26\"], [1.0, \"#f0f921\"]], \"sequentialminus\": [[0.0, \"#0d0887\"], [0.1111111111111111, \"#46039f\"], [0.2222222222222222, \"#7201a8\"], [0.3333333333333333, \"#9c179e\"], [0.4444444444444444, \"#bd3786\"], [0.5555555555555556, \"#d8576b\"], [0.6666666666666666, \"#ed7953\"], [0.7777777777777778, \"#fb9f3a\"], [0.8888888888888888, \"#fdca26\"], [1.0, \"#f0f921\"]]}, \"colorway\": [\"#636efa\", \"#EF553B\", \"#00cc96\", \"#ab63fa\", \"#FFA15A\", \"#19d3f3\", \"#FF6692\", \"#B6E880\", \"#FF97FF\", \"#FECB52\"], \"font\": {\"color\": \"#2a3f5f\"}, \"geo\": {\"bgcolor\": \"white\", \"lakecolor\": \"white\", \"landcolor\": \"#E5ECF6\", \"showlakes\": true, \"showland\": true, \"subunitcolor\": \"white\"}, \"hoverlabel\": {\"align\": \"left\"}, \"hovermode\": \"closest\", \"mapbox\": {\"style\": \"light\"}, \"paper_bgcolor\": \"white\", \"plot_bgcolor\": \"#E5ECF6\", \"polar\": {\"angularaxis\": {\"gridcolor\": \"white\", \"linecolor\": \"white\", \"ticks\": \"\"}, \"bgcolor\": \"#E5ECF6\", \"radialaxis\": {\"gridcolor\": \"white\", \"linecolor\": \"white\", \"ticks\": \"\"}}, \"scene\": {\"xaxis\": {\"backgroundcolor\": \"#E5ECF6\", \"gridcolor\": \"white\", \"gridwidth\": 2, \"linecolor\": \"white\", \"showbackground\": true, \"ticks\": \"\", \"zerolinecolor\": \"white\"}, \"yaxis\": {\"backgroundcolor\": \"#E5ECF6\", \"gridcolor\": \"white\", \"gridwidth\": 2, \"linecolor\": \"white\", \"showbackground\": true, \"ticks\": \"\", \"zerolinecolor\": \"white\"}, \"zaxis\": {\"backgroundcolor\": \"#E5ECF6\", \"gridcolor\": \"white\", \"gridwidth\": 2, \"linecolor\": \"white\", \"showbackground\": true, \"ticks\": \"\", \"zerolinecolor\": \"white\"}}, \"shapedefaults\": {\"line\": {\"color\": \"#2a3f5f\"}}, \"ternary\": {\"aaxis\": {\"gridcolor\": \"white\", \"linecolor\": \"white\", \"ticks\": \"\"}, \"baxis\": {\"gridcolor\": \"white\", \"linecolor\": \"white\", \"ticks\": \"\"}, \"bgcolor\": \"#E5ECF6\", \"caxis\": {\"gridcolor\": \"white\", \"linecolor\": \"white\", \"ticks\": \"\"}}, \"title\": {\"x\": 0.05}, \"xaxis\": {\"automargin\": true, \"gridcolor\": \"white\", \"linecolor\": \"white\", \"ticks\": \"\", \"title\": {\"standoff\": 15}, \"zerolinecolor\": \"white\", \"zerolinewidth\": 2}, \"yaxis\": {\"automargin\": true, \"gridcolor\": \"white\", \"linecolor\": \"white\", \"ticks\": \"\", \"title\": {\"standoff\": 15}, \"zerolinecolor\": \"white\", \"zerolinewidth\": 2}}}, \"xaxis\": {\"anchor\": \"y\", \"domain\": [0.0, 1.0], \"title\": {\"text\": \"Category\"}}, \"yaxis\": {\"anchor\": \"x\", \"domain\": [0.0, 1.0], \"title\": {\"text\": \"Expression\"}}},\n",
       "                        {\"responsive\": true}\n",
       "                    ).then(function(){\n",
       "                            \n",
       "var gd = document.getElementById('f9d422eb-e637-43da-92d6-742c3fedff0c');\n",
       "var x = new MutationObserver(function (mutations, observer) {{\n",
       "        var display = window.getComputedStyle(gd).display;\n",
       "        if (!display || display === 'none') {{\n",
       "            console.log([gd, 'removed!']);\n",
       "            Plotly.purge(gd);\n",
       "            observer.disconnect();\n",
       "        }}\n",
       "}});\n",
       "\n",
       "// Listen for the removal of the full notebook cells\n",
       "var notebookContainer = gd.closest('#notebook-container');\n",
       "if (notebookContainer) {{\n",
       "    x.observe(notebookContainer, {childList: true});\n",
       "}}\n",
       "\n",
       "// Listen for the clearing of the current output cell\n",
       "var outputEl = gd.closest('.output');\n",
       "if (outputEl) {{\n",
       "    x.observe(outputEl, {childList: true});\n",
       "}}\n",
       "\n",
       "                        })\n",
       "                };\n",
       "                });\n",
       "            </script>\n",
       "        </div>"
      ]
     },
     "metadata": {},
     "output_type": "display_data"
    },
    {
     "data": {
      "application/vnd.plotly.v1+json": {
       "config": {
        "plotlyServerURL": "https://plot.ly"
       },
       "data": [
        {
         "cells": {
          "align": "left",
          "fill": {
           "color": "lavender"
          },
          "values": [
           [
            "Rapgef2",
            "Rapgef2",
            "Rapgef2",
            "Rapgef2",
            "Rapgef2",
            "Rapgef2",
            "Rapgef2",
            "Rapgef2",
            "Rapgef2",
            "Rapgef2",
            "Rapgef2",
            "Rapgef2",
            "Rapgef2",
            "Rapgef2",
            "Rapgef2",
            "Rapgef2",
            "Rapgef2",
            "Rapgef2",
            "Rapgef2",
            "Rapgef2",
            "Rapgef2",
            "Rapgef2",
            "Rapgef2",
            "Rapgef2",
            "Rapgef2",
            "Rapgef2",
            "Rapgef2",
            "Rapgef2",
            "Rapgef2",
            "Rapgef2",
            "Rapgef2",
            "Rapgef2",
            "Rapgef2",
            "Rapgef2",
            "Rapgef2",
            "Rapgef2",
            "Rapgef2",
            "Rapgef2",
            "Rapgef2",
            "Rapgef2",
            "Rapgef2",
            "Rapgef2",
            "Rapgef2",
            "Rapgef2"
           ],
           [
            "Layer I [17-E]",
            "Layer I [19-P]",
            "Layer V-VI [2-E]",
            "Layer II-IV [15-P]",
            "Layer V-VI [3-E]",
            "Layer II-IV [1-P]",
            "Layer II-IV [4-P]",
            "Layer V-VI [5-E]",
            "Layer V-VI [13-E]",
            "Layer V-VI [18-P]",
            "Layer V-VI [7-E]",
            "Layer V-VI [12-P]",
            "SVZ1 (migrating) [4-E]",
            "SVZ1 (migrating) [2-P]",
            "SVZ2 (migrating) [8-P]",
            "Int1 [1-E]",
            "Int1 [5-P]",
            "Int3 [11-P]",
            "Int4 [6-P]",
            "Int2 [12-E]",
            "Int2 [14-P]",
            "Thalamic [19-E]",
            "Striatal inh1 [16-E]",
            "Striatal inh1 [3-P]",
            "Striatal inh2 [9-E]",
            "Striatal inh2 [7-P]",
            "Ganglionic eminences [6-E]",
            "Ganglionic eminences [9-P]",
            "SVZ3 (proliferating) [15-E]",
            "RG2 [14-E]",
            "RG3 (cortical hem) [21-E]",
            "SVZ2 (VZ-SVZ) [11-E]",
            "RG1 [8-E]",
            "RG4 [10-E]",
            "Astrocytes (immature) 1 [10-P]",
            "Astrocytes (immature) 2 [13-P]",
            "Oligodendrocytes [16-P]",
            "Choroid plexus [22-E]",
            "Choroid plexus [20-P]",
            "Microglia [20-E]",
            "Microglia [22-P]",
            "Endothelial [18-E]",
            "Endothelial2 [21-P]",
            "Endothelial1 [17-P]"
           ],
           [
            0.035783348,
            -0.060587172,
            0.003438035,
            -0.053296800000000005,
            0.034018797999999996,
            -0.011128143,
            -0.015901945,
            0.085107604,
            0.030869591000000002,
            0.049780915999999995,
            0.08179170599999999,
            0.129189029,
            0.08198662599999999,
            -0.09089812,
            -3.54e-06,
            -0.119255049,
            -0.055491967999999996,
            0.057162320999999995,
            -0.095149049,
            0.074230353,
            0.073766575,
            -0.018170602,
            -0.05996990000000001,
            0.027200405,
            -0.10006749699999999,
            0.009913432,
            -0.079695693,
            -0.04677294,
            0.0013201920000000002,
            0.007653448,
            -0.148772245,
            -0.056915783,
            -0.004143455999999999,
            -0.010726578999999998,
            -0.016751734,
            0.062491668,
            0.041792561,
            -0.017539161,
            -0.040309154,
            -0.017471371,
            -0.116139602,
            0.267331428,
            0.331144434,
            0.377568151
           ],
           [
            "Layer I ",
            "Layer I ",
            "Layer V-VI ",
            "Layer II-IV ",
            "Layer V-VI ",
            "Layer II-IV ",
            "Layer II-IV ",
            "Layer V-VI ",
            "Layer V-VI ",
            "Layer V-VI ",
            "Layer V-VI ",
            "Layer V-VI ",
            "SVZ1 (migrating) ",
            "SVZ1 (migrating) ",
            "SVZ2 (migrating) ",
            "Int1 ",
            "Int1 ",
            "Int3 ",
            "Int4 ",
            "Int2 ",
            "Int2 ",
            "Thalamic ",
            "Striatal inh1 ",
            "Striatal inh1 ",
            "Striatal inh2 ",
            "Striatal inh2 ",
            "Ganglionic eminences ",
            "Ganglionic eminences ",
            "SVZ3 (proliferating) ",
            "RG2 ",
            "RG3 (cortical hem) ",
            "SVZ2 (VZ-SVZ) ",
            "RG1 ",
            "RG4 ",
            "Astrocytes (immature) 1 ",
            "Astrocytes (immature) 2 ",
            "Oligodendrocytes ",
            "Choroid plexus ",
            "Choroid plexus ",
            "Microglia ",
            "Microglia ",
            "Endothelial ",
            "Endothelial2 ",
            "Endothelial1 "
           ],
           [
            "e14.5",
            "p0",
            "e14.5",
            "p0",
            "e14.5",
            "p0",
            "p0",
            "e14.5",
            "e14.5",
            "p0",
            "e14.5",
            "p0",
            "e14.5",
            "p0",
            "p0",
            "e14.5",
            "p0",
            "p0",
            "p0",
            "e14.5",
            "p0",
            "e14.5",
            "e14.5",
            "p0",
            "e14.5",
            "p0",
            "e14.5",
            "p0",
            "e14.5",
            "e14.5",
            "e14.5",
            "e14.5",
            "e14.5",
            "e14.5",
            "p0",
            "p0",
            "p0",
            "e14.5",
            "p0",
            "e14.5",
            "p0",
            "e14.5",
            "p0",
            "p0"
           ],
           [
            "Cortical Layers",
            "Cortical Layers",
            "Cortical Layers",
            "Cortical Layers",
            "Cortical Layers",
            "Cortical Layers",
            "Cortical Layers",
            "Cortical Layers",
            "Cortical Layers",
            "Cortical Layers",
            "Cortical Layers",
            "Cortical Layers",
            "Proliferative",
            "Proliferative",
            "Proliferative",
            "Inhibitory",
            "Inhibitory",
            "Inhibitory",
            "Inhibitory",
            "Inhibitory",
            "Inhibitory",
            "Midbrain",
            "Midbrain",
            "Midbrain",
            "Midbrain",
            "Midbrain",
            "Non-Neuronal",
            "Non-Neuronal",
            "Proliferative",
            "Proliferative",
            "Proliferative",
            "Proliferative",
            "Proliferative",
            "Proliferative",
            "Non-Neuronal",
            "Non-Neuronal",
            "Non-Neuronal",
            "Non-Neuronal",
            "Non-Neuronal",
            "Non-Neuronal",
            "Non-Neuronal",
            "Non-Neuronal",
            "Non-Neuronal",
            "Non-Neuronal"
           ]
          ]
         },
         "header": {
          "align": "left",
          "fill": {
           "color": "paleturquoise"
          },
          "values": [
           "GeneID",
           "Cluster",
           "Expression",
           "Cell_Type",
           "Age",
           "Category"
          ]
         },
         "type": "table"
        }
       ],
       "layout": {
        "template": {
         "data": {
          "bar": [
           {
            "error_x": {
             "color": "#2a3f5f"
            },
            "error_y": {
             "color": "#2a3f5f"
            },
            "marker": {
             "line": {
              "color": "#E5ECF6",
              "width": 0.5
             }
            },
            "type": "bar"
           }
          ],
          "barpolar": [
           {
            "marker": {
             "line": {
              "color": "#E5ECF6",
              "width": 0.5
             }
            },
            "type": "barpolar"
           }
          ],
          "carpet": [
           {
            "aaxis": {
             "endlinecolor": "#2a3f5f",
             "gridcolor": "white",
             "linecolor": "white",
             "minorgridcolor": "white",
             "startlinecolor": "#2a3f5f"
            },
            "baxis": {
             "endlinecolor": "#2a3f5f",
             "gridcolor": "white",
             "linecolor": "white",
             "minorgridcolor": "white",
             "startlinecolor": "#2a3f5f"
            },
            "type": "carpet"
           }
          ],
          "choropleth": [
           {
            "colorbar": {
             "outlinewidth": 0,
             "ticks": ""
            },
            "type": "choropleth"
           }
          ],
          "contour": [
           {
            "colorbar": {
             "outlinewidth": 0,
             "ticks": ""
            },
            "colorscale": [
             [
              0,
              "#0d0887"
             ],
             [
              0.1111111111111111,
              "#46039f"
             ],
             [
              0.2222222222222222,
              "#7201a8"
             ],
             [
              0.3333333333333333,
              "#9c179e"
             ],
             [
              0.4444444444444444,
              "#bd3786"
             ],
             [
              0.5555555555555556,
              "#d8576b"
             ],
             [
              0.6666666666666666,
              "#ed7953"
             ],
             [
              0.7777777777777778,
              "#fb9f3a"
             ],
             [
              0.8888888888888888,
              "#fdca26"
             ],
             [
              1,
              "#f0f921"
             ]
            ],
            "type": "contour"
           }
          ],
          "contourcarpet": [
           {
            "colorbar": {
             "outlinewidth": 0,
             "ticks": ""
            },
            "type": "contourcarpet"
           }
          ],
          "heatmap": [
           {
            "colorbar": {
             "outlinewidth": 0,
             "ticks": ""
            },
            "colorscale": [
             [
              0,
              "#0d0887"
             ],
             [
              0.1111111111111111,
              "#46039f"
             ],
             [
              0.2222222222222222,
              "#7201a8"
             ],
             [
              0.3333333333333333,
              "#9c179e"
             ],
             [
              0.4444444444444444,
              "#bd3786"
             ],
             [
              0.5555555555555556,
              "#d8576b"
             ],
             [
              0.6666666666666666,
              "#ed7953"
             ],
             [
              0.7777777777777778,
              "#fb9f3a"
             ],
             [
              0.8888888888888888,
              "#fdca26"
             ],
             [
              1,
              "#f0f921"
             ]
            ],
            "type": "heatmap"
           }
          ],
          "heatmapgl": [
           {
            "colorbar": {
             "outlinewidth": 0,
             "ticks": ""
            },
            "colorscale": [
             [
              0,
              "#0d0887"
             ],
             [
              0.1111111111111111,
              "#46039f"
             ],
             [
              0.2222222222222222,
              "#7201a8"
             ],
             [
              0.3333333333333333,
              "#9c179e"
             ],
             [
              0.4444444444444444,
              "#bd3786"
             ],
             [
              0.5555555555555556,
              "#d8576b"
             ],
             [
              0.6666666666666666,
              "#ed7953"
             ],
             [
              0.7777777777777778,
              "#fb9f3a"
             ],
             [
              0.8888888888888888,
              "#fdca26"
             ],
             [
              1,
              "#f0f921"
             ]
            ],
            "type": "heatmapgl"
           }
          ],
          "histogram": [
           {
            "marker": {
             "colorbar": {
              "outlinewidth": 0,
              "ticks": ""
             }
            },
            "type": "histogram"
           }
          ],
          "histogram2d": [
           {
            "colorbar": {
             "outlinewidth": 0,
             "ticks": ""
            },
            "colorscale": [
             [
              0,
              "#0d0887"
             ],
             [
              0.1111111111111111,
              "#46039f"
             ],
             [
              0.2222222222222222,
              "#7201a8"
             ],
             [
              0.3333333333333333,
              "#9c179e"
             ],
             [
              0.4444444444444444,
              "#bd3786"
             ],
             [
              0.5555555555555556,
              "#d8576b"
             ],
             [
              0.6666666666666666,
              "#ed7953"
             ],
             [
              0.7777777777777778,
              "#fb9f3a"
             ],
             [
              0.8888888888888888,
              "#fdca26"
             ],
             [
              1,
              "#f0f921"
             ]
            ],
            "type": "histogram2d"
           }
          ],
          "histogram2dcontour": [
           {
            "colorbar": {
             "outlinewidth": 0,
             "ticks": ""
            },
            "colorscale": [
             [
              0,
              "#0d0887"
             ],
             [
              0.1111111111111111,
              "#46039f"
             ],
             [
              0.2222222222222222,
              "#7201a8"
             ],
             [
              0.3333333333333333,
              "#9c179e"
             ],
             [
              0.4444444444444444,
              "#bd3786"
             ],
             [
              0.5555555555555556,
              "#d8576b"
             ],
             [
              0.6666666666666666,
              "#ed7953"
             ],
             [
              0.7777777777777778,
              "#fb9f3a"
             ],
             [
              0.8888888888888888,
              "#fdca26"
             ],
             [
              1,
              "#f0f921"
             ]
            ],
            "type": "histogram2dcontour"
           }
          ],
          "mesh3d": [
           {
            "colorbar": {
             "outlinewidth": 0,
             "ticks": ""
            },
            "type": "mesh3d"
           }
          ],
          "parcoords": [
           {
            "line": {
             "colorbar": {
              "outlinewidth": 0,
              "ticks": ""
             }
            },
            "type": "parcoords"
           }
          ],
          "pie": [
           {
            "automargin": true,
            "type": "pie"
           }
          ],
          "scatter": [
           {
            "marker": {
             "colorbar": {
              "outlinewidth": 0,
              "ticks": ""
             }
            },
            "type": "scatter"
           }
          ],
          "scatter3d": [
           {
            "line": {
             "colorbar": {
              "outlinewidth": 0,
              "ticks": ""
             }
            },
            "marker": {
             "colorbar": {
              "outlinewidth": 0,
              "ticks": ""
             }
            },
            "type": "scatter3d"
           }
          ],
          "scattercarpet": [
           {
            "marker": {
             "colorbar": {
              "outlinewidth": 0,
              "ticks": ""
             }
            },
            "type": "scattercarpet"
           }
          ],
          "scattergeo": [
           {
            "marker": {
             "colorbar": {
              "outlinewidth": 0,
              "ticks": ""
             }
            },
            "type": "scattergeo"
           }
          ],
          "scattergl": [
           {
            "marker": {
             "colorbar": {
              "outlinewidth": 0,
              "ticks": ""
             }
            },
            "type": "scattergl"
           }
          ],
          "scattermapbox": [
           {
            "marker": {
             "colorbar": {
              "outlinewidth": 0,
              "ticks": ""
             }
            },
            "type": "scattermapbox"
           }
          ],
          "scatterpolar": [
           {
            "marker": {
             "colorbar": {
              "outlinewidth": 0,
              "ticks": ""
             }
            },
            "type": "scatterpolar"
           }
          ],
          "scatterpolargl": [
           {
            "marker": {
             "colorbar": {
              "outlinewidth": 0,
              "ticks": ""
             }
            },
            "type": "scatterpolargl"
           }
          ],
          "scatterternary": [
           {
            "marker": {
             "colorbar": {
              "outlinewidth": 0,
              "ticks": ""
             }
            },
            "type": "scatterternary"
           }
          ],
          "surface": [
           {
            "colorbar": {
             "outlinewidth": 0,
             "ticks": ""
            },
            "colorscale": [
             [
              0,
              "#0d0887"
             ],
             [
              0.1111111111111111,
              "#46039f"
             ],
             [
              0.2222222222222222,
              "#7201a8"
             ],
             [
              0.3333333333333333,
              "#9c179e"
             ],
             [
              0.4444444444444444,
              "#bd3786"
             ],
             [
              0.5555555555555556,
              "#d8576b"
             ],
             [
              0.6666666666666666,
              "#ed7953"
             ],
             [
              0.7777777777777778,
              "#fb9f3a"
             ],
             [
              0.8888888888888888,
              "#fdca26"
             ],
             [
              1,
              "#f0f921"
             ]
            ],
            "type": "surface"
           }
          ],
          "table": [
           {
            "cells": {
             "fill": {
              "color": "#EBF0F8"
             },
             "line": {
              "color": "white"
             }
            },
            "header": {
             "fill": {
              "color": "#C8D4E3"
             },
             "line": {
              "color": "white"
             }
            },
            "type": "table"
           }
          ]
         },
         "layout": {
          "annotationdefaults": {
           "arrowcolor": "#2a3f5f",
           "arrowhead": 0,
           "arrowwidth": 1
          },
          "coloraxis": {
           "colorbar": {
            "outlinewidth": 0,
            "ticks": ""
           }
          },
          "colorscale": {
           "diverging": [
            [
             0,
             "#8e0152"
            ],
            [
             0.1,
             "#c51b7d"
            ],
            [
             0.2,
             "#de77ae"
            ],
            [
             0.3,
             "#f1b6da"
            ],
            [
             0.4,
             "#fde0ef"
            ],
            [
             0.5,
             "#f7f7f7"
            ],
            [
             0.6,
             "#e6f5d0"
            ],
            [
             0.7,
             "#b8e186"
            ],
            [
             0.8,
             "#7fbc41"
            ],
            [
             0.9,
             "#4d9221"
            ],
            [
             1,
             "#276419"
            ]
           ],
           "sequential": [
            [
             0,
             "#0d0887"
            ],
            [
             0.1111111111111111,
             "#46039f"
            ],
            [
             0.2222222222222222,
             "#7201a8"
            ],
            [
             0.3333333333333333,
             "#9c179e"
            ],
            [
             0.4444444444444444,
             "#bd3786"
            ],
            [
             0.5555555555555556,
             "#d8576b"
            ],
            [
             0.6666666666666666,
             "#ed7953"
            ],
            [
             0.7777777777777778,
             "#fb9f3a"
            ],
            [
             0.8888888888888888,
             "#fdca26"
            ],
            [
             1,
             "#f0f921"
            ]
           ],
           "sequentialminus": [
            [
             0,
             "#0d0887"
            ],
            [
             0.1111111111111111,
             "#46039f"
            ],
            [
             0.2222222222222222,
             "#7201a8"
            ],
            [
             0.3333333333333333,
             "#9c179e"
            ],
            [
             0.4444444444444444,
             "#bd3786"
            ],
            [
             0.5555555555555556,
             "#d8576b"
            ],
            [
             0.6666666666666666,
             "#ed7953"
            ],
            [
             0.7777777777777778,
             "#fb9f3a"
            ],
            [
             0.8888888888888888,
             "#fdca26"
            ],
            [
             1,
             "#f0f921"
            ]
           ]
          },
          "colorway": [
           "#636efa",
           "#EF553B",
           "#00cc96",
           "#ab63fa",
           "#FFA15A",
           "#19d3f3",
           "#FF6692",
           "#B6E880",
           "#FF97FF",
           "#FECB52"
          ],
          "font": {
           "color": "#2a3f5f"
          },
          "geo": {
           "bgcolor": "white",
           "lakecolor": "white",
           "landcolor": "#E5ECF6",
           "showlakes": true,
           "showland": true,
           "subunitcolor": "white"
          },
          "hoverlabel": {
           "align": "left"
          },
          "hovermode": "closest",
          "mapbox": {
           "style": "light"
          },
          "paper_bgcolor": "white",
          "plot_bgcolor": "#E5ECF6",
          "polar": {
           "angularaxis": {
            "gridcolor": "white",
            "linecolor": "white",
            "ticks": ""
           },
           "bgcolor": "#E5ECF6",
           "radialaxis": {
            "gridcolor": "white",
            "linecolor": "white",
            "ticks": ""
           }
          },
          "scene": {
           "xaxis": {
            "backgroundcolor": "#E5ECF6",
            "gridcolor": "white",
            "gridwidth": 2,
            "linecolor": "white",
            "showbackground": true,
            "ticks": "",
            "zerolinecolor": "white"
           },
           "yaxis": {
            "backgroundcolor": "#E5ECF6",
            "gridcolor": "white",
            "gridwidth": 2,
            "linecolor": "white",
            "showbackground": true,
            "ticks": "",
            "zerolinecolor": "white"
           },
           "zaxis": {
            "backgroundcolor": "#E5ECF6",
            "gridcolor": "white",
            "gridwidth": 2,
            "linecolor": "white",
            "showbackground": true,
            "ticks": "",
            "zerolinecolor": "white"
           }
          },
          "shapedefaults": {
           "line": {
            "color": "#2a3f5f"
           }
          },
          "ternary": {
           "aaxis": {
            "gridcolor": "white",
            "linecolor": "white",
            "ticks": ""
           },
           "baxis": {
            "gridcolor": "white",
            "linecolor": "white",
            "ticks": ""
           },
           "bgcolor": "#E5ECF6",
           "caxis": {
            "gridcolor": "white",
            "linecolor": "white",
            "ticks": ""
           }
          },
          "title": {
           "x": 0.05
          },
          "xaxis": {
           "automargin": true,
           "gridcolor": "white",
           "linecolor": "white",
           "ticks": "",
           "title": {
            "standoff": 15
           },
           "zerolinecolor": "white",
           "zerolinewidth": 2
          },
          "yaxis": {
           "automargin": true,
           "gridcolor": "white",
           "linecolor": "white",
           "ticks": "",
           "title": {
            "standoff": 15
           },
           "zerolinecolor": "white",
           "zerolinewidth": 2
          }
         }
        }
       }
      },
      "text/html": [
       "<div>\n",
       "        \n",
       "        \n",
       "            <div id=\"f5db17cf-1cf8-4f1e-8581-863f55c6d0d0\" class=\"plotly-graph-div\" style=\"height:525px; width:100%;\"></div>\n",
       "            <script type=\"text/javascript\">\n",
       "                require([\"plotly\"], function(Plotly) {\n",
       "                    window.PLOTLYENV=window.PLOTLYENV || {};\n",
       "                    \n",
       "                if (document.getElementById(\"f5db17cf-1cf8-4f1e-8581-863f55c6d0d0\")) {\n",
       "                    Plotly.newPlot(\n",
       "                        'f5db17cf-1cf8-4f1e-8581-863f55c6d0d0',\n",
       "                        [{\"cells\": {\"align\": \"left\", \"fill\": {\"color\": \"lavender\"}, \"values\": [[\"Rapgef2\", \"Rapgef2\", \"Rapgef2\", \"Rapgef2\", \"Rapgef2\", \"Rapgef2\", \"Rapgef2\", \"Rapgef2\", \"Rapgef2\", \"Rapgef2\", \"Rapgef2\", \"Rapgef2\", \"Rapgef2\", \"Rapgef2\", \"Rapgef2\", \"Rapgef2\", \"Rapgef2\", \"Rapgef2\", \"Rapgef2\", \"Rapgef2\", \"Rapgef2\", \"Rapgef2\", \"Rapgef2\", \"Rapgef2\", \"Rapgef2\", \"Rapgef2\", \"Rapgef2\", \"Rapgef2\", \"Rapgef2\", \"Rapgef2\", \"Rapgef2\", \"Rapgef2\", \"Rapgef2\", \"Rapgef2\", \"Rapgef2\", \"Rapgef2\", \"Rapgef2\", \"Rapgef2\", \"Rapgef2\", \"Rapgef2\", \"Rapgef2\", \"Rapgef2\", \"Rapgef2\", \"Rapgef2\"], [\"Layer I [17-E]\", \"Layer I [19-P]\", \"Layer V-VI [2-E]\", \"Layer II-IV [15-P]\", \"Layer V-VI [3-E]\", \"Layer II-IV [1-P]\", \"Layer II-IV [4-P]\", \"Layer V-VI [5-E]\", \"Layer V-VI [13-E]\", \"Layer V-VI [18-P]\", \"Layer V-VI [7-E]\", \"Layer V-VI [12-P]\", \"SVZ1 (migrating) [4-E]\", \"SVZ1 (migrating) [2-P]\", \"SVZ2 (migrating) [8-P]\", \"Int1 [1-E]\", \"Int1 [5-P]\", \"Int3 [11-P]\", \"Int4 [6-P]\", \"Int2 [12-E]\", \"Int2 [14-P]\", \"Thalamic [19-E]\", \"Striatal inh1 [16-E]\", \"Striatal inh1 [3-P]\", \"Striatal inh2 [9-E]\", \"Striatal inh2 [7-P]\", \"Ganglionic eminences [6-E]\", \"Ganglionic eminences [9-P]\", \"SVZ3 (proliferating) [15-E]\", \"RG2 [14-E]\", \"RG3 (cortical hem) [21-E]\", \"SVZ2 (VZ-SVZ) [11-E]\", \"RG1 [8-E]\", \"RG4 [10-E]\", \"Astrocytes (immature) 1 [10-P]\", \"Astrocytes (immature) 2 [13-P]\", \"Oligodendrocytes [16-P]\", \"Choroid plexus [22-E]\", \"Choroid plexus [20-P]\", \"Microglia [20-E]\", \"Microglia [22-P]\", \"Endothelial [18-E]\", \"Endothelial2 [21-P]\", \"Endothelial1 [17-P]\"], [0.035783348, -0.060587172, 0.003438035, -0.053296800000000005, 0.034018797999999996, -0.011128143, -0.015901945, 0.085107604, 0.030869591000000002, 0.049780915999999995, 0.08179170599999999, 0.129189029, 0.08198662599999999, -0.09089812, -3.54e-06, -0.119255049, -0.055491967999999996, 0.057162320999999995, -0.095149049, 0.074230353, 0.073766575, -0.018170602, -0.05996990000000001, 0.027200405, -0.10006749699999999, 0.009913432, -0.079695693, -0.04677294, 0.0013201920000000002, 0.007653448, -0.148772245, -0.056915783, -0.004143455999999999, -0.010726578999999998, -0.016751734, 0.062491668, 0.041792561, -0.017539161, -0.040309154, -0.017471371, -0.116139602, 0.267331428, 0.331144434, 0.377568151], [\"Layer I \", \"Layer I \", \"Layer V-VI \", \"Layer II-IV \", \"Layer V-VI \", \"Layer II-IV \", \"Layer II-IV \", \"Layer V-VI \", \"Layer V-VI \", \"Layer V-VI \", \"Layer V-VI \", \"Layer V-VI \", \"SVZ1 (migrating) \", \"SVZ1 (migrating) \", \"SVZ2 (migrating) \", \"Int1 \", \"Int1 \", \"Int3 \", \"Int4 \", \"Int2 \", \"Int2 \", \"Thalamic \", \"Striatal inh1 \", \"Striatal inh1 \", \"Striatal inh2 \", \"Striatal inh2 \", \"Ganglionic eminences \", \"Ganglionic eminences \", \"SVZ3 (proliferating) \", \"RG2 \", \"RG3 (cortical hem) \", \"SVZ2 (VZ-SVZ) \", \"RG1 \", \"RG4 \", \"Astrocytes (immature) 1 \", \"Astrocytes (immature) 2 \", \"Oligodendrocytes \", \"Choroid plexus \", \"Choroid plexus \", \"Microglia \", \"Microglia \", \"Endothelial \", \"Endothelial2 \", \"Endothelial1 \"], [\"e14.5\", \"p0\", \"e14.5\", \"p0\", \"e14.5\", \"p0\", \"p0\", \"e14.5\", \"e14.5\", \"p0\", \"e14.5\", \"p0\", \"e14.5\", \"p0\", \"p0\", \"e14.5\", \"p0\", \"p0\", \"p0\", \"e14.5\", \"p0\", \"e14.5\", \"e14.5\", \"p0\", \"e14.5\", \"p0\", \"e14.5\", \"p0\", \"e14.5\", \"e14.5\", \"e14.5\", \"e14.5\", \"e14.5\", \"e14.5\", \"p0\", \"p0\", \"p0\", \"e14.5\", \"p0\", \"e14.5\", \"p0\", \"e14.5\", \"p0\", \"p0\"], [\"Cortical Layers\", \"Cortical Layers\", \"Cortical Layers\", \"Cortical Layers\", \"Cortical Layers\", \"Cortical Layers\", \"Cortical Layers\", \"Cortical Layers\", \"Cortical Layers\", \"Cortical Layers\", \"Cortical Layers\", \"Cortical Layers\", \"Proliferative\", \"Proliferative\", \"Proliferative\", \"Inhibitory\", \"Inhibitory\", \"Inhibitory\", \"Inhibitory\", \"Inhibitory\", \"Inhibitory\", \"Midbrain\", \"Midbrain\", \"Midbrain\", \"Midbrain\", \"Midbrain\", \"Non-Neuronal\", \"Non-Neuronal\", \"Proliferative\", \"Proliferative\", \"Proliferative\", \"Proliferative\", \"Proliferative\", \"Proliferative\", \"Non-Neuronal\", \"Non-Neuronal\", \"Non-Neuronal\", \"Non-Neuronal\", \"Non-Neuronal\", \"Non-Neuronal\", \"Non-Neuronal\", \"Non-Neuronal\", \"Non-Neuronal\", \"Non-Neuronal\"]]}, \"header\": {\"align\": \"left\", \"fill\": {\"color\": \"paleturquoise\"}, \"values\": [\"GeneID\", \"Cluster\", \"Expression\", \"Cell_Type\", \"Age\", \"Category\"]}, \"type\": \"table\"}],\n",
       "                        {\"template\": {\"data\": {\"bar\": [{\"error_x\": {\"color\": \"#2a3f5f\"}, \"error_y\": {\"color\": \"#2a3f5f\"}, \"marker\": {\"line\": {\"color\": \"#E5ECF6\", \"width\": 0.5}}, \"type\": \"bar\"}], \"barpolar\": [{\"marker\": {\"line\": {\"color\": \"#E5ECF6\", \"width\": 0.5}}, \"type\": \"barpolar\"}], \"carpet\": [{\"aaxis\": {\"endlinecolor\": \"#2a3f5f\", \"gridcolor\": \"white\", \"linecolor\": \"white\", \"minorgridcolor\": \"white\", \"startlinecolor\": \"#2a3f5f\"}, \"baxis\": {\"endlinecolor\": \"#2a3f5f\", \"gridcolor\": \"white\", \"linecolor\": \"white\", \"minorgridcolor\": \"white\", \"startlinecolor\": \"#2a3f5f\"}, \"type\": \"carpet\"}], \"choropleth\": [{\"colorbar\": {\"outlinewidth\": 0, \"ticks\": \"\"}, \"type\": \"choropleth\"}], \"contour\": [{\"colorbar\": {\"outlinewidth\": 0, \"ticks\": \"\"}, \"colorscale\": [[0.0, \"#0d0887\"], [0.1111111111111111, \"#46039f\"], [0.2222222222222222, \"#7201a8\"], [0.3333333333333333, \"#9c179e\"], [0.4444444444444444, \"#bd3786\"], [0.5555555555555556, \"#d8576b\"], [0.6666666666666666, \"#ed7953\"], [0.7777777777777778, \"#fb9f3a\"], [0.8888888888888888, \"#fdca26\"], [1.0, \"#f0f921\"]], \"type\": \"contour\"}], \"contourcarpet\": [{\"colorbar\": {\"outlinewidth\": 0, \"ticks\": \"\"}, \"type\": \"contourcarpet\"}], \"heatmap\": [{\"colorbar\": {\"outlinewidth\": 0, \"ticks\": \"\"}, \"colorscale\": [[0.0, \"#0d0887\"], [0.1111111111111111, \"#46039f\"], [0.2222222222222222, \"#7201a8\"], [0.3333333333333333, \"#9c179e\"], [0.4444444444444444, \"#bd3786\"], [0.5555555555555556, \"#d8576b\"], [0.6666666666666666, \"#ed7953\"], [0.7777777777777778, \"#fb9f3a\"], [0.8888888888888888, \"#fdca26\"], [1.0, \"#f0f921\"]], \"type\": \"heatmap\"}], \"heatmapgl\": [{\"colorbar\": {\"outlinewidth\": 0, \"ticks\": \"\"}, \"colorscale\": [[0.0, \"#0d0887\"], [0.1111111111111111, \"#46039f\"], [0.2222222222222222, \"#7201a8\"], [0.3333333333333333, \"#9c179e\"], [0.4444444444444444, \"#bd3786\"], [0.5555555555555556, \"#d8576b\"], [0.6666666666666666, \"#ed7953\"], [0.7777777777777778, \"#fb9f3a\"], [0.8888888888888888, \"#fdca26\"], [1.0, \"#f0f921\"]], \"type\": \"heatmapgl\"}], \"histogram\": [{\"marker\": {\"colorbar\": {\"outlinewidth\": 0, \"ticks\": \"\"}}, \"type\": \"histogram\"}], \"histogram2d\": [{\"colorbar\": {\"outlinewidth\": 0, \"ticks\": \"\"}, \"colorscale\": [[0.0, \"#0d0887\"], [0.1111111111111111, \"#46039f\"], [0.2222222222222222, \"#7201a8\"], [0.3333333333333333, \"#9c179e\"], [0.4444444444444444, \"#bd3786\"], [0.5555555555555556, \"#d8576b\"], [0.6666666666666666, \"#ed7953\"], [0.7777777777777778, \"#fb9f3a\"], [0.8888888888888888, \"#fdca26\"], [1.0, \"#f0f921\"]], \"type\": \"histogram2d\"}], \"histogram2dcontour\": [{\"colorbar\": {\"outlinewidth\": 0, \"ticks\": \"\"}, \"colorscale\": [[0.0, \"#0d0887\"], [0.1111111111111111, \"#46039f\"], [0.2222222222222222, \"#7201a8\"], [0.3333333333333333, \"#9c179e\"], [0.4444444444444444, \"#bd3786\"], [0.5555555555555556, \"#d8576b\"], [0.6666666666666666, \"#ed7953\"], [0.7777777777777778, \"#fb9f3a\"], [0.8888888888888888, \"#fdca26\"], [1.0, \"#f0f921\"]], \"type\": \"histogram2dcontour\"}], \"mesh3d\": [{\"colorbar\": {\"outlinewidth\": 0, \"ticks\": \"\"}, \"type\": \"mesh3d\"}], \"parcoords\": [{\"line\": {\"colorbar\": {\"outlinewidth\": 0, \"ticks\": \"\"}}, \"type\": \"parcoords\"}], \"pie\": [{\"automargin\": true, \"type\": \"pie\"}], \"scatter\": [{\"marker\": {\"colorbar\": {\"outlinewidth\": 0, \"ticks\": \"\"}}, \"type\": \"scatter\"}], \"scatter3d\": [{\"line\": {\"colorbar\": {\"outlinewidth\": 0, \"ticks\": \"\"}}, \"marker\": {\"colorbar\": {\"outlinewidth\": 0, \"ticks\": \"\"}}, \"type\": \"scatter3d\"}], \"scattercarpet\": [{\"marker\": {\"colorbar\": {\"outlinewidth\": 0, \"ticks\": \"\"}}, \"type\": \"scattercarpet\"}], \"scattergeo\": [{\"marker\": {\"colorbar\": {\"outlinewidth\": 0, \"ticks\": \"\"}}, \"type\": \"scattergeo\"}], \"scattergl\": [{\"marker\": {\"colorbar\": {\"outlinewidth\": 0, \"ticks\": \"\"}}, \"type\": \"scattergl\"}], \"scattermapbox\": [{\"marker\": {\"colorbar\": {\"outlinewidth\": 0, \"ticks\": \"\"}}, \"type\": \"scattermapbox\"}], \"scatterpolar\": [{\"marker\": {\"colorbar\": {\"outlinewidth\": 0, \"ticks\": \"\"}}, \"type\": \"scatterpolar\"}], \"scatterpolargl\": [{\"marker\": {\"colorbar\": {\"outlinewidth\": 0, \"ticks\": \"\"}}, \"type\": \"scatterpolargl\"}], \"scatterternary\": [{\"marker\": {\"colorbar\": {\"outlinewidth\": 0, \"ticks\": \"\"}}, \"type\": \"scatterternary\"}], \"surface\": [{\"colorbar\": {\"outlinewidth\": 0, \"ticks\": \"\"}, \"colorscale\": [[0.0, \"#0d0887\"], [0.1111111111111111, \"#46039f\"], [0.2222222222222222, \"#7201a8\"], [0.3333333333333333, \"#9c179e\"], [0.4444444444444444, \"#bd3786\"], [0.5555555555555556, \"#d8576b\"], [0.6666666666666666, \"#ed7953\"], [0.7777777777777778, \"#fb9f3a\"], [0.8888888888888888, \"#fdca26\"], [1.0, \"#f0f921\"]], \"type\": \"surface\"}], \"table\": [{\"cells\": {\"fill\": {\"color\": \"#EBF0F8\"}, \"line\": {\"color\": \"white\"}}, \"header\": {\"fill\": {\"color\": \"#C8D4E3\"}, \"line\": {\"color\": \"white\"}}, \"type\": \"table\"}]}, \"layout\": {\"annotationdefaults\": {\"arrowcolor\": \"#2a3f5f\", \"arrowhead\": 0, \"arrowwidth\": 1}, \"coloraxis\": {\"colorbar\": {\"outlinewidth\": 0, \"ticks\": \"\"}}, \"colorscale\": {\"diverging\": [[0, \"#8e0152\"], [0.1, \"#c51b7d\"], [0.2, \"#de77ae\"], [0.3, \"#f1b6da\"], [0.4, \"#fde0ef\"], [0.5, \"#f7f7f7\"], [0.6, \"#e6f5d0\"], [0.7, \"#b8e186\"], [0.8, \"#7fbc41\"], [0.9, \"#4d9221\"], [1, \"#276419\"]], \"sequential\": [[0.0, \"#0d0887\"], [0.1111111111111111, \"#46039f\"], [0.2222222222222222, \"#7201a8\"], [0.3333333333333333, \"#9c179e\"], [0.4444444444444444, \"#bd3786\"], [0.5555555555555556, \"#d8576b\"], [0.6666666666666666, \"#ed7953\"], [0.7777777777777778, \"#fb9f3a\"], [0.8888888888888888, \"#fdca26\"], [1.0, \"#f0f921\"]], \"sequentialminus\": [[0.0, \"#0d0887\"], [0.1111111111111111, \"#46039f\"], [0.2222222222222222, \"#7201a8\"], [0.3333333333333333, \"#9c179e\"], [0.4444444444444444, \"#bd3786\"], [0.5555555555555556, \"#d8576b\"], [0.6666666666666666, \"#ed7953\"], [0.7777777777777778, \"#fb9f3a\"], [0.8888888888888888, \"#fdca26\"], [1.0, \"#f0f921\"]]}, \"colorway\": [\"#636efa\", \"#EF553B\", \"#00cc96\", \"#ab63fa\", \"#FFA15A\", \"#19d3f3\", \"#FF6692\", \"#B6E880\", \"#FF97FF\", \"#FECB52\"], \"font\": {\"color\": \"#2a3f5f\"}, \"geo\": {\"bgcolor\": \"white\", \"lakecolor\": \"white\", \"landcolor\": \"#E5ECF6\", \"showlakes\": true, \"showland\": true, \"subunitcolor\": \"white\"}, \"hoverlabel\": {\"align\": \"left\"}, \"hovermode\": \"closest\", \"mapbox\": {\"style\": \"light\"}, \"paper_bgcolor\": \"white\", \"plot_bgcolor\": \"#E5ECF6\", \"polar\": {\"angularaxis\": {\"gridcolor\": \"white\", \"linecolor\": \"white\", \"ticks\": \"\"}, \"bgcolor\": \"#E5ECF6\", \"radialaxis\": {\"gridcolor\": \"white\", \"linecolor\": \"white\", \"ticks\": \"\"}}, \"scene\": {\"xaxis\": {\"backgroundcolor\": \"#E5ECF6\", \"gridcolor\": \"white\", \"gridwidth\": 2, \"linecolor\": \"white\", \"showbackground\": true, \"ticks\": \"\", \"zerolinecolor\": \"white\"}, \"yaxis\": {\"backgroundcolor\": \"#E5ECF6\", \"gridcolor\": \"white\", \"gridwidth\": 2, \"linecolor\": \"white\", \"showbackground\": true, \"ticks\": \"\", \"zerolinecolor\": \"white\"}, \"zaxis\": {\"backgroundcolor\": \"#E5ECF6\", \"gridcolor\": \"white\", \"gridwidth\": 2, \"linecolor\": \"white\", \"showbackground\": true, \"ticks\": \"\", \"zerolinecolor\": \"white\"}}, \"shapedefaults\": {\"line\": {\"color\": \"#2a3f5f\"}}, \"ternary\": {\"aaxis\": {\"gridcolor\": \"white\", \"linecolor\": \"white\", \"ticks\": \"\"}, \"baxis\": {\"gridcolor\": \"white\", \"linecolor\": \"white\", \"ticks\": \"\"}, \"bgcolor\": \"#E5ECF6\", \"caxis\": {\"gridcolor\": \"white\", \"linecolor\": \"white\", \"ticks\": \"\"}}, \"title\": {\"x\": 0.05}, \"xaxis\": {\"automargin\": true, \"gridcolor\": \"white\", \"linecolor\": \"white\", \"ticks\": \"\", \"title\": {\"standoff\": 15}, \"zerolinecolor\": \"white\", \"zerolinewidth\": 2}, \"yaxis\": {\"automargin\": true, \"gridcolor\": \"white\", \"linecolor\": \"white\", \"ticks\": \"\", \"title\": {\"standoff\": 15}, \"zerolinecolor\": \"white\", \"zerolinewidth\": 2}}}},\n",
       "                        {\"responsive\": true}\n",
       "                    ).then(function(){\n",
       "                            \n",
       "var gd = document.getElementById('f5db17cf-1cf8-4f1e-8581-863f55c6d0d0');\n",
       "var x = new MutationObserver(function (mutations, observer) {{\n",
       "        var display = window.getComputedStyle(gd).display;\n",
       "        if (!display || display === 'none') {{\n",
       "            console.log([gd, 'removed!']);\n",
       "            Plotly.purge(gd);\n",
       "            observer.disconnect();\n",
       "        }}\n",
       "}});\n",
       "\n",
       "// Listen for the removal of the full notebook cells\n",
       "var notebookContainer = gd.closest('#notebook-container');\n",
       "if (notebookContainer) {{\n",
       "    x.observe(notebookContainer, {childList: true});\n",
       "}}\n",
       "\n",
       "// Listen for the clearing of the current output cell\n",
       "var outputEl = gd.closest('.output');\n",
       "if (outputEl) {{\n",
       "    x.observe(outputEl, {childList: true});\n",
       "}}\n",
       "\n",
       "                        })\n",
       "                };\n",
       "                });\n",
       "            </script>\n",
       "        </div>"
      ]
     },
     "metadata": {},
     "output_type": "display_data"
    }
   ],
   "source": [
    "import plotly.graph_objects as go\n",
    "fig = px.bar(data_gene_cell2, x=\"Category\", y=\"Expression\", color = \"Age\", \n",
    "             #facet_col = \"Category\",\n",
    "             hover_name = \"Cell_Type\",\n",
    "             hover_data = [\"Age\", \"Cluster\"]\n",
    "            )\n",
    "fig.update_layout(barmode='group')\n",
    "\n",
    "fig.show()\n",
    "\n",
    "fig2 = go.Figure(data=[go.Table(\n",
    "        header=dict(values=list(data_gene_cell2.columns),\n",
    "                fill_color='paleturquoise',\n",
    "                align='left'),\n",
    "        cells=dict(values=[data_gene_cell2.GeneID, data_gene_cell2.Cluster, data_gene_cell2.Expression,\n",
    "                          data_gene_cell2.Cell_Type, data_gene_cell2.Age, data_gene_cell2.Category],\n",
    "                fill_color='lavender',\n",
    "                align='left'))\n",
    "            ])\n",
    "\n",
    "fig2.show()"
   ]
  },
  {
   "cell_type": "code",
   "execution_count": null,
   "metadata": {},
   "outputs": [],
   "source": []
  }
 ],
 "metadata": {
  "kernelspec": {
   "display_name": "Python 3",
   "language": "python",
   "name": "python3"
  },
  "language_info": {
   "codemirror_mode": {
    "name": "ipython",
    "version": 3
   },
   "file_extension": ".py",
   "mimetype": "text/x-python",
   "name": "python",
   "nbconvert_exporter": "python",
   "pygments_lexer": "ipython3",
   "version": "3.7.6"
  }
 },
 "nbformat": 4,
 "nbformat_minor": 4
}
