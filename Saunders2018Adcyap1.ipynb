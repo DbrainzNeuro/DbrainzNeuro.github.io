{
 "cells": [
  {
   "cell_type": "code",
   "execution_count": 11,
   "metadata": {},
   "outputs": [],
   "source": [
    "import pandas as pd\n",
    "\n",
    "import plotly.express as px\n",
    "\n",
    "data = pd.read_csv(r\"C:\\Users\\bakalarda\\OneDrive - National Institutes of Health\\Saunders 2018\\clustersAdcyap1.csv\")"
   ]
  },
  {
   "cell_type": "code",
   "execution_count": 12,
   "metadata": {},
   "outputs": [],
   "source": [
    "data.columns = ['Region','Class','Cluster','Adcyap1_Amount','Adcyap1_PVal']"
   ]
  },
  {
   "cell_type": "code",
   "execution_count": 15,
   "metadata": {
    "scrolled": false
   },
   "outputs": [
    {
     "data": {
      "application/vnd.plotly.v1+json": {
       "config": {
        "plotlyServerURL": "https://plot.ly"
       },
       "data": [
        {
         "alignmentgroup": "True",
         "customdata": [
          [
           "Neuron",
           "Neuron_Habenula_Tac2 [#1]",
           3.295836866,
           0
          ],
          [
           "Neuron",
           "Neuron_Gad2-Ahi1 [#3]",
           1.098612289,
           2.2399999999999995e-57
          ],
          [
           "Neuron",
           "Neuron_Rora [#2]",
           0,
           3.66e-54
          ]
         ],
         "hovertemplate": "<b>%{hovertext}</b><br><br>Class=%{customdata[0]}<br>Region=Thalamus<br>Adcyap1_Amount=%{customdata[2]}<br>Cluster=%{customdata[1]}<br>Adcyap1_PVal=%{customdata[3]}<extra></extra>",
         "hovertext": [
          "Neuron_Habenula_Tac2 [#1]",
          "Neuron_Gad2-Ahi1 [#3]",
          "Neuron_Rora [#2]"
         ],
         "legendgroup": "Neuron",
         "marker": {
          "color": "#636efa"
         },
         "name": "Neuron",
         "offsetgroup": "Neuron",
         "orientation": "v",
         "showlegend": true,
         "textposition": "auto",
         "type": "bar",
         "x": [
          "Neuron",
          "Neuron",
          "Neuron"
         ],
         "xaxis": "x9",
         "y": [
          3.295836866,
          1.098612289,
          0
         ],
         "yaxis": "y9"
        },
        {
         "alignmentgroup": "True",
         "customdata": [
          [
           "Neuron",
           "Interneurons_and_Other_Nnat [#4]",
           2.9444389789999996,
           2.4999999999999993e-87
          ],
          [
           "Neuron",
           "PurkinjeNeuron_Pcp2 [#2]",
           1.386294361,
           7.769999999999999e-25
          ],
          [
           "Neuron",
           "GranularNeuron_Gabra6 [#1]",
           0,
           2.56e-43
          ],
          [
           "Neuron",
           "Interneurons_Pvalb [#3]",
           0,
           0.000395357
          ]
         ],
         "hovertemplate": "<b>%{hovertext}</b><br><br>Class=%{customdata[0]}<br>Region=Cerebellum<br>Adcyap1_Amount=%{customdata[2]}<br>Cluster=%{customdata[1]}<br>Adcyap1_PVal=%{customdata[3]}<extra></extra>",
         "hovertext": [
          "Interneurons_and_Other_Nnat [#4]",
          "PurkinjeNeuron_Pcp2 [#2]",
          "GranularNeuron_Gabra6 [#1]",
          "Interneurons_Pvalb [#3]"
         ],
         "legendgroup": "Neuron",
         "marker": {
          "color": "#636efa"
         },
         "name": "Neuron",
         "offsetgroup": "Neuron",
         "orientation": "v",
         "showlegend": false,
         "textposition": "auto",
         "type": "bar",
         "x": [
          "Neuron",
          "Neuron",
          "Neuron",
          "Neuron"
         ],
         "xaxis": "x8",
         "y": [
          2.9444389789999996,
          1.386294361,
          0,
          0
         ],
         "yaxis": "y8"
        },
        {
         "alignmentgroup": "True",
         "customdata": [
          [
           "Neuron",
           "Neuron_Layer5_Bcl6 [#3]",
           1.9459101490000001,
           4.0599999999999985e-223
          ],
          [
           "Neuron",
           "Neuron_Layer23_5_6_Subiculum_Calb1-Rorb-Fermt1-Tshz2-Oprk1-Crym-Sema3e [#2]",
           1.386294361,
           8.199999999999999e-78
          ],
          [
           "Neuron",
           "RSG_Tshz2-Shisa8 [#6]",
           1.098612289,
           4.01e-05
          ],
          [
           "Neuron",
           "Interneuron_CGE_Cplx3-Synpr [#4]",
           0.693147181,
           8.96e-29
          ],
          [
           "Neuron",
           "Neuron_Layer6Subplate_Syt6 [#1]",
           0,
           2.169999999999999e-183
          ],
          [
           "Neuron",
           "Interneuron_MGE_Sst-Pvalb [#5]",
           0,
           1.96e-35
          ],
          [
           "Neuron",
           "Layer5b_Fezf2 [#7]",
           0,
           1.5e-19
          ]
         ],
         "hovertemplate": "<b>%{hovertext}</b><br><br>Class=%{customdata[0]}<br>Region=Posterior Cortex<br>Adcyap1_Amount=%{customdata[2]}<br>Cluster=%{customdata[1]}<br>Adcyap1_PVal=%{customdata[3]}<extra></extra>",
         "hovertext": [
          "Neuron_Layer5_Bcl6 [#3]",
          "Neuron_Layer23_5_6_Subiculum_Calb1-Rorb-Fermt1-Tshz2-Oprk1-Crym-Sema3e [#2]",
          "RSG_Tshz2-Shisa8 [#6]",
          "Interneuron_CGE_Cplx3-Synpr [#4]",
          "Neuron_Layer6Subplate_Syt6 [#1]",
          "Interneuron_MGE_Sst-Pvalb [#5]",
          "Layer5b_Fezf2 [#7]"
         ],
         "legendgroup": "Neuron",
         "marker": {
          "color": "#636efa"
         },
         "name": "Neuron",
         "offsetgroup": "Neuron",
         "orientation": "v",
         "showlegend": false,
         "textposition": "auto",
         "type": "bar",
         "x": [
          "Neuron",
          "Neuron",
          "Neuron",
          "Neuron",
          "Neuron",
          "Neuron",
          "Neuron"
         ],
         "xaxis": "x7",
         "y": [
          1.9459101490000001,
          1.386294361,
          1.098612289,
          0.693147181,
          0,
          0,
          0
         ],
         "yaxis": "y7"
        },
        {
         "alignmentgroup": "True",
         "customdata": [
          [
           "Neuron",
           "Neuron_Layer5_Parm1 [#7]",
           1.791759469,
           1.1099999999999994e-266
          ],
          [
           "Neuron",
           "Neuron_Layer23_Nptxr [#6]",
           1.386294361,
           0
          ],
          [
           "Neuron",
           "Interneuron_CGE_Cplx3-Synpr [#1]",
           0,
           6.559999999999999e-55
          ],
          [
           "Neuron",
           "Interneuron_MGE_Sst-Pvalb [#2]",
           0,
           1.1699999999999998e-53
          ],
          [
           "Neuron",
           "Neuron_Layer6Subplate_Syt6 [#3]",
           0,
           5.099999999999997e-210
          ],
          [
           "Neuron",
           "Neuron_Layer5b_Fezf2 [#4]",
           0,
           3.6299999999999995e-34
          ],
          [
           "Neuron",
           "Neuron_Claustrum_Nr4a2 [#5]",
           0,
           2.17e-22
          ]
         ],
         "hovertemplate": "<b>%{hovertext}</b><br><br>Class=%{customdata[0]}<br>Region=Frontal Cortex<br>Adcyap1_Amount=%{customdata[2]}<br>Cluster=%{customdata[1]}<br>Adcyap1_PVal=%{customdata[3]}<extra></extra>",
         "hovertext": [
          "Neuron_Layer5_Parm1 [#7]",
          "Neuron_Layer23_Nptxr [#6]",
          "Interneuron_CGE_Cplx3-Synpr [#1]",
          "Interneuron_MGE_Sst-Pvalb [#2]",
          "Neuron_Layer6Subplate_Syt6 [#3]",
          "Neuron_Layer5b_Fezf2 [#4]",
          "Neuron_Claustrum_Nr4a2 [#5]"
         ],
         "legendgroup": "Neuron",
         "marker": {
          "color": "#636efa"
         },
         "name": "Neuron",
         "offsetgroup": "Neuron",
         "orientation": "v",
         "showlegend": false,
         "textposition": "auto",
         "type": "bar",
         "x": [
          "Neuron",
          "Neuron",
          "Neuron",
          "Neuron",
          "Neuron",
          "Neuron",
          "Neuron"
         ],
         "xaxis": "x6",
         "y": [
          1.791759469,
          1.386294361,
          0,
          0,
          0,
          0,
          0
         ],
         "yaxis": "y6"
        },
        {
         "alignmentgroup": "True",
         "customdata": [
          [
           "Neuron",
           "Neuron_Subiculum_Slc17a6 [#2]",
           1.791759469,
           0
          ],
          [
           "Neuron",
           "Neuron_CA1_Subiculum_Postsubiculum_Entorhinal_Fibcd1-Dcn-Cbln1-Ptgfr-Fezf2 [#5]",
           0.693147181,
           5.3e-10
          ],
          [
           "Neuron",
           "Neuron_CA2CA3_Pvrl3-Rgs15-Calb2 [#6]",
           0.693147181,
           9.660000000000001e-45
          ],
          [
           "Neuron",
           "Interneuron_Gad2 [#1]",
           0,
           4.54e-28
          ],
          [
           "Neuron",
           "Neuron_CajalRetzius_Lhx1 [#14]",
           0,
           0.038097381
          ],
          [
           "Neuron",
           "Neuron_Subiculum_Entorhinal_Nxph3 [#3]",
           0,
           1.85e-06
          ],
          [
           "Neuron",
           "Neuron_Dentate_C1ql2 [#4]",
           0,
           1.2399999999999996e-124
          ]
         ],
         "hovertemplate": "<b>%{hovertext}</b><br><br>Class=%{customdata[0]}<br>Region=Hippocampus<br>Adcyap1_Amount=%{customdata[2]}<br>Cluster=%{customdata[1]}<br>Adcyap1_PVal=%{customdata[3]}<extra></extra>",
         "hovertext": [
          "Neuron_Subiculum_Slc17a6 [#2]",
          "Neuron_CA1_Subiculum_Postsubiculum_Entorhinal_Fibcd1-Dcn-Cbln1-Ptgfr-Fezf2 [#5]",
          "Neuron_CA2CA3_Pvrl3-Rgs15-Calb2 [#6]",
          "Interneuron_Gad2 [#1]",
          "Neuron_CajalRetzius_Lhx1 [#14]",
          "Neuron_Subiculum_Entorhinal_Nxph3 [#3]",
          "Neuron_Dentate_C1ql2 [#4]"
         ],
         "legendgroup": "Neuron",
         "marker": {
          "color": "#636efa"
         },
         "name": "Neuron",
         "offsetgroup": "Neuron",
         "orientation": "v",
         "showlegend": false,
         "textposition": "auto",
         "type": "bar",
         "x": [
          "Neuron",
          "Neuron",
          "Neuron",
          "Neuron",
          "Neuron",
          "Neuron",
          "Neuron"
         ],
         "xaxis": "x5",
         "y": [
          1.791759469,
          0.693147181,
          0.693147181,
          0,
          0,
          0,
          0
         ],
         "yaxis": "y5"
        },
        {
         "alignmentgroup": "True",
         "customdata": [
          [
           "Neuron",
           "Neuron_Gad2 [#3]",
           1.791759469,
           0
          ],
          [
           "Neuron",
           "Neuron_Rora [#2]",
           0.693147181,
           0.302467716
          ],
          [
           "Neuron",
           "Neuron_Th [#4]",
           0.693147181,
           0.037188425
          ],
          [
           "Neuron",
           "Neuron_CA3_C1ql3 [#1]",
           0,
           0.426970959
          ]
         ],
         "hovertemplate": "<b>%{hovertext}</b><br><br>Class=%{customdata[0]}<br>Region=Substantia Nigra<br>Adcyap1_Amount=%{customdata[2]}<br>Cluster=%{customdata[1]}<br>Adcyap1_PVal=%{customdata[3]}<extra></extra>",
         "hovertext": [
          "Neuron_Gad2 [#3]",
          "Neuron_Rora [#2]",
          "Neuron_Th [#4]",
          "Neuron_CA3_C1ql3 [#1]"
         ],
         "legendgroup": "Neuron",
         "marker": {
          "color": "#636efa"
         },
         "name": "Neuron",
         "offsetgroup": "Neuron",
         "orientation": "v",
         "showlegend": false,
         "textposition": "auto",
         "type": "bar",
         "x": [
          "Neuron",
          "Neuron",
          "Neuron",
          "Neuron"
         ],
         "xaxis": "x4",
         "y": [
          1.791759469,
          0.693147181,
          0.693147181,
          0
         ],
         "yaxis": "y4"
        },
        {
         "alignmentgroup": "True",
         "customdata": [
          [
           "Neuron",
           "Neuron_Syt1 [#4]",
           1.098612289,
           3.629999999999999e-83
          ]
         ],
         "hovertemplate": "<b>%{hovertext}</b><br><br>Class=%{customdata[0]}<br>Region=Entopeduncular<br>Adcyap1_Amount=%{customdata[2]}<br>Cluster=%{customdata[1]}<br>Adcyap1_PVal=%{customdata[3]}<extra></extra>",
         "hovertext": [
          "Neuron_Syt1 [#4]"
         ],
         "legendgroup": "Neuron",
         "marker": {
          "color": "#636efa"
         },
         "name": "Neuron",
         "offsetgroup": "Neuron",
         "orientation": "v",
         "showlegend": false,
         "textposition": "auto",
         "type": "bar",
         "x": [
          "Neuron"
         ],
         "xaxis": "x3",
         "y": [
          1.098612289
         ],
         "yaxis": "y3"
        },
        {
         "alignmentgroup": "True",
         "customdata": [
          [
           "Neuron",
           "Interneuron_Pvalb_Th_Pnoc [#14]",
           0.693147181,
           1.05e-32
          ],
          [
           "Neuron",
           "Neuron_dSPN_Drd1 [#10]",
           0,
           5.19e-08
          ],
          [
           "Neuron",
           "Neuron_iSPN_Adora2a [#11]",
           0,
           5.27e-06
          ],
          [
           "Neuron",
           "Interneuron_Chat [#12]",
           0,
           1
          ],
          [
           "Neuron",
           "Neuron_SPN_BNST_Amygdala_Otof [#13]",
           0,
           7.57e-07
          ],
          [
           "Neuron",
           "Interneuron_Sst [#15]",
           0,
           1
          ]
         ],
         "hovertemplate": "<b>%{hovertext}</b><br><br>Class=%{customdata[0]}<br>Region=Striatum<br>Adcyap1_Amount=%{customdata[2]}<br>Cluster=%{customdata[1]}<br>Adcyap1_PVal=%{customdata[3]}<extra></extra>",
         "hovertext": [
          "Interneuron_Pvalb_Th_Pnoc [#14]",
          "Neuron_dSPN_Drd1 [#10]",
          "Neuron_iSPN_Adora2a [#11]",
          "Interneuron_Chat [#12]",
          "Neuron_SPN_BNST_Amygdala_Otof [#13]",
          "Interneuron_Sst [#15]"
         ],
         "legendgroup": "Neuron",
         "marker": {
          "color": "#636efa"
         },
         "name": "Neuron",
         "offsetgroup": "Neuron",
         "orientation": "v",
         "showlegend": false,
         "textposition": "auto",
         "type": "bar",
         "x": [
          "Neuron",
          "Neuron",
          "Neuron",
          "Neuron",
          "Neuron",
          "Neuron"
         ],
         "xaxis": "x2",
         "y": [
          0.693147181,
          0,
          0,
          0,
          0,
          0
         ],
         "yaxis": "y2"
        },
        {
         "alignmentgroup": "True",
         "customdata": [
          [
           "Neuron",
           "Neuron_Chat [#1]",
           0,
           0.633428563
          ],
          [
           "Neuron",
           "Neuron_Gabra1 [#2]",
           0,
           9.83e-51
          ],
          [
           "Neuron",
           "Neuron_Ppp1r1b [#3]",
           0,
           0.000205052
          ]
         ],
         "hovertemplate": "<b>%{hovertext}</b><br><br>Class=%{customdata[0]}<br>Region=Globus Pallidus<br>Adcyap1_Amount=%{customdata[2]}<br>Cluster=%{customdata[1]}<br>Adcyap1_PVal=%{customdata[3]}<extra></extra>",
         "hovertext": [
          "Neuron_Chat [#1]",
          "Neuron_Gabra1 [#2]",
          "Neuron_Ppp1r1b [#3]"
         ],
         "legendgroup": "Neuron",
         "marker": {
          "color": "#636efa"
         },
         "name": "Neuron",
         "offsetgroup": "Neuron",
         "orientation": "v",
         "showlegend": false,
         "textposition": "auto",
         "type": "bar",
         "x": [
          "Neuron",
          "Neuron",
          "Neuron"
         ],
         "xaxis": "x",
         "y": [
          0,
          0,
          0
         ],
         "yaxis": "y"
        },
        {
         "alignmentgroup": "True",
         "customdata": [
          [
           "Microglia_Macrophage",
           "Microglia_Macrophage_C1qb [#7]",
           0,
           0.190397625
          ]
         ],
         "hovertemplate": "<b>%{hovertext}</b><br><br>Class=%{customdata[0]}<br>Region=Thalamus<br>Adcyap1_Amount=%{customdata[2]}<br>Cluster=%{customdata[1]}<br>Adcyap1_PVal=%{customdata[3]}<extra></extra>",
         "hovertext": [
          "Microglia_Macrophage_C1qb [#7]"
         ],
         "legendgroup": "Microglia_Macrophage",
         "marker": {
          "color": "#EF553B"
         },
         "name": "Microglia_Macrophage",
         "offsetgroup": "Microglia_Macrophage",
         "orientation": "v",
         "showlegend": true,
         "textposition": "auto",
         "type": "bar",
         "x": [
          "Microglia_Macrophage"
         ],
         "xaxis": "x9",
         "y": [
          0
         ],
         "yaxis": "y9"
        },
        {
         "alignmentgroup": "True",
         "customdata": [
          [
           "Microglia_Macrophage",
           "Microglia_Macrophage_C1qb [#5]",
           0,
           1
          ]
         ],
         "hovertemplate": "<b>%{hovertext}</b><br><br>Class=%{customdata[0]}<br>Region=Cerebellum<br>Adcyap1_Amount=%{customdata[2]}<br>Cluster=%{customdata[1]}<br>Adcyap1_PVal=%{customdata[3]}<extra></extra>",
         "hovertext": [
          "Microglia_Macrophage_C1qb [#5]"
         ],
         "legendgroup": "Microglia_Macrophage",
         "marker": {
          "color": "#EF553B"
         },
         "name": "Microglia_Macrophage",
         "offsetgroup": "Microglia_Macrophage",
         "orientation": "v",
         "showlegend": false,
         "textposition": "auto",
         "type": "bar",
         "x": [
          "Microglia_Macrophage"
         ],
         "xaxis": "x8",
         "y": [
          0
         ],
         "yaxis": "y8"
        },
        {
         "alignmentgroup": "True",
         "customdata": [
          [
           "Microglia_Macrophage",
           "Microglia_Macrophage_Tmem119-Mrc1 [#11]",
           0.693147181,
           0.004445591
          ]
         ],
         "hovertemplate": "<b>%{hovertext}</b><br><br>Class=%{customdata[0]}<br>Region=Posterior Cortex<br>Adcyap1_Amount=%{customdata[2]}<br>Cluster=%{customdata[1]}<br>Adcyap1_PVal=%{customdata[3]}<extra></extra>",
         "hovertext": [
          "Microglia_Macrophage_Tmem119-Mrc1 [#11]"
         ],
         "legendgroup": "Microglia_Macrophage",
         "marker": {
          "color": "#EF553B"
         },
         "name": "Microglia_Macrophage",
         "offsetgroup": "Microglia_Macrophage",
         "orientation": "v",
         "showlegend": false,
         "textposition": "auto",
         "type": "bar",
         "x": [
          "Microglia_Macrophage"
         ],
         "xaxis": "x7",
         "y": [
          0.693147181
         ],
         "yaxis": "y7"
        },
        {
         "alignmentgroup": "True",
         "customdata": [
          [
           "Microglia_Macrophage",
           "Microglia_Macrophage_C1qb [#11]",
           0,
           5.87e-12
          ]
         ],
         "hovertemplate": "<b>%{hovertext}</b><br><br>Class=%{customdata[0]}<br>Region=Frontal Cortex<br>Adcyap1_Amount=%{customdata[2]}<br>Cluster=%{customdata[1]}<br>Adcyap1_PVal=%{customdata[3]}<extra></extra>",
         "hovertext": [
          "Microglia_Macrophage_C1qb [#11]"
         ],
         "legendgroup": "Microglia_Macrophage",
         "marker": {
          "color": "#EF553B"
         },
         "name": "Microglia_Macrophage",
         "offsetgroup": "Microglia_Macrophage",
         "orientation": "v",
         "showlegend": false,
         "textposition": "auto",
         "type": "bar",
         "x": [
          "Microglia_Macrophage"
         ],
         "xaxis": "x6",
         "y": [
          0
         ],
         "yaxis": "y6"
        },
        {
         "alignmentgroup": "True",
         "customdata": [
          [
           "Microglia_Macrophage",
           "Microglia_Macrophage_C1qb [#10]",
           0,
           0.008412397
          ]
         ],
         "hovertemplate": "<b>%{hovertext}</b><br><br>Class=%{customdata[0]}<br>Region=Hippocampus<br>Adcyap1_Amount=%{customdata[2]}<br>Cluster=%{customdata[1]}<br>Adcyap1_PVal=%{customdata[3]}<extra></extra>",
         "hovertext": [
          "Microglia_Macrophage_C1qb [#10]"
         ],
         "legendgroup": "Microglia_Macrophage",
         "marker": {
          "color": "#EF553B"
         },
         "name": "Microglia_Macrophage",
         "offsetgroup": "Microglia_Macrophage",
         "orientation": "v",
         "showlegend": false,
         "textposition": "auto",
         "type": "bar",
         "x": [
          "Microglia_Macrophage"
         ],
         "xaxis": "x5",
         "y": [
          0
         ],
         "yaxis": "y5"
        },
        {
         "alignmentgroup": "True",
         "customdata": [
          [
           "Microglia_Macrophage",
           "Microglia_Macrophage_C1qb [#9]",
           0,
           0.056060884000000005
          ]
         ],
         "hovertemplate": "<b>%{hovertext}</b><br><br>Class=%{customdata[0]}<br>Region=Substantia Nigra<br>Adcyap1_Amount=%{customdata[2]}<br>Cluster=%{customdata[1]}<br>Adcyap1_PVal=%{customdata[3]}<extra></extra>",
         "hovertext": [
          "Microglia_Macrophage_C1qb [#9]"
         ],
         "legendgroup": "Microglia_Macrophage",
         "marker": {
          "color": "#EF553B"
         },
         "name": "Microglia_Macrophage",
         "offsetgroup": "Microglia_Macrophage",
         "orientation": "v",
         "showlegend": false,
         "textposition": "auto",
         "type": "bar",
         "x": [
          "Microglia_Macrophage"
         ],
         "xaxis": "x4",
         "y": [
          0
         ],
         "yaxis": "y4"
        },
        {
         "alignmentgroup": "True",
         "customdata": [
          [
           "Microglia_Macrophage",
           "Microglia_Macrophage_C1qb [#6]",
           0,
           1
          ]
         ],
         "hovertemplate": "<b>%{hovertext}</b><br><br>Class=%{customdata[0]}<br>Region=Striatum<br>Adcyap1_Amount=%{customdata[2]}<br>Cluster=%{customdata[1]}<br>Adcyap1_PVal=%{customdata[3]}<extra></extra>",
         "hovertext": [
          "Microglia_Macrophage_C1qb [#6]"
         ],
         "legendgroup": "Microglia_Macrophage",
         "marker": {
          "color": "#EF553B"
         },
         "name": "Microglia_Macrophage",
         "offsetgroup": "Microglia_Macrophage",
         "orientation": "v",
         "showlegend": false,
         "textposition": "auto",
         "type": "bar",
         "x": [
          "Microglia_Macrophage"
         ],
         "xaxis": "x2",
         "y": [
          0
         ],
         "yaxis": "y2"
        },
        {
         "alignmentgroup": "True",
         "customdata": [
          [
           "Microglia_Macrophage",
           "Microglia_Macrophage_C1qb [#11]",
           0,
           0.49845442
          ]
         ],
         "hovertemplate": "<b>%{hovertext}</b><br><br>Class=%{customdata[0]}<br>Region=Globus Pallidus<br>Adcyap1_Amount=%{customdata[2]}<br>Cluster=%{customdata[1]}<br>Adcyap1_PVal=%{customdata[3]}<extra></extra>",
         "hovertext": [
          "Microglia_Macrophage_C1qb [#11]"
         ],
         "legendgroup": "Microglia_Macrophage",
         "marker": {
          "color": "#EF553B"
         },
         "name": "Microglia_Macrophage",
         "offsetgroup": "Microglia_Macrophage",
         "orientation": "v",
         "showlegend": false,
         "textposition": "auto",
         "type": "bar",
         "x": [
          "Microglia_Macrophage"
         ],
         "xaxis": "x",
         "y": [
          0
         ],
         "yaxis": "y"
        },
        {
         "alignmentgroup": "True",
         "customdata": [
          [
           "Endothelial",
           "Endothelial_Flt1 [#4]",
           0,
           1.48e-26
          ]
         ],
         "hovertemplate": "<b>%{hovertext}</b><br><br>Class=%{customdata[0]}<br>Region=Thalamus<br>Adcyap1_Amount=%{customdata[2]}<br>Cluster=%{customdata[1]}<br>Adcyap1_PVal=%{customdata[3]}<extra></extra>",
         "hovertext": [
          "Endothelial_Flt1 [#4]"
         ],
         "legendgroup": "Endothelial",
         "marker": {
          "color": "#00cc96"
         },
         "name": "Endothelial",
         "offsetgroup": "Endothelial",
         "orientation": "v",
         "showlegend": true,
         "textposition": "auto",
         "type": "bar",
         "x": [
          "Endothelial"
         ],
         "xaxis": "x9",
         "y": [
          0
         ],
         "yaxis": "y9"
        },
        {
         "alignmentgroup": "True",
         "customdata": [
          [
           "Endothelial",
           "Endothelial_Flt1 [#10]",
           0,
           0.191525537
          ]
         ],
         "hovertemplate": "<b>%{hovertext}</b><br><br>Class=%{customdata[0]}<br>Region=Cerebellum<br>Adcyap1_Amount=%{customdata[2]}<br>Cluster=%{customdata[1]}<br>Adcyap1_PVal=%{customdata[3]}<extra></extra>",
         "hovertext": [
          "Endothelial_Flt1 [#10]"
         ],
         "legendgroup": "Endothelial",
         "marker": {
          "color": "#00cc96"
         },
         "name": "Endothelial",
         "offsetgroup": "Endothelial",
         "orientation": "v",
         "showlegend": false,
         "textposition": "auto",
         "type": "bar",
         "x": [
          "Endothelial"
         ],
         "xaxis": "x8",
         "y": [
          0
         ],
         "yaxis": "y8"
        },
        {
         "alignmentgroup": "True",
         "customdata": [
          [
           "Endothelial",
           "Endothelial_Flt1 [#12]",
           0,
           3.19e-40
          ]
         ],
         "hovertemplate": "<b>%{hovertext}</b><br><br>Class=%{customdata[0]}<br>Region=Posterior Cortex<br>Adcyap1_Amount=%{customdata[2]}<br>Cluster=%{customdata[1]}<br>Adcyap1_PVal=%{customdata[3]}<extra></extra>",
         "hovertext": [
          "Endothelial_Flt1 [#12]"
         ],
         "legendgroup": "Endothelial",
         "marker": {
          "color": "#00cc96"
         },
         "name": "Endothelial",
         "offsetgroup": "Endothelial",
         "orientation": "v",
         "showlegend": false,
         "textposition": "auto",
         "type": "bar",
         "x": [
          "Endothelial"
         ],
         "xaxis": "x7",
         "y": [
          0
         ],
         "yaxis": "y7"
        },
        {
         "alignmentgroup": "True",
         "customdata": [
          [
           "Endothelial",
           "Endothelial_Flt1 [#12]",
           0,
           6.170000000000001e-60
          ]
         ],
         "hovertemplate": "<b>%{hovertext}</b><br><br>Class=%{customdata[0]}<br>Region=Frontal Cortex<br>Adcyap1_Amount=%{customdata[2]}<br>Cluster=%{customdata[1]}<br>Adcyap1_PVal=%{customdata[3]}<extra></extra>",
         "hovertext": [
          "Endothelial_Flt1 [#12]"
         ],
         "legendgroup": "Endothelial",
         "marker": {
          "color": "#00cc96"
         },
         "name": "Endothelial",
         "offsetgroup": "Endothelial",
         "orientation": "v",
         "showlegend": false,
         "textposition": "auto",
         "type": "bar",
         "x": [
          "Endothelial"
         ],
         "xaxis": "x6",
         "y": [
          0
         ],
         "yaxis": "y6"
        },
        {
         "alignmentgroup": "True",
         "customdata": [
          [
           "Endothelial",
           "Endothelial_Flt1 [#15]",
           0,
           9.350000000000001e-11
          ]
         ],
         "hovertemplate": "<b>%{hovertext}</b><br><br>Class=%{customdata[0]}<br>Region=Hippocampus<br>Adcyap1_Amount=%{customdata[2]}<br>Cluster=%{customdata[1]}<br>Adcyap1_PVal=%{customdata[3]}<extra></extra>",
         "hovertext": [
          "Endothelial_Flt1 [#15]"
         ],
         "legendgroup": "Endothelial",
         "marker": {
          "color": "#00cc96"
         },
         "name": "Endothelial",
         "offsetgroup": "Endothelial",
         "orientation": "v",
         "showlegend": false,
         "textposition": "auto",
         "type": "bar",
         "x": [
          "Endothelial"
         ],
         "xaxis": "x5",
         "y": [
          0
         ],
         "yaxis": "y5"
        },
        {
         "alignmentgroup": "True",
         "customdata": [
          [
           "Endothelial",
           "Endothelial_Flt1 [#12]",
           0,
           3.18e-29
          ]
         ],
         "hovertemplate": "<b>%{hovertext}</b><br><br>Class=%{customdata[0]}<br>Region=Substantia Nigra<br>Adcyap1_Amount=%{customdata[2]}<br>Cluster=%{customdata[1]}<br>Adcyap1_PVal=%{customdata[3]}<extra></extra>",
         "hovertext": [
          "Endothelial_Flt1 [#12]"
         ],
         "legendgroup": "Endothelial",
         "marker": {
          "color": "#00cc96"
         },
         "name": "Endothelial",
         "offsetgroup": "Endothelial",
         "orientation": "v",
         "showlegend": false,
         "textposition": "auto",
         "type": "bar",
         "x": [
          "Endothelial"
         ],
         "xaxis": "x4",
         "y": [
          0
         ],
         "yaxis": "y4"
        },
        {
         "alignmentgroup": "True",
         "customdata": [
          [
           "Endothelial",
           "Endothelial_Flt1 [#2]",
           0,
           4.29e-05
          ]
         ],
         "hovertemplate": "<b>%{hovertext}</b><br><br>Class=%{customdata[0]}<br>Region=Entopeduncular<br>Adcyap1_Amount=%{customdata[2]}<br>Cluster=%{customdata[1]}<br>Adcyap1_PVal=%{customdata[3]}<extra></extra>",
         "hovertext": [
          "Endothelial_Flt1 [#2]"
         ],
         "legendgroup": "Endothelial",
         "marker": {
          "color": "#00cc96"
         },
         "name": "Endothelial",
         "offsetgroup": "Endothelial",
         "orientation": "v",
         "showlegend": false,
         "textposition": "auto",
         "type": "bar",
         "x": [
          "Endothelial"
         ],
         "xaxis": "x3",
         "y": [
          0
         ],
         "yaxis": "y3"
        },
        {
         "alignmentgroup": "True",
         "customdata": [
          [
           "Endothelial",
           "Endothelial_Flt1 [#7]",
           0,
           1
          ]
         ],
         "hovertemplate": "<b>%{hovertext}</b><br><br>Class=%{customdata[0]}<br>Region=Striatum<br>Adcyap1_Amount=%{customdata[2]}<br>Cluster=%{customdata[1]}<br>Adcyap1_PVal=%{customdata[3]}<extra></extra>",
         "hovertext": [
          "Endothelial_Flt1 [#7]"
         ],
         "legendgroup": "Endothelial",
         "marker": {
          "color": "#00cc96"
         },
         "name": "Endothelial",
         "offsetgroup": "Endothelial",
         "orientation": "v",
         "showlegend": false,
         "textposition": "auto",
         "type": "bar",
         "x": [
          "Endothelial"
         ],
         "xaxis": "x2",
         "y": [
          0
         ],
         "yaxis": "y2"
        },
        {
         "alignmentgroup": "True",
         "customdata": [
          [
           "Endothelial",
           "Endothelial_Flt1 [#7]",
           0,
           0.0048026779999999995
          ]
         ],
         "hovertemplate": "<b>%{hovertext}</b><br><br>Class=%{customdata[0]}<br>Region=Globus Pallidus<br>Adcyap1_Amount=%{customdata[2]}<br>Cluster=%{customdata[1]}<br>Adcyap1_PVal=%{customdata[3]}<extra></extra>",
         "hovertext": [
          "Endothelial_Flt1 [#7]"
         ],
         "legendgroup": "Endothelial",
         "marker": {
          "color": "#00cc96"
         },
         "name": "Endothelial",
         "offsetgroup": "Endothelial",
         "orientation": "v",
         "showlegend": false,
         "textposition": "auto",
         "type": "bar",
         "x": [
          "Endothelial"
         ],
         "xaxis": "x",
         "y": [
          0
         ],
         "yaxis": "y"
        },
        {
         "alignmentgroup": "True",
         "customdata": [
          [
           "Fibroblast-Like",
           "Fibroblast-Like_Dcn [#6]",
           0,
           0.123407647
          ]
         ],
         "hovertemplate": "<b>%{hovertext}</b><br><br>Class=%{customdata[0]}<br>Region=Thalamus<br>Adcyap1_Amount=%{customdata[2]}<br>Cluster=%{customdata[1]}<br>Adcyap1_PVal=%{customdata[3]}<extra></extra>",
         "hovertext": [
          "Fibroblast-Like_Dcn [#6]"
         ],
         "legendgroup": "Fibroblast-Like",
         "marker": {
          "color": "#ab63fa"
         },
         "name": "Fibroblast-Like",
         "offsetgroup": "Fibroblast-Like",
         "orientation": "v",
         "showlegend": true,
         "textposition": "auto",
         "type": "bar",
         "x": [
          "Fibroblast-Like"
         ],
         "xaxis": "x9",
         "y": [
          0
         ],
         "yaxis": "y9"
        },
        {
         "alignmentgroup": "True",
         "customdata": [
          [
           "Fibroblast-Like",
           "Fibroblast-Like_Dcn [#11]",
           0,
           0.411767093
          ]
         ],
         "hovertemplate": "<b>%{hovertext}</b><br><br>Class=%{customdata[0]}<br>Region=Cerebellum<br>Adcyap1_Amount=%{customdata[2]}<br>Cluster=%{customdata[1]}<br>Adcyap1_PVal=%{customdata[3]}<extra></extra>",
         "hovertext": [
          "Fibroblast-Like_Dcn [#11]"
         ],
         "legendgroup": "Fibroblast-Like",
         "marker": {
          "color": "#ab63fa"
         },
         "name": "Fibroblast-Like",
         "offsetgroup": "Fibroblast-Like",
         "orientation": "v",
         "showlegend": false,
         "textposition": "auto",
         "type": "bar",
         "x": [
          "Fibroblast-Like"
         ],
         "xaxis": "x8",
         "y": [
          0
         ],
         "yaxis": "y8"
        },
        {
         "alignmentgroup": "True",
         "customdata": [
          [
           "Fibroblast-Like",
           "Fibroblast-Like_Dcn [#14]",
           0,
           5.7999999999999997e-08
          ]
         ],
         "hovertemplate": "<b>%{hovertext}</b><br><br>Class=%{customdata[0]}<br>Region=Posterior Cortex<br>Adcyap1_Amount=%{customdata[2]}<br>Cluster=%{customdata[1]}<br>Adcyap1_PVal=%{customdata[3]}<extra></extra>",
         "hovertext": [
          "Fibroblast-Like_Dcn [#14]"
         ],
         "legendgroup": "Fibroblast-Like",
         "marker": {
          "color": "#ab63fa"
         },
         "name": "Fibroblast-Like",
         "offsetgroup": "Fibroblast-Like",
         "orientation": "v",
         "showlegend": false,
         "textposition": "auto",
         "type": "bar",
         "x": [
          "Fibroblast-Like"
         ],
         "xaxis": "x7",
         "y": [
          0
         ],
         "yaxis": "y7"
        },
        {
         "alignmentgroup": "True",
         "customdata": [
          [
           "Fibroblast-Like",
           "Fibroblast-Like_Dcn [#14]",
           0,
           7.45e-07
          ]
         ],
         "hovertemplate": "<b>%{hovertext}</b><br><br>Class=%{customdata[0]}<br>Region=Frontal Cortex<br>Adcyap1_Amount=%{customdata[2]}<br>Cluster=%{customdata[1]}<br>Adcyap1_PVal=%{customdata[3]}<extra></extra>",
         "hovertext": [
          "Fibroblast-Like_Dcn [#14]"
         ],
         "legendgroup": "Fibroblast-Like",
         "marker": {
          "color": "#ab63fa"
         },
         "name": "Fibroblast-Like",
         "offsetgroup": "Fibroblast-Like",
         "orientation": "v",
         "showlegend": false,
         "textposition": "auto",
         "type": "bar",
         "x": [
          "Fibroblast-Like"
         ],
         "xaxis": "x6",
         "y": [
          0
         ],
         "yaxis": "y6"
        },
        {
         "alignmentgroup": "True",
         "customdata": [
          [
           "Fibroblast-Like",
           "Fibroblast-Like_Dcn [#17]",
           0,
           0.143642283
          ]
         ],
         "hovertemplate": "<b>%{hovertext}</b><br><br>Class=%{customdata[0]}<br>Region=Hippocampus<br>Adcyap1_Amount=%{customdata[2]}<br>Cluster=%{customdata[1]}<br>Adcyap1_PVal=%{customdata[3]}<extra></extra>",
         "hovertext": [
          "Fibroblast-Like_Dcn [#17]"
         ],
         "legendgroup": "Fibroblast-Like",
         "marker": {
          "color": "#ab63fa"
         },
         "name": "Fibroblast-Like",
         "offsetgroup": "Fibroblast-Like",
         "orientation": "v",
         "showlegend": false,
         "textposition": "auto",
         "type": "bar",
         "x": [
          "Fibroblast-Like"
         ],
         "xaxis": "x5",
         "y": [
          0
         ],
         "yaxis": "y5"
        },
        {
         "alignmentgroup": "True",
         "customdata": [
          [
           "Fibroblast-Like",
           "Fibroblast-Like_Dcn [#14]",
           0,
           0.005811951
          ]
         ],
         "hovertemplate": "<b>%{hovertext}</b><br><br>Class=%{customdata[0]}<br>Region=Substantia Nigra<br>Adcyap1_Amount=%{customdata[2]}<br>Cluster=%{customdata[1]}<br>Adcyap1_PVal=%{customdata[3]}<extra></extra>",
         "hovertext": [
          "Fibroblast-Like_Dcn [#14]"
         ],
         "legendgroup": "Fibroblast-Like",
         "marker": {
          "color": "#ab63fa"
         },
         "name": "Fibroblast-Like",
         "offsetgroup": "Fibroblast-Like",
         "orientation": "v",
         "showlegend": false,
         "textposition": "auto",
         "type": "bar",
         "x": [
          "Fibroblast-Like"
         ],
         "xaxis": "x4",
         "y": [
          0
         ],
         "yaxis": "y4"
        },
        {
         "alignmentgroup": "True",
         "customdata": [
          [
           "Fibroblast-Like",
           "Fibroblast-Like_Dcn [#9]",
           0,
           1
          ]
         ],
         "hovertemplate": "<b>%{hovertext}</b><br><br>Class=%{customdata[0]}<br>Region=Striatum<br>Adcyap1_Amount=%{customdata[2]}<br>Cluster=%{customdata[1]}<br>Adcyap1_PVal=%{customdata[3]}<extra></extra>",
         "hovertext": [
          "Fibroblast-Like_Dcn [#9]"
         ],
         "legendgroup": "Fibroblast-Like",
         "marker": {
          "color": "#ab63fa"
         },
         "name": "Fibroblast-Like",
         "offsetgroup": "Fibroblast-Like",
         "orientation": "v",
         "showlegend": false,
         "textposition": "auto",
         "type": "bar",
         "x": [
          "Fibroblast-Like"
         ],
         "xaxis": "x2",
         "y": [
          0
         ],
         "yaxis": "y2"
        },
        {
         "alignmentgroup": "True",
         "customdata": [
          [
           "Fibroblast-Like",
           "Fibroblast-Like_Dcn [#9]",
           0,
           1
          ]
         ],
         "hovertemplate": "<b>%{hovertext}</b><br><br>Class=%{customdata[0]}<br>Region=Globus Pallidus<br>Adcyap1_Amount=%{customdata[2]}<br>Cluster=%{customdata[1]}<br>Adcyap1_PVal=%{customdata[3]}<extra></extra>",
         "hovertext": [
          "Fibroblast-Like_Dcn [#9]"
         ],
         "legendgroup": "Fibroblast-Like",
         "marker": {
          "color": "#ab63fa"
         },
         "name": "Fibroblast-Like",
         "offsetgroup": "Fibroblast-Like",
         "orientation": "v",
         "showlegend": false,
         "textposition": "auto",
         "type": "bar",
         "x": [
          "Fibroblast-Like"
         ],
         "xaxis": "x",
         "y": [
          0
         ],
         "yaxis": "y"
        },
        {
         "alignmentgroup": "True",
         "customdata": [
          [
           "Oligodendrocyte_Polydendrocyte",
           "Oligodendrocyte_Polydendrocyte_Tfr_Tnr [#6]",
           0,
           0.123045155
          ]
         ],
         "hovertemplate": "<b>%{hovertext}</b><br><br>Class=%{customdata[0]}<br>Region=Cerebellum<br>Adcyap1_Amount=%{customdata[2]}<br>Cluster=%{customdata[1]}<br>Adcyap1_PVal=%{customdata[3]}<extra></extra>",
         "hovertext": [
          "Oligodendrocyte_Polydendrocyte_Tfr_Tnr [#6]"
         ],
         "legendgroup": "Oligodendrocyte_Polydendrocyte",
         "marker": {
          "color": "#FFA15A"
         },
         "name": "Oligodendrocyte_Polydendrocyte",
         "offsetgroup": "Oligodendrocyte_Polydendrocyte",
         "orientation": "v",
         "showlegend": true,
         "textposition": "auto",
         "type": "bar",
         "x": [
          "Oligodendrocyte_Polydendrocyte"
         ],
         "xaxis": "x8",
         "y": [
          0
         ],
         "yaxis": "y8"
        },
        {
         "alignmentgroup": "True",
         "customdata": [
          [
           "Astrocyte",
           "Astrocyte_Gja1 [#11]",
           0,
           0.00025372700000000003
          ]
         ],
         "hovertemplate": "<b>%{hovertext}</b><br><br>Class=%{customdata[0]}<br>Region=Thalamus<br>Adcyap1_Amount=%{customdata[2]}<br>Cluster=%{customdata[1]}<br>Adcyap1_PVal=%{customdata[3]}<extra></extra>",
         "hovertext": [
          "Astrocyte_Gja1 [#11]"
         ],
         "legendgroup": "Astrocyte",
         "marker": {
          "color": "#19d3f3"
         },
         "name": "Astrocyte",
         "offsetgroup": "Astrocyte",
         "orientation": "v",
         "showlegend": true,
         "textposition": "auto",
         "type": "bar",
         "x": [
          "Astrocyte"
         ],
         "xaxis": "x9",
         "y": [
          0
         ],
         "yaxis": "y9"
        },
        {
         "alignmentgroup": "True",
         "customdata": [
          [
           "Astrocyte",
           "BergmannGlia_Gpr37l1 [#7]",
           0,
           2.96e-06
          ],
          [
           "Astrocyte",
           "Astrocyte_Gja1 [#8]",
           0,
           0.410768796
          ]
         ],
         "hovertemplate": "<b>%{hovertext}</b><br><br>Class=%{customdata[0]}<br>Region=Cerebellum<br>Adcyap1_Amount=%{customdata[2]}<br>Cluster=%{customdata[1]}<br>Adcyap1_PVal=%{customdata[3]}<extra></extra>",
         "hovertext": [
          "BergmannGlia_Gpr37l1 [#7]",
          "Astrocyte_Gja1 [#8]"
         ],
         "legendgroup": "Astrocyte",
         "marker": {
          "color": "#19d3f3"
         },
         "name": "Astrocyte",
         "offsetgroup": "Astrocyte",
         "orientation": "v",
         "showlegend": false,
         "textposition": "auto",
         "type": "bar",
         "x": [
          "Astrocyte",
          "Astrocyte"
         ],
         "xaxis": "x8",
         "y": [
          0,
          0
         ],
         "yaxis": "y8"
        },
        {
         "alignmentgroup": "True",
         "customdata": [
          [
           "Astrocyte",
           "Astrocyte_Gja1 [#8]",
           0,
           2.4099999999999993e-70
          ]
         ],
         "hovertemplate": "<b>%{hovertext}</b><br><br>Class=%{customdata[0]}<br>Region=Posterior Cortex<br>Adcyap1_Amount=%{customdata[2]}<br>Cluster=%{customdata[1]}<br>Adcyap1_PVal=%{customdata[3]}<extra></extra>",
         "hovertext": [
          "Astrocyte_Gja1 [#8]"
         ],
         "legendgroup": "Astrocyte",
         "marker": {
          "color": "#19d3f3"
         },
         "name": "Astrocyte",
         "offsetgroup": "Astrocyte",
         "orientation": "v",
         "showlegend": false,
         "textposition": "auto",
         "type": "bar",
         "x": [
          "Astrocyte"
         ],
         "xaxis": "x7",
         "y": [
          0
         ],
         "yaxis": "y7"
        },
        {
         "alignmentgroup": "True",
         "customdata": [
          [
           "Astrocyte",
           "Astrocyte_Gja1 [#8]",
           0,
           3.79e-58
          ]
         ],
         "hovertemplate": "<b>%{hovertext}</b><br><br>Class=%{customdata[0]}<br>Region=Frontal Cortex<br>Adcyap1_Amount=%{customdata[2]}<br>Cluster=%{customdata[1]}<br>Adcyap1_PVal=%{customdata[3]}<extra></extra>",
         "hovertext": [
          "Astrocyte_Gja1 [#8]"
         ],
         "legendgroup": "Astrocyte",
         "marker": {
          "color": "#19d3f3"
         },
         "name": "Astrocyte",
         "offsetgroup": "Astrocyte",
         "orientation": "v",
         "showlegend": false,
         "textposition": "auto",
         "type": "bar",
         "x": [
          "Astrocyte"
         ],
         "xaxis": "x6",
         "y": [
          0
         ],
         "yaxis": "y6"
        },
        {
         "alignmentgroup": "True",
         "customdata": [
          [
           "Astrocyte",
           "Astrocyte_Gja1 [#7]",
           0,
           1.1299999999999998e-46
          ]
         ],
         "hovertemplate": "<b>%{hovertext}</b><br><br>Class=%{customdata[0]}<br>Region=Hippocampus<br>Adcyap1_Amount=%{customdata[2]}<br>Cluster=%{customdata[1]}<br>Adcyap1_PVal=%{customdata[3]}<extra></extra>",
         "hovertext": [
          "Astrocyte_Gja1 [#7]"
         ],
         "legendgroup": "Astrocyte",
         "marker": {
          "color": "#19d3f3"
         },
         "name": "Astrocyte",
         "offsetgroup": "Astrocyte",
         "orientation": "v",
         "showlegend": false,
         "textposition": "auto",
         "type": "bar",
         "x": [
          "Astrocyte"
         ],
         "xaxis": "x5",
         "y": [
          0
         ],
         "yaxis": "y5"
        },
        {
         "alignmentgroup": "True",
         "customdata": [
          [
           "Astrocyte",
           "Astrocyte_Gja1 [#7]",
           0,
           2.4100000000000003e-13
          ]
         ],
         "hovertemplate": "<b>%{hovertext}</b><br><br>Class=%{customdata[0]}<br>Region=Substantia Nigra<br>Adcyap1_Amount=%{customdata[2]}<br>Cluster=%{customdata[1]}<br>Adcyap1_PVal=%{customdata[3]}<extra></extra>",
         "hovertext": [
          "Astrocyte_Gja1 [#7]"
         ],
         "legendgroup": "Astrocyte",
         "marker": {
          "color": "#19d3f3"
         },
         "name": "Astrocyte",
         "offsetgroup": "Astrocyte",
         "orientation": "v",
         "showlegend": false,
         "textposition": "auto",
         "type": "bar",
         "x": [
          "Astrocyte"
         ],
         "xaxis": "x4",
         "y": [
          0
         ],
         "yaxis": "y4"
        },
        {
         "alignmentgroup": "True",
         "customdata": [
          [
           "Astrocyte",
           "Astrocyte_Gja1 [#7]",
           0,
           0.524950843
          ]
         ],
         "hovertemplate": "<b>%{hovertext}</b><br><br>Class=%{customdata[0]}<br>Region=Entopeduncular<br>Adcyap1_Amount=%{customdata[2]}<br>Cluster=%{customdata[1]}<br>Adcyap1_PVal=%{customdata[3]}<extra></extra>",
         "hovertext": [
          "Astrocyte_Gja1 [#7]"
         ],
         "legendgroup": "Astrocyte",
         "marker": {
          "color": "#19d3f3"
         },
         "name": "Astrocyte",
         "offsetgroup": "Astrocyte",
         "orientation": "v",
         "showlegend": false,
         "textposition": "auto",
         "type": "bar",
         "x": [
          "Astrocyte"
         ],
         "xaxis": "x3",
         "y": [
          0
         ],
         "yaxis": "y3"
        },
        {
         "alignmentgroup": "True",
         "customdata": [
          [
           "Astrocyte",
           "Astrocyte_Gja1 [#4]",
           0,
           0.632468925
          ]
         ],
         "hovertemplate": "<b>%{hovertext}</b><br><br>Class=%{customdata[0]}<br>Region=Striatum<br>Adcyap1_Amount=%{customdata[2]}<br>Cluster=%{customdata[1]}<br>Adcyap1_PVal=%{customdata[3]}<extra></extra>",
         "hovertext": [
          "Astrocyte_Gja1 [#4]"
         ],
         "legendgroup": "Astrocyte",
         "marker": {
          "color": "#19d3f3"
         },
         "name": "Astrocyte",
         "offsetgroup": "Astrocyte",
         "orientation": "v",
         "showlegend": false,
         "textposition": "auto",
         "type": "bar",
         "x": [
          "Astrocyte"
         ],
         "xaxis": "x2",
         "y": [
          0
         ],
         "yaxis": "y2"
        },
        {
         "alignmentgroup": "True",
         "customdata": [
          [
           "Astrocyte",
           "Astrocyte_Gja1 [#5]",
           0,
           0.000283421
          ]
         ],
         "hovertemplate": "<b>%{hovertext}</b><br><br>Class=%{customdata[0]}<br>Region=Globus Pallidus<br>Adcyap1_Amount=%{customdata[2]}<br>Cluster=%{customdata[1]}<br>Adcyap1_PVal=%{customdata[3]}<extra></extra>",
         "hovertext": [
          "Astrocyte_Gja1 [#5]"
         ],
         "legendgroup": "Astrocyte",
         "marker": {
          "color": "#19d3f3"
         },
         "name": "Astrocyte",
         "offsetgroup": "Astrocyte",
         "orientation": "v",
         "showlegend": false,
         "textposition": "auto",
         "type": "bar",
         "x": [
          "Astrocyte"
         ],
         "xaxis": "x",
         "y": [
          0
         ],
         "yaxis": "y"
        },
        {
         "alignmentgroup": "True",
         "customdata": [
          [
           "Choroid_Plexus",
           "Choroid_Plexus_Ttr [#9]",
           0,
           1
          ]
         ],
         "hovertemplate": "<b>%{hovertext}</b><br><br>Class=%{customdata[0]}<br>Region=Cerebellum<br>Adcyap1_Amount=%{customdata[2]}<br>Cluster=%{customdata[1]}<br>Adcyap1_PVal=%{customdata[3]}<extra></extra>",
         "hovertext": [
          "Choroid_Plexus_Ttr [#9]"
         ],
         "legendgroup": "Choroid_Plexus",
         "marker": {
          "color": "#FF6692"
         },
         "name": "Choroid_Plexus",
         "offsetgroup": "Choroid_Plexus",
         "orientation": "v",
         "showlegend": true,
         "textposition": "auto",
         "type": "bar",
         "x": [
          "Choroid_Plexus"
         ],
         "xaxis": "x8",
         "y": [
          0
         ],
         "yaxis": "y8"
        },
        {
         "alignmentgroup": "True",
         "customdata": [
          [
           "Choroid_Plexus",
           "Choroid_Plexus_Ttr [#12]",
           0,
           0.274601417
          ]
         ],
         "hovertemplate": "<b>%{hovertext}</b><br><br>Class=%{customdata[0]}<br>Region=Hippocampus<br>Adcyap1_Amount=%{customdata[2]}<br>Cluster=%{customdata[1]}<br>Adcyap1_PVal=%{customdata[3]}<extra></extra>",
         "hovertext": [
          "Choroid_Plexus_Ttr [#12]"
         ],
         "legendgroup": "Choroid_Plexus",
         "marker": {
          "color": "#FF6692"
         },
         "name": "Choroid_Plexus",
         "offsetgroup": "Choroid_Plexus",
         "orientation": "v",
         "showlegend": false,
         "textposition": "auto",
         "type": "bar",
         "x": [
          "Choroid_Plexus"
         ],
         "xaxis": "x5",
         "y": [
          0
         ],
         "yaxis": "y5"
        },
        {
         "alignmentgroup": "True",
         "customdata": [
          [
           "Polydendrocyte",
           "Polydendrocyte_Tnr [#12]",
           0,
           0.000379659
          ]
         ],
         "hovertemplate": "<b>%{hovertext}</b><br><br>Class=%{customdata[0]}<br>Region=Thalamus<br>Adcyap1_Amount=%{customdata[2]}<br>Cluster=%{customdata[1]}<br>Adcyap1_PVal=%{customdata[3]}<extra></extra>",
         "hovertext": [
          "Polydendrocyte_Tnr [#12]"
         ],
         "legendgroup": "Polydendrocyte",
         "marker": {
          "color": "#B6E880"
         },
         "name": "Polydendrocyte",
         "offsetgroup": "Polydendrocyte",
         "orientation": "v",
         "showlegend": true,
         "textposition": "auto",
         "type": "bar",
         "x": [
          "Polydendrocyte"
         ],
         "xaxis": "x9",
         "y": [
          0
         ],
         "yaxis": "y9"
        },
        {
         "alignmentgroup": "True",
         "customdata": [
          [
           "Polydendrocyte",
           "Polydendrocyte_Tnr [#10]",
           0,
           6.12e-10
          ]
         ],
         "hovertemplate": "<b>%{hovertext}</b><br><br>Class=%{customdata[0]}<br>Region=Posterior Cortex<br>Adcyap1_Amount=%{customdata[2]}<br>Cluster=%{customdata[1]}<br>Adcyap1_PVal=%{customdata[3]}<extra></extra>",
         "hovertext": [
          "Polydendrocyte_Tnr [#10]"
         ],
         "legendgroup": "Polydendrocyte",
         "marker": {
          "color": "#B6E880"
         },
         "name": "Polydendrocyte",
         "offsetgroup": "Polydendrocyte",
         "orientation": "v",
         "showlegend": false,
         "textposition": "auto",
         "type": "bar",
         "x": [
          "Polydendrocyte"
         ],
         "xaxis": "x7",
         "y": [
          0
         ],
         "yaxis": "y7"
        },
        {
         "alignmentgroup": "True",
         "customdata": [
          [
           "Polydendrocyte",
           "Polydendrocyte_Tnr [#10]",
           0,
           2.91e-18
          ]
         ],
         "hovertemplate": "<b>%{hovertext}</b><br><br>Class=%{customdata[0]}<br>Region=Frontal Cortex<br>Adcyap1_Amount=%{customdata[2]}<br>Cluster=%{customdata[1]}<br>Adcyap1_PVal=%{customdata[3]}<extra></extra>",
         "hovertext": [
          "Polydendrocyte_Tnr [#10]"
         ],
         "legendgroup": "Polydendrocyte",
         "marker": {
          "color": "#B6E880"
         },
         "name": "Polydendrocyte",
         "offsetgroup": "Polydendrocyte",
         "orientation": "v",
         "showlegend": false,
         "textposition": "auto",
         "type": "bar",
         "x": [
          "Polydendrocyte"
         ],
         "xaxis": "x6",
         "y": [
          0
         ],
         "yaxis": "y6"
        },
        {
         "alignmentgroup": "True",
         "customdata": [
          [
           "Polydendrocyte",
           "Polydendrocyte_Tnr [#9]",
           0,
           4.19e-06
          ]
         ],
         "hovertemplate": "<b>%{hovertext}</b><br><br>Class=%{customdata[0]}<br>Region=Hippocampus<br>Adcyap1_Amount=%{customdata[2]}<br>Cluster=%{customdata[1]}<br>Adcyap1_PVal=%{customdata[3]}<extra></extra>",
         "hovertext": [
          "Polydendrocyte_Tnr [#9]"
         ],
         "legendgroup": "Polydendrocyte",
         "marker": {
          "color": "#B6E880"
         },
         "name": "Polydendrocyte",
         "offsetgroup": "Polydendrocyte",
         "orientation": "v",
         "showlegend": false,
         "textposition": "auto",
         "type": "bar",
         "x": [
          "Polydendrocyte"
         ],
         "xaxis": "x5",
         "y": [
          0
         ],
         "yaxis": "y5"
        },
        {
         "alignmentgroup": "True",
         "customdata": [
          [
           "Polydendrocyte",
           "Polydendrocyte_Tnr [#5]",
           0,
           1.74e-05
          ],
          [
           "Polydendrocyte",
           "Polydendrocyte_Cacng4 [#6]",
           0,
           0.038885138
          ]
         ],
         "hovertemplate": "<b>%{hovertext}</b><br><br>Class=%{customdata[0]}<br>Region=Substantia Nigra<br>Adcyap1_Amount=%{customdata[2]}<br>Cluster=%{customdata[1]}<br>Adcyap1_PVal=%{customdata[3]}<extra></extra>",
         "hovertext": [
          "Polydendrocyte_Tnr [#5]",
          "Polydendrocyte_Cacng4 [#6]"
         ],
         "legendgroup": "Polydendrocyte",
         "marker": {
          "color": "#B6E880"
         },
         "name": "Polydendrocyte",
         "offsetgroup": "Polydendrocyte",
         "orientation": "v",
         "showlegend": false,
         "textposition": "auto",
         "type": "bar",
         "x": [
          "Polydendrocyte",
          "Polydendrocyte"
         ],
         "xaxis": "x4",
         "y": [
          0,
          0
         ],
         "yaxis": "y4"
        },
        {
         "alignmentgroup": "True",
         "customdata": [
          [
           "Polydendrocyte",
           "Polydendrocyte_Tnr [#5]",
           0,
           0.036365742
          ],
          [
           "Polydendrocyte",
           "Polydendrocyte_Cacng4 [#6]",
           0,
           1
          ]
         ],
         "hovertemplate": "<b>%{hovertext}</b><br><br>Class=%{customdata[0]}<br>Region=Entopeduncular<br>Adcyap1_Amount=%{customdata[2]}<br>Cluster=%{customdata[1]}<br>Adcyap1_PVal=%{customdata[3]}<extra></extra>",
         "hovertext": [
          "Polydendrocyte_Tnr [#5]",
          "Polydendrocyte_Cacng4 [#6]"
         ],
         "legendgroup": "Polydendrocyte",
         "marker": {
          "color": "#B6E880"
         },
         "name": "Polydendrocyte",
         "offsetgroup": "Polydendrocyte",
         "orientation": "v",
         "showlegend": false,
         "textposition": "auto",
         "type": "bar",
         "x": [
          "Polydendrocyte",
          "Polydendrocyte"
         ],
         "xaxis": "x3",
         "y": [
          0,
          0
         ],
         "yaxis": "y3"
        },
        {
         "alignmentgroup": "True",
         "customdata": [
          [
           "Polydendrocyte",
           "Polydendrocytes_Tnr [#5]",
           0,
           1
          ]
         ],
         "hovertemplate": "<b>%{hovertext}</b><br><br>Class=%{customdata[0]}<br>Region=Striatum<br>Adcyap1_Amount=%{customdata[2]}<br>Cluster=%{customdata[1]}<br>Adcyap1_PVal=%{customdata[3]}<extra></extra>",
         "hovertext": [
          "Polydendrocytes_Tnr [#5]"
         ],
         "legendgroup": "Polydendrocyte",
         "marker": {
          "color": "#B6E880"
         },
         "name": "Polydendrocyte",
         "offsetgroup": "Polydendrocyte",
         "orientation": "v",
         "showlegend": false,
         "textposition": "auto",
         "type": "bar",
         "x": [
          "Polydendrocyte"
         ],
         "xaxis": "x2",
         "y": [
          0
         ],
         "yaxis": "y2"
        },
        {
         "alignmentgroup": "True",
         "customdata": [
          [
           "Polydendrocyte",
           "Polydendrocyte_Tnr [#4]",
           0,
           0.05619079900000001
          ]
         ],
         "hovertemplate": "<b>%{hovertext}</b><br><br>Class=%{customdata[0]}<br>Region=Globus Pallidus<br>Adcyap1_Amount=%{customdata[2]}<br>Cluster=%{customdata[1]}<br>Adcyap1_PVal=%{customdata[3]}<extra></extra>",
         "hovertext": [
          "Polydendrocyte_Tnr [#4]"
         ],
         "legendgroup": "Polydendrocyte",
         "marker": {
          "color": "#B6E880"
         },
         "name": "Polydendrocyte",
         "offsetgroup": "Polydendrocyte",
         "orientation": "v",
         "showlegend": false,
         "textposition": "auto",
         "type": "bar",
         "x": [
          "Polydendrocyte"
         ],
         "xaxis": "x",
         "y": [
          0
         ],
         "yaxis": "y"
        },
        {
         "alignmentgroup": "True",
         "customdata": [
          [
           "Mural",
           "Mural_Rgs5Acta2 [#5]",
           0,
           4.210000000000001e-05
          ]
         ],
         "hovertemplate": "<b>%{hovertext}</b><br><br>Class=%{customdata[0]}<br>Region=Thalamus<br>Adcyap1_Amount=%{customdata[2]}<br>Cluster=%{customdata[1]}<br>Adcyap1_PVal=%{customdata[3]}<extra></extra>",
         "hovertext": [
          "Mural_Rgs5Acta2 [#5]"
         ],
         "legendgroup": "Mural",
         "marker": {
          "color": "#FF97FF"
         },
         "name": "Mural",
         "offsetgroup": "Mural",
         "orientation": "v",
         "showlegend": true,
         "textposition": "auto",
         "type": "bar",
         "x": [
          "Mural"
         ],
         "xaxis": "x9",
         "y": [
          0
         ],
         "yaxis": "y9"
        },
        {
         "alignmentgroup": "True",
         "customdata": [
          [
           "Mural",
           "Mural_Rgs5Acta2 [#13]",
           0,
           4.0300000000000004e-08
          ]
         ],
         "hovertemplate": "<b>%{hovertext}</b><br><br>Class=%{customdata[0]}<br>Region=Posterior Cortex<br>Adcyap1_Amount=%{customdata[2]}<br>Cluster=%{customdata[1]}<br>Adcyap1_PVal=%{customdata[3]}<extra></extra>",
         "hovertext": [
          "Mural_Rgs5Acta2 [#13]"
         ],
         "legendgroup": "Mural",
         "marker": {
          "color": "#FF97FF"
         },
         "name": "Mural",
         "offsetgroup": "Mural",
         "orientation": "v",
         "showlegend": false,
         "textposition": "auto",
         "type": "bar",
         "x": [
          "Mural"
         ],
         "xaxis": "x7",
         "y": [
          0
         ],
         "yaxis": "y7"
        },
        {
         "alignmentgroup": "True",
         "customdata": [
          [
           "Mural",
           "Mural_Rgs5Acta2 [#13]",
           0,
           2.6400000000000004e-13
          ]
         ],
         "hovertemplate": "<b>%{hovertext}</b><br><br>Class=%{customdata[0]}<br>Region=Frontal Cortex<br>Adcyap1_Amount=%{customdata[2]}<br>Cluster=%{customdata[1]}<br>Adcyap1_PVal=%{customdata[3]}<extra></extra>",
         "hovertext": [
          "Mural_Rgs5Acta2 [#13]"
         ],
         "legendgroup": "Mural",
         "marker": {
          "color": "#FF97FF"
         },
         "name": "Mural",
         "offsetgroup": "Mural",
         "orientation": "v",
         "showlegend": false,
         "textposition": "auto",
         "type": "bar",
         "x": [
          "Mural"
         ],
         "xaxis": "x6",
         "y": [
          0
         ],
         "yaxis": "y6"
        },
        {
         "alignmentgroup": "True",
         "customdata": [
          [
           "Mural",
           "Mural_Rgs5Acta2 [#16]",
           0,
           0.000616628
          ]
         ],
         "hovertemplate": "<b>%{hovertext}</b><br><br>Class=%{customdata[0]}<br>Region=Hippocampus<br>Adcyap1_Amount=%{customdata[2]}<br>Cluster=%{customdata[1]}<br>Adcyap1_PVal=%{customdata[3]}<extra></extra>",
         "hovertext": [
          "Mural_Rgs5Acta2 [#16]"
         ],
         "legendgroup": "Mural",
         "marker": {
          "color": "#FF97FF"
         },
         "name": "Mural",
         "offsetgroup": "Mural",
         "orientation": "v",
         "showlegend": false,
         "textposition": "auto",
         "type": "bar",
         "x": [
          "Mural"
         ],
         "xaxis": "x5",
         "y": [
          0
         ],
         "yaxis": "y5"
        },
        {
         "alignmentgroup": "True",
         "customdata": [
          [
           "Mural",
           "Mural_Rgs5Acta2 [#13]",
           0,
           1.15e-07
          ]
         ],
         "hovertemplate": "<b>%{hovertext}</b><br><br>Class=%{customdata[0]}<br>Region=Substantia Nigra<br>Adcyap1_Amount=%{customdata[2]}<br>Cluster=%{customdata[1]}<br>Adcyap1_PVal=%{customdata[3]}<extra></extra>",
         "hovertext": [
          "Mural_Rgs5Acta2 [#13]"
         ],
         "legendgroup": "Mural",
         "marker": {
          "color": "#FF97FF"
         },
         "name": "Mural",
         "offsetgroup": "Mural",
         "orientation": "v",
         "showlegend": false,
         "textposition": "auto",
         "type": "bar",
         "x": [
          "Mural"
         ],
         "xaxis": "x4",
         "y": [
          0
         ],
         "yaxis": "y4"
        },
        {
         "alignmentgroup": "True",
         "customdata": [
          [
           "Mural",
           "Mural_Rgs5Acta2 [#8]",
           0,
           1
          ]
         ],
         "hovertemplate": "<b>%{hovertext}</b><br><br>Class=%{customdata[0]}<br>Region=Striatum<br>Adcyap1_Amount=%{customdata[2]}<br>Cluster=%{customdata[1]}<br>Adcyap1_PVal=%{customdata[3]}<extra></extra>",
         "hovertext": [
          "Mural_Rgs5Acta2 [#8]"
         ],
         "legendgroup": "Mural",
         "marker": {
          "color": "#FF97FF"
         },
         "name": "Mural",
         "offsetgroup": "Mural",
         "orientation": "v",
         "showlegend": false,
         "textposition": "auto",
         "type": "bar",
         "x": [
          "Mural"
         ],
         "xaxis": "x2",
         "y": [
          0
         ],
         "yaxis": "y2"
        },
        {
         "alignmentgroup": "True",
         "customdata": [
          [
           "Mural",
           "Mural_Rgs5Acta2 [#8]",
           0,
           0.7276900040000001
          ]
         ],
         "hovertemplate": "<b>%{hovertext}</b><br><br>Class=%{customdata[0]}<br>Region=Globus Pallidus<br>Adcyap1_Amount=%{customdata[2]}<br>Cluster=%{customdata[1]}<br>Adcyap1_PVal=%{customdata[3]}<extra></extra>",
         "hovertext": [
          "Mural_Rgs5Acta2 [#8]"
         ],
         "legendgroup": "Mural",
         "marker": {
          "color": "#FF97FF"
         },
         "name": "Mural",
         "offsetgroup": "Mural",
         "orientation": "v",
         "showlegend": false,
         "textposition": "auto",
         "type": "bar",
         "x": [
          "Mural"
         ],
         "xaxis": "x",
         "y": [
          0
         ],
         "yaxis": "y"
        },
        {
         "alignmentgroup": "True",
         "customdata": [
          [
           "Oligodendrocyte",
           "Oligodendrocyte_Tfr [#8]",
           0,
           2.5899999999999995e-122
          ],
          [
           "Oligodendrocyte",
           "Oligodendrocyte_Mbp [#9]",
           0,
           0.282460417
          ]
         ],
         "hovertemplate": "<b>%{hovertext}</b><br><br>Class=%{customdata[0]}<br>Region=Thalamus<br>Adcyap1_Amount=%{customdata[2]}<br>Cluster=%{customdata[1]}<br>Adcyap1_PVal=%{customdata[3]}<extra></extra>",
         "hovertext": [
          "Oligodendrocyte_Tfr [#8]",
          "Oligodendrocyte_Mbp [#9]"
         ],
         "legendgroup": "Oligodendrocyte",
         "marker": {
          "color": "#FECB52"
         },
         "name": "Oligodendrocyte",
         "offsetgroup": "Oligodendrocyte",
         "orientation": "v",
         "showlegend": true,
         "textposition": "auto",
         "type": "bar",
         "x": [
          "Oligodendrocyte",
          "Oligodendrocyte"
         ],
         "xaxis": "x9",
         "y": [
          0,
          0
         ],
         "yaxis": "y9"
        },
        {
         "alignmentgroup": "True",
         "customdata": [
          [
           "Oligodendrocyte",
           "Oligodendrocyte_Tfr [#9]",
           0,
           8.720000000000001e-52
          ]
         ],
         "hovertemplate": "<b>%{hovertext}</b><br><br>Class=%{customdata[0]}<br>Region=Posterior Cortex<br>Adcyap1_Amount=%{customdata[2]}<br>Cluster=%{customdata[1]}<br>Adcyap1_PVal=%{customdata[3]}<extra></extra>",
         "hovertext": [
          "Oligodendrocyte_Tfr [#9]"
         ],
         "legendgroup": "Oligodendrocyte",
         "marker": {
          "color": "#FECB52"
         },
         "name": "Oligodendrocyte",
         "offsetgroup": "Oligodendrocyte",
         "orientation": "v",
         "showlegend": false,
         "textposition": "auto",
         "type": "bar",
         "x": [
          "Oligodendrocyte"
         ],
         "xaxis": "x7",
         "y": [
          0
         ],
         "yaxis": "y7"
        },
        {
         "alignmentgroup": "True",
         "customdata": [
          [
           "Oligodendrocyte",
           "Oligodendrocyte_Tfr [#9]",
           0,
           8.64e-73
          ]
         ],
         "hovertemplate": "<b>%{hovertext}</b><br><br>Class=%{customdata[0]}<br>Region=Frontal Cortex<br>Adcyap1_Amount=%{customdata[2]}<br>Cluster=%{customdata[1]}<br>Adcyap1_PVal=%{customdata[3]}<extra></extra>",
         "hovertext": [
          "Oligodendrocyte_Tfr [#9]"
         ],
         "legendgroup": "Oligodendrocyte",
         "marker": {
          "color": "#FECB52"
         },
         "name": "Oligodendrocyte",
         "offsetgroup": "Oligodendrocyte",
         "orientation": "v",
         "showlegend": false,
         "textposition": "auto",
         "type": "bar",
         "x": [
          "Oligodendrocyte"
         ],
         "xaxis": "x6",
         "y": [
          0
         ],
         "yaxis": "y6"
        },
        {
         "alignmentgroup": "True",
         "customdata": [
          [
           "Oligodendrocyte",
           "Oligodendrocyte_Tfr [#8]",
           0,
           1.55e-15
          ]
         ],
         "hovertemplate": "<b>%{hovertext}</b><br><br>Class=%{customdata[0]}<br>Region=Hippocampus<br>Adcyap1_Amount=%{customdata[2]}<br>Cluster=%{customdata[1]}<br>Adcyap1_PVal=%{customdata[3]}<extra></extra>",
         "hovertext": [
          "Oligodendrocyte_Tfr [#8]"
         ],
         "legendgroup": "Oligodendrocyte",
         "marker": {
          "color": "#FECB52"
         },
         "name": "Oligodendrocyte",
         "offsetgroup": "Oligodendrocyte",
         "orientation": "v",
         "showlegend": false,
         "textposition": "auto",
         "type": "bar",
         "x": [
          "Oligodendrocyte"
         ],
         "xaxis": "x5",
         "y": [
          0
         ],
         "yaxis": "y5"
        },
        {
         "alignmentgroup": "True",
         "customdata": [
          [
           "Oligodendrocyte",
           "Oligodendrocyte_Tfr [#10]",
           0,
           4.709999999999997e-243
          ],
          [
           "Oligodendrocyte",
           "Oligodendrocyte_Mbp [#11]",
           0,
           0.005541744
          ]
         ],
         "hovertemplate": "<b>%{hovertext}</b><br><br>Class=%{customdata[0]}<br>Region=Substantia Nigra<br>Adcyap1_Amount=%{customdata[2]}<br>Cluster=%{customdata[1]}<br>Adcyap1_PVal=%{customdata[3]}<extra></extra>",
         "hovertext": [
          "Oligodendrocyte_Tfr [#10]",
          "Oligodendrocyte_Mbp [#11]"
         ],
         "legendgroup": "Oligodendrocyte",
         "marker": {
          "color": "#FECB52"
         },
         "name": "Oligodendrocyte",
         "offsetgroup": "Oligodendrocyte",
         "orientation": "v",
         "showlegend": false,
         "textposition": "auto",
         "type": "bar",
         "x": [
          "Oligodendrocyte",
          "Oligodendrocyte"
         ],
         "xaxis": "x4",
         "y": [
          0,
          0
         ],
         "yaxis": "y4"
        },
        {
         "alignmentgroup": "True",
         "customdata": [
          [
           "Oligodendrocyte",
           "Oligodendrocyte_Tfr [#1]",
           0,
           1.57e-45
          ],
          [
           "Oligodendrocyte",
           "Oligodendrocyte_Mbp [#8]",
           0,
           0.41065907700000004
          ]
         ],
         "hovertemplate": "<b>%{hovertext}</b><br><br>Class=%{customdata[0]}<br>Region=Entopeduncular<br>Adcyap1_Amount=%{customdata[2]}<br>Cluster=%{customdata[1]}<br>Adcyap1_PVal=%{customdata[3]}<extra></extra>",
         "hovertext": [
          "Oligodendrocyte_Tfr [#1]",
          "Oligodendrocyte_Mbp [#8]"
         ],
         "legendgroup": "Oligodendrocyte",
         "marker": {
          "color": "#FECB52"
         },
         "name": "Oligodendrocyte",
         "offsetgroup": "Oligodendrocyte",
         "orientation": "v",
         "showlegend": false,
         "textposition": "auto",
         "type": "bar",
         "x": [
          "Oligodendrocyte",
          "Oligodendrocyte"
         ],
         "xaxis": "x3",
         "y": [
          0,
          0
         ],
         "yaxis": "y3"
        },
        {
         "alignmentgroup": "True",
         "customdata": [
          [
           "Oligodendrocyte",
           "Oligodendrocytes_Tfr [#3]",
           0,
           0.634253631
          ]
         ],
         "hovertemplate": "<b>%{hovertext}</b><br><br>Class=%{customdata[0]}<br>Region=Striatum<br>Adcyap1_Amount=%{customdata[2]}<br>Cluster=%{customdata[1]}<br>Adcyap1_PVal=%{customdata[3]}<extra></extra>",
         "hovertext": [
          "Oligodendrocytes_Tfr [#3]"
         ],
         "legendgroup": "Oligodendrocyte",
         "marker": {
          "color": "#FECB52"
         },
         "name": "Oligodendrocyte",
         "offsetgroup": "Oligodendrocyte",
         "orientation": "v",
         "showlegend": false,
         "textposition": "auto",
         "type": "bar",
         "x": [
          "Oligodendrocyte"
         ],
         "xaxis": "x2",
         "y": [
          0
         ],
         "yaxis": "y2"
        },
        {
         "alignmentgroup": "True",
         "customdata": [
          [
           "Oligodendrocyte",
           "Oligodendrocyte_Tfr [#10]",
           0,
           9.93e-16
          ]
         ],
         "hovertemplate": "<b>%{hovertext}</b><br><br>Class=%{customdata[0]}<br>Region=Globus Pallidus<br>Adcyap1_Amount=%{customdata[2]}<br>Cluster=%{customdata[1]}<br>Adcyap1_PVal=%{customdata[3]}<extra></extra>",
         "hovertext": [
          "Oligodendrocyte_Tfr [#10]"
         ],
         "legendgroup": "Oligodendrocyte",
         "marker": {
          "color": "#FECB52"
         },
         "name": "Oligodendrocyte",
         "offsetgroup": "Oligodendrocyte",
         "orientation": "v",
         "showlegend": false,
         "textposition": "auto",
         "type": "bar",
         "x": [
          "Oligodendrocyte"
         ],
         "xaxis": "x",
         "y": [
          0
         ],
         "yaxis": "y"
        },
        {
         "alignmentgroup": "True",
         "customdata": [
          [
           "Mural_Fibroblast-Like",
           "Mural_Fibroblast-Like_Rgs5Acta2-Dcn [#3]",
           0,
           0.178947716
          ]
         ],
         "hovertemplate": "<b>%{hovertext}</b><br><br>Class=%{customdata[0]}<br>Region=Entopeduncular<br>Adcyap1_Amount=%{customdata[2]}<br>Cluster=%{customdata[1]}<br>Adcyap1_PVal=%{customdata[3]}<extra></extra>",
         "hovertext": [
          "Mural_Fibroblast-Like_Rgs5Acta2-Dcn [#3]"
         ],
         "legendgroup": "Mural_Fibroblast-Like",
         "marker": {
          "color": "#636efa"
         },
         "name": "Mural_Fibroblast-Like",
         "offsetgroup": "Mural_Fibroblast-Like",
         "orientation": "v",
         "showlegend": true,
         "textposition": "auto",
         "type": "bar",
         "x": [
          "Mural_Fibroblast-Like"
         ],
         "xaxis": "x3",
         "y": [
          0
         ],
         "yaxis": "y3"
        },
        {
         "alignmentgroup": "True",
         "customdata": [
          [
           "Ependyma",
           "Ependyma [#10]",
           0,
           0.104945621
          ]
         ],
         "hovertemplate": "<b>%{hovertext}</b><br><br>Class=%{customdata[0]}<br>Region=Thalamus<br>Adcyap1_Amount=%{customdata[2]}<br>Cluster=%{customdata[1]}<br>Adcyap1_PVal=%{customdata[3]}<extra></extra>",
         "hovertext": [
          "Ependyma [#10]"
         ],
         "legendgroup": "Ependyma",
         "marker": {
          "color": "#EF553B"
         },
         "name": "Ependyma",
         "offsetgroup": "Ependyma",
         "orientation": "v",
         "showlegend": true,
         "textposition": "auto",
         "type": "bar",
         "x": [
          "Ependyma"
         ],
         "xaxis": "x9",
         "y": [
          0
         ],
         "yaxis": "y9"
        },
        {
         "alignmentgroup": "True",
         "customdata": [
          [
           "Ependyma",
           "Ependyma [#11]",
           0,
           9.02e-05
          ]
         ],
         "hovertemplate": "<b>%{hovertext}</b><br><br>Class=%{customdata[0]}<br>Region=Hippocampus<br>Adcyap1_Amount=%{customdata[2]}<br>Cluster=%{customdata[1]}<br>Adcyap1_PVal=%{customdata[3]}<extra></extra>",
         "hovertext": [
          "Ependyma [#11]"
         ],
         "legendgroup": "Ependyma",
         "marker": {
          "color": "#EF553B"
         },
         "name": "Ependyma",
         "offsetgroup": "Ependyma",
         "orientation": "v",
         "showlegend": false,
         "textposition": "auto",
         "type": "bar",
         "x": [
          "Ependyma"
         ],
         "xaxis": "x5",
         "y": [
          0
         ],
         "yaxis": "y5"
        },
        {
         "alignmentgroup": "True",
         "customdata": [
          [
           "Ependyma",
           "Ependyma [#8]",
           0,
           1
          ]
         ],
         "hovertemplate": "<b>%{hovertext}</b><br><br>Class=%{customdata[0]}<br>Region=Substantia Nigra<br>Adcyap1_Amount=%{customdata[2]}<br>Cluster=%{customdata[1]}<br>Adcyap1_PVal=%{customdata[3]}<extra></extra>",
         "hovertext": [
          "Ependyma [#8]"
         ],
         "legendgroup": "Ependyma",
         "marker": {
          "color": "#EF553B"
         },
         "name": "Ependyma",
         "offsetgroup": "Ependyma",
         "orientation": "v",
         "showlegend": false,
         "textposition": "auto",
         "type": "bar",
         "x": [
          "Ependyma"
         ],
         "xaxis": "x4",
         "y": [
          0
         ],
         "yaxis": "y4"
        },
        {
         "alignmentgroup": "True",
         "customdata": [
          [
           "Ependyma",
           "Ependyma [#1]",
           0,
           1
          ]
         ],
         "hovertemplate": "<b>%{hovertext}</b><br><br>Class=%{customdata[0]}<br>Region=Striatum<br>Adcyap1_Amount=%{customdata[2]}<br>Cluster=%{customdata[1]}<br>Adcyap1_PVal=%{customdata[3]}<extra></extra>",
         "hovertext": [
          "Ependyma [#1]"
         ],
         "legendgroup": "Ependyma",
         "marker": {
          "color": "#EF553B"
         },
         "name": "Ependyma",
         "offsetgroup": "Ependyma",
         "orientation": "v",
         "showlegend": false,
         "textposition": "auto",
         "type": "bar",
         "x": [
          "Ependyma"
         ],
         "xaxis": "x2",
         "y": [
          0
         ],
         "yaxis": "y2"
        },
        {
         "alignmentgroup": "True",
         "customdata": [
          [
           "Ependyma",
           "Ependyma [#6]",
           0,
           1
          ]
         ],
         "hovertemplate": "<b>%{hovertext}</b><br><br>Class=%{customdata[0]}<br>Region=Globus Pallidus<br>Adcyap1_Amount=%{customdata[2]}<br>Cluster=%{customdata[1]}<br>Adcyap1_PVal=%{customdata[3]}<extra></extra>",
         "hovertext": [
          "Ependyma [#6]"
         ],
         "legendgroup": "Ependyma",
         "marker": {
          "color": "#EF553B"
         },
         "name": "Ependyma",
         "offsetgroup": "Ependyma",
         "orientation": "v",
         "showlegend": false,
         "textposition": "auto",
         "type": "bar",
         "x": [
          "Ependyma"
         ],
         "xaxis": "x",
         "y": [
          0
         ],
         "yaxis": "y"
        },
        {
         "alignmentgroup": "True",
         "customdata": [
          [
           "Neurogenesis",
           "Neurogenesis_Sox4 [#13]",
           0,
           0.018411192
          ]
         ],
         "hovertemplate": "<b>%{hovertext}</b><br><br>Class=%{customdata[0]}<br>Region=Hippocampus<br>Adcyap1_Amount=%{customdata[2]}<br>Cluster=%{customdata[1]}<br>Adcyap1_PVal=%{customdata[3]}<extra></extra>",
         "hovertext": [
          "Neurogenesis_Sox4 [#13]"
         ],
         "legendgroup": "Neurogenesis",
         "marker": {
          "color": "#00cc96"
         },
         "name": "Neurogenesis",
         "offsetgroup": "Neurogenesis",
         "orientation": "v",
         "showlegend": true,
         "textposition": "auto",
         "type": "bar",
         "x": [
          "Neurogenesis"
         ],
         "xaxis": "x5",
         "y": [
          0
         ],
         "yaxis": "y5"
        },
        {
         "alignmentgroup": "True",
         "customdata": [
          [
           "Neurogenesis",
           "Neurogenesis_Sox4 [#2]",
           0,
           1
          ]
         ],
         "hovertemplate": "<b>%{hovertext}</b><br><br>Class=%{customdata[0]}<br>Region=Striatum<br>Adcyap1_Amount=%{customdata[2]}<br>Cluster=%{customdata[1]}<br>Adcyap1_PVal=%{customdata[3]}<extra></extra>",
         "hovertext": [
          "Neurogenesis_Sox4 [#2]"
         ],
         "legendgroup": "Neurogenesis",
         "marker": {
          "color": "#00cc96"
         },
         "name": "Neurogenesis",
         "offsetgroup": "Neurogenesis",
         "orientation": "v",
         "showlegend": false,
         "textposition": "auto",
         "type": "bar",
         "x": [
          "Neurogenesis"
         ],
         "xaxis": "x2",
         "y": [
          0
         ],
         "yaxis": "y2"
        }
       ],
       "layout": {
        "annotations": [
         {
          "font": {},
          "showarrow": false,
          "text": "Globus Pallidus",
          "textangle": 90,
          "x": 0.98,
          "xanchor": "left",
          "xref": "paper",
          "y": 0.042222222222222223,
          "yanchor": "middle",
          "yref": "paper"
         },
         {
          "font": {},
          "showarrow": false,
          "text": "Striatum",
          "textangle": 90,
          "x": 0.98,
          "xanchor": "left",
          "xref": "paper",
          "y": 0.15666666666666668,
          "yanchor": "middle",
          "yref": "paper"
         },
         {
          "font": {},
          "showarrow": false,
          "text": "Entopeduncular",
          "textangle": 90,
          "x": 0.98,
          "xanchor": "left",
          "xref": "paper",
          "y": 0.27111111111111114,
          "yanchor": "middle",
          "yref": "paper"
         },
         {
          "font": {},
          "showarrow": false,
          "text": "Substantia Nigra",
          "textangle": 90,
          "x": 0.98,
          "xanchor": "left",
          "xref": "paper",
          "y": 0.3855555555555556,
          "yanchor": "middle",
          "yref": "paper"
         },
         {
          "font": {},
          "showarrow": false,
          "text": "Hippocampus",
          "textangle": 90,
          "x": 0.98,
          "xanchor": "left",
          "xref": "paper",
          "y": 0.5,
          "yanchor": "middle",
          "yref": "paper"
         },
         {
          "font": {},
          "showarrow": false,
          "text": "Frontal Cortex",
          "textangle": 90,
          "x": 0.98,
          "xanchor": "left",
          "xref": "paper",
          "y": 0.6144444444444443,
          "yanchor": "middle",
          "yref": "paper"
         },
         {
          "font": {},
          "showarrow": false,
          "text": "Posterior Cortex",
          "textangle": 90,
          "x": 0.98,
          "xanchor": "left",
          "xref": "paper",
          "y": 0.7288888888888889,
          "yanchor": "middle",
          "yref": "paper"
         },
         {
          "font": {},
          "showarrow": false,
          "text": "Cerebellum",
          "textangle": 90,
          "x": 0.98,
          "xanchor": "left",
          "xref": "paper",
          "y": 0.8433333333333333,
          "yanchor": "middle",
          "yref": "paper"
         },
         {
          "font": {},
          "showarrow": false,
          "text": "Thalamus",
          "textangle": 90,
          "x": 0.98,
          "xanchor": "left",
          "xref": "paper",
          "y": 0.9577777777777778,
          "yanchor": "middle",
          "yref": "paper"
         }
        ],
        "barmode": "relative",
        "height": 2100,
        "legend": {
         "title": {
          "text": "Class"
         },
         "tracegroupgap": 0
        },
        "margin": {
         "t": 60
        },
        "template": {
         "data": {
          "bar": [
           {
            "error_x": {
             "color": "#2a3f5f"
            },
            "error_y": {
             "color": "#2a3f5f"
            },
            "marker": {
             "line": {
              "color": "#E5ECF6",
              "width": 0.5
             }
            },
            "type": "bar"
           }
          ],
          "barpolar": [
           {
            "marker": {
             "line": {
              "color": "#E5ECF6",
              "width": 0.5
             }
            },
            "type": "barpolar"
           }
          ],
          "carpet": [
           {
            "aaxis": {
             "endlinecolor": "#2a3f5f",
             "gridcolor": "white",
             "linecolor": "white",
             "minorgridcolor": "white",
             "startlinecolor": "#2a3f5f"
            },
            "baxis": {
             "endlinecolor": "#2a3f5f",
             "gridcolor": "white",
             "linecolor": "white",
             "minorgridcolor": "white",
             "startlinecolor": "#2a3f5f"
            },
            "type": "carpet"
           }
          ],
          "choropleth": [
           {
            "colorbar": {
             "outlinewidth": 0,
             "ticks": ""
            },
            "type": "choropleth"
           }
          ],
          "contour": [
           {
            "colorbar": {
             "outlinewidth": 0,
             "ticks": ""
            },
            "colorscale": [
             [
              0,
              "#0d0887"
             ],
             [
              0.1111111111111111,
              "#46039f"
             ],
             [
              0.2222222222222222,
              "#7201a8"
             ],
             [
              0.3333333333333333,
              "#9c179e"
             ],
             [
              0.4444444444444444,
              "#bd3786"
             ],
             [
              0.5555555555555556,
              "#d8576b"
             ],
             [
              0.6666666666666666,
              "#ed7953"
             ],
             [
              0.7777777777777778,
              "#fb9f3a"
             ],
             [
              0.8888888888888888,
              "#fdca26"
             ],
             [
              1,
              "#f0f921"
             ]
            ],
            "type": "contour"
           }
          ],
          "contourcarpet": [
           {
            "colorbar": {
             "outlinewidth": 0,
             "ticks": ""
            },
            "type": "contourcarpet"
           }
          ],
          "heatmap": [
           {
            "colorbar": {
             "outlinewidth": 0,
             "ticks": ""
            },
            "colorscale": [
             [
              0,
              "#0d0887"
             ],
             [
              0.1111111111111111,
              "#46039f"
             ],
             [
              0.2222222222222222,
              "#7201a8"
             ],
             [
              0.3333333333333333,
              "#9c179e"
             ],
             [
              0.4444444444444444,
              "#bd3786"
             ],
             [
              0.5555555555555556,
              "#d8576b"
             ],
             [
              0.6666666666666666,
              "#ed7953"
             ],
             [
              0.7777777777777778,
              "#fb9f3a"
             ],
             [
              0.8888888888888888,
              "#fdca26"
             ],
             [
              1,
              "#f0f921"
             ]
            ],
            "type": "heatmap"
           }
          ],
          "heatmapgl": [
           {
            "colorbar": {
             "outlinewidth": 0,
             "ticks": ""
            },
            "colorscale": [
             [
              0,
              "#0d0887"
             ],
             [
              0.1111111111111111,
              "#46039f"
             ],
             [
              0.2222222222222222,
              "#7201a8"
             ],
             [
              0.3333333333333333,
              "#9c179e"
             ],
             [
              0.4444444444444444,
              "#bd3786"
             ],
             [
              0.5555555555555556,
              "#d8576b"
             ],
             [
              0.6666666666666666,
              "#ed7953"
             ],
             [
              0.7777777777777778,
              "#fb9f3a"
             ],
             [
              0.8888888888888888,
              "#fdca26"
             ],
             [
              1,
              "#f0f921"
             ]
            ],
            "type": "heatmapgl"
           }
          ],
          "histogram": [
           {
            "marker": {
             "colorbar": {
              "outlinewidth": 0,
              "ticks": ""
             }
            },
            "type": "histogram"
           }
          ],
          "histogram2d": [
           {
            "colorbar": {
             "outlinewidth": 0,
             "ticks": ""
            },
            "colorscale": [
             [
              0,
              "#0d0887"
             ],
             [
              0.1111111111111111,
              "#46039f"
             ],
             [
              0.2222222222222222,
              "#7201a8"
             ],
             [
              0.3333333333333333,
              "#9c179e"
             ],
             [
              0.4444444444444444,
              "#bd3786"
             ],
             [
              0.5555555555555556,
              "#d8576b"
             ],
             [
              0.6666666666666666,
              "#ed7953"
             ],
             [
              0.7777777777777778,
              "#fb9f3a"
             ],
             [
              0.8888888888888888,
              "#fdca26"
             ],
             [
              1,
              "#f0f921"
             ]
            ],
            "type": "histogram2d"
           }
          ],
          "histogram2dcontour": [
           {
            "colorbar": {
             "outlinewidth": 0,
             "ticks": ""
            },
            "colorscale": [
             [
              0,
              "#0d0887"
             ],
             [
              0.1111111111111111,
              "#46039f"
             ],
             [
              0.2222222222222222,
              "#7201a8"
             ],
             [
              0.3333333333333333,
              "#9c179e"
             ],
             [
              0.4444444444444444,
              "#bd3786"
             ],
             [
              0.5555555555555556,
              "#d8576b"
             ],
             [
              0.6666666666666666,
              "#ed7953"
             ],
             [
              0.7777777777777778,
              "#fb9f3a"
             ],
             [
              0.8888888888888888,
              "#fdca26"
             ],
             [
              1,
              "#f0f921"
             ]
            ],
            "type": "histogram2dcontour"
           }
          ],
          "mesh3d": [
           {
            "colorbar": {
             "outlinewidth": 0,
             "ticks": ""
            },
            "type": "mesh3d"
           }
          ],
          "parcoords": [
           {
            "line": {
             "colorbar": {
              "outlinewidth": 0,
              "ticks": ""
             }
            },
            "type": "parcoords"
           }
          ],
          "pie": [
           {
            "automargin": true,
            "type": "pie"
           }
          ],
          "scatter": [
           {
            "marker": {
             "colorbar": {
              "outlinewidth": 0,
              "ticks": ""
             }
            },
            "type": "scatter"
           }
          ],
          "scatter3d": [
           {
            "line": {
             "colorbar": {
              "outlinewidth": 0,
              "ticks": ""
             }
            },
            "marker": {
             "colorbar": {
              "outlinewidth": 0,
              "ticks": ""
             }
            },
            "type": "scatter3d"
           }
          ],
          "scattercarpet": [
           {
            "marker": {
             "colorbar": {
              "outlinewidth": 0,
              "ticks": ""
             }
            },
            "type": "scattercarpet"
           }
          ],
          "scattergeo": [
           {
            "marker": {
             "colorbar": {
              "outlinewidth": 0,
              "ticks": ""
             }
            },
            "type": "scattergeo"
           }
          ],
          "scattergl": [
           {
            "marker": {
             "colorbar": {
              "outlinewidth": 0,
              "ticks": ""
             }
            },
            "type": "scattergl"
           }
          ],
          "scattermapbox": [
           {
            "marker": {
             "colorbar": {
              "outlinewidth": 0,
              "ticks": ""
             }
            },
            "type": "scattermapbox"
           }
          ],
          "scatterpolar": [
           {
            "marker": {
             "colorbar": {
              "outlinewidth": 0,
              "ticks": ""
             }
            },
            "type": "scatterpolar"
           }
          ],
          "scatterpolargl": [
           {
            "marker": {
             "colorbar": {
              "outlinewidth": 0,
              "ticks": ""
             }
            },
            "type": "scatterpolargl"
           }
          ],
          "scatterternary": [
           {
            "marker": {
             "colorbar": {
              "outlinewidth": 0,
              "ticks": ""
             }
            },
            "type": "scatterternary"
           }
          ],
          "surface": [
           {
            "colorbar": {
             "outlinewidth": 0,
             "ticks": ""
            },
            "colorscale": [
             [
              0,
              "#0d0887"
             ],
             [
              0.1111111111111111,
              "#46039f"
             ],
             [
              0.2222222222222222,
              "#7201a8"
             ],
             [
              0.3333333333333333,
              "#9c179e"
             ],
             [
              0.4444444444444444,
              "#bd3786"
             ],
             [
              0.5555555555555556,
              "#d8576b"
             ],
             [
              0.6666666666666666,
              "#ed7953"
             ],
             [
              0.7777777777777778,
              "#fb9f3a"
             ],
             [
              0.8888888888888888,
              "#fdca26"
             ],
             [
              1,
              "#f0f921"
             ]
            ],
            "type": "surface"
           }
          ],
          "table": [
           {
            "cells": {
             "fill": {
              "color": "#EBF0F8"
             },
             "line": {
              "color": "white"
             }
            },
            "header": {
             "fill": {
              "color": "#C8D4E3"
             },
             "line": {
              "color": "white"
             }
            },
            "type": "table"
           }
          ]
         },
         "layout": {
          "annotationdefaults": {
           "arrowcolor": "#2a3f5f",
           "arrowhead": 0,
           "arrowwidth": 1
          },
          "coloraxis": {
           "colorbar": {
            "outlinewidth": 0,
            "ticks": ""
           }
          },
          "colorscale": {
           "diverging": [
            [
             0,
             "#8e0152"
            ],
            [
             0.1,
             "#c51b7d"
            ],
            [
             0.2,
             "#de77ae"
            ],
            [
             0.3,
             "#f1b6da"
            ],
            [
             0.4,
             "#fde0ef"
            ],
            [
             0.5,
             "#f7f7f7"
            ],
            [
             0.6,
             "#e6f5d0"
            ],
            [
             0.7,
             "#b8e186"
            ],
            [
             0.8,
             "#7fbc41"
            ],
            [
             0.9,
             "#4d9221"
            ],
            [
             1,
             "#276419"
            ]
           ],
           "sequential": [
            [
             0,
             "#0d0887"
            ],
            [
             0.1111111111111111,
             "#46039f"
            ],
            [
             0.2222222222222222,
             "#7201a8"
            ],
            [
             0.3333333333333333,
             "#9c179e"
            ],
            [
             0.4444444444444444,
             "#bd3786"
            ],
            [
             0.5555555555555556,
             "#d8576b"
            ],
            [
             0.6666666666666666,
             "#ed7953"
            ],
            [
             0.7777777777777778,
             "#fb9f3a"
            ],
            [
             0.8888888888888888,
             "#fdca26"
            ],
            [
             1,
             "#f0f921"
            ]
           ],
           "sequentialminus": [
            [
             0,
             "#0d0887"
            ],
            [
             0.1111111111111111,
             "#46039f"
            ],
            [
             0.2222222222222222,
             "#7201a8"
            ],
            [
             0.3333333333333333,
             "#9c179e"
            ],
            [
             0.4444444444444444,
             "#bd3786"
            ],
            [
             0.5555555555555556,
             "#d8576b"
            ],
            [
             0.6666666666666666,
             "#ed7953"
            ],
            [
             0.7777777777777778,
             "#fb9f3a"
            ],
            [
             0.8888888888888888,
             "#fdca26"
            ],
            [
             1,
             "#f0f921"
            ]
           ]
          },
          "colorway": [
           "#636efa",
           "#EF553B",
           "#00cc96",
           "#ab63fa",
           "#FFA15A",
           "#19d3f3",
           "#FF6692",
           "#B6E880",
           "#FF97FF",
           "#FECB52"
          ],
          "font": {
           "color": "#2a3f5f"
          },
          "geo": {
           "bgcolor": "white",
           "lakecolor": "white",
           "landcolor": "#E5ECF6",
           "showlakes": true,
           "showland": true,
           "subunitcolor": "white"
          },
          "hoverlabel": {
           "align": "left"
          },
          "hovermode": "closest",
          "mapbox": {
           "style": "light"
          },
          "paper_bgcolor": "white",
          "plot_bgcolor": "#E5ECF6",
          "polar": {
           "angularaxis": {
            "gridcolor": "white",
            "linecolor": "white",
            "ticks": ""
           },
           "bgcolor": "#E5ECF6",
           "radialaxis": {
            "gridcolor": "white",
            "linecolor": "white",
            "ticks": ""
           }
          },
          "scene": {
           "xaxis": {
            "backgroundcolor": "#E5ECF6",
            "gridcolor": "white",
            "gridwidth": 2,
            "linecolor": "white",
            "showbackground": true,
            "ticks": "",
            "zerolinecolor": "white"
           },
           "yaxis": {
            "backgroundcolor": "#E5ECF6",
            "gridcolor": "white",
            "gridwidth": 2,
            "linecolor": "white",
            "showbackground": true,
            "ticks": "",
            "zerolinecolor": "white"
           },
           "zaxis": {
            "backgroundcolor": "#E5ECF6",
            "gridcolor": "white",
            "gridwidth": 2,
            "linecolor": "white",
            "showbackground": true,
            "ticks": "",
            "zerolinecolor": "white"
           }
          },
          "shapedefaults": {
           "line": {
            "color": "#2a3f5f"
           }
          },
          "ternary": {
           "aaxis": {
            "gridcolor": "white",
            "linecolor": "white",
            "ticks": ""
           },
           "baxis": {
            "gridcolor": "white",
            "linecolor": "white",
            "ticks": ""
           },
           "bgcolor": "#E5ECF6",
           "caxis": {
            "gridcolor": "white",
            "linecolor": "white",
            "ticks": ""
           }
          },
          "title": {
           "x": 0.05
          },
          "xaxis": {
           "automargin": true,
           "gridcolor": "white",
           "linecolor": "white",
           "ticks": "",
           "title": {
            "standoff": 15
           },
           "zerolinecolor": "white",
           "zerolinewidth": 2
          },
          "yaxis": {
           "automargin": true,
           "gridcolor": "white",
           "linecolor": "white",
           "ticks": "",
           "title": {
            "standoff": 15
           },
           "zerolinecolor": "white",
           "zerolinewidth": 2
          }
         }
        },
        "width": 1200,
        "xaxis": {
         "anchor": "y",
         "categoryarray": [
          "Neuron",
          "Microglia_Macrophage",
          "Endothelial",
          "Fibroblast-Like",
          "Oligodendrocyte_Polydendrocyte",
          "Astrocyte",
          "Choroid_Plexus",
          "Polydendrocyte",
          "Mural",
          "Oligodendrocyte",
          "Mural_Fibroblast-Like",
          "Ependyma",
          "Neurogenesis"
         ],
         "categoryorder": "array",
         "domain": [
          0,
          0.98
         ],
         "title": {
          "text": "Class"
         }
        },
        "xaxis2": {
         "anchor": "y2",
         "domain": [
          0,
          0.98
         ],
         "matches": "x",
         "showticklabels": false
        },
        "xaxis3": {
         "anchor": "y3",
         "domain": [
          0,
          0.98
         ],
         "matches": "x",
         "showticklabels": false
        },
        "xaxis4": {
         "anchor": "y4",
         "domain": [
          0,
          0.98
         ],
         "matches": "x",
         "showticklabels": false
        },
        "xaxis5": {
         "anchor": "y5",
         "domain": [
          0,
          0.98
         ],
         "matches": "x",
         "showticklabels": false
        },
        "xaxis6": {
         "anchor": "y6",
         "domain": [
          0,
          0.98
         ],
         "matches": "x",
         "showticklabels": false
        },
        "xaxis7": {
         "anchor": "y7",
         "domain": [
          0,
          0.98
         ],
         "matches": "x",
         "showticklabels": false
        },
        "xaxis8": {
         "anchor": "y8",
         "domain": [
          0,
          0.98
         ],
         "matches": "x",
         "showticklabels": false
        },
        "xaxis9": {
         "anchor": "y9",
         "domain": [
          0,
          0.98
         ],
         "matches": "x",
         "showticklabels": false
        },
        "yaxis": {
         "anchor": "x",
         "domain": [
          0,
          0.08444444444444445
         ],
         "title": {
          "text": ""
         }
        },
        "yaxis2": {
         "anchor": "x2",
         "domain": [
          0.11444444444444445,
          0.1988888888888889
         ],
         "matches": "y",
         "title": {
          "text": ""
         }
        },
        "yaxis3": {
         "anchor": "x3",
         "domain": [
          0.2288888888888889,
          0.31333333333333335
         ],
         "matches": "y",
         "title": {
          "text": ""
         }
        },
        "yaxis4": {
         "anchor": "x4",
         "domain": [
          0.3433333333333334,
          0.4277777777777778
         ],
         "matches": "y",
         "title": {
          "text": ""
         }
        },
        "yaxis5": {
         "anchor": "x5",
         "domain": [
          0.4577777777777778,
          0.5422222222222223
         ],
         "matches": "y",
         "title": {
          "text": ""
         }
        },
        "yaxis6": {
         "anchor": "x6",
         "domain": [
          0.5722222222222222,
          0.6566666666666666
         ],
         "matches": "y",
         "title": {
          "text": ""
         }
        },
        "yaxis7": {
         "anchor": "x7",
         "domain": [
          0.6866666666666668,
          0.7711111111111112
         ],
         "matches": "y",
         "title": {
          "text": ""
         }
        },
        "yaxis8": {
         "anchor": "x8",
         "domain": [
          0.8011111111111111,
          0.8855555555555555
         ],
         "matches": "y",
         "title": {
          "text": ""
         }
        },
        "yaxis9": {
         "anchor": "x9",
         "domain": [
          0.9155555555555556,
          1
         ],
         "matches": "y",
         "title": {
          "text": ""
         }
        }
       }
      },
      "text/html": [
       "<div>\n",
       "        \n",
       "        \n",
       "            <div id=\"21760a86-6a19-43df-92bd-f71df0714f4c\" class=\"plotly-graph-div\" style=\"height:2100px; width:1200px;\"></div>\n",
       "            <script type=\"text/javascript\">\n",
       "                require([\"plotly\"], function(Plotly) {\n",
       "                    window.PLOTLYENV=window.PLOTLYENV || {};\n",
       "                    \n",
       "                if (document.getElementById(\"21760a86-6a19-43df-92bd-f71df0714f4c\")) {\n",
       "                    Plotly.newPlot(\n",
       "                        '21760a86-6a19-43df-92bd-f71df0714f4c',\n",
       "                        [{\"alignmentgroup\": \"True\", \"customdata\": [[\"Neuron\", \"Neuron_Habenula_Tac2 [#1]\", 3.295836866, 0.0], [\"Neuron\", \"Neuron_Gad2-Ahi1 [#3]\", 1.098612289, 2.2399999999999995e-57], [\"Neuron\", \"Neuron_Rora [#2]\", 0.0, 3.66e-54]], \"hovertemplate\": \"<b>%{hovertext}</b><br><br>Class=%{customdata[0]}<br>Region=Thalamus<br>Adcyap1_Amount=%{customdata[2]}<br>Cluster=%{customdata[1]}<br>Adcyap1_PVal=%{customdata[3]}<extra></extra>\", \"hovertext\": [\"Neuron_Habenula_Tac2 [#1]\", \"Neuron_Gad2-Ahi1 [#3]\", \"Neuron_Rora [#2]\"], \"legendgroup\": \"Neuron\", \"marker\": {\"color\": \"#636efa\"}, \"name\": \"Neuron\", \"offsetgroup\": \"Neuron\", \"orientation\": \"v\", \"showlegend\": true, \"textposition\": \"auto\", \"type\": \"bar\", \"x\": [\"Neuron\", \"Neuron\", \"Neuron\"], \"xaxis\": \"x9\", \"y\": [3.295836866, 1.098612289, 0.0], \"yaxis\": \"y9\"}, {\"alignmentgroup\": \"True\", \"customdata\": [[\"Neuron\", \"Interneurons_and_Other_Nnat [#4]\", 2.9444389789999996, 2.4999999999999993e-87], [\"Neuron\", \"PurkinjeNeuron_Pcp2 [#2]\", 1.386294361, 7.769999999999999e-25], [\"Neuron\", \"GranularNeuron_Gabra6 [#1]\", 0.0, 2.56e-43], [\"Neuron\", \"Interneurons_Pvalb [#3]\", 0.0, 0.000395357]], \"hovertemplate\": \"<b>%{hovertext}</b><br><br>Class=%{customdata[0]}<br>Region=Cerebellum<br>Adcyap1_Amount=%{customdata[2]}<br>Cluster=%{customdata[1]}<br>Adcyap1_PVal=%{customdata[3]}<extra></extra>\", \"hovertext\": [\"Interneurons_and_Other_Nnat [#4]\", \"PurkinjeNeuron_Pcp2 [#2]\", \"GranularNeuron_Gabra6 [#1]\", \"Interneurons_Pvalb [#3]\"], \"legendgroup\": \"Neuron\", \"marker\": {\"color\": \"#636efa\"}, \"name\": \"Neuron\", \"offsetgroup\": \"Neuron\", \"orientation\": \"v\", \"showlegend\": false, \"textposition\": \"auto\", \"type\": \"bar\", \"x\": [\"Neuron\", \"Neuron\", \"Neuron\", \"Neuron\"], \"xaxis\": \"x8\", \"y\": [2.9444389789999996, 1.386294361, 0.0, 0.0], \"yaxis\": \"y8\"}, {\"alignmentgroup\": \"True\", \"customdata\": [[\"Neuron\", \"Neuron_Layer5_Bcl6 [#3]\", 1.9459101490000001, 4.0599999999999985e-223], [\"Neuron\", \"Neuron_Layer23_5_6_Subiculum_Calb1-Rorb-Fermt1-Tshz2-Oprk1-Crym-Sema3e [#2]\", 1.386294361, 8.199999999999999e-78], [\"Neuron\", \"RSG_Tshz2-Shisa8 [#6]\", 1.098612289, 4.01e-05], [\"Neuron\", \"Interneuron_CGE_Cplx3-Synpr [#4]\", 0.693147181, 8.96e-29], [\"Neuron\", \"Neuron_Layer6Subplate_Syt6 [#1]\", 0.0, 2.169999999999999e-183], [\"Neuron\", \"Interneuron_MGE_Sst-Pvalb [#5]\", 0.0, 1.96e-35], [\"Neuron\", \"Layer5b_Fezf2 [#7]\", 0.0, 1.5e-19]], \"hovertemplate\": \"<b>%{hovertext}</b><br><br>Class=%{customdata[0]}<br>Region=Posterior Cortex<br>Adcyap1_Amount=%{customdata[2]}<br>Cluster=%{customdata[1]}<br>Adcyap1_PVal=%{customdata[3]}<extra></extra>\", \"hovertext\": [\"Neuron_Layer5_Bcl6 [#3]\", \"Neuron_Layer23_5_6_Subiculum_Calb1-Rorb-Fermt1-Tshz2-Oprk1-Crym-Sema3e [#2]\", \"RSG_Tshz2-Shisa8 [#6]\", \"Interneuron_CGE_Cplx3-Synpr [#4]\", \"Neuron_Layer6Subplate_Syt6 [#1]\", \"Interneuron_MGE_Sst-Pvalb [#5]\", \"Layer5b_Fezf2 [#7]\"], \"legendgroup\": \"Neuron\", \"marker\": {\"color\": \"#636efa\"}, \"name\": \"Neuron\", \"offsetgroup\": \"Neuron\", \"orientation\": \"v\", \"showlegend\": false, \"textposition\": \"auto\", \"type\": \"bar\", \"x\": [\"Neuron\", \"Neuron\", \"Neuron\", \"Neuron\", \"Neuron\", \"Neuron\", \"Neuron\"], \"xaxis\": \"x7\", \"y\": [1.9459101490000001, 1.386294361, 1.098612289, 0.693147181, 0.0, 0.0, 0.0], \"yaxis\": \"y7\"}, {\"alignmentgroup\": \"True\", \"customdata\": [[\"Neuron\", \"Neuron_Layer5_Parm1 [#7]\", 1.791759469, 1.1099999999999994e-266], [\"Neuron\", \"Neuron_Layer23_Nptxr [#6]\", 1.386294361, 0.0], [\"Neuron\", \"Interneuron_CGE_Cplx3-Synpr [#1]\", 0.0, 6.559999999999999e-55], [\"Neuron\", \"Interneuron_MGE_Sst-Pvalb [#2]\", 0.0, 1.1699999999999998e-53], [\"Neuron\", \"Neuron_Layer6Subplate_Syt6 [#3]\", 0.0, 5.099999999999997e-210], [\"Neuron\", \"Neuron_Layer5b_Fezf2 [#4]\", 0.0, 3.6299999999999995e-34], [\"Neuron\", \"Neuron_Claustrum_Nr4a2 [#5]\", 0.0, 2.17e-22]], \"hovertemplate\": \"<b>%{hovertext}</b><br><br>Class=%{customdata[0]}<br>Region=Frontal Cortex<br>Adcyap1_Amount=%{customdata[2]}<br>Cluster=%{customdata[1]}<br>Adcyap1_PVal=%{customdata[3]}<extra></extra>\", \"hovertext\": [\"Neuron_Layer5_Parm1 [#7]\", \"Neuron_Layer23_Nptxr [#6]\", \"Interneuron_CGE_Cplx3-Synpr [#1]\", \"Interneuron_MGE_Sst-Pvalb [#2]\", \"Neuron_Layer6Subplate_Syt6 [#3]\", \"Neuron_Layer5b_Fezf2 [#4]\", \"Neuron_Claustrum_Nr4a2 [#5]\"], \"legendgroup\": \"Neuron\", \"marker\": {\"color\": \"#636efa\"}, \"name\": \"Neuron\", \"offsetgroup\": \"Neuron\", \"orientation\": \"v\", \"showlegend\": false, \"textposition\": \"auto\", \"type\": \"bar\", \"x\": [\"Neuron\", \"Neuron\", \"Neuron\", \"Neuron\", \"Neuron\", \"Neuron\", \"Neuron\"], \"xaxis\": \"x6\", \"y\": [1.791759469, 1.386294361, 0.0, 0.0, 0.0, 0.0, 0.0], \"yaxis\": \"y6\"}, {\"alignmentgroup\": \"True\", \"customdata\": [[\"Neuron\", \"Neuron_Subiculum_Slc17a6 [#2]\", 1.791759469, 0.0], [\"Neuron\", \"Neuron_CA1_Subiculum_Postsubiculum_Entorhinal_Fibcd1-Dcn-Cbln1-Ptgfr-Fezf2 [#5]\", 0.693147181, 5.3e-10], [\"Neuron\", \"Neuron_CA2CA3_Pvrl3-Rgs15-Calb2 [#6]\", 0.693147181, 9.660000000000001e-45], [\"Neuron\", \"Interneuron_Gad2 [#1]\", 0.0, 4.54e-28], [\"Neuron\", \"Neuron_CajalRetzius_Lhx1 [#14]\", 0.0, 0.038097381], [\"Neuron\", \"Neuron_Subiculum_Entorhinal_Nxph3 [#3]\", 0.0, 1.85e-06], [\"Neuron\", \"Neuron_Dentate_C1ql2 [#4]\", 0.0, 1.2399999999999996e-124]], \"hovertemplate\": \"<b>%{hovertext}</b><br><br>Class=%{customdata[0]}<br>Region=Hippocampus<br>Adcyap1_Amount=%{customdata[2]}<br>Cluster=%{customdata[1]}<br>Adcyap1_PVal=%{customdata[3]}<extra></extra>\", \"hovertext\": [\"Neuron_Subiculum_Slc17a6 [#2]\", \"Neuron_CA1_Subiculum_Postsubiculum_Entorhinal_Fibcd1-Dcn-Cbln1-Ptgfr-Fezf2 [#5]\", \"Neuron_CA2CA3_Pvrl3-Rgs15-Calb2 [#6]\", \"Interneuron_Gad2 [#1]\", \"Neuron_CajalRetzius_Lhx1 [#14]\", \"Neuron_Subiculum_Entorhinal_Nxph3 [#3]\", \"Neuron_Dentate_C1ql2 [#4]\"], \"legendgroup\": \"Neuron\", \"marker\": {\"color\": \"#636efa\"}, \"name\": \"Neuron\", \"offsetgroup\": \"Neuron\", \"orientation\": \"v\", \"showlegend\": false, \"textposition\": \"auto\", \"type\": \"bar\", \"x\": [\"Neuron\", \"Neuron\", \"Neuron\", \"Neuron\", \"Neuron\", \"Neuron\", \"Neuron\"], \"xaxis\": \"x5\", \"y\": [1.791759469, 0.693147181, 0.693147181, 0.0, 0.0, 0.0, 0.0], \"yaxis\": \"y5\"}, {\"alignmentgroup\": \"True\", \"customdata\": [[\"Neuron\", \"Neuron_Gad2 [#3]\", 1.791759469, 0.0], [\"Neuron\", \"Neuron_Rora [#2]\", 0.693147181, 0.302467716], [\"Neuron\", \"Neuron_Th [#4]\", 0.693147181, 0.037188425], [\"Neuron\", \"Neuron_CA3_C1ql3 [#1]\", 0.0, 0.426970959]], \"hovertemplate\": \"<b>%{hovertext}</b><br><br>Class=%{customdata[0]}<br>Region=Substantia Nigra<br>Adcyap1_Amount=%{customdata[2]}<br>Cluster=%{customdata[1]}<br>Adcyap1_PVal=%{customdata[3]}<extra></extra>\", \"hovertext\": [\"Neuron_Gad2 [#3]\", \"Neuron_Rora [#2]\", \"Neuron_Th [#4]\", \"Neuron_CA3_C1ql3 [#1]\"], \"legendgroup\": \"Neuron\", \"marker\": {\"color\": \"#636efa\"}, \"name\": \"Neuron\", \"offsetgroup\": \"Neuron\", \"orientation\": \"v\", \"showlegend\": false, \"textposition\": \"auto\", \"type\": \"bar\", \"x\": [\"Neuron\", \"Neuron\", \"Neuron\", \"Neuron\"], \"xaxis\": \"x4\", \"y\": [1.791759469, 0.693147181, 0.693147181, 0.0], \"yaxis\": \"y4\"}, {\"alignmentgroup\": \"True\", \"customdata\": [[\"Neuron\", \"Neuron_Syt1 [#4]\", 1.098612289, 3.629999999999999e-83]], \"hovertemplate\": \"<b>%{hovertext}</b><br><br>Class=%{customdata[0]}<br>Region=Entopeduncular<br>Adcyap1_Amount=%{customdata[2]}<br>Cluster=%{customdata[1]}<br>Adcyap1_PVal=%{customdata[3]}<extra></extra>\", \"hovertext\": [\"Neuron_Syt1 [#4]\"], \"legendgroup\": \"Neuron\", \"marker\": {\"color\": \"#636efa\"}, \"name\": \"Neuron\", \"offsetgroup\": \"Neuron\", \"orientation\": \"v\", \"showlegend\": false, \"textposition\": \"auto\", \"type\": \"bar\", \"x\": [\"Neuron\"], \"xaxis\": \"x3\", \"y\": [1.098612289], \"yaxis\": \"y3\"}, {\"alignmentgroup\": \"True\", \"customdata\": [[\"Neuron\", \"Interneuron_Pvalb_Th_Pnoc [#14]\", 0.693147181, 1.05e-32], [\"Neuron\", \"Neuron_dSPN_Drd1 [#10]\", 0.0, 5.19e-08], [\"Neuron\", \"Neuron_iSPN_Adora2a [#11]\", 0.0, 5.27e-06], [\"Neuron\", \"Interneuron_Chat [#12]\", 0.0, 1.0], [\"Neuron\", \"Neuron_SPN_BNST_Amygdala_Otof [#13]\", 0.0, 7.57e-07], [\"Neuron\", \"Interneuron_Sst [#15]\", 0.0, 1.0]], \"hovertemplate\": \"<b>%{hovertext}</b><br><br>Class=%{customdata[0]}<br>Region=Striatum<br>Adcyap1_Amount=%{customdata[2]}<br>Cluster=%{customdata[1]}<br>Adcyap1_PVal=%{customdata[3]}<extra></extra>\", \"hovertext\": [\"Interneuron_Pvalb_Th_Pnoc [#14]\", \"Neuron_dSPN_Drd1 [#10]\", \"Neuron_iSPN_Adora2a [#11]\", \"Interneuron_Chat [#12]\", \"Neuron_SPN_BNST_Amygdala_Otof [#13]\", \"Interneuron_Sst [#15]\"], \"legendgroup\": \"Neuron\", \"marker\": {\"color\": \"#636efa\"}, \"name\": \"Neuron\", \"offsetgroup\": \"Neuron\", \"orientation\": \"v\", \"showlegend\": false, \"textposition\": \"auto\", \"type\": \"bar\", \"x\": [\"Neuron\", \"Neuron\", \"Neuron\", \"Neuron\", \"Neuron\", \"Neuron\"], \"xaxis\": \"x2\", \"y\": [0.693147181, 0.0, 0.0, 0.0, 0.0, 0.0], \"yaxis\": \"y2\"}, {\"alignmentgroup\": \"True\", \"customdata\": [[\"Neuron\", \"Neuron_Chat [#1]\", 0.0, 0.633428563], [\"Neuron\", \"Neuron_Gabra1 [#2]\", 0.0, 9.83e-51], [\"Neuron\", \"Neuron_Ppp1r1b [#3]\", 0.0, 0.000205052]], \"hovertemplate\": \"<b>%{hovertext}</b><br><br>Class=%{customdata[0]}<br>Region=Globus Pallidus<br>Adcyap1_Amount=%{customdata[2]}<br>Cluster=%{customdata[1]}<br>Adcyap1_PVal=%{customdata[3]}<extra></extra>\", \"hovertext\": [\"Neuron_Chat [#1]\", \"Neuron_Gabra1 [#2]\", \"Neuron_Ppp1r1b [#3]\"], \"legendgroup\": \"Neuron\", \"marker\": {\"color\": \"#636efa\"}, \"name\": \"Neuron\", \"offsetgroup\": \"Neuron\", \"orientation\": \"v\", \"showlegend\": false, \"textposition\": \"auto\", \"type\": \"bar\", \"x\": [\"Neuron\", \"Neuron\", \"Neuron\"], \"xaxis\": \"x\", \"y\": [0.0, 0.0, 0.0], \"yaxis\": \"y\"}, {\"alignmentgroup\": \"True\", \"customdata\": [[\"Microglia_Macrophage\", \"Microglia_Macrophage_C1qb [#7]\", 0.0, 0.190397625]], \"hovertemplate\": \"<b>%{hovertext}</b><br><br>Class=%{customdata[0]}<br>Region=Thalamus<br>Adcyap1_Amount=%{customdata[2]}<br>Cluster=%{customdata[1]}<br>Adcyap1_PVal=%{customdata[3]}<extra></extra>\", \"hovertext\": [\"Microglia_Macrophage_C1qb [#7]\"], \"legendgroup\": \"Microglia_Macrophage\", \"marker\": {\"color\": \"#EF553B\"}, \"name\": \"Microglia_Macrophage\", \"offsetgroup\": \"Microglia_Macrophage\", \"orientation\": \"v\", \"showlegend\": true, \"textposition\": \"auto\", \"type\": \"bar\", \"x\": [\"Microglia_Macrophage\"], \"xaxis\": \"x9\", \"y\": [0.0], \"yaxis\": \"y9\"}, {\"alignmentgroup\": \"True\", \"customdata\": [[\"Microglia_Macrophage\", \"Microglia_Macrophage_C1qb [#5]\", 0.0, 1.0]], \"hovertemplate\": \"<b>%{hovertext}</b><br><br>Class=%{customdata[0]}<br>Region=Cerebellum<br>Adcyap1_Amount=%{customdata[2]}<br>Cluster=%{customdata[1]}<br>Adcyap1_PVal=%{customdata[3]}<extra></extra>\", \"hovertext\": [\"Microglia_Macrophage_C1qb [#5]\"], \"legendgroup\": \"Microglia_Macrophage\", \"marker\": {\"color\": \"#EF553B\"}, \"name\": \"Microglia_Macrophage\", \"offsetgroup\": \"Microglia_Macrophage\", \"orientation\": \"v\", \"showlegend\": false, \"textposition\": \"auto\", \"type\": \"bar\", \"x\": [\"Microglia_Macrophage\"], \"xaxis\": \"x8\", \"y\": [0.0], \"yaxis\": \"y8\"}, {\"alignmentgroup\": \"True\", \"customdata\": [[\"Microglia_Macrophage\", \"Microglia_Macrophage_Tmem119-Mrc1 [#11]\", 0.693147181, 0.004445591]], \"hovertemplate\": \"<b>%{hovertext}</b><br><br>Class=%{customdata[0]}<br>Region=Posterior Cortex<br>Adcyap1_Amount=%{customdata[2]}<br>Cluster=%{customdata[1]}<br>Adcyap1_PVal=%{customdata[3]}<extra></extra>\", \"hovertext\": [\"Microglia_Macrophage_Tmem119-Mrc1 [#11]\"], \"legendgroup\": \"Microglia_Macrophage\", \"marker\": {\"color\": \"#EF553B\"}, \"name\": \"Microglia_Macrophage\", \"offsetgroup\": \"Microglia_Macrophage\", \"orientation\": \"v\", \"showlegend\": false, \"textposition\": \"auto\", \"type\": \"bar\", \"x\": [\"Microglia_Macrophage\"], \"xaxis\": \"x7\", \"y\": [0.693147181], \"yaxis\": \"y7\"}, {\"alignmentgroup\": \"True\", \"customdata\": [[\"Microglia_Macrophage\", \"Microglia_Macrophage_C1qb [#11]\", 0.0, 5.87e-12]], \"hovertemplate\": \"<b>%{hovertext}</b><br><br>Class=%{customdata[0]}<br>Region=Frontal Cortex<br>Adcyap1_Amount=%{customdata[2]}<br>Cluster=%{customdata[1]}<br>Adcyap1_PVal=%{customdata[3]}<extra></extra>\", \"hovertext\": [\"Microglia_Macrophage_C1qb [#11]\"], \"legendgroup\": \"Microglia_Macrophage\", \"marker\": {\"color\": \"#EF553B\"}, \"name\": \"Microglia_Macrophage\", \"offsetgroup\": \"Microglia_Macrophage\", \"orientation\": \"v\", \"showlegend\": false, \"textposition\": \"auto\", \"type\": \"bar\", \"x\": [\"Microglia_Macrophage\"], \"xaxis\": \"x6\", \"y\": [0.0], \"yaxis\": \"y6\"}, {\"alignmentgroup\": \"True\", \"customdata\": [[\"Microglia_Macrophage\", \"Microglia_Macrophage_C1qb [#10]\", 0.0, 0.008412397]], \"hovertemplate\": \"<b>%{hovertext}</b><br><br>Class=%{customdata[0]}<br>Region=Hippocampus<br>Adcyap1_Amount=%{customdata[2]}<br>Cluster=%{customdata[1]}<br>Adcyap1_PVal=%{customdata[3]}<extra></extra>\", \"hovertext\": [\"Microglia_Macrophage_C1qb [#10]\"], \"legendgroup\": \"Microglia_Macrophage\", \"marker\": {\"color\": \"#EF553B\"}, \"name\": \"Microglia_Macrophage\", \"offsetgroup\": \"Microglia_Macrophage\", \"orientation\": \"v\", \"showlegend\": false, \"textposition\": \"auto\", \"type\": \"bar\", \"x\": [\"Microglia_Macrophage\"], \"xaxis\": \"x5\", \"y\": [0.0], \"yaxis\": \"y5\"}, {\"alignmentgroup\": \"True\", \"customdata\": [[\"Microglia_Macrophage\", \"Microglia_Macrophage_C1qb [#9]\", 0.0, 0.056060884000000005]], \"hovertemplate\": \"<b>%{hovertext}</b><br><br>Class=%{customdata[0]}<br>Region=Substantia Nigra<br>Adcyap1_Amount=%{customdata[2]}<br>Cluster=%{customdata[1]}<br>Adcyap1_PVal=%{customdata[3]}<extra></extra>\", \"hovertext\": [\"Microglia_Macrophage_C1qb [#9]\"], \"legendgroup\": \"Microglia_Macrophage\", \"marker\": {\"color\": \"#EF553B\"}, \"name\": \"Microglia_Macrophage\", \"offsetgroup\": \"Microglia_Macrophage\", \"orientation\": \"v\", \"showlegend\": false, \"textposition\": \"auto\", \"type\": \"bar\", \"x\": [\"Microglia_Macrophage\"], \"xaxis\": \"x4\", \"y\": [0.0], \"yaxis\": \"y4\"}, {\"alignmentgroup\": \"True\", \"customdata\": [[\"Microglia_Macrophage\", \"Microglia_Macrophage_C1qb [#6]\", 0.0, 1.0]], \"hovertemplate\": \"<b>%{hovertext}</b><br><br>Class=%{customdata[0]}<br>Region=Striatum<br>Adcyap1_Amount=%{customdata[2]}<br>Cluster=%{customdata[1]}<br>Adcyap1_PVal=%{customdata[3]}<extra></extra>\", \"hovertext\": [\"Microglia_Macrophage_C1qb [#6]\"], \"legendgroup\": \"Microglia_Macrophage\", \"marker\": {\"color\": \"#EF553B\"}, \"name\": \"Microglia_Macrophage\", \"offsetgroup\": \"Microglia_Macrophage\", \"orientation\": \"v\", \"showlegend\": false, \"textposition\": \"auto\", \"type\": \"bar\", \"x\": [\"Microglia_Macrophage\"], \"xaxis\": \"x2\", \"y\": [0.0], \"yaxis\": \"y2\"}, {\"alignmentgroup\": \"True\", \"customdata\": [[\"Microglia_Macrophage\", \"Microglia_Macrophage_C1qb [#11]\", 0.0, 0.49845442]], \"hovertemplate\": \"<b>%{hovertext}</b><br><br>Class=%{customdata[0]}<br>Region=Globus Pallidus<br>Adcyap1_Amount=%{customdata[2]}<br>Cluster=%{customdata[1]}<br>Adcyap1_PVal=%{customdata[3]}<extra></extra>\", \"hovertext\": [\"Microglia_Macrophage_C1qb [#11]\"], \"legendgroup\": \"Microglia_Macrophage\", \"marker\": {\"color\": \"#EF553B\"}, \"name\": \"Microglia_Macrophage\", \"offsetgroup\": \"Microglia_Macrophage\", \"orientation\": \"v\", \"showlegend\": false, \"textposition\": \"auto\", \"type\": \"bar\", \"x\": [\"Microglia_Macrophage\"], \"xaxis\": \"x\", \"y\": [0.0], \"yaxis\": \"y\"}, {\"alignmentgroup\": \"True\", \"customdata\": [[\"Endothelial\", \"Endothelial_Flt1 [#4]\", 0.0, 1.48e-26]], \"hovertemplate\": \"<b>%{hovertext}</b><br><br>Class=%{customdata[0]}<br>Region=Thalamus<br>Adcyap1_Amount=%{customdata[2]}<br>Cluster=%{customdata[1]}<br>Adcyap1_PVal=%{customdata[3]}<extra></extra>\", \"hovertext\": [\"Endothelial_Flt1 [#4]\"], \"legendgroup\": \"Endothelial\", \"marker\": {\"color\": \"#00cc96\"}, \"name\": \"Endothelial\", \"offsetgroup\": \"Endothelial\", \"orientation\": \"v\", \"showlegend\": true, \"textposition\": \"auto\", \"type\": \"bar\", \"x\": [\"Endothelial\"], \"xaxis\": \"x9\", \"y\": [0.0], \"yaxis\": \"y9\"}, {\"alignmentgroup\": \"True\", \"customdata\": [[\"Endothelial\", \"Endothelial_Flt1 [#10]\", 0.0, 0.191525537]], \"hovertemplate\": \"<b>%{hovertext}</b><br><br>Class=%{customdata[0]}<br>Region=Cerebellum<br>Adcyap1_Amount=%{customdata[2]}<br>Cluster=%{customdata[1]}<br>Adcyap1_PVal=%{customdata[3]}<extra></extra>\", \"hovertext\": [\"Endothelial_Flt1 [#10]\"], \"legendgroup\": \"Endothelial\", \"marker\": {\"color\": \"#00cc96\"}, \"name\": \"Endothelial\", \"offsetgroup\": \"Endothelial\", \"orientation\": \"v\", \"showlegend\": false, \"textposition\": \"auto\", \"type\": \"bar\", \"x\": [\"Endothelial\"], \"xaxis\": \"x8\", \"y\": [0.0], \"yaxis\": \"y8\"}, {\"alignmentgroup\": \"True\", \"customdata\": [[\"Endothelial\", \"Endothelial_Flt1 [#12]\", 0.0, 3.19e-40]], \"hovertemplate\": \"<b>%{hovertext}</b><br><br>Class=%{customdata[0]}<br>Region=Posterior Cortex<br>Adcyap1_Amount=%{customdata[2]}<br>Cluster=%{customdata[1]}<br>Adcyap1_PVal=%{customdata[3]}<extra></extra>\", \"hovertext\": [\"Endothelial_Flt1 [#12]\"], \"legendgroup\": \"Endothelial\", \"marker\": {\"color\": \"#00cc96\"}, \"name\": \"Endothelial\", \"offsetgroup\": \"Endothelial\", \"orientation\": \"v\", \"showlegend\": false, \"textposition\": \"auto\", \"type\": \"bar\", \"x\": [\"Endothelial\"], \"xaxis\": \"x7\", \"y\": [0.0], \"yaxis\": \"y7\"}, {\"alignmentgroup\": \"True\", \"customdata\": [[\"Endothelial\", \"Endothelial_Flt1 [#12]\", 0.0, 6.170000000000001e-60]], \"hovertemplate\": \"<b>%{hovertext}</b><br><br>Class=%{customdata[0]}<br>Region=Frontal Cortex<br>Adcyap1_Amount=%{customdata[2]}<br>Cluster=%{customdata[1]}<br>Adcyap1_PVal=%{customdata[3]}<extra></extra>\", \"hovertext\": [\"Endothelial_Flt1 [#12]\"], \"legendgroup\": \"Endothelial\", \"marker\": {\"color\": \"#00cc96\"}, \"name\": \"Endothelial\", \"offsetgroup\": \"Endothelial\", \"orientation\": \"v\", \"showlegend\": false, \"textposition\": \"auto\", \"type\": \"bar\", \"x\": [\"Endothelial\"], \"xaxis\": \"x6\", \"y\": [0.0], \"yaxis\": \"y6\"}, {\"alignmentgroup\": \"True\", \"customdata\": [[\"Endothelial\", \"Endothelial_Flt1 [#15]\", 0.0, 9.350000000000001e-11]], \"hovertemplate\": \"<b>%{hovertext}</b><br><br>Class=%{customdata[0]}<br>Region=Hippocampus<br>Adcyap1_Amount=%{customdata[2]}<br>Cluster=%{customdata[1]}<br>Adcyap1_PVal=%{customdata[3]}<extra></extra>\", \"hovertext\": [\"Endothelial_Flt1 [#15]\"], \"legendgroup\": \"Endothelial\", \"marker\": {\"color\": \"#00cc96\"}, \"name\": \"Endothelial\", \"offsetgroup\": \"Endothelial\", \"orientation\": \"v\", \"showlegend\": false, \"textposition\": \"auto\", \"type\": \"bar\", \"x\": [\"Endothelial\"], \"xaxis\": \"x5\", \"y\": [0.0], \"yaxis\": \"y5\"}, {\"alignmentgroup\": \"True\", \"customdata\": [[\"Endothelial\", \"Endothelial_Flt1 [#12]\", 0.0, 3.18e-29]], \"hovertemplate\": \"<b>%{hovertext}</b><br><br>Class=%{customdata[0]}<br>Region=Substantia Nigra<br>Adcyap1_Amount=%{customdata[2]}<br>Cluster=%{customdata[1]}<br>Adcyap1_PVal=%{customdata[3]}<extra></extra>\", \"hovertext\": [\"Endothelial_Flt1 [#12]\"], \"legendgroup\": \"Endothelial\", \"marker\": {\"color\": \"#00cc96\"}, \"name\": \"Endothelial\", \"offsetgroup\": \"Endothelial\", \"orientation\": \"v\", \"showlegend\": false, \"textposition\": \"auto\", \"type\": \"bar\", \"x\": [\"Endothelial\"], \"xaxis\": \"x4\", \"y\": [0.0], \"yaxis\": \"y4\"}, {\"alignmentgroup\": \"True\", \"customdata\": [[\"Endothelial\", \"Endothelial_Flt1 [#2]\", 0.0, 4.29e-05]], \"hovertemplate\": \"<b>%{hovertext}</b><br><br>Class=%{customdata[0]}<br>Region=Entopeduncular<br>Adcyap1_Amount=%{customdata[2]}<br>Cluster=%{customdata[1]}<br>Adcyap1_PVal=%{customdata[3]}<extra></extra>\", \"hovertext\": [\"Endothelial_Flt1 [#2]\"], \"legendgroup\": \"Endothelial\", \"marker\": {\"color\": \"#00cc96\"}, \"name\": \"Endothelial\", \"offsetgroup\": \"Endothelial\", \"orientation\": \"v\", \"showlegend\": false, \"textposition\": \"auto\", \"type\": \"bar\", \"x\": [\"Endothelial\"], \"xaxis\": \"x3\", \"y\": [0.0], \"yaxis\": \"y3\"}, {\"alignmentgroup\": \"True\", \"customdata\": [[\"Endothelial\", \"Endothelial_Flt1 [#7]\", 0.0, 1.0]], \"hovertemplate\": \"<b>%{hovertext}</b><br><br>Class=%{customdata[0]}<br>Region=Striatum<br>Adcyap1_Amount=%{customdata[2]}<br>Cluster=%{customdata[1]}<br>Adcyap1_PVal=%{customdata[3]}<extra></extra>\", \"hovertext\": [\"Endothelial_Flt1 [#7]\"], \"legendgroup\": \"Endothelial\", \"marker\": {\"color\": \"#00cc96\"}, \"name\": \"Endothelial\", \"offsetgroup\": \"Endothelial\", \"orientation\": \"v\", \"showlegend\": false, \"textposition\": \"auto\", \"type\": \"bar\", \"x\": [\"Endothelial\"], \"xaxis\": \"x2\", \"y\": [0.0], \"yaxis\": \"y2\"}, {\"alignmentgroup\": \"True\", \"customdata\": [[\"Endothelial\", \"Endothelial_Flt1 [#7]\", 0.0, 0.0048026779999999995]], \"hovertemplate\": \"<b>%{hovertext}</b><br><br>Class=%{customdata[0]}<br>Region=Globus Pallidus<br>Adcyap1_Amount=%{customdata[2]}<br>Cluster=%{customdata[1]}<br>Adcyap1_PVal=%{customdata[3]}<extra></extra>\", \"hovertext\": [\"Endothelial_Flt1 [#7]\"], \"legendgroup\": \"Endothelial\", \"marker\": {\"color\": \"#00cc96\"}, \"name\": \"Endothelial\", \"offsetgroup\": \"Endothelial\", \"orientation\": \"v\", \"showlegend\": false, \"textposition\": \"auto\", \"type\": \"bar\", \"x\": [\"Endothelial\"], \"xaxis\": \"x\", \"y\": [0.0], \"yaxis\": \"y\"}, {\"alignmentgroup\": \"True\", \"customdata\": [[\"Fibroblast-Like\", \"Fibroblast-Like_Dcn [#6]\", 0.0, 0.123407647]], \"hovertemplate\": \"<b>%{hovertext}</b><br><br>Class=%{customdata[0]}<br>Region=Thalamus<br>Adcyap1_Amount=%{customdata[2]}<br>Cluster=%{customdata[1]}<br>Adcyap1_PVal=%{customdata[3]}<extra></extra>\", \"hovertext\": [\"Fibroblast-Like_Dcn [#6]\"], \"legendgroup\": \"Fibroblast-Like\", \"marker\": {\"color\": \"#ab63fa\"}, \"name\": \"Fibroblast-Like\", \"offsetgroup\": \"Fibroblast-Like\", \"orientation\": \"v\", \"showlegend\": true, \"textposition\": \"auto\", \"type\": \"bar\", \"x\": [\"Fibroblast-Like\"], \"xaxis\": \"x9\", \"y\": [0.0], \"yaxis\": \"y9\"}, {\"alignmentgroup\": \"True\", \"customdata\": [[\"Fibroblast-Like\", \"Fibroblast-Like_Dcn [#11]\", 0.0, 0.411767093]], \"hovertemplate\": \"<b>%{hovertext}</b><br><br>Class=%{customdata[0]}<br>Region=Cerebellum<br>Adcyap1_Amount=%{customdata[2]}<br>Cluster=%{customdata[1]}<br>Adcyap1_PVal=%{customdata[3]}<extra></extra>\", \"hovertext\": [\"Fibroblast-Like_Dcn [#11]\"], \"legendgroup\": \"Fibroblast-Like\", \"marker\": {\"color\": \"#ab63fa\"}, \"name\": \"Fibroblast-Like\", \"offsetgroup\": \"Fibroblast-Like\", \"orientation\": \"v\", \"showlegend\": false, \"textposition\": \"auto\", \"type\": \"bar\", \"x\": [\"Fibroblast-Like\"], \"xaxis\": \"x8\", \"y\": [0.0], \"yaxis\": \"y8\"}, {\"alignmentgroup\": \"True\", \"customdata\": [[\"Fibroblast-Like\", \"Fibroblast-Like_Dcn [#14]\", 0.0, 5.7999999999999997e-08]], \"hovertemplate\": \"<b>%{hovertext}</b><br><br>Class=%{customdata[0]}<br>Region=Posterior Cortex<br>Adcyap1_Amount=%{customdata[2]}<br>Cluster=%{customdata[1]}<br>Adcyap1_PVal=%{customdata[3]}<extra></extra>\", \"hovertext\": [\"Fibroblast-Like_Dcn [#14]\"], \"legendgroup\": \"Fibroblast-Like\", \"marker\": {\"color\": \"#ab63fa\"}, \"name\": \"Fibroblast-Like\", \"offsetgroup\": \"Fibroblast-Like\", \"orientation\": \"v\", \"showlegend\": false, \"textposition\": \"auto\", \"type\": \"bar\", \"x\": [\"Fibroblast-Like\"], \"xaxis\": \"x7\", \"y\": [0.0], \"yaxis\": \"y7\"}, {\"alignmentgroup\": \"True\", \"customdata\": [[\"Fibroblast-Like\", \"Fibroblast-Like_Dcn [#14]\", 0.0, 7.45e-07]], \"hovertemplate\": \"<b>%{hovertext}</b><br><br>Class=%{customdata[0]}<br>Region=Frontal Cortex<br>Adcyap1_Amount=%{customdata[2]}<br>Cluster=%{customdata[1]}<br>Adcyap1_PVal=%{customdata[3]}<extra></extra>\", \"hovertext\": [\"Fibroblast-Like_Dcn [#14]\"], \"legendgroup\": \"Fibroblast-Like\", \"marker\": {\"color\": \"#ab63fa\"}, \"name\": \"Fibroblast-Like\", \"offsetgroup\": \"Fibroblast-Like\", \"orientation\": \"v\", \"showlegend\": false, \"textposition\": \"auto\", \"type\": \"bar\", \"x\": [\"Fibroblast-Like\"], \"xaxis\": \"x6\", \"y\": [0.0], \"yaxis\": \"y6\"}, {\"alignmentgroup\": \"True\", \"customdata\": [[\"Fibroblast-Like\", \"Fibroblast-Like_Dcn [#17]\", 0.0, 0.143642283]], \"hovertemplate\": \"<b>%{hovertext}</b><br><br>Class=%{customdata[0]}<br>Region=Hippocampus<br>Adcyap1_Amount=%{customdata[2]}<br>Cluster=%{customdata[1]}<br>Adcyap1_PVal=%{customdata[3]}<extra></extra>\", \"hovertext\": [\"Fibroblast-Like_Dcn [#17]\"], \"legendgroup\": \"Fibroblast-Like\", \"marker\": {\"color\": \"#ab63fa\"}, \"name\": \"Fibroblast-Like\", \"offsetgroup\": \"Fibroblast-Like\", \"orientation\": \"v\", \"showlegend\": false, \"textposition\": \"auto\", \"type\": \"bar\", \"x\": [\"Fibroblast-Like\"], \"xaxis\": \"x5\", \"y\": [0.0], \"yaxis\": \"y5\"}, {\"alignmentgroup\": \"True\", \"customdata\": [[\"Fibroblast-Like\", \"Fibroblast-Like_Dcn [#14]\", 0.0, 0.005811951]], \"hovertemplate\": \"<b>%{hovertext}</b><br><br>Class=%{customdata[0]}<br>Region=Substantia Nigra<br>Adcyap1_Amount=%{customdata[2]}<br>Cluster=%{customdata[1]}<br>Adcyap1_PVal=%{customdata[3]}<extra></extra>\", \"hovertext\": [\"Fibroblast-Like_Dcn [#14]\"], \"legendgroup\": \"Fibroblast-Like\", \"marker\": {\"color\": \"#ab63fa\"}, \"name\": \"Fibroblast-Like\", \"offsetgroup\": \"Fibroblast-Like\", \"orientation\": \"v\", \"showlegend\": false, \"textposition\": \"auto\", \"type\": \"bar\", \"x\": [\"Fibroblast-Like\"], \"xaxis\": \"x4\", \"y\": [0.0], \"yaxis\": \"y4\"}, {\"alignmentgroup\": \"True\", \"customdata\": [[\"Fibroblast-Like\", \"Fibroblast-Like_Dcn [#9]\", 0.0, 1.0]], \"hovertemplate\": \"<b>%{hovertext}</b><br><br>Class=%{customdata[0]}<br>Region=Striatum<br>Adcyap1_Amount=%{customdata[2]}<br>Cluster=%{customdata[1]}<br>Adcyap1_PVal=%{customdata[3]}<extra></extra>\", \"hovertext\": [\"Fibroblast-Like_Dcn [#9]\"], \"legendgroup\": \"Fibroblast-Like\", \"marker\": {\"color\": \"#ab63fa\"}, \"name\": \"Fibroblast-Like\", \"offsetgroup\": \"Fibroblast-Like\", \"orientation\": \"v\", \"showlegend\": false, \"textposition\": \"auto\", \"type\": \"bar\", \"x\": [\"Fibroblast-Like\"], \"xaxis\": \"x2\", \"y\": [0.0], \"yaxis\": \"y2\"}, {\"alignmentgroup\": \"True\", \"customdata\": [[\"Fibroblast-Like\", \"Fibroblast-Like_Dcn [#9]\", 0.0, 1.0]], \"hovertemplate\": \"<b>%{hovertext}</b><br><br>Class=%{customdata[0]}<br>Region=Globus Pallidus<br>Adcyap1_Amount=%{customdata[2]}<br>Cluster=%{customdata[1]}<br>Adcyap1_PVal=%{customdata[3]}<extra></extra>\", \"hovertext\": [\"Fibroblast-Like_Dcn [#9]\"], \"legendgroup\": \"Fibroblast-Like\", \"marker\": {\"color\": \"#ab63fa\"}, \"name\": \"Fibroblast-Like\", \"offsetgroup\": \"Fibroblast-Like\", \"orientation\": \"v\", \"showlegend\": false, \"textposition\": \"auto\", \"type\": \"bar\", \"x\": [\"Fibroblast-Like\"], \"xaxis\": \"x\", \"y\": [0.0], \"yaxis\": \"y\"}, {\"alignmentgroup\": \"True\", \"customdata\": [[\"Oligodendrocyte_Polydendrocyte\", \"Oligodendrocyte_Polydendrocyte_Tfr_Tnr [#6]\", 0.0, 0.123045155]], \"hovertemplate\": \"<b>%{hovertext}</b><br><br>Class=%{customdata[0]}<br>Region=Cerebellum<br>Adcyap1_Amount=%{customdata[2]}<br>Cluster=%{customdata[1]}<br>Adcyap1_PVal=%{customdata[3]}<extra></extra>\", \"hovertext\": [\"Oligodendrocyte_Polydendrocyte_Tfr_Tnr [#6]\"], \"legendgroup\": \"Oligodendrocyte_Polydendrocyte\", \"marker\": {\"color\": \"#FFA15A\"}, \"name\": \"Oligodendrocyte_Polydendrocyte\", \"offsetgroup\": \"Oligodendrocyte_Polydendrocyte\", \"orientation\": \"v\", \"showlegend\": true, \"textposition\": \"auto\", \"type\": \"bar\", \"x\": [\"Oligodendrocyte_Polydendrocyte\"], \"xaxis\": \"x8\", \"y\": [0.0], \"yaxis\": \"y8\"}, {\"alignmentgroup\": \"True\", \"customdata\": [[\"Astrocyte\", \"Astrocyte_Gja1 [#11]\", 0.0, 0.00025372700000000003]], \"hovertemplate\": \"<b>%{hovertext}</b><br><br>Class=%{customdata[0]}<br>Region=Thalamus<br>Adcyap1_Amount=%{customdata[2]}<br>Cluster=%{customdata[1]}<br>Adcyap1_PVal=%{customdata[3]}<extra></extra>\", \"hovertext\": [\"Astrocyte_Gja1 [#11]\"], \"legendgroup\": \"Astrocyte\", \"marker\": {\"color\": \"#19d3f3\"}, \"name\": \"Astrocyte\", \"offsetgroup\": \"Astrocyte\", \"orientation\": \"v\", \"showlegend\": true, \"textposition\": \"auto\", \"type\": \"bar\", \"x\": [\"Astrocyte\"], \"xaxis\": \"x9\", \"y\": [0.0], \"yaxis\": \"y9\"}, {\"alignmentgroup\": \"True\", \"customdata\": [[\"Astrocyte\", \"BergmannGlia_Gpr37l1 [#7]\", 0.0, 2.96e-06], [\"Astrocyte\", \"Astrocyte_Gja1 [#8]\", 0.0, 0.410768796]], \"hovertemplate\": \"<b>%{hovertext}</b><br><br>Class=%{customdata[0]}<br>Region=Cerebellum<br>Adcyap1_Amount=%{customdata[2]}<br>Cluster=%{customdata[1]}<br>Adcyap1_PVal=%{customdata[3]}<extra></extra>\", \"hovertext\": [\"BergmannGlia_Gpr37l1 [#7]\", \"Astrocyte_Gja1 [#8]\"], \"legendgroup\": \"Astrocyte\", \"marker\": {\"color\": \"#19d3f3\"}, \"name\": \"Astrocyte\", \"offsetgroup\": \"Astrocyte\", \"orientation\": \"v\", \"showlegend\": false, \"textposition\": \"auto\", \"type\": \"bar\", \"x\": [\"Astrocyte\", \"Astrocyte\"], \"xaxis\": \"x8\", \"y\": [0.0, 0.0], \"yaxis\": \"y8\"}, {\"alignmentgroup\": \"True\", \"customdata\": [[\"Astrocyte\", \"Astrocyte_Gja1 [#8]\", 0.0, 2.4099999999999993e-70]], \"hovertemplate\": \"<b>%{hovertext}</b><br><br>Class=%{customdata[0]}<br>Region=Posterior Cortex<br>Adcyap1_Amount=%{customdata[2]}<br>Cluster=%{customdata[1]}<br>Adcyap1_PVal=%{customdata[3]}<extra></extra>\", \"hovertext\": [\"Astrocyte_Gja1 [#8]\"], \"legendgroup\": \"Astrocyte\", \"marker\": {\"color\": \"#19d3f3\"}, \"name\": \"Astrocyte\", \"offsetgroup\": \"Astrocyte\", \"orientation\": \"v\", \"showlegend\": false, \"textposition\": \"auto\", \"type\": \"bar\", \"x\": [\"Astrocyte\"], \"xaxis\": \"x7\", \"y\": [0.0], \"yaxis\": \"y7\"}, {\"alignmentgroup\": \"True\", \"customdata\": [[\"Astrocyte\", \"Astrocyte_Gja1 [#8]\", 0.0, 3.79e-58]], \"hovertemplate\": \"<b>%{hovertext}</b><br><br>Class=%{customdata[0]}<br>Region=Frontal Cortex<br>Adcyap1_Amount=%{customdata[2]}<br>Cluster=%{customdata[1]}<br>Adcyap1_PVal=%{customdata[3]}<extra></extra>\", \"hovertext\": [\"Astrocyte_Gja1 [#8]\"], \"legendgroup\": \"Astrocyte\", \"marker\": {\"color\": \"#19d3f3\"}, \"name\": \"Astrocyte\", \"offsetgroup\": \"Astrocyte\", \"orientation\": \"v\", \"showlegend\": false, \"textposition\": \"auto\", \"type\": \"bar\", \"x\": [\"Astrocyte\"], \"xaxis\": \"x6\", \"y\": [0.0], \"yaxis\": \"y6\"}, {\"alignmentgroup\": \"True\", \"customdata\": [[\"Astrocyte\", \"Astrocyte_Gja1 [#7]\", 0.0, 1.1299999999999998e-46]], \"hovertemplate\": \"<b>%{hovertext}</b><br><br>Class=%{customdata[0]}<br>Region=Hippocampus<br>Adcyap1_Amount=%{customdata[2]}<br>Cluster=%{customdata[1]}<br>Adcyap1_PVal=%{customdata[3]}<extra></extra>\", \"hovertext\": [\"Astrocyte_Gja1 [#7]\"], \"legendgroup\": \"Astrocyte\", \"marker\": {\"color\": \"#19d3f3\"}, \"name\": \"Astrocyte\", \"offsetgroup\": \"Astrocyte\", \"orientation\": \"v\", \"showlegend\": false, \"textposition\": \"auto\", \"type\": \"bar\", \"x\": [\"Astrocyte\"], \"xaxis\": \"x5\", \"y\": [0.0], \"yaxis\": \"y5\"}, {\"alignmentgroup\": \"True\", \"customdata\": [[\"Astrocyte\", \"Astrocyte_Gja1 [#7]\", 0.0, 2.4100000000000003e-13]], \"hovertemplate\": \"<b>%{hovertext}</b><br><br>Class=%{customdata[0]}<br>Region=Substantia Nigra<br>Adcyap1_Amount=%{customdata[2]}<br>Cluster=%{customdata[1]}<br>Adcyap1_PVal=%{customdata[3]}<extra></extra>\", \"hovertext\": [\"Astrocyte_Gja1 [#7]\"], \"legendgroup\": \"Astrocyte\", \"marker\": {\"color\": \"#19d3f3\"}, \"name\": \"Astrocyte\", \"offsetgroup\": \"Astrocyte\", \"orientation\": \"v\", \"showlegend\": false, \"textposition\": \"auto\", \"type\": \"bar\", \"x\": [\"Astrocyte\"], \"xaxis\": \"x4\", \"y\": [0.0], \"yaxis\": \"y4\"}, {\"alignmentgroup\": \"True\", \"customdata\": [[\"Astrocyte\", \"Astrocyte_Gja1 [#7]\", 0.0, 0.524950843]], \"hovertemplate\": \"<b>%{hovertext}</b><br><br>Class=%{customdata[0]}<br>Region=Entopeduncular<br>Adcyap1_Amount=%{customdata[2]}<br>Cluster=%{customdata[1]}<br>Adcyap1_PVal=%{customdata[3]}<extra></extra>\", \"hovertext\": [\"Astrocyte_Gja1 [#7]\"], \"legendgroup\": \"Astrocyte\", \"marker\": {\"color\": \"#19d3f3\"}, \"name\": \"Astrocyte\", \"offsetgroup\": \"Astrocyte\", \"orientation\": \"v\", \"showlegend\": false, \"textposition\": \"auto\", \"type\": \"bar\", \"x\": [\"Astrocyte\"], \"xaxis\": \"x3\", \"y\": [0.0], \"yaxis\": \"y3\"}, {\"alignmentgroup\": \"True\", \"customdata\": [[\"Astrocyte\", \"Astrocyte_Gja1 [#4]\", 0.0, 0.632468925]], \"hovertemplate\": \"<b>%{hovertext}</b><br><br>Class=%{customdata[0]}<br>Region=Striatum<br>Adcyap1_Amount=%{customdata[2]}<br>Cluster=%{customdata[1]}<br>Adcyap1_PVal=%{customdata[3]}<extra></extra>\", \"hovertext\": [\"Astrocyte_Gja1 [#4]\"], \"legendgroup\": \"Astrocyte\", \"marker\": {\"color\": \"#19d3f3\"}, \"name\": \"Astrocyte\", \"offsetgroup\": \"Astrocyte\", \"orientation\": \"v\", \"showlegend\": false, \"textposition\": \"auto\", \"type\": \"bar\", \"x\": [\"Astrocyte\"], \"xaxis\": \"x2\", \"y\": [0.0], \"yaxis\": \"y2\"}, {\"alignmentgroup\": \"True\", \"customdata\": [[\"Astrocyte\", \"Astrocyte_Gja1 [#5]\", 0.0, 0.000283421]], \"hovertemplate\": \"<b>%{hovertext}</b><br><br>Class=%{customdata[0]}<br>Region=Globus Pallidus<br>Adcyap1_Amount=%{customdata[2]}<br>Cluster=%{customdata[1]}<br>Adcyap1_PVal=%{customdata[3]}<extra></extra>\", \"hovertext\": [\"Astrocyte_Gja1 [#5]\"], \"legendgroup\": \"Astrocyte\", \"marker\": {\"color\": \"#19d3f3\"}, \"name\": \"Astrocyte\", \"offsetgroup\": \"Astrocyte\", \"orientation\": \"v\", \"showlegend\": false, \"textposition\": \"auto\", \"type\": \"bar\", \"x\": [\"Astrocyte\"], \"xaxis\": \"x\", \"y\": [0.0], \"yaxis\": \"y\"}, {\"alignmentgroup\": \"True\", \"customdata\": [[\"Choroid_Plexus\", \"Choroid_Plexus_Ttr [#9]\", 0.0, 1.0]], \"hovertemplate\": \"<b>%{hovertext}</b><br><br>Class=%{customdata[0]}<br>Region=Cerebellum<br>Adcyap1_Amount=%{customdata[2]}<br>Cluster=%{customdata[1]}<br>Adcyap1_PVal=%{customdata[3]}<extra></extra>\", \"hovertext\": [\"Choroid_Plexus_Ttr [#9]\"], \"legendgroup\": \"Choroid_Plexus\", \"marker\": {\"color\": \"#FF6692\"}, \"name\": \"Choroid_Plexus\", \"offsetgroup\": \"Choroid_Plexus\", \"orientation\": \"v\", \"showlegend\": true, \"textposition\": \"auto\", \"type\": \"bar\", \"x\": [\"Choroid_Plexus\"], \"xaxis\": \"x8\", \"y\": [0.0], \"yaxis\": \"y8\"}, {\"alignmentgroup\": \"True\", \"customdata\": [[\"Choroid_Plexus\", \"Choroid_Plexus_Ttr [#12]\", 0.0, 0.274601417]], \"hovertemplate\": \"<b>%{hovertext}</b><br><br>Class=%{customdata[0]}<br>Region=Hippocampus<br>Adcyap1_Amount=%{customdata[2]}<br>Cluster=%{customdata[1]}<br>Adcyap1_PVal=%{customdata[3]}<extra></extra>\", \"hovertext\": [\"Choroid_Plexus_Ttr [#12]\"], \"legendgroup\": \"Choroid_Plexus\", \"marker\": {\"color\": \"#FF6692\"}, \"name\": \"Choroid_Plexus\", \"offsetgroup\": \"Choroid_Plexus\", \"orientation\": \"v\", \"showlegend\": false, \"textposition\": \"auto\", \"type\": \"bar\", \"x\": [\"Choroid_Plexus\"], \"xaxis\": \"x5\", \"y\": [0.0], \"yaxis\": \"y5\"}, {\"alignmentgroup\": \"True\", \"customdata\": [[\"Polydendrocyte\", \"Polydendrocyte_Tnr [#12]\", 0.0, 0.000379659]], \"hovertemplate\": \"<b>%{hovertext}</b><br><br>Class=%{customdata[0]}<br>Region=Thalamus<br>Adcyap1_Amount=%{customdata[2]}<br>Cluster=%{customdata[1]}<br>Adcyap1_PVal=%{customdata[3]}<extra></extra>\", \"hovertext\": [\"Polydendrocyte_Tnr [#12]\"], \"legendgroup\": \"Polydendrocyte\", \"marker\": {\"color\": \"#B6E880\"}, \"name\": \"Polydendrocyte\", \"offsetgroup\": \"Polydendrocyte\", \"orientation\": \"v\", \"showlegend\": true, \"textposition\": \"auto\", \"type\": \"bar\", \"x\": [\"Polydendrocyte\"], \"xaxis\": \"x9\", \"y\": [0.0], \"yaxis\": \"y9\"}, {\"alignmentgroup\": \"True\", \"customdata\": [[\"Polydendrocyte\", \"Polydendrocyte_Tnr [#10]\", 0.0, 6.12e-10]], \"hovertemplate\": \"<b>%{hovertext}</b><br><br>Class=%{customdata[0]}<br>Region=Posterior Cortex<br>Adcyap1_Amount=%{customdata[2]}<br>Cluster=%{customdata[1]}<br>Adcyap1_PVal=%{customdata[3]}<extra></extra>\", \"hovertext\": [\"Polydendrocyte_Tnr [#10]\"], \"legendgroup\": \"Polydendrocyte\", \"marker\": {\"color\": \"#B6E880\"}, \"name\": \"Polydendrocyte\", \"offsetgroup\": \"Polydendrocyte\", \"orientation\": \"v\", \"showlegend\": false, \"textposition\": \"auto\", \"type\": \"bar\", \"x\": [\"Polydendrocyte\"], \"xaxis\": \"x7\", \"y\": [0.0], \"yaxis\": \"y7\"}, {\"alignmentgroup\": \"True\", \"customdata\": [[\"Polydendrocyte\", \"Polydendrocyte_Tnr [#10]\", 0.0, 2.91e-18]], \"hovertemplate\": \"<b>%{hovertext}</b><br><br>Class=%{customdata[0]}<br>Region=Frontal Cortex<br>Adcyap1_Amount=%{customdata[2]}<br>Cluster=%{customdata[1]}<br>Adcyap1_PVal=%{customdata[3]}<extra></extra>\", \"hovertext\": [\"Polydendrocyte_Tnr [#10]\"], \"legendgroup\": \"Polydendrocyte\", \"marker\": {\"color\": \"#B6E880\"}, \"name\": \"Polydendrocyte\", \"offsetgroup\": \"Polydendrocyte\", \"orientation\": \"v\", \"showlegend\": false, \"textposition\": \"auto\", \"type\": \"bar\", \"x\": [\"Polydendrocyte\"], \"xaxis\": \"x6\", \"y\": [0.0], \"yaxis\": \"y6\"}, {\"alignmentgroup\": \"True\", \"customdata\": [[\"Polydendrocyte\", \"Polydendrocyte_Tnr [#9]\", 0.0, 4.19e-06]], \"hovertemplate\": \"<b>%{hovertext}</b><br><br>Class=%{customdata[0]}<br>Region=Hippocampus<br>Adcyap1_Amount=%{customdata[2]}<br>Cluster=%{customdata[1]}<br>Adcyap1_PVal=%{customdata[3]}<extra></extra>\", \"hovertext\": [\"Polydendrocyte_Tnr [#9]\"], \"legendgroup\": \"Polydendrocyte\", \"marker\": {\"color\": \"#B6E880\"}, \"name\": \"Polydendrocyte\", \"offsetgroup\": \"Polydendrocyte\", \"orientation\": \"v\", \"showlegend\": false, \"textposition\": \"auto\", \"type\": \"bar\", \"x\": [\"Polydendrocyte\"], \"xaxis\": \"x5\", \"y\": [0.0], \"yaxis\": \"y5\"}, {\"alignmentgroup\": \"True\", \"customdata\": [[\"Polydendrocyte\", \"Polydendrocyte_Tnr [#5]\", 0.0, 1.74e-05], [\"Polydendrocyte\", \"Polydendrocyte_Cacng4 [#6]\", 0.0, 0.038885138]], \"hovertemplate\": \"<b>%{hovertext}</b><br><br>Class=%{customdata[0]}<br>Region=Substantia Nigra<br>Adcyap1_Amount=%{customdata[2]}<br>Cluster=%{customdata[1]}<br>Adcyap1_PVal=%{customdata[3]}<extra></extra>\", \"hovertext\": [\"Polydendrocyte_Tnr [#5]\", \"Polydendrocyte_Cacng4 [#6]\"], \"legendgroup\": \"Polydendrocyte\", \"marker\": {\"color\": \"#B6E880\"}, \"name\": \"Polydendrocyte\", \"offsetgroup\": \"Polydendrocyte\", \"orientation\": \"v\", \"showlegend\": false, \"textposition\": \"auto\", \"type\": \"bar\", \"x\": [\"Polydendrocyte\", \"Polydendrocyte\"], \"xaxis\": \"x4\", \"y\": [0.0, 0.0], \"yaxis\": \"y4\"}, {\"alignmentgroup\": \"True\", \"customdata\": [[\"Polydendrocyte\", \"Polydendrocyte_Tnr [#5]\", 0.0, 0.036365742], [\"Polydendrocyte\", \"Polydendrocyte_Cacng4 [#6]\", 0.0, 1.0]], \"hovertemplate\": \"<b>%{hovertext}</b><br><br>Class=%{customdata[0]}<br>Region=Entopeduncular<br>Adcyap1_Amount=%{customdata[2]}<br>Cluster=%{customdata[1]}<br>Adcyap1_PVal=%{customdata[3]}<extra></extra>\", \"hovertext\": [\"Polydendrocyte_Tnr [#5]\", \"Polydendrocyte_Cacng4 [#6]\"], \"legendgroup\": \"Polydendrocyte\", \"marker\": {\"color\": \"#B6E880\"}, \"name\": \"Polydendrocyte\", \"offsetgroup\": \"Polydendrocyte\", \"orientation\": \"v\", \"showlegend\": false, \"textposition\": \"auto\", \"type\": \"bar\", \"x\": [\"Polydendrocyte\", \"Polydendrocyte\"], \"xaxis\": \"x3\", \"y\": [0.0, 0.0], \"yaxis\": \"y3\"}, {\"alignmentgroup\": \"True\", \"customdata\": [[\"Polydendrocyte\", \"Polydendrocytes_Tnr [#5]\", 0.0, 1.0]], \"hovertemplate\": \"<b>%{hovertext}</b><br><br>Class=%{customdata[0]}<br>Region=Striatum<br>Adcyap1_Amount=%{customdata[2]}<br>Cluster=%{customdata[1]}<br>Adcyap1_PVal=%{customdata[3]}<extra></extra>\", \"hovertext\": [\"Polydendrocytes_Tnr [#5]\"], \"legendgroup\": \"Polydendrocyte\", \"marker\": {\"color\": \"#B6E880\"}, \"name\": \"Polydendrocyte\", \"offsetgroup\": \"Polydendrocyte\", \"orientation\": \"v\", \"showlegend\": false, \"textposition\": \"auto\", \"type\": \"bar\", \"x\": [\"Polydendrocyte\"], \"xaxis\": \"x2\", \"y\": [0.0], \"yaxis\": \"y2\"}, {\"alignmentgroup\": \"True\", \"customdata\": [[\"Polydendrocyte\", \"Polydendrocyte_Tnr [#4]\", 0.0, 0.05619079900000001]], \"hovertemplate\": \"<b>%{hovertext}</b><br><br>Class=%{customdata[0]}<br>Region=Globus Pallidus<br>Adcyap1_Amount=%{customdata[2]}<br>Cluster=%{customdata[1]}<br>Adcyap1_PVal=%{customdata[3]}<extra></extra>\", \"hovertext\": [\"Polydendrocyte_Tnr [#4]\"], \"legendgroup\": \"Polydendrocyte\", \"marker\": {\"color\": \"#B6E880\"}, \"name\": \"Polydendrocyte\", \"offsetgroup\": \"Polydendrocyte\", \"orientation\": \"v\", \"showlegend\": false, \"textposition\": \"auto\", \"type\": \"bar\", \"x\": [\"Polydendrocyte\"], \"xaxis\": \"x\", \"y\": [0.0], \"yaxis\": \"y\"}, {\"alignmentgroup\": \"True\", \"customdata\": [[\"Mural\", \"Mural_Rgs5Acta2 [#5]\", 0.0, 4.210000000000001e-05]], \"hovertemplate\": \"<b>%{hovertext}</b><br><br>Class=%{customdata[0]}<br>Region=Thalamus<br>Adcyap1_Amount=%{customdata[2]}<br>Cluster=%{customdata[1]}<br>Adcyap1_PVal=%{customdata[3]}<extra></extra>\", \"hovertext\": [\"Mural_Rgs5Acta2 [#5]\"], \"legendgroup\": \"Mural\", \"marker\": {\"color\": \"#FF97FF\"}, \"name\": \"Mural\", \"offsetgroup\": \"Mural\", \"orientation\": \"v\", \"showlegend\": true, \"textposition\": \"auto\", \"type\": \"bar\", \"x\": [\"Mural\"], \"xaxis\": \"x9\", \"y\": [0.0], \"yaxis\": \"y9\"}, {\"alignmentgroup\": \"True\", \"customdata\": [[\"Mural\", \"Mural_Rgs5Acta2 [#13]\", 0.0, 4.0300000000000004e-08]], \"hovertemplate\": \"<b>%{hovertext}</b><br><br>Class=%{customdata[0]}<br>Region=Posterior Cortex<br>Adcyap1_Amount=%{customdata[2]}<br>Cluster=%{customdata[1]}<br>Adcyap1_PVal=%{customdata[3]}<extra></extra>\", \"hovertext\": [\"Mural_Rgs5Acta2 [#13]\"], \"legendgroup\": \"Mural\", \"marker\": {\"color\": \"#FF97FF\"}, \"name\": \"Mural\", \"offsetgroup\": \"Mural\", \"orientation\": \"v\", \"showlegend\": false, \"textposition\": \"auto\", \"type\": \"bar\", \"x\": [\"Mural\"], \"xaxis\": \"x7\", \"y\": [0.0], \"yaxis\": \"y7\"}, {\"alignmentgroup\": \"True\", \"customdata\": [[\"Mural\", \"Mural_Rgs5Acta2 [#13]\", 0.0, 2.6400000000000004e-13]], \"hovertemplate\": \"<b>%{hovertext}</b><br><br>Class=%{customdata[0]}<br>Region=Frontal Cortex<br>Adcyap1_Amount=%{customdata[2]}<br>Cluster=%{customdata[1]}<br>Adcyap1_PVal=%{customdata[3]}<extra></extra>\", \"hovertext\": [\"Mural_Rgs5Acta2 [#13]\"], \"legendgroup\": \"Mural\", \"marker\": {\"color\": \"#FF97FF\"}, \"name\": \"Mural\", \"offsetgroup\": \"Mural\", \"orientation\": \"v\", \"showlegend\": false, \"textposition\": \"auto\", \"type\": \"bar\", \"x\": [\"Mural\"], \"xaxis\": \"x6\", \"y\": [0.0], \"yaxis\": \"y6\"}, {\"alignmentgroup\": \"True\", \"customdata\": [[\"Mural\", \"Mural_Rgs5Acta2 [#16]\", 0.0, 0.000616628]], \"hovertemplate\": \"<b>%{hovertext}</b><br><br>Class=%{customdata[0]}<br>Region=Hippocampus<br>Adcyap1_Amount=%{customdata[2]}<br>Cluster=%{customdata[1]}<br>Adcyap1_PVal=%{customdata[3]}<extra></extra>\", \"hovertext\": [\"Mural_Rgs5Acta2 [#16]\"], \"legendgroup\": \"Mural\", \"marker\": {\"color\": \"#FF97FF\"}, \"name\": \"Mural\", \"offsetgroup\": \"Mural\", \"orientation\": \"v\", \"showlegend\": false, \"textposition\": \"auto\", \"type\": \"bar\", \"x\": [\"Mural\"], \"xaxis\": \"x5\", \"y\": [0.0], \"yaxis\": \"y5\"}, {\"alignmentgroup\": \"True\", \"customdata\": [[\"Mural\", \"Mural_Rgs5Acta2 [#13]\", 0.0, 1.15e-07]], \"hovertemplate\": \"<b>%{hovertext}</b><br><br>Class=%{customdata[0]}<br>Region=Substantia Nigra<br>Adcyap1_Amount=%{customdata[2]}<br>Cluster=%{customdata[1]}<br>Adcyap1_PVal=%{customdata[3]}<extra></extra>\", \"hovertext\": [\"Mural_Rgs5Acta2 [#13]\"], \"legendgroup\": \"Mural\", \"marker\": {\"color\": \"#FF97FF\"}, \"name\": \"Mural\", \"offsetgroup\": \"Mural\", \"orientation\": \"v\", \"showlegend\": false, \"textposition\": \"auto\", \"type\": \"bar\", \"x\": [\"Mural\"], \"xaxis\": \"x4\", \"y\": [0.0], \"yaxis\": \"y4\"}, {\"alignmentgroup\": \"True\", \"customdata\": [[\"Mural\", \"Mural_Rgs5Acta2 [#8]\", 0.0, 1.0]], \"hovertemplate\": \"<b>%{hovertext}</b><br><br>Class=%{customdata[0]}<br>Region=Striatum<br>Adcyap1_Amount=%{customdata[2]}<br>Cluster=%{customdata[1]}<br>Adcyap1_PVal=%{customdata[3]}<extra></extra>\", \"hovertext\": [\"Mural_Rgs5Acta2 [#8]\"], \"legendgroup\": \"Mural\", \"marker\": {\"color\": \"#FF97FF\"}, \"name\": \"Mural\", \"offsetgroup\": \"Mural\", \"orientation\": \"v\", \"showlegend\": false, \"textposition\": \"auto\", \"type\": \"bar\", \"x\": [\"Mural\"], \"xaxis\": \"x2\", \"y\": [0.0], \"yaxis\": \"y2\"}, {\"alignmentgroup\": \"True\", \"customdata\": [[\"Mural\", \"Mural_Rgs5Acta2 [#8]\", 0.0, 0.7276900040000001]], \"hovertemplate\": \"<b>%{hovertext}</b><br><br>Class=%{customdata[0]}<br>Region=Globus Pallidus<br>Adcyap1_Amount=%{customdata[2]}<br>Cluster=%{customdata[1]}<br>Adcyap1_PVal=%{customdata[3]}<extra></extra>\", \"hovertext\": [\"Mural_Rgs5Acta2 [#8]\"], \"legendgroup\": \"Mural\", \"marker\": {\"color\": \"#FF97FF\"}, \"name\": \"Mural\", \"offsetgroup\": \"Mural\", \"orientation\": \"v\", \"showlegend\": false, \"textposition\": \"auto\", \"type\": \"bar\", \"x\": [\"Mural\"], \"xaxis\": \"x\", \"y\": [0.0], \"yaxis\": \"y\"}, {\"alignmentgroup\": \"True\", \"customdata\": [[\"Oligodendrocyte\", \"Oligodendrocyte_Tfr [#8]\", 0.0, 2.5899999999999995e-122], [\"Oligodendrocyte\", \"Oligodendrocyte_Mbp [#9]\", 0.0, 0.282460417]], \"hovertemplate\": \"<b>%{hovertext}</b><br><br>Class=%{customdata[0]}<br>Region=Thalamus<br>Adcyap1_Amount=%{customdata[2]}<br>Cluster=%{customdata[1]}<br>Adcyap1_PVal=%{customdata[3]}<extra></extra>\", \"hovertext\": [\"Oligodendrocyte_Tfr [#8]\", \"Oligodendrocyte_Mbp [#9]\"], \"legendgroup\": \"Oligodendrocyte\", \"marker\": {\"color\": \"#FECB52\"}, \"name\": \"Oligodendrocyte\", \"offsetgroup\": \"Oligodendrocyte\", \"orientation\": \"v\", \"showlegend\": true, \"textposition\": \"auto\", \"type\": \"bar\", \"x\": [\"Oligodendrocyte\", \"Oligodendrocyte\"], \"xaxis\": \"x9\", \"y\": [0.0, 0.0], \"yaxis\": \"y9\"}, {\"alignmentgroup\": \"True\", \"customdata\": [[\"Oligodendrocyte\", \"Oligodendrocyte_Tfr [#9]\", 0.0, 8.720000000000001e-52]], \"hovertemplate\": \"<b>%{hovertext}</b><br><br>Class=%{customdata[0]}<br>Region=Posterior Cortex<br>Adcyap1_Amount=%{customdata[2]}<br>Cluster=%{customdata[1]}<br>Adcyap1_PVal=%{customdata[3]}<extra></extra>\", \"hovertext\": [\"Oligodendrocyte_Tfr [#9]\"], \"legendgroup\": \"Oligodendrocyte\", \"marker\": {\"color\": \"#FECB52\"}, \"name\": \"Oligodendrocyte\", \"offsetgroup\": \"Oligodendrocyte\", \"orientation\": \"v\", \"showlegend\": false, \"textposition\": \"auto\", \"type\": \"bar\", \"x\": [\"Oligodendrocyte\"], \"xaxis\": \"x7\", \"y\": [0.0], \"yaxis\": \"y7\"}, {\"alignmentgroup\": \"True\", \"customdata\": [[\"Oligodendrocyte\", \"Oligodendrocyte_Tfr [#9]\", 0.0, 8.64e-73]], \"hovertemplate\": \"<b>%{hovertext}</b><br><br>Class=%{customdata[0]}<br>Region=Frontal Cortex<br>Adcyap1_Amount=%{customdata[2]}<br>Cluster=%{customdata[1]}<br>Adcyap1_PVal=%{customdata[3]}<extra></extra>\", \"hovertext\": [\"Oligodendrocyte_Tfr [#9]\"], \"legendgroup\": \"Oligodendrocyte\", \"marker\": {\"color\": \"#FECB52\"}, \"name\": \"Oligodendrocyte\", \"offsetgroup\": \"Oligodendrocyte\", \"orientation\": \"v\", \"showlegend\": false, \"textposition\": \"auto\", \"type\": \"bar\", \"x\": [\"Oligodendrocyte\"], \"xaxis\": \"x6\", \"y\": [0.0], \"yaxis\": \"y6\"}, {\"alignmentgroup\": \"True\", \"customdata\": [[\"Oligodendrocyte\", \"Oligodendrocyte_Tfr [#8]\", 0.0, 1.55e-15]], \"hovertemplate\": \"<b>%{hovertext}</b><br><br>Class=%{customdata[0]}<br>Region=Hippocampus<br>Adcyap1_Amount=%{customdata[2]}<br>Cluster=%{customdata[1]}<br>Adcyap1_PVal=%{customdata[3]}<extra></extra>\", \"hovertext\": [\"Oligodendrocyte_Tfr [#8]\"], \"legendgroup\": \"Oligodendrocyte\", \"marker\": {\"color\": \"#FECB52\"}, \"name\": \"Oligodendrocyte\", \"offsetgroup\": \"Oligodendrocyte\", \"orientation\": \"v\", \"showlegend\": false, \"textposition\": \"auto\", \"type\": \"bar\", \"x\": [\"Oligodendrocyte\"], \"xaxis\": \"x5\", \"y\": [0.0], \"yaxis\": \"y5\"}, {\"alignmentgroup\": \"True\", \"customdata\": [[\"Oligodendrocyte\", \"Oligodendrocyte_Tfr [#10]\", 0.0, 4.709999999999997e-243], [\"Oligodendrocyte\", \"Oligodendrocyte_Mbp [#11]\", 0.0, 0.005541744]], \"hovertemplate\": \"<b>%{hovertext}</b><br><br>Class=%{customdata[0]}<br>Region=Substantia Nigra<br>Adcyap1_Amount=%{customdata[2]}<br>Cluster=%{customdata[1]}<br>Adcyap1_PVal=%{customdata[3]}<extra></extra>\", \"hovertext\": [\"Oligodendrocyte_Tfr [#10]\", \"Oligodendrocyte_Mbp [#11]\"], \"legendgroup\": \"Oligodendrocyte\", \"marker\": {\"color\": \"#FECB52\"}, \"name\": \"Oligodendrocyte\", \"offsetgroup\": \"Oligodendrocyte\", \"orientation\": \"v\", \"showlegend\": false, \"textposition\": \"auto\", \"type\": \"bar\", \"x\": [\"Oligodendrocyte\", \"Oligodendrocyte\"], \"xaxis\": \"x4\", \"y\": [0.0, 0.0], \"yaxis\": \"y4\"}, {\"alignmentgroup\": \"True\", \"customdata\": [[\"Oligodendrocyte\", \"Oligodendrocyte_Tfr [#1]\", 0.0, 1.57e-45], [\"Oligodendrocyte\", \"Oligodendrocyte_Mbp [#8]\", 0.0, 0.41065907700000004]], \"hovertemplate\": \"<b>%{hovertext}</b><br><br>Class=%{customdata[0]}<br>Region=Entopeduncular<br>Adcyap1_Amount=%{customdata[2]}<br>Cluster=%{customdata[1]}<br>Adcyap1_PVal=%{customdata[3]}<extra></extra>\", \"hovertext\": [\"Oligodendrocyte_Tfr [#1]\", \"Oligodendrocyte_Mbp [#8]\"], \"legendgroup\": \"Oligodendrocyte\", \"marker\": {\"color\": \"#FECB52\"}, \"name\": \"Oligodendrocyte\", \"offsetgroup\": \"Oligodendrocyte\", \"orientation\": \"v\", \"showlegend\": false, \"textposition\": \"auto\", \"type\": \"bar\", \"x\": [\"Oligodendrocyte\", \"Oligodendrocyte\"], \"xaxis\": \"x3\", \"y\": [0.0, 0.0], \"yaxis\": \"y3\"}, {\"alignmentgroup\": \"True\", \"customdata\": [[\"Oligodendrocyte\", \"Oligodendrocytes_Tfr [#3]\", 0.0, 0.634253631]], \"hovertemplate\": \"<b>%{hovertext}</b><br><br>Class=%{customdata[0]}<br>Region=Striatum<br>Adcyap1_Amount=%{customdata[2]}<br>Cluster=%{customdata[1]}<br>Adcyap1_PVal=%{customdata[3]}<extra></extra>\", \"hovertext\": [\"Oligodendrocytes_Tfr [#3]\"], \"legendgroup\": \"Oligodendrocyte\", \"marker\": {\"color\": \"#FECB52\"}, \"name\": \"Oligodendrocyte\", \"offsetgroup\": \"Oligodendrocyte\", \"orientation\": \"v\", \"showlegend\": false, \"textposition\": \"auto\", \"type\": \"bar\", \"x\": [\"Oligodendrocyte\"], \"xaxis\": \"x2\", \"y\": [0.0], \"yaxis\": \"y2\"}, {\"alignmentgroup\": \"True\", \"customdata\": [[\"Oligodendrocyte\", \"Oligodendrocyte_Tfr [#10]\", 0.0, 9.93e-16]], \"hovertemplate\": \"<b>%{hovertext}</b><br><br>Class=%{customdata[0]}<br>Region=Globus Pallidus<br>Adcyap1_Amount=%{customdata[2]}<br>Cluster=%{customdata[1]}<br>Adcyap1_PVal=%{customdata[3]}<extra></extra>\", \"hovertext\": [\"Oligodendrocyte_Tfr [#10]\"], \"legendgroup\": \"Oligodendrocyte\", \"marker\": {\"color\": \"#FECB52\"}, \"name\": \"Oligodendrocyte\", \"offsetgroup\": \"Oligodendrocyte\", \"orientation\": \"v\", \"showlegend\": false, \"textposition\": \"auto\", \"type\": \"bar\", \"x\": [\"Oligodendrocyte\"], \"xaxis\": \"x\", \"y\": [0.0], \"yaxis\": \"y\"}, {\"alignmentgroup\": \"True\", \"customdata\": [[\"Mural_Fibroblast-Like\", \"Mural_Fibroblast-Like_Rgs5Acta2-Dcn [#3]\", 0.0, 0.178947716]], \"hovertemplate\": \"<b>%{hovertext}</b><br><br>Class=%{customdata[0]}<br>Region=Entopeduncular<br>Adcyap1_Amount=%{customdata[2]}<br>Cluster=%{customdata[1]}<br>Adcyap1_PVal=%{customdata[3]}<extra></extra>\", \"hovertext\": [\"Mural_Fibroblast-Like_Rgs5Acta2-Dcn [#3]\"], \"legendgroup\": \"Mural_Fibroblast-Like\", \"marker\": {\"color\": \"#636efa\"}, \"name\": \"Mural_Fibroblast-Like\", \"offsetgroup\": \"Mural_Fibroblast-Like\", \"orientation\": \"v\", \"showlegend\": true, \"textposition\": \"auto\", \"type\": \"bar\", \"x\": [\"Mural_Fibroblast-Like\"], \"xaxis\": \"x3\", \"y\": [0.0], \"yaxis\": \"y3\"}, {\"alignmentgroup\": \"True\", \"customdata\": [[\"Ependyma\", \"Ependyma [#10]\", 0.0, 0.104945621]], \"hovertemplate\": \"<b>%{hovertext}</b><br><br>Class=%{customdata[0]}<br>Region=Thalamus<br>Adcyap1_Amount=%{customdata[2]}<br>Cluster=%{customdata[1]}<br>Adcyap1_PVal=%{customdata[3]}<extra></extra>\", \"hovertext\": [\"Ependyma [#10]\"], \"legendgroup\": \"Ependyma\", \"marker\": {\"color\": \"#EF553B\"}, \"name\": \"Ependyma\", \"offsetgroup\": \"Ependyma\", \"orientation\": \"v\", \"showlegend\": true, \"textposition\": \"auto\", \"type\": \"bar\", \"x\": [\"Ependyma\"], \"xaxis\": \"x9\", \"y\": [0.0], \"yaxis\": \"y9\"}, {\"alignmentgroup\": \"True\", \"customdata\": [[\"Ependyma\", \"Ependyma [#11]\", 0.0, 9.02e-05]], \"hovertemplate\": \"<b>%{hovertext}</b><br><br>Class=%{customdata[0]}<br>Region=Hippocampus<br>Adcyap1_Amount=%{customdata[2]}<br>Cluster=%{customdata[1]}<br>Adcyap1_PVal=%{customdata[3]}<extra></extra>\", \"hovertext\": [\"Ependyma [#11]\"], \"legendgroup\": \"Ependyma\", \"marker\": {\"color\": \"#EF553B\"}, \"name\": \"Ependyma\", \"offsetgroup\": \"Ependyma\", \"orientation\": \"v\", \"showlegend\": false, \"textposition\": \"auto\", \"type\": \"bar\", \"x\": [\"Ependyma\"], \"xaxis\": \"x5\", \"y\": [0.0], \"yaxis\": \"y5\"}, {\"alignmentgroup\": \"True\", \"customdata\": [[\"Ependyma\", \"Ependyma [#8]\", 0.0, 1.0]], \"hovertemplate\": \"<b>%{hovertext}</b><br><br>Class=%{customdata[0]}<br>Region=Substantia Nigra<br>Adcyap1_Amount=%{customdata[2]}<br>Cluster=%{customdata[1]}<br>Adcyap1_PVal=%{customdata[3]}<extra></extra>\", \"hovertext\": [\"Ependyma [#8]\"], \"legendgroup\": \"Ependyma\", \"marker\": {\"color\": \"#EF553B\"}, \"name\": \"Ependyma\", \"offsetgroup\": \"Ependyma\", \"orientation\": \"v\", \"showlegend\": false, \"textposition\": \"auto\", \"type\": \"bar\", \"x\": [\"Ependyma\"], \"xaxis\": \"x4\", \"y\": [0.0], \"yaxis\": \"y4\"}, {\"alignmentgroup\": \"True\", \"customdata\": [[\"Ependyma\", \"Ependyma [#1]\", 0.0, 1.0]], \"hovertemplate\": \"<b>%{hovertext}</b><br><br>Class=%{customdata[0]}<br>Region=Striatum<br>Adcyap1_Amount=%{customdata[2]}<br>Cluster=%{customdata[1]}<br>Adcyap1_PVal=%{customdata[3]}<extra></extra>\", \"hovertext\": [\"Ependyma [#1]\"], \"legendgroup\": \"Ependyma\", \"marker\": {\"color\": \"#EF553B\"}, \"name\": \"Ependyma\", \"offsetgroup\": \"Ependyma\", \"orientation\": \"v\", \"showlegend\": false, \"textposition\": \"auto\", \"type\": \"bar\", \"x\": [\"Ependyma\"], \"xaxis\": \"x2\", \"y\": [0.0], \"yaxis\": \"y2\"}, {\"alignmentgroup\": \"True\", \"customdata\": [[\"Ependyma\", \"Ependyma [#6]\", 0.0, 1.0]], \"hovertemplate\": \"<b>%{hovertext}</b><br><br>Class=%{customdata[0]}<br>Region=Globus Pallidus<br>Adcyap1_Amount=%{customdata[2]}<br>Cluster=%{customdata[1]}<br>Adcyap1_PVal=%{customdata[3]}<extra></extra>\", \"hovertext\": [\"Ependyma [#6]\"], \"legendgroup\": \"Ependyma\", \"marker\": {\"color\": \"#EF553B\"}, \"name\": \"Ependyma\", \"offsetgroup\": \"Ependyma\", \"orientation\": \"v\", \"showlegend\": false, \"textposition\": \"auto\", \"type\": \"bar\", \"x\": [\"Ependyma\"], \"xaxis\": \"x\", \"y\": [0.0], \"yaxis\": \"y\"}, {\"alignmentgroup\": \"True\", \"customdata\": [[\"Neurogenesis\", \"Neurogenesis_Sox4 [#13]\", 0.0, 0.018411192]], \"hovertemplate\": \"<b>%{hovertext}</b><br><br>Class=%{customdata[0]}<br>Region=Hippocampus<br>Adcyap1_Amount=%{customdata[2]}<br>Cluster=%{customdata[1]}<br>Adcyap1_PVal=%{customdata[3]}<extra></extra>\", \"hovertext\": [\"Neurogenesis_Sox4 [#13]\"], \"legendgroup\": \"Neurogenesis\", \"marker\": {\"color\": \"#00cc96\"}, \"name\": \"Neurogenesis\", \"offsetgroup\": \"Neurogenesis\", \"orientation\": \"v\", \"showlegend\": true, \"textposition\": \"auto\", \"type\": \"bar\", \"x\": [\"Neurogenesis\"], \"xaxis\": \"x5\", \"y\": [0.0], \"yaxis\": \"y5\"}, {\"alignmentgroup\": \"True\", \"customdata\": [[\"Neurogenesis\", \"Neurogenesis_Sox4 [#2]\", 0.0, 1.0]], \"hovertemplate\": \"<b>%{hovertext}</b><br><br>Class=%{customdata[0]}<br>Region=Striatum<br>Adcyap1_Amount=%{customdata[2]}<br>Cluster=%{customdata[1]}<br>Adcyap1_PVal=%{customdata[3]}<extra></extra>\", \"hovertext\": [\"Neurogenesis_Sox4 [#2]\"], \"legendgroup\": \"Neurogenesis\", \"marker\": {\"color\": \"#00cc96\"}, \"name\": \"Neurogenesis\", \"offsetgroup\": \"Neurogenesis\", \"orientation\": \"v\", \"showlegend\": false, \"textposition\": \"auto\", \"type\": \"bar\", \"x\": [\"Neurogenesis\"], \"xaxis\": \"x2\", \"y\": [0.0], \"yaxis\": \"y2\"}],\n",
       "                        {\"annotations\": [{\"font\": {}, \"showarrow\": false, \"text\": \"Globus Pallidus\", \"textangle\": 90, \"x\": 0.98, \"xanchor\": \"left\", \"xref\": \"paper\", \"y\": 0.042222222222222223, \"yanchor\": \"middle\", \"yref\": \"paper\"}, {\"font\": {}, \"showarrow\": false, \"text\": \"Striatum\", \"textangle\": 90, \"x\": 0.98, \"xanchor\": \"left\", \"xref\": \"paper\", \"y\": 0.15666666666666668, \"yanchor\": \"middle\", \"yref\": \"paper\"}, {\"font\": {}, \"showarrow\": false, \"text\": \"Entopeduncular\", \"textangle\": 90, \"x\": 0.98, \"xanchor\": \"left\", \"xref\": \"paper\", \"y\": 0.27111111111111114, \"yanchor\": \"middle\", \"yref\": \"paper\"}, {\"font\": {}, \"showarrow\": false, \"text\": \"Substantia Nigra\", \"textangle\": 90, \"x\": 0.98, \"xanchor\": \"left\", \"xref\": \"paper\", \"y\": 0.3855555555555556, \"yanchor\": \"middle\", \"yref\": \"paper\"}, {\"font\": {}, \"showarrow\": false, \"text\": \"Hippocampus\", \"textangle\": 90, \"x\": 0.98, \"xanchor\": \"left\", \"xref\": \"paper\", \"y\": 0.5, \"yanchor\": \"middle\", \"yref\": \"paper\"}, {\"font\": {}, \"showarrow\": false, \"text\": \"Frontal Cortex\", \"textangle\": 90, \"x\": 0.98, \"xanchor\": \"left\", \"xref\": \"paper\", \"y\": 0.6144444444444443, \"yanchor\": \"middle\", \"yref\": \"paper\"}, {\"font\": {}, \"showarrow\": false, \"text\": \"Posterior Cortex\", \"textangle\": 90, \"x\": 0.98, \"xanchor\": \"left\", \"xref\": \"paper\", \"y\": 0.7288888888888889, \"yanchor\": \"middle\", \"yref\": \"paper\"}, {\"font\": {}, \"showarrow\": false, \"text\": \"Cerebellum\", \"textangle\": 90, \"x\": 0.98, \"xanchor\": \"left\", \"xref\": \"paper\", \"y\": 0.8433333333333333, \"yanchor\": \"middle\", \"yref\": \"paper\"}, {\"font\": {}, \"showarrow\": false, \"text\": \"Thalamus\", \"textangle\": 90, \"x\": 0.98, \"xanchor\": \"left\", \"xref\": \"paper\", \"y\": 0.9577777777777778, \"yanchor\": \"middle\", \"yref\": \"paper\"}], \"barmode\": \"relative\", \"height\": 2100, \"legend\": {\"title\": {\"text\": \"Class\"}, \"tracegroupgap\": 0}, \"margin\": {\"t\": 60}, \"template\": {\"data\": {\"bar\": [{\"error_x\": {\"color\": \"#2a3f5f\"}, \"error_y\": {\"color\": \"#2a3f5f\"}, \"marker\": {\"line\": {\"color\": \"#E5ECF6\", \"width\": 0.5}}, \"type\": \"bar\"}], \"barpolar\": [{\"marker\": {\"line\": {\"color\": \"#E5ECF6\", \"width\": 0.5}}, \"type\": \"barpolar\"}], \"carpet\": [{\"aaxis\": {\"endlinecolor\": \"#2a3f5f\", \"gridcolor\": \"white\", \"linecolor\": \"white\", \"minorgridcolor\": \"white\", \"startlinecolor\": \"#2a3f5f\"}, \"baxis\": {\"endlinecolor\": \"#2a3f5f\", \"gridcolor\": \"white\", \"linecolor\": \"white\", \"minorgridcolor\": \"white\", \"startlinecolor\": \"#2a3f5f\"}, \"type\": \"carpet\"}], \"choropleth\": [{\"colorbar\": {\"outlinewidth\": 0, \"ticks\": \"\"}, \"type\": \"choropleth\"}], \"contour\": [{\"colorbar\": {\"outlinewidth\": 0, \"ticks\": \"\"}, \"colorscale\": [[0.0, \"#0d0887\"], [0.1111111111111111, \"#46039f\"], [0.2222222222222222, \"#7201a8\"], [0.3333333333333333, \"#9c179e\"], [0.4444444444444444, \"#bd3786\"], [0.5555555555555556, \"#d8576b\"], [0.6666666666666666, \"#ed7953\"], [0.7777777777777778, \"#fb9f3a\"], [0.8888888888888888, \"#fdca26\"], [1.0, \"#f0f921\"]], \"type\": \"contour\"}], \"contourcarpet\": [{\"colorbar\": {\"outlinewidth\": 0, \"ticks\": \"\"}, \"type\": \"contourcarpet\"}], \"heatmap\": [{\"colorbar\": {\"outlinewidth\": 0, \"ticks\": \"\"}, \"colorscale\": [[0.0, \"#0d0887\"], [0.1111111111111111, \"#46039f\"], [0.2222222222222222, \"#7201a8\"], [0.3333333333333333, \"#9c179e\"], [0.4444444444444444, \"#bd3786\"], [0.5555555555555556, \"#d8576b\"], [0.6666666666666666, \"#ed7953\"], [0.7777777777777778, \"#fb9f3a\"], [0.8888888888888888, \"#fdca26\"], [1.0, \"#f0f921\"]], \"type\": \"heatmap\"}], \"heatmapgl\": [{\"colorbar\": {\"outlinewidth\": 0, \"ticks\": \"\"}, \"colorscale\": [[0.0, \"#0d0887\"], [0.1111111111111111, \"#46039f\"], [0.2222222222222222, \"#7201a8\"], [0.3333333333333333, \"#9c179e\"], [0.4444444444444444, \"#bd3786\"], [0.5555555555555556, \"#d8576b\"], [0.6666666666666666, \"#ed7953\"], [0.7777777777777778, \"#fb9f3a\"], [0.8888888888888888, \"#fdca26\"], [1.0, \"#f0f921\"]], \"type\": \"heatmapgl\"}], \"histogram\": [{\"marker\": {\"colorbar\": {\"outlinewidth\": 0, \"ticks\": \"\"}}, \"type\": \"histogram\"}], \"histogram2d\": [{\"colorbar\": {\"outlinewidth\": 0, \"ticks\": \"\"}, \"colorscale\": [[0.0, \"#0d0887\"], [0.1111111111111111, \"#46039f\"], [0.2222222222222222, \"#7201a8\"], [0.3333333333333333, \"#9c179e\"], [0.4444444444444444, \"#bd3786\"], [0.5555555555555556, \"#d8576b\"], [0.6666666666666666, \"#ed7953\"], [0.7777777777777778, \"#fb9f3a\"], [0.8888888888888888, \"#fdca26\"], [1.0, \"#f0f921\"]], \"type\": \"histogram2d\"}], \"histogram2dcontour\": [{\"colorbar\": {\"outlinewidth\": 0, \"ticks\": \"\"}, \"colorscale\": [[0.0, \"#0d0887\"], [0.1111111111111111, \"#46039f\"], [0.2222222222222222, \"#7201a8\"], [0.3333333333333333, \"#9c179e\"], [0.4444444444444444, \"#bd3786\"], [0.5555555555555556, \"#d8576b\"], [0.6666666666666666, \"#ed7953\"], [0.7777777777777778, \"#fb9f3a\"], [0.8888888888888888, \"#fdca26\"], [1.0, \"#f0f921\"]], \"type\": \"histogram2dcontour\"}], \"mesh3d\": [{\"colorbar\": {\"outlinewidth\": 0, \"ticks\": \"\"}, \"type\": \"mesh3d\"}], \"parcoords\": [{\"line\": {\"colorbar\": {\"outlinewidth\": 0, \"ticks\": \"\"}}, \"type\": \"parcoords\"}], \"pie\": [{\"automargin\": true, \"type\": \"pie\"}], \"scatter\": [{\"marker\": {\"colorbar\": {\"outlinewidth\": 0, \"ticks\": \"\"}}, \"type\": \"scatter\"}], \"scatter3d\": [{\"line\": {\"colorbar\": {\"outlinewidth\": 0, \"ticks\": \"\"}}, \"marker\": {\"colorbar\": {\"outlinewidth\": 0, \"ticks\": \"\"}}, \"type\": \"scatter3d\"}], \"scattercarpet\": [{\"marker\": {\"colorbar\": {\"outlinewidth\": 0, \"ticks\": \"\"}}, \"type\": \"scattercarpet\"}], \"scattergeo\": [{\"marker\": {\"colorbar\": {\"outlinewidth\": 0, \"ticks\": \"\"}}, \"type\": \"scattergeo\"}], \"scattergl\": [{\"marker\": {\"colorbar\": {\"outlinewidth\": 0, \"ticks\": \"\"}}, \"type\": \"scattergl\"}], \"scattermapbox\": [{\"marker\": {\"colorbar\": {\"outlinewidth\": 0, \"ticks\": \"\"}}, \"type\": \"scattermapbox\"}], \"scatterpolar\": [{\"marker\": {\"colorbar\": {\"outlinewidth\": 0, \"ticks\": \"\"}}, \"type\": \"scatterpolar\"}], \"scatterpolargl\": [{\"marker\": {\"colorbar\": {\"outlinewidth\": 0, \"ticks\": \"\"}}, \"type\": \"scatterpolargl\"}], \"scatterternary\": [{\"marker\": {\"colorbar\": {\"outlinewidth\": 0, \"ticks\": \"\"}}, \"type\": \"scatterternary\"}], \"surface\": [{\"colorbar\": {\"outlinewidth\": 0, \"ticks\": \"\"}, \"colorscale\": [[0.0, \"#0d0887\"], [0.1111111111111111, \"#46039f\"], [0.2222222222222222, \"#7201a8\"], [0.3333333333333333, \"#9c179e\"], [0.4444444444444444, \"#bd3786\"], [0.5555555555555556, \"#d8576b\"], [0.6666666666666666, \"#ed7953\"], [0.7777777777777778, \"#fb9f3a\"], [0.8888888888888888, \"#fdca26\"], [1.0, \"#f0f921\"]], \"type\": \"surface\"}], \"table\": [{\"cells\": {\"fill\": {\"color\": \"#EBF0F8\"}, \"line\": {\"color\": \"white\"}}, \"header\": {\"fill\": {\"color\": \"#C8D4E3\"}, \"line\": {\"color\": \"white\"}}, \"type\": \"table\"}]}, \"layout\": {\"annotationdefaults\": {\"arrowcolor\": \"#2a3f5f\", \"arrowhead\": 0, \"arrowwidth\": 1}, \"coloraxis\": {\"colorbar\": {\"outlinewidth\": 0, \"ticks\": \"\"}}, \"colorscale\": {\"diverging\": [[0, \"#8e0152\"], [0.1, \"#c51b7d\"], [0.2, \"#de77ae\"], [0.3, \"#f1b6da\"], [0.4, \"#fde0ef\"], [0.5, \"#f7f7f7\"], [0.6, \"#e6f5d0\"], [0.7, \"#b8e186\"], [0.8, \"#7fbc41\"], [0.9, \"#4d9221\"], [1, \"#276419\"]], \"sequential\": [[0.0, \"#0d0887\"], [0.1111111111111111, \"#46039f\"], [0.2222222222222222, \"#7201a8\"], [0.3333333333333333, \"#9c179e\"], [0.4444444444444444, \"#bd3786\"], [0.5555555555555556, \"#d8576b\"], [0.6666666666666666, \"#ed7953\"], [0.7777777777777778, \"#fb9f3a\"], [0.8888888888888888, \"#fdca26\"], [1.0, \"#f0f921\"]], \"sequentialminus\": [[0.0, \"#0d0887\"], [0.1111111111111111, \"#46039f\"], [0.2222222222222222, \"#7201a8\"], [0.3333333333333333, \"#9c179e\"], [0.4444444444444444, \"#bd3786\"], [0.5555555555555556, \"#d8576b\"], [0.6666666666666666, \"#ed7953\"], [0.7777777777777778, \"#fb9f3a\"], [0.8888888888888888, \"#fdca26\"], [1.0, \"#f0f921\"]]}, \"colorway\": [\"#636efa\", \"#EF553B\", \"#00cc96\", \"#ab63fa\", \"#FFA15A\", \"#19d3f3\", \"#FF6692\", \"#B6E880\", \"#FF97FF\", \"#FECB52\"], \"font\": {\"color\": \"#2a3f5f\"}, \"geo\": {\"bgcolor\": \"white\", \"lakecolor\": \"white\", \"landcolor\": \"#E5ECF6\", \"showlakes\": true, \"showland\": true, \"subunitcolor\": \"white\"}, \"hoverlabel\": {\"align\": \"left\"}, \"hovermode\": \"closest\", \"mapbox\": {\"style\": \"light\"}, \"paper_bgcolor\": \"white\", \"plot_bgcolor\": \"#E5ECF6\", \"polar\": {\"angularaxis\": {\"gridcolor\": \"white\", \"linecolor\": \"white\", \"ticks\": \"\"}, \"bgcolor\": \"#E5ECF6\", \"radialaxis\": {\"gridcolor\": \"white\", \"linecolor\": \"white\", \"ticks\": \"\"}}, \"scene\": {\"xaxis\": {\"backgroundcolor\": \"#E5ECF6\", \"gridcolor\": \"white\", \"gridwidth\": 2, \"linecolor\": \"white\", \"showbackground\": true, \"ticks\": \"\", \"zerolinecolor\": \"white\"}, \"yaxis\": {\"backgroundcolor\": \"#E5ECF6\", \"gridcolor\": \"white\", \"gridwidth\": 2, \"linecolor\": \"white\", \"showbackground\": true, \"ticks\": \"\", \"zerolinecolor\": \"white\"}, \"zaxis\": {\"backgroundcolor\": \"#E5ECF6\", \"gridcolor\": \"white\", \"gridwidth\": 2, \"linecolor\": \"white\", \"showbackground\": true, \"ticks\": \"\", \"zerolinecolor\": \"white\"}}, \"shapedefaults\": {\"line\": {\"color\": \"#2a3f5f\"}}, \"ternary\": {\"aaxis\": {\"gridcolor\": \"white\", \"linecolor\": \"white\", \"ticks\": \"\"}, \"baxis\": {\"gridcolor\": \"white\", \"linecolor\": \"white\", \"ticks\": \"\"}, \"bgcolor\": \"#E5ECF6\", \"caxis\": {\"gridcolor\": \"white\", \"linecolor\": \"white\", \"ticks\": \"\"}}, \"title\": {\"x\": 0.05}, \"xaxis\": {\"automargin\": true, \"gridcolor\": \"white\", \"linecolor\": \"white\", \"ticks\": \"\", \"title\": {\"standoff\": 15}, \"zerolinecolor\": \"white\", \"zerolinewidth\": 2}, \"yaxis\": {\"automargin\": true, \"gridcolor\": \"white\", \"linecolor\": \"white\", \"ticks\": \"\", \"title\": {\"standoff\": 15}, \"zerolinecolor\": \"white\", \"zerolinewidth\": 2}}}, \"width\": 1200, \"xaxis\": {\"anchor\": \"y\", \"categoryarray\": [\"Neuron\", \"Microglia_Macrophage\", \"Endothelial\", \"Fibroblast-Like\", \"Oligodendrocyte_Polydendrocyte\", \"Astrocyte\", \"Choroid_Plexus\", \"Polydendrocyte\", \"Mural\", \"Oligodendrocyte\", \"Mural_Fibroblast-Like\", \"Ependyma\", \"Neurogenesis\"], \"categoryorder\": \"array\", \"domain\": [0.0, 0.98], \"title\": {\"text\": \"Class\"}}, \"xaxis2\": {\"anchor\": \"y2\", \"domain\": [0.0, 0.98], \"matches\": \"x\", \"showticklabels\": false}, \"xaxis3\": {\"anchor\": \"y3\", \"domain\": [0.0, 0.98], \"matches\": \"x\", \"showticklabels\": false}, \"xaxis4\": {\"anchor\": \"y4\", \"domain\": [0.0, 0.98], \"matches\": \"x\", \"showticklabels\": false}, \"xaxis5\": {\"anchor\": \"y5\", \"domain\": [0.0, 0.98], \"matches\": \"x\", \"showticklabels\": false}, \"xaxis6\": {\"anchor\": \"y6\", \"domain\": [0.0, 0.98], \"matches\": \"x\", \"showticklabels\": false}, \"xaxis7\": {\"anchor\": \"y7\", \"domain\": [0.0, 0.98], \"matches\": \"x\", \"showticklabels\": false}, \"xaxis8\": {\"anchor\": \"y8\", \"domain\": [0.0, 0.98], \"matches\": \"x\", \"showticklabels\": false}, \"xaxis9\": {\"anchor\": \"y9\", \"domain\": [0.0, 0.98], \"matches\": \"x\", \"showticklabels\": false}, \"yaxis\": {\"anchor\": \"x\", \"domain\": [0.0, 0.08444444444444445], \"title\": {\"text\": \"\"}}, \"yaxis2\": {\"anchor\": \"x2\", \"domain\": [0.11444444444444445, 0.1988888888888889], \"matches\": \"y\", \"title\": {\"text\": \"\"}}, \"yaxis3\": {\"anchor\": \"x3\", \"domain\": [0.2288888888888889, 0.31333333333333335], \"matches\": \"y\", \"title\": {\"text\": \"\"}}, \"yaxis4\": {\"anchor\": \"x4\", \"domain\": [0.3433333333333334, 0.4277777777777778], \"matches\": \"y\", \"title\": {\"text\": \"\"}}, \"yaxis5\": {\"anchor\": \"x5\", \"domain\": [0.4577777777777778, 0.5422222222222223], \"matches\": \"y\", \"title\": {\"text\": \"\"}}, \"yaxis6\": {\"anchor\": \"x6\", \"domain\": [0.5722222222222222, 0.6566666666666666], \"matches\": \"y\", \"title\": {\"text\": \"\"}}, \"yaxis7\": {\"anchor\": \"x7\", \"domain\": [0.6866666666666668, 0.7711111111111112], \"matches\": \"y\", \"title\": {\"text\": \"\"}}, \"yaxis8\": {\"anchor\": \"x8\", \"domain\": [0.8011111111111111, 0.8855555555555555], \"matches\": \"y\", \"title\": {\"text\": \"\"}}, \"yaxis9\": {\"anchor\": \"x9\", \"domain\": [0.9155555555555556, 1.0], \"matches\": \"y\", \"title\": {\"text\": \"\"}}},\n",
       "                        {\"responsive\": true}\n",
       "                    ).then(function(){\n",
       "                            \n",
       "var gd = document.getElementById('21760a86-6a19-43df-92bd-f71df0714f4c');\n",
       "var x = new MutationObserver(function (mutations, observer) {{\n",
       "        var display = window.getComputedStyle(gd).display;\n",
       "        if (!display || display === 'none') {{\n",
       "            console.log([gd, 'removed!']);\n",
       "            Plotly.purge(gd);\n",
       "            observer.disconnect();\n",
       "        }}\n",
       "}});\n",
       "\n",
       "// Listen for the removal of the full notebook cells\n",
       "var notebookContainer = gd.closest('#notebook-container');\n",
       "if (notebookContainer) {{\n",
       "    x.observe(notebookContainer, {childList: true});\n",
       "}}\n",
       "\n",
       "// Listen for the clearing of the current output cell\n",
       "var outputEl = gd.closest('.output');\n",
       "if (outputEl) {{\n",
       "    x.observe(outputEl, {childList: true});\n",
       "}}\n",
       "\n",
       "                        })\n",
       "                };\n",
       "                });\n",
       "            </script>\n",
       "        </div>"
      ]
     },
     "metadata": {},
     "output_type": "display_data"
    },
    {
     "data": {
      "application/vnd.plotly.v1+json": {
       "config": {
        "plotlyServerURL": "https://plot.ly"
       },
       "data": [
        {
         "cells": {
          "align": "left",
          "fill": {
           "color": "lavender"
          },
          "values": [
           [
            "Thalamus",
            "Cerebellum",
            "Posterior Cortex",
            "Frontal Cortex",
            "Hippocampus",
            "Substantia Nigra",
            "Cerebellum",
            "Frontal Cortex",
            "Posterior Cortex",
            "Posterior Cortex",
            "Entopeduncular",
            "Thalamus",
            "Posterior Cortex",
            "Posterior Cortex",
            "Hippocampus",
            "Hippocampus",
            "Striatum",
            "Substantia Nigra",
            "Substantia Nigra",
            "Cerebellum",
            "Cerebellum",
            "Cerebellum",
            "Cerebellum",
            "Cerebellum",
            "Cerebellum",
            "Cerebellum",
            "Cerebellum",
            "Cerebellum",
            "Frontal Cortex",
            "Frontal Cortex",
            "Frontal Cortex",
            "Frontal Cortex",
            "Frontal Cortex",
            "Frontal Cortex",
            "Frontal Cortex",
            "Frontal Cortex",
            "Frontal Cortex",
            "Frontal Cortex",
            "Frontal Cortex",
            "Frontal Cortex",
            "Posterior Cortex",
            "Posterior Cortex",
            "Posterior Cortex",
            "Posterior Cortex",
            "Posterior Cortex",
            "Posterior Cortex",
            "Posterior Cortex",
            "Posterior Cortex",
            "Posterior Cortex",
            "Entopeduncular",
            "Entopeduncular",
            "Entopeduncular",
            "Entopeduncular",
            "Entopeduncular",
            "Entopeduncular",
            "Entopeduncular",
            "Globus Pallidus",
            "Globus Pallidus",
            "Globus Pallidus",
            "Globus Pallidus",
            "Globus Pallidus",
            "Globus Pallidus",
            "Globus Pallidus",
            "Globus Pallidus",
            "Globus Pallidus",
            "Globus Pallidus",
            "Globus Pallidus",
            "Hippocampus",
            "Hippocampus",
            "Hippocampus",
            "Hippocampus",
            "Hippocampus",
            "Hippocampus",
            "Hippocampus",
            "Hippocampus",
            "Hippocampus",
            "Hippocampus",
            "Hippocampus",
            "Hippocampus",
            "Hippocampus",
            "Hippocampus",
            "Striatum",
            "Striatum",
            "Striatum",
            "Striatum",
            "Striatum",
            "Striatum",
            "Striatum",
            "Striatum",
            "Striatum",
            "Striatum",
            "Striatum",
            "Striatum",
            "Striatum",
            "Striatum",
            "Substantia Nigra",
            "Substantia Nigra",
            "Substantia Nigra",
            "Substantia Nigra",
            "Substantia Nigra",
            "Substantia Nigra",
            "Substantia Nigra",
            "Substantia Nigra",
            "Substantia Nigra",
            "Substantia Nigra",
            "Substantia Nigra",
            "Thalamus",
            "Thalamus",
            "Thalamus",
            "Thalamus",
            "Thalamus",
            "Thalamus",
            "Thalamus",
            "Thalamus",
            "Thalamus",
            "Thalamus"
           ],
           [
            "Neuron",
            "Neuron",
            "Neuron",
            "Neuron",
            "Neuron",
            "Neuron",
            "Neuron",
            "Neuron",
            "Neuron",
            "Neuron",
            "Neuron",
            "Neuron",
            "Microglia_Macrophage",
            "Neuron",
            "Neuron",
            "Neuron",
            "Neuron",
            "Neuron",
            "Neuron",
            "Neuron",
            "Endothelial",
            "Fibroblast-Like",
            "Neuron",
            "Microglia_Macrophage",
            "Oligodendrocyte_Polydendrocyte",
            "Astrocyte",
            "Astrocyte",
            "Choroid_Plexus",
            "Neuron",
            "Polydendrocyte",
            "Microglia_Macrophage",
            "Endothelial",
            "Mural",
            "Fibroblast-Like",
            "Neuron",
            "Neuron",
            "Neuron",
            "Neuron",
            "Astrocyte",
            "Oligodendrocyte",
            "Neuron",
            "Polydendrocyte",
            "Endothelial",
            "Mural",
            "Fibroblast-Like",
            "Neuron",
            "Neuron",
            "Astrocyte",
            "Oligodendrocyte",
            "Oligodendrocyte",
            "Endothelial",
            "Mural_Fibroblast-Like",
            "Polydendrocyte",
            "Polydendrocyte",
            "Astrocyte",
            "Oligodendrocyte",
            "Neuron",
            "Oligodendrocyte",
            "Microglia_Macrophage",
            "Neuron",
            "Neuron",
            "Polydendrocyte",
            "Astrocyte",
            "Ependyma",
            "Endothelial",
            "Mural",
            "Fibroblast-Like",
            "Neuron",
            "Microglia_Macrophage",
            "Ependyma",
            "Choroid_Plexus",
            "Neurogenesis",
            "Neuron",
            "Endothelial",
            "Mural",
            "Fibroblast-Like",
            "Neuron",
            "Neuron",
            "Astrocyte",
            "Oligodendrocyte",
            "Polydendrocyte",
            "Ependyma",
            "Neuron",
            "Neuron",
            "Neuron",
            "Neuron",
            "Neuron",
            "Neurogenesis",
            "Oligodendrocyte",
            "Astrocyte",
            "Polydendrocyte",
            "Microglia_Macrophage",
            "Endothelial",
            "Mural",
            "Fibroblast-Like",
            "Neuron",
            "Oligodendrocyte",
            "Oligodendrocyte",
            "Endothelial",
            "Mural",
            "Fibroblast-Like",
            "Polydendrocyte",
            "Polydendrocyte",
            "Astrocyte",
            "Ependyma",
            "Microglia_Macrophage",
            "Ependyma",
            "Astrocyte",
            "Polydendrocyte",
            "Neuron",
            "Endothelial",
            "Mural",
            "Fibroblast-Like",
            "Microglia_Macrophage",
            "Oligodendrocyte",
            "Oligodendrocyte"
           ],
           [
            "Neuron_Habenula_Tac2 [#1]",
            "Interneurons_and_Other_Nnat [#4]",
            "Neuron_Layer5_Bcl6 [#3]",
            "Neuron_Layer5_Parm1 [#7]",
            "Neuron_Subiculum_Slc17a6 [#2]",
            "Neuron_Gad2 [#3]",
            "PurkinjeNeuron_Pcp2 [#2]",
            "Neuron_Layer23_Nptxr [#6]",
            "Neuron_Layer23_5_6_Subiculum_Calb1-Rorb-Fermt1-Tshz2-Oprk1-Crym-Sema3e [#2]",
            "RSG_Tshz2-Shisa8 [#6]",
            "Neuron_Syt1 [#4]",
            "Neuron_Gad2-Ahi1 [#3]",
            "Microglia_Macrophage_Tmem119-Mrc1 [#11]",
            "Interneuron_CGE_Cplx3-Synpr [#4]",
            "Neuron_CA1_Subiculum_Postsubiculum_Entorhinal_Fibcd1-Dcn-Cbln1-Ptgfr-Fezf2 [#5]",
            "Neuron_CA2CA3_Pvrl3-Rgs15-Calb2 [#6]",
            "Interneuron_Pvalb_Th_Pnoc [#14]",
            "Neuron_Rora [#2]",
            "Neuron_Th [#4]",
            "GranularNeuron_Gabra6 [#1]",
            "Endothelial_Flt1 [#10]",
            "Fibroblast-Like_Dcn [#11]",
            "Interneurons_Pvalb [#3]",
            "Microglia_Macrophage_C1qb [#5]",
            "Oligodendrocyte_Polydendrocyte_Tfr_Tnr [#6]",
            "BergmannGlia_Gpr37l1 [#7]",
            "Astrocyte_Gja1 [#8]",
            "Choroid_Plexus_Ttr [#9]",
            "Interneuron_CGE_Cplx3-Synpr [#1]",
            "Polydendrocyte_Tnr [#10]",
            "Microglia_Macrophage_C1qb [#11]",
            "Endothelial_Flt1 [#12]",
            "Mural_Rgs5Acta2 [#13]",
            "Fibroblast-Like_Dcn [#14]",
            "Interneuron_MGE_Sst-Pvalb [#2]",
            "Neuron_Layer6Subplate_Syt6 [#3]",
            "Neuron_Layer5b_Fezf2 [#4]",
            "Neuron_Claustrum_Nr4a2 [#5]",
            "Astrocyte_Gja1 [#8]",
            "Oligodendrocyte_Tfr [#9]",
            "Neuron_Layer6Subplate_Syt6 [#1]",
            "Polydendrocyte_Tnr [#10]",
            "Endothelial_Flt1 [#12]",
            "Mural_Rgs5Acta2 [#13]",
            "Fibroblast-Like_Dcn [#14]",
            "Interneuron_MGE_Sst-Pvalb [#5]",
            "Layer5b_Fezf2 [#7]",
            "Astrocyte_Gja1 [#8]",
            "Oligodendrocyte_Tfr [#9]",
            "Oligodendrocyte_Tfr [#1]",
            "Endothelial_Flt1 [#2]",
            "Mural_Fibroblast-Like_Rgs5Acta2-Dcn [#3]",
            "Polydendrocyte_Tnr [#5]",
            "Polydendrocyte_Cacng4 [#6]",
            "Astrocyte_Gja1 [#7]",
            "Oligodendrocyte_Mbp [#8]",
            "Neuron_Chat [#1]",
            "Oligodendrocyte_Tfr [#10]",
            "Microglia_Macrophage_C1qb [#11]",
            "Neuron_Gabra1 [#2]",
            "Neuron_Ppp1r1b [#3]",
            "Polydendrocyte_Tnr [#4]",
            "Astrocyte_Gja1 [#5]",
            "Ependyma [#6]",
            "Endothelial_Flt1 [#7]",
            "Mural_Rgs5Acta2 [#8]",
            "Fibroblast-Like_Dcn [#9]",
            "Interneuron_Gad2 [#1]",
            "Microglia_Macrophage_C1qb [#10]",
            "Ependyma [#11]",
            "Choroid_Plexus_Ttr [#12]",
            "Neurogenesis_Sox4 [#13]",
            "Neuron_CajalRetzius_Lhx1 [#14]",
            "Endothelial_Flt1 [#15]",
            "Mural_Rgs5Acta2 [#16]",
            "Fibroblast-Like_Dcn [#17]",
            "Neuron_Subiculum_Entorhinal_Nxph3 [#3]",
            "Neuron_Dentate_C1ql2 [#4]",
            "Astrocyte_Gja1 [#7]",
            "Oligodendrocyte_Tfr [#8]",
            "Polydendrocyte_Tnr [#9]",
            "Ependyma [#1]",
            "Neuron_dSPN_Drd1 [#10]",
            "Neuron_iSPN_Adora2a [#11]",
            "Interneuron_Chat [#12]",
            "Neuron_SPN_BNST_Amygdala_Otof [#13]",
            "Interneuron_Sst [#15]",
            "Neurogenesis_Sox4 [#2]",
            "Oligodendrocytes_Tfr [#3]",
            "Astrocyte_Gja1 [#4]",
            "Polydendrocytes_Tnr [#5]",
            "Microglia_Macrophage_C1qb [#6]",
            "Endothelial_Flt1 [#7]",
            "Mural_Rgs5Acta2 [#8]",
            "Fibroblast-Like_Dcn [#9]",
            "Neuron_CA3_C1ql3 [#1]",
            "Oligodendrocyte_Tfr [#10]",
            "Oligodendrocyte_Mbp [#11]",
            "Endothelial_Flt1 [#12]",
            "Mural_Rgs5Acta2 [#13]",
            "Fibroblast-Like_Dcn [#14]",
            "Polydendrocyte_Tnr [#5]",
            "Polydendrocyte_Cacng4 [#6]",
            "Astrocyte_Gja1 [#7]",
            "Ependyma [#8]",
            "Microglia_Macrophage_C1qb [#9]",
            "Ependyma [#10]",
            "Astrocyte_Gja1 [#11]",
            "Polydendrocyte_Tnr [#12]",
            "Neuron_Rora [#2]",
            "Endothelial_Flt1 [#4]",
            "Mural_Rgs5Acta2 [#5]",
            "Fibroblast-Like_Dcn [#6]",
            "Microglia_Macrophage_C1qb [#7]",
            "Oligodendrocyte_Tfr [#8]",
            "Oligodendrocyte_Mbp [#9]"
           ],
           [
            3.295836866,
            2.9444389789999996,
            1.9459101490000001,
            1.791759469,
            1.791759469,
            1.791759469,
            1.386294361,
            1.386294361,
            1.386294361,
            1.098612289,
            1.098612289,
            1.098612289,
            0.693147181,
            0.693147181,
            0.693147181,
            0.693147181,
            0.693147181,
            0.693147181,
            0.693147181,
            0,
            0,
            0,
            0,
            0,
            0,
            0,
            0,
            0,
            0,
            0,
            0,
            0,
            0,
            0,
            0,
            0,
            0,
            0,
            0,
            0,
            0,
            0,
            0,
            0,
            0,
            0,
            0,
            0,
            0,
            0,
            0,
            0,
            0,
            0,
            0,
            0,
            0,
            0,
            0,
            0,
            0,
            0,
            0,
            0,
            0,
            0,
            0,
            0,
            0,
            0,
            0,
            0,
            0,
            0,
            0,
            0,
            0,
            0,
            0,
            0,
            0,
            0,
            0,
            0,
            0,
            0,
            0,
            0,
            0,
            0,
            0,
            0,
            0,
            0,
            0,
            0,
            0,
            0,
            0,
            0,
            0,
            0,
            0,
            0,
            0,
            0,
            0,
            0,
            0,
            0,
            0,
            0,
            0,
            0,
            0,
            0
           ],
           [
            0,
            2.4999999999999993e-87,
            4.0599999999999985e-223,
            1.1099999999999994e-266,
            0,
            0,
            7.769999999999999e-25,
            0,
            8.199999999999999e-78,
            4.01e-05,
            3.629999999999999e-83,
            2.2399999999999995e-57,
            0.004445591,
            8.96e-29,
            5.3e-10,
            9.660000000000001e-45,
            1.05e-32,
            0.302467716,
            0.037188425,
            2.56e-43,
            0.191525537,
            0.411767093,
            0.000395357,
            1,
            0.123045155,
            2.96e-06,
            0.410768796,
            1,
            6.559999999999999e-55,
            2.91e-18,
            5.87e-12,
            6.170000000000001e-60,
            2.6400000000000004e-13,
            7.45e-07,
            1.1699999999999998e-53,
            5.099999999999997e-210,
            3.6299999999999995e-34,
            2.17e-22,
            3.79e-58,
            8.64e-73,
            2.169999999999999e-183,
            6.12e-10,
            3.19e-40,
            4.0300000000000004e-08,
            5.7999999999999997e-08,
            1.96e-35,
            1.5e-19,
            2.4099999999999993e-70,
            8.720000000000001e-52,
            1.57e-45,
            4.29e-05,
            0.178947716,
            0.036365742,
            1,
            0.524950843,
            0.41065907700000004,
            0.633428563,
            9.93e-16,
            0.49845442,
            9.83e-51,
            0.000205052,
            0.05619079900000001,
            0.000283421,
            1,
            0.0048026779999999995,
            0.7276900040000001,
            1,
            4.54e-28,
            0.008412397,
            9.02e-05,
            0.274601417,
            0.018411192,
            0.038097381,
            9.350000000000001e-11,
            0.000616628,
            0.143642283,
            1.85e-06,
            1.2399999999999996e-124,
            1.1299999999999998e-46,
            1.55e-15,
            4.19e-06,
            1,
            5.19e-08,
            5.27e-06,
            1,
            7.57e-07,
            1,
            1,
            0.634253631,
            0.632468925,
            1,
            1,
            1,
            1,
            1,
            0.426970959,
            4.709999999999997e-243,
            0.005541744,
            3.18e-29,
            1.15e-07,
            0.005811951,
            1.74e-05,
            0.038885138,
            2.4100000000000003e-13,
            1,
            0.056060884000000005,
            0.104945621,
            0.00025372700000000003,
            0.000379659,
            3.66e-54,
            1.48e-26,
            4.210000000000001e-05,
            0.123407647,
            0.190397625,
            2.5899999999999995e-122,
            0.282460417
           ]
          ]
         },
         "header": {
          "align": "left",
          "fill": {
           "color": "paleturquoise"
          },
          "values": [
           "Region",
           "Class",
           "Cluster",
           "Adcyap1_Amount",
           "Adcyap1_PVal"
          ]
         },
         "type": "table"
        }
       ],
       "layout": {
        "template": {
         "data": {
          "bar": [
           {
            "error_x": {
             "color": "#2a3f5f"
            },
            "error_y": {
             "color": "#2a3f5f"
            },
            "marker": {
             "line": {
              "color": "#E5ECF6",
              "width": 0.5
             }
            },
            "type": "bar"
           }
          ],
          "barpolar": [
           {
            "marker": {
             "line": {
              "color": "#E5ECF6",
              "width": 0.5
             }
            },
            "type": "barpolar"
           }
          ],
          "carpet": [
           {
            "aaxis": {
             "endlinecolor": "#2a3f5f",
             "gridcolor": "white",
             "linecolor": "white",
             "minorgridcolor": "white",
             "startlinecolor": "#2a3f5f"
            },
            "baxis": {
             "endlinecolor": "#2a3f5f",
             "gridcolor": "white",
             "linecolor": "white",
             "minorgridcolor": "white",
             "startlinecolor": "#2a3f5f"
            },
            "type": "carpet"
           }
          ],
          "choropleth": [
           {
            "colorbar": {
             "outlinewidth": 0,
             "ticks": ""
            },
            "type": "choropleth"
           }
          ],
          "contour": [
           {
            "colorbar": {
             "outlinewidth": 0,
             "ticks": ""
            },
            "colorscale": [
             [
              0,
              "#0d0887"
             ],
             [
              0.1111111111111111,
              "#46039f"
             ],
             [
              0.2222222222222222,
              "#7201a8"
             ],
             [
              0.3333333333333333,
              "#9c179e"
             ],
             [
              0.4444444444444444,
              "#bd3786"
             ],
             [
              0.5555555555555556,
              "#d8576b"
             ],
             [
              0.6666666666666666,
              "#ed7953"
             ],
             [
              0.7777777777777778,
              "#fb9f3a"
             ],
             [
              0.8888888888888888,
              "#fdca26"
             ],
             [
              1,
              "#f0f921"
             ]
            ],
            "type": "contour"
           }
          ],
          "contourcarpet": [
           {
            "colorbar": {
             "outlinewidth": 0,
             "ticks": ""
            },
            "type": "contourcarpet"
           }
          ],
          "heatmap": [
           {
            "colorbar": {
             "outlinewidth": 0,
             "ticks": ""
            },
            "colorscale": [
             [
              0,
              "#0d0887"
             ],
             [
              0.1111111111111111,
              "#46039f"
             ],
             [
              0.2222222222222222,
              "#7201a8"
             ],
             [
              0.3333333333333333,
              "#9c179e"
             ],
             [
              0.4444444444444444,
              "#bd3786"
             ],
             [
              0.5555555555555556,
              "#d8576b"
             ],
             [
              0.6666666666666666,
              "#ed7953"
             ],
             [
              0.7777777777777778,
              "#fb9f3a"
             ],
             [
              0.8888888888888888,
              "#fdca26"
             ],
             [
              1,
              "#f0f921"
             ]
            ],
            "type": "heatmap"
           }
          ],
          "heatmapgl": [
           {
            "colorbar": {
             "outlinewidth": 0,
             "ticks": ""
            },
            "colorscale": [
             [
              0,
              "#0d0887"
             ],
             [
              0.1111111111111111,
              "#46039f"
             ],
             [
              0.2222222222222222,
              "#7201a8"
             ],
             [
              0.3333333333333333,
              "#9c179e"
             ],
             [
              0.4444444444444444,
              "#bd3786"
             ],
             [
              0.5555555555555556,
              "#d8576b"
             ],
             [
              0.6666666666666666,
              "#ed7953"
             ],
             [
              0.7777777777777778,
              "#fb9f3a"
             ],
             [
              0.8888888888888888,
              "#fdca26"
             ],
             [
              1,
              "#f0f921"
             ]
            ],
            "type": "heatmapgl"
           }
          ],
          "histogram": [
           {
            "marker": {
             "colorbar": {
              "outlinewidth": 0,
              "ticks": ""
             }
            },
            "type": "histogram"
           }
          ],
          "histogram2d": [
           {
            "colorbar": {
             "outlinewidth": 0,
             "ticks": ""
            },
            "colorscale": [
             [
              0,
              "#0d0887"
             ],
             [
              0.1111111111111111,
              "#46039f"
             ],
             [
              0.2222222222222222,
              "#7201a8"
             ],
             [
              0.3333333333333333,
              "#9c179e"
             ],
             [
              0.4444444444444444,
              "#bd3786"
             ],
             [
              0.5555555555555556,
              "#d8576b"
             ],
             [
              0.6666666666666666,
              "#ed7953"
             ],
             [
              0.7777777777777778,
              "#fb9f3a"
             ],
             [
              0.8888888888888888,
              "#fdca26"
             ],
             [
              1,
              "#f0f921"
             ]
            ],
            "type": "histogram2d"
           }
          ],
          "histogram2dcontour": [
           {
            "colorbar": {
             "outlinewidth": 0,
             "ticks": ""
            },
            "colorscale": [
             [
              0,
              "#0d0887"
             ],
             [
              0.1111111111111111,
              "#46039f"
             ],
             [
              0.2222222222222222,
              "#7201a8"
             ],
             [
              0.3333333333333333,
              "#9c179e"
             ],
             [
              0.4444444444444444,
              "#bd3786"
             ],
             [
              0.5555555555555556,
              "#d8576b"
             ],
             [
              0.6666666666666666,
              "#ed7953"
             ],
             [
              0.7777777777777778,
              "#fb9f3a"
             ],
             [
              0.8888888888888888,
              "#fdca26"
             ],
             [
              1,
              "#f0f921"
             ]
            ],
            "type": "histogram2dcontour"
           }
          ],
          "mesh3d": [
           {
            "colorbar": {
             "outlinewidth": 0,
             "ticks": ""
            },
            "type": "mesh3d"
           }
          ],
          "parcoords": [
           {
            "line": {
             "colorbar": {
              "outlinewidth": 0,
              "ticks": ""
             }
            },
            "type": "parcoords"
           }
          ],
          "pie": [
           {
            "automargin": true,
            "type": "pie"
           }
          ],
          "scatter": [
           {
            "marker": {
             "colorbar": {
              "outlinewidth": 0,
              "ticks": ""
             }
            },
            "type": "scatter"
           }
          ],
          "scatter3d": [
           {
            "line": {
             "colorbar": {
              "outlinewidth": 0,
              "ticks": ""
             }
            },
            "marker": {
             "colorbar": {
              "outlinewidth": 0,
              "ticks": ""
             }
            },
            "type": "scatter3d"
           }
          ],
          "scattercarpet": [
           {
            "marker": {
             "colorbar": {
              "outlinewidth": 0,
              "ticks": ""
             }
            },
            "type": "scattercarpet"
           }
          ],
          "scattergeo": [
           {
            "marker": {
             "colorbar": {
              "outlinewidth": 0,
              "ticks": ""
             }
            },
            "type": "scattergeo"
           }
          ],
          "scattergl": [
           {
            "marker": {
             "colorbar": {
              "outlinewidth": 0,
              "ticks": ""
             }
            },
            "type": "scattergl"
           }
          ],
          "scattermapbox": [
           {
            "marker": {
             "colorbar": {
              "outlinewidth": 0,
              "ticks": ""
             }
            },
            "type": "scattermapbox"
           }
          ],
          "scatterpolar": [
           {
            "marker": {
             "colorbar": {
              "outlinewidth": 0,
              "ticks": ""
             }
            },
            "type": "scatterpolar"
           }
          ],
          "scatterpolargl": [
           {
            "marker": {
             "colorbar": {
              "outlinewidth": 0,
              "ticks": ""
             }
            },
            "type": "scatterpolargl"
           }
          ],
          "scatterternary": [
           {
            "marker": {
             "colorbar": {
              "outlinewidth": 0,
              "ticks": ""
             }
            },
            "type": "scatterternary"
           }
          ],
          "surface": [
           {
            "colorbar": {
             "outlinewidth": 0,
             "ticks": ""
            },
            "colorscale": [
             [
              0,
              "#0d0887"
             ],
             [
              0.1111111111111111,
              "#46039f"
             ],
             [
              0.2222222222222222,
              "#7201a8"
             ],
             [
              0.3333333333333333,
              "#9c179e"
             ],
             [
              0.4444444444444444,
              "#bd3786"
             ],
             [
              0.5555555555555556,
              "#d8576b"
             ],
             [
              0.6666666666666666,
              "#ed7953"
             ],
             [
              0.7777777777777778,
              "#fb9f3a"
             ],
             [
              0.8888888888888888,
              "#fdca26"
             ],
             [
              1,
              "#f0f921"
             ]
            ],
            "type": "surface"
           }
          ],
          "table": [
           {
            "cells": {
             "fill": {
              "color": "#EBF0F8"
             },
             "line": {
              "color": "white"
             }
            },
            "header": {
             "fill": {
              "color": "#C8D4E3"
             },
             "line": {
              "color": "white"
             }
            },
            "type": "table"
           }
          ]
         },
         "layout": {
          "annotationdefaults": {
           "arrowcolor": "#2a3f5f",
           "arrowhead": 0,
           "arrowwidth": 1
          },
          "coloraxis": {
           "colorbar": {
            "outlinewidth": 0,
            "ticks": ""
           }
          },
          "colorscale": {
           "diverging": [
            [
             0,
             "#8e0152"
            ],
            [
             0.1,
             "#c51b7d"
            ],
            [
             0.2,
             "#de77ae"
            ],
            [
             0.3,
             "#f1b6da"
            ],
            [
             0.4,
             "#fde0ef"
            ],
            [
             0.5,
             "#f7f7f7"
            ],
            [
             0.6,
             "#e6f5d0"
            ],
            [
             0.7,
             "#b8e186"
            ],
            [
             0.8,
             "#7fbc41"
            ],
            [
             0.9,
             "#4d9221"
            ],
            [
             1,
             "#276419"
            ]
           ],
           "sequential": [
            [
             0,
             "#0d0887"
            ],
            [
             0.1111111111111111,
             "#46039f"
            ],
            [
             0.2222222222222222,
             "#7201a8"
            ],
            [
             0.3333333333333333,
             "#9c179e"
            ],
            [
             0.4444444444444444,
             "#bd3786"
            ],
            [
             0.5555555555555556,
             "#d8576b"
            ],
            [
             0.6666666666666666,
             "#ed7953"
            ],
            [
             0.7777777777777778,
             "#fb9f3a"
            ],
            [
             0.8888888888888888,
             "#fdca26"
            ],
            [
             1,
             "#f0f921"
            ]
           ],
           "sequentialminus": [
            [
             0,
             "#0d0887"
            ],
            [
             0.1111111111111111,
             "#46039f"
            ],
            [
             0.2222222222222222,
             "#7201a8"
            ],
            [
             0.3333333333333333,
             "#9c179e"
            ],
            [
             0.4444444444444444,
             "#bd3786"
            ],
            [
             0.5555555555555556,
             "#d8576b"
            ],
            [
             0.6666666666666666,
             "#ed7953"
            ],
            [
             0.7777777777777778,
             "#fb9f3a"
            ],
            [
             0.8888888888888888,
             "#fdca26"
            ],
            [
             1,
             "#f0f921"
            ]
           ]
          },
          "colorway": [
           "#636efa",
           "#EF553B",
           "#00cc96",
           "#ab63fa",
           "#FFA15A",
           "#19d3f3",
           "#FF6692",
           "#B6E880",
           "#FF97FF",
           "#FECB52"
          ],
          "font": {
           "color": "#2a3f5f"
          },
          "geo": {
           "bgcolor": "white",
           "lakecolor": "white",
           "landcolor": "#E5ECF6",
           "showlakes": true,
           "showland": true,
           "subunitcolor": "white"
          },
          "hoverlabel": {
           "align": "left"
          },
          "hovermode": "closest",
          "mapbox": {
           "style": "light"
          },
          "paper_bgcolor": "white",
          "plot_bgcolor": "#E5ECF6",
          "polar": {
           "angularaxis": {
            "gridcolor": "white",
            "linecolor": "white",
            "ticks": ""
           },
           "bgcolor": "#E5ECF6",
           "radialaxis": {
            "gridcolor": "white",
            "linecolor": "white",
            "ticks": ""
           }
          },
          "scene": {
           "xaxis": {
            "backgroundcolor": "#E5ECF6",
            "gridcolor": "white",
            "gridwidth": 2,
            "linecolor": "white",
            "showbackground": true,
            "ticks": "",
            "zerolinecolor": "white"
           },
           "yaxis": {
            "backgroundcolor": "#E5ECF6",
            "gridcolor": "white",
            "gridwidth": 2,
            "linecolor": "white",
            "showbackground": true,
            "ticks": "",
            "zerolinecolor": "white"
           },
           "zaxis": {
            "backgroundcolor": "#E5ECF6",
            "gridcolor": "white",
            "gridwidth": 2,
            "linecolor": "white",
            "showbackground": true,
            "ticks": "",
            "zerolinecolor": "white"
           }
          },
          "shapedefaults": {
           "line": {
            "color": "#2a3f5f"
           }
          },
          "ternary": {
           "aaxis": {
            "gridcolor": "white",
            "linecolor": "white",
            "ticks": ""
           },
           "baxis": {
            "gridcolor": "white",
            "linecolor": "white",
            "ticks": ""
           },
           "bgcolor": "#E5ECF6",
           "caxis": {
            "gridcolor": "white",
            "linecolor": "white",
            "ticks": ""
           }
          },
          "title": {
           "x": 0.05
          },
          "xaxis": {
           "automargin": true,
           "gridcolor": "white",
           "linecolor": "white",
           "ticks": "",
           "title": {
            "standoff": 15
           },
           "zerolinecolor": "white",
           "zerolinewidth": 2
          },
          "yaxis": {
           "automargin": true,
           "gridcolor": "white",
           "linecolor": "white",
           "ticks": "",
           "title": {
            "standoff": 15
           },
           "zerolinecolor": "white",
           "zerolinewidth": 2
          }
         }
        }
       }
      },
      "text/html": [
       "<div>\n",
       "        \n",
       "        \n",
       "            <div id=\"dfbd7e37-9c8f-4e88-b70d-ce398afd7807\" class=\"plotly-graph-div\" style=\"height:525px; width:100%;\"></div>\n",
       "            <script type=\"text/javascript\">\n",
       "                require([\"plotly\"], function(Plotly) {\n",
       "                    window.PLOTLYENV=window.PLOTLYENV || {};\n",
       "                    \n",
       "                if (document.getElementById(\"dfbd7e37-9c8f-4e88-b70d-ce398afd7807\")) {\n",
       "                    Plotly.newPlot(\n",
       "                        'dfbd7e37-9c8f-4e88-b70d-ce398afd7807',\n",
       "                        [{\"cells\": {\"align\": \"left\", \"fill\": {\"color\": \"lavender\"}, \"values\": [[\"Thalamus\", \"Cerebellum\", \"Posterior Cortex\", \"Frontal Cortex\", \"Hippocampus\", \"Substantia Nigra\", \"Cerebellum\", \"Frontal Cortex\", \"Posterior Cortex\", \"Posterior Cortex\", \"Entopeduncular\", \"Thalamus\", \"Posterior Cortex\", \"Posterior Cortex\", \"Hippocampus\", \"Hippocampus\", \"Striatum\", \"Substantia Nigra\", \"Substantia Nigra\", \"Cerebellum\", \"Cerebellum\", \"Cerebellum\", \"Cerebellum\", \"Cerebellum\", \"Cerebellum\", \"Cerebellum\", \"Cerebellum\", \"Cerebellum\", \"Frontal Cortex\", \"Frontal Cortex\", \"Frontal Cortex\", \"Frontal Cortex\", \"Frontal Cortex\", \"Frontal Cortex\", \"Frontal Cortex\", \"Frontal Cortex\", \"Frontal Cortex\", \"Frontal Cortex\", \"Frontal Cortex\", \"Frontal Cortex\", \"Posterior Cortex\", \"Posterior Cortex\", \"Posterior Cortex\", \"Posterior Cortex\", \"Posterior Cortex\", \"Posterior Cortex\", \"Posterior Cortex\", \"Posterior Cortex\", \"Posterior Cortex\", \"Entopeduncular\", \"Entopeduncular\", \"Entopeduncular\", \"Entopeduncular\", \"Entopeduncular\", \"Entopeduncular\", \"Entopeduncular\", \"Globus Pallidus\", \"Globus Pallidus\", \"Globus Pallidus\", \"Globus Pallidus\", \"Globus Pallidus\", \"Globus Pallidus\", \"Globus Pallidus\", \"Globus Pallidus\", \"Globus Pallidus\", \"Globus Pallidus\", \"Globus Pallidus\", \"Hippocampus\", \"Hippocampus\", \"Hippocampus\", \"Hippocampus\", \"Hippocampus\", \"Hippocampus\", \"Hippocampus\", \"Hippocampus\", \"Hippocampus\", \"Hippocampus\", \"Hippocampus\", \"Hippocampus\", \"Hippocampus\", \"Hippocampus\", \"Striatum\", \"Striatum\", \"Striatum\", \"Striatum\", \"Striatum\", \"Striatum\", \"Striatum\", \"Striatum\", \"Striatum\", \"Striatum\", \"Striatum\", \"Striatum\", \"Striatum\", \"Striatum\", \"Substantia Nigra\", \"Substantia Nigra\", \"Substantia Nigra\", \"Substantia Nigra\", \"Substantia Nigra\", \"Substantia Nigra\", \"Substantia Nigra\", \"Substantia Nigra\", \"Substantia Nigra\", \"Substantia Nigra\", \"Substantia Nigra\", \"Thalamus\", \"Thalamus\", \"Thalamus\", \"Thalamus\", \"Thalamus\", \"Thalamus\", \"Thalamus\", \"Thalamus\", \"Thalamus\", \"Thalamus\"], [\"Neuron\", \"Neuron\", \"Neuron\", \"Neuron\", \"Neuron\", \"Neuron\", \"Neuron\", \"Neuron\", \"Neuron\", \"Neuron\", \"Neuron\", \"Neuron\", \"Microglia_Macrophage\", \"Neuron\", \"Neuron\", \"Neuron\", \"Neuron\", \"Neuron\", \"Neuron\", \"Neuron\", \"Endothelial\", \"Fibroblast-Like\", \"Neuron\", \"Microglia_Macrophage\", \"Oligodendrocyte_Polydendrocyte\", \"Astrocyte\", \"Astrocyte\", \"Choroid_Plexus\", \"Neuron\", \"Polydendrocyte\", \"Microglia_Macrophage\", \"Endothelial\", \"Mural\", \"Fibroblast-Like\", \"Neuron\", \"Neuron\", \"Neuron\", \"Neuron\", \"Astrocyte\", \"Oligodendrocyte\", \"Neuron\", \"Polydendrocyte\", \"Endothelial\", \"Mural\", \"Fibroblast-Like\", \"Neuron\", \"Neuron\", \"Astrocyte\", \"Oligodendrocyte\", \"Oligodendrocyte\", \"Endothelial\", \"Mural_Fibroblast-Like\", \"Polydendrocyte\", \"Polydendrocyte\", \"Astrocyte\", \"Oligodendrocyte\", \"Neuron\", \"Oligodendrocyte\", \"Microglia_Macrophage\", \"Neuron\", \"Neuron\", \"Polydendrocyte\", \"Astrocyte\", \"Ependyma\", \"Endothelial\", \"Mural\", \"Fibroblast-Like\", \"Neuron\", \"Microglia_Macrophage\", \"Ependyma\", \"Choroid_Plexus\", \"Neurogenesis\", \"Neuron\", \"Endothelial\", \"Mural\", \"Fibroblast-Like\", \"Neuron\", \"Neuron\", \"Astrocyte\", \"Oligodendrocyte\", \"Polydendrocyte\", \"Ependyma\", \"Neuron\", \"Neuron\", \"Neuron\", \"Neuron\", \"Neuron\", \"Neurogenesis\", \"Oligodendrocyte\", \"Astrocyte\", \"Polydendrocyte\", \"Microglia_Macrophage\", \"Endothelial\", \"Mural\", \"Fibroblast-Like\", \"Neuron\", \"Oligodendrocyte\", \"Oligodendrocyte\", \"Endothelial\", \"Mural\", \"Fibroblast-Like\", \"Polydendrocyte\", \"Polydendrocyte\", \"Astrocyte\", \"Ependyma\", \"Microglia_Macrophage\", \"Ependyma\", \"Astrocyte\", \"Polydendrocyte\", \"Neuron\", \"Endothelial\", \"Mural\", \"Fibroblast-Like\", \"Microglia_Macrophage\", \"Oligodendrocyte\", \"Oligodendrocyte\"], [\"Neuron_Habenula_Tac2 [#1]\", \"Interneurons_and_Other_Nnat [#4]\", \"Neuron_Layer5_Bcl6 [#3]\", \"Neuron_Layer5_Parm1 [#7]\", \"Neuron_Subiculum_Slc17a6 [#2]\", \"Neuron_Gad2 [#3]\", \"PurkinjeNeuron_Pcp2 [#2]\", \"Neuron_Layer23_Nptxr [#6]\", \"Neuron_Layer23_5_6_Subiculum_Calb1-Rorb-Fermt1-Tshz2-Oprk1-Crym-Sema3e [#2]\", \"RSG_Tshz2-Shisa8 [#6]\", \"Neuron_Syt1 [#4]\", \"Neuron_Gad2-Ahi1 [#3]\", \"Microglia_Macrophage_Tmem119-Mrc1 [#11]\", \"Interneuron_CGE_Cplx3-Synpr [#4]\", \"Neuron_CA1_Subiculum_Postsubiculum_Entorhinal_Fibcd1-Dcn-Cbln1-Ptgfr-Fezf2 [#5]\", \"Neuron_CA2CA3_Pvrl3-Rgs15-Calb2 [#6]\", \"Interneuron_Pvalb_Th_Pnoc [#14]\", \"Neuron_Rora [#2]\", \"Neuron_Th [#4]\", \"GranularNeuron_Gabra6 [#1]\", \"Endothelial_Flt1 [#10]\", \"Fibroblast-Like_Dcn [#11]\", \"Interneurons_Pvalb [#3]\", \"Microglia_Macrophage_C1qb [#5]\", \"Oligodendrocyte_Polydendrocyte_Tfr_Tnr [#6]\", \"BergmannGlia_Gpr37l1 [#7]\", \"Astrocyte_Gja1 [#8]\", \"Choroid_Plexus_Ttr [#9]\", \"Interneuron_CGE_Cplx3-Synpr [#1]\", \"Polydendrocyte_Tnr [#10]\", \"Microglia_Macrophage_C1qb [#11]\", \"Endothelial_Flt1 [#12]\", \"Mural_Rgs5Acta2 [#13]\", \"Fibroblast-Like_Dcn [#14]\", \"Interneuron_MGE_Sst-Pvalb [#2]\", \"Neuron_Layer6Subplate_Syt6 [#3]\", \"Neuron_Layer5b_Fezf2 [#4]\", \"Neuron_Claustrum_Nr4a2 [#5]\", \"Astrocyte_Gja1 [#8]\", \"Oligodendrocyte_Tfr [#9]\", \"Neuron_Layer6Subplate_Syt6 [#1]\", \"Polydendrocyte_Tnr [#10]\", \"Endothelial_Flt1 [#12]\", \"Mural_Rgs5Acta2 [#13]\", \"Fibroblast-Like_Dcn [#14]\", \"Interneuron_MGE_Sst-Pvalb [#5]\", \"Layer5b_Fezf2 [#7]\", \"Astrocyte_Gja1 [#8]\", \"Oligodendrocyte_Tfr [#9]\", \"Oligodendrocyte_Tfr [#1]\", \"Endothelial_Flt1 [#2]\", \"Mural_Fibroblast-Like_Rgs5Acta2-Dcn [#3]\", \"Polydendrocyte_Tnr [#5]\", \"Polydendrocyte_Cacng4 [#6]\", \"Astrocyte_Gja1 [#7]\", \"Oligodendrocyte_Mbp [#8]\", \"Neuron_Chat [#1]\", \"Oligodendrocyte_Tfr [#10]\", \"Microglia_Macrophage_C1qb [#11]\", \"Neuron_Gabra1 [#2]\", \"Neuron_Ppp1r1b [#3]\", \"Polydendrocyte_Tnr [#4]\", \"Astrocyte_Gja1 [#5]\", \"Ependyma [#6]\", \"Endothelial_Flt1 [#7]\", \"Mural_Rgs5Acta2 [#8]\", \"Fibroblast-Like_Dcn [#9]\", \"Interneuron_Gad2 [#1]\", \"Microglia_Macrophage_C1qb [#10]\", \"Ependyma [#11]\", \"Choroid_Plexus_Ttr [#12]\", \"Neurogenesis_Sox4 [#13]\", \"Neuron_CajalRetzius_Lhx1 [#14]\", \"Endothelial_Flt1 [#15]\", \"Mural_Rgs5Acta2 [#16]\", \"Fibroblast-Like_Dcn [#17]\", \"Neuron_Subiculum_Entorhinal_Nxph3 [#3]\", \"Neuron_Dentate_C1ql2 [#4]\", \"Astrocyte_Gja1 [#7]\", \"Oligodendrocyte_Tfr [#8]\", \"Polydendrocyte_Tnr [#9]\", \"Ependyma [#1]\", \"Neuron_dSPN_Drd1 [#10]\", \"Neuron_iSPN_Adora2a [#11]\", \"Interneuron_Chat [#12]\", \"Neuron_SPN_BNST_Amygdala_Otof [#13]\", \"Interneuron_Sst [#15]\", \"Neurogenesis_Sox4 [#2]\", \"Oligodendrocytes_Tfr [#3]\", \"Astrocyte_Gja1 [#4]\", \"Polydendrocytes_Tnr [#5]\", \"Microglia_Macrophage_C1qb [#6]\", \"Endothelial_Flt1 [#7]\", \"Mural_Rgs5Acta2 [#8]\", \"Fibroblast-Like_Dcn [#9]\", \"Neuron_CA3_C1ql3 [#1]\", \"Oligodendrocyte_Tfr [#10]\", \"Oligodendrocyte_Mbp [#11]\", \"Endothelial_Flt1 [#12]\", \"Mural_Rgs5Acta2 [#13]\", \"Fibroblast-Like_Dcn [#14]\", \"Polydendrocyte_Tnr [#5]\", \"Polydendrocyte_Cacng4 [#6]\", \"Astrocyte_Gja1 [#7]\", \"Ependyma [#8]\", \"Microglia_Macrophage_C1qb [#9]\", \"Ependyma [#10]\", \"Astrocyte_Gja1 [#11]\", \"Polydendrocyte_Tnr [#12]\", \"Neuron_Rora [#2]\", \"Endothelial_Flt1 [#4]\", \"Mural_Rgs5Acta2 [#5]\", \"Fibroblast-Like_Dcn [#6]\", \"Microglia_Macrophage_C1qb [#7]\", \"Oligodendrocyte_Tfr [#8]\", \"Oligodendrocyte_Mbp [#9]\"], [3.295836866, 2.9444389789999996, 1.9459101490000001, 1.791759469, 1.791759469, 1.791759469, 1.386294361, 1.386294361, 1.386294361, 1.098612289, 1.098612289, 1.098612289, 0.693147181, 0.693147181, 0.693147181, 0.693147181, 0.693147181, 0.693147181, 0.693147181, 0.0, 0.0, 0.0, 0.0, 0.0, 0.0, 0.0, 0.0, 0.0, 0.0, 0.0, 0.0, 0.0, 0.0, 0.0, 0.0, 0.0, 0.0, 0.0, 0.0, 0.0, 0.0, 0.0, 0.0, 0.0, 0.0, 0.0, 0.0, 0.0, 0.0, 0.0, 0.0, 0.0, 0.0, 0.0, 0.0, 0.0, 0.0, 0.0, 0.0, 0.0, 0.0, 0.0, 0.0, 0.0, 0.0, 0.0, 0.0, 0.0, 0.0, 0.0, 0.0, 0.0, 0.0, 0.0, 0.0, 0.0, 0.0, 0.0, 0.0, 0.0, 0.0, 0.0, 0.0, 0.0, 0.0, 0.0, 0.0, 0.0, 0.0, 0.0, 0.0, 0.0, 0.0, 0.0, 0.0, 0.0, 0.0, 0.0, 0.0, 0.0, 0.0, 0.0, 0.0, 0.0, 0.0, 0.0, 0.0, 0.0, 0.0, 0.0, 0.0, 0.0, 0.0, 0.0, 0.0, 0.0], [0.0, 2.4999999999999993e-87, 4.0599999999999985e-223, 1.1099999999999994e-266, 0.0, 0.0, 7.769999999999999e-25, 0.0, 8.199999999999999e-78, 4.01e-05, 3.629999999999999e-83, 2.2399999999999995e-57, 0.004445591, 8.96e-29, 5.3e-10, 9.660000000000001e-45, 1.05e-32, 0.302467716, 0.037188425, 2.56e-43, 0.191525537, 0.411767093, 0.000395357, 1.0, 0.123045155, 2.96e-06, 0.410768796, 1.0, 6.559999999999999e-55, 2.91e-18, 5.87e-12, 6.170000000000001e-60, 2.6400000000000004e-13, 7.45e-07, 1.1699999999999998e-53, 5.099999999999997e-210, 3.6299999999999995e-34, 2.17e-22, 3.79e-58, 8.64e-73, 2.169999999999999e-183, 6.12e-10, 3.19e-40, 4.0300000000000004e-08, 5.7999999999999997e-08, 1.96e-35, 1.5e-19, 2.4099999999999993e-70, 8.720000000000001e-52, 1.57e-45, 4.29e-05, 0.178947716, 0.036365742, 1.0, 0.524950843, 0.41065907700000004, 0.633428563, 9.93e-16, 0.49845442, 9.83e-51, 0.000205052, 0.05619079900000001, 0.000283421, 1.0, 0.0048026779999999995, 0.7276900040000001, 1.0, 4.54e-28, 0.008412397, 9.02e-05, 0.274601417, 0.018411192, 0.038097381, 9.350000000000001e-11, 0.000616628, 0.143642283, 1.85e-06, 1.2399999999999996e-124, 1.1299999999999998e-46, 1.55e-15, 4.19e-06, 1.0, 5.19e-08, 5.27e-06, 1.0, 7.57e-07, 1.0, 1.0, 0.634253631, 0.632468925, 1.0, 1.0, 1.0, 1.0, 1.0, 0.426970959, 4.709999999999997e-243, 0.005541744, 3.18e-29, 1.15e-07, 0.005811951, 1.74e-05, 0.038885138, 2.4100000000000003e-13, 1.0, 0.056060884000000005, 0.104945621, 0.00025372700000000003, 0.000379659, 3.66e-54, 1.48e-26, 4.210000000000001e-05, 0.123407647, 0.190397625, 2.5899999999999995e-122, 0.282460417]]}, \"header\": {\"align\": \"left\", \"fill\": {\"color\": \"paleturquoise\"}, \"values\": [\"Region\", \"Class\", \"Cluster\", \"Adcyap1_Amount\", \"Adcyap1_PVal\"]}, \"type\": \"table\"}],\n",
       "                        {\"template\": {\"data\": {\"bar\": [{\"error_x\": {\"color\": \"#2a3f5f\"}, \"error_y\": {\"color\": \"#2a3f5f\"}, \"marker\": {\"line\": {\"color\": \"#E5ECF6\", \"width\": 0.5}}, \"type\": \"bar\"}], \"barpolar\": [{\"marker\": {\"line\": {\"color\": \"#E5ECF6\", \"width\": 0.5}}, \"type\": \"barpolar\"}], \"carpet\": [{\"aaxis\": {\"endlinecolor\": \"#2a3f5f\", \"gridcolor\": \"white\", \"linecolor\": \"white\", \"minorgridcolor\": \"white\", \"startlinecolor\": \"#2a3f5f\"}, \"baxis\": {\"endlinecolor\": \"#2a3f5f\", \"gridcolor\": \"white\", \"linecolor\": \"white\", \"minorgridcolor\": \"white\", \"startlinecolor\": \"#2a3f5f\"}, \"type\": \"carpet\"}], \"choropleth\": [{\"colorbar\": {\"outlinewidth\": 0, \"ticks\": \"\"}, \"type\": \"choropleth\"}], \"contour\": [{\"colorbar\": {\"outlinewidth\": 0, \"ticks\": \"\"}, \"colorscale\": [[0.0, \"#0d0887\"], [0.1111111111111111, \"#46039f\"], [0.2222222222222222, \"#7201a8\"], [0.3333333333333333, \"#9c179e\"], [0.4444444444444444, \"#bd3786\"], [0.5555555555555556, \"#d8576b\"], [0.6666666666666666, \"#ed7953\"], [0.7777777777777778, \"#fb9f3a\"], [0.8888888888888888, \"#fdca26\"], [1.0, \"#f0f921\"]], \"type\": \"contour\"}], \"contourcarpet\": [{\"colorbar\": {\"outlinewidth\": 0, \"ticks\": \"\"}, \"type\": \"contourcarpet\"}], \"heatmap\": [{\"colorbar\": {\"outlinewidth\": 0, \"ticks\": \"\"}, \"colorscale\": [[0.0, \"#0d0887\"], [0.1111111111111111, \"#46039f\"], [0.2222222222222222, \"#7201a8\"], [0.3333333333333333, \"#9c179e\"], [0.4444444444444444, \"#bd3786\"], [0.5555555555555556, \"#d8576b\"], [0.6666666666666666, \"#ed7953\"], [0.7777777777777778, \"#fb9f3a\"], [0.8888888888888888, \"#fdca26\"], [1.0, \"#f0f921\"]], \"type\": \"heatmap\"}], \"heatmapgl\": [{\"colorbar\": {\"outlinewidth\": 0, \"ticks\": \"\"}, \"colorscale\": [[0.0, \"#0d0887\"], [0.1111111111111111, \"#46039f\"], [0.2222222222222222, \"#7201a8\"], [0.3333333333333333, \"#9c179e\"], [0.4444444444444444, \"#bd3786\"], [0.5555555555555556, \"#d8576b\"], [0.6666666666666666, \"#ed7953\"], [0.7777777777777778, \"#fb9f3a\"], [0.8888888888888888, \"#fdca26\"], [1.0, \"#f0f921\"]], \"type\": \"heatmapgl\"}], \"histogram\": [{\"marker\": {\"colorbar\": {\"outlinewidth\": 0, \"ticks\": \"\"}}, \"type\": \"histogram\"}], \"histogram2d\": [{\"colorbar\": {\"outlinewidth\": 0, \"ticks\": \"\"}, \"colorscale\": [[0.0, \"#0d0887\"], [0.1111111111111111, \"#46039f\"], [0.2222222222222222, \"#7201a8\"], [0.3333333333333333, \"#9c179e\"], [0.4444444444444444, \"#bd3786\"], [0.5555555555555556, \"#d8576b\"], [0.6666666666666666, \"#ed7953\"], [0.7777777777777778, \"#fb9f3a\"], [0.8888888888888888, \"#fdca26\"], [1.0, \"#f0f921\"]], \"type\": \"histogram2d\"}], \"histogram2dcontour\": [{\"colorbar\": {\"outlinewidth\": 0, \"ticks\": \"\"}, \"colorscale\": [[0.0, \"#0d0887\"], [0.1111111111111111, \"#46039f\"], [0.2222222222222222, \"#7201a8\"], [0.3333333333333333, \"#9c179e\"], [0.4444444444444444, \"#bd3786\"], [0.5555555555555556, \"#d8576b\"], [0.6666666666666666, \"#ed7953\"], [0.7777777777777778, \"#fb9f3a\"], [0.8888888888888888, \"#fdca26\"], [1.0, \"#f0f921\"]], \"type\": \"histogram2dcontour\"}], \"mesh3d\": [{\"colorbar\": {\"outlinewidth\": 0, \"ticks\": \"\"}, \"type\": \"mesh3d\"}], \"parcoords\": [{\"line\": {\"colorbar\": {\"outlinewidth\": 0, \"ticks\": \"\"}}, \"type\": \"parcoords\"}], \"pie\": [{\"automargin\": true, \"type\": \"pie\"}], \"scatter\": [{\"marker\": {\"colorbar\": {\"outlinewidth\": 0, \"ticks\": \"\"}}, \"type\": \"scatter\"}], \"scatter3d\": [{\"line\": {\"colorbar\": {\"outlinewidth\": 0, \"ticks\": \"\"}}, \"marker\": {\"colorbar\": {\"outlinewidth\": 0, \"ticks\": \"\"}}, \"type\": \"scatter3d\"}], \"scattercarpet\": [{\"marker\": {\"colorbar\": {\"outlinewidth\": 0, \"ticks\": \"\"}}, \"type\": \"scattercarpet\"}], \"scattergeo\": [{\"marker\": {\"colorbar\": {\"outlinewidth\": 0, \"ticks\": \"\"}}, \"type\": \"scattergeo\"}], \"scattergl\": [{\"marker\": {\"colorbar\": {\"outlinewidth\": 0, \"ticks\": \"\"}}, \"type\": \"scattergl\"}], \"scattermapbox\": [{\"marker\": {\"colorbar\": {\"outlinewidth\": 0, \"ticks\": \"\"}}, \"type\": \"scattermapbox\"}], \"scatterpolar\": [{\"marker\": {\"colorbar\": {\"outlinewidth\": 0, \"ticks\": \"\"}}, \"type\": \"scatterpolar\"}], \"scatterpolargl\": [{\"marker\": {\"colorbar\": {\"outlinewidth\": 0, \"ticks\": \"\"}}, \"type\": \"scatterpolargl\"}], \"scatterternary\": [{\"marker\": {\"colorbar\": {\"outlinewidth\": 0, \"ticks\": \"\"}}, \"type\": \"scatterternary\"}], \"surface\": [{\"colorbar\": {\"outlinewidth\": 0, \"ticks\": \"\"}, \"colorscale\": [[0.0, \"#0d0887\"], [0.1111111111111111, \"#46039f\"], [0.2222222222222222, \"#7201a8\"], [0.3333333333333333, \"#9c179e\"], [0.4444444444444444, \"#bd3786\"], [0.5555555555555556, \"#d8576b\"], [0.6666666666666666, \"#ed7953\"], [0.7777777777777778, \"#fb9f3a\"], [0.8888888888888888, \"#fdca26\"], [1.0, \"#f0f921\"]], \"type\": \"surface\"}], \"table\": [{\"cells\": {\"fill\": {\"color\": \"#EBF0F8\"}, \"line\": {\"color\": \"white\"}}, \"header\": {\"fill\": {\"color\": \"#C8D4E3\"}, \"line\": {\"color\": \"white\"}}, \"type\": \"table\"}]}, \"layout\": {\"annotationdefaults\": {\"arrowcolor\": \"#2a3f5f\", \"arrowhead\": 0, \"arrowwidth\": 1}, \"coloraxis\": {\"colorbar\": {\"outlinewidth\": 0, \"ticks\": \"\"}}, \"colorscale\": {\"diverging\": [[0, \"#8e0152\"], [0.1, \"#c51b7d\"], [0.2, \"#de77ae\"], [0.3, \"#f1b6da\"], [0.4, \"#fde0ef\"], [0.5, \"#f7f7f7\"], [0.6, \"#e6f5d0\"], [0.7, \"#b8e186\"], [0.8, \"#7fbc41\"], [0.9, \"#4d9221\"], [1, \"#276419\"]], \"sequential\": [[0.0, \"#0d0887\"], [0.1111111111111111, \"#46039f\"], [0.2222222222222222, \"#7201a8\"], [0.3333333333333333, \"#9c179e\"], [0.4444444444444444, \"#bd3786\"], [0.5555555555555556, \"#d8576b\"], [0.6666666666666666, \"#ed7953\"], [0.7777777777777778, \"#fb9f3a\"], [0.8888888888888888, \"#fdca26\"], [1.0, \"#f0f921\"]], \"sequentialminus\": [[0.0, \"#0d0887\"], [0.1111111111111111, \"#46039f\"], [0.2222222222222222, \"#7201a8\"], [0.3333333333333333, \"#9c179e\"], [0.4444444444444444, \"#bd3786\"], [0.5555555555555556, \"#d8576b\"], [0.6666666666666666, \"#ed7953\"], [0.7777777777777778, \"#fb9f3a\"], [0.8888888888888888, \"#fdca26\"], [1.0, \"#f0f921\"]]}, \"colorway\": [\"#636efa\", \"#EF553B\", \"#00cc96\", \"#ab63fa\", \"#FFA15A\", \"#19d3f3\", \"#FF6692\", \"#B6E880\", \"#FF97FF\", \"#FECB52\"], \"font\": {\"color\": \"#2a3f5f\"}, \"geo\": {\"bgcolor\": \"white\", \"lakecolor\": \"white\", \"landcolor\": \"#E5ECF6\", \"showlakes\": true, \"showland\": true, \"subunitcolor\": \"white\"}, \"hoverlabel\": {\"align\": \"left\"}, \"hovermode\": \"closest\", \"mapbox\": {\"style\": \"light\"}, \"paper_bgcolor\": \"white\", \"plot_bgcolor\": \"#E5ECF6\", \"polar\": {\"angularaxis\": {\"gridcolor\": \"white\", \"linecolor\": \"white\", \"ticks\": \"\"}, \"bgcolor\": \"#E5ECF6\", \"radialaxis\": {\"gridcolor\": \"white\", \"linecolor\": \"white\", \"ticks\": \"\"}}, \"scene\": {\"xaxis\": {\"backgroundcolor\": \"#E5ECF6\", \"gridcolor\": \"white\", \"gridwidth\": 2, \"linecolor\": \"white\", \"showbackground\": true, \"ticks\": \"\", \"zerolinecolor\": \"white\"}, \"yaxis\": {\"backgroundcolor\": \"#E5ECF6\", \"gridcolor\": \"white\", \"gridwidth\": 2, \"linecolor\": \"white\", \"showbackground\": true, \"ticks\": \"\", \"zerolinecolor\": \"white\"}, \"zaxis\": {\"backgroundcolor\": \"#E5ECF6\", \"gridcolor\": \"white\", \"gridwidth\": 2, \"linecolor\": \"white\", \"showbackground\": true, \"ticks\": \"\", \"zerolinecolor\": \"white\"}}, \"shapedefaults\": {\"line\": {\"color\": \"#2a3f5f\"}}, \"ternary\": {\"aaxis\": {\"gridcolor\": \"white\", \"linecolor\": \"white\", \"ticks\": \"\"}, \"baxis\": {\"gridcolor\": \"white\", \"linecolor\": \"white\", \"ticks\": \"\"}, \"bgcolor\": \"#E5ECF6\", \"caxis\": {\"gridcolor\": \"white\", \"linecolor\": \"white\", \"ticks\": \"\"}}, \"title\": {\"x\": 0.05}, \"xaxis\": {\"automargin\": true, \"gridcolor\": \"white\", \"linecolor\": \"white\", \"ticks\": \"\", \"title\": {\"standoff\": 15}, \"zerolinecolor\": \"white\", \"zerolinewidth\": 2}, \"yaxis\": {\"automargin\": true, \"gridcolor\": \"white\", \"linecolor\": \"white\", \"ticks\": \"\", \"title\": {\"standoff\": 15}, \"zerolinecolor\": \"white\", \"zerolinewidth\": 2}}}},\n",
       "                        {\"responsive\": true}\n",
       "                    ).then(function(){\n",
       "                            \n",
       "var gd = document.getElementById('dfbd7e37-9c8f-4e88-b70d-ce398afd7807');\n",
       "var x = new MutationObserver(function (mutations, observer) {{\n",
       "        var display = window.getComputedStyle(gd).display;\n",
       "        if (!display || display === 'none') {{\n",
       "            console.log([gd, 'removed!']);\n",
       "            Plotly.purge(gd);\n",
       "            observer.disconnect();\n",
       "        }}\n",
       "}});\n",
       "\n",
       "// Listen for the removal of the full notebook cells\n",
       "var notebookContainer = gd.closest('#notebook-container');\n",
       "if (notebookContainer) {{\n",
       "    x.observe(notebookContainer, {childList: true});\n",
       "}}\n",
       "\n",
       "// Listen for the clearing of the current output cell\n",
       "var outputEl = gd.closest('.output');\n",
       "if (outputEl) {{\n",
       "    x.observe(outputEl, {childList: true});\n",
       "}}\n",
       "\n",
       "                        })\n",
       "                };\n",
       "                });\n",
       "            </script>\n",
       "        </div>"
      ]
     },
     "metadata": {},
     "output_type": "display_data"
    }
   ],
   "source": [
    "import plotly.graph_objects as go\n",
    "fig = px.bar(data, x=\"Class\", y=\"Adcyap1_Amount\", color = \"Class\", \n",
    "                    facet_row = \"Region\",\n",
    "                     width=1200, height=2100,\n",
    "                    hover_name = \"Cluster\",\n",
    "                    hover_data = [\"Class\", \"Cluster\", \"Adcyap1_Amount\", \"Adcyap1_PVal\"]\n",
    "                    )\n",
    "for a in fig.layout.annotations:\n",
    "    a.text = a.text.split(\"=\")[1]\n",
    "fig.update_yaxes(title_text='')\n",
    "fig.show()\n",
    "\n",
    "            ## print table\n",
    "fig2 = go.Figure(data=[go.Table(\n",
    "header=dict(values=list(data.columns),\n",
    "                    fill_color='paleturquoise',\n",
    "                    align='left'),\n",
    "cells=dict(values=[data.Region,data.Class, data.Cluster, data.Adcyap1_Amount,\n",
    "                              data.Adcyap1_PVal],\n",
    "                    fill_color='lavender',\n",
    "                    align='left'))\n",
    "                ])\n",
    "fig2.show()"
   ]
  },
  {
   "cell_type": "code",
   "execution_count": null,
   "metadata": {},
   "outputs": [],
   "source": []
  }
 ],
 "metadata": {
  "kernelspec": {
   "display_name": "Python 3",
   "language": "python",
   "name": "python3"
  },
  "language_info": {
   "codemirror_mode": {
    "name": "ipython",
    "version": 3
   },
   "file_extension": ".py",
   "mimetype": "text/x-python",
   "name": "python",
   "nbconvert_exporter": "python",
   "pygments_lexer": "ipython3",
   "version": "3.8.3"
  }
 },
 "nbformat": 4,
 "nbformat_minor": 4
}
