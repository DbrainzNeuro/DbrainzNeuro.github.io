{
 "cells": [
  {
   "cell_type": "code",
   "execution_count": 6,
   "metadata": {},
   "outputs": [],
   "source": [
    "import pandas as pd\n",
    "\n",
    "import plotly.express as px\n",
    "\n",
    "data = pd.read_csv(r\"C:\\Users\\bakalarda\\OneDrive - National Institutes of Health\\Saunders 2018\\clustersAdcyap1r1.csv\")"
   ]
  },
  {
   "cell_type": "code",
   "execution_count": 7,
   "metadata": {},
   "outputs": [],
   "source": [
    "data.columns = ['Region','Class','Cluster','Adcyap1r1_Amount','Adcyap1r1_PVal']"
   ]
  },
  {
   "cell_type": "code",
   "execution_count": 10,
   "metadata": {
    "scrolled": false
   },
   "outputs": [
    {
     "data": {
      "application/vnd.plotly.v1+json": {
       "config": {
        "plotlyServerURL": "https://plot.ly"
       },
       "data": [
        {
         "alignmentgroup": "True",
         "customdata": [
          [
           "Astrocyte",
           "Astrocyte_Gja1 [#5]",
           3.7841896339182597,
           0
          ]
         ],
         "hovertemplate": "<b>%{hovertext}</b><br><br>Class=%{customdata[0]}<br>Region=Globus Pallidus<br>Adcyap1r1_Amount=%{customdata[2]}<br>Cluster=%{customdata[1]}<br>Adcyap1r1_PVal=%{customdata[3]}<extra></extra>",
         "hovertext": [
          "Astrocyte_Gja1 [#5]"
         ],
         "legendgroup": "Astrocyte",
         "marker": {
          "color": "#636efa"
         },
         "name": "Astrocyte",
         "offsetgroup": "Astrocyte",
         "orientation": "v",
         "showlegend": true,
         "textposition": "auto",
         "type": "bar",
         "x": [
          "Astrocyte"
         ],
         "xaxis": "x9",
         "y": [
          3.7841896339182597
         ],
         "yaxis": "y9"
        },
        {
         "alignmentgroup": "True",
         "customdata": [
          [
           "Astrocyte",
           "Astrocyte_Gja1 [#7]",
           3.61091791264422,
           0
          ]
         ],
         "hovertemplate": "<b>%{hovertext}</b><br><br>Class=%{customdata[0]}<br>Region=Substantia Nigra<br>Adcyap1r1_Amount=%{customdata[2]}<br>Cluster=%{customdata[1]}<br>Adcyap1r1_PVal=%{customdata[3]}<extra></extra>",
         "hovertext": [
          "Astrocyte_Gja1 [#7]"
         ],
         "legendgroup": "Astrocyte",
         "marker": {
          "color": "#636efa"
         },
         "name": "Astrocyte",
         "offsetgroup": "Astrocyte",
         "orientation": "v",
         "showlegend": false,
         "textposition": "auto",
         "type": "bar",
         "x": [
          "Astrocyte"
         ],
         "xaxis": "x8",
         "y": [
          3.61091791264422
         ],
         "yaxis": "y8"
        },
        {
         "alignmentgroup": "True",
         "customdata": [
          [
           "Astrocyte",
           "Astrocyte_Gja1 [#7]",
           3.49650756146648,
           2.963359431103179e-137
          ]
         ],
         "hovertemplate": "<b>%{hovertext}</b><br><br>Class=%{customdata[0]}<br>Region=Entopeduncular<br>Adcyap1r1_Amount=%{customdata[2]}<br>Cluster=%{customdata[1]}<br>Adcyap1r1_PVal=%{customdata[3]}<extra></extra>",
         "hovertext": [
          "Astrocyte_Gja1 [#7]"
         ],
         "legendgroup": "Astrocyte",
         "marker": {
          "color": "#636efa"
         },
         "name": "Astrocyte",
         "offsetgroup": "Astrocyte",
         "orientation": "v",
         "showlegend": false,
         "textposition": "auto",
         "type": "bar",
         "x": [
          "Astrocyte"
         ],
         "xaxis": "x7",
         "y": [
          3.49650756146648
         ],
         "yaxis": "y7"
        },
        {
         "alignmentgroup": "True",
         "customdata": [
          [
           "Astrocyte",
           "Astrocyte_Gja1 [#11]",
           3.49650756146648,
           0
          ]
         ],
         "hovertemplate": "<b>%{hovertext}</b><br><br>Class=%{customdata[0]}<br>Region=Thalamus<br>Adcyap1r1_Amount=%{customdata[2]}<br>Cluster=%{customdata[1]}<br>Adcyap1r1_PVal=%{customdata[3]}<extra></extra>",
         "hovertext": [
          "Astrocyte_Gja1 [#11]"
         ],
         "legendgroup": "Astrocyte",
         "marker": {
          "color": "#636efa"
         },
         "name": "Astrocyte",
         "offsetgroup": "Astrocyte",
         "orientation": "v",
         "showlegend": false,
         "textposition": "auto",
         "type": "bar",
         "x": [
          "Astrocyte"
         ],
         "xaxis": "x6",
         "y": [
          3.49650756146648
         ],
         "yaxis": "y6"
        },
        {
         "alignmentgroup": "True",
         "customdata": [
          [
           "Astrocyte",
           "Astrocyte_Gja1 [#7]",
           3.2188758248682006,
           0
          ]
         ],
         "hovertemplate": "<b>%{hovertext}</b><br><br>Class=%{customdata[0]}<br>Region=Hippocampus<br>Adcyap1r1_Amount=%{customdata[2]}<br>Cluster=%{customdata[1]}<br>Adcyap1r1_PVal=%{customdata[3]}<extra></extra>",
         "hovertext": [
          "Astrocyte_Gja1 [#7]"
         ],
         "legendgroup": "Astrocyte",
         "marker": {
          "color": "#636efa"
         },
         "name": "Astrocyte",
         "offsetgroup": "Astrocyte",
         "orientation": "v",
         "showlegend": false,
         "textposition": "auto",
         "type": "bar",
         "x": [
          "Astrocyte"
         ],
         "xaxis": "x5",
         "y": [
          3.2188758248682006
         ],
         "yaxis": "y5"
        },
        {
         "alignmentgroup": "True",
         "customdata": [
          [
           "Astrocyte",
           "Astrocyte_Gja1 [#8]",
           3.0445224377234195,
           0
          ]
         ],
         "hovertemplate": "<b>%{hovertext}</b><br><br>Class=%{customdata[0]}<br>Region=Posterior Cortex<br>Adcyap1r1_Amount=%{customdata[2]}<br>Cluster=%{customdata[1]}<br>Adcyap1r1_PVal=%{customdata[3]}<extra></extra>",
         "hovertext": [
          "Astrocyte_Gja1 [#8]"
         ],
         "legendgroup": "Astrocyte",
         "marker": {
          "color": "#636efa"
         },
         "name": "Astrocyte",
         "offsetgroup": "Astrocyte",
         "orientation": "v",
         "showlegend": false,
         "textposition": "auto",
         "type": "bar",
         "x": [
          "Astrocyte"
         ],
         "xaxis": "x4",
         "y": [
          3.0445224377234195
         ],
         "yaxis": "y4"
        },
        {
         "alignmentgroup": "True",
         "customdata": [
          [
           "Astrocyte",
           "Astrocyte_Gja1 [#4]",
           2.83321334405622,
           0
          ]
         ],
         "hovertemplate": "<b>%{hovertext}</b><br><br>Class=%{customdata[0]}<br>Region=Striatum<br>Adcyap1r1_Amount=%{customdata[2]}<br>Cluster=%{customdata[1]}<br>Adcyap1r1_PVal=%{customdata[3]}<extra></extra>",
         "hovertext": [
          "Astrocyte_Gja1 [#4]"
         ],
         "legendgroup": "Astrocyte",
         "marker": {
          "color": "#636efa"
         },
         "name": "Astrocyte",
         "offsetgroup": "Astrocyte",
         "orientation": "v",
         "showlegend": false,
         "textposition": "auto",
         "type": "bar",
         "x": [
          "Astrocyte"
         ],
         "xaxis": "x3",
         "y": [
          2.83321334405622
         ],
         "yaxis": "y3"
        },
        {
         "alignmentgroup": "True",
         "customdata": [
          [
           "Astrocyte",
           "Astrocyte_Gja1 [#8]",
           3.0445224377234195,
           1.8251187479579398e-34
          ],
          [
           "Astrocyte",
           "BergmannGlia_Gpr37l1 [#7]",
           2.77258872223978,
           5.324179651116479e-172
          ]
         ],
         "hovertemplate": "<b>%{hovertext}</b><br><br>Class=%{customdata[0]}<br>Region=Cerebellum<br>Adcyap1r1_Amount=%{customdata[2]}<br>Cluster=%{customdata[1]}<br>Adcyap1r1_PVal=%{customdata[3]}<extra></extra>",
         "hovertext": [
          "Astrocyte_Gja1 [#8]",
          "BergmannGlia_Gpr37l1 [#7]"
         ],
         "legendgroup": "Astrocyte",
         "marker": {
          "color": "#636efa"
         },
         "name": "Astrocyte",
         "offsetgroup": "Astrocyte",
         "orientation": "v",
         "showlegend": false,
         "textposition": "auto",
         "type": "bar",
         "x": [
          "Astrocyte",
          "Astrocyte"
         ],
         "xaxis": "x2",
         "y": [
          3.0445224377234195,
          2.77258872223978
         ],
         "yaxis": "y2"
        },
        {
         "alignmentgroup": "True",
         "customdata": [
          [
           "Astrocyte",
           "Astrocyte_Gja1 [#8]",
           2.89037175789616,
           0
          ]
         ],
         "hovertemplate": "<b>%{hovertext}</b><br><br>Class=%{customdata[0]}<br>Region=Frontal Cortex<br>Adcyap1r1_Amount=%{customdata[2]}<br>Cluster=%{customdata[1]}<br>Adcyap1r1_PVal=%{customdata[3]}<extra></extra>",
         "hovertext": [
          "Astrocyte_Gja1 [#8]"
         ],
         "legendgroup": "Astrocyte",
         "marker": {
          "color": "#636efa"
         },
         "name": "Astrocyte",
         "offsetgroup": "Astrocyte",
         "orientation": "v",
         "showlegend": false,
         "textposition": "auto",
         "type": "bar",
         "x": [
          "Astrocyte"
         ],
         "xaxis": "x",
         "y": [
          2.89037175789616
         ],
         "yaxis": "y"
        },
        {
         "alignmentgroup": "True",
         "customdata": [
          [
           "Polydendrocyte",
           "Polydendrocyte_Tnr [#4]",
           3.09104245335832,
           1.94403001187904e-12
          ]
         ],
         "hovertemplate": "<b>%{hovertext}</b><br><br>Class=%{customdata[0]}<br>Region=Globus Pallidus<br>Adcyap1r1_Amount=%{customdata[2]}<br>Cluster=%{customdata[1]}<br>Adcyap1r1_PVal=%{customdata[3]}<extra></extra>",
         "hovertext": [
          "Polydendrocyte_Tnr [#4]"
         ],
         "legendgroup": "Polydendrocyte",
         "marker": {
          "color": "#EF553B"
         },
         "name": "Polydendrocyte",
         "offsetgroup": "Polydendrocyte",
         "orientation": "v",
         "showlegend": true,
         "textposition": "auto",
         "type": "bar",
         "x": [
          "Polydendrocyte"
         ],
         "xaxis": "x9",
         "y": [
          3.09104245335832
         ],
         "yaxis": "y9"
        },
        {
         "alignmentgroup": "True",
         "customdata": [
          [
           "Polydendrocyte",
           "Polydendrocyte_Cacng4 [#6]",
           3.0445224377234195,
           1.7590408439861902e-14
          ],
          [
           "Polydendrocyte",
           "Polydendrocyte_Tnr [#5]",
           1.9459101490553101,
           2.1463795833006198e-07
          ]
         ],
         "hovertemplate": "<b>%{hovertext}</b><br><br>Class=%{customdata[0]}<br>Region=Substantia Nigra<br>Adcyap1r1_Amount=%{customdata[2]}<br>Cluster=%{customdata[1]}<br>Adcyap1r1_PVal=%{customdata[3]}<extra></extra>",
         "hovertext": [
          "Polydendrocyte_Cacng4 [#6]",
          "Polydendrocyte_Tnr [#5]"
         ],
         "legendgroup": "Polydendrocyte",
         "marker": {
          "color": "#EF553B"
         },
         "name": "Polydendrocyte",
         "offsetgroup": "Polydendrocyte",
         "orientation": "v",
         "showlegend": false,
         "textposition": "auto",
         "type": "bar",
         "x": [
          "Polydendrocyte",
          "Polydendrocyte"
         ],
         "xaxis": "x8",
         "y": [
          3.0445224377234195,
          1.9459101490553101
         ],
         "yaxis": "y8"
        },
        {
         "alignmentgroup": "True",
         "customdata": [
          [
           "Polydendrocyte",
           "Polydendrocyte_Cacng4 [#6]",
           3.1780538303479506,
           1.69368687270176e-23
          ],
          [
           "Polydendrocyte",
           "Polydendrocyte_Tnr [#5]",
           1.79175946922805,
           0.120289348884071
          ]
         ],
         "hovertemplate": "<b>%{hovertext}</b><br><br>Class=%{customdata[0]}<br>Region=Entopeduncular<br>Adcyap1r1_Amount=%{customdata[2]}<br>Cluster=%{customdata[1]}<br>Adcyap1r1_PVal=%{customdata[3]}<extra></extra>",
         "hovertext": [
          "Polydendrocyte_Cacng4 [#6]",
          "Polydendrocyte_Tnr [#5]"
         ],
         "legendgroup": "Polydendrocyte",
         "marker": {
          "color": "#EF553B"
         },
         "name": "Polydendrocyte",
         "offsetgroup": "Polydendrocyte",
         "orientation": "v",
         "showlegend": false,
         "textposition": "auto",
         "type": "bar",
         "x": [
          "Polydendrocyte",
          "Polydendrocyte"
         ],
         "xaxis": "x7",
         "y": [
          3.1780538303479506,
          1.79175946922805
         ],
         "yaxis": "y7"
        },
        {
         "alignmentgroup": "True",
         "customdata": [
          [
           "Polydendrocyte",
           "Polydendrocyte_Tnr [#12]",
           2.484906649788,
           2.94347080406045e-15
          ]
         ],
         "hovertemplate": "<b>%{hovertext}</b><br><br>Class=%{customdata[0]}<br>Region=Thalamus<br>Adcyap1r1_Amount=%{customdata[2]}<br>Cluster=%{customdata[1]}<br>Adcyap1r1_PVal=%{customdata[3]}<extra></extra>",
         "hovertext": [
          "Polydendrocyte_Tnr [#12]"
         ],
         "legendgroup": "Polydendrocyte",
         "marker": {
          "color": "#EF553B"
         },
         "name": "Polydendrocyte",
         "offsetgroup": "Polydendrocyte",
         "orientation": "v",
         "showlegend": false,
         "textposition": "auto",
         "type": "bar",
         "x": [
          "Polydendrocyte"
         ],
         "xaxis": "x6",
         "y": [
          2.484906649788
         ],
         "yaxis": "y6"
        },
        {
         "alignmentgroup": "True",
         "customdata": [
          [
           "Polydendrocyte",
           "Polydendrocyte_Tnr [#9]",
           3.25809653802148,
           2.2714684347934197e-92
          ]
         ],
         "hovertemplate": "<b>%{hovertext}</b><br><br>Class=%{customdata[0]}<br>Region=Hippocampus<br>Adcyap1r1_Amount=%{customdata[2]}<br>Cluster=%{customdata[1]}<br>Adcyap1r1_PVal=%{customdata[3]}<extra></extra>",
         "hovertext": [
          "Polydendrocyte_Tnr [#9]"
         ],
         "legendgroup": "Polydendrocyte",
         "marker": {
          "color": "#EF553B"
         },
         "name": "Polydendrocyte",
         "offsetgroup": "Polydendrocyte",
         "orientation": "v",
         "showlegend": false,
         "textposition": "auto",
         "type": "bar",
         "x": [
          "Polydendrocyte"
         ],
         "xaxis": "x5",
         "y": [
          3.25809653802148
         ],
         "yaxis": "y5"
        },
        {
         "alignmentgroup": "True",
         "customdata": [
          [
           "Polydendrocyte",
           "Polydendrocyte_Tnr [#10]",
           3.2188758248682006,
           2.2535631348094793e-115
          ]
         ],
         "hovertemplate": "<b>%{hovertext}</b><br><br>Class=%{customdata[0]}<br>Region=Posterior Cortex<br>Adcyap1r1_Amount=%{customdata[2]}<br>Cluster=%{customdata[1]}<br>Adcyap1r1_PVal=%{customdata[3]}<extra></extra>",
         "hovertext": [
          "Polydendrocyte_Tnr [#10]"
         ],
         "legendgroup": "Polydendrocyte",
         "marker": {
          "color": "#EF553B"
         },
         "name": "Polydendrocyte",
         "offsetgroup": "Polydendrocyte",
         "orientation": "v",
         "showlegend": false,
         "textposition": "auto",
         "type": "bar",
         "x": [
          "Polydendrocyte"
         ],
         "xaxis": "x4",
         "y": [
          3.2188758248682006
         ],
         "yaxis": "y4"
        },
        {
         "alignmentgroup": "True",
         "customdata": [
          [
           "Polydendrocyte",
           "Polydendrocytes_Tnr [#5]",
           3.13549421592915,
           3.0798091314767096e-106
          ]
         ],
         "hovertemplate": "<b>%{hovertext}</b><br><br>Class=%{customdata[0]}<br>Region=Striatum<br>Adcyap1r1_Amount=%{customdata[2]}<br>Cluster=%{customdata[1]}<br>Adcyap1r1_PVal=%{customdata[3]}<extra></extra>",
         "hovertext": [
          "Polydendrocytes_Tnr [#5]"
         ],
         "legendgroup": "Polydendrocyte",
         "marker": {
          "color": "#EF553B"
         },
         "name": "Polydendrocyte",
         "offsetgroup": "Polydendrocyte",
         "orientation": "v",
         "showlegend": false,
         "textposition": "auto",
         "type": "bar",
         "x": [
          "Polydendrocyte"
         ],
         "xaxis": "x3",
         "y": [
          3.13549421592915
         ],
         "yaxis": "y3"
        },
        {
         "alignmentgroup": "True",
         "customdata": [
          [
           "Polydendrocyte",
           "Polydendrocyte_Tnr [#10]",
           2.99573227355399,
           9.992024798780497e-134
          ]
         ],
         "hovertemplate": "<b>%{hovertext}</b><br><br>Class=%{customdata[0]}<br>Region=Frontal Cortex<br>Adcyap1r1_Amount=%{customdata[2]}<br>Cluster=%{customdata[1]}<br>Adcyap1r1_PVal=%{customdata[3]}<extra></extra>",
         "hovertext": [
          "Polydendrocyte_Tnr [#10]"
         ],
         "legendgroup": "Polydendrocyte",
         "marker": {
          "color": "#EF553B"
         },
         "name": "Polydendrocyte",
         "offsetgroup": "Polydendrocyte",
         "orientation": "v",
         "showlegend": false,
         "textposition": "auto",
         "type": "bar",
         "x": [
          "Polydendrocyte"
         ],
         "xaxis": "x",
         "y": [
          2.99573227355399
         ],
         "yaxis": "y"
        },
        {
         "alignmentgroup": "True",
         "customdata": [
          [
           "Neuron",
           "Neuron_Chat [#1]",
           2.6390573296152597,
           0.000186558054957842
          ],
          [
           "Neuron",
           "Neuron_Gabra1 [#2]",
           2.6390573296152597,
           1.2902871691436795e-72
          ],
          [
           "Neuron",
           "Neuron_Ppp1r1b [#3]",
           2.07944154167984,
           6.573931017535169e-44
          ]
         ],
         "hovertemplate": "<b>%{hovertext}</b><br><br>Class=%{customdata[0]}<br>Region=Globus Pallidus<br>Adcyap1r1_Amount=%{customdata[2]}<br>Cluster=%{customdata[1]}<br>Adcyap1r1_PVal=%{customdata[3]}<extra></extra>",
         "hovertext": [
          "Neuron_Chat [#1]",
          "Neuron_Gabra1 [#2]",
          "Neuron_Ppp1r1b [#3]"
         ],
         "legendgroup": "Neuron",
         "marker": {
          "color": "#00cc96"
         },
         "name": "Neuron",
         "offsetgroup": "Neuron",
         "orientation": "v",
         "showlegend": true,
         "textposition": "auto",
         "type": "bar",
         "x": [
          "Neuron",
          "Neuron",
          "Neuron"
         ],
         "xaxis": "x9",
         "y": [
          2.6390573296152597,
          2.6390573296152597,
          2.07944154167984
         ],
         "yaxis": "y9"
        },
        {
         "alignmentgroup": "True",
         "customdata": [
          [
           "Neuron",
           "Neuron_CA3_C1ql3 [#1]",
           2.6390573296152597,
           0.000255827600120459
          ],
          [
           "Neuron",
           "Neuron_Gad2 [#3]",
           2.5649493574615403,
           1.0641061572409295e-235
          ],
          [
           "Neuron",
           "Neuron_Th [#4]",
           2.484906649788,
           9.151535103147019e-38
          ],
          [
           "Neuron",
           "Neuron_Rora [#2]",
           1.09861228866811,
           0.00023300833236473197
          ]
         ],
         "hovertemplate": "<b>%{hovertext}</b><br><br>Class=%{customdata[0]}<br>Region=Substantia Nigra<br>Adcyap1r1_Amount=%{customdata[2]}<br>Cluster=%{customdata[1]}<br>Adcyap1r1_PVal=%{customdata[3]}<extra></extra>",
         "hovertext": [
          "Neuron_CA3_C1ql3 [#1]",
          "Neuron_Gad2 [#3]",
          "Neuron_Th [#4]",
          "Neuron_Rora [#2]"
         ],
         "legendgroup": "Neuron",
         "marker": {
          "color": "#00cc96"
         },
         "name": "Neuron",
         "offsetgroup": "Neuron",
         "orientation": "v",
         "showlegend": false,
         "textposition": "auto",
         "type": "bar",
         "x": [
          "Neuron",
          "Neuron",
          "Neuron",
          "Neuron"
         ],
         "xaxis": "x8",
         "y": [
          2.6390573296152597,
          2.5649493574615403,
          2.484906649788,
          1.09861228866811
         ],
         "yaxis": "y8"
        },
        {
         "alignmentgroup": "True",
         "customdata": [
          [
           "Neuron",
           "Neuron_Syt1 [#4]",
           2.5649493574615403,
           5.658720671844257e-179
          ]
         ],
         "hovertemplate": "<b>%{hovertext}</b><br><br>Class=%{customdata[0]}<br>Region=Entopeduncular<br>Adcyap1r1_Amount=%{customdata[2]}<br>Cluster=%{customdata[1]}<br>Adcyap1r1_PVal=%{customdata[3]}<extra></extra>",
         "hovertext": [
          "Neuron_Syt1 [#4]"
         ],
         "legendgroup": "Neuron",
         "marker": {
          "color": "#00cc96"
         },
         "name": "Neuron",
         "offsetgroup": "Neuron",
         "orientation": "v",
         "showlegend": false,
         "textposition": "auto",
         "type": "bar",
         "x": [
          "Neuron"
         ],
         "xaxis": "x7",
         "y": [
          2.5649493574615403
         ],
         "yaxis": "y7"
        },
        {
         "alignmentgroup": "True",
         "customdata": [
          [
           "Neuron",
           "Neuron_Gad2-Ahi1 [#3]",
           2.484906649788,
           0
          ],
          [
           "Neuron",
           "Neuron_Rora [#2]",
           1.38629436111989,
           3.48989780380235e-05
          ],
          [
           "Neuron",
           "Neuron_Habenula_Tac2 [#1]",
           0.693147180559945,
           1.51944877740895e-11
          ]
         ],
         "hovertemplate": "<b>%{hovertext}</b><br><br>Class=%{customdata[0]}<br>Region=Thalamus<br>Adcyap1r1_Amount=%{customdata[2]}<br>Cluster=%{customdata[1]}<br>Adcyap1r1_PVal=%{customdata[3]}<extra></extra>",
         "hovertext": [
          "Neuron_Gad2-Ahi1 [#3]",
          "Neuron_Rora [#2]",
          "Neuron_Habenula_Tac2 [#1]"
         ],
         "legendgroup": "Neuron",
         "marker": {
          "color": "#00cc96"
         },
         "name": "Neuron",
         "offsetgroup": "Neuron",
         "orientation": "v",
         "showlegend": false,
         "textposition": "auto",
         "type": "bar",
         "x": [
          "Neuron",
          "Neuron",
          "Neuron"
         ],
         "xaxis": "x6",
         "y": [
          2.484906649788,
          1.38629436111989,
          0.693147180559945
         ],
         "yaxis": "y6"
        },
        {
         "alignmentgroup": "True",
         "customdata": [
          [
           "Neuron",
           "Interneuron_Gad2 [#1]",
           2.77258872223978,
           8.409469932789138e-147
          ],
          [
           "Neuron",
           "Neuron_Dentate_C1ql2 [#4]",
           2.7080502011022096,
           0
          ],
          [
           "Neuron",
           "Neuron_Subiculum_Slc17a6 [#2]",
           2.3978952727983702,
           1.1582298950237699e-15
          ],
          [
           "Neuron",
           "Neuron_Subiculum_Entorhinal_Nxph3 [#3]",
           2.07944154167984,
           2.3471804431108103e-07
          ],
          [
           "Neuron",
           "Neuron_CA1_Subiculum_Postsubiculum_Entorhinal_Fibcd1-Dcn-Cbln1-Ptgfr-Fezf2 [#5]",
           1.9459101490553101,
           8.705097864314036e-200
          ],
          [
           "Neuron",
           "Neuron_CajalRetzius_Lhx1 [#14]",
           1.09861228866811,
           6.54476726438534e-10
          ],
          [
           "Neuron",
           "Neuron_CA2CA3_Pvrl3-Rgs15-Calb2 [#6]",
           0.693147180559945,
           0
          ]
         ],
         "hovertemplate": "<b>%{hovertext}</b><br><br>Class=%{customdata[0]}<br>Region=Hippocampus<br>Adcyap1r1_Amount=%{customdata[2]}<br>Cluster=%{customdata[1]}<br>Adcyap1r1_PVal=%{customdata[3]}<extra></extra>",
         "hovertext": [
          "Interneuron_Gad2 [#1]",
          "Neuron_Dentate_C1ql2 [#4]",
          "Neuron_Subiculum_Slc17a6 [#2]",
          "Neuron_Subiculum_Entorhinal_Nxph3 [#3]",
          "Neuron_CA1_Subiculum_Postsubiculum_Entorhinal_Fibcd1-Dcn-Cbln1-Ptgfr-Fezf2 [#5]",
          "Neuron_CajalRetzius_Lhx1 [#14]",
          "Neuron_CA2CA3_Pvrl3-Rgs15-Calb2 [#6]"
         ],
         "legendgroup": "Neuron",
         "marker": {
          "color": "#00cc96"
         },
         "name": "Neuron",
         "offsetgroup": "Neuron",
         "orientation": "v",
         "showlegend": false,
         "textposition": "auto",
         "type": "bar",
         "x": [
          "Neuron",
          "Neuron",
          "Neuron",
          "Neuron",
          "Neuron",
          "Neuron",
          "Neuron"
         ],
         "xaxis": "x5",
         "y": [
          2.77258872223978,
          2.7080502011022096,
          2.3978952727983702,
          2.07944154167984,
          1.9459101490553101,
          1.09861228866811,
          0.693147180559945
         ],
         "yaxis": "y5"
        },
        {
         "alignmentgroup": "True",
         "customdata": [
          [
           "Neuron",
           "Interneuron_MGE_Sst-Pvalb [#5]",
           2.83321334405622,
           1.3156005434026692e-215
          ],
          [
           "Neuron",
           "Interneuron_CGE_Cplx3-Synpr [#4]",
           2.7080502011022096,
           1.5762590174492698e-104
          ],
          [
           "Neuron",
           "RSG_Tshz2-Shisa8 [#6]",
           2.3978952727983702,
           4.639582624268499e-110
          ],
          [
           "Neuron",
           "Layer5b_Fezf2 [#7]",
           1.9459101490553101,
           0.8229914690686808
          ],
          [
           "Neuron",
           "Neuron_Layer23_5_6_Subiculum_Calb1-Rorb-Fermt1-Tshz2-Oprk1-Crym-Sema3e [#2]",
           1.79175946922805,
           4.16102336081573e-70
          ],
          [
           "Neuron",
           "Neuron_Layer6Subplate_Syt6 [#1]",
           1.09861228866811,
           1.0081130519060797e-158
          ],
          [
           "Neuron",
           "Neuron_Layer5_Bcl6 [#3]",
           0.693147180559945,
           3.234751444645729e-126
          ]
         ],
         "hovertemplate": "<b>%{hovertext}</b><br><br>Class=%{customdata[0]}<br>Region=Posterior Cortex<br>Adcyap1r1_Amount=%{customdata[2]}<br>Cluster=%{customdata[1]}<br>Adcyap1r1_PVal=%{customdata[3]}<extra></extra>",
         "hovertext": [
          "Interneuron_MGE_Sst-Pvalb [#5]",
          "Interneuron_CGE_Cplx3-Synpr [#4]",
          "RSG_Tshz2-Shisa8 [#6]",
          "Layer5b_Fezf2 [#7]",
          "Neuron_Layer23_5_6_Subiculum_Calb1-Rorb-Fermt1-Tshz2-Oprk1-Crym-Sema3e [#2]",
          "Neuron_Layer6Subplate_Syt6 [#1]",
          "Neuron_Layer5_Bcl6 [#3]"
         ],
         "legendgroup": "Neuron",
         "marker": {
          "color": "#00cc96"
         },
         "name": "Neuron",
         "offsetgroup": "Neuron",
         "orientation": "v",
         "showlegend": false,
         "textposition": "auto",
         "type": "bar",
         "x": [
          "Neuron",
          "Neuron",
          "Neuron",
          "Neuron",
          "Neuron",
          "Neuron",
          "Neuron"
         ],
         "xaxis": "x4",
         "y": [
          2.83321334405622,
          2.7080502011022096,
          2.3978952727983702,
          1.9459101490553101,
          1.79175946922805,
          1.09861228866811,
          0.693147180559945
         ],
         "yaxis": "y4"
        },
        {
         "alignmentgroup": "True",
         "customdata": [
          [
           "Neuron",
           "Interneuron_Pvalb_Th_Pnoc [#14]",
           2.484906649788,
           2.8629443943963294e-130
          ],
          [
           "Neuron",
           "Interneuron_Chat [#12]",
           2.07944154167984,
           2.3831376638584697e-19
          ],
          [
           "Neuron",
           "Interneuron_Sst [#15]",
           1.9459101490553101,
           4.9091366758094995e-12
          ],
          [
           "Neuron",
           "Neuron_dSPN_Drd1 [#10]",
           1.09861228866811,
           5.268716688116189e-124
          ],
          [
           "Neuron",
           "Neuron_iSPN_Adora2a [#11]",
           1.09861228866811,
           6.897595745070689e-53
          ],
          [
           "Neuron",
           "Neuron_SPN_BNST_Amygdala_Otof [#13]",
           1.09861228866811,
           1.01598851737356e-05
          ]
         ],
         "hovertemplate": "<b>%{hovertext}</b><br><br>Class=%{customdata[0]}<br>Region=Striatum<br>Adcyap1r1_Amount=%{customdata[2]}<br>Cluster=%{customdata[1]}<br>Adcyap1r1_PVal=%{customdata[3]}<extra></extra>",
         "hovertext": [
          "Interneuron_Pvalb_Th_Pnoc [#14]",
          "Interneuron_Chat [#12]",
          "Interneuron_Sst [#15]",
          "Neuron_dSPN_Drd1 [#10]",
          "Neuron_iSPN_Adora2a [#11]",
          "Neuron_SPN_BNST_Amygdala_Otof [#13]"
         ],
         "legendgroup": "Neuron",
         "marker": {
          "color": "#00cc96"
         },
         "name": "Neuron",
         "offsetgroup": "Neuron",
         "orientation": "v",
         "showlegend": false,
         "textposition": "auto",
         "type": "bar",
         "x": [
          "Neuron",
          "Neuron",
          "Neuron",
          "Neuron",
          "Neuron",
          "Neuron"
         ],
         "xaxis": "x3",
         "y": [
          2.484906649788,
          2.07944154167984,
          1.9459101490553101,
          1.09861228866811,
          1.09861228866811,
          1.09861228866811
         ],
         "yaxis": "y3"
        },
        {
         "alignmentgroup": "True",
         "customdata": [
          [
           "Neuron",
           "GranularNeuron_Gabra6 [#1]",
           1.09861228866811,
           1.3875753658531696e-85
          ],
          [
           "Neuron",
           "Interneurons_and_Other_Nnat [#4]",
           1.09861228866811,
           0.18869192824324202
          ],
          [
           "Neuron",
           "Interneurons_Pvalb [#3]",
           0.693147180559945,
           4.04099107924825e-10
          ],
          [
           "Neuron",
           "PurkinjeNeuron_Pcp2 [#2]",
           0,
           5.29960344021676e-11
          ]
         ],
         "hovertemplate": "<b>%{hovertext}</b><br><br>Class=%{customdata[0]}<br>Region=Cerebellum<br>Adcyap1r1_Amount=%{customdata[2]}<br>Cluster=%{customdata[1]}<br>Adcyap1r1_PVal=%{customdata[3]}<extra></extra>",
         "hovertext": [
          "GranularNeuron_Gabra6 [#1]",
          "Interneurons_and_Other_Nnat [#4]",
          "Interneurons_Pvalb [#3]",
          "PurkinjeNeuron_Pcp2 [#2]"
         ],
         "legendgroup": "Neuron",
         "marker": {
          "color": "#00cc96"
         },
         "name": "Neuron",
         "offsetgroup": "Neuron",
         "orientation": "v",
         "showlegend": false,
         "textposition": "auto",
         "type": "bar",
         "x": [
          "Neuron",
          "Neuron",
          "Neuron",
          "Neuron"
         ],
         "xaxis": "x2",
         "y": [
          1.09861228866811,
          1.09861228866811,
          0.693147180559945,
          0
         ],
         "yaxis": "y2"
        },
        {
         "alignmentgroup": "True",
         "customdata": [
          [
           "Neuron",
           "Interneuron_MGE_Sst-Pvalb [#2]",
           2.83321334405622,
           0
          ],
          [
           "Neuron",
           "Interneuron_CGE_Cplx3-Synpr [#1]",
           2.6390573296152597,
           0
          ],
          [
           "Neuron",
           "Neuron_Layer5b_Fezf2 [#4]",
           1.9459101490553101,
           0.000347276125369811
          ],
          [
           "Neuron",
           "Neuron_Claustrum_Nr4a2 [#5]",
           1.79175946922805,
           0.0258584114962535
          ],
          [
           "Neuron",
           "Neuron_Layer23_Nptxr [#6]",
           1.6094379124341003,
           1.7902036069200602e-43
          ],
          [
           "Neuron",
           "Neuron_Layer6Subplate_Syt6 [#3]",
           0.693147180559945,
           6.699476237287796e-249
          ],
          [
           "Neuron",
           "Neuron_Layer5_Parm1 [#7]",
           0.693147180559945,
           4.222544839529129e-140
          ]
         ],
         "hovertemplate": "<b>%{hovertext}</b><br><br>Class=%{customdata[0]}<br>Region=Frontal Cortex<br>Adcyap1r1_Amount=%{customdata[2]}<br>Cluster=%{customdata[1]}<br>Adcyap1r1_PVal=%{customdata[3]}<extra></extra>",
         "hovertext": [
          "Interneuron_MGE_Sst-Pvalb [#2]",
          "Interneuron_CGE_Cplx3-Synpr [#1]",
          "Neuron_Layer5b_Fezf2 [#4]",
          "Neuron_Claustrum_Nr4a2 [#5]",
          "Neuron_Layer23_Nptxr [#6]",
          "Neuron_Layer6Subplate_Syt6 [#3]",
          "Neuron_Layer5_Parm1 [#7]"
         ],
         "legendgroup": "Neuron",
         "marker": {
          "color": "#00cc96"
         },
         "name": "Neuron",
         "offsetgroup": "Neuron",
         "orientation": "v",
         "showlegend": false,
         "textposition": "auto",
         "type": "bar",
         "x": [
          "Neuron",
          "Neuron",
          "Neuron",
          "Neuron",
          "Neuron",
          "Neuron",
          "Neuron"
         ],
         "xaxis": "x",
         "y": [
          2.83321334405622,
          2.6390573296152597,
          1.9459101490553101,
          1.79175946922805,
          1.6094379124341003,
          0.693147180559945,
          0.693147180559945
         ],
         "yaxis": "y"
        },
        {
         "alignmentgroup": "True",
         "customdata": [
          [
           "Oligodendrocyte",
           "Oligodendrocyte_Tfr [#10]",
           1.09861228866811,
           0
          ]
         ],
         "hovertemplate": "<b>%{hovertext}</b><br><br>Class=%{customdata[0]}<br>Region=Globus Pallidus<br>Adcyap1r1_Amount=%{customdata[2]}<br>Cluster=%{customdata[1]}<br>Adcyap1r1_PVal=%{customdata[3]}<extra></extra>",
         "hovertext": [
          "Oligodendrocyte_Tfr [#10]"
         ],
         "legendgroup": "Oligodendrocyte",
         "marker": {
          "color": "#ab63fa"
         },
         "name": "Oligodendrocyte",
         "offsetgroup": "Oligodendrocyte",
         "orientation": "v",
         "showlegend": true,
         "textposition": "auto",
         "type": "bar",
         "x": [
          "Oligodendrocyte"
         ],
         "xaxis": "x9",
         "y": [
          1.09861228866811
         ],
         "yaxis": "y9"
        },
        {
         "alignmentgroup": "True",
         "customdata": [
          [
           "Oligodendrocyte",
           "Oligodendrocyte_Mbp [#11]",
           1.79175946922805,
           0.543580637749416
          ],
          [
           "Oligodendrocyte",
           "Oligodendrocyte_Tfr [#10]",
           0.693147180559945,
           0
          ]
         ],
         "hovertemplate": "<b>%{hovertext}</b><br><br>Class=%{customdata[0]}<br>Region=Substantia Nigra<br>Adcyap1r1_Amount=%{customdata[2]}<br>Cluster=%{customdata[1]}<br>Adcyap1r1_PVal=%{customdata[3]}<extra></extra>",
         "hovertext": [
          "Oligodendrocyte_Mbp [#11]",
          "Oligodendrocyte_Tfr [#10]"
         ],
         "legendgroup": "Oligodendrocyte",
         "marker": {
          "color": "#ab63fa"
         },
         "name": "Oligodendrocyte",
         "offsetgroup": "Oligodendrocyte",
         "orientation": "v",
         "showlegend": false,
         "textposition": "auto",
         "type": "bar",
         "x": [
          "Oligodendrocyte",
          "Oligodendrocyte"
         ],
         "xaxis": "x8",
         "y": [
          1.79175946922805,
          0.693147180559945
         ],
         "yaxis": "y8"
        },
        {
         "alignmentgroup": "True",
         "customdata": [
          [
           "Oligodendrocyte",
           "Oligodendrocyte_Mbp [#8]",
           1.9459101490553101,
           0.00210693690220867
          ],
          [
           "Oligodendrocyte",
           "Oligodendrocyte_Tfr [#1]",
           0.693147180559945,
           5.495264489045848e-262
          ]
         ],
         "hovertemplate": "<b>%{hovertext}</b><br><br>Class=%{customdata[0]}<br>Region=Entopeduncular<br>Adcyap1r1_Amount=%{customdata[2]}<br>Cluster=%{customdata[1]}<br>Adcyap1r1_PVal=%{customdata[3]}<extra></extra>",
         "hovertext": [
          "Oligodendrocyte_Mbp [#8]",
          "Oligodendrocyte_Tfr [#1]"
         ],
         "legendgroup": "Oligodendrocyte",
         "marker": {
          "color": "#ab63fa"
         },
         "name": "Oligodendrocyte",
         "offsetgroup": "Oligodendrocyte",
         "orientation": "v",
         "showlegend": false,
         "textposition": "auto",
         "type": "bar",
         "x": [
          "Oligodendrocyte",
          "Oligodendrocyte"
         ],
         "xaxis": "x7",
         "y": [
          1.9459101490553101,
          0.693147180559945
         ],
         "yaxis": "y7"
        },
        {
         "alignmentgroup": "True",
         "customdata": [
          [
           "Oligodendrocyte",
           "Oligodendrocyte_Mbp [#9]",
           2.19722457733622,
           2.7798422779698097e-08
          ],
          [
           "Oligodendrocyte",
           "Oligodendrocyte_Tfr [#8]",
           0.693147180559945,
           7.021319053737675e-281
          ]
         ],
         "hovertemplate": "<b>%{hovertext}</b><br><br>Class=%{customdata[0]}<br>Region=Thalamus<br>Adcyap1r1_Amount=%{customdata[2]}<br>Cluster=%{customdata[1]}<br>Adcyap1r1_PVal=%{customdata[3]}<extra></extra>",
         "hovertext": [
          "Oligodendrocyte_Mbp [#9]",
          "Oligodendrocyte_Tfr [#8]"
         ],
         "legendgroup": "Oligodendrocyte",
         "marker": {
          "color": "#ab63fa"
         },
         "name": "Oligodendrocyte",
         "offsetgroup": "Oligodendrocyte",
         "orientation": "v",
         "showlegend": false,
         "textposition": "auto",
         "type": "bar",
         "x": [
          "Oligodendrocyte",
          "Oligodendrocyte"
         ],
         "xaxis": "x6",
         "y": [
          2.19722457733622,
          0.693147180559945
         ],
         "yaxis": "y6"
        },
        {
         "alignmentgroup": "True",
         "customdata": [
          [
           "Oligodendrocyte",
           "Oligodendrocyte_Tfr [#8]",
           1.09861228866811,
           9.876232861330968e-95
          ]
         ],
         "hovertemplate": "<b>%{hovertext}</b><br><br>Class=%{customdata[0]}<br>Region=Hippocampus<br>Adcyap1r1_Amount=%{customdata[2]}<br>Cluster=%{customdata[1]}<br>Adcyap1r1_PVal=%{customdata[3]}<extra></extra>",
         "hovertext": [
          "Oligodendrocyte_Tfr [#8]"
         ],
         "legendgroup": "Oligodendrocyte",
         "marker": {
          "color": "#ab63fa"
         },
         "name": "Oligodendrocyte",
         "offsetgroup": "Oligodendrocyte",
         "orientation": "v",
         "showlegend": false,
         "textposition": "auto",
         "type": "bar",
         "x": [
          "Oligodendrocyte"
         ],
         "xaxis": "x5",
         "y": [
          1.09861228866811
         ],
         "yaxis": "y5"
        },
        {
         "alignmentgroup": "True",
         "customdata": [
          [
           "Oligodendrocyte",
           "Oligodendrocyte_Tfr [#9]",
           1.09861228866811,
           2.5808001911872497e-44
          ]
         ],
         "hovertemplate": "<b>%{hovertext}</b><br><br>Class=%{customdata[0]}<br>Region=Posterior Cortex<br>Adcyap1r1_Amount=%{customdata[2]}<br>Cluster=%{customdata[1]}<br>Adcyap1r1_PVal=%{customdata[3]}<extra></extra>",
         "hovertext": [
          "Oligodendrocyte_Tfr [#9]"
         ],
         "legendgroup": "Oligodendrocyte",
         "marker": {
          "color": "#ab63fa"
         },
         "name": "Oligodendrocyte",
         "offsetgroup": "Oligodendrocyte",
         "orientation": "v",
         "showlegend": false,
         "textposition": "auto",
         "type": "bar",
         "x": [
          "Oligodendrocyte"
         ],
         "xaxis": "x4",
         "y": [
          1.09861228866811
         ],
         "yaxis": "y4"
        },
        {
         "alignmentgroup": "True",
         "customdata": [
          [
           "Oligodendrocyte",
           "Oligodendrocytes_Tfr [#3]",
           0.693147180559945,
           3.11325728476158e-20
          ]
         ],
         "hovertemplate": "<b>%{hovertext}</b><br><br>Class=%{customdata[0]}<br>Region=Striatum<br>Adcyap1r1_Amount=%{customdata[2]}<br>Cluster=%{customdata[1]}<br>Adcyap1r1_PVal=%{customdata[3]}<extra></extra>",
         "hovertext": [
          "Oligodendrocytes_Tfr [#3]"
         ],
         "legendgroup": "Oligodendrocyte",
         "marker": {
          "color": "#ab63fa"
         },
         "name": "Oligodendrocyte",
         "offsetgroup": "Oligodendrocyte",
         "orientation": "v",
         "showlegend": false,
         "textposition": "auto",
         "type": "bar",
         "x": [
          "Oligodendrocyte"
         ],
         "xaxis": "x3",
         "y": [
          0.693147180559945
         ],
         "yaxis": "y3"
        },
        {
         "alignmentgroup": "True",
         "customdata": [
          [
           "Oligodendrocyte",
           "Oligodendrocyte_Tfr [#9]",
           0.693147180559945,
           1.2792135286818298e-78
          ]
         ],
         "hovertemplate": "<b>%{hovertext}</b><br><br>Class=%{customdata[0]}<br>Region=Frontal Cortex<br>Adcyap1r1_Amount=%{customdata[2]}<br>Cluster=%{customdata[1]}<br>Adcyap1r1_PVal=%{customdata[3]}<extra></extra>",
         "hovertext": [
          "Oligodendrocyte_Tfr [#9]"
         ],
         "legendgroup": "Oligodendrocyte",
         "marker": {
          "color": "#ab63fa"
         },
         "name": "Oligodendrocyte",
         "offsetgroup": "Oligodendrocyte",
         "orientation": "v",
         "showlegend": false,
         "textposition": "auto",
         "type": "bar",
         "x": [
          "Oligodendrocyte"
         ],
         "xaxis": "x",
         "y": [
          0.693147180559945
         ],
         "yaxis": "y"
        },
        {
         "alignmentgroup": "True",
         "customdata": [
          [
           "Ependyma",
           "Ependyma [#6]",
           1.9459101490553101,
           0.00317736187066658
          ]
         ],
         "hovertemplate": "<b>%{hovertext}</b><br><br>Class=%{customdata[0]}<br>Region=Globus Pallidus<br>Adcyap1r1_Amount=%{customdata[2]}<br>Cluster=%{customdata[1]}<br>Adcyap1r1_PVal=%{customdata[3]}<extra></extra>",
         "hovertext": [
          "Ependyma [#6]"
         ],
         "legendgroup": "Ependyma",
         "marker": {
          "color": "#FFA15A"
         },
         "name": "Ependyma",
         "offsetgroup": "Ependyma",
         "orientation": "v",
         "showlegend": true,
         "textposition": "auto",
         "type": "bar",
         "x": [
          "Ependyma"
         ],
         "xaxis": "x9",
         "y": [
          1.9459101490553101
         ],
         "yaxis": "y9"
        },
        {
         "alignmentgroup": "True",
         "customdata": [
          [
           "Ependyma",
           "Ependyma [#8]",
           0,
           0.0601941417862943
          ]
         ],
         "hovertemplate": "<b>%{hovertext}</b><br><br>Class=%{customdata[0]}<br>Region=Substantia Nigra<br>Adcyap1r1_Amount=%{customdata[2]}<br>Cluster=%{customdata[1]}<br>Adcyap1r1_PVal=%{customdata[3]}<extra></extra>",
         "hovertext": [
          "Ependyma [#8]"
         ],
         "legendgroup": "Ependyma",
         "marker": {
          "color": "#FFA15A"
         },
         "name": "Ependyma",
         "offsetgroup": "Ependyma",
         "orientation": "v",
         "showlegend": false,
         "textposition": "auto",
         "type": "bar",
         "x": [
          "Ependyma"
         ],
         "xaxis": "x8",
         "y": [
          0
         ],
         "yaxis": "y8"
        },
        {
         "alignmentgroup": "True",
         "customdata": [
          [
           "Ependyma",
           "Ependyma [#10]",
           0.693147180559945,
           5.34593070053286e-08
          ]
         ],
         "hovertemplate": "<b>%{hovertext}</b><br><br>Class=%{customdata[0]}<br>Region=Thalamus<br>Adcyap1r1_Amount=%{customdata[2]}<br>Cluster=%{customdata[1]}<br>Adcyap1r1_PVal=%{customdata[3]}<extra></extra>",
         "hovertext": [
          "Ependyma [#10]"
         ],
         "legendgroup": "Ependyma",
         "marker": {
          "color": "#FFA15A"
         },
         "name": "Ependyma",
         "offsetgroup": "Ependyma",
         "orientation": "v",
         "showlegend": false,
         "textposition": "auto",
         "type": "bar",
         "x": [
          "Ependyma"
         ],
         "xaxis": "x6",
         "y": [
          0.693147180559945
         ],
         "yaxis": "y6"
        },
        {
         "alignmentgroup": "True",
         "customdata": [
          [
           "Ependyma",
           "Ependyma [#11]",
           0.693147180559945,
           6.74908912592614e-30
          ]
         ],
         "hovertemplate": "<b>%{hovertext}</b><br><br>Class=%{customdata[0]}<br>Region=Hippocampus<br>Adcyap1r1_Amount=%{customdata[2]}<br>Cluster=%{customdata[1]}<br>Adcyap1r1_PVal=%{customdata[3]}<extra></extra>",
         "hovertext": [
          "Ependyma [#11]"
         ],
         "legendgroup": "Ependyma",
         "marker": {
          "color": "#FFA15A"
         },
         "name": "Ependyma",
         "offsetgroup": "Ependyma",
         "orientation": "v",
         "showlegend": false,
         "textposition": "auto",
         "type": "bar",
         "x": [
          "Ependyma"
         ],
         "xaxis": "x5",
         "y": [
          0.693147180559945
         ],
         "yaxis": "y5"
        },
        {
         "alignmentgroup": "True",
         "customdata": [
          [
           "Ependyma",
           "Ependyma [#1]",
           0.693147180559945,
           0.00600582725815056
          ]
         ],
         "hovertemplate": "<b>%{hovertext}</b><br><br>Class=%{customdata[0]}<br>Region=Striatum<br>Adcyap1r1_Amount=%{customdata[2]}<br>Cluster=%{customdata[1]}<br>Adcyap1r1_PVal=%{customdata[3]}<extra></extra>",
         "hovertext": [
          "Ependyma [#1]"
         ],
         "legendgroup": "Ependyma",
         "marker": {
          "color": "#FFA15A"
         },
         "name": "Ependyma",
         "offsetgroup": "Ependyma",
         "orientation": "v",
         "showlegend": false,
         "textposition": "auto",
         "type": "bar",
         "x": [
          "Ependyma"
         ],
         "xaxis": "x3",
         "y": [
          0.693147180559945
         ],
         "yaxis": "y3"
        },
        {
         "alignmentgroup": "True",
         "customdata": [
          [
           "Microglia_Macrophage",
           "Microglia_Macrophage_C1qb [#11]",
           1.09861228866811,
           2.39508249341325e-10
          ]
         ],
         "hovertemplate": "<b>%{hovertext}</b><br><br>Class=%{customdata[0]}<br>Region=Globus Pallidus<br>Adcyap1r1_Amount=%{customdata[2]}<br>Cluster=%{customdata[1]}<br>Adcyap1r1_PVal=%{customdata[3]}<extra></extra>",
         "hovertext": [
          "Microglia_Macrophage_C1qb [#11]"
         ],
         "legendgroup": "Microglia_Macrophage",
         "marker": {
          "color": "#19d3f3"
         },
         "name": "Microglia_Macrophage",
         "offsetgroup": "Microglia_Macrophage",
         "orientation": "v",
         "showlegend": true,
         "textposition": "auto",
         "type": "bar",
         "x": [
          "Microglia_Macrophage"
         ],
         "xaxis": "x9",
         "y": [
          1.09861228866811
         ],
         "yaxis": "y9"
        },
        {
         "alignmentgroup": "True",
         "customdata": [
          [
           "Microglia_Macrophage",
           "Microglia_Macrophage_C1qb [#9]",
           1.6094379124341003,
           0.08770554092133799
          ]
         ],
         "hovertemplate": "<b>%{hovertext}</b><br><br>Class=%{customdata[0]}<br>Region=Substantia Nigra<br>Adcyap1r1_Amount=%{customdata[2]}<br>Cluster=%{customdata[1]}<br>Adcyap1r1_PVal=%{customdata[3]}<extra></extra>",
         "hovertext": [
          "Microglia_Macrophage_C1qb [#9]"
         ],
         "legendgroup": "Microglia_Macrophage",
         "marker": {
          "color": "#19d3f3"
         },
         "name": "Microglia_Macrophage",
         "offsetgroup": "Microglia_Macrophage",
         "orientation": "v",
         "showlegend": false,
         "textposition": "auto",
         "type": "bar",
         "x": [
          "Microglia_Macrophage"
         ],
         "xaxis": "x8",
         "y": [
          1.6094379124341003
         ],
         "yaxis": "y8"
        },
        {
         "alignmentgroup": "True",
         "customdata": [
          [
           "Microglia_Macrophage",
           "Microglia_Macrophage_C1qb [#7]",
           1.09861228866811,
           0.490750707869979
          ]
         ],
         "hovertemplate": "<b>%{hovertext}</b><br><br>Class=%{customdata[0]}<br>Region=Thalamus<br>Adcyap1r1_Amount=%{customdata[2]}<br>Cluster=%{customdata[1]}<br>Adcyap1r1_PVal=%{customdata[3]}<extra></extra>",
         "hovertext": [
          "Microglia_Macrophage_C1qb [#7]"
         ],
         "legendgroup": "Microglia_Macrophage",
         "marker": {
          "color": "#19d3f3"
         },
         "name": "Microglia_Macrophage",
         "offsetgroup": "Microglia_Macrophage",
         "orientation": "v",
         "showlegend": false,
         "textposition": "auto",
         "type": "bar",
         "x": [
          "Microglia_Macrophage"
         ],
         "xaxis": "x6",
         "y": [
          1.09861228866811
         ],
         "yaxis": "y6"
        },
        {
         "alignmentgroup": "True",
         "customdata": [
          [
           "Microglia_Macrophage",
           "Microglia_Macrophage_C1qb [#10]",
           1.09861228866811,
           4.76160796655483e-11
          ]
         ],
         "hovertemplate": "<b>%{hovertext}</b><br><br>Class=%{customdata[0]}<br>Region=Hippocampus<br>Adcyap1r1_Amount=%{customdata[2]}<br>Cluster=%{customdata[1]}<br>Adcyap1r1_PVal=%{customdata[3]}<extra></extra>",
         "hovertext": [
          "Microglia_Macrophage_C1qb [#10]"
         ],
         "legendgroup": "Microglia_Macrophage",
         "marker": {
          "color": "#19d3f3"
         },
         "name": "Microglia_Macrophage",
         "offsetgroup": "Microglia_Macrophage",
         "orientation": "v",
         "showlegend": false,
         "textposition": "auto",
         "type": "bar",
         "x": [
          "Microglia_Macrophage"
         ],
         "xaxis": "x5",
         "y": [
          1.09861228866811
         ],
         "yaxis": "y5"
        },
        {
         "alignmentgroup": "True",
         "customdata": [
          [
           "Microglia_Macrophage",
           "Microglia_Macrophage_Tmem119-Mrc1 [#11]",
           1.09861228866811,
           0.00018461544059673898
          ]
         ],
         "hovertemplate": "<b>%{hovertext}</b><br><br>Class=%{customdata[0]}<br>Region=Posterior Cortex<br>Adcyap1r1_Amount=%{customdata[2]}<br>Cluster=%{customdata[1]}<br>Adcyap1r1_PVal=%{customdata[3]}<extra></extra>",
         "hovertext": [
          "Microglia_Macrophage_Tmem119-Mrc1 [#11]"
         ],
         "legendgroup": "Microglia_Macrophage",
         "marker": {
          "color": "#19d3f3"
         },
         "name": "Microglia_Macrophage",
         "offsetgroup": "Microglia_Macrophage",
         "orientation": "v",
         "showlegend": false,
         "textposition": "auto",
         "type": "bar",
         "x": [
          "Microglia_Macrophage"
         ],
         "xaxis": "x4",
         "y": [
          1.09861228866811
         ],
         "yaxis": "y4"
        },
        {
         "alignmentgroup": "True",
         "customdata": [
          [
           "Microglia_Macrophage",
           "Microglia_Macrophage_C1qb [#6]",
           1.09861228866811,
           0.23316447332449
          ]
         ],
         "hovertemplate": "<b>%{hovertext}</b><br><br>Class=%{customdata[0]}<br>Region=Striatum<br>Adcyap1r1_Amount=%{customdata[2]}<br>Cluster=%{customdata[1]}<br>Adcyap1r1_PVal=%{customdata[3]}<extra></extra>",
         "hovertext": [
          "Microglia_Macrophage_C1qb [#6]"
         ],
         "legendgroup": "Microglia_Macrophage",
         "marker": {
          "color": "#19d3f3"
         },
         "name": "Microglia_Macrophage",
         "offsetgroup": "Microglia_Macrophage",
         "orientation": "v",
         "showlegend": false,
         "textposition": "auto",
         "type": "bar",
         "x": [
          "Microglia_Macrophage"
         ],
         "xaxis": "x3",
         "y": [
          1.09861228866811
         ],
         "yaxis": "y3"
        },
        {
         "alignmentgroup": "True",
         "customdata": [
          [
           "Microglia_Macrophage",
           "Microglia_Macrophage_C1qb [#5]",
           1.79175946922805,
           1
          ]
         ],
         "hovertemplate": "<b>%{hovertext}</b><br><br>Class=%{customdata[0]}<br>Region=Cerebellum<br>Adcyap1r1_Amount=%{customdata[2]}<br>Cluster=%{customdata[1]}<br>Adcyap1r1_PVal=%{customdata[3]}<extra></extra>",
         "hovertext": [
          "Microglia_Macrophage_C1qb [#5]"
         ],
         "legendgroup": "Microglia_Macrophage",
         "marker": {
          "color": "#19d3f3"
         },
         "name": "Microglia_Macrophage",
         "offsetgroup": "Microglia_Macrophage",
         "orientation": "v",
         "showlegend": false,
         "textposition": "auto",
         "type": "bar",
         "x": [
          "Microglia_Macrophage"
         ],
         "xaxis": "x2",
         "y": [
          1.79175946922805
         ],
         "yaxis": "y2"
        },
        {
         "alignmentgroup": "True",
         "customdata": [
          [
           "Microglia_Macrophage",
           "Microglia_Macrophage_C1qb [#11]",
           1.09861228866811,
           1.3330665266714499e-07
          ]
         ],
         "hovertemplate": "<b>%{hovertext}</b><br><br>Class=%{customdata[0]}<br>Region=Frontal Cortex<br>Adcyap1r1_Amount=%{customdata[2]}<br>Cluster=%{customdata[1]}<br>Adcyap1r1_PVal=%{customdata[3]}<extra></extra>",
         "hovertext": [
          "Microglia_Macrophage_C1qb [#11]"
         ],
         "legendgroup": "Microglia_Macrophage",
         "marker": {
          "color": "#19d3f3"
         },
         "name": "Microglia_Macrophage",
         "offsetgroup": "Microglia_Macrophage",
         "orientation": "v",
         "showlegend": false,
         "textposition": "auto",
         "type": "bar",
         "x": [
          "Microglia_Macrophage"
         ],
         "xaxis": "x",
         "y": [
          1.09861228866811
         ],
         "yaxis": "y"
        },
        {
         "alignmentgroup": "True",
         "customdata": [
          [
           "Mural",
           "Mural_Rgs5Acta2 [#8]",
           1.79175946922805,
           9.96730796569848e-19
          ]
         ],
         "hovertemplate": "<b>%{hovertext}</b><br><br>Class=%{customdata[0]}<br>Region=Globus Pallidus<br>Adcyap1r1_Amount=%{customdata[2]}<br>Cluster=%{customdata[1]}<br>Adcyap1r1_PVal=%{customdata[3]}<extra></extra>",
         "hovertext": [
          "Mural_Rgs5Acta2 [#8]"
         ],
         "legendgroup": "Mural",
         "marker": {
          "color": "#FF6692"
         },
         "name": "Mural",
         "offsetgroup": "Mural",
         "orientation": "v",
         "showlegend": true,
         "textposition": "auto",
         "type": "bar",
         "x": [
          "Mural"
         ],
         "xaxis": "x9",
         "y": [
          1.79175946922805
         ],
         "yaxis": "y9"
        },
        {
         "alignmentgroup": "True",
         "customdata": [
          [
           "Mural",
           "Mural_Rgs5Acta2 [#13]",
           1.09861228866811,
           2.2435898516851203e-16
          ]
         ],
         "hovertemplate": "<b>%{hovertext}</b><br><br>Class=%{customdata[0]}<br>Region=Substantia Nigra<br>Adcyap1r1_Amount=%{customdata[2]}<br>Cluster=%{customdata[1]}<br>Adcyap1r1_PVal=%{customdata[3]}<extra></extra>",
         "hovertext": [
          "Mural_Rgs5Acta2 [#13]"
         ],
         "legendgroup": "Mural",
         "marker": {
          "color": "#FF6692"
         },
         "name": "Mural",
         "offsetgroup": "Mural",
         "orientation": "v",
         "showlegend": false,
         "textposition": "auto",
         "type": "bar",
         "x": [
          "Mural"
         ],
         "xaxis": "x8",
         "y": [
          1.09861228866811
         ],
         "yaxis": "y8"
        },
        {
         "alignmentgroup": "True",
         "customdata": [
          [
           "Mural",
           "Mural_Rgs5Acta2 [#5]",
           1.09861228866811,
           0.00278027661483071
          ]
         ],
         "hovertemplate": "<b>%{hovertext}</b><br><br>Class=%{customdata[0]}<br>Region=Thalamus<br>Adcyap1r1_Amount=%{customdata[2]}<br>Cluster=%{customdata[1]}<br>Adcyap1r1_PVal=%{customdata[3]}<extra></extra>",
         "hovertext": [
          "Mural_Rgs5Acta2 [#5]"
         ],
         "legendgroup": "Mural",
         "marker": {
          "color": "#FF6692"
         },
         "name": "Mural",
         "offsetgroup": "Mural",
         "orientation": "v",
         "showlegend": false,
         "textposition": "auto",
         "type": "bar",
         "x": [
          "Mural"
         ],
         "xaxis": "x6",
         "y": [
          1.09861228866811
         ],
         "yaxis": "y6"
        },
        {
         "alignmentgroup": "True",
         "customdata": [
          [
           "Mural",
           "Mural_Rgs5Acta2 [#16]",
           1.6094379124341003,
           6.0281234687283206e-12
          ]
         ],
         "hovertemplate": "<b>%{hovertext}</b><br><br>Class=%{customdata[0]}<br>Region=Hippocampus<br>Adcyap1r1_Amount=%{customdata[2]}<br>Cluster=%{customdata[1]}<br>Adcyap1r1_PVal=%{customdata[3]}<extra></extra>",
         "hovertext": [
          "Mural_Rgs5Acta2 [#16]"
         ],
         "legendgroup": "Mural",
         "marker": {
          "color": "#FF6692"
         },
         "name": "Mural",
         "offsetgroup": "Mural",
         "orientation": "v",
         "showlegend": false,
         "textposition": "auto",
         "type": "bar",
         "x": [
          "Mural"
         ],
         "xaxis": "x5",
         "y": [
          1.6094379124341003
         ],
         "yaxis": "y5"
        },
        {
         "alignmentgroup": "True",
         "customdata": [
          [
           "Mural",
           "Mural_Rgs5Acta2 [#13]",
           1.79175946922805,
           0.0395677302370459
          ]
         ],
         "hovertemplate": "<b>%{hovertext}</b><br><br>Class=%{customdata[0]}<br>Region=Posterior Cortex<br>Adcyap1r1_Amount=%{customdata[2]}<br>Cluster=%{customdata[1]}<br>Adcyap1r1_PVal=%{customdata[3]}<extra></extra>",
         "hovertext": [
          "Mural_Rgs5Acta2 [#13]"
         ],
         "legendgroup": "Mural",
         "marker": {
          "color": "#FF6692"
         },
         "name": "Mural",
         "offsetgroup": "Mural",
         "orientation": "v",
         "showlegend": false,
         "textposition": "auto",
         "type": "bar",
         "x": [
          "Mural"
         ],
         "xaxis": "x4",
         "y": [
          1.79175946922805
         ],
         "yaxis": "y4"
        },
        {
         "alignmentgroup": "True",
         "customdata": [
          [
           "Mural",
           "Mural_Rgs5Acta2 [#8]",
           1.6094379124341003,
           0.0514844555099797
          ]
         ],
         "hovertemplate": "<b>%{hovertext}</b><br><br>Class=%{customdata[0]}<br>Region=Striatum<br>Adcyap1r1_Amount=%{customdata[2]}<br>Cluster=%{customdata[1]}<br>Adcyap1r1_PVal=%{customdata[3]}<extra></extra>",
         "hovertext": [
          "Mural_Rgs5Acta2 [#8]"
         ],
         "legendgroup": "Mural",
         "marker": {
          "color": "#FF6692"
         },
         "name": "Mural",
         "offsetgroup": "Mural",
         "orientation": "v",
         "showlegend": false,
         "textposition": "auto",
         "type": "bar",
         "x": [
          "Mural"
         ],
         "xaxis": "x3",
         "y": [
          1.6094379124341003
         ],
         "yaxis": "y3"
        },
        {
         "alignmentgroup": "True",
         "customdata": [
          [
           "Mural",
           "Mural_Rgs5Acta2 [#13]",
           1.38629436111989,
           0.00010302185931019799
          ]
         ],
         "hovertemplate": "<b>%{hovertext}</b><br><br>Class=%{customdata[0]}<br>Region=Frontal Cortex<br>Adcyap1r1_Amount=%{customdata[2]}<br>Cluster=%{customdata[1]}<br>Adcyap1r1_PVal=%{customdata[3]}<extra></extra>",
         "hovertext": [
          "Mural_Rgs5Acta2 [#13]"
         ],
         "legendgroup": "Mural",
         "marker": {
          "color": "#FF6692"
         },
         "name": "Mural",
         "offsetgroup": "Mural",
         "orientation": "v",
         "showlegend": false,
         "textposition": "auto",
         "type": "bar",
         "x": [
          "Mural"
         ],
         "xaxis": "x",
         "y": [
          1.38629436111989
         ],
         "yaxis": "y"
        },
        {
         "alignmentgroup": "True",
         "customdata": [
          [
           "Neurogenesis",
           "Neurogenesis_Sox4 [#13]",
           1.79175946922805,
           9.11673373802801e-06
          ]
         ],
         "hovertemplate": "<b>%{hovertext}</b><br><br>Class=%{customdata[0]}<br>Region=Hippocampus<br>Adcyap1r1_Amount=%{customdata[2]}<br>Cluster=%{customdata[1]}<br>Adcyap1r1_PVal=%{customdata[3]}<extra></extra>",
         "hovertext": [
          "Neurogenesis_Sox4 [#13]"
         ],
         "legendgroup": "Neurogenesis",
         "marker": {
          "color": "#B6E880"
         },
         "name": "Neurogenesis",
         "offsetgroup": "Neurogenesis",
         "orientation": "v",
         "showlegend": true,
         "textposition": "auto",
         "type": "bar",
         "x": [
          "Neurogenesis"
         ],
         "xaxis": "x5",
         "y": [
          1.79175946922805
         ],
         "yaxis": "y5"
        },
        {
         "alignmentgroup": "True",
         "customdata": [
          [
           "Neurogenesis",
           "Neurogenesis_Sox4 [#2]",
           1.38629436111989,
           0.678238263718481
          ]
         ],
         "hovertemplate": "<b>%{hovertext}</b><br><br>Class=%{customdata[0]}<br>Region=Striatum<br>Adcyap1r1_Amount=%{customdata[2]}<br>Cluster=%{customdata[1]}<br>Adcyap1r1_PVal=%{customdata[3]}<extra></extra>",
         "hovertext": [
          "Neurogenesis_Sox4 [#2]"
         ],
         "legendgroup": "Neurogenesis",
         "marker": {
          "color": "#B6E880"
         },
         "name": "Neurogenesis",
         "offsetgroup": "Neurogenesis",
         "orientation": "v",
         "showlegend": false,
         "textposition": "auto",
         "type": "bar",
         "x": [
          "Neurogenesis"
         ],
         "xaxis": "x3",
         "y": [
          1.38629436111989
         ],
         "yaxis": "y3"
        },
        {
         "alignmentgroup": "True",
         "customdata": [
          [
           "Fibroblast-Like",
           "Fibroblast-Like_Dcn [#9]",
           1.09861228866811,
           7.07544224884258e-12
          ]
         ],
         "hovertemplate": "<b>%{hovertext}</b><br><br>Class=%{customdata[0]}<br>Region=Globus Pallidus<br>Adcyap1r1_Amount=%{customdata[2]}<br>Cluster=%{customdata[1]}<br>Adcyap1r1_PVal=%{customdata[3]}<extra></extra>",
         "hovertext": [
          "Fibroblast-Like_Dcn [#9]"
         ],
         "legendgroup": "Fibroblast-Like",
         "marker": {
          "color": "#FF97FF"
         },
         "name": "Fibroblast-Like",
         "offsetgroup": "Fibroblast-Like",
         "orientation": "v",
         "showlegend": true,
         "textposition": "auto",
         "type": "bar",
         "x": [
          "Fibroblast-Like"
         ],
         "xaxis": "x9",
         "y": [
          1.09861228866811
         ],
         "yaxis": "y9"
        },
        {
         "alignmentgroup": "True",
         "customdata": [
          [
           "Fibroblast-Like",
           "Fibroblast-Like_Dcn [#14]",
           0,
           6.605788132194879e-09
          ]
         ],
         "hovertemplate": "<b>%{hovertext}</b><br><br>Class=%{customdata[0]}<br>Region=Substantia Nigra<br>Adcyap1r1_Amount=%{customdata[2]}<br>Cluster=%{customdata[1]}<br>Adcyap1r1_PVal=%{customdata[3]}<extra></extra>",
         "hovertext": [
          "Fibroblast-Like_Dcn [#14]"
         ],
         "legendgroup": "Fibroblast-Like",
         "marker": {
          "color": "#FF97FF"
         },
         "name": "Fibroblast-Like",
         "offsetgroup": "Fibroblast-Like",
         "orientation": "v",
         "showlegend": false,
         "textposition": "auto",
         "type": "bar",
         "x": [
          "Fibroblast-Like"
         ],
         "xaxis": "x8",
         "y": [
          0
         ],
         "yaxis": "y8"
        },
        {
         "alignmentgroup": "True",
         "customdata": [
          [
           "Fibroblast-Like",
           "Fibroblast-Like_Dcn [#6]",
           1.09861228866811,
           0.0471945535544487
          ]
         ],
         "hovertemplate": "<b>%{hovertext}</b><br><br>Class=%{customdata[0]}<br>Region=Thalamus<br>Adcyap1r1_Amount=%{customdata[2]}<br>Cluster=%{customdata[1]}<br>Adcyap1r1_PVal=%{customdata[3]}<extra></extra>",
         "hovertext": [
          "Fibroblast-Like_Dcn [#6]"
         ],
         "legendgroup": "Fibroblast-Like",
         "marker": {
          "color": "#FF97FF"
         },
         "name": "Fibroblast-Like",
         "offsetgroup": "Fibroblast-Like",
         "orientation": "v",
         "showlegend": false,
         "textposition": "auto",
         "type": "bar",
         "x": [
          "Fibroblast-Like"
         ],
         "xaxis": "x6",
         "y": [
          1.09861228866811
         ],
         "yaxis": "y6"
        },
        {
         "alignmentgroup": "True",
         "customdata": [
          [
           "Fibroblast-Like",
           "Fibroblast-Like_Dcn [#17]",
           0.693147180559945,
           4.940051994979201e-12
          ]
         ],
         "hovertemplate": "<b>%{hovertext}</b><br><br>Class=%{customdata[0]}<br>Region=Hippocampus<br>Adcyap1r1_Amount=%{customdata[2]}<br>Cluster=%{customdata[1]}<br>Adcyap1r1_PVal=%{customdata[3]}<extra></extra>",
         "hovertext": [
          "Fibroblast-Like_Dcn [#17]"
         ],
         "legendgroup": "Fibroblast-Like",
         "marker": {
          "color": "#FF97FF"
         },
         "name": "Fibroblast-Like",
         "offsetgroup": "Fibroblast-Like",
         "orientation": "v",
         "showlegend": false,
         "textposition": "auto",
         "type": "bar",
         "x": [
          "Fibroblast-Like"
         ],
         "xaxis": "x5",
         "y": [
          0.693147180559945
         ],
         "yaxis": "y5"
        },
        {
         "alignmentgroup": "True",
         "customdata": [
          [
           "Fibroblast-Like",
           "Fibroblast-Like_Dcn [#14]",
           0.693147180559945,
           1.8759799928079e-10
          ]
         ],
         "hovertemplate": "<b>%{hovertext}</b><br><br>Class=%{customdata[0]}<br>Region=Posterior Cortex<br>Adcyap1r1_Amount=%{customdata[2]}<br>Cluster=%{customdata[1]}<br>Adcyap1r1_PVal=%{customdata[3]}<extra></extra>",
         "hovertext": [
          "Fibroblast-Like_Dcn [#14]"
         ],
         "legendgroup": "Fibroblast-Like",
         "marker": {
          "color": "#FF97FF"
         },
         "name": "Fibroblast-Like",
         "offsetgroup": "Fibroblast-Like",
         "orientation": "v",
         "showlegend": false,
         "textposition": "auto",
         "type": "bar",
         "x": [
          "Fibroblast-Like"
         ],
         "xaxis": "x4",
         "y": [
          0.693147180559945
         ],
         "yaxis": "y4"
        },
        {
         "alignmentgroup": "True",
         "customdata": [
          [
           "Fibroblast-Like",
           "Fibroblast-Like_Dcn [#9]",
           0.693147180559945,
           0.23626409378437302
          ]
         ],
         "hovertemplate": "<b>%{hovertext}</b><br><br>Class=%{customdata[0]}<br>Region=Striatum<br>Adcyap1r1_Amount=%{customdata[2]}<br>Cluster=%{customdata[1]}<br>Adcyap1r1_PVal=%{customdata[3]}<extra></extra>",
         "hovertext": [
          "Fibroblast-Like_Dcn [#9]"
         ],
         "legendgroup": "Fibroblast-Like",
         "marker": {
          "color": "#FF97FF"
         },
         "name": "Fibroblast-Like",
         "offsetgroup": "Fibroblast-Like",
         "orientation": "v",
         "showlegend": false,
         "textposition": "auto",
         "type": "bar",
         "x": [
          "Fibroblast-Like"
         ],
         "xaxis": "x3",
         "y": [
          0.693147180559945
         ],
         "yaxis": "y3"
        },
        {
         "alignmentgroup": "True",
         "customdata": [
          [
           "Fibroblast-Like",
           "Fibroblast-Like_Dcn [#11]",
           1.6094379124341003,
           0.538491725262954
          ]
         ],
         "hovertemplate": "<b>%{hovertext}</b><br><br>Class=%{customdata[0]}<br>Region=Cerebellum<br>Adcyap1r1_Amount=%{customdata[2]}<br>Cluster=%{customdata[1]}<br>Adcyap1r1_PVal=%{customdata[3]}<extra></extra>",
         "hovertext": [
          "Fibroblast-Like_Dcn [#11]"
         ],
         "legendgroup": "Fibroblast-Like",
         "marker": {
          "color": "#FF97FF"
         },
         "name": "Fibroblast-Like",
         "offsetgroup": "Fibroblast-Like",
         "orientation": "v",
         "showlegend": false,
         "textposition": "auto",
         "type": "bar",
         "x": [
          "Fibroblast-Like"
         ],
         "xaxis": "x2",
         "y": [
          1.6094379124341003
         ],
         "yaxis": "y2"
        },
        {
         "alignmentgroup": "True",
         "customdata": [
          [
           "Fibroblast-Like",
           "Fibroblast-Like_Dcn [#14]",
           1.09861228866811,
           3.58074407857341e-05
          ]
         ],
         "hovertemplate": "<b>%{hovertext}</b><br><br>Class=%{customdata[0]}<br>Region=Frontal Cortex<br>Adcyap1r1_Amount=%{customdata[2]}<br>Cluster=%{customdata[1]}<br>Adcyap1r1_PVal=%{customdata[3]}<extra></extra>",
         "hovertext": [
          "Fibroblast-Like_Dcn [#14]"
         ],
         "legendgroup": "Fibroblast-Like",
         "marker": {
          "color": "#FF97FF"
         },
         "name": "Fibroblast-Like",
         "offsetgroup": "Fibroblast-Like",
         "orientation": "v",
         "showlegend": false,
         "textposition": "auto",
         "type": "bar",
         "x": [
          "Fibroblast-Like"
         ],
         "xaxis": "x",
         "y": [
          1.09861228866811
         ],
         "yaxis": "y"
        },
        {
         "alignmentgroup": "True",
         "customdata": [
          [
           "Oligodendrocyte_Polydendrocyte",
           "Oligodendrocyte_Polydendrocyte_Tfr_Tnr [#6]",
           1.38629436111989,
           0.0032798119314119
          ]
         ],
         "hovertemplate": "<b>%{hovertext}</b><br><br>Class=%{customdata[0]}<br>Region=Cerebellum<br>Adcyap1r1_Amount=%{customdata[2]}<br>Cluster=%{customdata[1]}<br>Adcyap1r1_PVal=%{customdata[3]}<extra></extra>",
         "hovertext": [
          "Oligodendrocyte_Polydendrocyte_Tfr_Tnr [#6]"
         ],
         "legendgroup": "Oligodendrocyte_Polydendrocyte",
         "marker": {
          "color": "#FECB52"
         },
         "name": "Oligodendrocyte_Polydendrocyte",
         "offsetgroup": "Oligodendrocyte_Polydendrocyte",
         "orientation": "v",
         "showlegend": true,
         "textposition": "auto",
         "type": "bar",
         "x": [
          "Oligodendrocyte_Polydendrocyte"
         ],
         "xaxis": "x2",
         "y": [
          1.38629436111989
         ],
         "yaxis": "y2"
        },
        {
         "alignmentgroup": "True",
         "customdata": [
          [
           "Mural_Fibroblast-Like",
           "Mural_Fibroblast-Like_Rgs5Acta2-Dcn [#3]",
           1.38629436111989,
           0.10359860337643
          ]
         ],
         "hovertemplate": "<b>%{hovertext}</b><br><br>Class=%{customdata[0]}<br>Region=Entopeduncular<br>Adcyap1r1_Amount=%{customdata[2]}<br>Cluster=%{customdata[1]}<br>Adcyap1r1_PVal=%{customdata[3]}<extra></extra>",
         "hovertext": [
          "Mural_Fibroblast-Like_Rgs5Acta2-Dcn [#3]"
         ],
         "legendgroup": "Mural_Fibroblast-Like",
         "marker": {
          "color": "#636efa"
         },
         "name": "Mural_Fibroblast-Like",
         "offsetgroup": "Mural_Fibroblast-Like",
         "orientation": "v",
         "showlegend": true,
         "textposition": "auto",
         "type": "bar",
         "x": [
          "Mural_Fibroblast-Like"
         ],
         "xaxis": "x7",
         "y": [
          1.38629436111989
         ],
         "yaxis": "y7"
        },
        {
         "alignmentgroup": "True",
         "customdata": [
          [
           "Endothelial",
           "Endothelial_Flt1 [#7]",
           0.693147180559945,
           2.019320397905789e-157
          ]
         ],
         "hovertemplate": "<b>%{hovertext}</b><br><br>Class=%{customdata[0]}<br>Region=Globus Pallidus<br>Adcyap1r1_Amount=%{customdata[2]}<br>Cluster=%{customdata[1]}<br>Adcyap1r1_PVal=%{customdata[3]}<extra></extra>",
         "hovertext": [
          "Endothelial_Flt1 [#7]"
         ],
         "legendgroup": "Endothelial",
         "marker": {
          "color": "#EF553B"
         },
         "name": "Endothelial",
         "offsetgroup": "Endothelial",
         "orientation": "v",
         "showlegend": true,
         "textposition": "auto",
         "type": "bar",
         "x": [
          "Endothelial"
         ],
         "xaxis": "x9",
         "y": [
          0.693147180559945
         ],
         "yaxis": "y9"
        },
        {
         "alignmentgroup": "True",
         "customdata": [
          [
           "Endothelial",
           "Endothelial_Flt1 [#12]",
           0.693147180559945,
           2.7877781207888994e-94
          ]
         ],
         "hovertemplate": "<b>%{hovertext}</b><br><br>Class=%{customdata[0]}<br>Region=Substantia Nigra<br>Adcyap1r1_Amount=%{customdata[2]}<br>Cluster=%{customdata[1]}<br>Adcyap1r1_PVal=%{customdata[3]}<extra></extra>",
         "hovertext": [
          "Endothelial_Flt1 [#12]"
         ],
         "legendgroup": "Endothelial",
         "marker": {
          "color": "#EF553B"
         },
         "name": "Endothelial",
         "offsetgroup": "Endothelial",
         "orientation": "v",
         "showlegend": false,
         "textposition": "auto",
         "type": "bar",
         "x": [
          "Endothelial"
         ],
         "xaxis": "x8",
         "y": [
          0.693147180559945
         ],
         "yaxis": "y8"
        },
        {
         "alignmentgroup": "True",
         "customdata": [
          [
           "Endothelial",
           "Endothelial_Flt1 [#2]",
           0.693147180559945,
           2.44732879131391e-26
          ]
         ],
         "hovertemplate": "<b>%{hovertext}</b><br><br>Class=%{customdata[0]}<br>Region=Entopeduncular<br>Adcyap1r1_Amount=%{customdata[2]}<br>Cluster=%{customdata[1]}<br>Adcyap1r1_PVal=%{customdata[3]}<extra></extra>",
         "hovertext": [
          "Endothelial_Flt1 [#2]"
         ],
         "legendgroup": "Endothelial",
         "marker": {
          "color": "#EF553B"
         },
         "name": "Endothelial",
         "offsetgroup": "Endothelial",
         "orientation": "v",
         "showlegend": false,
         "textposition": "auto",
         "type": "bar",
         "x": [
          "Endothelial"
         ],
         "xaxis": "x7",
         "y": [
          0.693147180559945
         ],
         "yaxis": "y7"
        },
        {
         "alignmentgroup": "True",
         "customdata": [
          [
           "Endothelial",
           "Endothelial_Flt1 [#4]",
           0.693147180559945,
           6.706505548839049e-80
          ]
         ],
         "hovertemplate": "<b>%{hovertext}</b><br><br>Class=%{customdata[0]}<br>Region=Thalamus<br>Adcyap1r1_Amount=%{customdata[2]}<br>Cluster=%{customdata[1]}<br>Adcyap1r1_PVal=%{customdata[3]}<extra></extra>",
         "hovertext": [
          "Endothelial_Flt1 [#4]"
         ],
         "legendgroup": "Endothelial",
         "marker": {
          "color": "#EF553B"
         },
         "name": "Endothelial",
         "offsetgroup": "Endothelial",
         "orientation": "v",
         "showlegend": false,
         "textposition": "auto",
         "type": "bar",
         "x": [
          "Endothelial"
         ],
         "xaxis": "x6",
         "y": [
          0.693147180559945
         ],
         "yaxis": "y6"
        },
        {
         "alignmentgroup": "True",
         "customdata": [
          [
           "Endothelial",
           "Endothelial_Flt1 [#15]",
           0.693147180559945,
           4.8417653608117986e-88
          ]
         ],
         "hovertemplate": "<b>%{hovertext}</b><br><br>Class=%{customdata[0]}<br>Region=Hippocampus<br>Adcyap1r1_Amount=%{customdata[2]}<br>Cluster=%{customdata[1]}<br>Adcyap1r1_PVal=%{customdata[3]}<extra></extra>",
         "hovertext": [
          "Endothelial_Flt1 [#15]"
         ],
         "legendgroup": "Endothelial",
         "marker": {
          "color": "#EF553B"
         },
         "name": "Endothelial",
         "offsetgroup": "Endothelial",
         "orientation": "v",
         "showlegend": false,
         "textposition": "auto",
         "type": "bar",
         "x": [
          "Endothelial"
         ],
         "xaxis": "x5",
         "y": [
          0.693147180559945
         ],
         "yaxis": "y5"
        },
        {
         "alignmentgroup": "True",
         "customdata": [
          [
           "Endothelial",
           "Endothelial_Flt1 [#12]",
           0.693147180559945,
           3.48087039328855e-47
          ]
         ],
         "hovertemplate": "<b>%{hovertext}</b><br><br>Class=%{customdata[0]}<br>Region=Posterior Cortex<br>Adcyap1r1_Amount=%{customdata[2]}<br>Cluster=%{customdata[1]}<br>Adcyap1r1_PVal=%{customdata[3]}<extra></extra>",
         "hovertext": [
          "Endothelial_Flt1 [#12]"
         ],
         "legendgroup": "Endothelial",
         "marker": {
          "color": "#EF553B"
         },
         "name": "Endothelial",
         "offsetgroup": "Endothelial",
         "orientation": "v",
         "showlegend": false,
         "textposition": "auto",
         "type": "bar",
         "x": [
          "Endothelial"
         ],
         "xaxis": "x4",
         "y": [
          0.693147180559945
         ],
         "yaxis": "y4"
        },
        {
         "alignmentgroup": "True",
         "customdata": [
          [
           "Endothelial",
           "Endothelial_Flt1 [#7]",
           0.693147180559945,
           2.16769835588138e-07
          ]
         ],
         "hovertemplate": "<b>%{hovertext}</b><br><br>Class=%{customdata[0]}<br>Region=Striatum<br>Adcyap1r1_Amount=%{customdata[2]}<br>Cluster=%{customdata[1]}<br>Adcyap1r1_PVal=%{customdata[3]}<extra></extra>",
         "hovertext": [
          "Endothelial_Flt1 [#7]"
         ],
         "legendgroup": "Endothelial",
         "marker": {
          "color": "#EF553B"
         },
         "name": "Endothelial",
         "offsetgroup": "Endothelial",
         "orientation": "v",
         "showlegend": false,
         "textposition": "auto",
         "type": "bar",
         "x": [
          "Endothelial"
         ],
         "xaxis": "x3",
         "y": [
          0.693147180559945
         ],
         "yaxis": "y3"
        },
        {
         "alignmentgroup": "True",
         "customdata": [
          [
           "Endothelial",
           "Endothelial_Flt1 [#10]",
           0,
           2.83292560655726e-06
          ]
         ],
         "hovertemplate": "<b>%{hovertext}</b><br><br>Class=%{customdata[0]}<br>Region=Cerebellum<br>Adcyap1r1_Amount=%{customdata[2]}<br>Cluster=%{customdata[1]}<br>Adcyap1r1_PVal=%{customdata[3]}<extra></extra>",
         "hovertext": [
          "Endothelial_Flt1 [#10]"
         ],
         "legendgroup": "Endothelial",
         "marker": {
          "color": "#EF553B"
         },
         "name": "Endothelial",
         "offsetgroup": "Endothelial",
         "orientation": "v",
         "showlegend": false,
         "textposition": "auto",
         "type": "bar",
         "x": [
          "Endothelial"
         ],
         "xaxis": "x2",
         "y": [
          0
         ],
         "yaxis": "y2"
        },
        {
         "alignmentgroup": "True",
         "customdata": [
          [
           "Endothelial",
           "Endothelial_Flt1 [#12]",
           0.693147180559945,
           3.463086979709989e-69
          ]
         ],
         "hovertemplate": "<b>%{hovertext}</b><br><br>Class=%{customdata[0]}<br>Region=Frontal Cortex<br>Adcyap1r1_Amount=%{customdata[2]}<br>Cluster=%{customdata[1]}<br>Adcyap1r1_PVal=%{customdata[3]}<extra></extra>",
         "hovertext": [
          "Endothelial_Flt1 [#12]"
         ],
         "legendgroup": "Endothelial",
         "marker": {
          "color": "#EF553B"
         },
         "name": "Endothelial",
         "offsetgroup": "Endothelial",
         "orientation": "v",
         "showlegend": false,
         "textposition": "auto",
         "type": "bar",
         "x": [
          "Endothelial"
         ],
         "xaxis": "x",
         "y": [
          0.693147180559945
         ],
         "yaxis": "y"
        },
        {
         "alignmentgroup": "True",
         "customdata": [
          [
           "Choroid_Plexus",
           "Choroid_Plexus_Ttr [#12]",
           0,
           6.57674469160085e-08
          ]
         ],
         "hovertemplate": "<b>%{hovertext}</b><br><br>Class=%{customdata[0]}<br>Region=Hippocampus<br>Adcyap1r1_Amount=%{customdata[2]}<br>Cluster=%{customdata[1]}<br>Adcyap1r1_PVal=%{customdata[3]}<extra></extra>",
         "hovertext": [
          "Choroid_Plexus_Ttr [#12]"
         ],
         "legendgroup": "Choroid_Plexus",
         "marker": {
          "color": "#00cc96"
         },
         "name": "Choroid_Plexus",
         "offsetgroup": "Choroid_Plexus",
         "orientation": "v",
         "showlegend": true,
         "textposition": "auto",
         "type": "bar",
         "x": [
          "Choroid_Plexus"
         ],
         "xaxis": "x5",
         "y": [
          0
         ],
         "yaxis": "y5"
        },
        {
         "alignmentgroup": "True",
         "customdata": [
          [
           "Choroid_Plexus",
           "Choroid_Plexus_Ttr [#9]",
           0,
           0.00384463976298838
          ]
         ],
         "hovertemplate": "<b>%{hovertext}</b><br><br>Class=%{customdata[0]}<br>Region=Cerebellum<br>Adcyap1r1_Amount=%{customdata[2]}<br>Cluster=%{customdata[1]}<br>Adcyap1r1_PVal=%{customdata[3]}<extra></extra>",
         "hovertext": [
          "Choroid_Plexus_Ttr [#9]"
         ],
         "legendgroup": "Choroid_Plexus",
         "marker": {
          "color": "#00cc96"
         },
         "name": "Choroid_Plexus",
         "offsetgroup": "Choroid_Plexus",
         "orientation": "v",
         "showlegend": false,
         "textposition": "auto",
         "type": "bar",
         "x": [
          "Choroid_Plexus"
         ],
         "xaxis": "x2",
         "y": [
          0
         ],
         "yaxis": "y2"
        }
       ],
       "layout": {
        "annotations": [
         {
          "font": {},
          "showarrow": false,
          "text": "Frontal Cortex",
          "textangle": 90,
          "x": 0.98,
          "xanchor": "left",
          "xref": "paper",
          "y": 0.042222222222222223,
          "yanchor": "middle",
          "yref": "paper"
         },
         {
          "font": {},
          "showarrow": false,
          "text": "Cerebellum",
          "textangle": 90,
          "x": 0.98,
          "xanchor": "left",
          "xref": "paper",
          "y": 0.15666666666666668,
          "yanchor": "middle",
          "yref": "paper"
         },
         {
          "font": {},
          "showarrow": false,
          "text": "Striatum",
          "textangle": 90,
          "x": 0.98,
          "xanchor": "left",
          "xref": "paper",
          "y": 0.27111111111111114,
          "yanchor": "middle",
          "yref": "paper"
         },
         {
          "font": {},
          "showarrow": false,
          "text": "Posterior Cortex",
          "textangle": 90,
          "x": 0.98,
          "xanchor": "left",
          "xref": "paper",
          "y": 0.3855555555555556,
          "yanchor": "middle",
          "yref": "paper"
         },
         {
          "font": {},
          "showarrow": false,
          "text": "Hippocampus",
          "textangle": 90,
          "x": 0.98,
          "xanchor": "left",
          "xref": "paper",
          "y": 0.5,
          "yanchor": "middle",
          "yref": "paper"
         },
         {
          "font": {},
          "showarrow": false,
          "text": "Thalamus",
          "textangle": 90,
          "x": 0.98,
          "xanchor": "left",
          "xref": "paper",
          "y": 0.6144444444444443,
          "yanchor": "middle",
          "yref": "paper"
         },
         {
          "font": {},
          "showarrow": false,
          "text": "Entopeduncular",
          "textangle": 90,
          "x": 0.98,
          "xanchor": "left",
          "xref": "paper",
          "y": 0.7288888888888889,
          "yanchor": "middle",
          "yref": "paper"
         },
         {
          "font": {},
          "showarrow": false,
          "text": "Substantia Nigra",
          "textangle": 90,
          "x": 0.98,
          "xanchor": "left",
          "xref": "paper",
          "y": 0.8433333333333333,
          "yanchor": "middle",
          "yref": "paper"
         },
         {
          "font": {},
          "showarrow": false,
          "text": "Globus Pallidus",
          "textangle": 90,
          "x": 0.98,
          "xanchor": "left",
          "xref": "paper",
          "y": 0.9577777777777778,
          "yanchor": "middle",
          "yref": "paper"
         }
        ],
        "barmode": "relative",
        "height": 2100,
        "legend": {
         "title": {
          "text": "Class"
         },
         "tracegroupgap": 0
        },
        "margin": {
         "t": 60
        },
        "template": {
         "data": {
          "bar": [
           {
            "error_x": {
             "color": "#2a3f5f"
            },
            "error_y": {
             "color": "#2a3f5f"
            },
            "marker": {
             "line": {
              "color": "#E5ECF6",
              "width": 0.5
             }
            },
            "type": "bar"
           }
          ],
          "barpolar": [
           {
            "marker": {
             "line": {
              "color": "#E5ECF6",
              "width": 0.5
             }
            },
            "type": "barpolar"
           }
          ],
          "carpet": [
           {
            "aaxis": {
             "endlinecolor": "#2a3f5f",
             "gridcolor": "white",
             "linecolor": "white",
             "minorgridcolor": "white",
             "startlinecolor": "#2a3f5f"
            },
            "baxis": {
             "endlinecolor": "#2a3f5f",
             "gridcolor": "white",
             "linecolor": "white",
             "minorgridcolor": "white",
             "startlinecolor": "#2a3f5f"
            },
            "type": "carpet"
           }
          ],
          "choropleth": [
           {
            "colorbar": {
             "outlinewidth": 0,
             "ticks": ""
            },
            "type": "choropleth"
           }
          ],
          "contour": [
           {
            "colorbar": {
             "outlinewidth": 0,
             "ticks": ""
            },
            "colorscale": [
             [
              0,
              "#0d0887"
             ],
             [
              0.1111111111111111,
              "#46039f"
             ],
             [
              0.2222222222222222,
              "#7201a8"
             ],
             [
              0.3333333333333333,
              "#9c179e"
             ],
             [
              0.4444444444444444,
              "#bd3786"
             ],
             [
              0.5555555555555556,
              "#d8576b"
             ],
             [
              0.6666666666666666,
              "#ed7953"
             ],
             [
              0.7777777777777778,
              "#fb9f3a"
             ],
             [
              0.8888888888888888,
              "#fdca26"
             ],
             [
              1,
              "#f0f921"
             ]
            ],
            "type": "contour"
           }
          ],
          "contourcarpet": [
           {
            "colorbar": {
             "outlinewidth": 0,
             "ticks": ""
            },
            "type": "contourcarpet"
           }
          ],
          "heatmap": [
           {
            "colorbar": {
             "outlinewidth": 0,
             "ticks": ""
            },
            "colorscale": [
             [
              0,
              "#0d0887"
             ],
             [
              0.1111111111111111,
              "#46039f"
             ],
             [
              0.2222222222222222,
              "#7201a8"
             ],
             [
              0.3333333333333333,
              "#9c179e"
             ],
             [
              0.4444444444444444,
              "#bd3786"
             ],
             [
              0.5555555555555556,
              "#d8576b"
             ],
             [
              0.6666666666666666,
              "#ed7953"
             ],
             [
              0.7777777777777778,
              "#fb9f3a"
             ],
             [
              0.8888888888888888,
              "#fdca26"
             ],
             [
              1,
              "#f0f921"
             ]
            ],
            "type": "heatmap"
           }
          ],
          "heatmapgl": [
           {
            "colorbar": {
             "outlinewidth": 0,
             "ticks": ""
            },
            "colorscale": [
             [
              0,
              "#0d0887"
             ],
             [
              0.1111111111111111,
              "#46039f"
             ],
             [
              0.2222222222222222,
              "#7201a8"
             ],
             [
              0.3333333333333333,
              "#9c179e"
             ],
             [
              0.4444444444444444,
              "#bd3786"
             ],
             [
              0.5555555555555556,
              "#d8576b"
             ],
             [
              0.6666666666666666,
              "#ed7953"
             ],
             [
              0.7777777777777778,
              "#fb9f3a"
             ],
             [
              0.8888888888888888,
              "#fdca26"
             ],
             [
              1,
              "#f0f921"
             ]
            ],
            "type": "heatmapgl"
           }
          ],
          "histogram": [
           {
            "marker": {
             "colorbar": {
              "outlinewidth": 0,
              "ticks": ""
             }
            },
            "type": "histogram"
           }
          ],
          "histogram2d": [
           {
            "colorbar": {
             "outlinewidth": 0,
             "ticks": ""
            },
            "colorscale": [
             [
              0,
              "#0d0887"
             ],
             [
              0.1111111111111111,
              "#46039f"
             ],
             [
              0.2222222222222222,
              "#7201a8"
             ],
             [
              0.3333333333333333,
              "#9c179e"
             ],
             [
              0.4444444444444444,
              "#bd3786"
             ],
             [
              0.5555555555555556,
              "#d8576b"
             ],
             [
              0.6666666666666666,
              "#ed7953"
             ],
             [
              0.7777777777777778,
              "#fb9f3a"
             ],
             [
              0.8888888888888888,
              "#fdca26"
             ],
             [
              1,
              "#f0f921"
             ]
            ],
            "type": "histogram2d"
           }
          ],
          "histogram2dcontour": [
           {
            "colorbar": {
             "outlinewidth": 0,
             "ticks": ""
            },
            "colorscale": [
             [
              0,
              "#0d0887"
             ],
             [
              0.1111111111111111,
              "#46039f"
             ],
             [
              0.2222222222222222,
              "#7201a8"
             ],
             [
              0.3333333333333333,
              "#9c179e"
             ],
             [
              0.4444444444444444,
              "#bd3786"
             ],
             [
              0.5555555555555556,
              "#d8576b"
             ],
             [
              0.6666666666666666,
              "#ed7953"
             ],
             [
              0.7777777777777778,
              "#fb9f3a"
             ],
             [
              0.8888888888888888,
              "#fdca26"
             ],
             [
              1,
              "#f0f921"
             ]
            ],
            "type": "histogram2dcontour"
           }
          ],
          "mesh3d": [
           {
            "colorbar": {
             "outlinewidth": 0,
             "ticks": ""
            },
            "type": "mesh3d"
           }
          ],
          "parcoords": [
           {
            "line": {
             "colorbar": {
              "outlinewidth": 0,
              "ticks": ""
             }
            },
            "type": "parcoords"
           }
          ],
          "pie": [
           {
            "automargin": true,
            "type": "pie"
           }
          ],
          "scatter": [
           {
            "marker": {
             "colorbar": {
              "outlinewidth": 0,
              "ticks": ""
             }
            },
            "type": "scatter"
           }
          ],
          "scatter3d": [
           {
            "line": {
             "colorbar": {
              "outlinewidth": 0,
              "ticks": ""
             }
            },
            "marker": {
             "colorbar": {
              "outlinewidth": 0,
              "ticks": ""
             }
            },
            "type": "scatter3d"
           }
          ],
          "scattercarpet": [
           {
            "marker": {
             "colorbar": {
              "outlinewidth": 0,
              "ticks": ""
             }
            },
            "type": "scattercarpet"
           }
          ],
          "scattergeo": [
           {
            "marker": {
             "colorbar": {
              "outlinewidth": 0,
              "ticks": ""
             }
            },
            "type": "scattergeo"
           }
          ],
          "scattergl": [
           {
            "marker": {
             "colorbar": {
              "outlinewidth": 0,
              "ticks": ""
             }
            },
            "type": "scattergl"
           }
          ],
          "scattermapbox": [
           {
            "marker": {
             "colorbar": {
              "outlinewidth": 0,
              "ticks": ""
             }
            },
            "type": "scattermapbox"
           }
          ],
          "scatterpolar": [
           {
            "marker": {
             "colorbar": {
              "outlinewidth": 0,
              "ticks": ""
             }
            },
            "type": "scatterpolar"
           }
          ],
          "scatterpolargl": [
           {
            "marker": {
             "colorbar": {
              "outlinewidth": 0,
              "ticks": ""
             }
            },
            "type": "scatterpolargl"
           }
          ],
          "scatterternary": [
           {
            "marker": {
             "colorbar": {
              "outlinewidth": 0,
              "ticks": ""
             }
            },
            "type": "scatterternary"
           }
          ],
          "surface": [
           {
            "colorbar": {
             "outlinewidth": 0,
             "ticks": ""
            },
            "colorscale": [
             [
              0,
              "#0d0887"
             ],
             [
              0.1111111111111111,
              "#46039f"
             ],
             [
              0.2222222222222222,
              "#7201a8"
             ],
             [
              0.3333333333333333,
              "#9c179e"
             ],
             [
              0.4444444444444444,
              "#bd3786"
             ],
             [
              0.5555555555555556,
              "#d8576b"
             ],
             [
              0.6666666666666666,
              "#ed7953"
             ],
             [
              0.7777777777777778,
              "#fb9f3a"
             ],
             [
              0.8888888888888888,
              "#fdca26"
             ],
             [
              1,
              "#f0f921"
             ]
            ],
            "type": "surface"
           }
          ],
          "table": [
           {
            "cells": {
             "fill": {
              "color": "#EBF0F8"
             },
             "line": {
              "color": "white"
             }
            },
            "header": {
             "fill": {
              "color": "#C8D4E3"
             },
             "line": {
              "color": "white"
             }
            },
            "type": "table"
           }
          ]
         },
         "layout": {
          "annotationdefaults": {
           "arrowcolor": "#2a3f5f",
           "arrowhead": 0,
           "arrowwidth": 1
          },
          "coloraxis": {
           "colorbar": {
            "outlinewidth": 0,
            "ticks": ""
           }
          },
          "colorscale": {
           "diverging": [
            [
             0,
             "#8e0152"
            ],
            [
             0.1,
             "#c51b7d"
            ],
            [
             0.2,
             "#de77ae"
            ],
            [
             0.3,
             "#f1b6da"
            ],
            [
             0.4,
             "#fde0ef"
            ],
            [
             0.5,
             "#f7f7f7"
            ],
            [
             0.6,
             "#e6f5d0"
            ],
            [
             0.7,
             "#b8e186"
            ],
            [
             0.8,
             "#7fbc41"
            ],
            [
             0.9,
             "#4d9221"
            ],
            [
             1,
             "#276419"
            ]
           ],
           "sequential": [
            [
             0,
             "#0d0887"
            ],
            [
             0.1111111111111111,
             "#46039f"
            ],
            [
             0.2222222222222222,
             "#7201a8"
            ],
            [
             0.3333333333333333,
             "#9c179e"
            ],
            [
             0.4444444444444444,
             "#bd3786"
            ],
            [
             0.5555555555555556,
             "#d8576b"
            ],
            [
             0.6666666666666666,
             "#ed7953"
            ],
            [
             0.7777777777777778,
             "#fb9f3a"
            ],
            [
             0.8888888888888888,
             "#fdca26"
            ],
            [
             1,
             "#f0f921"
            ]
           ],
           "sequentialminus": [
            [
             0,
             "#0d0887"
            ],
            [
             0.1111111111111111,
             "#46039f"
            ],
            [
             0.2222222222222222,
             "#7201a8"
            ],
            [
             0.3333333333333333,
             "#9c179e"
            ],
            [
             0.4444444444444444,
             "#bd3786"
            ],
            [
             0.5555555555555556,
             "#d8576b"
            ],
            [
             0.6666666666666666,
             "#ed7953"
            ],
            [
             0.7777777777777778,
             "#fb9f3a"
            ],
            [
             0.8888888888888888,
             "#fdca26"
            ],
            [
             1,
             "#f0f921"
            ]
           ]
          },
          "colorway": [
           "#636efa",
           "#EF553B",
           "#00cc96",
           "#ab63fa",
           "#FFA15A",
           "#19d3f3",
           "#FF6692",
           "#B6E880",
           "#FF97FF",
           "#FECB52"
          ],
          "font": {
           "color": "#2a3f5f"
          },
          "geo": {
           "bgcolor": "white",
           "lakecolor": "white",
           "landcolor": "#E5ECF6",
           "showlakes": true,
           "showland": true,
           "subunitcolor": "white"
          },
          "hoverlabel": {
           "align": "left"
          },
          "hovermode": "closest",
          "mapbox": {
           "style": "light"
          },
          "paper_bgcolor": "white",
          "plot_bgcolor": "#E5ECF6",
          "polar": {
           "angularaxis": {
            "gridcolor": "white",
            "linecolor": "white",
            "ticks": ""
           },
           "bgcolor": "#E5ECF6",
           "radialaxis": {
            "gridcolor": "white",
            "linecolor": "white",
            "ticks": ""
           }
          },
          "scene": {
           "xaxis": {
            "backgroundcolor": "#E5ECF6",
            "gridcolor": "white",
            "gridwidth": 2,
            "linecolor": "white",
            "showbackground": true,
            "ticks": "",
            "zerolinecolor": "white"
           },
           "yaxis": {
            "backgroundcolor": "#E5ECF6",
            "gridcolor": "white",
            "gridwidth": 2,
            "linecolor": "white",
            "showbackground": true,
            "ticks": "",
            "zerolinecolor": "white"
           },
           "zaxis": {
            "backgroundcolor": "#E5ECF6",
            "gridcolor": "white",
            "gridwidth": 2,
            "linecolor": "white",
            "showbackground": true,
            "ticks": "",
            "zerolinecolor": "white"
           }
          },
          "shapedefaults": {
           "line": {
            "color": "#2a3f5f"
           }
          },
          "ternary": {
           "aaxis": {
            "gridcolor": "white",
            "linecolor": "white",
            "ticks": ""
           },
           "baxis": {
            "gridcolor": "white",
            "linecolor": "white",
            "ticks": ""
           },
           "bgcolor": "#E5ECF6",
           "caxis": {
            "gridcolor": "white",
            "linecolor": "white",
            "ticks": ""
           }
          },
          "title": {
           "x": 0.05
          },
          "xaxis": {
           "automargin": true,
           "gridcolor": "white",
           "linecolor": "white",
           "ticks": "",
           "title": {
            "standoff": 15
           },
           "zerolinecolor": "white",
           "zerolinewidth": 2
          },
          "yaxis": {
           "automargin": true,
           "gridcolor": "white",
           "linecolor": "white",
           "ticks": "",
           "title": {
            "standoff": 15
           },
           "zerolinecolor": "white",
           "zerolinewidth": 2
          }
         }
        },
        "width": 1200,
        "xaxis": {
         "anchor": "y",
         "categoryarray": [
          "Astrocyte",
          "Polydendrocyte",
          "Neuron",
          "Oligodendrocyte",
          "Ependyma",
          "Microglia_Macrophage",
          "Mural",
          "Neurogenesis",
          "Fibroblast-Like",
          "Oligodendrocyte_Polydendrocyte",
          "Mural_Fibroblast-Like",
          "Endothelial",
          "Choroid_Plexus"
         ],
         "categoryorder": "array",
         "domain": [
          0,
          0.98
         ],
         "title": {
          "text": "Class"
         }
        },
        "xaxis2": {
         "anchor": "y2",
         "domain": [
          0,
          0.98
         ],
         "matches": "x",
         "showticklabels": false
        },
        "xaxis3": {
         "anchor": "y3",
         "domain": [
          0,
          0.98
         ],
         "matches": "x",
         "showticklabels": false
        },
        "xaxis4": {
         "anchor": "y4",
         "domain": [
          0,
          0.98
         ],
         "matches": "x",
         "showticklabels": false
        },
        "xaxis5": {
         "anchor": "y5",
         "domain": [
          0,
          0.98
         ],
         "matches": "x",
         "showticklabels": false
        },
        "xaxis6": {
         "anchor": "y6",
         "domain": [
          0,
          0.98
         ],
         "matches": "x",
         "showticklabels": false
        },
        "xaxis7": {
         "anchor": "y7",
         "domain": [
          0,
          0.98
         ],
         "matches": "x",
         "showticklabels": false
        },
        "xaxis8": {
         "anchor": "y8",
         "domain": [
          0,
          0.98
         ],
         "matches": "x",
         "showticklabels": false
        },
        "xaxis9": {
         "anchor": "y9",
         "domain": [
          0,
          0.98
         ],
         "matches": "x",
         "showticklabels": false
        },
        "yaxis": {
         "anchor": "x",
         "domain": [
          0,
          0.08444444444444445
         ],
         "title": {
          "text": ""
         }
        },
        "yaxis2": {
         "anchor": "x2",
         "domain": [
          0.11444444444444445,
          0.1988888888888889
         ],
         "matches": "y",
         "title": {
          "text": ""
         }
        },
        "yaxis3": {
         "anchor": "x3",
         "domain": [
          0.2288888888888889,
          0.31333333333333335
         ],
         "matches": "y",
         "title": {
          "text": ""
         }
        },
        "yaxis4": {
         "anchor": "x4",
         "domain": [
          0.3433333333333334,
          0.4277777777777778
         ],
         "matches": "y",
         "title": {
          "text": ""
         }
        },
        "yaxis5": {
         "anchor": "x5",
         "domain": [
          0.4577777777777778,
          0.5422222222222223
         ],
         "matches": "y",
         "title": {
          "text": ""
         }
        },
        "yaxis6": {
         "anchor": "x6",
         "domain": [
          0.5722222222222222,
          0.6566666666666666
         ],
         "matches": "y",
         "title": {
          "text": ""
         }
        },
        "yaxis7": {
         "anchor": "x7",
         "domain": [
          0.6866666666666668,
          0.7711111111111112
         ],
         "matches": "y",
         "title": {
          "text": ""
         }
        },
        "yaxis8": {
         "anchor": "x8",
         "domain": [
          0.8011111111111111,
          0.8855555555555555
         ],
         "matches": "y",
         "title": {
          "text": ""
         }
        },
        "yaxis9": {
         "anchor": "x9",
         "domain": [
          0.9155555555555556,
          1
         ],
         "matches": "y",
         "title": {
          "text": ""
         }
        }
       }
      },
      "text/html": [
       "<div>\n",
       "        \n",
       "        \n",
       "            <div id=\"7154b5eb-344b-4578-9fa4-448cfa3e7629\" class=\"plotly-graph-div\" style=\"height:2100px; width:1200px;\"></div>\n",
       "            <script type=\"text/javascript\">\n",
       "                require([\"plotly\"], function(Plotly) {\n",
       "                    window.PLOTLYENV=window.PLOTLYENV || {};\n",
       "                    \n",
       "                if (document.getElementById(\"7154b5eb-344b-4578-9fa4-448cfa3e7629\")) {\n",
       "                    Plotly.newPlot(\n",
       "                        '7154b5eb-344b-4578-9fa4-448cfa3e7629',\n",
       "                        [{\"alignmentgroup\": \"True\", \"customdata\": [[\"Astrocyte\", \"Astrocyte_Gja1 [#5]\", 3.7841896339182597, 0.0]], \"hovertemplate\": \"<b>%{hovertext}</b><br><br>Class=%{customdata[0]}<br>Region=Globus Pallidus<br>Adcyap1r1_Amount=%{customdata[2]}<br>Cluster=%{customdata[1]}<br>Adcyap1r1_PVal=%{customdata[3]}<extra></extra>\", \"hovertext\": [\"Astrocyte_Gja1 [#5]\"], \"legendgroup\": \"Astrocyte\", \"marker\": {\"color\": \"#636efa\"}, \"name\": \"Astrocyte\", \"offsetgroup\": \"Astrocyte\", \"orientation\": \"v\", \"showlegend\": true, \"textposition\": \"auto\", \"type\": \"bar\", \"x\": [\"Astrocyte\"], \"xaxis\": \"x9\", \"y\": [3.7841896339182597], \"yaxis\": \"y9\"}, {\"alignmentgroup\": \"True\", \"customdata\": [[\"Astrocyte\", \"Astrocyte_Gja1 [#7]\", 3.61091791264422, 0.0]], \"hovertemplate\": \"<b>%{hovertext}</b><br><br>Class=%{customdata[0]}<br>Region=Substantia Nigra<br>Adcyap1r1_Amount=%{customdata[2]}<br>Cluster=%{customdata[1]}<br>Adcyap1r1_PVal=%{customdata[3]}<extra></extra>\", \"hovertext\": [\"Astrocyte_Gja1 [#7]\"], \"legendgroup\": \"Astrocyte\", \"marker\": {\"color\": \"#636efa\"}, \"name\": \"Astrocyte\", \"offsetgroup\": \"Astrocyte\", \"orientation\": \"v\", \"showlegend\": false, \"textposition\": \"auto\", \"type\": \"bar\", \"x\": [\"Astrocyte\"], \"xaxis\": \"x8\", \"y\": [3.61091791264422], \"yaxis\": \"y8\"}, {\"alignmentgroup\": \"True\", \"customdata\": [[\"Astrocyte\", \"Astrocyte_Gja1 [#7]\", 3.49650756146648, 2.963359431103179e-137]], \"hovertemplate\": \"<b>%{hovertext}</b><br><br>Class=%{customdata[0]}<br>Region=Entopeduncular<br>Adcyap1r1_Amount=%{customdata[2]}<br>Cluster=%{customdata[1]}<br>Adcyap1r1_PVal=%{customdata[3]}<extra></extra>\", \"hovertext\": [\"Astrocyte_Gja1 [#7]\"], \"legendgroup\": \"Astrocyte\", \"marker\": {\"color\": \"#636efa\"}, \"name\": \"Astrocyte\", \"offsetgroup\": \"Astrocyte\", \"orientation\": \"v\", \"showlegend\": false, \"textposition\": \"auto\", \"type\": \"bar\", \"x\": [\"Astrocyte\"], \"xaxis\": \"x7\", \"y\": [3.49650756146648], \"yaxis\": \"y7\"}, {\"alignmentgroup\": \"True\", \"customdata\": [[\"Astrocyte\", \"Astrocyte_Gja1 [#11]\", 3.49650756146648, 0.0]], \"hovertemplate\": \"<b>%{hovertext}</b><br><br>Class=%{customdata[0]}<br>Region=Thalamus<br>Adcyap1r1_Amount=%{customdata[2]}<br>Cluster=%{customdata[1]}<br>Adcyap1r1_PVal=%{customdata[3]}<extra></extra>\", \"hovertext\": [\"Astrocyte_Gja1 [#11]\"], \"legendgroup\": \"Astrocyte\", \"marker\": {\"color\": \"#636efa\"}, \"name\": \"Astrocyte\", \"offsetgroup\": \"Astrocyte\", \"orientation\": \"v\", \"showlegend\": false, \"textposition\": \"auto\", \"type\": \"bar\", \"x\": [\"Astrocyte\"], \"xaxis\": \"x6\", \"y\": [3.49650756146648], \"yaxis\": \"y6\"}, {\"alignmentgroup\": \"True\", \"customdata\": [[\"Astrocyte\", \"Astrocyte_Gja1 [#7]\", 3.2188758248682006, 0.0]], \"hovertemplate\": \"<b>%{hovertext}</b><br><br>Class=%{customdata[0]}<br>Region=Hippocampus<br>Adcyap1r1_Amount=%{customdata[2]}<br>Cluster=%{customdata[1]}<br>Adcyap1r1_PVal=%{customdata[3]}<extra></extra>\", \"hovertext\": [\"Astrocyte_Gja1 [#7]\"], \"legendgroup\": \"Astrocyte\", \"marker\": {\"color\": \"#636efa\"}, \"name\": \"Astrocyte\", \"offsetgroup\": \"Astrocyte\", \"orientation\": \"v\", \"showlegend\": false, \"textposition\": \"auto\", \"type\": \"bar\", \"x\": [\"Astrocyte\"], \"xaxis\": \"x5\", \"y\": [3.2188758248682006], \"yaxis\": \"y5\"}, {\"alignmentgroup\": \"True\", \"customdata\": [[\"Astrocyte\", \"Astrocyte_Gja1 [#8]\", 3.0445224377234195, 0.0]], \"hovertemplate\": \"<b>%{hovertext}</b><br><br>Class=%{customdata[0]}<br>Region=Posterior Cortex<br>Adcyap1r1_Amount=%{customdata[2]}<br>Cluster=%{customdata[1]}<br>Adcyap1r1_PVal=%{customdata[3]}<extra></extra>\", \"hovertext\": [\"Astrocyte_Gja1 [#8]\"], \"legendgroup\": \"Astrocyte\", \"marker\": {\"color\": \"#636efa\"}, \"name\": \"Astrocyte\", \"offsetgroup\": \"Astrocyte\", \"orientation\": \"v\", \"showlegend\": false, \"textposition\": \"auto\", \"type\": \"bar\", \"x\": [\"Astrocyte\"], \"xaxis\": \"x4\", \"y\": [3.0445224377234195], \"yaxis\": \"y4\"}, {\"alignmentgroup\": \"True\", \"customdata\": [[\"Astrocyte\", \"Astrocyte_Gja1 [#4]\", 2.83321334405622, 0.0]], \"hovertemplate\": \"<b>%{hovertext}</b><br><br>Class=%{customdata[0]}<br>Region=Striatum<br>Adcyap1r1_Amount=%{customdata[2]}<br>Cluster=%{customdata[1]}<br>Adcyap1r1_PVal=%{customdata[3]}<extra></extra>\", \"hovertext\": [\"Astrocyte_Gja1 [#4]\"], \"legendgroup\": \"Astrocyte\", \"marker\": {\"color\": \"#636efa\"}, \"name\": \"Astrocyte\", \"offsetgroup\": \"Astrocyte\", \"orientation\": \"v\", \"showlegend\": false, \"textposition\": \"auto\", \"type\": \"bar\", \"x\": [\"Astrocyte\"], \"xaxis\": \"x3\", \"y\": [2.83321334405622], \"yaxis\": \"y3\"}, {\"alignmentgroup\": \"True\", \"customdata\": [[\"Astrocyte\", \"Astrocyte_Gja1 [#8]\", 3.0445224377234195, 1.8251187479579398e-34], [\"Astrocyte\", \"BergmannGlia_Gpr37l1 [#7]\", 2.77258872223978, 5.324179651116479e-172]], \"hovertemplate\": \"<b>%{hovertext}</b><br><br>Class=%{customdata[0]}<br>Region=Cerebellum<br>Adcyap1r1_Amount=%{customdata[2]}<br>Cluster=%{customdata[1]}<br>Adcyap1r1_PVal=%{customdata[3]}<extra></extra>\", \"hovertext\": [\"Astrocyte_Gja1 [#8]\", \"BergmannGlia_Gpr37l1 [#7]\"], \"legendgroup\": \"Astrocyte\", \"marker\": {\"color\": \"#636efa\"}, \"name\": \"Astrocyte\", \"offsetgroup\": \"Astrocyte\", \"orientation\": \"v\", \"showlegend\": false, \"textposition\": \"auto\", \"type\": \"bar\", \"x\": [\"Astrocyte\", \"Astrocyte\"], \"xaxis\": \"x2\", \"y\": [3.0445224377234195, 2.77258872223978], \"yaxis\": \"y2\"}, {\"alignmentgroup\": \"True\", \"customdata\": [[\"Astrocyte\", \"Astrocyte_Gja1 [#8]\", 2.89037175789616, 0.0]], \"hovertemplate\": \"<b>%{hovertext}</b><br><br>Class=%{customdata[0]}<br>Region=Frontal Cortex<br>Adcyap1r1_Amount=%{customdata[2]}<br>Cluster=%{customdata[1]}<br>Adcyap1r1_PVal=%{customdata[3]}<extra></extra>\", \"hovertext\": [\"Astrocyte_Gja1 [#8]\"], \"legendgroup\": \"Astrocyte\", \"marker\": {\"color\": \"#636efa\"}, \"name\": \"Astrocyte\", \"offsetgroup\": \"Astrocyte\", \"orientation\": \"v\", \"showlegend\": false, \"textposition\": \"auto\", \"type\": \"bar\", \"x\": [\"Astrocyte\"], \"xaxis\": \"x\", \"y\": [2.89037175789616], \"yaxis\": \"y\"}, {\"alignmentgroup\": \"True\", \"customdata\": [[\"Polydendrocyte\", \"Polydendrocyte_Tnr [#4]\", 3.09104245335832, 1.94403001187904e-12]], \"hovertemplate\": \"<b>%{hovertext}</b><br><br>Class=%{customdata[0]}<br>Region=Globus Pallidus<br>Adcyap1r1_Amount=%{customdata[2]}<br>Cluster=%{customdata[1]}<br>Adcyap1r1_PVal=%{customdata[3]}<extra></extra>\", \"hovertext\": [\"Polydendrocyte_Tnr [#4]\"], \"legendgroup\": \"Polydendrocyte\", \"marker\": {\"color\": \"#EF553B\"}, \"name\": \"Polydendrocyte\", \"offsetgroup\": \"Polydendrocyte\", \"orientation\": \"v\", \"showlegend\": true, \"textposition\": \"auto\", \"type\": \"bar\", \"x\": [\"Polydendrocyte\"], \"xaxis\": \"x9\", \"y\": [3.09104245335832], \"yaxis\": \"y9\"}, {\"alignmentgroup\": \"True\", \"customdata\": [[\"Polydendrocyte\", \"Polydendrocyte_Cacng4 [#6]\", 3.0445224377234195, 1.7590408439861902e-14], [\"Polydendrocyte\", \"Polydendrocyte_Tnr [#5]\", 1.9459101490553101, 2.1463795833006198e-07]], \"hovertemplate\": \"<b>%{hovertext}</b><br><br>Class=%{customdata[0]}<br>Region=Substantia Nigra<br>Adcyap1r1_Amount=%{customdata[2]}<br>Cluster=%{customdata[1]}<br>Adcyap1r1_PVal=%{customdata[3]}<extra></extra>\", \"hovertext\": [\"Polydendrocyte_Cacng4 [#6]\", \"Polydendrocyte_Tnr [#5]\"], \"legendgroup\": \"Polydendrocyte\", \"marker\": {\"color\": \"#EF553B\"}, \"name\": \"Polydendrocyte\", \"offsetgroup\": \"Polydendrocyte\", \"orientation\": \"v\", \"showlegend\": false, \"textposition\": \"auto\", \"type\": \"bar\", \"x\": [\"Polydendrocyte\", \"Polydendrocyte\"], \"xaxis\": \"x8\", \"y\": [3.0445224377234195, 1.9459101490553101], \"yaxis\": \"y8\"}, {\"alignmentgroup\": \"True\", \"customdata\": [[\"Polydendrocyte\", \"Polydendrocyte_Cacng4 [#6]\", 3.1780538303479506, 1.69368687270176e-23], [\"Polydendrocyte\", \"Polydendrocyte_Tnr [#5]\", 1.79175946922805, 0.120289348884071]], \"hovertemplate\": \"<b>%{hovertext}</b><br><br>Class=%{customdata[0]}<br>Region=Entopeduncular<br>Adcyap1r1_Amount=%{customdata[2]}<br>Cluster=%{customdata[1]}<br>Adcyap1r1_PVal=%{customdata[3]}<extra></extra>\", \"hovertext\": [\"Polydendrocyte_Cacng4 [#6]\", \"Polydendrocyte_Tnr [#5]\"], \"legendgroup\": \"Polydendrocyte\", \"marker\": {\"color\": \"#EF553B\"}, \"name\": \"Polydendrocyte\", \"offsetgroup\": \"Polydendrocyte\", \"orientation\": \"v\", \"showlegend\": false, \"textposition\": \"auto\", \"type\": \"bar\", \"x\": [\"Polydendrocyte\", \"Polydendrocyte\"], \"xaxis\": \"x7\", \"y\": [3.1780538303479506, 1.79175946922805], \"yaxis\": \"y7\"}, {\"alignmentgroup\": \"True\", \"customdata\": [[\"Polydendrocyte\", \"Polydendrocyte_Tnr [#12]\", 2.484906649788, 2.94347080406045e-15]], \"hovertemplate\": \"<b>%{hovertext}</b><br><br>Class=%{customdata[0]}<br>Region=Thalamus<br>Adcyap1r1_Amount=%{customdata[2]}<br>Cluster=%{customdata[1]}<br>Adcyap1r1_PVal=%{customdata[3]}<extra></extra>\", \"hovertext\": [\"Polydendrocyte_Tnr [#12]\"], \"legendgroup\": \"Polydendrocyte\", \"marker\": {\"color\": \"#EF553B\"}, \"name\": \"Polydendrocyte\", \"offsetgroup\": \"Polydendrocyte\", \"orientation\": \"v\", \"showlegend\": false, \"textposition\": \"auto\", \"type\": \"bar\", \"x\": [\"Polydendrocyte\"], \"xaxis\": \"x6\", \"y\": [2.484906649788], \"yaxis\": \"y6\"}, {\"alignmentgroup\": \"True\", \"customdata\": [[\"Polydendrocyte\", \"Polydendrocyte_Tnr [#9]\", 3.25809653802148, 2.2714684347934197e-92]], \"hovertemplate\": \"<b>%{hovertext}</b><br><br>Class=%{customdata[0]}<br>Region=Hippocampus<br>Adcyap1r1_Amount=%{customdata[2]}<br>Cluster=%{customdata[1]}<br>Adcyap1r1_PVal=%{customdata[3]}<extra></extra>\", \"hovertext\": [\"Polydendrocyte_Tnr [#9]\"], \"legendgroup\": \"Polydendrocyte\", \"marker\": {\"color\": \"#EF553B\"}, \"name\": \"Polydendrocyte\", \"offsetgroup\": \"Polydendrocyte\", \"orientation\": \"v\", \"showlegend\": false, \"textposition\": \"auto\", \"type\": \"bar\", \"x\": [\"Polydendrocyte\"], \"xaxis\": \"x5\", \"y\": [3.25809653802148], \"yaxis\": \"y5\"}, {\"alignmentgroup\": \"True\", \"customdata\": [[\"Polydendrocyte\", \"Polydendrocyte_Tnr [#10]\", 3.2188758248682006, 2.2535631348094793e-115]], \"hovertemplate\": \"<b>%{hovertext}</b><br><br>Class=%{customdata[0]}<br>Region=Posterior Cortex<br>Adcyap1r1_Amount=%{customdata[2]}<br>Cluster=%{customdata[1]}<br>Adcyap1r1_PVal=%{customdata[3]}<extra></extra>\", \"hovertext\": [\"Polydendrocyte_Tnr [#10]\"], \"legendgroup\": \"Polydendrocyte\", \"marker\": {\"color\": \"#EF553B\"}, \"name\": \"Polydendrocyte\", \"offsetgroup\": \"Polydendrocyte\", \"orientation\": \"v\", \"showlegend\": false, \"textposition\": \"auto\", \"type\": \"bar\", \"x\": [\"Polydendrocyte\"], \"xaxis\": \"x4\", \"y\": [3.2188758248682006], \"yaxis\": \"y4\"}, {\"alignmentgroup\": \"True\", \"customdata\": [[\"Polydendrocyte\", \"Polydendrocytes_Tnr [#5]\", 3.13549421592915, 3.0798091314767096e-106]], \"hovertemplate\": \"<b>%{hovertext}</b><br><br>Class=%{customdata[0]}<br>Region=Striatum<br>Adcyap1r1_Amount=%{customdata[2]}<br>Cluster=%{customdata[1]}<br>Adcyap1r1_PVal=%{customdata[3]}<extra></extra>\", \"hovertext\": [\"Polydendrocytes_Tnr [#5]\"], \"legendgroup\": \"Polydendrocyte\", \"marker\": {\"color\": \"#EF553B\"}, \"name\": \"Polydendrocyte\", \"offsetgroup\": \"Polydendrocyte\", \"orientation\": \"v\", \"showlegend\": false, \"textposition\": \"auto\", \"type\": \"bar\", \"x\": [\"Polydendrocyte\"], \"xaxis\": \"x3\", \"y\": [3.13549421592915], \"yaxis\": \"y3\"}, {\"alignmentgroup\": \"True\", \"customdata\": [[\"Polydendrocyte\", \"Polydendrocyte_Tnr [#10]\", 2.99573227355399, 9.992024798780497e-134]], \"hovertemplate\": \"<b>%{hovertext}</b><br><br>Class=%{customdata[0]}<br>Region=Frontal Cortex<br>Adcyap1r1_Amount=%{customdata[2]}<br>Cluster=%{customdata[1]}<br>Adcyap1r1_PVal=%{customdata[3]}<extra></extra>\", \"hovertext\": [\"Polydendrocyte_Tnr [#10]\"], \"legendgroup\": \"Polydendrocyte\", \"marker\": {\"color\": \"#EF553B\"}, \"name\": \"Polydendrocyte\", \"offsetgroup\": \"Polydendrocyte\", \"orientation\": \"v\", \"showlegend\": false, \"textposition\": \"auto\", \"type\": \"bar\", \"x\": [\"Polydendrocyte\"], \"xaxis\": \"x\", \"y\": [2.99573227355399], \"yaxis\": \"y\"}, {\"alignmentgroup\": \"True\", \"customdata\": [[\"Neuron\", \"Neuron_Chat [#1]\", 2.6390573296152597, 0.000186558054957842], [\"Neuron\", \"Neuron_Gabra1 [#2]\", 2.6390573296152597, 1.2902871691436795e-72], [\"Neuron\", \"Neuron_Ppp1r1b [#3]\", 2.07944154167984, 6.573931017535169e-44]], \"hovertemplate\": \"<b>%{hovertext}</b><br><br>Class=%{customdata[0]}<br>Region=Globus Pallidus<br>Adcyap1r1_Amount=%{customdata[2]}<br>Cluster=%{customdata[1]}<br>Adcyap1r1_PVal=%{customdata[3]}<extra></extra>\", \"hovertext\": [\"Neuron_Chat [#1]\", \"Neuron_Gabra1 [#2]\", \"Neuron_Ppp1r1b [#3]\"], \"legendgroup\": \"Neuron\", \"marker\": {\"color\": \"#00cc96\"}, \"name\": \"Neuron\", \"offsetgroup\": \"Neuron\", \"orientation\": \"v\", \"showlegend\": true, \"textposition\": \"auto\", \"type\": \"bar\", \"x\": [\"Neuron\", \"Neuron\", \"Neuron\"], \"xaxis\": \"x9\", \"y\": [2.6390573296152597, 2.6390573296152597, 2.07944154167984], \"yaxis\": \"y9\"}, {\"alignmentgroup\": \"True\", \"customdata\": [[\"Neuron\", \"Neuron_CA3_C1ql3 [#1]\", 2.6390573296152597, 0.000255827600120459], [\"Neuron\", \"Neuron_Gad2 [#3]\", 2.5649493574615403, 1.0641061572409295e-235], [\"Neuron\", \"Neuron_Th [#4]\", 2.484906649788, 9.151535103147019e-38], [\"Neuron\", \"Neuron_Rora [#2]\", 1.09861228866811, 0.00023300833236473197]], \"hovertemplate\": \"<b>%{hovertext}</b><br><br>Class=%{customdata[0]}<br>Region=Substantia Nigra<br>Adcyap1r1_Amount=%{customdata[2]}<br>Cluster=%{customdata[1]}<br>Adcyap1r1_PVal=%{customdata[3]}<extra></extra>\", \"hovertext\": [\"Neuron_CA3_C1ql3 [#1]\", \"Neuron_Gad2 [#3]\", \"Neuron_Th [#4]\", \"Neuron_Rora [#2]\"], \"legendgroup\": \"Neuron\", \"marker\": {\"color\": \"#00cc96\"}, \"name\": \"Neuron\", \"offsetgroup\": \"Neuron\", \"orientation\": \"v\", \"showlegend\": false, \"textposition\": \"auto\", \"type\": \"bar\", \"x\": [\"Neuron\", \"Neuron\", \"Neuron\", \"Neuron\"], \"xaxis\": \"x8\", \"y\": [2.6390573296152597, 2.5649493574615403, 2.484906649788, 1.09861228866811], \"yaxis\": \"y8\"}, {\"alignmentgroup\": \"True\", \"customdata\": [[\"Neuron\", \"Neuron_Syt1 [#4]\", 2.5649493574615403, 5.658720671844257e-179]], \"hovertemplate\": \"<b>%{hovertext}</b><br><br>Class=%{customdata[0]}<br>Region=Entopeduncular<br>Adcyap1r1_Amount=%{customdata[2]}<br>Cluster=%{customdata[1]}<br>Adcyap1r1_PVal=%{customdata[3]}<extra></extra>\", \"hovertext\": [\"Neuron_Syt1 [#4]\"], \"legendgroup\": \"Neuron\", \"marker\": {\"color\": \"#00cc96\"}, \"name\": \"Neuron\", \"offsetgroup\": \"Neuron\", \"orientation\": \"v\", \"showlegend\": false, \"textposition\": \"auto\", \"type\": \"bar\", \"x\": [\"Neuron\"], \"xaxis\": \"x7\", \"y\": [2.5649493574615403], \"yaxis\": \"y7\"}, {\"alignmentgroup\": \"True\", \"customdata\": [[\"Neuron\", \"Neuron_Gad2-Ahi1 [#3]\", 2.484906649788, 0.0], [\"Neuron\", \"Neuron_Rora [#2]\", 1.38629436111989, 3.48989780380235e-05], [\"Neuron\", \"Neuron_Habenula_Tac2 [#1]\", 0.693147180559945, 1.51944877740895e-11]], \"hovertemplate\": \"<b>%{hovertext}</b><br><br>Class=%{customdata[0]}<br>Region=Thalamus<br>Adcyap1r1_Amount=%{customdata[2]}<br>Cluster=%{customdata[1]}<br>Adcyap1r1_PVal=%{customdata[3]}<extra></extra>\", \"hovertext\": [\"Neuron_Gad2-Ahi1 [#3]\", \"Neuron_Rora [#2]\", \"Neuron_Habenula_Tac2 [#1]\"], \"legendgroup\": \"Neuron\", \"marker\": {\"color\": \"#00cc96\"}, \"name\": \"Neuron\", \"offsetgroup\": \"Neuron\", \"orientation\": \"v\", \"showlegend\": false, \"textposition\": \"auto\", \"type\": \"bar\", \"x\": [\"Neuron\", \"Neuron\", \"Neuron\"], \"xaxis\": \"x6\", \"y\": [2.484906649788, 1.38629436111989, 0.693147180559945], \"yaxis\": \"y6\"}, {\"alignmentgroup\": \"True\", \"customdata\": [[\"Neuron\", \"Interneuron_Gad2 [#1]\", 2.77258872223978, 8.409469932789138e-147], [\"Neuron\", \"Neuron_Dentate_C1ql2 [#4]\", 2.7080502011022096, 0.0], [\"Neuron\", \"Neuron_Subiculum_Slc17a6 [#2]\", 2.3978952727983702, 1.1582298950237699e-15], [\"Neuron\", \"Neuron_Subiculum_Entorhinal_Nxph3 [#3]\", 2.07944154167984, 2.3471804431108103e-07], [\"Neuron\", \"Neuron_CA1_Subiculum_Postsubiculum_Entorhinal_Fibcd1-Dcn-Cbln1-Ptgfr-Fezf2 [#5]\", 1.9459101490553101, 8.705097864314036e-200], [\"Neuron\", \"Neuron_CajalRetzius_Lhx1 [#14]\", 1.09861228866811, 6.54476726438534e-10], [\"Neuron\", \"Neuron_CA2CA3_Pvrl3-Rgs15-Calb2 [#6]\", 0.693147180559945, 0.0]], \"hovertemplate\": \"<b>%{hovertext}</b><br><br>Class=%{customdata[0]}<br>Region=Hippocampus<br>Adcyap1r1_Amount=%{customdata[2]}<br>Cluster=%{customdata[1]}<br>Adcyap1r1_PVal=%{customdata[3]}<extra></extra>\", \"hovertext\": [\"Interneuron_Gad2 [#1]\", \"Neuron_Dentate_C1ql2 [#4]\", \"Neuron_Subiculum_Slc17a6 [#2]\", \"Neuron_Subiculum_Entorhinal_Nxph3 [#3]\", \"Neuron_CA1_Subiculum_Postsubiculum_Entorhinal_Fibcd1-Dcn-Cbln1-Ptgfr-Fezf2 [#5]\", \"Neuron_CajalRetzius_Lhx1 [#14]\", \"Neuron_CA2CA3_Pvrl3-Rgs15-Calb2 [#6]\"], \"legendgroup\": \"Neuron\", \"marker\": {\"color\": \"#00cc96\"}, \"name\": \"Neuron\", \"offsetgroup\": \"Neuron\", \"orientation\": \"v\", \"showlegend\": false, \"textposition\": \"auto\", \"type\": \"bar\", \"x\": [\"Neuron\", \"Neuron\", \"Neuron\", \"Neuron\", \"Neuron\", \"Neuron\", \"Neuron\"], \"xaxis\": \"x5\", \"y\": [2.77258872223978, 2.7080502011022096, 2.3978952727983702, 2.07944154167984, 1.9459101490553101, 1.09861228866811, 0.693147180559945], \"yaxis\": \"y5\"}, {\"alignmentgroup\": \"True\", \"customdata\": [[\"Neuron\", \"Interneuron_MGE_Sst-Pvalb [#5]\", 2.83321334405622, 1.3156005434026692e-215], [\"Neuron\", \"Interneuron_CGE_Cplx3-Synpr [#4]\", 2.7080502011022096, 1.5762590174492698e-104], [\"Neuron\", \"RSG_Tshz2-Shisa8 [#6]\", 2.3978952727983702, 4.639582624268499e-110], [\"Neuron\", \"Layer5b_Fezf2 [#7]\", 1.9459101490553101, 0.8229914690686808], [\"Neuron\", \"Neuron_Layer23_5_6_Subiculum_Calb1-Rorb-Fermt1-Tshz2-Oprk1-Crym-Sema3e [#2]\", 1.79175946922805, 4.16102336081573e-70], [\"Neuron\", \"Neuron_Layer6Subplate_Syt6 [#1]\", 1.09861228866811, 1.0081130519060797e-158], [\"Neuron\", \"Neuron_Layer5_Bcl6 [#3]\", 0.693147180559945, 3.234751444645729e-126]], \"hovertemplate\": \"<b>%{hovertext}</b><br><br>Class=%{customdata[0]}<br>Region=Posterior Cortex<br>Adcyap1r1_Amount=%{customdata[2]}<br>Cluster=%{customdata[1]}<br>Adcyap1r1_PVal=%{customdata[3]}<extra></extra>\", \"hovertext\": [\"Interneuron_MGE_Sst-Pvalb [#5]\", \"Interneuron_CGE_Cplx3-Synpr [#4]\", \"RSG_Tshz2-Shisa8 [#6]\", \"Layer5b_Fezf2 [#7]\", \"Neuron_Layer23_5_6_Subiculum_Calb1-Rorb-Fermt1-Tshz2-Oprk1-Crym-Sema3e [#2]\", \"Neuron_Layer6Subplate_Syt6 [#1]\", \"Neuron_Layer5_Bcl6 [#3]\"], \"legendgroup\": \"Neuron\", \"marker\": {\"color\": \"#00cc96\"}, \"name\": \"Neuron\", \"offsetgroup\": \"Neuron\", \"orientation\": \"v\", \"showlegend\": false, \"textposition\": \"auto\", \"type\": \"bar\", \"x\": [\"Neuron\", \"Neuron\", \"Neuron\", \"Neuron\", \"Neuron\", \"Neuron\", \"Neuron\"], \"xaxis\": \"x4\", \"y\": [2.83321334405622, 2.7080502011022096, 2.3978952727983702, 1.9459101490553101, 1.79175946922805, 1.09861228866811, 0.693147180559945], \"yaxis\": \"y4\"}, {\"alignmentgroup\": \"True\", \"customdata\": [[\"Neuron\", \"Interneuron_Pvalb_Th_Pnoc [#14]\", 2.484906649788, 2.8629443943963294e-130], [\"Neuron\", \"Interneuron_Chat [#12]\", 2.07944154167984, 2.3831376638584697e-19], [\"Neuron\", \"Interneuron_Sst [#15]\", 1.9459101490553101, 4.9091366758094995e-12], [\"Neuron\", \"Neuron_dSPN_Drd1 [#10]\", 1.09861228866811, 5.268716688116189e-124], [\"Neuron\", \"Neuron_iSPN_Adora2a [#11]\", 1.09861228866811, 6.897595745070689e-53], [\"Neuron\", \"Neuron_SPN_BNST_Amygdala_Otof [#13]\", 1.09861228866811, 1.01598851737356e-05]], \"hovertemplate\": \"<b>%{hovertext}</b><br><br>Class=%{customdata[0]}<br>Region=Striatum<br>Adcyap1r1_Amount=%{customdata[2]}<br>Cluster=%{customdata[1]}<br>Adcyap1r1_PVal=%{customdata[3]}<extra></extra>\", \"hovertext\": [\"Interneuron_Pvalb_Th_Pnoc [#14]\", \"Interneuron_Chat [#12]\", \"Interneuron_Sst [#15]\", \"Neuron_dSPN_Drd1 [#10]\", \"Neuron_iSPN_Adora2a [#11]\", \"Neuron_SPN_BNST_Amygdala_Otof [#13]\"], \"legendgroup\": \"Neuron\", \"marker\": {\"color\": \"#00cc96\"}, \"name\": \"Neuron\", \"offsetgroup\": \"Neuron\", \"orientation\": \"v\", \"showlegend\": false, \"textposition\": \"auto\", \"type\": \"bar\", \"x\": [\"Neuron\", \"Neuron\", \"Neuron\", \"Neuron\", \"Neuron\", \"Neuron\"], \"xaxis\": \"x3\", \"y\": [2.484906649788, 2.07944154167984, 1.9459101490553101, 1.09861228866811, 1.09861228866811, 1.09861228866811], \"yaxis\": \"y3\"}, {\"alignmentgroup\": \"True\", \"customdata\": [[\"Neuron\", \"GranularNeuron_Gabra6 [#1]\", 1.09861228866811, 1.3875753658531696e-85], [\"Neuron\", \"Interneurons_and_Other_Nnat [#4]\", 1.09861228866811, 0.18869192824324202], [\"Neuron\", \"Interneurons_Pvalb [#3]\", 0.693147180559945, 4.04099107924825e-10], [\"Neuron\", \"PurkinjeNeuron_Pcp2 [#2]\", 0.0, 5.29960344021676e-11]], \"hovertemplate\": \"<b>%{hovertext}</b><br><br>Class=%{customdata[0]}<br>Region=Cerebellum<br>Adcyap1r1_Amount=%{customdata[2]}<br>Cluster=%{customdata[1]}<br>Adcyap1r1_PVal=%{customdata[3]}<extra></extra>\", \"hovertext\": [\"GranularNeuron_Gabra6 [#1]\", \"Interneurons_and_Other_Nnat [#4]\", \"Interneurons_Pvalb [#3]\", \"PurkinjeNeuron_Pcp2 [#2]\"], \"legendgroup\": \"Neuron\", \"marker\": {\"color\": \"#00cc96\"}, \"name\": \"Neuron\", \"offsetgroup\": \"Neuron\", \"orientation\": \"v\", \"showlegend\": false, \"textposition\": \"auto\", \"type\": \"bar\", \"x\": [\"Neuron\", \"Neuron\", \"Neuron\", \"Neuron\"], \"xaxis\": \"x2\", \"y\": [1.09861228866811, 1.09861228866811, 0.693147180559945, 0.0], \"yaxis\": \"y2\"}, {\"alignmentgroup\": \"True\", \"customdata\": [[\"Neuron\", \"Interneuron_MGE_Sst-Pvalb [#2]\", 2.83321334405622, 0.0], [\"Neuron\", \"Interneuron_CGE_Cplx3-Synpr [#1]\", 2.6390573296152597, 0.0], [\"Neuron\", \"Neuron_Layer5b_Fezf2 [#4]\", 1.9459101490553101, 0.000347276125369811], [\"Neuron\", \"Neuron_Claustrum_Nr4a2 [#5]\", 1.79175946922805, 0.0258584114962535], [\"Neuron\", \"Neuron_Layer23_Nptxr [#6]\", 1.6094379124341003, 1.7902036069200602e-43], [\"Neuron\", \"Neuron_Layer6Subplate_Syt6 [#3]\", 0.693147180559945, 6.699476237287796e-249], [\"Neuron\", \"Neuron_Layer5_Parm1 [#7]\", 0.693147180559945, 4.222544839529129e-140]], \"hovertemplate\": \"<b>%{hovertext}</b><br><br>Class=%{customdata[0]}<br>Region=Frontal Cortex<br>Adcyap1r1_Amount=%{customdata[2]}<br>Cluster=%{customdata[1]}<br>Adcyap1r1_PVal=%{customdata[3]}<extra></extra>\", \"hovertext\": [\"Interneuron_MGE_Sst-Pvalb [#2]\", \"Interneuron_CGE_Cplx3-Synpr [#1]\", \"Neuron_Layer5b_Fezf2 [#4]\", \"Neuron_Claustrum_Nr4a2 [#5]\", \"Neuron_Layer23_Nptxr [#6]\", \"Neuron_Layer6Subplate_Syt6 [#3]\", \"Neuron_Layer5_Parm1 [#7]\"], \"legendgroup\": \"Neuron\", \"marker\": {\"color\": \"#00cc96\"}, \"name\": \"Neuron\", \"offsetgroup\": \"Neuron\", \"orientation\": \"v\", \"showlegend\": false, \"textposition\": \"auto\", \"type\": \"bar\", \"x\": [\"Neuron\", \"Neuron\", \"Neuron\", \"Neuron\", \"Neuron\", \"Neuron\", \"Neuron\"], \"xaxis\": \"x\", \"y\": [2.83321334405622, 2.6390573296152597, 1.9459101490553101, 1.79175946922805, 1.6094379124341003, 0.693147180559945, 0.693147180559945], \"yaxis\": \"y\"}, {\"alignmentgroup\": \"True\", \"customdata\": [[\"Oligodendrocyte\", \"Oligodendrocyte_Tfr [#10]\", 1.09861228866811, 0.0]], \"hovertemplate\": \"<b>%{hovertext}</b><br><br>Class=%{customdata[0]}<br>Region=Globus Pallidus<br>Adcyap1r1_Amount=%{customdata[2]}<br>Cluster=%{customdata[1]}<br>Adcyap1r1_PVal=%{customdata[3]}<extra></extra>\", \"hovertext\": [\"Oligodendrocyte_Tfr [#10]\"], \"legendgroup\": \"Oligodendrocyte\", \"marker\": {\"color\": \"#ab63fa\"}, \"name\": \"Oligodendrocyte\", \"offsetgroup\": \"Oligodendrocyte\", \"orientation\": \"v\", \"showlegend\": true, \"textposition\": \"auto\", \"type\": \"bar\", \"x\": [\"Oligodendrocyte\"], \"xaxis\": \"x9\", \"y\": [1.09861228866811], \"yaxis\": \"y9\"}, {\"alignmentgroup\": \"True\", \"customdata\": [[\"Oligodendrocyte\", \"Oligodendrocyte_Mbp [#11]\", 1.79175946922805, 0.543580637749416], [\"Oligodendrocyte\", \"Oligodendrocyte_Tfr [#10]\", 0.693147180559945, 0.0]], \"hovertemplate\": \"<b>%{hovertext}</b><br><br>Class=%{customdata[0]}<br>Region=Substantia Nigra<br>Adcyap1r1_Amount=%{customdata[2]}<br>Cluster=%{customdata[1]}<br>Adcyap1r1_PVal=%{customdata[3]}<extra></extra>\", \"hovertext\": [\"Oligodendrocyte_Mbp [#11]\", \"Oligodendrocyte_Tfr [#10]\"], \"legendgroup\": \"Oligodendrocyte\", \"marker\": {\"color\": \"#ab63fa\"}, \"name\": \"Oligodendrocyte\", \"offsetgroup\": \"Oligodendrocyte\", \"orientation\": \"v\", \"showlegend\": false, \"textposition\": \"auto\", \"type\": \"bar\", \"x\": [\"Oligodendrocyte\", \"Oligodendrocyte\"], \"xaxis\": \"x8\", \"y\": [1.79175946922805, 0.693147180559945], \"yaxis\": \"y8\"}, {\"alignmentgroup\": \"True\", \"customdata\": [[\"Oligodendrocyte\", \"Oligodendrocyte_Mbp [#8]\", 1.9459101490553101, 0.00210693690220867], [\"Oligodendrocyte\", \"Oligodendrocyte_Tfr [#1]\", 0.693147180559945, 5.495264489045848e-262]], \"hovertemplate\": \"<b>%{hovertext}</b><br><br>Class=%{customdata[0]}<br>Region=Entopeduncular<br>Adcyap1r1_Amount=%{customdata[2]}<br>Cluster=%{customdata[1]}<br>Adcyap1r1_PVal=%{customdata[3]}<extra></extra>\", \"hovertext\": [\"Oligodendrocyte_Mbp [#8]\", \"Oligodendrocyte_Tfr [#1]\"], \"legendgroup\": \"Oligodendrocyte\", \"marker\": {\"color\": \"#ab63fa\"}, \"name\": \"Oligodendrocyte\", \"offsetgroup\": \"Oligodendrocyte\", \"orientation\": \"v\", \"showlegend\": false, \"textposition\": \"auto\", \"type\": \"bar\", \"x\": [\"Oligodendrocyte\", \"Oligodendrocyte\"], \"xaxis\": \"x7\", \"y\": [1.9459101490553101, 0.693147180559945], \"yaxis\": \"y7\"}, {\"alignmentgroup\": \"True\", \"customdata\": [[\"Oligodendrocyte\", \"Oligodendrocyte_Mbp [#9]\", 2.19722457733622, 2.7798422779698097e-08], [\"Oligodendrocyte\", \"Oligodendrocyte_Tfr [#8]\", 0.693147180559945, 7.021319053737675e-281]], \"hovertemplate\": \"<b>%{hovertext}</b><br><br>Class=%{customdata[0]}<br>Region=Thalamus<br>Adcyap1r1_Amount=%{customdata[2]}<br>Cluster=%{customdata[1]}<br>Adcyap1r1_PVal=%{customdata[3]}<extra></extra>\", \"hovertext\": [\"Oligodendrocyte_Mbp [#9]\", \"Oligodendrocyte_Tfr [#8]\"], \"legendgroup\": \"Oligodendrocyte\", \"marker\": {\"color\": \"#ab63fa\"}, \"name\": \"Oligodendrocyte\", \"offsetgroup\": \"Oligodendrocyte\", \"orientation\": \"v\", \"showlegend\": false, \"textposition\": \"auto\", \"type\": \"bar\", \"x\": [\"Oligodendrocyte\", \"Oligodendrocyte\"], \"xaxis\": \"x6\", \"y\": [2.19722457733622, 0.693147180559945], \"yaxis\": \"y6\"}, {\"alignmentgroup\": \"True\", \"customdata\": [[\"Oligodendrocyte\", \"Oligodendrocyte_Tfr [#8]\", 1.09861228866811, 9.876232861330968e-95]], \"hovertemplate\": \"<b>%{hovertext}</b><br><br>Class=%{customdata[0]}<br>Region=Hippocampus<br>Adcyap1r1_Amount=%{customdata[2]}<br>Cluster=%{customdata[1]}<br>Adcyap1r1_PVal=%{customdata[3]}<extra></extra>\", \"hovertext\": [\"Oligodendrocyte_Tfr [#8]\"], \"legendgroup\": \"Oligodendrocyte\", \"marker\": {\"color\": \"#ab63fa\"}, \"name\": \"Oligodendrocyte\", \"offsetgroup\": \"Oligodendrocyte\", \"orientation\": \"v\", \"showlegend\": false, \"textposition\": \"auto\", \"type\": \"bar\", \"x\": [\"Oligodendrocyte\"], \"xaxis\": \"x5\", \"y\": [1.09861228866811], \"yaxis\": \"y5\"}, {\"alignmentgroup\": \"True\", \"customdata\": [[\"Oligodendrocyte\", \"Oligodendrocyte_Tfr [#9]\", 1.09861228866811, 2.5808001911872497e-44]], \"hovertemplate\": \"<b>%{hovertext}</b><br><br>Class=%{customdata[0]}<br>Region=Posterior Cortex<br>Adcyap1r1_Amount=%{customdata[2]}<br>Cluster=%{customdata[1]}<br>Adcyap1r1_PVal=%{customdata[3]}<extra></extra>\", \"hovertext\": [\"Oligodendrocyte_Tfr [#9]\"], \"legendgroup\": \"Oligodendrocyte\", \"marker\": {\"color\": \"#ab63fa\"}, \"name\": \"Oligodendrocyte\", \"offsetgroup\": \"Oligodendrocyte\", \"orientation\": \"v\", \"showlegend\": false, \"textposition\": \"auto\", \"type\": \"bar\", \"x\": [\"Oligodendrocyte\"], \"xaxis\": \"x4\", \"y\": [1.09861228866811], \"yaxis\": \"y4\"}, {\"alignmentgroup\": \"True\", \"customdata\": [[\"Oligodendrocyte\", \"Oligodendrocytes_Tfr [#3]\", 0.693147180559945, 3.11325728476158e-20]], \"hovertemplate\": \"<b>%{hovertext}</b><br><br>Class=%{customdata[0]}<br>Region=Striatum<br>Adcyap1r1_Amount=%{customdata[2]}<br>Cluster=%{customdata[1]}<br>Adcyap1r1_PVal=%{customdata[3]}<extra></extra>\", \"hovertext\": [\"Oligodendrocytes_Tfr [#3]\"], \"legendgroup\": \"Oligodendrocyte\", \"marker\": {\"color\": \"#ab63fa\"}, \"name\": \"Oligodendrocyte\", \"offsetgroup\": \"Oligodendrocyte\", \"orientation\": \"v\", \"showlegend\": false, \"textposition\": \"auto\", \"type\": \"bar\", \"x\": [\"Oligodendrocyte\"], \"xaxis\": \"x3\", \"y\": [0.693147180559945], \"yaxis\": \"y3\"}, {\"alignmentgroup\": \"True\", \"customdata\": [[\"Oligodendrocyte\", \"Oligodendrocyte_Tfr [#9]\", 0.693147180559945, 1.2792135286818298e-78]], \"hovertemplate\": \"<b>%{hovertext}</b><br><br>Class=%{customdata[0]}<br>Region=Frontal Cortex<br>Adcyap1r1_Amount=%{customdata[2]}<br>Cluster=%{customdata[1]}<br>Adcyap1r1_PVal=%{customdata[3]}<extra></extra>\", \"hovertext\": [\"Oligodendrocyte_Tfr [#9]\"], \"legendgroup\": \"Oligodendrocyte\", \"marker\": {\"color\": \"#ab63fa\"}, \"name\": \"Oligodendrocyte\", \"offsetgroup\": \"Oligodendrocyte\", \"orientation\": \"v\", \"showlegend\": false, \"textposition\": \"auto\", \"type\": \"bar\", \"x\": [\"Oligodendrocyte\"], \"xaxis\": \"x\", \"y\": [0.693147180559945], \"yaxis\": \"y\"}, {\"alignmentgroup\": \"True\", \"customdata\": [[\"Ependyma\", \"Ependyma [#6]\", 1.9459101490553101, 0.00317736187066658]], \"hovertemplate\": \"<b>%{hovertext}</b><br><br>Class=%{customdata[0]}<br>Region=Globus Pallidus<br>Adcyap1r1_Amount=%{customdata[2]}<br>Cluster=%{customdata[1]}<br>Adcyap1r1_PVal=%{customdata[3]}<extra></extra>\", \"hovertext\": [\"Ependyma [#6]\"], \"legendgroup\": \"Ependyma\", \"marker\": {\"color\": \"#FFA15A\"}, \"name\": \"Ependyma\", \"offsetgroup\": \"Ependyma\", \"orientation\": \"v\", \"showlegend\": true, \"textposition\": \"auto\", \"type\": \"bar\", \"x\": [\"Ependyma\"], \"xaxis\": \"x9\", \"y\": [1.9459101490553101], \"yaxis\": \"y9\"}, {\"alignmentgroup\": \"True\", \"customdata\": [[\"Ependyma\", \"Ependyma [#8]\", 0.0, 0.0601941417862943]], \"hovertemplate\": \"<b>%{hovertext}</b><br><br>Class=%{customdata[0]}<br>Region=Substantia Nigra<br>Adcyap1r1_Amount=%{customdata[2]}<br>Cluster=%{customdata[1]}<br>Adcyap1r1_PVal=%{customdata[3]}<extra></extra>\", \"hovertext\": [\"Ependyma [#8]\"], \"legendgroup\": \"Ependyma\", \"marker\": {\"color\": \"#FFA15A\"}, \"name\": \"Ependyma\", \"offsetgroup\": \"Ependyma\", \"orientation\": \"v\", \"showlegend\": false, \"textposition\": \"auto\", \"type\": \"bar\", \"x\": [\"Ependyma\"], \"xaxis\": \"x8\", \"y\": [0.0], \"yaxis\": \"y8\"}, {\"alignmentgroup\": \"True\", \"customdata\": [[\"Ependyma\", \"Ependyma [#10]\", 0.693147180559945, 5.34593070053286e-08]], \"hovertemplate\": \"<b>%{hovertext}</b><br><br>Class=%{customdata[0]}<br>Region=Thalamus<br>Adcyap1r1_Amount=%{customdata[2]}<br>Cluster=%{customdata[1]}<br>Adcyap1r1_PVal=%{customdata[3]}<extra></extra>\", \"hovertext\": [\"Ependyma [#10]\"], \"legendgroup\": \"Ependyma\", \"marker\": {\"color\": \"#FFA15A\"}, \"name\": \"Ependyma\", \"offsetgroup\": \"Ependyma\", \"orientation\": \"v\", \"showlegend\": false, \"textposition\": \"auto\", \"type\": \"bar\", \"x\": [\"Ependyma\"], \"xaxis\": \"x6\", \"y\": [0.693147180559945], \"yaxis\": \"y6\"}, {\"alignmentgroup\": \"True\", \"customdata\": [[\"Ependyma\", \"Ependyma [#11]\", 0.693147180559945, 6.74908912592614e-30]], \"hovertemplate\": \"<b>%{hovertext}</b><br><br>Class=%{customdata[0]}<br>Region=Hippocampus<br>Adcyap1r1_Amount=%{customdata[2]}<br>Cluster=%{customdata[1]}<br>Adcyap1r1_PVal=%{customdata[3]}<extra></extra>\", \"hovertext\": [\"Ependyma [#11]\"], \"legendgroup\": \"Ependyma\", \"marker\": {\"color\": \"#FFA15A\"}, \"name\": \"Ependyma\", \"offsetgroup\": \"Ependyma\", \"orientation\": \"v\", \"showlegend\": false, \"textposition\": \"auto\", \"type\": \"bar\", \"x\": [\"Ependyma\"], \"xaxis\": \"x5\", \"y\": [0.693147180559945], \"yaxis\": \"y5\"}, {\"alignmentgroup\": \"True\", \"customdata\": [[\"Ependyma\", \"Ependyma [#1]\", 0.693147180559945, 0.00600582725815056]], \"hovertemplate\": \"<b>%{hovertext}</b><br><br>Class=%{customdata[0]}<br>Region=Striatum<br>Adcyap1r1_Amount=%{customdata[2]}<br>Cluster=%{customdata[1]}<br>Adcyap1r1_PVal=%{customdata[3]}<extra></extra>\", \"hovertext\": [\"Ependyma [#1]\"], \"legendgroup\": \"Ependyma\", \"marker\": {\"color\": \"#FFA15A\"}, \"name\": \"Ependyma\", \"offsetgroup\": \"Ependyma\", \"orientation\": \"v\", \"showlegend\": false, \"textposition\": \"auto\", \"type\": \"bar\", \"x\": [\"Ependyma\"], \"xaxis\": \"x3\", \"y\": [0.693147180559945], \"yaxis\": \"y3\"}, {\"alignmentgroup\": \"True\", \"customdata\": [[\"Microglia_Macrophage\", \"Microglia_Macrophage_C1qb [#11]\", 1.09861228866811, 2.39508249341325e-10]], \"hovertemplate\": \"<b>%{hovertext}</b><br><br>Class=%{customdata[0]}<br>Region=Globus Pallidus<br>Adcyap1r1_Amount=%{customdata[2]}<br>Cluster=%{customdata[1]}<br>Adcyap1r1_PVal=%{customdata[3]}<extra></extra>\", \"hovertext\": [\"Microglia_Macrophage_C1qb [#11]\"], \"legendgroup\": \"Microglia_Macrophage\", \"marker\": {\"color\": \"#19d3f3\"}, \"name\": \"Microglia_Macrophage\", \"offsetgroup\": \"Microglia_Macrophage\", \"orientation\": \"v\", \"showlegend\": true, \"textposition\": \"auto\", \"type\": \"bar\", \"x\": [\"Microglia_Macrophage\"], \"xaxis\": \"x9\", \"y\": [1.09861228866811], \"yaxis\": \"y9\"}, {\"alignmentgroup\": \"True\", \"customdata\": [[\"Microglia_Macrophage\", \"Microglia_Macrophage_C1qb [#9]\", 1.6094379124341003, 0.08770554092133799]], \"hovertemplate\": \"<b>%{hovertext}</b><br><br>Class=%{customdata[0]}<br>Region=Substantia Nigra<br>Adcyap1r1_Amount=%{customdata[2]}<br>Cluster=%{customdata[1]}<br>Adcyap1r1_PVal=%{customdata[3]}<extra></extra>\", \"hovertext\": [\"Microglia_Macrophage_C1qb [#9]\"], \"legendgroup\": \"Microglia_Macrophage\", \"marker\": {\"color\": \"#19d3f3\"}, \"name\": \"Microglia_Macrophage\", \"offsetgroup\": \"Microglia_Macrophage\", \"orientation\": \"v\", \"showlegend\": false, \"textposition\": \"auto\", \"type\": \"bar\", \"x\": [\"Microglia_Macrophage\"], \"xaxis\": \"x8\", \"y\": [1.6094379124341003], \"yaxis\": \"y8\"}, {\"alignmentgroup\": \"True\", \"customdata\": [[\"Microglia_Macrophage\", \"Microglia_Macrophage_C1qb [#7]\", 1.09861228866811, 0.490750707869979]], \"hovertemplate\": \"<b>%{hovertext}</b><br><br>Class=%{customdata[0]}<br>Region=Thalamus<br>Adcyap1r1_Amount=%{customdata[2]}<br>Cluster=%{customdata[1]}<br>Adcyap1r1_PVal=%{customdata[3]}<extra></extra>\", \"hovertext\": [\"Microglia_Macrophage_C1qb [#7]\"], \"legendgroup\": \"Microglia_Macrophage\", \"marker\": {\"color\": \"#19d3f3\"}, \"name\": \"Microglia_Macrophage\", \"offsetgroup\": \"Microglia_Macrophage\", \"orientation\": \"v\", \"showlegend\": false, \"textposition\": \"auto\", \"type\": \"bar\", \"x\": [\"Microglia_Macrophage\"], \"xaxis\": \"x6\", \"y\": [1.09861228866811], \"yaxis\": \"y6\"}, {\"alignmentgroup\": \"True\", \"customdata\": [[\"Microglia_Macrophage\", \"Microglia_Macrophage_C1qb [#10]\", 1.09861228866811, 4.76160796655483e-11]], \"hovertemplate\": \"<b>%{hovertext}</b><br><br>Class=%{customdata[0]}<br>Region=Hippocampus<br>Adcyap1r1_Amount=%{customdata[2]}<br>Cluster=%{customdata[1]}<br>Adcyap1r1_PVal=%{customdata[3]}<extra></extra>\", \"hovertext\": [\"Microglia_Macrophage_C1qb [#10]\"], \"legendgroup\": \"Microglia_Macrophage\", \"marker\": {\"color\": \"#19d3f3\"}, \"name\": \"Microglia_Macrophage\", \"offsetgroup\": \"Microglia_Macrophage\", \"orientation\": \"v\", \"showlegend\": false, \"textposition\": \"auto\", \"type\": \"bar\", \"x\": [\"Microglia_Macrophage\"], \"xaxis\": \"x5\", \"y\": [1.09861228866811], \"yaxis\": \"y5\"}, {\"alignmentgroup\": \"True\", \"customdata\": [[\"Microglia_Macrophage\", \"Microglia_Macrophage_Tmem119-Mrc1 [#11]\", 1.09861228866811, 0.00018461544059673898]], \"hovertemplate\": \"<b>%{hovertext}</b><br><br>Class=%{customdata[0]}<br>Region=Posterior Cortex<br>Adcyap1r1_Amount=%{customdata[2]}<br>Cluster=%{customdata[1]}<br>Adcyap1r1_PVal=%{customdata[3]}<extra></extra>\", \"hovertext\": [\"Microglia_Macrophage_Tmem119-Mrc1 [#11]\"], \"legendgroup\": \"Microglia_Macrophage\", \"marker\": {\"color\": \"#19d3f3\"}, \"name\": \"Microglia_Macrophage\", \"offsetgroup\": \"Microglia_Macrophage\", \"orientation\": \"v\", \"showlegend\": false, \"textposition\": \"auto\", \"type\": \"bar\", \"x\": [\"Microglia_Macrophage\"], \"xaxis\": \"x4\", \"y\": [1.09861228866811], \"yaxis\": \"y4\"}, {\"alignmentgroup\": \"True\", \"customdata\": [[\"Microglia_Macrophage\", \"Microglia_Macrophage_C1qb [#6]\", 1.09861228866811, 0.23316447332449]], \"hovertemplate\": \"<b>%{hovertext}</b><br><br>Class=%{customdata[0]}<br>Region=Striatum<br>Adcyap1r1_Amount=%{customdata[2]}<br>Cluster=%{customdata[1]}<br>Adcyap1r1_PVal=%{customdata[3]}<extra></extra>\", \"hovertext\": [\"Microglia_Macrophage_C1qb [#6]\"], \"legendgroup\": \"Microglia_Macrophage\", \"marker\": {\"color\": \"#19d3f3\"}, \"name\": \"Microglia_Macrophage\", \"offsetgroup\": \"Microglia_Macrophage\", \"orientation\": \"v\", \"showlegend\": false, \"textposition\": \"auto\", \"type\": \"bar\", \"x\": [\"Microglia_Macrophage\"], \"xaxis\": \"x3\", \"y\": [1.09861228866811], \"yaxis\": \"y3\"}, {\"alignmentgroup\": \"True\", \"customdata\": [[\"Microglia_Macrophage\", \"Microglia_Macrophage_C1qb [#5]\", 1.79175946922805, 1.0]], \"hovertemplate\": \"<b>%{hovertext}</b><br><br>Class=%{customdata[0]}<br>Region=Cerebellum<br>Adcyap1r1_Amount=%{customdata[2]}<br>Cluster=%{customdata[1]}<br>Adcyap1r1_PVal=%{customdata[3]}<extra></extra>\", \"hovertext\": [\"Microglia_Macrophage_C1qb [#5]\"], \"legendgroup\": \"Microglia_Macrophage\", \"marker\": {\"color\": \"#19d3f3\"}, \"name\": \"Microglia_Macrophage\", \"offsetgroup\": \"Microglia_Macrophage\", \"orientation\": \"v\", \"showlegend\": false, \"textposition\": \"auto\", \"type\": \"bar\", \"x\": [\"Microglia_Macrophage\"], \"xaxis\": \"x2\", \"y\": [1.79175946922805], \"yaxis\": \"y2\"}, {\"alignmentgroup\": \"True\", \"customdata\": [[\"Microglia_Macrophage\", \"Microglia_Macrophage_C1qb [#11]\", 1.09861228866811, 1.3330665266714499e-07]], \"hovertemplate\": \"<b>%{hovertext}</b><br><br>Class=%{customdata[0]}<br>Region=Frontal Cortex<br>Adcyap1r1_Amount=%{customdata[2]}<br>Cluster=%{customdata[1]}<br>Adcyap1r1_PVal=%{customdata[3]}<extra></extra>\", \"hovertext\": [\"Microglia_Macrophage_C1qb [#11]\"], \"legendgroup\": \"Microglia_Macrophage\", \"marker\": {\"color\": \"#19d3f3\"}, \"name\": \"Microglia_Macrophage\", \"offsetgroup\": \"Microglia_Macrophage\", \"orientation\": \"v\", \"showlegend\": false, \"textposition\": \"auto\", \"type\": \"bar\", \"x\": [\"Microglia_Macrophage\"], \"xaxis\": \"x\", \"y\": [1.09861228866811], \"yaxis\": \"y\"}, {\"alignmentgroup\": \"True\", \"customdata\": [[\"Mural\", \"Mural_Rgs5Acta2 [#8]\", 1.79175946922805, 9.96730796569848e-19]], \"hovertemplate\": \"<b>%{hovertext}</b><br><br>Class=%{customdata[0]}<br>Region=Globus Pallidus<br>Adcyap1r1_Amount=%{customdata[2]}<br>Cluster=%{customdata[1]}<br>Adcyap1r1_PVal=%{customdata[3]}<extra></extra>\", \"hovertext\": [\"Mural_Rgs5Acta2 [#8]\"], \"legendgroup\": \"Mural\", \"marker\": {\"color\": \"#FF6692\"}, \"name\": \"Mural\", \"offsetgroup\": \"Mural\", \"orientation\": \"v\", \"showlegend\": true, \"textposition\": \"auto\", \"type\": \"bar\", \"x\": [\"Mural\"], \"xaxis\": \"x9\", \"y\": [1.79175946922805], \"yaxis\": \"y9\"}, {\"alignmentgroup\": \"True\", \"customdata\": [[\"Mural\", \"Mural_Rgs5Acta2 [#13]\", 1.09861228866811, 2.2435898516851203e-16]], \"hovertemplate\": \"<b>%{hovertext}</b><br><br>Class=%{customdata[0]}<br>Region=Substantia Nigra<br>Adcyap1r1_Amount=%{customdata[2]}<br>Cluster=%{customdata[1]}<br>Adcyap1r1_PVal=%{customdata[3]}<extra></extra>\", \"hovertext\": [\"Mural_Rgs5Acta2 [#13]\"], \"legendgroup\": \"Mural\", \"marker\": {\"color\": \"#FF6692\"}, \"name\": \"Mural\", \"offsetgroup\": \"Mural\", \"orientation\": \"v\", \"showlegend\": false, \"textposition\": \"auto\", \"type\": \"bar\", \"x\": [\"Mural\"], \"xaxis\": \"x8\", \"y\": [1.09861228866811], \"yaxis\": \"y8\"}, {\"alignmentgroup\": \"True\", \"customdata\": [[\"Mural\", \"Mural_Rgs5Acta2 [#5]\", 1.09861228866811, 0.00278027661483071]], \"hovertemplate\": \"<b>%{hovertext}</b><br><br>Class=%{customdata[0]}<br>Region=Thalamus<br>Adcyap1r1_Amount=%{customdata[2]}<br>Cluster=%{customdata[1]}<br>Adcyap1r1_PVal=%{customdata[3]}<extra></extra>\", \"hovertext\": [\"Mural_Rgs5Acta2 [#5]\"], \"legendgroup\": \"Mural\", \"marker\": {\"color\": \"#FF6692\"}, \"name\": \"Mural\", \"offsetgroup\": \"Mural\", \"orientation\": \"v\", \"showlegend\": false, \"textposition\": \"auto\", \"type\": \"bar\", \"x\": [\"Mural\"], \"xaxis\": \"x6\", \"y\": [1.09861228866811], \"yaxis\": \"y6\"}, {\"alignmentgroup\": \"True\", \"customdata\": [[\"Mural\", \"Mural_Rgs5Acta2 [#16]\", 1.6094379124341003, 6.0281234687283206e-12]], \"hovertemplate\": \"<b>%{hovertext}</b><br><br>Class=%{customdata[0]}<br>Region=Hippocampus<br>Adcyap1r1_Amount=%{customdata[2]}<br>Cluster=%{customdata[1]}<br>Adcyap1r1_PVal=%{customdata[3]}<extra></extra>\", \"hovertext\": [\"Mural_Rgs5Acta2 [#16]\"], \"legendgroup\": \"Mural\", \"marker\": {\"color\": \"#FF6692\"}, \"name\": \"Mural\", \"offsetgroup\": \"Mural\", \"orientation\": \"v\", \"showlegend\": false, \"textposition\": \"auto\", \"type\": \"bar\", \"x\": [\"Mural\"], \"xaxis\": \"x5\", \"y\": [1.6094379124341003], \"yaxis\": \"y5\"}, {\"alignmentgroup\": \"True\", \"customdata\": [[\"Mural\", \"Mural_Rgs5Acta2 [#13]\", 1.79175946922805, 0.0395677302370459]], \"hovertemplate\": \"<b>%{hovertext}</b><br><br>Class=%{customdata[0]}<br>Region=Posterior Cortex<br>Adcyap1r1_Amount=%{customdata[2]}<br>Cluster=%{customdata[1]}<br>Adcyap1r1_PVal=%{customdata[3]}<extra></extra>\", \"hovertext\": [\"Mural_Rgs5Acta2 [#13]\"], \"legendgroup\": \"Mural\", \"marker\": {\"color\": \"#FF6692\"}, \"name\": \"Mural\", \"offsetgroup\": \"Mural\", \"orientation\": \"v\", \"showlegend\": false, \"textposition\": \"auto\", \"type\": \"bar\", \"x\": [\"Mural\"], \"xaxis\": \"x4\", \"y\": [1.79175946922805], \"yaxis\": \"y4\"}, {\"alignmentgroup\": \"True\", \"customdata\": [[\"Mural\", \"Mural_Rgs5Acta2 [#8]\", 1.6094379124341003, 0.0514844555099797]], \"hovertemplate\": \"<b>%{hovertext}</b><br><br>Class=%{customdata[0]}<br>Region=Striatum<br>Adcyap1r1_Amount=%{customdata[2]}<br>Cluster=%{customdata[1]}<br>Adcyap1r1_PVal=%{customdata[3]}<extra></extra>\", \"hovertext\": [\"Mural_Rgs5Acta2 [#8]\"], \"legendgroup\": \"Mural\", \"marker\": {\"color\": \"#FF6692\"}, \"name\": \"Mural\", \"offsetgroup\": \"Mural\", \"orientation\": \"v\", \"showlegend\": false, \"textposition\": \"auto\", \"type\": \"bar\", \"x\": [\"Mural\"], \"xaxis\": \"x3\", \"y\": [1.6094379124341003], \"yaxis\": \"y3\"}, {\"alignmentgroup\": \"True\", \"customdata\": [[\"Mural\", \"Mural_Rgs5Acta2 [#13]\", 1.38629436111989, 0.00010302185931019799]], \"hovertemplate\": \"<b>%{hovertext}</b><br><br>Class=%{customdata[0]}<br>Region=Frontal Cortex<br>Adcyap1r1_Amount=%{customdata[2]}<br>Cluster=%{customdata[1]}<br>Adcyap1r1_PVal=%{customdata[3]}<extra></extra>\", \"hovertext\": [\"Mural_Rgs5Acta2 [#13]\"], \"legendgroup\": \"Mural\", \"marker\": {\"color\": \"#FF6692\"}, \"name\": \"Mural\", \"offsetgroup\": \"Mural\", \"orientation\": \"v\", \"showlegend\": false, \"textposition\": \"auto\", \"type\": \"bar\", \"x\": [\"Mural\"], \"xaxis\": \"x\", \"y\": [1.38629436111989], \"yaxis\": \"y\"}, {\"alignmentgroup\": \"True\", \"customdata\": [[\"Neurogenesis\", \"Neurogenesis_Sox4 [#13]\", 1.79175946922805, 9.11673373802801e-06]], \"hovertemplate\": \"<b>%{hovertext}</b><br><br>Class=%{customdata[0]}<br>Region=Hippocampus<br>Adcyap1r1_Amount=%{customdata[2]}<br>Cluster=%{customdata[1]}<br>Adcyap1r1_PVal=%{customdata[3]}<extra></extra>\", \"hovertext\": [\"Neurogenesis_Sox4 [#13]\"], \"legendgroup\": \"Neurogenesis\", \"marker\": {\"color\": \"#B6E880\"}, \"name\": \"Neurogenesis\", \"offsetgroup\": \"Neurogenesis\", \"orientation\": \"v\", \"showlegend\": true, \"textposition\": \"auto\", \"type\": \"bar\", \"x\": [\"Neurogenesis\"], \"xaxis\": \"x5\", \"y\": [1.79175946922805], \"yaxis\": \"y5\"}, {\"alignmentgroup\": \"True\", \"customdata\": [[\"Neurogenesis\", \"Neurogenesis_Sox4 [#2]\", 1.38629436111989, 0.678238263718481]], \"hovertemplate\": \"<b>%{hovertext}</b><br><br>Class=%{customdata[0]}<br>Region=Striatum<br>Adcyap1r1_Amount=%{customdata[2]}<br>Cluster=%{customdata[1]}<br>Adcyap1r1_PVal=%{customdata[3]}<extra></extra>\", \"hovertext\": [\"Neurogenesis_Sox4 [#2]\"], \"legendgroup\": \"Neurogenesis\", \"marker\": {\"color\": \"#B6E880\"}, \"name\": \"Neurogenesis\", \"offsetgroup\": \"Neurogenesis\", \"orientation\": \"v\", \"showlegend\": false, \"textposition\": \"auto\", \"type\": \"bar\", \"x\": [\"Neurogenesis\"], \"xaxis\": \"x3\", \"y\": [1.38629436111989], \"yaxis\": \"y3\"}, {\"alignmentgroup\": \"True\", \"customdata\": [[\"Fibroblast-Like\", \"Fibroblast-Like_Dcn [#9]\", 1.09861228866811, 7.07544224884258e-12]], \"hovertemplate\": \"<b>%{hovertext}</b><br><br>Class=%{customdata[0]}<br>Region=Globus Pallidus<br>Adcyap1r1_Amount=%{customdata[2]}<br>Cluster=%{customdata[1]}<br>Adcyap1r1_PVal=%{customdata[3]}<extra></extra>\", \"hovertext\": [\"Fibroblast-Like_Dcn [#9]\"], \"legendgroup\": \"Fibroblast-Like\", \"marker\": {\"color\": \"#FF97FF\"}, \"name\": \"Fibroblast-Like\", \"offsetgroup\": \"Fibroblast-Like\", \"orientation\": \"v\", \"showlegend\": true, \"textposition\": \"auto\", \"type\": \"bar\", \"x\": [\"Fibroblast-Like\"], \"xaxis\": \"x9\", \"y\": [1.09861228866811], \"yaxis\": \"y9\"}, {\"alignmentgroup\": \"True\", \"customdata\": [[\"Fibroblast-Like\", \"Fibroblast-Like_Dcn [#14]\", 0.0, 6.605788132194879e-09]], \"hovertemplate\": \"<b>%{hovertext}</b><br><br>Class=%{customdata[0]}<br>Region=Substantia Nigra<br>Adcyap1r1_Amount=%{customdata[2]}<br>Cluster=%{customdata[1]}<br>Adcyap1r1_PVal=%{customdata[3]}<extra></extra>\", \"hovertext\": [\"Fibroblast-Like_Dcn [#14]\"], \"legendgroup\": \"Fibroblast-Like\", \"marker\": {\"color\": \"#FF97FF\"}, \"name\": \"Fibroblast-Like\", \"offsetgroup\": \"Fibroblast-Like\", \"orientation\": \"v\", \"showlegend\": false, \"textposition\": \"auto\", \"type\": \"bar\", \"x\": [\"Fibroblast-Like\"], \"xaxis\": \"x8\", \"y\": [0.0], \"yaxis\": \"y8\"}, {\"alignmentgroup\": \"True\", \"customdata\": [[\"Fibroblast-Like\", \"Fibroblast-Like_Dcn [#6]\", 1.09861228866811, 0.0471945535544487]], \"hovertemplate\": \"<b>%{hovertext}</b><br><br>Class=%{customdata[0]}<br>Region=Thalamus<br>Adcyap1r1_Amount=%{customdata[2]}<br>Cluster=%{customdata[1]}<br>Adcyap1r1_PVal=%{customdata[3]}<extra></extra>\", \"hovertext\": [\"Fibroblast-Like_Dcn [#6]\"], \"legendgroup\": \"Fibroblast-Like\", \"marker\": {\"color\": \"#FF97FF\"}, \"name\": \"Fibroblast-Like\", \"offsetgroup\": \"Fibroblast-Like\", \"orientation\": \"v\", \"showlegend\": false, \"textposition\": \"auto\", \"type\": \"bar\", \"x\": [\"Fibroblast-Like\"], \"xaxis\": \"x6\", \"y\": [1.09861228866811], \"yaxis\": \"y6\"}, {\"alignmentgroup\": \"True\", \"customdata\": [[\"Fibroblast-Like\", \"Fibroblast-Like_Dcn [#17]\", 0.693147180559945, 4.940051994979201e-12]], \"hovertemplate\": \"<b>%{hovertext}</b><br><br>Class=%{customdata[0]}<br>Region=Hippocampus<br>Adcyap1r1_Amount=%{customdata[2]}<br>Cluster=%{customdata[1]}<br>Adcyap1r1_PVal=%{customdata[3]}<extra></extra>\", \"hovertext\": [\"Fibroblast-Like_Dcn [#17]\"], \"legendgroup\": \"Fibroblast-Like\", \"marker\": {\"color\": \"#FF97FF\"}, \"name\": \"Fibroblast-Like\", \"offsetgroup\": \"Fibroblast-Like\", \"orientation\": \"v\", \"showlegend\": false, \"textposition\": \"auto\", \"type\": \"bar\", \"x\": [\"Fibroblast-Like\"], \"xaxis\": \"x5\", \"y\": [0.693147180559945], \"yaxis\": \"y5\"}, {\"alignmentgroup\": \"True\", \"customdata\": [[\"Fibroblast-Like\", \"Fibroblast-Like_Dcn [#14]\", 0.693147180559945, 1.8759799928079e-10]], \"hovertemplate\": \"<b>%{hovertext}</b><br><br>Class=%{customdata[0]}<br>Region=Posterior Cortex<br>Adcyap1r1_Amount=%{customdata[2]}<br>Cluster=%{customdata[1]}<br>Adcyap1r1_PVal=%{customdata[3]}<extra></extra>\", \"hovertext\": [\"Fibroblast-Like_Dcn [#14]\"], \"legendgroup\": \"Fibroblast-Like\", \"marker\": {\"color\": \"#FF97FF\"}, \"name\": \"Fibroblast-Like\", \"offsetgroup\": \"Fibroblast-Like\", \"orientation\": \"v\", \"showlegend\": false, \"textposition\": \"auto\", \"type\": \"bar\", \"x\": [\"Fibroblast-Like\"], \"xaxis\": \"x4\", \"y\": [0.693147180559945], \"yaxis\": \"y4\"}, {\"alignmentgroup\": \"True\", \"customdata\": [[\"Fibroblast-Like\", \"Fibroblast-Like_Dcn [#9]\", 0.693147180559945, 0.23626409378437302]], \"hovertemplate\": \"<b>%{hovertext}</b><br><br>Class=%{customdata[0]}<br>Region=Striatum<br>Adcyap1r1_Amount=%{customdata[2]}<br>Cluster=%{customdata[1]}<br>Adcyap1r1_PVal=%{customdata[3]}<extra></extra>\", \"hovertext\": [\"Fibroblast-Like_Dcn [#9]\"], \"legendgroup\": \"Fibroblast-Like\", \"marker\": {\"color\": \"#FF97FF\"}, \"name\": \"Fibroblast-Like\", \"offsetgroup\": \"Fibroblast-Like\", \"orientation\": \"v\", \"showlegend\": false, \"textposition\": \"auto\", \"type\": \"bar\", \"x\": [\"Fibroblast-Like\"], \"xaxis\": \"x3\", \"y\": [0.693147180559945], \"yaxis\": \"y3\"}, {\"alignmentgroup\": \"True\", \"customdata\": [[\"Fibroblast-Like\", \"Fibroblast-Like_Dcn [#11]\", 1.6094379124341003, 0.538491725262954]], \"hovertemplate\": \"<b>%{hovertext}</b><br><br>Class=%{customdata[0]}<br>Region=Cerebellum<br>Adcyap1r1_Amount=%{customdata[2]}<br>Cluster=%{customdata[1]}<br>Adcyap1r1_PVal=%{customdata[3]}<extra></extra>\", \"hovertext\": [\"Fibroblast-Like_Dcn [#11]\"], \"legendgroup\": \"Fibroblast-Like\", \"marker\": {\"color\": \"#FF97FF\"}, \"name\": \"Fibroblast-Like\", \"offsetgroup\": \"Fibroblast-Like\", \"orientation\": \"v\", \"showlegend\": false, \"textposition\": \"auto\", \"type\": \"bar\", \"x\": [\"Fibroblast-Like\"], \"xaxis\": \"x2\", \"y\": [1.6094379124341003], \"yaxis\": \"y2\"}, {\"alignmentgroup\": \"True\", \"customdata\": [[\"Fibroblast-Like\", \"Fibroblast-Like_Dcn [#14]\", 1.09861228866811, 3.58074407857341e-05]], \"hovertemplate\": \"<b>%{hovertext}</b><br><br>Class=%{customdata[0]}<br>Region=Frontal Cortex<br>Adcyap1r1_Amount=%{customdata[2]}<br>Cluster=%{customdata[1]}<br>Adcyap1r1_PVal=%{customdata[3]}<extra></extra>\", \"hovertext\": [\"Fibroblast-Like_Dcn [#14]\"], \"legendgroup\": \"Fibroblast-Like\", \"marker\": {\"color\": \"#FF97FF\"}, \"name\": \"Fibroblast-Like\", \"offsetgroup\": \"Fibroblast-Like\", \"orientation\": \"v\", \"showlegend\": false, \"textposition\": \"auto\", \"type\": \"bar\", \"x\": [\"Fibroblast-Like\"], \"xaxis\": \"x\", \"y\": [1.09861228866811], \"yaxis\": \"y\"}, {\"alignmentgroup\": \"True\", \"customdata\": [[\"Oligodendrocyte_Polydendrocyte\", \"Oligodendrocyte_Polydendrocyte_Tfr_Tnr [#6]\", 1.38629436111989, 0.0032798119314119]], \"hovertemplate\": \"<b>%{hovertext}</b><br><br>Class=%{customdata[0]}<br>Region=Cerebellum<br>Adcyap1r1_Amount=%{customdata[2]}<br>Cluster=%{customdata[1]}<br>Adcyap1r1_PVal=%{customdata[3]}<extra></extra>\", \"hovertext\": [\"Oligodendrocyte_Polydendrocyte_Tfr_Tnr [#6]\"], \"legendgroup\": \"Oligodendrocyte_Polydendrocyte\", \"marker\": {\"color\": \"#FECB52\"}, \"name\": \"Oligodendrocyte_Polydendrocyte\", \"offsetgroup\": \"Oligodendrocyte_Polydendrocyte\", \"orientation\": \"v\", \"showlegend\": true, \"textposition\": \"auto\", \"type\": \"bar\", \"x\": [\"Oligodendrocyte_Polydendrocyte\"], \"xaxis\": \"x2\", \"y\": [1.38629436111989], \"yaxis\": \"y2\"}, {\"alignmentgroup\": \"True\", \"customdata\": [[\"Mural_Fibroblast-Like\", \"Mural_Fibroblast-Like_Rgs5Acta2-Dcn [#3]\", 1.38629436111989, 0.10359860337643]], \"hovertemplate\": \"<b>%{hovertext}</b><br><br>Class=%{customdata[0]}<br>Region=Entopeduncular<br>Adcyap1r1_Amount=%{customdata[2]}<br>Cluster=%{customdata[1]}<br>Adcyap1r1_PVal=%{customdata[3]}<extra></extra>\", \"hovertext\": [\"Mural_Fibroblast-Like_Rgs5Acta2-Dcn [#3]\"], \"legendgroup\": \"Mural_Fibroblast-Like\", \"marker\": {\"color\": \"#636efa\"}, \"name\": \"Mural_Fibroblast-Like\", \"offsetgroup\": \"Mural_Fibroblast-Like\", \"orientation\": \"v\", \"showlegend\": true, \"textposition\": \"auto\", \"type\": \"bar\", \"x\": [\"Mural_Fibroblast-Like\"], \"xaxis\": \"x7\", \"y\": [1.38629436111989], \"yaxis\": \"y7\"}, {\"alignmentgroup\": \"True\", \"customdata\": [[\"Endothelial\", \"Endothelial_Flt1 [#7]\", 0.693147180559945, 2.019320397905789e-157]], \"hovertemplate\": \"<b>%{hovertext}</b><br><br>Class=%{customdata[0]}<br>Region=Globus Pallidus<br>Adcyap1r1_Amount=%{customdata[2]}<br>Cluster=%{customdata[1]}<br>Adcyap1r1_PVal=%{customdata[3]}<extra></extra>\", \"hovertext\": [\"Endothelial_Flt1 [#7]\"], \"legendgroup\": \"Endothelial\", \"marker\": {\"color\": \"#EF553B\"}, \"name\": \"Endothelial\", \"offsetgroup\": \"Endothelial\", \"orientation\": \"v\", \"showlegend\": true, \"textposition\": \"auto\", \"type\": \"bar\", \"x\": [\"Endothelial\"], \"xaxis\": \"x9\", \"y\": [0.693147180559945], \"yaxis\": \"y9\"}, {\"alignmentgroup\": \"True\", \"customdata\": [[\"Endothelial\", \"Endothelial_Flt1 [#12]\", 0.693147180559945, 2.7877781207888994e-94]], \"hovertemplate\": \"<b>%{hovertext}</b><br><br>Class=%{customdata[0]}<br>Region=Substantia Nigra<br>Adcyap1r1_Amount=%{customdata[2]}<br>Cluster=%{customdata[1]}<br>Adcyap1r1_PVal=%{customdata[3]}<extra></extra>\", \"hovertext\": [\"Endothelial_Flt1 [#12]\"], \"legendgroup\": \"Endothelial\", \"marker\": {\"color\": \"#EF553B\"}, \"name\": \"Endothelial\", \"offsetgroup\": \"Endothelial\", \"orientation\": \"v\", \"showlegend\": false, \"textposition\": \"auto\", \"type\": \"bar\", \"x\": [\"Endothelial\"], \"xaxis\": \"x8\", \"y\": [0.693147180559945], \"yaxis\": \"y8\"}, {\"alignmentgroup\": \"True\", \"customdata\": [[\"Endothelial\", \"Endothelial_Flt1 [#2]\", 0.693147180559945, 2.44732879131391e-26]], \"hovertemplate\": \"<b>%{hovertext}</b><br><br>Class=%{customdata[0]}<br>Region=Entopeduncular<br>Adcyap1r1_Amount=%{customdata[2]}<br>Cluster=%{customdata[1]}<br>Adcyap1r1_PVal=%{customdata[3]}<extra></extra>\", \"hovertext\": [\"Endothelial_Flt1 [#2]\"], \"legendgroup\": \"Endothelial\", \"marker\": {\"color\": \"#EF553B\"}, \"name\": \"Endothelial\", \"offsetgroup\": \"Endothelial\", \"orientation\": \"v\", \"showlegend\": false, \"textposition\": \"auto\", \"type\": \"bar\", \"x\": [\"Endothelial\"], \"xaxis\": \"x7\", \"y\": [0.693147180559945], \"yaxis\": \"y7\"}, {\"alignmentgroup\": \"True\", \"customdata\": [[\"Endothelial\", \"Endothelial_Flt1 [#4]\", 0.693147180559945, 6.706505548839049e-80]], \"hovertemplate\": \"<b>%{hovertext}</b><br><br>Class=%{customdata[0]}<br>Region=Thalamus<br>Adcyap1r1_Amount=%{customdata[2]}<br>Cluster=%{customdata[1]}<br>Adcyap1r1_PVal=%{customdata[3]}<extra></extra>\", \"hovertext\": [\"Endothelial_Flt1 [#4]\"], \"legendgroup\": \"Endothelial\", \"marker\": {\"color\": \"#EF553B\"}, \"name\": \"Endothelial\", \"offsetgroup\": \"Endothelial\", \"orientation\": \"v\", \"showlegend\": false, \"textposition\": \"auto\", \"type\": \"bar\", \"x\": [\"Endothelial\"], \"xaxis\": \"x6\", \"y\": [0.693147180559945], \"yaxis\": \"y6\"}, {\"alignmentgroup\": \"True\", \"customdata\": [[\"Endothelial\", \"Endothelial_Flt1 [#15]\", 0.693147180559945, 4.8417653608117986e-88]], \"hovertemplate\": \"<b>%{hovertext}</b><br><br>Class=%{customdata[0]}<br>Region=Hippocampus<br>Adcyap1r1_Amount=%{customdata[2]}<br>Cluster=%{customdata[1]}<br>Adcyap1r1_PVal=%{customdata[3]}<extra></extra>\", \"hovertext\": [\"Endothelial_Flt1 [#15]\"], \"legendgroup\": \"Endothelial\", \"marker\": {\"color\": \"#EF553B\"}, \"name\": \"Endothelial\", \"offsetgroup\": \"Endothelial\", \"orientation\": \"v\", \"showlegend\": false, \"textposition\": \"auto\", \"type\": \"bar\", \"x\": [\"Endothelial\"], \"xaxis\": \"x5\", \"y\": [0.693147180559945], \"yaxis\": \"y5\"}, {\"alignmentgroup\": \"True\", \"customdata\": [[\"Endothelial\", \"Endothelial_Flt1 [#12]\", 0.693147180559945, 3.48087039328855e-47]], \"hovertemplate\": \"<b>%{hovertext}</b><br><br>Class=%{customdata[0]}<br>Region=Posterior Cortex<br>Adcyap1r1_Amount=%{customdata[2]}<br>Cluster=%{customdata[1]}<br>Adcyap1r1_PVal=%{customdata[3]}<extra></extra>\", \"hovertext\": [\"Endothelial_Flt1 [#12]\"], \"legendgroup\": \"Endothelial\", \"marker\": {\"color\": \"#EF553B\"}, \"name\": \"Endothelial\", \"offsetgroup\": \"Endothelial\", \"orientation\": \"v\", \"showlegend\": false, \"textposition\": \"auto\", \"type\": \"bar\", \"x\": [\"Endothelial\"], \"xaxis\": \"x4\", \"y\": [0.693147180559945], \"yaxis\": \"y4\"}, {\"alignmentgroup\": \"True\", \"customdata\": [[\"Endothelial\", \"Endothelial_Flt1 [#7]\", 0.693147180559945, 2.16769835588138e-07]], \"hovertemplate\": \"<b>%{hovertext}</b><br><br>Class=%{customdata[0]}<br>Region=Striatum<br>Adcyap1r1_Amount=%{customdata[2]}<br>Cluster=%{customdata[1]}<br>Adcyap1r1_PVal=%{customdata[3]}<extra></extra>\", \"hovertext\": [\"Endothelial_Flt1 [#7]\"], \"legendgroup\": \"Endothelial\", \"marker\": {\"color\": \"#EF553B\"}, \"name\": \"Endothelial\", \"offsetgroup\": \"Endothelial\", \"orientation\": \"v\", \"showlegend\": false, \"textposition\": \"auto\", \"type\": \"bar\", \"x\": [\"Endothelial\"], \"xaxis\": \"x3\", \"y\": [0.693147180559945], \"yaxis\": \"y3\"}, {\"alignmentgroup\": \"True\", \"customdata\": [[\"Endothelial\", \"Endothelial_Flt1 [#10]\", 0.0, 2.83292560655726e-06]], \"hovertemplate\": \"<b>%{hovertext}</b><br><br>Class=%{customdata[0]}<br>Region=Cerebellum<br>Adcyap1r1_Amount=%{customdata[2]}<br>Cluster=%{customdata[1]}<br>Adcyap1r1_PVal=%{customdata[3]}<extra></extra>\", \"hovertext\": [\"Endothelial_Flt1 [#10]\"], \"legendgroup\": \"Endothelial\", \"marker\": {\"color\": \"#EF553B\"}, \"name\": \"Endothelial\", \"offsetgroup\": \"Endothelial\", \"orientation\": \"v\", \"showlegend\": false, \"textposition\": \"auto\", \"type\": \"bar\", \"x\": [\"Endothelial\"], \"xaxis\": \"x2\", \"y\": [0.0], \"yaxis\": \"y2\"}, {\"alignmentgroup\": \"True\", \"customdata\": [[\"Endothelial\", \"Endothelial_Flt1 [#12]\", 0.693147180559945, 3.463086979709989e-69]], \"hovertemplate\": \"<b>%{hovertext}</b><br><br>Class=%{customdata[0]}<br>Region=Frontal Cortex<br>Adcyap1r1_Amount=%{customdata[2]}<br>Cluster=%{customdata[1]}<br>Adcyap1r1_PVal=%{customdata[3]}<extra></extra>\", \"hovertext\": [\"Endothelial_Flt1 [#12]\"], \"legendgroup\": \"Endothelial\", \"marker\": {\"color\": \"#EF553B\"}, \"name\": \"Endothelial\", \"offsetgroup\": \"Endothelial\", \"orientation\": \"v\", \"showlegend\": false, \"textposition\": \"auto\", \"type\": \"bar\", \"x\": [\"Endothelial\"], \"xaxis\": \"x\", \"y\": [0.693147180559945], \"yaxis\": \"y\"}, {\"alignmentgroup\": \"True\", \"customdata\": [[\"Choroid_Plexus\", \"Choroid_Plexus_Ttr [#12]\", 0.0, 6.57674469160085e-08]], \"hovertemplate\": \"<b>%{hovertext}</b><br><br>Class=%{customdata[0]}<br>Region=Hippocampus<br>Adcyap1r1_Amount=%{customdata[2]}<br>Cluster=%{customdata[1]}<br>Adcyap1r1_PVal=%{customdata[3]}<extra></extra>\", \"hovertext\": [\"Choroid_Plexus_Ttr [#12]\"], \"legendgroup\": \"Choroid_Plexus\", \"marker\": {\"color\": \"#00cc96\"}, \"name\": \"Choroid_Plexus\", \"offsetgroup\": \"Choroid_Plexus\", \"orientation\": \"v\", \"showlegend\": true, \"textposition\": \"auto\", \"type\": \"bar\", \"x\": [\"Choroid_Plexus\"], \"xaxis\": \"x5\", \"y\": [0.0], \"yaxis\": \"y5\"}, {\"alignmentgroup\": \"True\", \"customdata\": [[\"Choroid_Plexus\", \"Choroid_Plexus_Ttr [#9]\", 0.0, 0.00384463976298838]], \"hovertemplate\": \"<b>%{hovertext}</b><br><br>Class=%{customdata[0]}<br>Region=Cerebellum<br>Adcyap1r1_Amount=%{customdata[2]}<br>Cluster=%{customdata[1]}<br>Adcyap1r1_PVal=%{customdata[3]}<extra></extra>\", \"hovertext\": [\"Choroid_Plexus_Ttr [#9]\"], \"legendgroup\": \"Choroid_Plexus\", \"marker\": {\"color\": \"#00cc96\"}, \"name\": \"Choroid_Plexus\", \"offsetgroup\": \"Choroid_Plexus\", \"orientation\": \"v\", \"showlegend\": false, \"textposition\": \"auto\", \"type\": \"bar\", \"x\": [\"Choroid_Plexus\"], \"xaxis\": \"x2\", \"y\": [0.0], \"yaxis\": \"y2\"}],\n",
       "                        {\"annotations\": [{\"font\": {}, \"showarrow\": false, \"text\": \"Frontal Cortex\", \"textangle\": 90, \"x\": 0.98, \"xanchor\": \"left\", \"xref\": \"paper\", \"y\": 0.042222222222222223, \"yanchor\": \"middle\", \"yref\": \"paper\"}, {\"font\": {}, \"showarrow\": false, \"text\": \"Cerebellum\", \"textangle\": 90, \"x\": 0.98, \"xanchor\": \"left\", \"xref\": \"paper\", \"y\": 0.15666666666666668, \"yanchor\": \"middle\", \"yref\": \"paper\"}, {\"font\": {}, \"showarrow\": false, \"text\": \"Striatum\", \"textangle\": 90, \"x\": 0.98, \"xanchor\": \"left\", \"xref\": \"paper\", \"y\": 0.27111111111111114, \"yanchor\": \"middle\", \"yref\": \"paper\"}, {\"font\": {}, \"showarrow\": false, \"text\": \"Posterior Cortex\", \"textangle\": 90, \"x\": 0.98, \"xanchor\": \"left\", \"xref\": \"paper\", \"y\": 0.3855555555555556, \"yanchor\": \"middle\", \"yref\": \"paper\"}, {\"font\": {}, \"showarrow\": false, \"text\": \"Hippocampus\", \"textangle\": 90, \"x\": 0.98, \"xanchor\": \"left\", \"xref\": \"paper\", \"y\": 0.5, \"yanchor\": \"middle\", \"yref\": \"paper\"}, {\"font\": {}, \"showarrow\": false, \"text\": \"Thalamus\", \"textangle\": 90, \"x\": 0.98, \"xanchor\": \"left\", \"xref\": \"paper\", \"y\": 0.6144444444444443, \"yanchor\": \"middle\", \"yref\": \"paper\"}, {\"font\": {}, \"showarrow\": false, \"text\": \"Entopeduncular\", \"textangle\": 90, \"x\": 0.98, \"xanchor\": \"left\", \"xref\": \"paper\", \"y\": 0.7288888888888889, \"yanchor\": \"middle\", \"yref\": \"paper\"}, {\"font\": {}, \"showarrow\": false, \"text\": \"Substantia Nigra\", \"textangle\": 90, \"x\": 0.98, \"xanchor\": \"left\", \"xref\": \"paper\", \"y\": 0.8433333333333333, \"yanchor\": \"middle\", \"yref\": \"paper\"}, {\"font\": {}, \"showarrow\": false, \"text\": \"Globus Pallidus\", \"textangle\": 90, \"x\": 0.98, \"xanchor\": \"left\", \"xref\": \"paper\", \"y\": 0.9577777777777778, \"yanchor\": \"middle\", \"yref\": \"paper\"}], \"barmode\": \"relative\", \"height\": 2100, \"legend\": {\"title\": {\"text\": \"Class\"}, \"tracegroupgap\": 0}, \"margin\": {\"t\": 60}, \"template\": {\"data\": {\"bar\": [{\"error_x\": {\"color\": \"#2a3f5f\"}, \"error_y\": {\"color\": \"#2a3f5f\"}, \"marker\": {\"line\": {\"color\": \"#E5ECF6\", \"width\": 0.5}}, \"type\": \"bar\"}], \"barpolar\": [{\"marker\": {\"line\": {\"color\": \"#E5ECF6\", \"width\": 0.5}}, \"type\": \"barpolar\"}], \"carpet\": [{\"aaxis\": {\"endlinecolor\": \"#2a3f5f\", \"gridcolor\": \"white\", \"linecolor\": \"white\", \"minorgridcolor\": \"white\", \"startlinecolor\": \"#2a3f5f\"}, \"baxis\": {\"endlinecolor\": \"#2a3f5f\", \"gridcolor\": \"white\", \"linecolor\": \"white\", \"minorgridcolor\": \"white\", \"startlinecolor\": \"#2a3f5f\"}, \"type\": \"carpet\"}], \"choropleth\": [{\"colorbar\": {\"outlinewidth\": 0, \"ticks\": \"\"}, \"type\": \"choropleth\"}], \"contour\": [{\"colorbar\": {\"outlinewidth\": 0, \"ticks\": \"\"}, \"colorscale\": [[0.0, \"#0d0887\"], [0.1111111111111111, \"#46039f\"], [0.2222222222222222, \"#7201a8\"], [0.3333333333333333, \"#9c179e\"], [0.4444444444444444, \"#bd3786\"], [0.5555555555555556, \"#d8576b\"], [0.6666666666666666, \"#ed7953\"], [0.7777777777777778, \"#fb9f3a\"], [0.8888888888888888, \"#fdca26\"], [1.0, \"#f0f921\"]], \"type\": \"contour\"}], \"contourcarpet\": [{\"colorbar\": {\"outlinewidth\": 0, \"ticks\": \"\"}, \"type\": \"contourcarpet\"}], \"heatmap\": [{\"colorbar\": {\"outlinewidth\": 0, \"ticks\": \"\"}, \"colorscale\": [[0.0, \"#0d0887\"], [0.1111111111111111, \"#46039f\"], [0.2222222222222222, \"#7201a8\"], [0.3333333333333333, \"#9c179e\"], [0.4444444444444444, \"#bd3786\"], [0.5555555555555556, \"#d8576b\"], [0.6666666666666666, \"#ed7953\"], [0.7777777777777778, \"#fb9f3a\"], [0.8888888888888888, \"#fdca26\"], [1.0, \"#f0f921\"]], \"type\": \"heatmap\"}], \"heatmapgl\": [{\"colorbar\": {\"outlinewidth\": 0, \"ticks\": \"\"}, \"colorscale\": [[0.0, \"#0d0887\"], [0.1111111111111111, \"#46039f\"], [0.2222222222222222, \"#7201a8\"], [0.3333333333333333, \"#9c179e\"], [0.4444444444444444, \"#bd3786\"], [0.5555555555555556, \"#d8576b\"], [0.6666666666666666, \"#ed7953\"], [0.7777777777777778, \"#fb9f3a\"], [0.8888888888888888, \"#fdca26\"], [1.0, \"#f0f921\"]], \"type\": \"heatmapgl\"}], \"histogram\": [{\"marker\": {\"colorbar\": {\"outlinewidth\": 0, \"ticks\": \"\"}}, \"type\": \"histogram\"}], \"histogram2d\": [{\"colorbar\": {\"outlinewidth\": 0, \"ticks\": \"\"}, \"colorscale\": [[0.0, \"#0d0887\"], [0.1111111111111111, \"#46039f\"], [0.2222222222222222, \"#7201a8\"], [0.3333333333333333, \"#9c179e\"], [0.4444444444444444, \"#bd3786\"], [0.5555555555555556, \"#d8576b\"], [0.6666666666666666, \"#ed7953\"], [0.7777777777777778, \"#fb9f3a\"], [0.8888888888888888, \"#fdca26\"], [1.0, \"#f0f921\"]], \"type\": \"histogram2d\"}], \"histogram2dcontour\": [{\"colorbar\": {\"outlinewidth\": 0, \"ticks\": \"\"}, \"colorscale\": [[0.0, \"#0d0887\"], [0.1111111111111111, \"#46039f\"], [0.2222222222222222, \"#7201a8\"], [0.3333333333333333, \"#9c179e\"], [0.4444444444444444, \"#bd3786\"], [0.5555555555555556, \"#d8576b\"], [0.6666666666666666, \"#ed7953\"], [0.7777777777777778, \"#fb9f3a\"], [0.8888888888888888, \"#fdca26\"], [1.0, \"#f0f921\"]], \"type\": \"histogram2dcontour\"}], \"mesh3d\": [{\"colorbar\": {\"outlinewidth\": 0, \"ticks\": \"\"}, \"type\": \"mesh3d\"}], \"parcoords\": [{\"line\": {\"colorbar\": {\"outlinewidth\": 0, \"ticks\": \"\"}}, \"type\": \"parcoords\"}], \"pie\": [{\"automargin\": true, \"type\": \"pie\"}], \"scatter\": [{\"marker\": {\"colorbar\": {\"outlinewidth\": 0, \"ticks\": \"\"}}, \"type\": \"scatter\"}], \"scatter3d\": [{\"line\": {\"colorbar\": {\"outlinewidth\": 0, \"ticks\": \"\"}}, \"marker\": {\"colorbar\": {\"outlinewidth\": 0, \"ticks\": \"\"}}, \"type\": \"scatter3d\"}], \"scattercarpet\": [{\"marker\": {\"colorbar\": {\"outlinewidth\": 0, \"ticks\": \"\"}}, \"type\": \"scattercarpet\"}], \"scattergeo\": [{\"marker\": {\"colorbar\": {\"outlinewidth\": 0, \"ticks\": \"\"}}, \"type\": \"scattergeo\"}], \"scattergl\": [{\"marker\": {\"colorbar\": {\"outlinewidth\": 0, \"ticks\": \"\"}}, \"type\": \"scattergl\"}], \"scattermapbox\": [{\"marker\": {\"colorbar\": {\"outlinewidth\": 0, \"ticks\": \"\"}}, \"type\": \"scattermapbox\"}], \"scatterpolar\": [{\"marker\": {\"colorbar\": {\"outlinewidth\": 0, \"ticks\": \"\"}}, \"type\": \"scatterpolar\"}], \"scatterpolargl\": [{\"marker\": {\"colorbar\": {\"outlinewidth\": 0, \"ticks\": \"\"}}, \"type\": \"scatterpolargl\"}], \"scatterternary\": [{\"marker\": {\"colorbar\": {\"outlinewidth\": 0, \"ticks\": \"\"}}, \"type\": \"scatterternary\"}], \"surface\": [{\"colorbar\": {\"outlinewidth\": 0, \"ticks\": \"\"}, \"colorscale\": [[0.0, \"#0d0887\"], [0.1111111111111111, \"#46039f\"], [0.2222222222222222, \"#7201a8\"], [0.3333333333333333, \"#9c179e\"], [0.4444444444444444, \"#bd3786\"], [0.5555555555555556, \"#d8576b\"], [0.6666666666666666, \"#ed7953\"], [0.7777777777777778, \"#fb9f3a\"], [0.8888888888888888, \"#fdca26\"], [1.0, \"#f0f921\"]], \"type\": \"surface\"}], \"table\": [{\"cells\": {\"fill\": {\"color\": \"#EBF0F8\"}, \"line\": {\"color\": \"white\"}}, \"header\": {\"fill\": {\"color\": \"#C8D4E3\"}, \"line\": {\"color\": \"white\"}}, \"type\": \"table\"}]}, \"layout\": {\"annotationdefaults\": {\"arrowcolor\": \"#2a3f5f\", \"arrowhead\": 0, \"arrowwidth\": 1}, \"coloraxis\": {\"colorbar\": {\"outlinewidth\": 0, \"ticks\": \"\"}}, \"colorscale\": {\"diverging\": [[0, \"#8e0152\"], [0.1, \"#c51b7d\"], [0.2, \"#de77ae\"], [0.3, \"#f1b6da\"], [0.4, \"#fde0ef\"], [0.5, \"#f7f7f7\"], [0.6, \"#e6f5d0\"], [0.7, \"#b8e186\"], [0.8, \"#7fbc41\"], [0.9, \"#4d9221\"], [1, \"#276419\"]], \"sequential\": [[0.0, \"#0d0887\"], [0.1111111111111111, \"#46039f\"], [0.2222222222222222, \"#7201a8\"], [0.3333333333333333, \"#9c179e\"], [0.4444444444444444, \"#bd3786\"], [0.5555555555555556, \"#d8576b\"], [0.6666666666666666, \"#ed7953\"], [0.7777777777777778, \"#fb9f3a\"], [0.8888888888888888, \"#fdca26\"], [1.0, \"#f0f921\"]], \"sequentialminus\": [[0.0, \"#0d0887\"], [0.1111111111111111, \"#46039f\"], [0.2222222222222222, \"#7201a8\"], [0.3333333333333333, \"#9c179e\"], [0.4444444444444444, \"#bd3786\"], [0.5555555555555556, \"#d8576b\"], [0.6666666666666666, \"#ed7953\"], [0.7777777777777778, \"#fb9f3a\"], [0.8888888888888888, \"#fdca26\"], [1.0, \"#f0f921\"]]}, \"colorway\": [\"#636efa\", \"#EF553B\", \"#00cc96\", \"#ab63fa\", \"#FFA15A\", \"#19d3f3\", \"#FF6692\", \"#B6E880\", \"#FF97FF\", \"#FECB52\"], \"font\": {\"color\": \"#2a3f5f\"}, \"geo\": {\"bgcolor\": \"white\", \"lakecolor\": \"white\", \"landcolor\": \"#E5ECF6\", \"showlakes\": true, \"showland\": true, \"subunitcolor\": \"white\"}, \"hoverlabel\": {\"align\": \"left\"}, \"hovermode\": \"closest\", \"mapbox\": {\"style\": \"light\"}, \"paper_bgcolor\": \"white\", \"plot_bgcolor\": \"#E5ECF6\", \"polar\": {\"angularaxis\": {\"gridcolor\": \"white\", \"linecolor\": \"white\", \"ticks\": \"\"}, \"bgcolor\": \"#E5ECF6\", \"radialaxis\": {\"gridcolor\": \"white\", \"linecolor\": \"white\", \"ticks\": \"\"}}, \"scene\": {\"xaxis\": {\"backgroundcolor\": \"#E5ECF6\", \"gridcolor\": \"white\", \"gridwidth\": 2, \"linecolor\": \"white\", \"showbackground\": true, \"ticks\": \"\", \"zerolinecolor\": \"white\"}, \"yaxis\": {\"backgroundcolor\": \"#E5ECF6\", \"gridcolor\": \"white\", \"gridwidth\": 2, \"linecolor\": \"white\", \"showbackground\": true, \"ticks\": \"\", \"zerolinecolor\": \"white\"}, \"zaxis\": {\"backgroundcolor\": \"#E5ECF6\", \"gridcolor\": \"white\", \"gridwidth\": 2, \"linecolor\": \"white\", \"showbackground\": true, \"ticks\": \"\", \"zerolinecolor\": \"white\"}}, \"shapedefaults\": {\"line\": {\"color\": \"#2a3f5f\"}}, \"ternary\": {\"aaxis\": {\"gridcolor\": \"white\", \"linecolor\": \"white\", \"ticks\": \"\"}, \"baxis\": {\"gridcolor\": \"white\", \"linecolor\": \"white\", \"ticks\": \"\"}, \"bgcolor\": \"#E5ECF6\", \"caxis\": {\"gridcolor\": \"white\", \"linecolor\": \"white\", \"ticks\": \"\"}}, \"title\": {\"x\": 0.05}, \"xaxis\": {\"automargin\": true, \"gridcolor\": \"white\", \"linecolor\": \"white\", \"ticks\": \"\", \"title\": {\"standoff\": 15}, \"zerolinecolor\": \"white\", \"zerolinewidth\": 2}, \"yaxis\": {\"automargin\": true, \"gridcolor\": \"white\", \"linecolor\": \"white\", \"ticks\": \"\", \"title\": {\"standoff\": 15}, \"zerolinecolor\": \"white\", \"zerolinewidth\": 2}}}, \"width\": 1200, \"xaxis\": {\"anchor\": \"y\", \"categoryarray\": [\"Astrocyte\", \"Polydendrocyte\", \"Neuron\", \"Oligodendrocyte\", \"Ependyma\", \"Microglia_Macrophage\", \"Mural\", \"Neurogenesis\", \"Fibroblast-Like\", \"Oligodendrocyte_Polydendrocyte\", \"Mural_Fibroblast-Like\", \"Endothelial\", \"Choroid_Plexus\"], \"categoryorder\": \"array\", \"domain\": [0.0, 0.98], \"title\": {\"text\": \"Class\"}}, \"xaxis2\": {\"anchor\": \"y2\", \"domain\": [0.0, 0.98], \"matches\": \"x\", \"showticklabels\": false}, \"xaxis3\": {\"anchor\": \"y3\", \"domain\": [0.0, 0.98], \"matches\": \"x\", \"showticklabels\": false}, \"xaxis4\": {\"anchor\": \"y4\", \"domain\": [0.0, 0.98], \"matches\": \"x\", \"showticklabels\": false}, \"xaxis5\": {\"anchor\": \"y5\", \"domain\": [0.0, 0.98], \"matches\": \"x\", \"showticklabels\": false}, \"xaxis6\": {\"anchor\": \"y6\", \"domain\": [0.0, 0.98], \"matches\": \"x\", \"showticklabels\": false}, \"xaxis7\": {\"anchor\": \"y7\", \"domain\": [0.0, 0.98], \"matches\": \"x\", \"showticklabels\": false}, \"xaxis8\": {\"anchor\": \"y8\", \"domain\": [0.0, 0.98], \"matches\": \"x\", \"showticklabels\": false}, \"xaxis9\": {\"anchor\": \"y9\", \"domain\": [0.0, 0.98], \"matches\": \"x\", \"showticklabels\": false}, \"yaxis\": {\"anchor\": \"x\", \"domain\": [0.0, 0.08444444444444445], \"title\": {\"text\": \"\"}}, \"yaxis2\": {\"anchor\": \"x2\", \"domain\": [0.11444444444444445, 0.1988888888888889], \"matches\": \"y\", \"title\": {\"text\": \"\"}}, \"yaxis3\": {\"anchor\": \"x3\", \"domain\": [0.2288888888888889, 0.31333333333333335], \"matches\": \"y\", \"title\": {\"text\": \"\"}}, \"yaxis4\": {\"anchor\": \"x4\", \"domain\": [0.3433333333333334, 0.4277777777777778], \"matches\": \"y\", \"title\": {\"text\": \"\"}}, \"yaxis5\": {\"anchor\": \"x5\", \"domain\": [0.4577777777777778, 0.5422222222222223], \"matches\": \"y\", \"title\": {\"text\": \"\"}}, \"yaxis6\": {\"anchor\": \"x6\", \"domain\": [0.5722222222222222, 0.6566666666666666], \"matches\": \"y\", \"title\": {\"text\": \"\"}}, \"yaxis7\": {\"anchor\": \"x7\", \"domain\": [0.6866666666666668, 0.7711111111111112], \"matches\": \"y\", \"title\": {\"text\": \"\"}}, \"yaxis8\": {\"anchor\": \"x8\", \"domain\": [0.8011111111111111, 0.8855555555555555], \"matches\": \"y\", \"title\": {\"text\": \"\"}}, \"yaxis9\": {\"anchor\": \"x9\", \"domain\": [0.9155555555555556, 1.0], \"matches\": \"y\", \"title\": {\"text\": \"\"}}},\n",
       "                        {\"responsive\": true}\n",
       "                    ).then(function(){\n",
       "                            \n",
       "var gd = document.getElementById('7154b5eb-344b-4578-9fa4-448cfa3e7629');\n",
       "var x = new MutationObserver(function (mutations, observer) {{\n",
       "        var display = window.getComputedStyle(gd).display;\n",
       "        if (!display || display === 'none') {{\n",
       "            console.log([gd, 'removed!']);\n",
       "            Plotly.purge(gd);\n",
       "            observer.disconnect();\n",
       "        }}\n",
       "}});\n",
       "\n",
       "// Listen for the removal of the full notebook cells\n",
       "var notebookContainer = gd.closest('#notebook-container');\n",
       "if (notebookContainer) {{\n",
       "    x.observe(notebookContainer, {childList: true});\n",
       "}}\n",
       "\n",
       "// Listen for the clearing of the current output cell\n",
       "var outputEl = gd.closest('.output');\n",
       "if (outputEl) {{\n",
       "    x.observe(outputEl, {childList: true});\n",
       "}}\n",
       "\n",
       "                        })\n",
       "                };\n",
       "                });\n",
       "            </script>\n",
       "        </div>"
      ]
     },
     "metadata": {},
     "output_type": "display_data"
    },
    {
     "data": {
      "application/vnd.plotly.v1+json": {
       "config": {
        "plotlyServerURL": "https://plot.ly"
       },
       "data": [
        {
         "cells": {
          "align": "left",
          "fill": {
           "color": "lavender"
          },
          "values": [
           [
            "Globus Pallidus",
            "Substantia Nigra",
            "Entopeduncular",
            "Thalamus",
            "Hippocampus",
            "Posterior Cortex",
            "Hippocampus",
            "Entopeduncular",
            "Striatum",
            "Globus Pallidus",
            "Cerebellum",
            "Posterior Cortex",
            "Substantia Nigra",
            "Frontal Cortex",
            "Frontal Cortex",
            "Frontal Cortex",
            "Posterior Cortex",
            "Striatum",
            "Cerebellum",
            "Hippocampus",
            "Posterior Cortex",
            "Hippocampus",
            "Frontal Cortex",
            "Globus Pallidus",
            "Globus Pallidus",
            "Substantia Nigra",
            "Entopeduncular",
            "Substantia Nigra",
            "Striatum",
            "Substantia Nigra",
            "Thalamus",
            "Thalamus",
            "Posterior Cortex",
            "Hippocampus",
            "Thalamus",
            "Globus Pallidus",
            "Hippocampus",
            "Striatum",
            "Frontal Cortex",
            "Posterior Cortex",
            "Entopeduncular",
            "Globus Pallidus",
            "Hippocampus",
            "Striatum",
            "Substantia Nigra",
            "Cerebellum",
            "Frontal Cortex",
            "Posterior Cortex",
            "Posterior Cortex",
            "Entopeduncular",
            "Globus Pallidus",
            "Hippocampus",
            "Substantia Nigra",
            "Cerebellum",
            "Frontal Cortex",
            "Hippocampus",
            "Striatum",
            "Substantia Nigra",
            "Cerebellum",
            "Frontal Cortex",
            "Entopeduncular",
            "Striatum",
            "Thalamus",
            "Cerebellum",
            "Cerebellum",
            "Frontal Cortex",
            "Frontal Cortex",
            "Posterior Cortex",
            "Posterior Cortex",
            "Posterior Cortex",
            "Globus Pallidus",
            "Globus Pallidus",
            "Globus Pallidus",
            "Hippocampus",
            "Hippocampus",
            "Hippocampus",
            "Striatum",
            "Striatum",
            "Striatum",
            "Striatum",
            "Substantia Nigra",
            "Substantia Nigra",
            "Thalamus",
            "Thalamus",
            "Thalamus",
            "Cerebellum",
            "Frontal Cortex",
            "Frontal Cortex",
            "Frontal Cortex",
            "Frontal Cortex",
            "Posterior Cortex",
            "Posterior Cortex",
            "Posterior Cortex",
            "Entopeduncular",
            "Entopeduncular",
            "Globus Pallidus",
            "Hippocampus",
            "Hippocampus",
            "Hippocampus",
            "Hippocampus",
            "Striatum",
            "Striatum",
            "Striatum",
            "Striatum",
            "Substantia Nigra",
            "Substantia Nigra",
            "Thalamus",
            "Thalamus",
            "Thalamus",
            "Thalamus",
            "Cerebellum",
            "Cerebellum",
            "Cerebellum",
            "Hippocampus",
            "Substantia Nigra",
            "Substantia Nigra"
           ],
           [
            "Astrocyte",
            "Astrocyte",
            "Astrocyte",
            "Astrocyte",
            "Polydendrocyte",
            "Polydendrocyte",
            "Astrocyte",
            "Polydendrocyte",
            "Polydendrocyte",
            "Polydendrocyte",
            "Astrocyte",
            "Astrocyte",
            "Polydendrocyte",
            "Polydendrocyte",
            "Astrocyte",
            "Neuron",
            "Neuron",
            "Astrocyte",
            "Astrocyte",
            "Neuron",
            "Neuron",
            "Neuron",
            "Neuron",
            "Neuron",
            "Neuron",
            "Neuron",
            "Neuron",
            "Neuron",
            "Neuron",
            "Neuron",
            "Polydendrocyte",
            "Neuron",
            "Neuron",
            "Neuron",
            "Oligodendrocyte",
            "Neuron",
            "Neuron",
            "Neuron",
            "Neuron",
            "Neuron",
            "Oligodendrocyte",
            "Ependyma",
            "Neuron",
            "Neuron",
            "Polydendrocyte",
            "Microglia_Macrophage",
            "Neuron",
            "Mural",
            "Neuron",
            "Polydendrocyte",
            "Mural",
            "Neurogenesis",
            "Oligodendrocyte",
            "Fibroblast-Like",
            "Neuron",
            "Mural",
            "Mural",
            "Microglia_Macrophage",
            "Oligodendrocyte_Polydendrocyte",
            "Mural",
            "Mural_Fibroblast-Like",
            "Neurogenesis",
            "Neuron",
            "Neuron",
            "Neuron",
            "Microglia_Macrophage",
            "Fibroblast-Like",
            "Neuron",
            "Microglia_Macrophage",
            "Oligodendrocyte",
            "Oligodendrocyte",
            "Microglia_Macrophage",
            "Fibroblast-Like",
            "Microglia_Macrophage",
            "Neuron",
            "Oligodendrocyte",
            "Neuron",
            "Neuron",
            "Neuron",
            "Microglia_Macrophage",
            "Mural",
            "Neuron",
            "Mural",
            "Fibroblast-Like",
            "Microglia_Macrophage",
            "Neuron",
            "Endothelial",
            "Neuron",
            "Neuron",
            "Oligodendrocyte",
            "Endothelial",
            "Fibroblast-Like",
            "Neuron",
            "Oligodendrocyte",
            "Endothelial",
            "Endothelial",
            "Ependyma",
            "Endothelial",
            "Fibroblast-Like",
            "Neuron",
            "Ependyma",
            "Oligodendrocyte",
            "Endothelial",
            "Fibroblast-Like",
            "Oligodendrocyte",
            "Endothelial",
            "Neuron",
            "Ependyma",
            "Endothelial",
            "Oligodendrocyte",
            "Endothelial",
            "Neuron",
            "Choroid_Plexus",
            "Choroid_Plexus",
            "Fibroblast-Like",
            "Ependyma"
           ],
           [
            "Astrocyte_Gja1 [#5]",
            "Astrocyte_Gja1 [#7]",
            "Astrocyte_Gja1 [#7]",
            "Astrocyte_Gja1 [#11]",
            "Polydendrocyte_Tnr [#9]",
            "Polydendrocyte_Tnr [#10]",
            "Astrocyte_Gja1 [#7]",
            "Polydendrocyte_Cacng4 [#6]",
            "Polydendrocytes_Tnr [#5]",
            "Polydendrocyte_Tnr [#4]",
            "Astrocyte_Gja1 [#8]",
            "Astrocyte_Gja1 [#8]",
            "Polydendrocyte_Cacng4 [#6]",
            "Polydendrocyte_Tnr [#10]",
            "Astrocyte_Gja1 [#8]",
            "Interneuron_MGE_Sst-Pvalb [#2]",
            "Interneuron_MGE_Sst-Pvalb [#5]",
            "Astrocyte_Gja1 [#4]",
            "BergmannGlia_Gpr37l1 [#7]",
            "Interneuron_Gad2 [#1]",
            "Interneuron_CGE_Cplx3-Synpr [#4]",
            "Neuron_Dentate_C1ql2 [#4]",
            "Interneuron_CGE_Cplx3-Synpr [#1]",
            "Neuron_Chat [#1]",
            "Neuron_Gabra1 [#2]",
            "Neuron_CA3_C1ql3 [#1]",
            "Neuron_Syt1 [#4]",
            "Neuron_Gad2 [#3]",
            "Interneuron_Pvalb_Th_Pnoc [#14]",
            "Neuron_Th [#4]",
            "Polydendrocyte_Tnr [#12]",
            "Neuron_Gad2-Ahi1 [#3]",
            "RSG_Tshz2-Shisa8 [#6]",
            "Neuron_Subiculum_Slc17a6 [#2]",
            "Oligodendrocyte_Mbp [#9]",
            "Neuron_Ppp1r1b [#3]",
            "Neuron_Subiculum_Entorhinal_Nxph3 [#3]",
            "Interneuron_Chat [#12]",
            "Neuron_Layer5b_Fezf2 [#4]",
            "Layer5b_Fezf2 [#7]",
            "Oligodendrocyte_Mbp [#8]",
            "Ependyma [#6]",
            "Neuron_CA1_Subiculum_Postsubiculum_Entorhinal_Fibcd1-Dcn-Cbln1-Ptgfr-Fezf2 [#5]",
            "Interneuron_Sst [#15]",
            "Polydendrocyte_Tnr [#5]",
            "Microglia_Macrophage_C1qb [#5]",
            "Neuron_Claustrum_Nr4a2 [#5]",
            "Mural_Rgs5Acta2 [#13]",
            "Neuron_Layer23_5_6_Subiculum_Calb1-Rorb-Fermt1-Tshz2-Oprk1-Crym-Sema3e [#2]",
            "Polydendrocyte_Tnr [#5]",
            "Mural_Rgs5Acta2 [#8]",
            "Neurogenesis_Sox4 [#13]",
            "Oligodendrocyte_Mbp [#11]",
            "Fibroblast-Like_Dcn [#11]",
            "Neuron_Layer23_Nptxr [#6]",
            "Mural_Rgs5Acta2 [#16]",
            "Mural_Rgs5Acta2 [#8]",
            "Microglia_Macrophage_C1qb [#9]",
            "Oligodendrocyte_Polydendrocyte_Tfr_Tnr [#6]",
            "Mural_Rgs5Acta2 [#13]",
            "Mural_Fibroblast-Like_Rgs5Acta2-Dcn [#3]",
            "Neurogenesis_Sox4 [#2]",
            "Neuron_Rora [#2]",
            "GranularNeuron_Gabra6 [#1]",
            "Interneurons_and_Other_Nnat [#4]",
            "Microglia_Macrophage_C1qb [#11]",
            "Fibroblast-Like_Dcn [#14]",
            "Neuron_Layer6Subplate_Syt6 [#1]",
            "Microglia_Macrophage_Tmem119-Mrc1 [#11]",
            "Oligodendrocyte_Tfr [#9]",
            "Oligodendrocyte_Tfr [#10]",
            "Microglia_Macrophage_C1qb [#11]",
            "Fibroblast-Like_Dcn [#9]",
            "Microglia_Macrophage_C1qb [#10]",
            "Neuron_CajalRetzius_Lhx1 [#14]",
            "Oligodendrocyte_Tfr [#8]",
            "Neuron_dSPN_Drd1 [#10]",
            "Neuron_iSPN_Adora2a [#11]",
            "Neuron_SPN_BNST_Amygdala_Otof [#13]",
            "Microglia_Macrophage_C1qb [#6]",
            "Mural_Rgs5Acta2 [#13]",
            "Neuron_Rora [#2]",
            "Mural_Rgs5Acta2 [#5]",
            "Fibroblast-Like_Dcn [#6]",
            "Microglia_Macrophage_C1qb [#7]",
            "Interneurons_Pvalb [#3]",
            "Endothelial_Flt1 [#12]",
            "Neuron_Layer6Subplate_Syt6 [#3]",
            "Neuron_Layer5_Parm1 [#7]",
            "Oligodendrocyte_Tfr [#9]",
            "Endothelial_Flt1 [#12]",
            "Fibroblast-Like_Dcn [#14]",
            "Neuron_Layer5_Bcl6 [#3]",
            "Oligodendrocyte_Tfr [#1]",
            "Endothelial_Flt1 [#2]",
            "Endothelial_Flt1 [#7]",
            "Ependyma [#11]",
            "Endothelial_Flt1 [#15]",
            "Fibroblast-Like_Dcn [#17]",
            "Neuron_CA2CA3_Pvrl3-Rgs15-Calb2 [#6]",
            "Ependyma [#1]",
            "Oligodendrocytes_Tfr [#3]",
            "Endothelial_Flt1 [#7]",
            "Fibroblast-Like_Dcn [#9]",
            "Oligodendrocyte_Tfr [#10]",
            "Endothelial_Flt1 [#12]",
            "Neuron_Habenula_Tac2 [#1]",
            "Ependyma [#10]",
            "Endothelial_Flt1 [#4]",
            "Oligodendrocyte_Tfr [#8]",
            "Endothelial_Flt1 [#10]",
            "PurkinjeNeuron_Pcp2 [#2]",
            "Choroid_Plexus_Ttr [#9]",
            "Choroid_Plexus_Ttr [#12]",
            "Fibroblast-Like_Dcn [#14]",
            "Ependyma [#8]"
           ],
           [
            3.7841896339182597,
            3.61091791264422,
            3.49650756146648,
            3.49650756146648,
            3.25809653802148,
            3.2188758248682006,
            3.2188758248682006,
            3.1780538303479506,
            3.13549421592915,
            3.09104245335832,
            3.0445224377234195,
            3.0445224377234195,
            3.0445224377234195,
            2.99573227355399,
            2.89037175789616,
            2.83321334405622,
            2.83321334405622,
            2.83321334405622,
            2.77258872223978,
            2.77258872223978,
            2.7080502011022096,
            2.7080502011022096,
            2.6390573296152597,
            2.6390573296152597,
            2.6390573296152597,
            2.6390573296152597,
            2.5649493574615403,
            2.5649493574615403,
            2.484906649788,
            2.484906649788,
            2.484906649788,
            2.484906649788,
            2.3978952727983702,
            2.3978952727983702,
            2.19722457733622,
            2.07944154167984,
            2.07944154167984,
            2.07944154167984,
            1.9459101490553101,
            1.9459101490553101,
            1.9459101490553101,
            1.9459101490553101,
            1.9459101490553101,
            1.9459101490553101,
            1.9459101490553101,
            1.79175946922805,
            1.79175946922805,
            1.79175946922805,
            1.79175946922805,
            1.79175946922805,
            1.79175946922805,
            1.79175946922805,
            1.79175946922805,
            1.6094379124341003,
            1.6094379124341003,
            1.6094379124341003,
            1.6094379124341003,
            1.6094379124341003,
            1.38629436111989,
            1.38629436111989,
            1.38629436111989,
            1.38629436111989,
            1.38629436111989,
            1.09861228866811,
            1.09861228866811,
            1.09861228866811,
            1.09861228866811,
            1.09861228866811,
            1.09861228866811,
            1.09861228866811,
            1.09861228866811,
            1.09861228866811,
            1.09861228866811,
            1.09861228866811,
            1.09861228866811,
            1.09861228866811,
            1.09861228866811,
            1.09861228866811,
            1.09861228866811,
            1.09861228866811,
            1.09861228866811,
            1.09861228866811,
            1.09861228866811,
            1.09861228866811,
            1.09861228866811,
            0.693147180559945,
            0.693147180559945,
            0.693147180559945,
            0.693147180559945,
            0.693147180559945,
            0.693147180559945,
            0.693147180559945,
            0.693147180559945,
            0.693147180559945,
            0.693147180559945,
            0.693147180559945,
            0.693147180559945,
            0.693147180559945,
            0.693147180559945,
            0.693147180559945,
            0.693147180559945,
            0.693147180559945,
            0.693147180559945,
            0.693147180559945,
            0.693147180559945,
            0.693147180559945,
            0.693147180559945,
            0.693147180559945,
            0.693147180559945,
            0.693147180559945,
            0,
            0,
            0,
            0,
            0,
            0
           ],
           [
            0,
            0,
            2.963359431103179e-137,
            0,
            2.2714684347934197e-92,
            2.2535631348094793e-115,
            0,
            1.69368687270176e-23,
            3.0798091314767096e-106,
            1.94403001187904e-12,
            1.8251187479579398e-34,
            0,
            1.7590408439861902e-14,
            9.992024798780497e-134,
            0,
            0,
            1.3156005434026692e-215,
            0,
            5.324179651116479e-172,
            8.409469932789138e-147,
            1.5762590174492698e-104,
            0,
            0,
            0.000186558054957842,
            1.2902871691436795e-72,
            0.000255827600120459,
            5.658720671844257e-179,
            1.0641061572409295e-235,
            2.8629443943963294e-130,
            9.151535103147019e-38,
            2.94347080406045e-15,
            0,
            4.639582624268499e-110,
            1.1582298950237699e-15,
            2.7798422779698097e-08,
            6.573931017535169e-44,
            2.3471804431108103e-07,
            2.3831376638584697e-19,
            0.000347276125369811,
            0.8229914690686808,
            0.00210693690220867,
            0.00317736187066658,
            8.705097864314036e-200,
            4.9091366758094995e-12,
            2.1463795833006198e-07,
            1,
            0.0258584114962535,
            0.0395677302370459,
            4.16102336081573e-70,
            0.120289348884071,
            9.96730796569848e-19,
            9.11673373802801e-06,
            0.543580637749416,
            0.538491725262954,
            1.7902036069200602e-43,
            6.0281234687283206e-12,
            0.0514844555099797,
            0.08770554092133799,
            0.0032798119314119,
            0.00010302185931019799,
            0.10359860337643,
            0.678238263718481,
            3.48989780380235e-05,
            1.3875753658531696e-85,
            0.18869192824324202,
            1.3330665266714499e-07,
            3.58074407857341e-05,
            1.0081130519060797e-158,
            0.00018461544059673898,
            2.5808001911872497e-44,
            0,
            2.39508249341325e-10,
            7.07544224884258e-12,
            4.76160796655483e-11,
            6.54476726438534e-10,
            9.876232861330968e-95,
            5.268716688116189e-124,
            6.897595745070689e-53,
            1.01598851737356e-05,
            0.23316447332449,
            2.2435898516851203e-16,
            0.00023300833236473197,
            0.00278027661483071,
            0.0471945535544487,
            0.490750707869979,
            4.04099107924825e-10,
            3.463086979709989e-69,
            6.699476237287796e-249,
            4.222544839529129e-140,
            1.2792135286818298e-78,
            3.48087039328855e-47,
            1.8759799928079e-10,
            3.234751444645729e-126,
            5.495264489045848e-262,
            2.44732879131391e-26,
            2.019320397905789e-157,
            6.74908912592614e-30,
            4.8417653608117986e-88,
            4.940051994979201e-12,
            0,
            0.00600582725815056,
            3.11325728476158e-20,
            2.16769835588138e-07,
            0.23626409378437302,
            0,
            2.7877781207888994e-94,
            1.51944877740895e-11,
            5.34593070053286e-08,
            6.706505548839049e-80,
            7.021319053737675e-281,
            2.83292560655726e-06,
            5.29960344021676e-11,
            0.00384463976298838,
            6.57674469160085e-08,
            6.605788132194879e-09,
            0.0601941417862943
           ]
          ]
         },
         "header": {
          "align": "left",
          "fill": {
           "color": "paleturquoise"
          },
          "values": [
           "Region",
           "Class",
           "Cluster",
           "Adcyap1r1_Amount",
           "Adcyap1r1_PVal"
          ]
         },
         "type": "table"
        }
       ],
       "layout": {
        "template": {
         "data": {
          "bar": [
           {
            "error_x": {
             "color": "#2a3f5f"
            },
            "error_y": {
             "color": "#2a3f5f"
            },
            "marker": {
             "line": {
              "color": "#E5ECF6",
              "width": 0.5
             }
            },
            "type": "bar"
           }
          ],
          "barpolar": [
           {
            "marker": {
             "line": {
              "color": "#E5ECF6",
              "width": 0.5
             }
            },
            "type": "barpolar"
           }
          ],
          "carpet": [
           {
            "aaxis": {
             "endlinecolor": "#2a3f5f",
             "gridcolor": "white",
             "linecolor": "white",
             "minorgridcolor": "white",
             "startlinecolor": "#2a3f5f"
            },
            "baxis": {
             "endlinecolor": "#2a3f5f",
             "gridcolor": "white",
             "linecolor": "white",
             "minorgridcolor": "white",
             "startlinecolor": "#2a3f5f"
            },
            "type": "carpet"
           }
          ],
          "choropleth": [
           {
            "colorbar": {
             "outlinewidth": 0,
             "ticks": ""
            },
            "type": "choropleth"
           }
          ],
          "contour": [
           {
            "colorbar": {
             "outlinewidth": 0,
             "ticks": ""
            },
            "colorscale": [
             [
              0,
              "#0d0887"
             ],
             [
              0.1111111111111111,
              "#46039f"
             ],
             [
              0.2222222222222222,
              "#7201a8"
             ],
             [
              0.3333333333333333,
              "#9c179e"
             ],
             [
              0.4444444444444444,
              "#bd3786"
             ],
             [
              0.5555555555555556,
              "#d8576b"
             ],
             [
              0.6666666666666666,
              "#ed7953"
             ],
             [
              0.7777777777777778,
              "#fb9f3a"
             ],
             [
              0.8888888888888888,
              "#fdca26"
             ],
             [
              1,
              "#f0f921"
             ]
            ],
            "type": "contour"
           }
          ],
          "contourcarpet": [
           {
            "colorbar": {
             "outlinewidth": 0,
             "ticks": ""
            },
            "type": "contourcarpet"
           }
          ],
          "heatmap": [
           {
            "colorbar": {
             "outlinewidth": 0,
             "ticks": ""
            },
            "colorscale": [
             [
              0,
              "#0d0887"
             ],
             [
              0.1111111111111111,
              "#46039f"
             ],
             [
              0.2222222222222222,
              "#7201a8"
             ],
             [
              0.3333333333333333,
              "#9c179e"
             ],
             [
              0.4444444444444444,
              "#bd3786"
             ],
             [
              0.5555555555555556,
              "#d8576b"
             ],
             [
              0.6666666666666666,
              "#ed7953"
             ],
             [
              0.7777777777777778,
              "#fb9f3a"
             ],
             [
              0.8888888888888888,
              "#fdca26"
             ],
             [
              1,
              "#f0f921"
             ]
            ],
            "type": "heatmap"
           }
          ],
          "heatmapgl": [
           {
            "colorbar": {
             "outlinewidth": 0,
             "ticks": ""
            },
            "colorscale": [
             [
              0,
              "#0d0887"
             ],
             [
              0.1111111111111111,
              "#46039f"
             ],
             [
              0.2222222222222222,
              "#7201a8"
             ],
             [
              0.3333333333333333,
              "#9c179e"
             ],
             [
              0.4444444444444444,
              "#bd3786"
             ],
             [
              0.5555555555555556,
              "#d8576b"
             ],
             [
              0.6666666666666666,
              "#ed7953"
             ],
             [
              0.7777777777777778,
              "#fb9f3a"
             ],
             [
              0.8888888888888888,
              "#fdca26"
             ],
             [
              1,
              "#f0f921"
             ]
            ],
            "type": "heatmapgl"
           }
          ],
          "histogram": [
           {
            "marker": {
             "colorbar": {
              "outlinewidth": 0,
              "ticks": ""
             }
            },
            "type": "histogram"
           }
          ],
          "histogram2d": [
           {
            "colorbar": {
             "outlinewidth": 0,
             "ticks": ""
            },
            "colorscale": [
             [
              0,
              "#0d0887"
             ],
             [
              0.1111111111111111,
              "#46039f"
             ],
             [
              0.2222222222222222,
              "#7201a8"
             ],
             [
              0.3333333333333333,
              "#9c179e"
             ],
             [
              0.4444444444444444,
              "#bd3786"
             ],
             [
              0.5555555555555556,
              "#d8576b"
             ],
             [
              0.6666666666666666,
              "#ed7953"
             ],
             [
              0.7777777777777778,
              "#fb9f3a"
             ],
             [
              0.8888888888888888,
              "#fdca26"
             ],
             [
              1,
              "#f0f921"
             ]
            ],
            "type": "histogram2d"
           }
          ],
          "histogram2dcontour": [
           {
            "colorbar": {
             "outlinewidth": 0,
             "ticks": ""
            },
            "colorscale": [
             [
              0,
              "#0d0887"
             ],
             [
              0.1111111111111111,
              "#46039f"
             ],
             [
              0.2222222222222222,
              "#7201a8"
             ],
             [
              0.3333333333333333,
              "#9c179e"
             ],
             [
              0.4444444444444444,
              "#bd3786"
             ],
             [
              0.5555555555555556,
              "#d8576b"
             ],
             [
              0.6666666666666666,
              "#ed7953"
             ],
             [
              0.7777777777777778,
              "#fb9f3a"
             ],
             [
              0.8888888888888888,
              "#fdca26"
             ],
             [
              1,
              "#f0f921"
             ]
            ],
            "type": "histogram2dcontour"
           }
          ],
          "mesh3d": [
           {
            "colorbar": {
             "outlinewidth": 0,
             "ticks": ""
            },
            "type": "mesh3d"
           }
          ],
          "parcoords": [
           {
            "line": {
             "colorbar": {
              "outlinewidth": 0,
              "ticks": ""
             }
            },
            "type": "parcoords"
           }
          ],
          "pie": [
           {
            "automargin": true,
            "type": "pie"
           }
          ],
          "scatter": [
           {
            "marker": {
             "colorbar": {
              "outlinewidth": 0,
              "ticks": ""
             }
            },
            "type": "scatter"
           }
          ],
          "scatter3d": [
           {
            "line": {
             "colorbar": {
              "outlinewidth": 0,
              "ticks": ""
             }
            },
            "marker": {
             "colorbar": {
              "outlinewidth": 0,
              "ticks": ""
             }
            },
            "type": "scatter3d"
           }
          ],
          "scattercarpet": [
           {
            "marker": {
             "colorbar": {
              "outlinewidth": 0,
              "ticks": ""
             }
            },
            "type": "scattercarpet"
           }
          ],
          "scattergeo": [
           {
            "marker": {
             "colorbar": {
              "outlinewidth": 0,
              "ticks": ""
             }
            },
            "type": "scattergeo"
           }
          ],
          "scattergl": [
           {
            "marker": {
             "colorbar": {
              "outlinewidth": 0,
              "ticks": ""
             }
            },
            "type": "scattergl"
           }
          ],
          "scattermapbox": [
           {
            "marker": {
             "colorbar": {
              "outlinewidth": 0,
              "ticks": ""
             }
            },
            "type": "scattermapbox"
           }
          ],
          "scatterpolar": [
           {
            "marker": {
             "colorbar": {
              "outlinewidth": 0,
              "ticks": ""
             }
            },
            "type": "scatterpolar"
           }
          ],
          "scatterpolargl": [
           {
            "marker": {
             "colorbar": {
              "outlinewidth": 0,
              "ticks": ""
             }
            },
            "type": "scatterpolargl"
           }
          ],
          "scatterternary": [
           {
            "marker": {
             "colorbar": {
              "outlinewidth": 0,
              "ticks": ""
             }
            },
            "type": "scatterternary"
           }
          ],
          "surface": [
           {
            "colorbar": {
             "outlinewidth": 0,
             "ticks": ""
            },
            "colorscale": [
             [
              0,
              "#0d0887"
             ],
             [
              0.1111111111111111,
              "#46039f"
             ],
             [
              0.2222222222222222,
              "#7201a8"
             ],
             [
              0.3333333333333333,
              "#9c179e"
             ],
             [
              0.4444444444444444,
              "#bd3786"
             ],
             [
              0.5555555555555556,
              "#d8576b"
             ],
             [
              0.6666666666666666,
              "#ed7953"
             ],
             [
              0.7777777777777778,
              "#fb9f3a"
             ],
             [
              0.8888888888888888,
              "#fdca26"
             ],
             [
              1,
              "#f0f921"
             ]
            ],
            "type": "surface"
           }
          ],
          "table": [
           {
            "cells": {
             "fill": {
              "color": "#EBF0F8"
             },
             "line": {
              "color": "white"
             }
            },
            "header": {
             "fill": {
              "color": "#C8D4E3"
             },
             "line": {
              "color": "white"
             }
            },
            "type": "table"
           }
          ]
         },
         "layout": {
          "annotationdefaults": {
           "arrowcolor": "#2a3f5f",
           "arrowhead": 0,
           "arrowwidth": 1
          },
          "coloraxis": {
           "colorbar": {
            "outlinewidth": 0,
            "ticks": ""
           }
          },
          "colorscale": {
           "diverging": [
            [
             0,
             "#8e0152"
            ],
            [
             0.1,
             "#c51b7d"
            ],
            [
             0.2,
             "#de77ae"
            ],
            [
             0.3,
             "#f1b6da"
            ],
            [
             0.4,
             "#fde0ef"
            ],
            [
             0.5,
             "#f7f7f7"
            ],
            [
             0.6,
             "#e6f5d0"
            ],
            [
             0.7,
             "#b8e186"
            ],
            [
             0.8,
             "#7fbc41"
            ],
            [
             0.9,
             "#4d9221"
            ],
            [
             1,
             "#276419"
            ]
           ],
           "sequential": [
            [
             0,
             "#0d0887"
            ],
            [
             0.1111111111111111,
             "#46039f"
            ],
            [
             0.2222222222222222,
             "#7201a8"
            ],
            [
             0.3333333333333333,
             "#9c179e"
            ],
            [
             0.4444444444444444,
             "#bd3786"
            ],
            [
             0.5555555555555556,
             "#d8576b"
            ],
            [
             0.6666666666666666,
             "#ed7953"
            ],
            [
             0.7777777777777778,
             "#fb9f3a"
            ],
            [
             0.8888888888888888,
             "#fdca26"
            ],
            [
             1,
             "#f0f921"
            ]
           ],
           "sequentialminus": [
            [
             0,
             "#0d0887"
            ],
            [
             0.1111111111111111,
             "#46039f"
            ],
            [
             0.2222222222222222,
             "#7201a8"
            ],
            [
             0.3333333333333333,
             "#9c179e"
            ],
            [
             0.4444444444444444,
             "#bd3786"
            ],
            [
             0.5555555555555556,
             "#d8576b"
            ],
            [
             0.6666666666666666,
             "#ed7953"
            ],
            [
             0.7777777777777778,
             "#fb9f3a"
            ],
            [
             0.8888888888888888,
             "#fdca26"
            ],
            [
             1,
             "#f0f921"
            ]
           ]
          },
          "colorway": [
           "#636efa",
           "#EF553B",
           "#00cc96",
           "#ab63fa",
           "#FFA15A",
           "#19d3f3",
           "#FF6692",
           "#B6E880",
           "#FF97FF",
           "#FECB52"
          ],
          "font": {
           "color": "#2a3f5f"
          },
          "geo": {
           "bgcolor": "white",
           "lakecolor": "white",
           "landcolor": "#E5ECF6",
           "showlakes": true,
           "showland": true,
           "subunitcolor": "white"
          },
          "hoverlabel": {
           "align": "left"
          },
          "hovermode": "closest",
          "mapbox": {
           "style": "light"
          },
          "paper_bgcolor": "white",
          "plot_bgcolor": "#E5ECF6",
          "polar": {
           "angularaxis": {
            "gridcolor": "white",
            "linecolor": "white",
            "ticks": ""
           },
           "bgcolor": "#E5ECF6",
           "radialaxis": {
            "gridcolor": "white",
            "linecolor": "white",
            "ticks": ""
           }
          },
          "scene": {
           "xaxis": {
            "backgroundcolor": "#E5ECF6",
            "gridcolor": "white",
            "gridwidth": 2,
            "linecolor": "white",
            "showbackground": true,
            "ticks": "",
            "zerolinecolor": "white"
           },
           "yaxis": {
            "backgroundcolor": "#E5ECF6",
            "gridcolor": "white",
            "gridwidth": 2,
            "linecolor": "white",
            "showbackground": true,
            "ticks": "",
            "zerolinecolor": "white"
           },
           "zaxis": {
            "backgroundcolor": "#E5ECF6",
            "gridcolor": "white",
            "gridwidth": 2,
            "linecolor": "white",
            "showbackground": true,
            "ticks": "",
            "zerolinecolor": "white"
           }
          },
          "shapedefaults": {
           "line": {
            "color": "#2a3f5f"
           }
          },
          "ternary": {
           "aaxis": {
            "gridcolor": "white",
            "linecolor": "white",
            "ticks": ""
           },
           "baxis": {
            "gridcolor": "white",
            "linecolor": "white",
            "ticks": ""
           },
           "bgcolor": "#E5ECF6",
           "caxis": {
            "gridcolor": "white",
            "linecolor": "white",
            "ticks": ""
           }
          },
          "title": {
           "x": 0.05
          },
          "xaxis": {
           "automargin": true,
           "gridcolor": "white",
           "linecolor": "white",
           "ticks": "",
           "title": {
            "standoff": 15
           },
           "zerolinecolor": "white",
           "zerolinewidth": 2
          },
          "yaxis": {
           "automargin": true,
           "gridcolor": "white",
           "linecolor": "white",
           "ticks": "",
           "title": {
            "standoff": 15
           },
           "zerolinecolor": "white",
           "zerolinewidth": 2
          }
         }
        }
       }
      },
      "text/html": [
       "<div>\n",
       "        \n",
       "        \n",
       "            <div id=\"c442cd60-9551-4617-9217-7cdfc88f57c5\" class=\"plotly-graph-div\" style=\"height:525px; width:100%;\"></div>\n",
       "            <script type=\"text/javascript\">\n",
       "                require([\"plotly\"], function(Plotly) {\n",
       "                    window.PLOTLYENV=window.PLOTLYENV || {};\n",
       "                    \n",
       "                if (document.getElementById(\"c442cd60-9551-4617-9217-7cdfc88f57c5\")) {\n",
       "                    Plotly.newPlot(\n",
       "                        'c442cd60-9551-4617-9217-7cdfc88f57c5',\n",
       "                        [{\"cells\": {\"align\": \"left\", \"fill\": {\"color\": \"lavender\"}, \"values\": [[\"Globus Pallidus\", \"Substantia Nigra\", \"Entopeduncular\", \"Thalamus\", \"Hippocampus\", \"Posterior Cortex\", \"Hippocampus\", \"Entopeduncular\", \"Striatum\", \"Globus Pallidus\", \"Cerebellum\", \"Posterior Cortex\", \"Substantia Nigra\", \"Frontal Cortex\", \"Frontal Cortex\", \"Frontal Cortex\", \"Posterior Cortex\", \"Striatum\", \"Cerebellum\", \"Hippocampus\", \"Posterior Cortex\", \"Hippocampus\", \"Frontal Cortex\", \"Globus Pallidus\", \"Globus Pallidus\", \"Substantia Nigra\", \"Entopeduncular\", \"Substantia Nigra\", \"Striatum\", \"Substantia Nigra\", \"Thalamus\", \"Thalamus\", \"Posterior Cortex\", \"Hippocampus\", \"Thalamus\", \"Globus Pallidus\", \"Hippocampus\", \"Striatum\", \"Frontal Cortex\", \"Posterior Cortex\", \"Entopeduncular\", \"Globus Pallidus\", \"Hippocampus\", \"Striatum\", \"Substantia Nigra\", \"Cerebellum\", \"Frontal Cortex\", \"Posterior Cortex\", \"Posterior Cortex\", \"Entopeduncular\", \"Globus Pallidus\", \"Hippocampus\", \"Substantia Nigra\", \"Cerebellum\", \"Frontal Cortex\", \"Hippocampus\", \"Striatum\", \"Substantia Nigra\", \"Cerebellum\", \"Frontal Cortex\", \"Entopeduncular\", \"Striatum\", \"Thalamus\", \"Cerebellum\", \"Cerebellum\", \"Frontal Cortex\", \"Frontal Cortex\", \"Posterior Cortex\", \"Posterior Cortex\", \"Posterior Cortex\", \"Globus Pallidus\", \"Globus Pallidus\", \"Globus Pallidus\", \"Hippocampus\", \"Hippocampus\", \"Hippocampus\", \"Striatum\", \"Striatum\", \"Striatum\", \"Striatum\", \"Substantia Nigra\", \"Substantia Nigra\", \"Thalamus\", \"Thalamus\", \"Thalamus\", \"Cerebellum\", \"Frontal Cortex\", \"Frontal Cortex\", \"Frontal Cortex\", \"Frontal Cortex\", \"Posterior Cortex\", \"Posterior Cortex\", \"Posterior Cortex\", \"Entopeduncular\", \"Entopeduncular\", \"Globus Pallidus\", \"Hippocampus\", \"Hippocampus\", \"Hippocampus\", \"Hippocampus\", \"Striatum\", \"Striatum\", \"Striatum\", \"Striatum\", \"Substantia Nigra\", \"Substantia Nigra\", \"Thalamus\", \"Thalamus\", \"Thalamus\", \"Thalamus\", \"Cerebellum\", \"Cerebellum\", \"Cerebellum\", \"Hippocampus\", \"Substantia Nigra\", \"Substantia Nigra\"], [\"Astrocyte\", \"Astrocyte\", \"Astrocyte\", \"Astrocyte\", \"Polydendrocyte\", \"Polydendrocyte\", \"Astrocyte\", \"Polydendrocyte\", \"Polydendrocyte\", \"Polydendrocyte\", \"Astrocyte\", \"Astrocyte\", \"Polydendrocyte\", \"Polydendrocyte\", \"Astrocyte\", \"Neuron\", \"Neuron\", \"Astrocyte\", \"Astrocyte\", \"Neuron\", \"Neuron\", \"Neuron\", \"Neuron\", \"Neuron\", \"Neuron\", \"Neuron\", \"Neuron\", \"Neuron\", \"Neuron\", \"Neuron\", \"Polydendrocyte\", \"Neuron\", \"Neuron\", \"Neuron\", \"Oligodendrocyte\", \"Neuron\", \"Neuron\", \"Neuron\", \"Neuron\", \"Neuron\", \"Oligodendrocyte\", \"Ependyma\", \"Neuron\", \"Neuron\", \"Polydendrocyte\", \"Microglia_Macrophage\", \"Neuron\", \"Mural\", \"Neuron\", \"Polydendrocyte\", \"Mural\", \"Neurogenesis\", \"Oligodendrocyte\", \"Fibroblast-Like\", \"Neuron\", \"Mural\", \"Mural\", \"Microglia_Macrophage\", \"Oligodendrocyte_Polydendrocyte\", \"Mural\", \"Mural_Fibroblast-Like\", \"Neurogenesis\", \"Neuron\", \"Neuron\", \"Neuron\", \"Microglia_Macrophage\", \"Fibroblast-Like\", \"Neuron\", \"Microglia_Macrophage\", \"Oligodendrocyte\", \"Oligodendrocyte\", \"Microglia_Macrophage\", \"Fibroblast-Like\", \"Microglia_Macrophage\", \"Neuron\", \"Oligodendrocyte\", \"Neuron\", \"Neuron\", \"Neuron\", \"Microglia_Macrophage\", \"Mural\", \"Neuron\", \"Mural\", \"Fibroblast-Like\", \"Microglia_Macrophage\", \"Neuron\", \"Endothelial\", \"Neuron\", \"Neuron\", \"Oligodendrocyte\", \"Endothelial\", \"Fibroblast-Like\", \"Neuron\", \"Oligodendrocyte\", \"Endothelial\", \"Endothelial\", \"Ependyma\", \"Endothelial\", \"Fibroblast-Like\", \"Neuron\", \"Ependyma\", \"Oligodendrocyte\", \"Endothelial\", \"Fibroblast-Like\", \"Oligodendrocyte\", \"Endothelial\", \"Neuron\", \"Ependyma\", \"Endothelial\", \"Oligodendrocyte\", \"Endothelial\", \"Neuron\", \"Choroid_Plexus\", \"Choroid_Plexus\", \"Fibroblast-Like\", \"Ependyma\"], [\"Astrocyte_Gja1 [#5]\", \"Astrocyte_Gja1 [#7]\", \"Astrocyte_Gja1 [#7]\", \"Astrocyte_Gja1 [#11]\", \"Polydendrocyte_Tnr [#9]\", \"Polydendrocyte_Tnr [#10]\", \"Astrocyte_Gja1 [#7]\", \"Polydendrocyte_Cacng4 [#6]\", \"Polydendrocytes_Tnr [#5]\", \"Polydendrocyte_Tnr [#4]\", \"Astrocyte_Gja1 [#8]\", \"Astrocyte_Gja1 [#8]\", \"Polydendrocyte_Cacng4 [#6]\", \"Polydendrocyte_Tnr [#10]\", \"Astrocyte_Gja1 [#8]\", \"Interneuron_MGE_Sst-Pvalb [#2]\", \"Interneuron_MGE_Sst-Pvalb [#5]\", \"Astrocyte_Gja1 [#4]\", \"BergmannGlia_Gpr37l1 [#7]\", \"Interneuron_Gad2 [#1]\", \"Interneuron_CGE_Cplx3-Synpr [#4]\", \"Neuron_Dentate_C1ql2 [#4]\", \"Interneuron_CGE_Cplx3-Synpr [#1]\", \"Neuron_Chat [#1]\", \"Neuron_Gabra1 [#2]\", \"Neuron_CA3_C1ql3 [#1]\", \"Neuron_Syt1 [#4]\", \"Neuron_Gad2 [#3]\", \"Interneuron_Pvalb_Th_Pnoc [#14]\", \"Neuron_Th [#4]\", \"Polydendrocyte_Tnr [#12]\", \"Neuron_Gad2-Ahi1 [#3]\", \"RSG_Tshz2-Shisa8 [#6]\", \"Neuron_Subiculum_Slc17a6 [#2]\", \"Oligodendrocyte_Mbp [#9]\", \"Neuron_Ppp1r1b [#3]\", \"Neuron_Subiculum_Entorhinal_Nxph3 [#3]\", \"Interneuron_Chat [#12]\", \"Neuron_Layer5b_Fezf2 [#4]\", \"Layer5b_Fezf2 [#7]\", \"Oligodendrocyte_Mbp [#8]\", \"Ependyma [#6]\", \"Neuron_CA1_Subiculum_Postsubiculum_Entorhinal_Fibcd1-Dcn-Cbln1-Ptgfr-Fezf2 [#5]\", \"Interneuron_Sst [#15]\", \"Polydendrocyte_Tnr [#5]\", \"Microglia_Macrophage_C1qb [#5]\", \"Neuron_Claustrum_Nr4a2 [#5]\", \"Mural_Rgs5Acta2 [#13]\", \"Neuron_Layer23_5_6_Subiculum_Calb1-Rorb-Fermt1-Tshz2-Oprk1-Crym-Sema3e [#2]\", \"Polydendrocyte_Tnr [#5]\", \"Mural_Rgs5Acta2 [#8]\", \"Neurogenesis_Sox4 [#13]\", \"Oligodendrocyte_Mbp [#11]\", \"Fibroblast-Like_Dcn [#11]\", \"Neuron_Layer23_Nptxr [#6]\", \"Mural_Rgs5Acta2 [#16]\", \"Mural_Rgs5Acta2 [#8]\", \"Microglia_Macrophage_C1qb [#9]\", \"Oligodendrocyte_Polydendrocyte_Tfr_Tnr [#6]\", \"Mural_Rgs5Acta2 [#13]\", \"Mural_Fibroblast-Like_Rgs5Acta2-Dcn [#3]\", \"Neurogenesis_Sox4 [#2]\", \"Neuron_Rora [#2]\", \"GranularNeuron_Gabra6 [#1]\", \"Interneurons_and_Other_Nnat [#4]\", \"Microglia_Macrophage_C1qb [#11]\", \"Fibroblast-Like_Dcn [#14]\", \"Neuron_Layer6Subplate_Syt6 [#1]\", \"Microglia_Macrophage_Tmem119-Mrc1 [#11]\", \"Oligodendrocyte_Tfr [#9]\", \"Oligodendrocyte_Tfr [#10]\", \"Microglia_Macrophage_C1qb [#11]\", \"Fibroblast-Like_Dcn [#9]\", \"Microglia_Macrophage_C1qb [#10]\", \"Neuron_CajalRetzius_Lhx1 [#14]\", \"Oligodendrocyte_Tfr [#8]\", \"Neuron_dSPN_Drd1 [#10]\", \"Neuron_iSPN_Adora2a [#11]\", \"Neuron_SPN_BNST_Amygdala_Otof [#13]\", \"Microglia_Macrophage_C1qb [#6]\", \"Mural_Rgs5Acta2 [#13]\", \"Neuron_Rora [#2]\", \"Mural_Rgs5Acta2 [#5]\", \"Fibroblast-Like_Dcn [#6]\", \"Microglia_Macrophage_C1qb [#7]\", \"Interneurons_Pvalb [#3]\", \"Endothelial_Flt1 [#12]\", \"Neuron_Layer6Subplate_Syt6 [#3]\", \"Neuron_Layer5_Parm1 [#7]\", \"Oligodendrocyte_Tfr [#9]\", \"Endothelial_Flt1 [#12]\", \"Fibroblast-Like_Dcn [#14]\", \"Neuron_Layer5_Bcl6 [#3]\", \"Oligodendrocyte_Tfr [#1]\", \"Endothelial_Flt1 [#2]\", \"Endothelial_Flt1 [#7]\", \"Ependyma [#11]\", \"Endothelial_Flt1 [#15]\", \"Fibroblast-Like_Dcn [#17]\", \"Neuron_CA2CA3_Pvrl3-Rgs15-Calb2 [#6]\", \"Ependyma [#1]\", \"Oligodendrocytes_Tfr [#3]\", \"Endothelial_Flt1 [#7]\", \"Fibroblast-Like_Dcn [#9]\", \"Oligodendrocyte_Tfr [#10]\", \"Endothelial_Flt1 [#12]\", \"Neuron_Habenula_Tac2 [#1]\", \"Ependyma [#10]\", \"Endothelial_Flt1 [#4]\", \"Oligodendrocyte_Tfr [#8]\", \"Endothelial_Flt1 [#10]\", \"PurkinjeNeuron_Pcp2 [#2]\", \"Choroid_Plexus_Ttr [#9]\", \"Choroid_Plexus_Ttr [#12]\", \"Fibroblast-Like_Dcn [#14]\", \"Ependyma [#8]\"], [3.7841896339182597, 3.61091791264422, 3.49650756146648, 3.49650756146648, 3.25809653802148, 3.2188758248682006, 3.2188758248682006, 3.1780538303479506, 3.13549421592915, 3.09104245335832, 3.0445224377234195, 3.0445224377234195, 3.0445224377234195, 2.99573227355399, 2.89037175789616, 2.83321334405622, 2.83321334405622, 2.83321334405622, 2.77258872223978, 2.77258872223978, 2.7080502011022096, 2.7080502011022096, 2.6390573296152597, 2.6390573296152597, 2.6390573296152597, 2.6390573296152597, 2.5649493574615403, 2.5649493574615403, 2.484906649788, 2.484906649788, 2.484906649788, 2.484906649788, 2.3978952727983702, 2.3978952727983702, 2.19722457733622, 2.07944154167984, 2.07944154167984, 2.07944154167984, 1.9459101490553101, 1.9459101490553101, 1.9459101490553101, 1.9459101490553101, 1.9459101490553101, 1.9459101490553101, 1.9459101490553101, 1.79175946922805, 1.79175946922805, 1.79175946922805, 1.79175946922805, 1.79175946922805, 1.79175946922805, 1.79175946922805, 1.79175946922805, 1.6094379124341003, 1.6094379124341003, 1.6094379124341003, 1.6094379124341003, 1.6094379124341003, 1.38629436111989, 1.38629436111989, 1.38629436111989, 1.38629436111989, 1.38629436111989, 1.09861228866811, 1.09861228866811, 1.09861228866811, 1.09861228866811, 1.09861228866811, 1.09861228866811, 1.09861228866811, 1.09861228866811, 1.09861228866811, 1.09861228866811, 1.09861228866811, 1.09861228866811, 1.09861228866811, 1.09861228866811, 1.09861228866811, 1.09861228866811, 1.09861228866811, 1.09861228866811, 1.09861228866811, 1.09861228866811, 1.09861228866811, 1.09861228866811, 0.693147180559945, 0.693147180559945, 0.693147180559945, 0.693147180559945, 0.693147180559945, 0.693147180559945, 0.693147180559945, 0.693147180559945, 0.693147180559945, 0.693147180559945, 0.693147180559945, 0.693147180559945, 0.693147180559945, 0.693147180559945, 0.693147180559945, 0.693147180559945, 0.693147180559945, 0.693147180559945, 0.693147180559945, 0.693147180559945, 0.693147180559945, 0.693147180559945, 0.693147180559945, 0.693147180559945, 0.693147180559945, 0.0, 0.0, 0.0, 0.0, 0.0, 0.0], [0.0, 0.0, 2.963359431103179e-137, 0.0, 2.2714684347934197e-92, 2.2535631348094793e-115, 0.0, 1.69368687270176e-23, 3.0798091314767096e-106, 1.94403001187904e-12, 1.8251187479579398e-34, 0.0, 1.7590408439861902e-14, 9.992024798780497e-134, 0.0, 0.0, 1.3156005434026692e-215, 0.0, 5.324179651116479e-172, 8.409469932789138e-147, 1.5762590174492698e-104, 0.0, 0.0, 0.000186558054957842, 1.2902871691436795e-72, 0.000255827600120459, 5.658720671844257e-179, 1.0641061572409295e-235, 2.8629443943963294e-130, 9.151535103147019e-38, 2.94347080406045e-15, 0.0, 4.639582624268499e-110, 1.1582298950237699e-15, 2.7798422779698097e-08, 6.573931017535169e-44, 2.3471804431108103e-07, 2.3831376638584697e-19, 0.000347276125369811, 0.8229914690686808, 0.00210693690220867, 0.00317736187066658, 8.705097864314036e-200, 4.9091366758094995e-12, 2.1463795833006198e-07, 1.0, 0.0258584114962535, 0.0395677302370459, 4.16102336081573e-70, 0.120289348884071, 9.96730796569848e-19, 9.11673373802801e-06, 0.543580637749416, 0.538491725262954, 1.7902036069200602e-43, 6.0281234687283206e-12, 0.0514844555099797, 0.08770554092133799, 0.0032798119314119, 0.00010302185931019799, 0.10359860337643, 0.678238263718481, 3.48989780380235e-05, 1.3875753658531696e-85, 0.18869192824324202, 1.3330665266714499e-07, 3.58074407857341e-05, 1.0081130519060797e-158, 0.00018461544059673898, 2.5808001911872497e-44, 0.0, 2.39508249341325e-10, 7.07544224884258e-12, 4.76160796655483e-11, 6.54476726438534e-10, 9.876232861330968e-95, 5.268716688116189e-124, 6.897595745070689e-53, 1.01598851737356e-05, 0.23316447332449, 2.2435898516851203e-16, 0.00023300833236473197, 0.00278027661483071, 0.0471945535544487, 0.490750707869979, 4.04099107924825e-10, 3.463086979709989e-69, 6.699476237287796e-249, 4.222544839529129e-140, 1.2792135286818298e-78, 3.48087039328855e-47, 1.8759799928079e-10, 3.234751444645729e-126, 5.495264489045848e-262, 2.44732879131391e-26, 2.019320397905789e-157, 6.74908912592614e-30, 4.8417653608117986e-88, 4.940051994979201e-12, 0.0, 0.00600582725815056, 3.11325728476158e-20, 2.16769835588138e-07, 0.23626409378437302, 0.0, 2.7877781207888994e-94, 1.51944877740895e-11, 5.34593070053286e-08, 6.706505548839049e-80, 7.021319053737675e-281, 2.83292560655726e-06, 5.29960344021676e-11, 0.00384463976298838, 6.57674469160085e-08, 6.605788132194879e-09, 0.0601941417862943]]}, \"header\": {\"align\": \"left\", \"fill\": {\"color\": \"paleturquoise\"}, \"values\": [\"Region\", \"Class\", \"Cluster\", \"Adcyap1r1_Amount\", \"Adcyap1r1_PVal\"]}, \"type\": \"table\"}],\n",
       "                        {\"template\": {\"data\": {\"bar\": [{\"error_x\": {\"color\": \"#2a3f5f\"}, \"error_y\": {\"color\": \"#2a3f5f\"}, \"marker\": {\"line\": {\"color\": \"#E5ECF6\", \"width\": 0.5}}, \"type\": \"bar\"}], \"barpolar\": [{\"marker\": {\"line\": {\"color\": \"#E5ECF6\", \"width\": 0.5}}, \"type\": \"barpolar\"}], \"carpet\": [{\"aaxis\": {\"endlinecolor\": \"#2a3f5f\", \"gridcolor\": \"white\", \"linecolor\": \"white\", \"minorgridcolor\": \"white\", \"startlinecolor\": \"#2a3f5f\"}, \"baxis\": {\"endlinecolor\": \"#2a3f5f\", \"gridcolor\": \"white\", \"linecolor\": \"white\", \"minorgridcolor\": \"white\", \"startlinecolor\": \"#2a3f5f\"}, \"type\": \"carpet\"}], \"choropleth\": [{\"colorbar\": {\"outlinewidth\": 0, \"ticks\": \"\"}, \"type\": \"choropleth\"}], \"contour\": [{\"colorbar\": {\"outlinewidth\": 0, \"ticks\": \"\"}, \"colorscale\": [[0.0, \"#0d0887\"], [0.1111111111111111, \"#46039f\"], [0.2222222222222222, \"#7201a8\"], [0.3333333333333333, \"#9c179e\"], [0.4444444444444444, \"#bd3786\"], [0.5555555555555556, \"#d8576b\"], [0.6666666666666666, \"#ed7953\"], [0.7777777777777778, \"#fb9f3a\"], [0.8888888888888888, \"#fdca26\"], [1.0, \"#f0f921\"]], \"type\": \"contour\"}], \"contourcarpet\": [{\"colorbar\": {\"outlinewidth\": 0, \"ticks\": \"\"}, \"type\": \"contourcarpet\"}], \"heatmap\": [{\"colorbar\": {\"outlinewidth\": 0, \"ticks\": \"\"}, \"colorscale\": [[0.0, \"#0d0887\"], [0.1111111111111111, \"#46039f\"], [0.2222222222222222, \"#7201a8\"], [0.3333333333333333, \"#9c179e\"], [0.4444444444444444, \"#bd3786\"], [0.5555555555555556, \"#d8576b\"], [0.6666666666666666, \"#ed7953\"], [0.7777777777777778, \"#fb9f3a\"], [0.8888888888888888, \"#fdca26\"], [1.0, \"#f0f921\"]], \"type\": \"heatmap\"}], \"heatmapgl\": [{\"colorbar\": {\"outlinewidth\": 0, \"ticks\": \"\"}, \"colorscale\": [[0.0, \"#0d0887\"], [0.1111111111111111, \"#46039f\"], [0.2222222222222222, \"#7201a8\"], [0.3333333333333333, \"#9c179e\"], [0.4444444444444444, \"#bd3786\"], [0.5555555555555556, \"#d8576b\"], [0.6666666666666666, \"#ed7953\"], [0.7777777777777778, \"#fb9f3a\"], [0.8888888888888888, \"#fdca26\"], [1.0, \"#f0f921\"]], \"type\": \"heatmapgl\"}], \"histogram\": [{\"marker\": {\"colorbar\": {\"outlinewidth\": 0, \"ticks\": \"\"}}, \"type\": \"histogram\"}], \"histogram2d\": [{\"colorbar\": {\"outlinewidth\": 0, \"ticks\": \"\"}, \"colorscale\": [[0.0, \"#0d0887\"], [0.1111111111111111, \"#46039f\"], [0.2222222222222222, \"#7201a8\"], [0.3333333333333333, \"#9c179e\"], [0.4444444444444444, \"#bd3786\"], [0.5555555555555556, \"#d8576b\"], [0.6666666666666666, \"#ed7953\"], [0.7777777777777778, \"#fb9f3a\"], [0.8888888888888888, \"#fdca26\"], [1.0, \"#f0f921\"]], \"type\": \"histogram2d\"}], \"histogram2dcontour\": [{\"colorbar\": {\"outlinewidth\": 0, \"ticks\": \"\"}, \"colorscale\": [[0.0, \"#0d0887\"], [0.1111111111111111, \"#46039f\"], [0.2222222222222222, \"#7201a8\"], [0.3333333333333333, \"#9c179e\"], [0.4444444444444444, \"#bd3786\"], [0.5555555555555556, \"#d8576b\"], [0.6666666666666666, \"#ed7953\"], [0.7777777777777778, \"#fb9f3a\"], [0.8888888888888888, \"#fdca26\"], [1.0, \"#f0f921\"]], \"type\": \"histogram2dcontour\"}], \"mesh3d\": [{\"colorbar\": {\"outlinewidth\": 0, \"ticks\": \"\"}, \"type\": \"mesh3d\"}], \"parcoords\": [{\"line\": {\"colorbar\": {\"outlinewidth\": 0, \"ticks\": \"\"}}, \"type\": \"parcoords\"}], \"pie\": [{\"automargin\": true, \"type\": \"pie\"}], \"scatter\": [{\"marker\": {\"colorbar\": {\"outlinewidth\": 0, \"ticks\": \"\"}}, \"type\": \"scatter\"}], \"scatter3d\": [{\"line\": {\"colorbar\": {\"outlinewidth\": 0, \"ticks\": \"\"}}, \"marker\": {\"colorbar\": {\"outlinewidth\": 0, \"ticks\": \"\"}}, \"type\": \"scatter3d\"}], \"scattercarpet\": [{\"marker\": {\"colorbar\": {\"outlinewidth\": 0, \"ticks\": \"\"}}, \"type\": \"scattercarpet\"}], \"scattergeo\": [{\"marker\": {\"colorbar\": {\"outlinewidth\": 0, \"ticks\": \"\"}}, \"type\": \"scattergeo\"}], \"scattergl\": [{\"marker\": {\"colorbar\": {\"outlinewidth\": 0, \"ticks\": \"\"}}, \"type\": \"scattergl\"}], \"scattermapbox\": [{\"marker\": {\"colorbar\": {\"outlinewidth\": 0, \"ticks\": \"\"}}, \"type\": \"scattermapbox\"}], \"scatterpolar\": [{\"marker\": {\"colorbar\": {\"outlinewidth\": 0, \"ticks\": \"\"}}, \"type\": \"scatterpolar\"}], \"scatterpolargl\": [{\"marker\": {\"colorbar\": {\"outlinewidth\": 0, \"ticks\": \"\"}}, \"type\": \"scatterpolargl\"}], \"scatterternary\": [{\"marker\": {\"colorbar\": {\"outlinewidth\": 0, \"ticks\": \"\"}}, \"type\": \"scatterternary\"}], \"surface\": [{\"colorbar\": {\"outlinewidth\": 0, \"ticks\": \"\"}, \"colorscale\": [[0.0, \"#0d0887\"], [0.1111111111111111, \"#46039f\"], [0.2222222222222222, \"#7201a8\"], [0.3333333333333333, \"#9c179e\"], [0.4444444444444444, \"#bd3786\"], [0.5555555555555556, \"#d8576b\"], [0.6666666666666666, \"#ed7953\"], [0.7777777777777778, \"#fb9f3a\"], [0.8888888888888888, \"#fdca26\"], [1.0, \"#f0f921\"]], \"type\": \"surface\"}], \"table\": [{\"cells\": {\"fill\": {\"color\": \"#EBF0F8\"}, \"line\": {\"color\": \"white\"}}, \"header\": {\"fill\": {\"color\": \"#C8D4E3\"}, \"line\": {\"color\": \"white\"}}, \"type\": \"table\"}]}, \"layout\": {\"annotationdefaults\": {\"arrowcolor\": \"#2a3f5f\", \"arrowhead\": 0, \"arrowwidth\": 1}, \"coloraxis\": {\"colorbar\": {\"outlinewidth\": 0, \"ticks\": \"\"}}, \"colorscale\": {\"diverging\": [[0, \"#8e0152\"], [0.1, \"#c51b7d\"], [0.2, \"#de77ae\"], [0.3, \"#f1b6da\"], [0.4, \"#fde0ef\"], [0.5, \"#f7f7f7\"], [0.6, \"#e6f5d0\"], [0.7, \"#b8e186\"], [0.8, \"#7fbc41\"], [0.9, \"#4d9221\"], [1, \"#276419\"]], \"sequential\": [[0.0, \"#0d0887\"], [0.1111111111111111, \"#46039f\"], [0.2222222222222222, \"#7201a8\"], [0.3333333333333333, \"#9c179e\"], [0.4444444444444444, \"#bd3786\"], [0.5555555555555556, \"#d8576b\"], [0.6666666666666666, \"#ed7953\"], [0.7777777777777778, \"#fb9f3a\"], [0.8888888888888888, \"#fdca26\"], [1.0, \"#f0f921\"]], \"sequentialminus\": [[0.0, \"#0d0887\"], [0.1111111111111111, \"#46039f\"], [0.2222222222222222, \"#7201a8\"], [0.3333333333333333, \"#9c179e\"], [0.4444444444444444, \"#bd3786\"], [0.5555555555555556, \"#d8576b\"], [0.6666666666666666, \"#ed7953\"], [0.7777777777777778, \"#fb9f3a\"], [0.8888888888888888, \"#fdca26\"], [1.0, \"#f0f921\"]]}, \"colorway\": [\"#636efa\", \"#EF553B\", \"#00cc96\", \"#ab63fa\", \"#FFA15A\", \"#19d3f3\", \"#FF6692\", \"#B6E880\", \"#FF97FF\", \"#FECB52\"], \"font\": {\"color\": \"#2a3f5f\"}, \"geo\": {\"bgcolor\": \"white\", \"lakecolor\": \"white\", \"landcolor\": \"#E5ECF6\", \"showlakes\": true, \"showland\": true, \"subunitcolor\": \"white\"}, \"hoverlabel\": {\"align\": \"left\"}, \"hovermode\": \"closest\", \"mapbox\": {\"style\": \"light\"}, \"paper_bgcolor\": \"white\", \"plot_bgcolor\": \"#E5ECF6\", \"polar\": {\"angularaxis\": {\"gridcolor\": \"white\", \"linecolor\": \"white\", \"ticks\": \"\"}, \"bgcolor\": \"#E5ECF6\", \"radialaxis\": {\"gridcolor\": \"white\", \"linecolor\": \"white\", \"ticks\": \"\"}}, \"scene\": {\"xaxis\": {\"backgroundcolor\": \"#E5ECF6\", \"gridcolor\": \"white\", \"gridwidth\": 2, \"linecolor\": \"white\", \"showbackground\": true, \"ticks\": \"\", \"zerolinecolor\": \"white\"}, \"yaxis\": {\"backgroundcolor\": \"#E5ECF6\", \"gridcolor\": \"white\", \"gridwidth\": 2, \"linecolor\": \"white\", \"showbackground\": true, \"ticks\": \"\", \"zerolinecolor\": \"white\"}, \"zaxis\": {\"backgroundcolor\": \"#E5ECF6\", \"gridcolor\": \"white\", \"gridwidth\": 2, \"linecolor\": \"white\", \"showbackground\": true, \"ticks\": \"\", \"zerolinecolor\": \"white\"}}, \"shapedefaults\": {\"line\": {\"color\": \"#2a3f5f\"}}, \"ternary\": {\"aaxis\": {\"gridcolor\": \"white\", \"linecolor\": \"white\", \"ticks\": \"\"}, \"baxis\": {\"gridcolor\": \"white\", \"linecolor\": \"white\", \"ticks\": \"\"}, \"bgcolor\": \"#E5ECF6\", \"caxis\": {\"gridcolor\": \"white\", \"linecolor\": \"white\", \"ticks\": \"\"}}, \"title\": {\"x\": 0.05}, \"xaxis\": {\"automargin\": true, \"gridcolor\": \"white\", \"linecolor\": \"white\", \"ticks\": \"\", \"title\": {\"standoff\": 15}, \"zerolinecolor\": \"white\", \"zerolinewidth\": 2}, \"yaxis\": {\"automargin\": true, \"gridcolor\": \"white\", \"linecolor\": \"white\", \"ticks\": \"\", \"title\": {\"standoff\": 15}, \"zerolinecolor\": \"white\", \"zerolinewidth\": 2}}}},\n",
       "                        {\"responsive\": true}\n",
       "                    ).then(function(){\n",
       "                            \n",
       "var gd = document.getElementById('c442cd60-9551-4617-9217-7cdfc88f57c5');\n",
       "var x = new MutationObserver(function (mutations, observer) {{\n",
       "        var display = window.getComputedStyle(gd).display;\n",
       "        if (!display || display === 'none') {{\n",
       "            console.log([gd, 'removed!']);\n",
       "            Plotly.purge(gd);\n",
       "            observer.disconnect();\n",
       "        }}\n",
       "}});\n",
       "\n",
       "// Listen for the removal of the full notebook cells\n",
       "var notebookContainer = gd.closest('#notebook-container');\n",
       "if (notebookContainer) {{\n",
       "    x.observe(notebookContainer, {childList: true});\n",
       "}}\n",
       "\n",
       "// Listen for the clearing of the current output cell\n",
       "var outputEl = gd.closest('.output');\n",
       "if (outputEl) {{\n",
       "    x.observe(outputEl, {childList: true});\n",
       "}}\n",
       "\n",
       "                        })\n",
       "                };\n",
       "                });\n",
       "            </script>\n",
       "        </div>"
      ]
     },
     "metadata": {},
     "output_type": "display_data"
    }
   ],
   "source": [
    "import plotly.graph_objects as go\n",
    "fig = px.bar(data, x=\"Class\", y=\"Adcyap1r1_Amount\", color = \"Class\", \n",
    "                    facet_row = \"Region\",\n",
    "                     width=1200, height=2100,\n",
    "                    hover_name = \"Cluster\",\n",
    "                    hover_data = [\"Class\", \"Cluster\", \"Adcyap1r1_Amount\", \"Adcyap1r1_PVal\"]\n",
    "                    )\n",
    "for a in fig.layout.annotations:\n",
    "    a.text = a.text.split(\"=\")[1]\n",
    "fig.update_yaxes(title_text='')\n",
    "fig.show()\n",
    "\n",
    "            ## print table\n",
    "fig2 = go.Figure(data=[go.Table(\n",
    "header=dict(values=list(data.columns),\n",
    "                    fill_color='paleturquoise',\n",
    "                    align='left'),\n",
    "cells=dict(values=[data.Region,data.Class, data.Cluster, data.Adcyap1r1_Amount,\n",
    "                              data.Adcyap1r1_PVal],\n",
    "                    fill_color='lavender',\n",
    "                    align='left'))\n",
    "                ])\n",
    "fig2.show()"
   ]
  },
  {
   "cell_type": "code",
   "execution_count": null,
   "metadata": {},
   "outputs": [],
   "source": []
  }
 ],
 "metadata": {
  "kernelspec": {
   "display_name": "Python 3",
   "language": "python",
   "name": "python3"
  },
  "language_info": {
   "codemirror_mode": {
    "name": "ipython",
    "version": 3
   },
   "file_extension": ".py",
   "mimetype": "text/x-python",
   "name": "python",
   "nbconvert_exporter": "python",
   "pygments_lexer": "ipython3",
   "version": "3.8.3"
  }
 },
 "nbformat": 4,
 "nbformat_minor": 4
}
