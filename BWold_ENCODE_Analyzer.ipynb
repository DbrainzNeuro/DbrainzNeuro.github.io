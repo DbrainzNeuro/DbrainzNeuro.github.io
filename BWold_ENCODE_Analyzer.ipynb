{
 "cells": [
  {
   "cell_type": "code",
   "execution_count": 24,
   "metadata": {},
   "outputs": [],
   "source": [
    "import pandas as pd\n",
    "import glob\n",
    "\n",
    "path = r'C:\\Users\\dbaka\\OneDrive\\Desktop\\Eiden lab\\RNAseq datasets\\Barbara Wold ENCODE\\tsv files TPM FKPM' # use your path\n",
    "all_files = glob.glob(path + \"/*.tsv\")\n",
    "\n",
    "li = []\n",
    "\n",
    "for filename in all_files:\n",
    "    if \"gene\" in filename:\n",
    "        df = pd.read_csv(filename, sep='\\t')\n",
    "        df = df[df[\"gene_id\"]==\"ENSMUSG00000062232.10\"]\n",
    "        if \"10.5\" in filename:\n",
    "            df.insert(0,'Age',\"10.5\")\n",
    "        if \"11.5\" in filename:\n",
    "            df.insert(0,'Age',\"11.5\")\n",
    "        if \"12.5\" in filename:\n",
    "            df.insert(0,'Age',\"12.5\")\n",
    "        if \"13.5\" in filename:\n",
    "            df.insert(0,'Age',\"13.5\")\n",
    "        if \"14.5\" in filename:\n",
    "            df.insert(0,'Age',\"14.5\")\n",
    "        if \"15.5\" in filename:\n",
    "            df.insert(0,'Age',\"15.5\")\n",
    "        if \"16.5\" in filename:\n",
    "            df.insert(0,'Age',\"16.5\")\n",
    "        if \"p0\" in filename:\n",
    "            df.insert(0,'Age',\"p0\")\n",
    "            \n",
    "            \n",
    "        if \"heart\" in filename:\n",
    "            df.insert(0,'Tissue',\"heart\")\n",
    "        if \"liver\" in filename:\n",
    "            df.insert(0,'Tissue',\"liver\")\n",
    "        if \"forebrain\" in filename:\n",
    "            df.insert(0,'Tissue',\"forebrain\")\n",
    "        if \"midbrain\" in filename:\n",
    "            df.insert(0,'Tissue',\"midbrain\")         \n",
    "        if \"hindbrain\" in filename:\n",
    "            df.insert(0,'Tissue',\"hindbrain\")\n",
    "        if \"tube\" in filename:\n",
    "            df.insert(0,'Tissue',\"neural tube\")\n",
    "        li.append(df)\n",
    "\n",
    "frame = pd.concat(li, axis=0, ignore_index=True)"
   ]
  },
  {
   "cell_type": "code",
   "execution_count": 25,
   "metadata": {},
   "outputs": [],
   "source": [
    "#reshape for graphing\n",
    "df1 = pd.melt(frame, id_vars =['Age','Tissue'],\n",
    "                     value_vars=['TPM','FPKM' ]\n",
    "             )\n",
    "df1.to_excel(r'C:\\Users\\dbaka\\OneDrive\\Desktop\\Eiden lab\\RNAseq datasets\\Barbara Wold ENCODE\\ENCODE_Rapgef2_geneLevel.xlsx', index = False)"
   ]
  },
  {
   "cell_type": "code",
   "execution_count": 20,
   "metadata": {},
   "outputs": [],
   "source": [
    "import pandas as pd\n",
    "\n",
    "df1 = pd.read_excel(r'C:\\Users\\dbaka\\OneDrive\\Desktop\\Eiden lab\\Python Scripts\\Rapgef2 Datasets\\ENCODE_Rapgef2_geneLevel.xlsx')"
   ]
  },
  {
   "cell_type": "code",
   "execution_count": 21,
   "metadata": {},
   "outputs": [
    {
     "data": {
      "text/html": [
       "<div>\n",
       "<style scoped>\n",
       "    .dataframe tbody tr th:only-of-type {\n",
       "        vertical-align: middle;\n",
       "    }\n",
       "\n",
       "    .dataframe tbody tr th {\n",
       "        vertical-align: top;\n",
       "    }\n",
       "\n",
       "    .dataframe thead th {\n",
       "        text-align: right;\n",
       "    }\n",
       "</style>\n",
       "<table border=\"1\" class=\"dataframe\">\n",
       "  <thead>\n",
       "    <tr style=\"text-align: right;\">\n",
       "      <th></th>\n",
       "      <th>Age</th>\n",
       "      <th>Tissue</th>\n",
       "      <th>variable</th>\n",
       "      <th>value</th>\n",
       "    </tr>\n",
       "  </thead>\n",
       "  <tbody>\n",
       "    <tr>\n",
       "      <th>108</th>\n",
       "      <td>10.5</td>\n",
       "      <td>midbrain</td>\n",
       "      <td>FPKM</td>\n",
       "      <td>2.13</td>\n",
       "    </tr>\n",
       "    <tr>\n",
       "      <th>80</th>\n",
       "      <td>10.5</td>\n",
       "      <td>hindbrain</td>\n",
       "      <td>FPKM</td>\n",
       "      <td>2.77</td>\n",
       "    </tr>\n",
       "    <tr>\n",
       "      <th>154</th>\n",
       "      <td>10.5</td>\n",
       "      <td>midbrain</td>\n",
       "      <td>FPKM</td>\n",
       "      <td>2.61</td>\n",
       "    </tr>\n",
       "    <tr>\n",
       "      <th>84</th>\n",
       "      <td>10.5</td>\n",
       "      <td>midbrain</td>\n",
       "      <td>FPKM</td>\n",
       "      <td>2.49</td>\n",
       "    </tr>\n",
       "    <tr>\n",
       "      <th>30</th>\n",
       "      <td>10.5</td>\n",
       "      <td>midbrain</td>\n",
       "      <td>TPM</td>\n",
       "      <td>3.30</td>\n",
       "    </tr>\n",
       "    <tr>\n",
       "      <th>...</th>\n",
       "      <td>...</td>\n",
       "      <td>...</td>\n",
       "      <td>...</td>\n",
       "      <td>...</td>\n",
       "    </tr>\n",
       "    <tr>\n",
       "      <th>14</th>\n",
       "      <td>p0</td>\n",
       "      <td>midbrain</td>\n",
       "      <td>TPM</td>\n",
       "      <td>8.31</td>\n",
       "    </tr>\n",
       "    <tr>\n",
       "      <th>68</th>\n",
       "      <td>p0</td>\n",
       "      <td>liver</td>\n",
       "      <td>TPM</td>\n",
       "      <td>1.55</td>\n",
       "    </tr>\n",
       "    <tr>\n",
       "      <th>69</th>\n",
       "      <td>p0</td>\n",
       "      <td>forebrain</td>\n",
       "      <td>TPM</td>\n",
       "      <td>4.49</td>\n",
       "    </tr>\n",
       "    <tr>\n",
       "      <th>58</th>\n",
       "      <td>p0</td>\n",
       "      <td>midbrain</td>\n",
       "      <td>TPM</td>\n",
       "      <td>8.19</td>\n",
       "    </tr>\n",
       "    <tr>\n",
       "      <th>65</th>\n",
       "      <td>p0</td>\n",
       "      <td>hindbrain</td>\n",
       "      <td>TPM</td>\n",
       "      <td>7.41</td>\n",
       "    </tr>\n",
       "  </tbody>\n",
       "</table>\n",
       "<p>156 rows × 4 columns</p>\n",
       "</div>"
      ],
      "text/plain": [
       "      Age     Tissue variable  value\n",
       "108  10.5   midbrain     FPKM   2.13\n",
       "80   10.5  hindbrain     FPKM   2.77\n",
       "154  10.5   midbrain     FPKM   2.61\n",
       "84   10.5   midbrain     FPKM   2.49\n",
       "30   10.5   midbrain      TPM   3.30\n",
       "..    ...        ...      ...    ...\n",
       "14     p0   midbrain      TPM   8.31\n",
       "68     p0      liver      TPM   1.55\n",
       "69     p0  forebrain      TPM   4.49\n",
       "58     p0   midbrain      TPM   8.19\n",
       "65     p0  hindbrain      TPM   7.41\n",
       "\n",
       "[156 rows x 4 columns]"
      ]
     },
     "execution_count": 21,
     "metadata": {},
     "output_type": "execute_result"
    }
   ],
   "source": [
    "df1.sort_values(by=['Age'], inplace=True)\n",
    "df1"
   ]
  },
  {
   "cell_type": "code",
   "execution_count": 23,
   "metadata": {},
   "outputs": [
    {
     "data": {
      "application/vnd.plotly.v1+json": {
       "config": {
        "plotlyServerURL": "https://plot.ly"
       },
       "data": [
        {
         "alignmentgroup": "True",
         "hovertemplate": "Age=10.5<br>variable=FPKM<br>Tissue=%{x}<br>value=%{y}<extra></extra>",
         "legendgroup": "10.5",
         "marker": {
          "color": "#636efa"
         },
         "name": "10.5",
         "offsetgroup": "10.5",
         "orientation": "v",
         "showlegend": true,
         "textposition": "auto",
         "type": "bar",
         "x": [
          "midbrain",
          "hindbrain",
          "midbrain",
          "midbrain",
          "forebrain",
          "forebrain",
          "hindbrain",
          "midbrain"
         ],
         "xaxis": "x",
         "y": [
          2.13,
          2.77,
          2.61,
          2.49,
          2.42,
          2.8,
          2.58,
          2.69
         ],
         "yaxis": "y"
        },
        {
         "alignmentgroup": "True",
         "hovertemplate": "Age=10.5<br>variable=TPM<br>Tissue=%{x}<br>value=%{y}<extra></extra>",
         "legendgroup": "10.5",
         "marker": {
          "color": "#636efa"
         },
         "name": "10.5",
         "offsetgroup": "10.5",
         "orientation": "v",
         "showlegend": false,
         "textposition": "auto",
         "type": "bar",
         "x": [
          "midbrain",
          "midbrain",
          "forebrain",
          "midbrain",
          "forebrain",
          "hindbrain",
          "hindbrain",
          "midbrain"
         ],
         "xaxis": "x2",
         "y": [
          3.3,
          4.19,
          4.4,
          4.03,
          3.76,
          4.01,
          4.16,
          3.7
         ],
         "yaxis": "y2"
        },
        {
         "alignmentgroup": "True",
         "hovertemplate": "Age=11.5<br>variable=FPKM<br>Tissue=%{x}<br>value=%{y}<extra></extra>",
         "legendgroup": "11.5",
         "marker": {
          "color": "#EF553B"
         },
         "name": "11.5",
         "offsetgroup": "11.5",
         "orientation": "v",
         "showlegend": true,
         "textposition": "auto",
         "type": "bar",
         "x": [
          "hindbrain",
          "forebrain",
          "midbrain",
          "heart",
          "liver",
          "hindbrain",
          "forebrain",
          "liver",
          "heart",
          "midbrain"
         ],
         "xaxis": "x",
         "y": [
          3.83,
          4.19,
          3.11,
          3.19,
          1.77,
          3.27,
          4.56,
          1.56,
          2.94,
          2.59
         ],
         "yaxis": "y"
        },
        {
         "alignmentgroup": "True",
         "hovertemplate": "Age=11.5<br>variable=TPM<br>Tissue=%{x}<br>value=%{y}<extra></extra>",
         "legendgroup": "11.5",
         "marker": {
          "color": "#EF553B"
         },
         "name": "11.5",
         "offsetgroup": "11.5",
         "orientation": "v",
         "showlegend": false,
         "textposition": "auto",
         "type": "bar",
         "x": [
          "liver",
          "hindbrain",
          "forebrain",
          "midbrain",
          "hindbrain",
          "liver",
          "midbrain",
          "forebrain",
          "heart",
          "heart"
         ],
         "xaxis": "x2",
         "y": [
          2.35,
          5.59,
          6.73,
          4.04,
          5.05,
          2.18,
          4.78,
          7.32,
          4.21,
          4.03
         ],
         "yaxis": "y2"
        },
        {
         "alignmentgroup": "True",
         "hovertemplate": "Age=12.5<br>variable=FPKM<br>Tissue=%{x}<br>value=%{y}<extra></extra>",
         "legendgroup": "12.5",
         "marker": {
          "color": "#00cc96"
         },
         "name": "12.5",
         "offsetgroup": "12.5",
         "orientation": "v",
         "showlegend": true,
         "textposition": "auto",
         "type": "bar",
         "x": [
          "midbrain",
          "hindbrain",
          "midbrain",
          "forebrain",
          "forebrain",
          "liver",
          "hindbrain",
          "heart",
          "heart",
          "liver"
         ],
         "xaxis": "x",
         "y": [
          5.51,
          5.9,
          4.82,
          5.02,
          4.55,
          1.53,
          5.89,
          4.62,
          5.11,
          1.63
         ],
         "yaxis": "y"
        },
        {
         "alignmentgroup": "True",
         "hovertemplate": "Age=12.5<br>variable=TPM<br>Tissue=%{x}<br>value=%{y}<extra></extra>",
         "legendgroup": "12.5",
         "marker": {
          "color": "#00cc96"
         },
         "name": "12.5",
         "offsetgroup": "12.5",
         "orientation": "v",
         "showlegend": false,
         "textposition": "auto",
         "type": "bar",
         "x": [
          "heart",
          "liver",
          "hindbrain",
          "midbrain",
          "midbrain",
          "heart",
          "forebrain",
          "liver",
          "forebrain",
          "hindbrain"
         ],
         "xaxis": "x2",
         "y": [
          6.89,
          1.95,
          10.01,
          9.15,
          8.04,
          7.52,
          8.4,
          1.82,
          7.49,
          9.85
         ],
         "yaxis": "y2"
        },
        {
         "alignmentgroup": "True",
         "hovertemplate": "Age=13.5<br>variable=FPKM<br>Tissue=%{x}<br>value=%{y}<extra></extra>",
         "legendgroup": "13.5",
         "marker": {
          "color": "#ab63fa"
         },
         "name": "13.5",
         "offsetgroup": "13.5",
         "orientation": "v",
         "showlegend": true,
         "textposition": "auto",
         "type": "bar",
         "x": [
          "hindbrain",
          "forebrain",
          "midbrain",
          "hindbrain",
          "midbrain",
          "forebrain",
          "heart",
          "liver",
          "liver",
          "heart"
         ],
         "xaxis": "x",
         "y": [
          4.85,
          3.96,
          4.43,
          4.22,
          3.98,
          4.15,
          2.54,
          0.91,
          0.77,
          2.89
         ],
         "yaxis": "y"
        },
        {
         "alignmentgroup": "True",
         "hovertemplate": "Age=13.5<br>variable=TPM<br>Tissue=%{x}<br>value=%{y}<extra></extra>",
         "legendgroup": "13.5",
         "marker": {
          "color": "#ab63fa"
         },
         "name": "13.5",
         "offsetgroup": "13.5",
         "orientation": "v",
         "showlegend": false,
         "textposition": "auto",
         "type": "bar",
         "x": [
          "liver",
          "forebrain",
          "heart",
          "forebrain",
          "heart",
          "midbrain",
          "liver",
          "midbrain",
          "hindbrain",
          "hindbrain"
         ],
         "xaxis": "x2",
         "y": [
          0.81,
          6.3,
          3.81,
          6.3,
          3.18,
          6.38,
          1.02,
          6.94,
          7.71,
          6.75
         ],
         "yaxis": "y2"
        },
        {
         "alignmentgroup": "True",
         "hovertemplate": "Age=14.5<br>variable=FPKM<br>Tissue=%{x}<br>value=%{y}<extra></extra>",
         "legendgroup": "14.5",
         "marker": {
          "color": "#FFA15A"
         },
         "name": "14.5",
         "offsetgroup": "14.5",
         "orientation": "v",
         "showlegend": true,
         "textposition": "auto",
         "type": "bar",
         "x": [
          "liver",
          "midbrain",
          "liver",
          "hindbrain",
          "forebrain",
          "midbrain",
          "heart",
          "heart",
          "forebrain",
          "hindbrain"
         ],
         "xaxis": "x",
         "y": [
          1.41,
          7.54,
          0.99,
          6.74,
          5.41,
          6.94,
          4.56,
          4.15,
          5.23,
          7.6
         ],
         "yaxis": "y"
        },
        {
         "alignmentgroup": "True",
         "hovertemplate": "Age=14.5<br>variable=TPM<br>Tissue=%{x}<br>value=%{y}<extra></extra>",
         "legendgroup": "14.5",
         "marker": {
          "color": "#FFA15A"
         },
         "name": "14.5",
         "offsetgroup": "14.5",
         "orientation": "v",
         "showlegend": false,
         "textposition": "auto",
         "type": "bar",
         "x": [
          "hindbrain",
          "forebrain",
          "heart",
          "midbrain",
          "hindbrain",
          "liver",
          "midbrain",
          "heart",
          "liver",
          "forebrain"
         ],
         "xaxis": "x2",
         "y": [
          13.03,
          8.98,
          6.21,
          11.86,
          11.01,
          1.4,
          11.91,
          5.71,
          0.95,
          8.07
         ],
         "yaxis": "y2"
        },
        {
         "alignmentgroup": "True",
         "hovertemplate": "Age=15.5<br>variable=FPKM<br>Tissue=%{x}<br>value=%{y}<extra></extra>",
         "legendgroup": "15.5",
         "marker": {
          "color": "#19d3f3"
         },
         "name": "15.5",
         "offsetgroup": "15.5",
         "orientation": "v",
         "showlegend": true,
         "textposition": "auto",
         "type": "bar",
         "x": [
          "hindbrain",
          "midbrain",
          "heart",
          "liver",
          "forebrain",
          "liver",
          "midbrain",
          "forebrain",
          "hindbrain",
          "heart"
         ],
         "xaxis": "x",
         "y": [
          6.53,
          7.27,
          3.65,
          0.86,
          5.93,
          1.31,
          6.98,
          5.78,
          6.67,
          3.45
         ],
         "yaxis": "y"
        },
        {
         "alignmentgroup": "True",
         "hovertemplate": "Age=15.5<br>variable=TPM<br>Tissue=%{x}<br>value=%{y}<extra></extra>",
         "legendgroup": "15.5",
         "marker": {
          "color": "#19d3f3"
         },
         "name": "15.5",
         "offsetgroup": "15.5",
         "orientation": "v",
         "showlegend": false,
         "textposition": "auto",
         "type": "bar",
         "x": [
          "heart",
          "forebrain",
          "midbrain",
          "liver",
          "liver",
          "hindbrain",
          "hindbrain",
          "midbrain",
          "heart",
          "forebrain"
         ],
         "xaxis": "x2",
         "y": [
          4.72,
          9.43,
          12.13,
          1.41,
          0.9,
          10.4,
          10.89,
          11.7,
          4.71,
          9.81
         ],
         "yaxis": "y2"
        },
        {
         "alignmentgroup": "True",
         "hovertemplate": "Age=16.5<br>variable=FPKM<br>Tissue=%{x}<br>value=%{y}<extra></extra>",
         "legendgroup": "16.5",
         "marker": {
          "color": "#FF6692"
         },
         "name": "16.5",
         "offsetgroup": "16.5",
         "orientation": "v",
         "showlegend": true,
         "textposition": "auto",
         "type": "bar",
         "x": [
          "heart",
          "hindbrain",
          "midbrain",
          "liver",
          "liver",
          "heart",
          "hindbrain",
          "forebrain",
          "midbrain",
          "forebrain"
         ],
         "xaxis": "x",
         "y": [
          2.87,
          5.62,
          7.6,
          0.85,
          1.15,
          3.27,
          6.18,
          6.52,
          7.66,
          5.28
         ],
         "yaxis": "y"
        },
        {
         "alignmentgroup": "True",
         "hovertemplate": "Age=16.5<br>variable=TPM<br>Tissue=%{x}<br>value=%{y}<extra></extra>",
         "legendgroup": "16.5",
         "marker": {
          "color": "#FF6692"
         },
         "name": "16.5",
         "offsetgroup": "16.5",
         "orientation": "v",
         "showlegend": false,
         "textposition": "auto",
         "type": "bar",
         "x": [
          "hindbrain",
          "heart",
          "liver",
          "forebrain",
          "midbrain",
          "midbrain",
          "forebrain",
          "liver",
          "heart",
          "hindbrain"
         ],
         "xaxis": "x2",
         "y": [
          9.18,
          3.91,
          0.9,
          11.11,
          13.08,
          13,
          9.19,
          1.24,
          4.55,
          10.45
         ],
         "yaxis": "y2"
        },
        {
         "alignmentgroup": "True",
         "hovertemplate": "Age=p0<br>variable=FPKM<br>Tissue=%{x}<br>value=%{y}<extra></extra>",
         "legendgroup": "p0",
         "marker": {
          "color": "#B6E880"
         },
         "name": "p0",
         "offsetgroup": "p0",
         "orientation": "v",
         "showlegend": true,
         "textposition": "auto",
         "type": "bar",
         "x": [
          "liver",
          "forebrain",
          "heart",
          "midbrain",
          "forebrain",
          "hindbrain",
          "liver",
          "heart",
          "hindbrain",
          "midbrain"
         ],
         "xaxis": "x",
         "y": [
          1.31,
          4.8,
          2.14,
          5.2,
          3.12,
          4.76,
          1.32,
          2.21,
          4.47,
          5.07
         ],
         "yaxis": "y"
        },
        {
         "alignmentgroup": "True",
         "hovertemplate": "Age=p0<br>variable=TPM<br>Tissue=%{x}<br>value=%{y}<extra></extra>",
         "legendgroup": "p0",
         "marker": {
          "color": "#B6E880"
         },
         "name": "p0",
         "offsetgroup": "p0",
         "orientation": "v",
         "showlegend": false,
         "textposition": "auto",
         "type": "bar",
         "x": [
          "forebrain",
          "liver",
          "hindbrain",
          "heart",
          "heart",
          "midbrain",
          "liver",
          "forebrain",
          "midbrain",
          "hindbrain"
         ],
         "xaxis": "x2",
         "y": [
          7.73,
          1.53,
          6.88,
          2.68,
          2.53,
          8.31,
          1.55,
          4.49,
          8.19,
          7.41
         ],
         "yaxis": "y2"
        }
       ],
       "layout": {
        "annotations": [
         {
          "font": {},
          "showarrow": false,
          "text": "FPKM",
          "x": 0.245,
          "xanchor": "center",
          "xref": "paper",
          "y": 1,
          "yanchor": "bottom",
          "yref": "paper"
         },
         {
          "font": {},
          "showarrow": false,
          "text": "TPM",
          "x": 0.755,
          "xanchor": "center",
          "xref": "paper",
          "y": 1,
          "yanchor": "bottom",
          "yref": "paper"
         }
        ],
        "barmode": "relative",
        "height": 600,
        "legend": {
         "title": {
          "text": "Age"
         },
         "tracegroupgap": 0
        },
        "margin": {
         "t": 60
        },
        "template": {
         "data": {
          "bar": [
           {
            "error_x": {
             "color": "#2a3f5f"
            },
            "error_y": {
             "color": "#2a3f5f"
            },
            "marker": {
             "line": {
              "color": "#E5ECF6",
              "width": 0.5
             }
            },
            "type": "bar"
           }
          ],
          "barpolar": [
           {
            "marker": {
             "line": {
              "color": "#E5ECF6",
              "width": 0.5
             }
            },
            "type": "barpolar"
           }
          ],
          "carpet": [
           {
            "aaxis": {
             "endlinecolor": "#2a3f5f",
             "gridcolor": "white",
             "linecolor": "white",
             "minorgridcolor": "white",
             "startlinecolor": "#2a3f5f"
            },
            "baxis": {
             "endlinecolor": "#2a3f5f",
             "gridcolor": "white",
             "linecolor": "white",
             "minorgridcolor": "white",
             "startlinecolor": "#2a3f5f"
            },
            "type": "carpet"
           }
          ],
          "choropleth": [
           {
            "colorbar": {
             "outlinewidth": 0,
             "ticks": ""
            },
            "type": "choropleth"
           }
          ],
          "contour": [
           {
            "colorbar": {
             "outlinewidth": 0,
             "ticks": ""
            },
            "colorscale": [
             [
              0,
              "#0d0887"
             ],
             [
              0.1111111111111111,
              "#46039f"
             ],
             [
              0.2222222222222222,
              "#7201a8"
             ],
             [
              0.3333333333333333,
              "#9c179e"
             ],
             [
              0.4444444444444444,
              "#bd3786"
             ],
             [
              0.5555555555555556,
              "#d8576b"
             ],
             [
              0.6666666666666666,
              "#ed7953"
             ],
             [
              0.7777777777777778,
              "#fb9f3a"
             ],
             [
              0.8888888888888888,
              "#fdca26"
             ],
             [
              1,
              "#f0f921"
             ]
            ],
            "type": "contour"
           }
          ],
          "contourcarpet": [
           {
            "colorbar": {
             "outlinewidth": 0,
             "ticks": ""
            },
            "type": "contourcarpet"
           }
          ],
          "heatmap": [
           {
            "colorbar": {
             "outlinewidth": 0,
             "ticks": ""
            },
            "colorscale": [
             [
              0,
              "#0d0887"
             ],
             [
              0.1111111111111111,
              "#46039f"
             ],
             [
              0.2222222222222222,
              "#7201a8"
             ],
             [
              0.3333333333333333,
              "#9c179e"
             ],
             [
              0.4444444444444444,
              "#bd3786"
             ],
             [
              0.5555555555555556,
              "#d8576b"
             ],
             [
              0.6666666666666666,
              "#ed7953"
             ],
             [
              0.7777777777777778,
              "#fb9f3a"
             ],
             [
              0.8888888888888888,
              "#fdca26"
             ],
             [
              1,
              "#f0f921"
             ]
            ],
            "type": "heatmap"
           }
          ],
          "heatmapgl": [
           {
            "colorbar": {
             "outlinewidth": 0,
             "ticks": ""
            },
            "colorscale": [
             [
              0,
              "#0d0887"
             ],
             [
              0.1111111111111111,
              "#46039f"
             ],
             [
              0.2222222222222222,
              "#7201a8"
             ],
             [
              0.3333333333333333,
              "#9c179e"
             ],
             [
              0.4444444444444444,
              "#bd3786"
             ],
             [
              0.5555555555555556,
              "#d8576b"
             ],
             [
              0.6666666666666666,
              "#ed7953"
             ],
             [
              0.7777777777777778,
              "#fb9f3a"
             ],
             [
              0.8888888888888888,
              "#fdca26"
             ],
             [
              1,
              "#f0f921"
             ]
            ],
            "type": "heatmapgl"
           }
          ],
          "histogram": [
           {
            "marker": {
             "colorbar": {
              "outlinewidth": 0,
              "ticks": ""
             }
            },
            "type": "histogram"
           }
          ],
          "histogram2d": [
           {
            "colorbar": {
             "outlinewidth": 0,
             "ticks": ""
            },
            "colorscale": [
             [
              0,
              "#0d0887"
             ],
             [
              0.1111111111111111,
              "#46039f"
             ],
             [
              0.2222222222222222,
              "#7201a8"
             ],
             [
              0.3333333333333333,
              "#9c179e"
             ],
             [
              0.4444444444444444,
              "#bd3786"
             ],
             [
              0.5555555555555556,
              "#d8576b"
             ],
             [
              0.6666666666666666,
              "#ed7953"
             ],
             [
              0.7777777777777778,
              "#fb9f3a"
             ],
             [
              0.8888888888888888,
              "#fdca26"
             ],
             [
              1,
              "#f0f921"
             ]
            ],
            "type": "histogram2d"
           }
          ],
          "histogram2dcontour": [
           {
            "colorbar": {
             "outlinewidth": 0,
             "ticks": ""
            },
            "colorscale": [
             [
              0,
              "#0d0887"
             ],
             [
              0.1111111111111111,
              "#46039f"
             ],
             [
              0.2222222222222222,
              "#7201a8"
             ],
             [
              0.3333333333333333,
              "#9c179e"
             ],
             [
              0.4444444444444444,
              "#bd3786"
             ],
             [
              0.5555555555555556,
              "#d8576b"
             ],
             [
              0.6666666666666666,
              "#ed7953"
             ],
             [
              0.7777777777777778,
              "#fb9f3a"
             ],
             [
              0.8888888888888888,
              "#fdca26"
             ],
             [
              1,
              "#f0f921"
             ]
            ],
            "type": "histogram2dcontour"
           }
          ],
          "mesh3d": [
           {
            "colorbar": {
             "outlinewidth": 0,
             "ticks": ""
            },
            "type": "mesh3d"
           }
          ],
          "parcoords": [
           {
            "line": {
             "colorbar": {
              "outlinewidth": 0,
              "ticks": ""
             }
            },
            "type": "parcoords"
           }
          ],
          "pie": [
           {
            "automargin": true,
            "type": "pie"
           }
          ],
          "scatter": [
           {
            "marker": {
             "colorbar": {
              "outlinewidth": 0,
              "ticks": ""
             }
            },
            "type": "scatter"
           }
          ],
          "scatter3d": [
           {
            "line": {
             "colorbar": {
              "outlinewidth": 0,
              "ticks": ""
             }
            },
            "marker": {
             "colorbar": {
              "outlinewidth": 0,
              "ticks": ""
             }
            },
            "type": "scatter3d"
           }
          ],
          "scattercarpet": [
           {
            "marker": {
             "colorbar": {
              "outlinewidth": 0,
              "ticks": ""
             }
            },
            "type": "scattercarpet"
           }
          ],
          "scattergeo": [
           {
            "marker": {
             "colorbar": {
              "outlinewidth": 0,
              "ticks": ""
             }
            },
            "type": "scattergeo"
           }
          ],
          "scattergl": [
           {
            "marker": {
             "colorbar": {
              "outlinewidth": 0,
              "ticks": ""
             }
            },
            "type": "scattergl"
           }
          ],
          "scattermapbox": [
           {
            "marker": {
             "colorbar": {
              "outlinewidth": 0,
              "ticks": ""
             }
            },
            "type": "scattermapbox"
           }
          ],
          "scatterpolar": [
           {
            "marker": {
             "colorbar": {
              "outlinewidth": 0,
              "ticks": ""
             }
            },
            "type": "scatterpolar"
           }
          ],
          "scatterpolargl": [
           {
            "marker": {
             "colorbar": {
              "outlinewidth": 0,
              "ticks": ""
             }
            },
            "type": "scatterpolargl"
           }
          ],
          "scatterternary": [
           {
            "marker": {
             "colorbar": {
              "outlinewidth": 0,
              "ticks": ""
             }
            },
            "type": "scatterternary"
           }
          ],
          "surface": [
           {
            "colorbar": {
             "outlinewidth": 0,
             "ticks": ""
            },
            "colorscale": [
             [
              0,
              "#0d0887"
             ],
             [
              0.1111111111111111,
              "#46039f"
             ],
             [
              0.2222222222222222,
              "#7201a8"
             ],
             [
              0.3333333333333333,
              "#9c179e"
             ],
             [
              0.4444444444444444,
              "#bd3786"
             ],
             [
              0.5555555555555556,
              "#d8576b"
             ],
             [
              0.6666666666666666,
              "#ed7953"
             ],
             [
              0.7777777777777778,
              "#fb9f3a"
             ],
             [
              0.8888888888888888,
              "#fdca26"
             ],
             [
              1,
              "#f0f921"
             ]
            ],
            "type": "surface"
           }
          ],
          "table": [
           {
            "cells": {
             "fill": {
              "color": "#EBF0F8"
             },
             "line": {
              "color": "white"
             }
            },
            "header": {
             "fill": {
              "color": "#C8D4E3"
             },
             "line": {
              "color": "white"
             }
            },
            "type": "table"
           }
          ]
         },
         "layout": {
          "annotationdefaults": {
           "arrowcolor": "#2a3f5f",
           "arrowhead": 0,
           "arrowwidth": 1
          },
          "coloraxis": {
           "colorbar": {
            "outlinewidth": 0,
            "ticks": ""
           }
          },
          "colorscale": {
           "diverging": [
            [
             0,
             "#8e0152"
            ],
            [
             0.1,
             "#c51b7d"
            ],
            [
             0.2,
             "#de77ae"
            ],
            [
             0.3,
             "#f1b6da"
            ],
            [
             0.4,
             "#fde0ef"
            ],
            [
             0.5,
             "#f7f7f7"
            ],
            [
             0.6,
             "#e6f5d0"
            ],
            [
             0.7,
             "#b8e186"
            ],
            [
             0.8,
             "#7fbc41"
            ],
            [
             0.9,
             "#4d9221"
            ],
            [
             1,
             "#276419"
            ]
           ],
           "sequential": [
            [
             0,
             "#0d0887"
            ],
            [
             0.1111111111111111,
             "#46039f"
            ],
            [
             0.2222222222222222,
             "#7201a8"
            ],
            [
             0.3333333333333333,
             "#9c179e"
            ],
            [
             0.4444444444444444,
             "#bd3786"
            ],
            [
             0.5555555555555556,
             "#d8576b"
            ],
            [
             0.6666666666666666,
             "#ed7953"
            ],
            [
             0.7777777777777778,
             "#fb9f3a"
            ],
            [
             0.8888888888888888,
             "#fdca26"
            ],
            [
             1,
             "#f0f921"
            ]
           ],
           "sequentialminus": [
            [
             0,
             "#0d0887"
            ],
            [
             0.1111111111111111,
             "#46039f"
            ],
            [
             0.2222222222222222,
             "#7201a8"
            ],
            [
             0.3333333333333333,
             "#9c179e"
            ],
            [
             0.4444444444444444,
             "#bd3786"
            ],
            [
             0.5555555555555556,
             "#d8576b"
            ],
            [
             0.6666666666666666,
             "#ed7953"
            ],
            [
             0.7777777777777778,
             "#fb9f3a"
            ],
            [
             0.8888888888888888,
             "#fdca26"
            ],
            [
             1,
             "#f0f921"
            ]
           ]
          },
          "colorway": [
           "#636efa",
           "#EF553B",
           "#00cc96",
           "#ab63fa",
           "#FFA15A",
           "#19d3f3",
           "#FF6692",
           "#B6E880",
           "#FF97FF",
           "#FECB52"
          ],
          "font": {
           "color": "#2a3f5f"
          },
          "geo": {
           "bgcolor": "white",
           "lakecolor": "white",
           "landcolor": "#E5ECF6",
           "showlakes": true,
           "showland": true,
           "subunitcolor": "white"
          },
          "hoverlabel": {
           "align": "left"
          },
          "hovermode": "closest",
          "mapbox": {
           "style": "light"
          },
          "paper_bgcolor": "white",
          "plot_bgcolor": "#E5ECF6",
          "polar": {
           "angularaxis": {
            "gridcolor": "white",
            "linecolor": "white",
            "ticks": ""
           },
           "bgcolor": "#E5ECF6",
           "radialaxis": {
            "gridcolor": "white",
            "linecolor": "white",
            "ticks": ""
           }
          },
          "scene": {
           "xaxis": {
            "backgroundcolor": "#E5ECF6",
            "gridcolor": "white",
            "gridwidth": 2,
            "linecolor": "white",
            "showbackground": true,
            "ticks": "",
            "zerolinecolor": "white"
           },
           "yaxis": {
            "backgroundcolor": "#E5ECF6",
            "gridcolor": "white",
            "gridwidth": 2,
            "linecolor": "white",
            "showbackground": true,
            "ticks": "",
            "zerolinecolor": "white"
           },
           "zaxis": {
            "backgroundcolor": "#E5ECF6",
            "gridcolor": "white",
            "gridwidth": 2,
            "linecolor": "white",
            "showbackground": true,
            "ticks": "",
            "zerolinecolor": "white"
           }
          },
          "shapedefaults": {
           "line": {
            "color": "#2a3f5f"
           }
          },
          "ternary": {
           "aaxis": {
            "gridcolor": "white",
            "linecolor": "white",
            "ticks": ""
           },
           "baxis": {
            "gridcolor": "white",
            "linecolor": "white",
            "ticks": ""
           },
           "bgcolor": "#E5ECF6",
           "caxis": {
            "gridcolor": "white",
            "linecolor": "white",
            "ticks": ""
           }
          },
          "title": {
           "x": 0.05
          },
          "xaxis": {
           "automargin": true,
           "gridcolor": "white",
           "linecolor": "white",
           "ticks": "",
           "title": {
            "standoff": 15
           },
           "zerolinecolor": "white",
           "zerolinewidth": 2
          },
          "yaxis": {
           "automargin": true,
           "gridcolor": "white",
           "linecolor": "white",
           "ticks": "",
           "title": {
            "standoff": 15
           },
           "zerolinecolor": "white",
           "zerolinewidth": 2
          }
         }
        },
        "title": {
         "text": "Rapgef2: Poly-A Oligo-dt primed, B Wold, ENCODE"
        },
        "width": 1000,
        "xaxis": {
         "anchor": "y",
         "categoryorder": "total descending",
         "domain": [
          0,
          0.49
         ],
         "title": {
          "text": "Cell Type"
         }
        },
        "xaxis2": {
         "anchor": "y2",
         "domain": [
          0.51,
          1
         ],
         "matches": "x",
         "title": {
          "text": "Tissue"
         }
        },
        "yaxis": {
         "anchor": "x",
         "domain": [
          0,
          1
         ],
         "title": {
          "text": "Expression"
         }
        },
        "yaxis2": {
         "anchor": "x2",
         "domain": [
          0,
          1
         ],
         "matches": "y",
         "showticklabels": false,
         "title": {
          "text": ""
         }
        }
       }
      },
      "text/html": [
       "<div>\n",
       "        \n",
       "        \n",
       "            <div id=\"1fa97c0b-2f80-4d37-9961-c6caa33af476\" class=\"plotly-graph-div\" style=\"height:600px; width:1000px;\"></div>\n",
       "            <script type=\"text/javascript\">\n",
       "                require([\"plotly\"], function(Plotly) {\n",
       "                    window.PLOTLYENV=window.PLOTLYENV || {};\n",
       "                    \n",
       "                if (document.getElementById(\"1fa97c0b-2f80-4d37-9961-c6caa33af476\")) {\n",
       "                    Plotly.newPlot(\n",
       "                        '1fa97c0b-2f80-4d37-9961-c6caa33af476',\n",
       "                        [{\"alignmentgroup\": \"True\", \"hovertemplate\": \"Age=10.5<br>variable=FPKM<br>Tissue=%{x}<br>value=%{y}<extra></extra>\", \"legendgroup\": \"10.5\", \"marker\": {\"color\": \"#636efa\"}, \"name\": \"10.5\", \"offsetgroup\": \"10.5\", \"orientation\": \"v\", \"showlegend\": true, \"textposition\": \"auto\", \"type\": \"bar\", \"x\": [\"midbrain\", \"hindbrain\", \"midbrain\", \"midbrain\", \"forebrain\", \"forebrain\", \"hindbrain\", \"midbrain\"], \"xaxis\": \"x\", \"y\": [2.13, 2.77, 2.61, 2.49, 2.42, 2.8, 2.58, 2.69], \"yaxis\": \"y\"}, {\"alignmentgroup\": \"True\", \"hovertemplate\": \"Age=10.5<br>variable=TPM<br>Tissue=%{x}<br>value=%{y}<extra></extra>\", \"legendgroup\": \"10.5\", \"marker\": {\"color\": \"#636efa\"}, \"name\": \"10.5\", \"offsetgroup\": \"10.5\", \"orientation\": \"v\", \"showlegend\": false, \"textposition\": \"auto\", \"type\": \"bar\", \"x\": [\"midbrain\", \"midbrain\", \"forebrain\", \"midbrain\", \"forebrain\", \"hindbrain\", \"hindbrain\", \"midbrain\"], \"xaxis\": \"x2\", \"y\": [3.3, 4.19, 4.4, 4.03, 3.76, 4.01, 4.16, 3.7], \"yaxis\": \"y2\"}, {\"alignmentgroup\": \"True\", \"hovertemplate\": \"Age=11.5<br>variable=FPKM<br>Tissue=%{x}<br>value=%{y}<extra></extra>\", \"legendgroup\": \"11.5\", \"marker\": {\"color\": \"#EF553B\"}, \"name\": \"11.5\", \"offsetgroup\": \"11.5\", \"orientation\": \"v\", \"showlegend\": true, \"textposition\": \"auto\", \"type\": \"bar\", \"x\": [\"hindbrain\", \"forebrain\", \"midbrain\", \"heart\", \"liver\", \"hindbrain\", \"forebrain\", \"liver\", \"heart\", \"midbrain\"], \"xaxis\": \"x\", \"y\": [3.83, 4.19, 3.11, 3.19, 1.77, 3.27, 4.56, 1.56, 2.94, 2.59], \"yaxis\": \"y\"}, {\"alignmentgroup\": \"True\", \"hovertemplate\": \"Age=11.5<br>variable=TPM<br>Tissue=%{x}<br>value=%{y}<extra></extra>\", \"legendgroup\": \"11.5\", \"marker\": {\"color\": \"#EF553B\"}, \"name\": \"11.5\", \"offsetgroup\": \"11.5\", \"orientation\": \"v\", \"showlegend\": false, \"textposition\": \"auto\", \"type\": \"bar\", \"x\": [\"liver\", \"hindbrain\", \"forebrain\", \"midbrain\", \"hindbrain\", \"liver\", \"midbrain\", \"forebrain\", \"heart\", \"heart\"], \"xaxis\": \"x2\", \"y\": [2.35, 5.59, 6.73, 4.04, 5.05, 2.18, 4.78, 7.32, 4.21, 4.03], \"yaxis\": \"y2\"}, {\"alignmentgroup\": \"True\", \"hovertemplate\": \"Age=12.5<br>variable=FPKM<br>Tissue=%{x}<br>value=%{y}<extra></extra>\", \"legendgroup\": \"12.5\", \"marker\": {\"color\": \"#00cc96\"}, \"name\": \"12.5\", \"offsetgroup\": \"12.5\", \"orientation\": \"v\", \"showlegend\": true, \"textposition\": \"auto\", \"type\": \"bar\", \"x\": [\"midbrain\", \"hindbrain\", \"midbrain\", \"forebrain\", \"forebrain\", \"liver\", \"hindbrain\", \"heart\", \"heart\", \"liver\"], \"xaxis\": \"x\", \"y\": [5.51, 5.9, 4.82, 5.02, 4.55, 1.53, 5.89, 4.62, 5.11, 1.63], \"yaxis\": \"y\"}, {\"alignmentgroup\": \"True\", \"hovertemplate\": \"Age=12.5<br>variable=TPM<br>Tissue=%{x}<br>value=%{y}<extra></extra>\", \"legendgroup\": \"12.5\", \"marker\": {\"color\": \"#00cc96\"}, \"name\": \"12.5\", \"offsetgroup\": \"12.5\", \"orientation\": \"v\", \"showlegend\": false, \"textposition\": \"auto\", \"type\": \"bar\", \"x\": [\"heart\", \"liver\", \"hindbrain\", \"midbrain\", \"midbrain\", \"heart\", \"forebrain\", \"liver\", \"forebrain\", \"hindbrain\"], \"xaxis\": \"x2\", \"y\": [6.89, 1.95, 10.01, 9.15, 8.04, 7.52, 8.4, 1.82, 7.49, 9.85], \"yaxis\": \"y2\"}, {\"alignmentgroup\": \"True\", \"hovertemplate\": \"Age=13.5<br>variable=FPKM<br>Tissue=%{x}<br>value=%{y}<extra></extra>\", \"legendgroup\": \"13.5\", \"marker\": {\"color\": \"#ab63fa\"}, \"name\": \"13.5\", \"offsetgroup\": \"13.5\", \"orientation\": \"v\", \"showlegend\": true, \"textposition\": \"auto\", \"type\": \"bar\", \"x\": [\"hindbrain\", \"forebrain\", \"midbrain\", \"hindbrain\", \"midbrain\", \"forebrain\", \"heart\", \"liver\", \"liver\", \"heart\"], \"xaxis\": \"x\", \"y\": [4.85, 3.96, 4.43, 4.22, 3.98, 4.15, 2.54, 0.91, 0.77, 2.89], \"yaxis\": \"y\"}, {\"alignmentgroup\": \"True\", \"hovertemplate\": \"Age=13.5<br>variable=TPM<br>Tissue=%{x}<br>value=%{y}<extra></extra>\", \"legendgroup\": \"13.5\", \"marker\": {\"color\": \"#ab63fa\"}, \"name\": \"13.5\", \"offsetgroup\": \"13.5\", \"orientation\": \"v\", \"showlegend\": false, \"textposition\": \"auto\", \"type\": \"bar\", \"x\": [\"liver\", \"forebrain\", \"heart\", \"forebrain\", \"heart\", \"midbrain\", \"liver\", \"midbrain\", \"hindbrain\", \"hindbrain\"], \"xaxis\": \"x2\", \"y\": [0.81, 6.3, 3.81, 6.3, 3.18, 6.38, 1.02, 6.94, 7.71, 6.75], \"yaxis\": \"y2\"}, {\"alignmentgroup\": \"True\", \"hovertemplate\": \"Age=14.5<br>variable=FPKM<br>Tissue=%{x}<br>value=%{y}<extra></extra>\", \"legendgroup\": \"14.5\", \"marker\": {\"color\": \"#FFA15A\"}, \"name\": \"14.5\", \"offsetgroup\": \"14.5\", \"orientation\": \"v\", \"showlegend\": true, \"textposition\": \"auto\", \"type\": \"bar\", \"x\": [\"liver\", \"midbrain\", \"liver\", \"hindbrain\", \"forebrain\", \"midbrain\", \"heart\", \"heart\", \"forebrain\", \"hindbrain\"], \"xaxis\": \"x\", \"y\": [1.41, 7.54, 0.99, 6.74, 5.41, 6.94, 4.56, 4.15, 5.23, 7.6], \"yaxis\": \"y\"}, {\"alignmentgroup\": \"True\", \"hovertemplate\": \"Age=14.5<br>variable=TPM<br>Tissue=%{x}<br>value=%{y}<extra></extra>\", \"legendgroup\": \"14.5\", \"marker\": {\"color\": \"#FFA15A\"}, \"name\": \"14.5\", \"offsetgroup\": \"14.5\", \"orientation\": \"v\", \"showlegend\": false, \"textposition\": \"auto\", \"type\": \"bar\", \"x\": [\"hindbrain\", \"forebrain\", \"heart\", \"midbrain\", \"hindbrain\", \"liver\", \"midbrain\", \"heart\", \"liver\", \"forebrain\"], \"xaxis\": \"x2\", \"y\": [13.03, 8.98, 6.21, 11.86, 11.01, 1.4, 11.91, 5.71, 0.95, 8.07], \"yaxis\": \"y2\"}, {\"alignmentgroup\": \"True\", \"hovertemplate\": \"Age=15.5<br>variable=FPKM<br>Tissue=%{x}<br>value=%{y}<extra></extra>\", \"legendgroup\": \"15.5\", \"marker\": {\"color\": \"#19d3f3\"}, \"name\": \"15.5\", \"offsetgroup\": \"15.5\", \"orientation\": \"v\", \"showlegend\": true, \"textposition\": \"auto\", \"type\": \"bar\", \"x\": [\"hindbrain\", \"midbrain\", \"heart\", \"liver\", \"forebrain\", \"liver\", \"midbrain\", \"forebrain\", \"hindbrain\", \"heart\"], \"xaxis\": \"x\", \"y\": [6.53, 7.27, 3.65, 0.86, 5.93, 1.31, 6.98, 5.78, 6.67, 3.45], \"yaxis\": \"y\"}, {\"alignmentgroup\": \"True\", \"hovertemplate\": \"Age=15.5<br>variable=TPM<br>Tissue=%{x}<br>value=%{y}<extra></extra>\", \"legendgroup\": \"15.5\", \"marker\": {\"color\": \"#19d3f3\"}, \"name\": \"15.5\", \"offsetgroup\": \"15.5\", \"orientation\": \"v\", \"showlegend\": false, \"textposition\": \"auto\", \"type\": \"bar\", \"x\": [\"heart\", \"forebrain\", \"midbrain\", \"liver\", \"liver\", \"hindbrain\", \"hindbrain\", \"midbrain\", \"heart\", \"forebrain\"], \"xaxis\": \"x2\", \"y\": [4.72, 9.43, 12.13, 1.41, 0.9, 10.4, 10.89, 11.7, 4.71, 9.81], \"yaxis\": \"y2\"}, {\"alignmentgroup\": \"True\", \"hovertemplate\": \"Age=16.5<br>variable=FPKM<br>Tissue=%{x}<br>value=%{y}<extra></extra>\", \"legendgroup\": \"16.5\", \"marker\": {\"color\": \"#FF6692\"}, \"name\": \"16.5\", \"offsetgroup\": \"16.5\", \"orientation\": \"v\", \"showlegend\": true, \"textposition\": \"auto\", \"type\": \"bar\", \"x\": [\"heart\", \"hindbrain\", \"midbrain\", \"liver\", \"liver\", \"heart\", \"hindbrain\", \"forebrain\", \"midbrain\", \"forebrain\"], \"xaxis\": \"x\", \"y\": [2.87, 5.62, 7.6, 0.85, 1.15, 3.27, 6.18, 6.52, 7.66, 5.28], \"yaxis\": \"y\"}, {\"alignmentgroup\": \"True\", \"hovertemplate\": \"Age=16.5<br>variable=TPM<br>Tissue=%{x}<br>value=%{y}<extra></extra>\", \"legendgroup\": \"16.5\", \"marker\": {\"color\": \"#FF6692\"}, \"name\": \"16.5\", \"offsetgroup\": \"16.5\", \"orientation\": \"v\", \"showlegend\": false, \"textposition\": \"auto\", \"type\": \"bar\", \"x\": [\"hindbrain\", \"heart\", \"liver\", \"forebrain\", \"midbrain\", \"midbrain\", \"forebrain\", \"liver\", \"heart\", \"hindbrain\"], \"xaxis\": \"x2\", \"y\": [9.18, 3.91, 0.9, 11.11, 13.08, 13.0, 9.19, 1.24, 4.55, 10.45], \"yaxis\": \"y2\"}, {\"alignmentgroup\": \"True\", \"hovertemplate\": \"Age=p0<br>variable=FPKM<br>Tissue=%{x}<br>value=%{y}<extra></extra>\", \"legendgroup\": \"p0\", \"marker\": {\"color\": \"#B6E880\"}, \"name\": \"p0\", \"offsetgroup\": \"p0\", \"orientation\": \"v\", \"showlegend\": true, \"textposition\": \"auto\", \"type\": \"bar\", \"x\": [\"liver\", \"forebrain\", \"heart\", \"midbrain\", \"forebrain\", \"hindbrain\", \"liver\", \"heart\", \"hindbrain\", \"midbrain\"], \"xaxis\": \"x\", \"y\": [1.31, 4.8, 2.14, 5.2, 3.12, 4.76, 1.32, 2.21, 4.47, 5.07], \"yaxis\": \"y\"}, {\"alignmentgroup\": \"True\", \"hovertemplate\": \"Age=p0<br>variable=TPM<br>Tissue=%{x}<br>value=%{y}<extra></extra>\", \"legendgroup\": \"p0\", \"marker\": {\"color\": \"#B6E880\"}, \"name\": \"p0\", \"offsetgroup\": \"p0\", \"orientation\": \"v\", \"showlegend\": false, \"textposition\": \"auto\", \"type\": \"bar\", \"x\": [\"forebrain\", \"liver\", \"hindbrain\", \"heart\", \"heart\", \"midbrain\", \"liver\", \"forebrain\", \"midbrain\", \"hindbrain\"], \"xaxis\": \"x2\", \"y\": [7.73, 1.53, 6.88, 2.68, 2.53, 8.31, 1.55, 4.49, 8.19, 7.41], \"yaxis\": \"y2\"}],\n",
       "                        {\"annotations\": [{\"font\": {}, \"showarrow\": false, \"text\": \"FPKM\", \"x\": 0.245, \"xanchor\": \"center\", \"xref\": \"paper\", \"y\": 1.0, \"yanchor\": \"bottom\", \"yref\": \"paper\"}, {\"font\": {}, \"showarrow\": false, \"text\": \"TPM\", \"x\": 0.755, \"xanchor\": \"center\", \"xref\": \"paper\", \"y\": 1.0, \"yanchor\": \"bottom\", \"yref\": \"paper\"}], \"barmode\": \"relative\", \"height\": 600, \"legend\": {\"title\": {\"text\": \"Age\"}, \"tracegroupgap\": 0}, \"margin\": {\"t\": 60}, \"template\": {\"data\": {\"bar\": [{\"error_x\": {\"color\": \"#2a3f5f\"}, \"error_y\": {\"color\": \"#2a3f5f\"}, \"marker\": {\"line\": {\"color\": \"#E5ECF6\", \"width\": 0.5}}, \"type\": \"bar\"}], \"barpolar\": [{\"marker\": {\"line\": {\"color\": \"#E5ECF6\", \"width\": 0.5}}, \"type\": \"barpolar\"}], \"carpet\": [{\"aaxis\": {\"endlinecolor\": \"#2a3f5f\", \"gridcolor\": \"white\", \"linecolor\": \"white\", \"minorgridcolor\": \"white\", \"startlinecolor\": \"#2a3f5f\"}, \"baxis\": {\"endlinecolor\": \"#2a3f5f\", \"gridcolor\": \"white\", \"linecolor\": \"white\", \"minorgridcolor\": \"white\", \"startlinecolor\": \"#2a3f5f\"}, \"type\": \"carpet\"}], \"choropleth\": [{\"colorbar\": {\"outlinewidth\": 0, \"ticks\": \"\"}, \"type\": \"choropleth\"}], \"contour\": [{\"colorbar\": {\"outlinewidth\": 0, \"ticks\": \"\"}, \"colorscale\": [[0.0, \"#0d0887\"], [0.1111111111111111, \"#46039f\"], [0.2222222222222222, \"#7201a8\"], [0.3333333333333333, \"#9c179e\"], [0.4444444444444444, \"#bd3786\"], [0.5555555555555556, \"#d8576b\"], [0.6666666666666666, \"#ed7953\"], [0.7777777777777778, \"#fb9f3a\"], [0.8888888888888888, \"#fdca26\"], [1.0, \"#f0f921\"]], \"type\": \"contour\"}], \"contourcarpet\": [{\"colorbar\": {\"outlinewidth\": 0, \"ticks\": \"\"}, \"type\": \"contourcarpet\"}], \"heatmap\": [{\"colorbar\": {\"outlinewidth\": 0, \"ticks\": \"\"}, \"colorscale\": [[0.0, \"#0d0887\"], [0.1111111111111111, \"#46039f\"], [0.2222222222222222, \"#7201a8\"], [0.3333333333333333, \"#9c179e\"], [0.4444444444444444, \"#bd3786\"], [0.5555555555555556, \"#d8576b\"], [0.6666666666666666, \"#ed7953\"], [0.7777777777777778, \"#fb9f3a\"], [0.8888888888888888, \"#fdca26\"], [1.0, \"#f0f921\"]], \"type\": \"heatmap\"}], \"heatmapgl\": [{\"colorbar\": {\"outlinewidth\": 0, \"ticks\": \"\"}, \"colorscale\": [[0.0, \"#0d0887\"], [0.1111111111111111, \"#46039f\"], [0.2222222222222222, \"#7201a8\"], [0.3333333333333333, \"#9c179e\"], [0.4444444444444444, \"#bd3786\"], [0.5555555555555556, \"#d8576b\"], [0.6666666666666666, \"#ed7953\"], [0.7777777777777778, \"#fb9f3a\"], [0.8888888888888888, \"#fdca26\"], [1.0, \"#f0f921\"]], \"type\": \"heatmapgl\"}], \"histogram\": [{\"marker\": {\"colorbar\": {\"outlinewidth\": 0, \"ticks\": \"\"}}, \"type\": \"histogram\"}], \"histogram2d\": [{\"colorbar\": {\"outlinewidth\": 0, \"ticks\": \"\"}, \"colorscale\": [[0.0, \"#0d0887\"], [0.1111111111111111, \"#46039f\"], [0.2222222222222222, \"#7201a8\"], [0.3333333333333333, \"#9c179e\"], [0.4444444444444444, \"#bd3786\"], [0.5555555555555556, \"#d8576b\"], [0.6666666666666666, \"#ed7953\"], [0.7777777777777778, \"#fb9f3a\"], [0.8888888888888888, \"#fdca26\"], [1.0, \"#f0f921\"]], \"type\": \"histogram2d\"}], \"histogram2dcontour\": [{\"colorbar\": {\"outlinewidth\": 0, \"ticks\": \"\"}, \"colorscale\": [[0.0, \"#0d0887\"], [0.1111111111111111, \"#46039f\"], [0.2222222222222222, \"#7201a8\"], [0.3333333333333333, \"#9c179e\"], [0.4444444444444444, \"#bd3786\"], [0.5555555555555556, \"#d8576b\"], [0.6666666666666666, \"#ed7953\"], [0.7777777777777778, \"#fb9f3a\"], [0.8888888888888888, \"#fdca26\"], [1.0, \"#f0f921\"]], \"type\": \"histogram2dcontour\"}], \"mesh3d\": [{\"colorbar\": {\"outlinewidth\": 0, \"ticks\": \"\"}, \"type\": \"mesh3d\"}], \"parcoords\": [{\"line\": {\"colorbar\": {\"outlinewidth\": 0, \"ticks\": \"\"}}, \"type\": \"parcoords\"}], \"pie\": [{\"automargin\": true, \"type\": \"pie\"}], \"scatter\": [{\"marker\": {\"colorbar\": {\"outlinewidth\": 0, \"ticks\": \"\"}}, \"type\": \"scatter\"}], \"scatter3d\": [{\"line\": {\"colorbar\": {\"outlinewidth\": 0, \"ticks\": \"\"}}, \"marker\": {\"colorbar\": {\"outlinewidth\": 0, \"ticks\": \"\"}}, \"type\": \"scatter3d\"}], \"scattercarpet\": [{\"marker\": {\"colorbar\": {\"outlinewidth\": 0, \"ticks\": \"\"}}, \"type\": \"scattercarpet\"}], \"scattergeo\": [{\"marker\": {\"colorbar\": {\"outlinewidth\": 0, \"ticks\": \"\"}}, \"type\": \"scattergeo\"}], \"scattergl\": [{\"marker\": {\"colorbar\": {\"outlinewidth\": 0, \"ticks\": \"\"}}, \"type\": \"scattergl\"}], \"scattermapbox\": [{\"marker\": {\"colorbar\": {\"outlinewidth\": 0, \"ticks\": \"\"}}, \"type\": \"scattermapbox\"}], \"scatterpolar\": [{\"marker\": {\"colorbar\": {\"outlinewidth\": 0, \"ticks\": \"\"}}, \"type\": \"scatterpolar\"}], \"scatterpolargl\": [{\"marker\": {\"colorbar\": {\"outlinewidth\": 0, \"ticks\": \"\"}}, \"type\": \"scatterpolargl\"}], \"scatterternary\": [{\"marker\": {\"colorbar\": {\"outlinewidth\": 0, \"ticks\": \"\"}}, \"type\": \"scatterternary\"}], \"surface\": [{\"colorbar\": {\"outlinewidth\": 0, \"ticks\": \"\"}, \"colorscale\": [[0.0, \"#0d0887\"], [0.1111111111111111, \"#46039f\"], [0.2222222222222222, \"#7201a8\"], [0.3333333333333333, \"#9c179e\"], [0.4444444444444444, \"#bd3786\"], [0.5555555555555556, \"#d8576b\"], [0.6666666666666666, \"#ed7953\"], [0.7777777777777778, \"#fb9f3a\"], [0.8888888888888888, \"#fdca26\"], [1.0, \"#f0f921\"]], \"type\": \"surface\"}], \"table\": [{\"cells\": {\"fill\": {\"color\": \"#EBF0F8\"}, \"line\": {\"color\": \"white\"}}, \"header\": {\"fill\": {\"color\": \"#C8D4E3\"}, \"line\": {\"color\": \"white\"}}, \"type\": \"table\"}]}, \"layout\": {\"annotationdefaults\": {\"arrowcolor\": \"#2a3f5f\", \"arrowhead\": 0, \"arrowwidth\": 1}, \"coloraxis\": {\"colorbar\": {\"outlinewidth\": 0, \"ticks\": \"\"}}, \"colorscale\": {\"diverging\": [[0, \"#8e0152\"], [0.1, \"#c51b7d\"], [0.2, \"#de77ae\"], [0.3, \"#f1b6da\"], [0.4, \"#fde0ef\"], [0.5, \"#f7f7f7\"], [0.6, \"#e6f5d0\"], [0.7, \"#b8e186\"], [0.8, \"#7fbc41\"], [0.9, \"#4d9221\"], [1, \"#276419\"]], \"sequential\": [[0.0, \"#0d0887\"], [0.1111111111111111, \"#46039f\"], [0.2222222222222222, \"#7201a8\"], [0.3333333333333333, \"#9c179e\"], [0.4444444444444444, \"#bd3786\"], [0.5555555555555556, \"#d8576b\"], [0.6666666666666666, \"#ed7953\"], [0.7777777777777778, \"#fb9f3a\"], [0.8888888888888888, \"#fdca26\"], [1.0, \"#f0f921\"]], \"sequentialminus\": [[0.0, \"#0d0887\"], [0.1111111111111111, \"#46039f\"], [0.2222222222222222, \"#7201a8\"], [0.3333333333333333, \"#9c179e\"], [0.4444444444444444, \"#bd3786\"], [0.5555555555555556, \"#d8576b\"], [0.6666666666666666, \"#ed7953\"], [0.7777777777777778, \"#fb9f3a\"], [0.8888888888888888, \"#fdca26\"], [1.0, \"#f0f921\"]]}, \"colorway\": [\"#636efa\", \"#EF553B\", \"#00cc96\", \"#ab63fa\", \"#FFA15A\", \"#19d3f3\", \"#FF6692\", \"#B6E880\", \"#FF97FF\", \"#FECB52\"], \"font\": {\"color\": \"#2a3f5f\"}, \"geo\": {\"bgcolor\": \"white\", \"lakecolor\": \"white\", \"landcolor\": \"#E5ECF6\", \"showlakes\": true, \"showland\": true, \"subunitcolor\": \"white\"}, \"hoverlabel\": {\"align\": \"left\"}, \"hovermode\": \"closest\", \"mapbox\": {\"style\": \"light\"}, \"paper_bgcolor\": \"white\", \"plot_bgcolor\": \"#E5ECF6\", \"polar\": {\"angularaxis\": {\"gridcolor\": \"white\", \"linecolor\": \"white\", \"ticks\": \"\"}, \"bgcolor\": \"#E5ECF6\", \"radialaxis\": {\"gridcolor\": \"white\", \"linecolor\": \"white\", \"ticks\": \"\"}}, \"scene\": {\"xaxis\": {\"backgroundcolor\": \"#E5ECF6\", \"gridcolor\": \"white\", \"gridwidth\": 2, \"linecolor\": \"white\", \"showbackground\": true, \"ticks\": \"\", \"zerolinecolor\": \"white\"}, \"yaxis\": {\"backgroundcolor\": \"#E5ECF6\", \"gridcolor\": \"white\", \"gridwidth\": 2, \"linecolor\": \"white\", \"showbackground\": true, \"ticks\": \"\", \"zerolinecolor\": \"white\"}, \"zaxis\": {\"backgroundcolor\": \"#E5ECF6\", \"gridcolor\": \"white\", \"gridwidth\": 2, \"linecolor\": \"white\", \"showbackground\": true, \"ticks\": \"\", \"zerolinecolor\": \"white\"}}, \"shapedefaults\": {\"line\": {\"color\": \"#2a3f5f\"}}, \"ternary\": {\"aaxis\": {\"gridcolor\": \"white\", \"linecolor\": \"white\", \"ticks\": \"\"}, \"baxis\": {\"gridcolor\": \"white\", \"linecolor\": \"white\", \"ticks\": \"\"}, \"bgcolor\": \"#E5ECF6\", \"caxis\": {\"gridcolor\": \"white\", \"linecolor\": \"white\", \"ticks\": \"\"}}, \"title\": {\"x\": 0.05}, \"xaxis\": {\"automargin\": true, \"gridcolor\": \"white\", \"linecolor\": \"white\", \"ticks\": \"\", \"title\": {\"standoff\": 15}, \"zerolinecolor\": \"white\", \"zerolinewidth\": 2}, \"yaxis\": {\"automargin\": true, \"gridcolor\": \"white\", \"linecolor\": \"white\", \"ticks\": \"\", \"title\": {\"standoff\": 15}, \"zerolinecolor\": \"white\", \"zerolinewidth\": 2}}}, \"title\": {\"text\": \"Rapgef2: Poly-A Oligo-dt primed, B Wold, ENCODE\"}, \"width\": 1000, \"xaxis\": {\"anchor\": \"y\", \"categoryorder\": \"total descending\", \"domain\": [0.0, 0.49], \"title\": {\"text\": \"Cell Type\"}}, \"xaxis2\": {\"anchor\": \"y2\", \"domain\": [0.51, 1.0], \"matches\": \"x\", \"title\": {\"text\": \"Tissue\"}}, \"yaxis\": {\"anchor\": \"x\", \"domain\": [0.0, 1.0], \"title\": {\"text\": \"Expression\"}}, \"yaxis2\": {\"anchor\": \"x2\", \"domain\": [0.0, 1.0], \"matches\": \"y\", \"showticklabels\": false, \"title\": {\"text\": \"\"}}},\n",
       "                        {\"responsive\": true}\n",
       "                    ).then(function(){\n",
       "                            \n",
       "var gd = document.getElementById('1fa97c0b-2f80-4d37-9961-c6caa33af476');\n",
       "var x = new MutationObserver(function (mutations, observer) {{\n",
       "        var display = window.getComputedStyle(gd).display;\n",
       "        if (!display || display === 'none') {{\n",
       "            console.log([gd, 'removed!']);\n",
       "            Plotly.purge(gd);\n",
       "            observer.disconnect();\n",
       "        }}\n",
       "}});\n",
       "\n",
       "// Listen for the removal of the full notebook cells\n",
       "var notebookContainer = gd.closest('#notebook-container');\n",
       "if (notebookContainer) {{\n",
       "    x.observe(notebookContainer, {childList: true});\n",
       "}}\n",
       "\n",
       "// Listen for the clearing of the current output cell\n",
       "var outputEl = gd.closest('.output');\n",
       "if (outputEl) {{\n",
       "    x.observe(outputEl, {childList: true});\n",
       "}}\n",
       "\n",
       "                        })\n",
       "                };\n",
       "                });\n",
       "            </script>\n",
       "        </div>"
      ]
     },
     "metadata": {},
     "output_type": "display_data"
    },
    {
     "data": {
      "application/vnd.plotly.v1+json": {
       "config": {
        "plotlyServerURL": "https://plot.ly"
       },
       "data": [
        {
         "cells": {
          "align": "left",
          "fill": {
           "color": "lavender"
          },
          "values": [
           [
            "10.5",
            "10.5",
            "10.5",
            "10.5",
            "10.5",
            "10.5",
            "10.5",
            "10.5",
            "10.5",
            "10.5",
            "10.5",
            "10.5",
            "10.5",
            "10.5",
            "10.5",
            "10.5",
            "11.5",
            "11.5",
            "11.5",
            "11.5",
            "11.5",
            "11.5",
            "11.5",
            "11.5",
            "11.5",
            "11.5",
            "11.5",
            "11.5",
            "11.5",
            "11.5",
            "11.5",
            "11.5",
            "11.5",
            "11.5",
            "11.5",
            "11.5",
            "12.5",
            "12.5",
            "12.5",
            "12.5",
            "12.5",
            "12.5",
            "12.5",
            "12.5",
            "12.5",
            "12.5",
            "12.5",
            "12.5",
            "12.5",
            "12.5",
            "12.5",
            "12.5",
            "12.5",
            "12.5",
            "12.5",
            "12.5",
            "13.5",
            "13.5",
            "13.5",
            "13.5",
            "13.5",
            "13.5",
            "13.5",
            "13.5",
            "13.5",
            "13.5",
            "13.5",
            "13.5",
            "13.5",
            "13.5",
            "13.5",
            "13.5",
            "13.5",
            "13.5",
            "13.5",
            "13.5",
            "14.5",
            "14.5",
            "14.5",
            "14.5",
            "14.5",
            "14.5",
            "14.5",
            "14.5",
            "14.5",
            "14.5",
            "14.5",
            "14.5",
            "14.5",
            "14.5",
            "14.5",
            "14.5",
            "14.5",
            "14.5",
            "14.5",
            "14.5",
            "15.5",
            "15.5",
            "15.5",
            "15.5",
            "15.5",
            "15.5",
            "15.5",
            "15.5",
            "15.5",
            "15.5",
            "15.5",
            "15.5",
            "15.5",
            "15.5",
            "15.5",
            "15.5",
            "15.5",
            "15.5",
            "15.5",
            "15.5",
            "16.5",
            "16.5",
            "16.5",
            "16.5",
            "16.5",
            "16.5",
            "16.5",
            "16.5",
            "16.5",
            "16.5",
            "16.5",
            "16.5",
            "16.5",
            "16.5",
            "16.5",
            "16.5",
            "16.5",
            "16.5",
            "16.5",
            "16.5",
            "p0",
            "p0",
            "p0",
            "p0",
            "p0",
            "p0",
            "p0",
            "p0",
            "p0",
            "p0",
            "p0",
            "p0",
            "p0",
            "p0",
            "p0",
            "p0",
            "p0",
            "p0",
            "p0",
            "p0"
           ],
           [
            "midbrain",
            "hindbrain",
            "midbrain",
            "midbrain",
            "midbrain",
            "midbrain",
            "forebrain",
            "forebrain",
            "midbrain",
            "forebrain",
            "forebrain",
            "hindbrain",
            "hindbrain",
            "hindbrain",
            "midbrain",
            "midbrain",
            "liver",
            "hindbrain",
            "hindbrain",
            "forebrain",
            "midbrain",
            "forebrain",
            "heart",
            "liver",
            "midbrain",
            "hindbrain",
            "liver",
            "midbrain",
            "hindbrain",
            "forebrain",
            "heart",
            "forebrain",
            "heart",
            "liver",
            "heart",
            "midbrain",
            "heart",
            "liver",
            "midbrain",
            "hindbrain",
            "midbrain",
            "forebrain",
            "forebrain",
            "liver",
            "hindbrain",
            "heart",
            "heart",
            "hindbrain",
            "liver",
            "midbrain",
            "midbrain",
            "heart",
            "forebrain",
            "liver",
            "forebrain",
            "hindbrain",
            "liver",
            "forebrain",
            "heart",
            "hindbrain",
            "forebrain",
            "midbrain",
            "hindbrain",
            "midbrain",
            "forebrain",
            "forebrain",
            "heart",
            "liver",
            "heart",
            "midbrain",
            "liver",
            "liver",
            "heart",
            "midbrain",
            "hindbrain",
            "hindbrain",
            "liver",
            "midbrain",
            "hindbrain",
            "liver",
            "hindbrain",
            "forebrain",
            "midbrain",
            "forebrain",
            "heart",
            "heart",
            "heart",
            "midbrain",
            "hindbrain",
            "liver",
            "forebrain",
            "hindbrain",
            "midbrain",
            "heart",
            "liver",
            "forebrain",
            "hindbrain",
            "midbrain",
            "heart",
            "liver",
            "forebrain",
            "liver",
            "midbrain",
            "heart",
            "forebrain",
            "forebrain",
            "hindbrain",
            "midbrain",
            "heart",
            "liver",
            "liver",
            "hindbrain",
            "hindbrain",
            "midbrain",
            "heart",
            "forebrain",
            "hindbrain",
            "heart",
            "hindbrain",
            "heart",
            "midbrain",
            "liver",
            "forebrain",
            "liver",
            "midbrain",
            "midbrain",
            "liver",
            "heart",
            "hindbrain",
            "forebrain",
            "midbrain",
            "forebrain",
            "liver",
            "heart",
            "hindbrain",
            "forebrain",
            "liver",
            "forebrain",
            "forebrain",
            "heart",
            "midbrain",
            "forebrain",
            "hindbrain",
            "liver",
            "liver",
            "heart",
            "hindbrain",
            "hindbrain",
            "midbrain",
            "heart",
            "heart",
            "midbrain",
            "liver",
            "forebrain",
            "midbrain",
            "hindbrain"
           ],
           [
            "FPKM",
            "FPKM",
            "FPKM",
            "FPKM",
            "TPM",
            "TPM",
            "TPM",
            "FPKM",
            "TPM",
            "TPM",
            "FPKM",
            "FPKM",
            "TPM",
            "TPM",
            "FPKM",
            "TPM",
            "TPM",
            "FPKM",
            "TPM",
            "FPKM",
            "FPKM",
            "TPM",
            "FPKM",
            "FPKM",
            "TPM",
            "TPM",
            "TPM",
            "TPM",
            "FPKM",
            "TPM",
            "TPM",
            "FPKM",
            "TPM",
            "FPKM",
            "FPKM",
            "FPKM",
            "TPM",
            "TPM",
            "FPKM",
            "FPKM",
            "FPKM",
            "FPKM",
            "FPKM",
            "FPKM",
            "FPKM",
            "FPKM",
            "FPKM",
            "TPM",
            "FPKM",
            "TPM",
            "TPM",
            "TPM",
            "TPM",
            "TPM",
            "TPM",
            "TPM",
            "TPM",
            "TPM",
            "TPM",
            "FPKM",
            "FPKM",
            "FPKM",
            "FPKM",
            "FPKM",
            "TPM",
            "FPKM",
            "FPKM",
            "FPKM",
            "TPM",
            "TPM",
            "FPKM",
            "TPM",
            "FPKM",
            "TPM",
            "TPM",
            "TPM",
            "FPKM",
            "FPKM",
            "TPM",
            "FPKM",
            "FPKM",
            "FPKM",
            "FPKM",
            "TPM",
            "TPM",
            "FPKM",
            "FPKM",
            "TPM",
            "TPM",
            "TPM",
            "FPKM",
            "FPKM",
            "TPM",
            "TPM",
            "TPM",
            "TPM",
            "FPKM",
            "FPKM",
            "FPKM",
            "FPKM",
            "FPKM",
            "FPKM",
            "FPKM",
            "TPM",
            "TPM",
            "FPKM",
            "FPKM",
            "TPM",
            "FPKM",
            "TPM",
            "TPM",
            "TPM",
            "TPM",
            "TPM",
            "TPM",
            "TPM",
            "TPM",
            "FPKM",
            "FPKM",
            "TPM",
            "FPKM",
            "TPM",
            "TPM",
            "FPKM",
            "TPM",
            "TPM",
            "FPKM",
            "FPKM",
            "FPKM",
            "FPKM",
            "FPKM",
            "TPM",
            "TPM",
            "TPM",
            "TPM",
            "FPKM",
            "FPKM",
            "TPM",
            "FPKM",
            "FPKM",
            "FPKM",
            "FPKM",
            "FPKM",
            "TPM",
            "FPKM",
            "FPKM",
            "TPM",
            "FPKM",
            "FPKM",
            "TPM",
            "TPM",
            "TPM",
            "TPM",
            "TPM",
            "TPM",
            "TPM"
           ],
           [
            2.13,
            2.77,
            2.61,
            2.49,
            3.3,
            4.19,
            4.4,
            2.42,
            4.03,
            3.76,
            2.8,
            2.58,
            4.01,
            4.16,
            2.69,
            3.7,
            2.35,
            3.83,
            5.59,
            4.19,
            3.11,
            6.73,
            3.19,
            1.77,
            4.04,
            5.05,
            2.18,
            4.78,
            3.27,
            7.32,
            4.21,
            4.56,
            4.03,
            1.56,
            2.94,
            2.59,
            6.89,
            1.95,
            5.51,
            5.9,
            4.82,
            5.02,
            4.55,
            1.53,
            5.89,
            4.62,
            5.11,
            10.01,
            1.63,
            9.15,
            8.04,
            7.52,
            8.4,
            1.82,
            7.49,
            9.85,
            0.81,
            6.3,
            3.81,
            4.85,
            3.96,
            4.43,
            4.22,
            3.98,
            6.3,
            4.15,
            2.54,
            0.91,
            3.18,
            6.38,
            0.77,
            1.02,
            2.89,
            6.94,
            7.71,
            6.75,
            1.41,
            7.54,
            13.03,
            0.99,
            6.74,
            5.41,
            6.94,
            8.98,
            6.21,
            4.56,
            4.15,
            11.86,
            11.01,
            1.4,
            5.23,
            7.6,
            11.91,
            5.71,
            0.95,
            8.07,
            6.53,
            7.27,
            3.65,
            0.86,
            5.93,
            1.31,
            6.98,
            4.72,
            9.43,
            5.78,
            6.67,
            12.13,
            3.45,
            1.41,
            0.9,
            10.4,
            10.89,
            11.7,
            4.71,
            9.81,
            9.18,
            2.87,
            5.62,
            3.91,
            7.6,
            0.9,
            11.11,
            0.85,
            13.08,
            13,
            1.15,
            3.27,
            6.18,
            6.52,
            7.66,
            9.19,
            1.24,
            4.55,
            10.45,
            5.28,
            1.31,
            7.73,
            4.8,
            2.14,
            5.2,
            3.12,
            4.76,
            1.53,
            1.32,
            2.21,
            6.88,
            4.47,
            5.07,
            2.68,
            2.53,
            8.31,
            1.55,
            4.49,
            8.19,
            7.41
           ]
          ]
         },
         "header": {
          "align": "left",
          "fill": {
           "color": "paleturquoise"
          },
          "values": [
           "Age",
           "Tissue",
           "variable",
           "value"
          ]
         },
         "type": "table"
        }
       ],
       "layout": {
        "template": {
         "data": {
          "bar": [
           {
            "error_x": {
             "color": "#2a3f5f"
            },
            "error_y": {
             "color": "#2a3f5f"
            },
            "marker": {
             "line": {
              "color": "#E5ECF6",
              "width": 0.5
             }
            },
            "type": "bar"
           }
          ],
          "barpolar": [
           {
            "marker": {
             "line": {
              "color": "#E5ECF6",
              "width": 0.5
             }
            },
            "type": "barpolar"
           }
          ],
          "carpet": [
           {
            "aaxis": {
             "endlinecolor": "#2a3f5f",
             "gridcolor": "white",
             "linecolor": "white",
             "minorgridcolor": "white",
             "startlinecolor": "#2a3f5f"
            },
            "baxis": {
             "endlinecolor": "#2a3f5f",
             "gridcolor": "white",
             "linecolor": "white",
             "minorgridcolor": "white",
             "startlinecolor": "#2a3f5f"
            },
            "type": "carpet"
           }
          ],
          "choropleth": [
           {
            "colorbar": {
             "outlinewidth": 0,
             "ticks": ""
            },
            "type": "choropleth"
           }
          ],
          "contour": [
           {
            "colorbar": {
             "outlinewidth": 0,
             "ticks": ""
            },
            "colorscale": [
             [
              0,
              "#0d0887"
             ],
             [
              0.1111111111111111,
              "#46039f"
             ],
             [
              0.2222222222222222,
              "#7201a8"
             ],
             [
              0.3333333333333333,
              "#9c179e"
             ],
             [
              0.4444444444444444,
              "#bd3786"
             ],
             [
              0.5555555555555556,
              "#d8576b"
             ],
             [
              0.6666666666666666,
              "#ed7953"
             ],
             [
              0.7777777777777778,
              "#fb9f3a"
             ],
             [
              0.8888888888888888,
              "#fdca26"
             ],
             [
              1,
              "#f0f921"
             ]
            ],
            "type": "contour"
           }
          ],
          "contourcarpet": [
           {
            "colorbar": {
             "outlinewidth": 0,
             "ticks": ""
            },
            "type": "contourcarpet"
           }
          ],
          "heatmap": [
           {
            "colorbar": {
             "outlinewidth": 0,
             "ticks": ""
            },
            "colorscale": [
             [
              0,
              "#0d0887"
             ],
             [
              0.1111111111111111,
              "#46039f"
             ],
             [
              0.2222222222222222,
              "#7201a8"
             ],
             [
              0.3333333333333333,
              "#9c179e"
             ],
             [
              0.4444444444444444,
              "#bd3786"
             ],
             [
              0.5555555555555556,
              "#d8576b"
             ],
             [
              0.6666666666666666,
              "#ed7953"
             ],
             [
              0.7777777777777778,
              "#fb9f3a"
             ],
             [
              0.8888888888888888,
              "#fdca26"
             ],
             [
              1,
              "#f0f921"
             ]
            ],
            "type": "heatmap"
           }
          ],
          "heatmapgl": [
           {
            "colorbar": {
             "outlinewidth": 0,
             "ticks": ""
            },
            "colorscale": [
             [
              0,
              "#0d0887"
             ],
             [
              0.1111111111111111,
              "#46039f"
             ],
             [
              0.2222222222222222,
              "#7201a8"
             ],
             [
              0.3333333333333333,
              "#9c179e"
             ],
             [
              0.4444444444444444,
              "#bd3786"
             ],
             [
              0.5555555555555556,
              "#d8576b"
             ],
             [
              0.6666666666666666,
              "#ed7953"
             ],
             [
              0.7777777777777778,
              "#fb9f3a"
             ],
             [
              0.8888888888888888,
              "#fdca26"
             ],
             [
              1,
              "#f0f921"
             ]
            ],
            "type": "heatmapgl"
           }
          ],
          "histogram": [
           {
            "marker": {
             "colorbar": {
              "outlinewidth": 0,
              "ticks": ""
             }
            },
            "type": "histogram"
           }
          ],
          "histogram2d": [
           {
            "colorbar": {
             "outlinewidth": 0,
             "ticks": ""
            },
            "colorscale": [
             [
              0,
              "#0d0887"
             ],
             [
              0.1111111111111111,
              "#46039f"
             ],
             [
              0.2222222222222222,
              "#7201a8"
             ],
             [
              0.3333333333333333,
              "#9c179e"
             ],
             [
              0.4444444444444444,
              "#bd3786"
             ],
             [
              0.5555555555555556,
              "#d8576b"
             ],
             [
              0.6666666666666666,
              "#ed7953"
             ],
             [
              0.7777777777777778,
              "#fb9f3a"
             ],
             [
              0.8888888888888888,
              "#fdca26"
             ],
             [
              1,
              "#f0f921"
             ]
            ],
            "type": "histogram2d"
           }
          ],
          "histogram2dcontour": [
           {
            "colorbar": {
             "outlinewidth": 0,
             "ticks": ""
            },
            "colorscale": [
             [
              0,
              "#0d0887"
             ],
             [
              0.1111111111111111,
              "#46039f"
             ],
             [
              0.2222222222222222,
              "#7201a8"
             ],
             [
              0.3333333333333333,
              "#9c179e"
             ],
             [
              0.4444444444444444,
              "#bd3786"
             ],
             [
              0.5555555555555556,
              "#d8576b"
             ],
             [
              0.6666666666666666,
              "#ed7953"
             ],
             [
              0.7777777777777778,
              "#fb9f3a"
             ],
             [
              0.8888888888888888,
              "#fdca26"
             ],
             [
              1,
              "#f0f921"
             ]
            ],
            "type": "histogram2dcontour"
           }
          ],
          "mesh3d": [
           {
            "colorbar": {
             "outlinewidth": 0,
             "ticks": ""
            },
            "type": "mesh3d"
           }
          ],
          "parcoords": [
           {
            "line": {
             "colorbar": {
              "outlinewidth": 0,
              "ticks": ""
             }
            },
            "type": "parcoords"
           }
          ],
          "pie": [
           {
            "automargin": true,
            "type": "pie"
           }
          ],
          "scatter": [
           {
            "marker": {
             "colorbar": {
              "outlinewidth": 0,
              "ticks": ""
             }
            },
            "type": "scatter"
           }
          ],
          "scatter3d": [
           {
            "line": {
             "colorbar": {
              "outlinewidth": 0,
              "ticks": ""
             }
            },
            "marker": {
             "colorbar": {
              "outlinewidth": 0,
              "ticks": ""
             }
            },
            "type": "scatter3d"
           }
          ],
          "scattercarpet": [
           {
            "marker": {
             "colorbar": {
              "outlinewidth": 0,
              "ticks": ""
             }
            },
            "type": "scattercarpet"
           }
          ],
          "scattergeo": [
           {
            "marker": {
             "colorbar": {
              "outlinewidth": 0,
              "ticks": ""
             }
            },
            "type": "scattergeo"
           }
          ],
          "scattergl": [
           {
            "marker": {
             "colorbar": {
              "outlinewidth": 0,
              "ticks": ""
             }
            },
            "type": "scattergl"
           }
          ],
          "scattermapbox": [
           {
            "marker": {
             "colorbar": {
              "outlinewidth": 0,
              "ticks": ""
             }
            },
            "type": "scattermapbox"
           }
          ],
          "scatterpolar": [
           {
            "marker": {
             "colorbar": {
              "outlinewidth": 0,
              "ticks": ""
             }
            },
            "type": "scatterpolar"
           }
          ],
          "scatterpolargl": [
           {
            "marker": {
             "colorbar": {
              "outlinewidth": 0,
              "ticks": ""
             }
            },
            "type": "scatterpolargl"
           }
          ],
          "scatterternary": [
           {
            "marker": {
             "colorbar": {
              "outlinewidth": 0,
              "ticks": ""
             }
            },
            "type": "scatterternary"
           }
          ],
          "surface": [
           {
            "colorbar": {
             "outlinewidth": 0,
             "ticks": ""
            },
            "colorscale": [
             [
              0,
              "#0d0887"
             ],
             [
              0.1111111111111111,
              "#46039f"
             ],
             [
              0.2222222222222222,
              "#7201a8"
             ],
             [
              0.3333333333333333,
              "#9c179e"
             ],
             [
              0.4444444444444444,
              "#bd3786"
             ],
             [
              0.5555555555555556,
              "#d8576b"
             ],
             [
              0.6666666666666666,
              "#ed7953"
             ],
             [
              0.7777777777777778,
              "#fb9f3a"
             ],
             [
              0.8888888888888888,
              "#fdca26"
             ],
             [
              1,
              "#f0f921"
             ]
            ],
            "type": "surface"
           }
          ],
          "table": [
           {
            "cells": {
             "fill": {
              "color": "#EBF0F8"
             },
             "line": {
              "color": "white"
             }
            },
            "header": {
             "fill": {
              "color": "#C8D4E3"
             },
             "line": {
              "color": "white"
             }
            },
            "type": "table"
           }
          ]
         },
         "layout": {
          "annotationdefaults": {
           "arrowcolor": "#2a3f5f",
           "arrowhead": 0,
           "arrowwidth": 1
          },
          "coloraxis": {
           "colorbar": {
            "outlinewidth": 0,
            "ticks": ""
           }
          },
          "colorscale": {
           "diverging": [
            [
             0,
             "#8e0152"
            ],
            [
             0.1,
             "#c51b7d"
            ],
            [
             0.2,
             "#de77ae"
            ],
            [
             0.3,
             "#f1b6da"
            ],
            [
             0.4,
             "#fde0ef"
            ],
            [
             0.5,
             "#f7f7f7"
            ],
            [
             0.6,
             "#e6f5d0"
            ],
            [
             0.7,
             "#b8e186"
            ],
            [
             0.8,
             "#7fbc41"
            ],
            [
             0.9,
             "#4d9221"
            ],
            [
             1,
             "#276419"
            ]
           ],
           "sequential": [
            [
             0,
             "#0d0887"
            ],
            [
             0.1111111111111111,
             "#46039f"
            ],
            [
             0.2222222222222222,
             "#7201a8"
            ],
            [
             0.3333333333333333,
             "#9c179e"
            ],
            [
             0.4444444444444444,
             "#bd3786"
            ],
            [
             0.5555555555555556,
             "#d8576b"
            ],
            [
             0.6666666666666666,
             "#ed7953"
            ],
            [
             0.7777777777777778,
             "#fb9f3a"
            ],
            [
             0.8888888888888888,
             "#fdca26"
            ],
            [
             1,
             "#f0f921"
            ]
           ],
           "sequentialminus": [
            [
             0,
             "#0d0887"
            ],
            [
             0.1111111111111111,
             "#46039f"
            ],
            [
             0.2222222222222222,
             "#7201a8"
            ],
            [
             0.3333333333333333,
             "#9c179e"
            ],
            [
             0.4444444444444444,
             "#bd3786"
            ],
            [
             0.5555555555555556,
             "#d8576b"
            ],
            [
             0.6666666666666666,
             "#ed7953"
            ],
            [
             0.7777777777777778,
             "#fb9f3a"
            ],
            [
             0.8888888888888888,
             "#fdca26"
            ],
            [
             1,
             "#f0f921"
            ]
           ]
          },
          "colorway": [
           "#636efa",
           "#EF553B",
           "#00cc96",
           "#ab63fa",
           "#FFA15A",
           "#19d3f3",
           "#FF6692",
           "#B6E880",
           "#FF97FF",
           "#FECB52"
          ],
          "font": {
           "color": "#2a3f5f"
          },
          "geo": {
           "bgcolor": "white",
           "lakecolor": "white",
           "landcolor": "#E5ECF6",
           "showlakes": true,
           "showland": true,
           "subunitcolor": "white"
          },
          "hoverlabel": {
           "align": "left"
          },
          "hovermode": "closest",
          "mapbox": {
           "style": "light"
          },
          "paper_bgcolor": "white",
          "plot_bgcolor": "#E5ECF6",
          "polar": {
           "angularaxis": {
            "gridcolor": "white",
            "linecolor": "white",
            "ticks": ""
           },
           "bgcolor": "#E5ECF6",
           "radialaxis": {
            "gridcolor": "white",
            "linecolor": "white",
            "ticks": ""
           }
          },
          "scene": {
           "xaxis": {
            "backgroundcolor": "#E5ECF6",
            "gridcolor": "white",
            "gridwidth": 2,
            "linecolor": "white",
            "showbackground": true,
            "ticks": "",
            "zerolinecolor": "white"
           },
           "yaxis": {
            "backgroundcolor": "#E5ECF6",
            "gridcolor": "white",
            "gridwidth": 2,
            "linecolor": "white",
            "showbackground": true,
            "ticks": "",
            "zerolinecolor": "white"
           },
           "zaxis": {
            "backgroundcolor": "#E5ECF6",
            "gridcolor": "white",
            "gridwidth": 2,
            "linecolor": "white",
            "showbackground": true,
            "ticks": "",
            "zerolinecolor": "white"
           }
          },
          "shapedefaults": {
           "line": {
            "color": "#2a3f5f"
           }
          },
          "ternary": {
           "aaxis": {
            "gridcolor": "white",
            "linecolor": "white",
            "ticks": ""
           },
           "baxis": {
            "gridcolor": "white",
            "linecolor": "white",
            "ticks": ""
           },
           "bgcolor": "#E5ECF6",
           "caxis": {
            "gridcolor": "white",
            "linecolor": "white",
            "ticks": ""
           }
          },
          "title": {
           "x": 0.05
          },
          "xaxis": {
           "automargin": true,
           "gridcolor": "white",
           "linecolor": "white",
           "ticks": "",
           "title": {
            "standoff": 15
           },
           "zerolinecolor": "white",
           "zerolinewidth": 2
          },
          "yaxis": {
           "automargin": true,
           "gridcolor": "white",
           "linecolor": "white",
           "ticks": "",
           "title": {
            "standoff": 15
           },
           "zerolinecolor": "white",
           "zerolinewidth": 2
          }
         }
        },
        "title": {
         "text": "Rapgef2: Poly-A Oligo-dt primed, B Wold, ENCODE"
        }
       }
      },
      "text/html": [
       "<div>\n",
       "        \n",
       "        \n",
       "            <div id=\"4118249a-f521-4916-970c-4708ab0a2a4f\" class=\"plotly-graph-div\" style=\"height:525px; width:100%;\"></div>\n",
       "            <script type=\"text/javascript\">\n",
       "                require([\"plotly\"], function(Plotly) {\n",
       "                    window.PLOTLYENV=window.PLOTLYENV || {};\n",
       "                    \n",
       "                if (document.getElementById(\"4118249a-f521-4916-970c-4708ab0a2a4f\")) {\n",
       "                    Plotly.newPlot(\n",
       "                        '4118249a-f521-4916-970c-4708ab0a2a4f',\n",
       "                        [{\"cells\": {\"align\": \"left\", \"fill\": {\"color\": \"lavender\"}, \"values\": [[\"10.5\", \"10.5\", \"10.5\", \"10.5\", \"10.5\", \"10.5\", \"10.5\", \"10.5\", \"10.5\", \"10.5\", \"10.5\", \"10.5\", \"10.5\", \"10.5\", \"10.5\", \"10.5\", \"11.5\", \"11.5\", \"11.5\", \"11.5\", \"11.5\", \"11.5\", \"11.5\", \"11.5\", \"11.5\", \"11.5\", \"11.5\", \"11.5\", \"11.5\", \"11.5\", \"11.5\", \"11.5\", \"11.5\", \"11.5\", \"11.5\", \"11.5\", \"12.5\", \"12.5\", \"12.5\", \"12.5\", \"12.5\", \"12.5\", \"12.5\", \"12.5\", \"12.5\", \"12.5\", \"12.5\", \"12.5\", \"12.5\", \"12.5\", \"12.5\", \"12.5\", \"12.5\", \"12.5\", \"12.5\", \"12.5\", \"13.5\", \"13.5\", \"13.5\", \"13.5\", \"13.5\", \"13.5\", \"13.5\", \"13.5\", \"13.5\", \"13.5\", \"13.5\", \"13.5\", \"13.5\", \"13.5\", \"13.5\", \"13.5\", \"13.5\", \"13.5\", \"13.5\", \"13.5\", \"14.5\", \"14.5\", \"14.5\", \"14.5\", \"14.5\", \"14.5\", \"14.5\", \"14.5\", \"14.5\", \"14.5\", \"14.5\", \"14.5\", \"14.5\", \"14.5\", \"14.5\", \"14.5\", \"14.5\", \"14.5\", \"14.5\", \"14.5\", \"15.5\", \"15.5\", \"15.5\", \"15.5\", \"15.5\", \"15.5\", \"15.5\", \"15.5\", \"15.5\", \"15.5\", \"15.5\", \"15.5\", \"15.5\", \"15.5\", \"15.5\", \"15.5\", \"15.5\", \"15.5\", \"15.5\", \"15.5\", \"16.5\", \"16.5\", \"16.5\", \"16.5\", \"16.5\", \"16.5\", \"16.5\", \"16.5\", \"16.5\", \"16.5\", \"16.5\", \"16.5\", \"16.5\", \"16.5\", \"16.5\", \"16.5\", \"16.5\", \"16.5\", \"16.5\", \"16.5\", \"p0\", \"p0\", \"p0\", \"p0\", \"p0\", \"p0\", \"p0\", \"p0\", \"p0\", \"p0\", \"p0\", \"p0\", \"p0\", \"p0\", \"p0\", \"p0\", \"p0\", \"p0\", \"p0\", \"p0\"], [\"midbrain\", \"hindbrain\", \"midbrain\", \"midbrain\", \"midbrain\", \"midbrain\", \"forebrain\", \"forebrain\", \"midbrain\", \"forebrain\", \"forebrain\", \"hindbrain\", \"hindbrain\", \"hindbrain\", \"midbrain\", \"midbrain\", \"liver\", \"hindbrain\", \"hindbrain\", \"forebrain\", \"midbrain\", \"forebrain\", \"heart\", \"liver\", \"midbrain\", \"hindbrain\", \"liver\", \"midbrain\", \"hindbrain\", \"forebrain\", \"heart\", \"forebrain\", \"heart\", \"liver\", \"heart\", \"midbrain\", \"heart\", \"liver\", \"midbrain\", \"hindbrain\", \"midbrain\", \"forebrain\", \"forebrain\", \"liver\", \"hindbrain\", \"heart\", \"heart\", \"hindbrain\", \"liver\", \"midbrain\", \"midbrain\", \"heart\", \"forebrain\", \"liver\", \"forebrain\", \"hindbrain\", \"liver\", \"forebrain\", \"heart\", \"hindbrain\", \"forebrain\", \"midbrain\", \"hindbrain\", \"midbrain\", \"forebrain\", \"forebrain\", \"heart\", \"liver\", \"heart\", \"midbrain\", \"liver\", \"liver\", \"heart\", \"midbrain\", \"hindbrain\", \"hindbrain\", \"liver\", \"midbrain\", \"hindbrain\", \"liver\", \"hindbrain\", \"forebrain\", \"midbrain\", \"forebrain\", \"heart\", \"heart\", \"heart\", \"midbrain\", \"hindbrain\", \"liver\", \"forebrain\", \"hindbrain\", \"midbrain\", \"heart\", \"liver\", \"forebrain\", \"hindbrain\", \"midbrain\", \"heart\", \"liver\", \"forebrain\", \"liver\", \"midbrain\", \"heart\", \"forebrain\", \"forebrain\", \"hindbrain\", \"midbrain\", \"heart\", \"liver\", \"liver\", \"hindbrain\", \"hindbrain\", \"midbrain\", \"heart\", \"forebrain\", \"hindbrain\", \"heart\", \"hindbrain\", \"heart\", \"midbrain\", \"liver\", \"forebrain\", \"liver\", \"midbrain\", \"midbrain\", \"liver\", \"heart\", \"hindbrain\", \"forebrain\", \"midbrain\", \"forebrain\", \"liver\", \"heart\", \"hindbrain\", \"forebrain\", \"liver\", \"forebrain\", \"forebrain\", \"heart\", \"midbrain\", \"forebrain\", \"hindbrain\", \"liver\", \"liver\", \"heart\", \"hindbrain\", \"hindbrain\", \"midbrain\", \"heart\", \"heart\", \"midbrain\", \"liver\", \"forebrain\", \"midbrain\", \"hindbrain\"], [\"FPKM\", \"FPKM\", \"FPKM\", \"FPKM\", \"TPM\", \"TPM\", \"TPM\", \"FPKM\", \"TPM\", \"TPM\", \"FPKM\", \"FPKM\", \"TPM\", \"TPM\", \"FPKM\", \"TPM\", \"TPM\", \"FPKM\", \"TPM\", \"FPKM\", \"FPKM\", \"TPM\", \"FPKM\", \"FPKM\", \"TPM\", \"TPM\", \"TPM\", \"TPM\", \"FPKM\", \"TPM\", \"TPM\", \"FPKM\", \"TPM\", \"FPKM\", \"FPKM\", \"FPKM\", \"TPM\", \"TPM\", \"FPKM\", \"FPKM\", \"FPKM\", \"FPKM\", \"FPKM\", \"FPKM\", \"FPKM\", \"FPKM\", \"FPKM\", \"TPM\", \"FPKM\", \"TPM\", \"TPM\", \"TPM\", \"TPM\", \"TPM\", \"TPM\", \"TPM\", \"TPM\", \"TPM\", \"TPM\", \"FPKM\", \"FPKM\", \"FPKM\", \"FPKM\", \"FPKM\", \"TPM\", \"FPKM\", \"FPKM\", \"FPKM\", \"TPM\", \"TPM\", \"FPKM\", \"TPM\", \"FPKM\", \"TPM\", \"TPM\", \"TPM\", \"FPKM\", \"FPKM\", \"TPM\", \"FPKM\", \"FPKM\", \"FPKM\", \"FPKM\", \"TPM\", \"TPM\", \"FPKM\", \"FPKM\", \"TPM\", \"TPM\", \"TPM\", \"FPKM\", \"FPKM\", \"TPM\", \"TPM\", \"TPM\", \"TPM\", \"FPKM\", \"FPKM\", \"FPKM\", \"FPKM\", \"FPKM\", \"FPKM\", \"FPKM\", \"TPM\", \"TPM\", \"FPKM\", \"FPKM\", \"TPM\", \"FPKM\", \"TPM\", \"TPM\", \"TPM\", \"TPM\", \"TPM\", \"TPM\", \"TPM\", \"TPM\", \"FPKM\", \"FPKM\", \"TPM\", \"FPKM\", \"TPM\", \"TPM\", \"FPKM\", \"TPM\", \"TPM\", \"FPKM\", \"FPKM\", \"FPKM\", \"FPKM\", \"FPKM\", \"TPM\", \"TPM\", \"TPM\", \"TPM\", \"FPKM\", \"FPKM\", \"TPM\", \"FPKM\", \"FPKM\", \"FPKM\", \"FPKM\", \"FPKM\", \"TPM\", \"FPKM\", \"FPKM\", \"TPM\", \"FPKM\", \"FPKM\", \"TPM\", \"TPM\", \"TPM\", \"TPM\", \"TPM\", \"TPM\", \"TPM\"], [2.13, 2.77, 2.61, 2.49, 3.3, 4.19, 4.4, 2.42, 4.03, 3.76, 2.8, 2.58, 4.01, 4.16, 2.69, 3.7, 2.35, 3.83, 5.59, 4.19, 3.11, 6.73, 3.19, 1.77, 4.04, 5.05, 2.18, 4.78, 3.27, 7.32, 4.21, 4.56, 4.03, 1.56, 2.94, 2.59, 6.89, 1.95, 5.51, 5.9, 4.82, 5.02, 4.55, 1.53, 5.89, 4.62, 5.11, 10.01, 1.63, 9.15, 8.04, 7.52, 8.4, 1.82, 7.49, 9.85, 0.81, 6.3, 3.81, 4.85, 3.96, 4.43, 4.22, 3.98, 6.3, 4.15, 2.54, 0.91, 3.18, 6.38, 0.77, 1.02, 2.89, 6.94, 7.71, 6.75, 1.41, 7.54, 13.03, 0.99, 6.74, 5.41, 6.94, 8.98, 6.21, 4.56, 4.15, 11.86, 11.01, 1.4, 5.23, 7.6, 11.91, 5.71, 0.95, 8.07, 6.53, 7.27, 3.65, 0.86, 5.93, 1.31, 6.98, 4.72, 9.43, 5.78, 6.67, 12.13, 3.45, 1.41, 0.9, 10.4, 10.89, 11.7, 4.71, 9.81, 9.18, 2.87, 5.62, 3.91, 7.6, 0.9, 11.11, 0.85, 13.08, 13.0, 1.15, 3.27, 6.18, 6.52, 7.66, 9.19, 1.24, 4.55, 10.45, 5.28, 1.31, 7.73, 4.8, 2.14, 5.2, 3.12, 4.76, 1.53, 1.32, 2.21, 6.88, 4.47, 5.07, 2.68, 2.53, 8.31, 1.55, 4.49, 8.19, 7.41]]}, \"header\": {\"align\": \"left\", \"fill\": {\"color\": \"paleturquoise\"}, \"values\": [\"Age\", \"Tissue\", \"variable\", \"value\"]}, \"type\": \"table\"}],\n",
       "                        {\"template\": {\"data\": {\"bar\": [{\"error_x\": {\"color\": \"#2a3f5f\"}, \"error_y\": {\"color\": \"#2a3f5f\"}, \"marker\": {\"line\": {\"color\": \"#E5ECF6\", \"width\": 0.5}}, \"type\": \"bar\"}], \"barpolar\": [{\"marker\": {\"line\": {\"color\": \"#E5ECF6\", \"width\": 0.5}}, \"type\": \"barpolar\"}], \"carpet\": [{\"aaxis\": {\"endlinecolor\": \"#2a3f5f\", \"gridcolor\": \"white\", \"linecolor\": \"white\", \"minorgridcolor\": \"white\", \"startlinecolor\": \"#2a3f5f\"}, \"baxis\": {\"endlinecolor\": \"#2a3f5f\", \"gridcolor\": \"white\", \"linecolor\": \"white\", \"minorgridcolor\": \"white\", \"startlinecolor\": \"#2a3f5f\"}, \"type\": \"carpet\"}], \"choropleth\": [{\"colorbar\": {\"outlinewidth\": 0, \"ticks\": \"\"}, \"type\": \"choropleth\"}], \"contour\": [{\"colorbar\": {\"outlinewidth\": 0, \"ticks\": \"\"}, \"colorscale\": [[0.0, \"#0d0887\"], [0.1111111111111111, \"#46039f\"], [0.2222222222222222, \"#7201a8\"], [0.3333333333333333, \"#9c179e\"], [0.4444444444444444, \"#bd3786\"], [0.5555555555555556, \"#d8576b\"], [0.6666666666666666, \"#ed7953\"], [0.7777777777777778, \"#fb9f3a\"], [0.8888888888888888, \"#fdca26\"], [1.0, \"#f0f921\"]], \"type\": \"contour\"}], \"contourcarpet\": [{\"colorbar\": {\"outlinewidth\": 0, \"ticks\": \"\"}, \"type\": \"contourcarpet\"}], \"heatmap\": [{\"colorbar\": {\"outlinewidth\": 0, \"ticks\": \"\"}, \"colorscale\": [[0.0, \"#0d0887\"], [0.1111111111111111, \"#46039f\"], [0.2222222222222222, \"#7201a8\"], [0.3333333333333333, \"#9c179e\"], [0.4444444444444444, \"#bd3786\"], [0.5555555555555556, \"#d8576b\"], [0.6666666666666666, \"#ed7953\"], [0.7777777777777778, \"#fb9f3a\"], [0.8888888888888888, \"#fdca26\"], [1.0, \"#f0f921\"]], \"type\": \"heatmap\"}], \"heatmapgl\": [{\"colorbar\": {\"outlinewidth\": 0, \"ticks\": \"\"}, \"colorscale\": [[0.0, \"#0d0887\"], [0.1111111111111111, \"#46039f\"], [0.2222222222222222, \"#7201a8\"], [0.3333333333333333, \"#9c179e\"], [0.4444444444444444, \"#bd3786\"], [0.5555555555555556, \"#d8576b\"], [0.6666666666666666, \"#ed7953\"], [0.7777777777777778, \"#fb9f3a\"], [0.8888888888888888, \"#fdca26\"], [1.0, \"#f0f921\"]], \"type\": \"heatmapgl\"}], \"histogram\": [{\"marker\": {\"colorbar\": {\"outlinewidth\": 0, \"ticks\": \"\"}}, \"type\": \"histogram\"}], \"histogram2d\": [{\"colorbar\": {\"outlinewidth\": 0, \"ticks\": \"\"}, \"colorscale\": [[0.0, \"#0d0887\"], [0.1111111111111111, \"#46039f\"], [0.2222222222222222, \"#7201a8\"], [0.3333333333333333, \"#9c179e\"], [0.4444444444444444, \"#bd3786\"], [0.5555555555555556, \"#d8576b\"], [0.6666666666666666, \"#ed7953\"], [0.7777777777777778, \"#fb9f3a\"], [0.8888888888888888, \"#fdca26\"], [1.0, \"#f0f921\"]], \"type\": \"histogram2d\"}], \"histogram2dcontour\": [{\"colorbar\": {\"outlinewidth\": 0, \"ticks\": \"\"}, \"colorscale\": [[0.0, \"#0d0887\"], [0.1111111111111111, \"#46039f\"], [0.2222222222222222, \"#7201a8\"], [0.3333333333333333, \"#9c179e\"], [0.4444444444444444, \"#bd3786\"], [0.5555555555555556, \"#d8576b\"], [0.6666666666666666, \"#ed7953\"], [0.7777777777777778, \"#fb9f3a\"], [0.8888888888888888, \"#fdca26\"], [1.0, \"#f0f921\"]], \"type\": \"histogram2dcontour\"}], \"mesh3d\": [{\"colorbar\": {\"outlinewidth\": 0, \"ticks\": \"\"}, \"type\": \"mesh3d\"}], \"parcoords\": [{\"line\": {\"colorbar\": {\"outlinewidth\": 0, \"ticks\": \"\"}}, \"type\": \"parcoords\"}], \"pie\": [{\"automargin\": true, \"type\": \"pie\"}], \"scatter\": [{\"marker\": {\"colorbar\": {\"outlinewidth\": 0, \"ticks\": \"\"}}, \"type\": \"scatter\"}], \"scatter3d\": [{\"line\": {\"colorbar\": {\"outlinewidth\": 0, \"ticks\": \"\"}}, \"marker\": {\"colorbar\": {\"outlinewidth\": 0, \"ticks\": \"\"}}, \"type\": \"scatter3d\"}], \"scattercarpet\": [{\"marker\": {\"colorbar\": {\"outlinewidth\": 0, \"ticks\": \"\"}}, \"type\": \"scattercarpet\"}], \"scattergeo\": [{\"marker\": {\"colorbar\": {\"outlinewidth\": 0, \"ticks\": \"\"}}, \"type\": \"scattergeo\"}], \"scattergl\": [{\"marker\": {\"colorbar\": {\"outlinewidth\": 0, \"ticks\": \"\"}}, \"type\": \"scattergl\"}], \"scattermapbox\": [{\"marker\": {\"colorbar\": {\"outlinewidth\": 0, \"ticks\": \"\"}}, \"type\": \"scattermapbox\"}], \"scatterpolar\": [{\"marker\": {\"colorbar\": {\"outlinewidth\": 0, \"ticks\": \"\"}}, \"type\": \"scatterpolar\"}], \"scatterpolargl\": [{\"marker\": {\"colorbar\": {\"outlinewidth\": 0, \"ticks\": \"\"}}, \"type\": \"scatterpolargl\"}], \"scatterternary\": [{\"marker\": {\"colorbar\": {\"outlinewidth\": 0, \"ticks\": \"\"}}, \"type\": \"scatterternary\"}], \"surface\": [{\"colorbar\": {\"outlinewidth\": 0, \"ticks\": \"\"}, \"colorscale\": [[0.0, \"#0d0887\"], [0.1111111111111111, \"#46039f\"], [0.2222222222222222, \"#7201a8\"], [0.3333333333333333, \"#9c179e\"], [0.4444444444444444, \"#bd3786\"], [0.5555555555555556, \"#d8576b\"], [0.6666666666666666, \"#ed7953\"], [0.7777777777777778, \"#fb9f3a\"], [0.8888888888888888, \"#fdca26\"], [1.0, \"#f0f921\"]], \"type\": \"surface\"}], \"table\": [{\"cells\": {\"fill\": {\"color\": \"#EBF0F8\"}, \"line\": {\"color\": \"white\"}}, \"header\": {\"fill\": {\"color\": \"#C8D4E3\"}, \"line\": {\"color\": \"white\"}}, \"type\": \"table\"}]}, \"layout\": {\"annotationdefaults\": {\"arrowcolor\": \"#2a3f5f\", \"arrowhead\": 0, \"arrowwidth\": 1}, \"coloraxis\": {\"colorbar\": {\"outlinewidth\": 0, \"ticks\": \"\"}}, \"colorscale\": {\"diverging\": [[0, \"#8e0152\"], [0.1, \"#c51b7d\"], [0.2, \"#de77ae\"], [0.3, \"#f1b6da\"], [0.4, \"#fde0ef\"], [0.5, \"#f7f7f7\"], [0.6, \"#e6f5d0\"], [0.7, \"#b8e186\"], [0.8, \"#7fbc41\"], [0.9, \"#4d9221\"], [1, \"#276419\"]], \"sequential\": [[0.0, \"#0d0887\"], [0.1111111111111111, \"#46039f\"], [0.2222222222222222, \"#7201a8\"], [0.3333333333333333, \"#9c179e\"], [0.4444444444444444, \"#bd3786\"], [0.5555555555555556, \"#d8576b\"], [0.6666666666666666, \"#ed7953\"], [0.7777777777777778, \"#fb9f3a\"], [0.8888888888888888, \"#fdca26\"], [1.0, \"#f0f921\"]], \"sequentialminus\": [[0.0, \"#0d0887\"], [0.1111111111111111, \"#46039f\"], [0.2222222222222222, \"#7201a8\"], [0.3333333333333333, \"#9c179e\"], [0.4444444444444444, \"#bd3786\"], [0.5555555555555556, \"#d8576b\"], [0.6666666666666666, \"#ed7953\"], [0.7777777777777778, \"#fb9f3a\"], [0.8888888888888888, \"#fdca26\"], [1.0, \"#f0f921\"]]}, \"colorway\": [\"#636efa\", \"#EF553B\", \"#00cc96\", \"#ab63fa\", \"#FFA15A\", \"#19d3f3\", \"#FF6692\", \"#B6E880\", \"#FF97FF\", \"#FECB52\"], \"font\": {\"color\": \"#2a3f5f\"}, \"geo\": {\"bgcolor\": \"white\", \"lakecolor\": \"white\", \"landcolor\": \"#E5ECF6\", \"showlakes\": true, \"showland\": true, \"subunitcolor\": \"white\"}, \"hoverlabel\": {\"align\": \"left\"}, \"hovermode\": \"closest\", \"mapbox\": {\"style\": \"light\"}, \"paper_bgcolor\": \"white\", \"plot_bgcolor\": \"#E5ECF6\", \"polar\": {\"angularaxis\": {\"gridcolor\": \"white\", \"linecolor\": \"white\", \"ticks\": \"\"}, \"bgcolor\": \"#E5ECF6\", \"radialaxis\": {\"gridcolor\": \"white\", \"linecolor\": \"white\", \"ticks\": \"\"}}, \"scene\": {\"xaxis\": {\"backgroundcolor\": \"#E5ECF6\", \"gridcolor\": \"white\", \"gridwidth\": 2, \"linecolor\": \"white\", \"showbackground\": true, \"ticks\": \"\", \"zerolinecolor\": \"white\"}, \"yaxis\": {\"backgroundcolor\": \"#E5ECF6\", \"gridcolor\": \"white\", \"gridwidth\": 2, \"linecolor\": \"white\", \"showbackground\": true, \"ticks\": \"\", \"zerolinecolor\": \"white\"}, \"zaxis\": {\"backgroundcolor\": \"#E5ECF6\", \"gridcolor\": \"white\", \"gridwidth\": 2, \"linecolor\": \"white\", \"showbackground\": true, \"ticks\": \"\", \"zerolinecolor\": \"white\"}}, \"shapedefaults\": {\"line\": {\"color\": \"#2a3f5f\"}}, \"ternary\": {\"aaxis\": {\"gridcolor\": \"white\", \"linecolor\": \"white\", \"ticks\": \"\"}, \"baxis\": {\"gridcolor\": \"white\", \"linecolor\": \"white\", \"ticks\": \"\"}, \"bgcolor\": \"#E5ECF6\", \"caxis\": {\"gridcolor\": \"white\", \"linecolor\": \"white\", \"ticks\": \"\"}}, \"title\": {\"x\": 0.05}, \"xaxis\": {\"automargin\": true, \"gridcolor\": \"white\", \"linecolor\": \"white\", \"ticks\": \"\", \"title\": {\"standoff\": 15}, \"zerolinecolor\": \"white\", \"zerolinewidth\": 2}, \"yaxis\": {\"automargin\": true, \"gridcolor\": \"white\", \"linecolor\": \"white\", \"ticks\": \"\", \"title\": {\"standoff\": 15}, \"zerolinecolor\": \"white\", \"zerolinewidth\": 2}}}, \"title\": {\"text\": \"Rapgef2: Poly-A Oligo-dt primed, B Wold, ENCODE\"}},\n",
       "                        {\"responsive\": true}\n",
       "                    ).then(function(){\n",
       "                            \n",
       "var gd = document.getElementById('4118249a-f521-4916-970c-4708ab0a2a4f');\n",
       "var x = new MutationObserver(function (mutations, observer) {{\n",
       "        var display = window.getComputedStyle(gd).display;\n",
       "        if (!display || display === 'none') {{\n",
       "            console.log([gd, 'removed!']);\n",
       "            Plotly.purge(gd);\n",
       "            observer.disconnect();\n",
       "        }}\n",
       "}});\n",
       "\n",
       "// Listen for the removal of the full notebook cells\n",
       "var notebookContainer = gd.closest('#notebook-container');\n",
       "if (notebookContainer) {{\n",
       "    x.observe(notebookContainer, {childList: true});\n",
       "}}\n",
       "\n",
       "// Listen for the clearing of the current output cell\n",
       "var outputEl = gd.closest('.output');\n",
       "if (outputEl) {{\n",
       "    x.observe(outputEl, {childList: true});\n",
       "}}\n",
       "\n",
       "                        })\n",
       "                };\n",
       "                });\n",
       "            </script>\n",
       "        </div>"
      ]
     },
     "metadata": {},
     "output_type": "display_data"
    }
   ],
   "source": [
    "import plotly.express as px\n",
    "import plotly.graph_objects as go\n",
    "fig = px.bar(df1, x=\"Tissue\", y=\"value\", color = \"Age\", \n",
    "                    facet_col = \"variable\",\n",
    "             #facet_wrap = 4,\n",
    "                    width=1000, height=600,\n",
    "                    #hover_name = \"cluster_label\",\n",
    "                    #hover_data = [\"higher_cluster\", \"Cell_Type\", \"Expression\"]\n",
    "                    )\n",
    "for a in fig.layout.annotations:\n",
    "    a.text = a.text.split(\"=\")[1]\n",
    "fig.update_yaxes(title_text='')\n",
    "fig.update_layout(\n",
    "    title=\"Rapgef2: Poly-A Oligo-dt primed, B Wold, ENCODE\",\n",
    "    xaxis_title=\"Cell Type\",\n",
    "    yaxis_title=\"Expression\",\n",
    "xaxis={'categoryorder':'total descending'})\n",
    "\n",
    "#fig.update_layout(barmode='stack', xaxis={'categoryorder':'category ascending'})\n",
    "\n",
    "\n",
    "fig.show()\n",
    "\n",
    "            ## print table\n",
    "fig2 = go.Figure(data=[go.Table(\n",
    "    header=dict(values=list(df1.columns),\n",
    "                fill_color='paleturquoise',\n",
    "                align='left'),\n",
    "    cells=dict(values=[df1.Age,df1.Tissue, df1.variable, df1.value],\n",
    "               fill_color='lavender',\n",
    "               align='left'))\n",
    "])\n",
    "\n",
    "\n",
    "fig2.update_layout(title=\"Rapgef2: Poly-A Oligo-dt primed, B Wold, ENCODE\")\n",
    "fig2.show()\n"
   ]
  },
  {
   "cell_type": "code",
   "execution_count": null,
   "metadata": {},
   "outputs": [],
   "source": []
  }
 ],
 "metadata": {
  "celltoolbar": "Hide code",
  "kernelspec": {
   "display_name": "Python 3",
   "language": "python",
   "name": "python3"
  },
  "language_info": {
   "codemirror_mode": {
    "name": "ipython",
    "version": 3
   },
   "file_extension": ".py",
   "mimetype": "text/x-python",
   "name": "python",
   "nbconvert_exporter": "python",
   "pygments_lexer": "ipython3",
   "version": "3.7.6"
  }
 },
 "nbformat": 4,
 "nbformat_minor": 4
}
