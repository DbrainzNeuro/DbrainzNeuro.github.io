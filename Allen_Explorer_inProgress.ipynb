{
 "cells": [
  {
   "cell_type": "markdown",
   "metadata": {
    "hideCode": false,
    "hidePrompt": false
   },
   "source": [
    "# Press the Double Arrow above to Begin, then click red pop-up to confirm"
   ]
  },
  {
   "cell_type": "code",
   "execution_count": 1,
   "metadata": {
    "hide_input": true
   },
   "outputs": [],
   "source": [
    "from IPython.display import HTML"
   ]
  },
  {
   "cell_type": "code",
   "execution_count": 16,
   "metadata": {
    "hide_input": true
   },
   "outputs": [
    {
     "data": {
      "text/html": [
       "<script>\n",
       "code_show=true; \n",
       "function code_toggle() {\n",
       " if (code_show){\n",
       " $('div.input').hide();\n",
       " } else {\n",
       " $('div.input').show();\n",
       " }\n",
       " code_show = code_show\n",
       "} \n",
       "$( document ).ready(code_toggle);\n",
       "</script>\n",
       "The raw code for this IPython notebook is by default hidden for easier reading.\n",
       "To toggle on/off the raw code, click <a href=\"javascript:code_toggle()\">here</a>."
      ],
      "text/plain": [
       "<IPython.core.display.HTML object>"
      ]
     },
     "execution_count": 16,
     "metadata": {},
     "output_type": "execute_result"
    }
   ],
   "source": [
    "HTML('''<script>\n",
    "code_show=true; \n",
    "function code_toggle() {\n",
    " if (code_show){\n",
    " $('div.input').hide();\n",
    " } else {\n",
    " $('div.input').show();\n",
    " }\n",
    " code_show = code_show\n",
    "} \n",
    "$( document ).ready(code_toggle);\n",
    "</script>\n",
    "The raw code for this IPython notebook is by default hidden for easier reading.\n",
    "To toggle on/off the raw code, click <a href=\"javascript:code_toggle()\">here</a>.''')"
   ]
  },
  {
   "cell_type": "code",
   "execution_count": 3,
   "metadata": {
    "hideCode": false,
    "hidePrompt": true,
    "hide_input": false,
    "scrolled": true
   },
   "outputs": [
    {
     "data": {
      "text/plain": [
       "\"Loading Allen Transcriptomics Single-Cell RNAseq data, retreived May 2020. Be patient, it's loading!\""
      ]
     },
     "metadata": {},
     "output_type": "display_data"
    }
   ],
   "source": [
    "display(\"Loading Allen Transcriptomics Single-Cell RNAseq data, retreived May 2020. Be patient, it's loading!\")"
   ]
  },
  {
   "cell_type": "code",
   "execution_count": 4,
   "metadata": {
    "hideCode": false,
    "hidePrompt": true,
    "hide_input": true
   },
   "outputs": [
    {
     "data": {
      "text/html": [
       "<style>\n",
       ".output_wrapper, .output {\n",
       "    height:auto !important;\n",
       "    max-height:1000px;  /* your desired max-height here */\n",
       "}\n",
       ".output_scroll {\n",
       "    box-shadow:none !important;\n",
       "    webkit-box-shadow:none !important;\n",
       "}\n",
       "</style>\n"
      ],
      "text/plain": [
       "<IPython.core.display.HTML object>"
      ]
     },
     "metadata": {},
     "output_type": "display_data"
    }
   ],
   "source": [
    "%%html\n",
    "<style>\n",
    ".output_wrapper, .output {\n",
    "    height:auto !important;\n",
    "    max-height:1000px;  /* your desired max-height here */\n",
    "}\n",
    ".output_scroll {\n",
    "    box-shadow:none !important;\n",
    "    webkit-box-shadow:none !important;\n",
    "}\n",
    "</style>"
   ]
  },
  {
   "cell_type": "code",
   "execution_count": 5,
   "metadata": {
    "hideCode": false,
    "hidePrompt": true,
    "hide_input": true
   },
   "outputs": [],
   "source": [
    "%%capture\n",
    "!pip install dropbox"
   ]
  },
  {
   "cell_type": "code",
   "execution_count": 6,
   "metadata": {
    "hideCode": false,
    "hidePrompt": true,
    "hide_input": true
   },
   "outputs": [],
   "source": [
    "import matplotlib \n",
    "import ipywidgets as widgets\n",
    "import pandas as pd\n",
    "import io\n",
    "import seaborn as sns\n",
    "import openpyxl\n",
    "import dropbox\n",
    "from IPython.display import display\n",
    "from ipywidgets import interact_manual, interactive,GridspecLayout, AppLayout, Button, Layout"
   ]
  },
  {
   "cell_type": "code",
   "execution_count": 7,
   "metadata": {
    "hideCode": false,
    "hidePrompt": true,
    "hide_input": true
   },
   "outputs": [],
   "source": [
    "##get data from dropbox\n",
    "DBX = dropbox.Dropbox('bb3H-rx_L8IAAAAAAAAPdR77ZBO4BYfjelCVEH8kkSj04MX4vx4RrPFfN0cfJ3tm')\n",
    "\n",
    "_, res = DBX.files_download(\"/human_means.csv\")\n",
    "\n",
    "with io.BytesIO(res.content) as stream:\n",
    "    human_means = pd.read_csv(stream, index_col=0)\n",
    "\n",
    "_, res2 = DBX.files_download(\"/mouse_medians.csv\")\n",
    "with io.BytesIO(res2.content) as stream:\n",
    "    meds = pd.read_csv(stream, index_col=0)   \n",
    "    \n",
    "\n",
    "# Get all gene and cell type names: HUMAN\n",
    "human_listOfColumnNames = list(human_means.columns.values)\n",
    "human_idx = list(human_means.index)\n",
    "# Get all gene and cell type: MOUSE\n",
    "mouse_listOfColumnNames = list(meds.columns.values)\n",
    "idx = list(meds.index)"
   ]
  },
  {
   "cell_type": "code",
   "execution_count": 8,
   "metadata": {
    "hideCode": false,
    "hidePrompt": true,
    "hide_input": true
   },
   "outputs": [
    {
     "data": {
      "text/plain": [
       "'..............'"
      ]
     },
     "metadata": {},
     "output_type": "display_data"
    },
    {
     "data": {
      "text/plain": [
       "'Choose your Species and Graph Type. For Expression level graphs, choose cell types to include. For Venn diagrams, all cell types will be included. Choose genes, pressing Enter after each choice. To produce graphs, press the green Produce Output button.'"
      ]
     },
     "metadata": {},
     "output_type": "display_data"
    }
   ],
   "source": [
    "##define GUI\n",
    "table_style = {'description_width': 'initial'}\n",
    "useidx = ('choose species','then genes will appear')\n",
    "spacer = widgets.Label('')\n",
    "\n",
    "from threading import Timer\n",
    "\n",
    "from traitlets import traitlets\n",
    "\n",
    "class LoadedButton(widgets.Button):\n",
    "    \"\"\"A button that can hold a value as a attribute.\"\"\"\n",
    "\n",
    "    def __init__(self, value=None, *args, **kwargs):\n",
    "        super(LoadedButton, self).__init__(*args, **kwargs)\n",
    "        # Create the value attribute.\n",
    "        self.add_traits(value=traitlets.Any(value))\n",
    "#####################################################        \n",
    "genes = []\n",
    "genetitle = widgets.Label('Select Genes')\n",
    "dropdown =  widgets.Combobox(\n",
    "    options= idx,\n",
    "    description='Gene',\n",
    "    placeholder='Type here',\n",
    "    layout={'width': '80%'})\n",
    "\n",
    "def delay():\n",
    "    gene_button.button_style = ''\n",
    "    gene_button.disabled = False\n",
    "    \n",
    "def choose_gene(change):\n",
    "    if len(genes)<=7:\n",
    "        gene_button.button_style = 'success'\n",
    "        gene_button.disabled = True\n",
    "        genes.append(dropdown.value)     \n",
    "        d = Timer(0.5,delay)\n",
    "        d.start()\n",
    "    if len(genes)>7:       \n",
    "        gene_button.button_style = 'warning'\n",
    "        gene_button.description = \"Max Genes Selected\"\n",
    "        gene_button.disabled = True\n",
    "        \n",
    "gene_button = widgets.Button(description = 'Enter Gene', button_style = '')\n",
    "gene_button.on_click(choose_gene)\n",
    "\n",
    "analysislabel = widgets.Label('Graph Type')        \n",
    "def on_exp_button_clicked(exp):\n",
    "    exp.value = \"exp\"\n",
    "    venn.disabled = True\n",
    "    exp.button_style = 'success'\n",
    "    graphtype = \"Exp\"\n",
    "\n",
    "\n",
    "def on_venn_button_clicked(venn):\n",
    "    venn.value = \"venn\"\n",
    "    venn.button_style = 'success'\n",
    "    exp.disabled = True\n",
    "    graphtype = \"Venn\"\n",
    "    \n",
    "exp = LoadedButton(description=\"Expression Level\", value=\"not exp\")\n",
    "exp.on_click(on_exp_button_clicked)         \n",
    "\n",
    "venn = LoadedButton(description=\"Venn Diagram\", value=\"not venn\")\n",
    "venn.on_click(on_venn_button_clicked)\n",
    "\n",
    "\n",
    "choicelabel = widgets.Label('Analyze species:')\n",
    "msCells = widgets.Button(\n",
    "    description='Mouse',\n",
    "    disabled=False,\n",
    "    button_style='', # 'success', 'info', 'warning', 'danger' or ''\n",
    "    tooltip='Description',\n",
    "    width = '110%')\n",
    "\n",
    "huCells = widgets.Button(\n",
    "    description='Human',\n",
    "    disabled=False,\n",
    "    button_style='', # 'success', 'info', 'warning', 'danger' or ''\n",
    "    tooltip='Description',\n",
    "    width = '110%')\n",
    "\n",
    "#####################################################\n",
    "mscelllabel = widgets.Label('Mouse Cell Clusters:')\n",
    "msCells_drop =widgets.SelectMultiple(\n",
    "    options=mouse_listOfColumnNames,\n",
    "    disabled=True,\n",
    "    rows=17,\n",
    "    layout={'width': 'max-content'},\n",
    "    #style=table_style\n",
    ") \n",
    "\n",
    "hucelllabel = widgets.Label('Human Cell Clusters:')\n",
    "huCells_drop =widgets.SelectMultiple(\n",
    "    options=human_listOfColumnNames,\n",
    "    disabled=True,\n",
    "    rows=17,\n",
    "    layout={'width': 'max-content'},\n",
    "    #style=table_style\n",
    ") \n",
    "\n",
    "def choose_mouse(msCells):\n",
    "    huCells.disabled = True\n",
    "    msCells.button_style = 'success'\n",
    "    msCells_drop.disabled = False\n",
    "    huCells_drop.disabled = True \n",
    "    msCells.value = \"mouse\"\n",
    "\n",
    "msCells.on_click(choose_mouse)\n",
    "\n",
    "def choose_human(huCells):\n",
    "    huCells.button_style = 'success'\n",
    "    msCells.disabled = True\n",
    "    msCells_drop.disabled = True\n",
    "    huCells_drop.disabled = False\n",
    "    huCells.value = \"human\"\n",
    "    dropdown.options = human_idx\n",
    "\n",
    "huCells.on_click(choose_human)\n",
    "\n",
    "msCells = LoadedButton(description=\"Mouse\", value=\"not mouse\")\n",
    "msCells.on_click(choose_mouse)   \n",
    "\n",
    "huCells = LoadedButton(description=\"Human\", value=\"not human\")\n",
    "huCells.on_click(choose_human) \n",
    "dropdown.observe(choose_human, 'change')\n",
    "########################################\n",
    "\n",
    "excel_label = widgets.Text(\n",
    "    value='Name',\n",
    "    placeholder='Type something',\n",
    "    description='Name Excel:',\n",
    "    disabled=False\n",
    ")\n",
    "\n",
    "go_button = widgets.Button(description = 'Produce Output', \n",
    "                           button_style = 'success', \n",
    "                            display='flex',\n",
    "                            flex_flow='column',\n",
    "                            align_items='stretch')\n",
    "reset_button = widgets.Button(description = 'Reset Options',\n",
    "                              button_style = 'warning',\n",
    "                            display='flex',\n",
    "                            flex_flow='column',\n",
    "                            align_items='stretch',\n",
    "                             width = 'auto')\n",
    "\n",
    "from ipywidgets import Widget\n",
    "cells =[]\n",
    "def on_go_button_clicked(go_button):\n",
    "    excelname = excel_label.value + \".xlsx\"\n",
    "    if huCells.value == 'human':\n",
    "        cells.append(huCells_drop.value)\n",
    "    else:\n",
    "        cells.append(msCells_drop.value)\n",
    "    if venn.value == \"venn\":\n",
    "        venngraph(genes, excelname)\n",
    "        \n",
    "    if exp.value == \"exp\":\n",
    "        expgraph(genes,cells,excelname)\n",
    "\n",
    "def on_reset_button_clicked(reset_button):  \n",
    "    Widget.close_all()\n",
    "    \n",
    "go_button.observe(huCells, 'value')\n",
    "go_button.observe(venn, 'value')    \n",
    "go_button.observe(exp, 'value')    \n",
    "go_button.on_click(on_go_button_clicked)\n",
    "reset_button.on_click(on_reset_button_clicked)\n",
    "\n",
    "\n",
    "\n",
    "spacervenn = widgets.VBox([spacer,venn])\n",
    "specieschoices = widgets.VBox([choicelabel,msCells, mscelllabel, msCells_drop])\n",
    "spacerhuman = widgets.VBox([spacer, huCells,hucelllabel, huCells_drop])\n",
    "genesbox = widgets.VBox([genetitle,dropdown, gene_button])\n",
    "buttons = widgets.HBox([go_button, spacer, reset_button])\n",
    "graphchoices = widgets.VBox([analysislabel, exp, venn, spacer, spacer, genesbox,spacer, spacer, excel_label, buttons])\n",
    "graphs2 = widgets.HBox([graphchoices])\n",
    "####################################################\n",
    "display(\"..............\")\n",
    "display(\"Choose your Species and Graph Type. For Expression level graphs, choose cell types to include. For Venn diagrams, all cell types will be included. Choose genes, pressing Enter after each choice. To produce graphs, press the green Produce Output button.\")"
   ]
  },
  {
   "cell_type": "code",
   "execution_count": 9,
   "metadata": {
    "hideCode": false,
    "hidePrompt": true,
    "hide_input": false
   },
   "outputs": [],
   "source": [
    "%matplotlib notebook\n",
    "\n",
    "def expgraph(genes, cells, excelname): \n",
    "    \n",
    "    if msCells.value == 'mouse':\n",
    "        bigframe = meds\n",
    "        cells = msCells_drop.value\n",
    "    if huCells.value == 'human':\n",
    "        bigframe = human_means\n",
    "        cells = huCells_drop.value\n",
    "\n",
    "    newdf = pd.DataFrame(columns = ['Cells','Genes','Expression'])\n",
    "    newdf['Cells'] = cells * len(genes)\n",
    "\n",
    "\n",
    "    genelist=[]\n",
    "    for i in range(len(genes)):\n",
    "        genea = [genes[i]]*len(cells)\n",
    "        genelist.append(genea)\n",
    "    flat_geneslist = [item for sublist in genelist for item in sublist]\n",
    "    newdf['Genes'] = flat_geneslist\n",
    "\n",
    "    expressions =[]\n",
    "    for i in range(len(genes)*len(cells)):\n",
    "        value1 = bigframe.loc[newdf['Genes'][i], newdf['Cells'][i]]\n",
    "        expressions.append(value1)\n",
    "    newdf['Expression'] = expressions\n",
    "\n",
    "    if len(newdf['Expression'])>0:\n",
    "        maxm = max(newdf[\"Expression\"])\n",
    "    \n",
    "    writer = pd.ExcelWriter(excelname, engine='openpyxl')\n",
    "    newdf.to_excel(writer, sheet_name='Sheet1')\n",
    "    writer.save()\n",
    "    \n",
    "    sns.set_palette(\"colorblind\", 10)\n",
    "    g = sns.catplot(x=\"Genes\", y=\"Expression\", col=\"Cells\",\n",
    "                    data=newdf, \n",
    "                    saturation=1,\n",
    "                    kind=\"bar\", \n",
    "                    ci=None, \n",
    "                    aspect=.6, \n",
    "                    edgecolor=\"k\", \n",
    "                    linewidth=1\n",
    "                    )\n",
    "\n",
    "\n",
    "    (g.set_axis_labels(\"\", \"Expression\")\n",
    "          .set_xticklabels(genes)\n",
    "          .set_titles(\"{col_name}\")\n",
    "          .set(ylim=(0, (maxm + 2)))\n",
    "          .despine(left=True))  \n",
    "\n",
    "    for ax in g.axes.ravel():\n",
    "            ax.set_xticklabels(ax.get_xticklabels(), rotation=45, horizontalalignment='right')\n",
    "            for p in ax.patches:\n",
    "                ax.annotate('%.2f' % p.get_height(), (p.get_x() + p.get_width() / 2., p.get_height()), \n",
    "                ha='center', va='center', xytext=(0, 8), \n",
    "                textcoords='offset points')\n"
   ]
  },
  {
   "cell_type": "code",
   "execution_count": 10,
   "metadata": {
    "hideCode": false,
    "hidePrompt": true,
    "hide_input": true
   },
   "outputs": [],
   "source": [
    "def venngraph(genes, excelname):\n",
    "        labels_yn = \"True\"\n",
    "        from matplotlib_venn import venn2\n",
    "        from matplotlib_venn import venn3\n",
    "        from matplotlib import pyplot as plt\n",
    "     \n",
    "        if msCells.value == 'mouse':\n",
    "            venny = meds.loc[genes]\n",
    "        if huCells.value == 'human':\n",
    "            venny = human_means.loc[genes]\n",
    "\n",
    "        venny1 = venny.loc[genes[0]]\n",
    "        venny1 = venny1[venny1 >= 0.5].index.to_list()\n",
    "\n",
    "        venny2 = venny.loc[genes[1]]\n",
    "        venny2 = venny2[venny2 >= 0.5].index.to_list()\n",
    "\n",
    "        v1only = list(set(venny1) - set(venny2))\n",
    "        v2only = list(set(venny2) - set(venny1))\n",
    "        overlap_ab = [value for value in venny1 if value in venny2] \n",
    "        \n",
    "        name1 = str(genes[0]) + \" only\"\n",
    "        name2 = str(genes[1]) + \" only\"\n",
    "        nameab = str(genes[0]) + \" and \" + str(genes[1])\n",
    "\n",
    "        \n",
    "        if len(genes) == 2:\n",
    "            if (len(venny1) >= 1) & (len(venny2) >= 1):\n",
    "                la,lb,lc = len(v1only),len(v2only),len(overlap_ab)\n",
    "                # now find the max\n",
    "                max_len = max(la,lb,lc)\n",
    "                if not max_len == la:\n",
    "                    v1only.extend(['']*(max_len-la))\n",
    "                if not max_len == lb:\n",
    "                    v2only.extend(['']*(max_len-lb))\n",
    "                if not max_len == lc:\n",
    "                    overlap_ab.extend(['']*(max_len-lc))\n",
    "                venn_df = pd.DataFrame({name1:v1only,name2:v2only,nameab:overlap_ab}) \n",
    "                writer = pd.ExcelWriter(excelname, engine='openpyxl')\n",
    "                venn_df.to_excel(writer, sheet_name='Sheet1')\n",
    "                writer.save()\n",
    "                \n",
    "                labels = [\"Cells containing \" + genes[0],\"Cells containing \" + genes[1] ]\n",
    "                    \n",
    "                v = venn2([set(venny1), set(venny2)], set_labels = (genes[0], genes[1]))\n",
    "                 \n",
    "\n",
    "                    #if labels_yn == \"True\":\n",
    "                        #v.get_label_by_id('10').set_text('\\n'.join(v1only))\n",
    "                        #v.get_label_by_id('01').set_text('\\n'.join(v2only))\n",
    "                        #v.get_label_by_id('11').set_text('\\n'.join(overlap_ab))\n",
    "                                \n",
    "            else:\n",
    "                print(\"No Overlap: At least one gene is not expressed over a value of 0.5 in any cell types:\", \n",
    "                      genes[0], \": expressed in \", len(venny1), \"cells; \", genes[1], \": expressed in \", len(venny2), \"cells. \")\n",
    "                \n",
    "\n",
    "        if len(genes) == 3:\n",
    "            venny3 = meds.loc[genes[2]]\n",
    "            venny3 = venny3[venny3 >= 0.5].index.to_list()\n",
    "            if (len(venny1) >= 1) & (len(venny2) >= 1) & (len(venny3) >= 1):\n",
    "                name3 = str(genes[2]) + \" only\"\n",
    "                namebc = str(genes[1]) + \" and \" + str(genes[2])\n",
    "                nameac = str(genes[0]) + \" and \" + str(genes[2])\n",
    "                nameabc = str(genes[0]) + \" and \" + str(genes[1])+ \" and \" + str(genes[2])         \n",
    "                v3only = list(set(venny1) - set(venny2) - set(venny3))\n",
    "                overlap_bc = [value for value in venny2 if value in venny3]\n",
    "                overlap_ac = [value for value in venny1 if value in venny3]\n",
    "                overlap_abc = [value for value in venny3 if value in overlap_ab]\n",
    "\n",
    "                la,lb,lc, ld, le, lf, lg  = len(v1only),len(v2only),len(v3only),len(overlap_ab),len(overlap_bc),len(overlap_ac),len(overlap_abc)\n",
    "                # now find the max\n",
    "                max_len = max(la,lb,lc,ld, le, lf, lg)\n",
    "                if not max_len == la:\n",
    "                    v1only.extend(['']*(max_len-la))\n",
    "                if not max_len == lb:\n",
    "                    v2only.extend(['']*(max_len-lb))\n",
    "                if not max_len == lc:\n",
    "                    v3only.extend(['']*(max_len-lc))\n",
    "                if not max_len == ld:\n",
    "                    overlap_ab.extend(['']*(max_len-ld))\n",
    "                if not max_len == le:\n",
    "                    overlap_bc.extend(['']*(max_len-le))\n",
    "                if not max_len == lf:\n",
    "                    overlap_ac.extend(['']*(max_len-lf))\n",
    "                if not max_len == lg:\n",
    "                    overlap_abc.extend(['']*(max_len-lg))\n",
    "\n",
    "                venn_df = pd.DataFrame({name1:v1only,name2:v2only,name3:v3only,nameab:overlap_ab,namebc:overlap_bc,\n",
    "                                                nameac:overlap_ac, nameabc: overlap_abc}) \n",
    "                writer = pd.ExcelWriter(excelname, engine='openpyxl')\n",
    "                venn_df.to_excel(writer, sheet_name='Sheet1')\n",
    "                writer.save() \n",
    "                \n",
    "                labels = [\"Cells containing \" + genes[0],\"Cells containing \" \n",
    "                                + genes[1], \"Cells containing \" +genes[2] ]\n",
    "                v = venn3([set(venny1), set(venny2), set(venny3)], \n",
    "                                set_labels = (genes[0], genes[1], genes[2]))\n",
    "                        \n",
    "            else:\n",
    "                print(\"No Overlap: At least one gene is not expressed over a value of 0.5 in any cell types:\", \n",
    "                      genes[0], \": expressed in \", len(venny1), \"cells; \", genes[1], \": expressed in \", len(venny2), \"cells; \",\n",
    "                     genes[2], \": expressed in \", len(venny3), \"cells.\")\n",
    "        \n",
    "        plt.show()"
   ]
  },
  {
   "cell_type": "code",
   "execution_count": 11,
   "metadata": {
    "hideCode": false,
    "hidePrompt": true,
    "hide_input": false
   },
   "outputs": [
    {
     "data": {
      "application/vnd.jupyter.widget-view+json": {
       "model_id": "ccd5687c9eb44825b04f97a06423c5a2",
       "version_major": 2,
       "version_minor": 0
      },
      "text/plain": [
       "GridspecLayout(children=(VBox(children=(Label(value='Analyze species:'), LoadedButton(description='Mouse', sty…"
      ]
     },
     "metadata": {},
     "output_type": "display_data"
    }
   ],
   "source": [
    "### cell #1\n",
    "\n",
    "box_layout = widgets.Layout(\n",
    "        border='solid 1px black',\n",
    "        margin='0px 10px 10px 0px',\n",
    "        padding='5px 5px 5px 5px',\n",
    "        height='auto', width='auto')\n",
    "\n",
    "grid = GridspecLayout(1, 3)\n",
    "grid.layout = box_layout\n",
    "# fill it in with widgets\n",
    "grid[0,0] = specieschoices\n",
    "grid[0,1] = spacerhuman\n",
    "grid[0, 2:] = graphs2\n",
    "grid"
   ]
  }
 ],
 "metadata": {
  "celltoolbar": "Hide code",
  "hide_code_all_hidden": true,
  "kernelspec": {
   "display_name": "Python 3",
   "language": "python",
   "name": "python3"
  },
  "language_info": {
   "codemirror_mode": {
    "name": "ipython",
    "version": 3
   },
   "file_extension": ".py",
   "mimetype": "text/x-python",
   "name": "python",
   "nbconvert_exporter": "python",
   "pygments_lexer": "ipython3",
   "version": "3.7.6"
  }
 },
 "nbformat": 4,
 "nbformat_minor": 4
}
