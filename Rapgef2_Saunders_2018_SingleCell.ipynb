{
 "cells": [
  {
   "cell_type": "markdown",
   "metadata": {},
   "source": [
    "This graph is of data from: \n",
    "\n",
    "Saunders A*, Macosko E.Z*, Wysoker A, Goldman M, Krienen, F, de Rivera H, Bien E, Baum M, Wang S, Bortolin L, Goeva A, Nemesh J, Kamitaki N, Brumbaugh S, Kulp D and McCarroll, S.A. 2018. Molecular Diversity and Specializations among the Cells of the Adult Mouse Brain. 2018. Cell. 174(4) P1015-1030.E16\n",
    "\n",
    "Data is DropSeq from adult mouse brain"
   ]
  },
  {
   "cell_type": "code",
   "execution_count": 1,
   "metadata": {
    "hideCode": true,
    "hidePrompt": true
   },
   "outputs": [],
   "source": [
    "import matplotlib \n",
    "import ipywidgets as widgets\n",
    "import pandas as pd\n",
    "import io\n",
    "import seaborn as sns\n",
    "from IPython.display import display\n",
    "from ipywidgets import interact_manual, interactive,GridspecLayout, AppLayout, Button, Layout, Widget\n",
    "import plotly.express as px\n",
    "\n",
    "data = pd.read_csv(\"clusters.csv\")"
   ]
  },
  {
   "cell_type": "code",
   "execution_count": null,
   "metadata": {
    "hideCode": true,
    "hidePrompt": true
   },
   "outputs": [],
   "source": [
    "data.columns = ['Region','Class','Cluster','Rapgef2_Amount','Rapgef2_PVal']"
   ]
  },
  {
   "cell_type": "code",
   "execution_count": 42,
   "metadata": {
    "hideCode": true,
    "hidePrompt": true,
    "scrolled": false
   },
   "outputs": [
    {
     "data": {
      "application/vnd.plotly.v1+json": {
       "config": {
        "plotlyServerURL": "https://plot.ly"
       },
       "data": [
        {
         "alignmentgroup": "True",
         "customdata": [
          [
           "Neuron",
           "Neuron_CA2CA3_Pvrl3-Rgs15-Calb2 [#6]",
           2.83321334405622,
           0
          ],
          [
           "Neuron",
           "Neuron_Subiculum_Slc17a6 [#2]",
           2.7080502011022096,
           8.395659836866479e-31
          ],
          [
           "Neuron",
           "RSG_Tshz2-Shisa8 [#6]",
           2.6390573296152597,
           2.04576845240115e-107
          ],
          [
           "Neuron",
           "Neuron_Claustrum_Nr4a2 [#5]",
           2.484906649788,
           4.08400032039014e-11
          ],
          [
           "Neuron",
           "Neuron_Layer5_Parm1 [#7]",
           2.3978952727983702,
           2.38100419074208e-40
          ],
          [
           "Neuron",
           "Neuron_Subiculum_Entorhinal_Nxph3 [#3]",
           2.3978952727983702,
           0.00308944818365243
          ],
          [
           "Neuron",
           "Neuron_Dentate_C1ql2 [#4]",
           2.3978952727983702,
           8.476327376513849e-16
          ],
          [
           "Neuron",
           "Neuron_CA1_Subiculum_Postsubiculum_Entorhinal_Fibcd1-Dcn-Cbln1-Ptgfr-Fezf2 [#5]",
           2.3978952727983702,
           0.0554503267529836
          ],
          [
           "Neuron",
           "Neuron_dSPN_Drd1 [#10]",
           2.3978952727983702,
           1.0216283241220297e-79
          ],
          [
           "Neuron",
           "Neuron_Layer23_Nptxr [#6]",
           2.30258509299405,
           9.457377094537159e-78
          ],
          [
           "Neuron",
           "Neuron_Ppp1r1b [#3]",
           2.30258509299405,
           1.8449111529613893e-160
          ],
          [
           "Neuron",
           "Neuron_iSPN_Adora2a [#11]",
           2.30258509299405,
           0.00025053024506471803
          ],
          [
           "Neuron",
           "Neuron_SPN_BNST_Amygdala_Otof [#13]",
           2.30258509299405,
           0.153343908737328
          ],
          [
           "Neuron",
           "Neuron_Layer6Subplate_Syt6 [#3]",
           2.19722457733622,
           1.3203933214913901e-05
          ],
          [
           "Neuron",
           "Neuron_Layer6Subplate_Syt6 [#1]",
           2.19722457733622,
           0.194047659376876
          ],
          [
           "Neuron",
           "Neuron_Layer23_5_6_Subiculum_Calb1-Rorb-Fermt1-Tshz2-Oprk1-Crym-Sema3e [#2]",
           2.19722457733622,
           0.0037563751311186703
          ],
          [
           "Neuron",
           "Neuron_Layer5_Bcl6 [#3]",
           2.19722457733622,
           0.00431631623411374
          ],
          [
           "Neuron",
           "Interneuron_CGE_Cplx3-Synpr [#1]",
           2.07944154167984,
           0.000279315538527082
          ],
          [
           "Neuron",
           "Interneuron_MGE_Sst-Pvalb [#2]",
           2.07944154167984,
           2.7334910469714998e-05
          ],
          [
           "Neuron",
           "Neuron_Layer5b_Fezf2 [#4]",
           2.07944154167984,
           0.000779548184255756
          ],
          [
           "Neuron",
           "Interneuron_CGE_Cplx3-Synpr [#4]",
           2.07944154167984,
           0.0536532635228013
          ],
          [
           "Neuron",
           "Interneuron_MGE_Sst-Pvalb [#5]",
           2.07944154167984,
           0.146184065984034
          ],
          [
           "Neuron",
           "Layer5b_Fezf2 [#7]",
           2.07944154167984,
           0.22644718861229698
          ],
          [
           "Neuron",
           "Interneuron_Gad2 [#1]",
           2.07944154167984,
           2.11724779689152e-44
          ],
          [
           "Neuron",
           "Neuron_Gad2-Ahi1 [#3]",
           2.07944154167984,
           5.026535384337099e-56
          ],
          [
           "Neuron",
           "Interneurons_and_Other_Nnat [#4]",
           1.9459101490553101,
           0.10706606257167
          ],
          [
           "Neuron",
           "Interneuron_Pvalb_Th_Pnoc [#14]",
           1.9459101490553101,
           8.17709121905317e-07
          ],
          [
           "Neuron",
           "Interneuron_Sst [#15]",
           1.9459101490553101,
           7.080372174011159e-07
          ],
          [
           "Neuron",
           "Neuron_CA3_C1ql3 [#1]",
           1.9459101490553101,
           0.0256506522864582
          ],
          [
           "Neuron",
           "Neuron_Rora [#2]",
           1.9459101490553101,
           0.0166059844979101
          ],
          [
           "Neuron",
           "Neuron_Syt1 [#4]",
           1.79175946922805,
           1.25197128995084e-24
          ],
          [
           "Neuron",
           "Neuron_Gabra1 [#2]",
           1.79175946922805,
           1.57532829508569e-25
          ],
          [
           "Neuron",
           "Neuron_CajalRetzius_Lhx1 [#14]",
           1.79175946922805,
           1.18968826336102e-05
          ],
          [
           "Neuron",
           "Neuron_Gad2 [#3]",
           1.79175946922805,
           6.17260809057622e-65
          ],
          [
           "Neuron",
           "Neuron_Habenula_Tac2 [#1]",
           1.79175946922805,
           0.9543560730527451
          ],
          [
           "Neuron",
           "Neuron_Rora [#2]",
           1.79175946922805,
           7.847678298460959e-35
          ],
          [
           "Neuron",
           "GranularNeuron_Gabra6 [#1]",
           1.6094379124341003,
           1.73675101298754e-18
          ],
          [
           "Neuron",
           "Interneurons_Pvalb [#3]",
           1.6094379124341003,
           0.203723812470323
          ],
          [
           "Neuron",
           "Interneuron_Chat [#12]",
           1.6094379124341003,
           1.79125995385936e-09
          ],
          [
           "Neuron",
           "Neuron_Chat [#1]",
           1.38629436111989,
           0.0028261219723870303
          ],
          [
           "Neuron",
           "Neuron_Th [#4]",
           1.38629436111989,
           0.92859716777852
          ],
          [
           "Neuron",
           "PurkinjeNeuron_Pcp2 [#2]",
           0.693147180559945,
           1.18792292476695e-10
          ]
         ],
         "hovertemplate": "<b>%{hovertext}</b><br><br>Class=%{customdata[0]}<br>Rapgef2_Amount=%{customdata[2]}<br>Cluster=%{customdata[1]}<br>Rapgef2_PVal=%{customdata[3]}<extra></extra>",
         "hovertext": [
          "Neuron_CA2CA3_Pvrl3-Rgs15-Calb2 [#6]",
          "Neuron_Subiculum_Slc17a6 [#2]",
          "RSG_Tshz2-Shisa8 [#6]",
          "Neuron_Claustrum_Nr4a2 [#5]",
          "Neuron_Layer5_Parm1 [#7]",
          "Neuron_Subiculum_Entorhinal_Nxph3 [#3]",
          "Neuron_Dentate_C1ql2 [#4]",
          "Neuron_CA1_Subiculum_Postsubiculum_Entorhinal_Fibcd1-Dcn-Cbln1-Ptgfr-Fezf2 [#5]",
          "Neuron_dSPN_Drd1 [#10]",
          "Neuron_Layer23_Nptxr [#6]",
          "Neuron_Ppp1r1b [#3]",
          "Neuron_iSPN_Adora2a [#11]",
          "Neuron_SPN_BNST_Amygdala_Otof [#13]",
          "Neuron_Layer6Subplate_Syt6 [#3]",
          "Neuron_Layer6Subplate_Syt6 [#1]",
          "Neuron_Layer23_5_6_Subiculum_Calb1-Rorb-Fermt1-Tshz2-Oprk1-Crym-Sema3e [#2]",
          "Neuron_Layer5_Bcl6 [#3]",
          "Interneuron_CGE_Cplx3-Synpr [#1]",
          "Interneuron_MGE_Sst-Pvalb [#2]",
          "Neuron_Layer5b_Fezf2 [#4]",
          "Interneuron_CGE_Cplx3-Synpr [#4]",
          "Interneuron_MGE_Sst-Pvalb [#5]",
          "Layer5b_Fezf2 [#7]",
          "Interneuron_Gad2 [#1]",
          "Neuron_Gad2-Ahi1 [#3]",
          "Interneurons_and_Other_Nnat [#4]",
          "Interneuron_Pvalb_Th_Pnoc [#14]",
          "Interneuron_Sst [#15]",
          "Neuron_CA3_C1ql3 [#1]",
          "Neuron_Rora [#2]",
          "Neuron_Syt1 [#4]",
          "Neuron_Gabra1 [#2]",
          "Neuron_CajalRetzius_Lhx1 [#14]",
          "Neuron_Gad2 [#3]",
          "Neuron_Habenula_Tac2 [#1]",
          "Neuron_Rora [#2]",
          "GranularNeuron_Gabra6 [#1]",
          "Interneurons_Pvalb [#3]",
          "Interneuron_Chat [#12]",
          "Neuron_Chat [#1]",
          "Neuron_Th [#4]",
          "PurkinjeNeuron_Pcp2 [#2]"
         ],
         "legendgroup": "Neuron",
         "marker": {
          "color": "#636efa"
         },
         "name": "Neuron",
         "offsetgroup": "Neuron",
         "orientation": "v",
         "showlegend": true,
         "textposition": "auto",
         "type": "bar",
         "x": [
          "Neuron",
          "Neuron",
          "Neuron",
          "Neuron",
          "Neuron",
          "Neuron",
          "Neuron",
          "Neuron",
          "Neuron",
          "Neuron",
          "Neuron",
          "Neuron",
          "Neuron",
          "Neuron",
          "Neuron",
          "Neuron",
          "Neuron",
          "Neuron",
          "Neuron",
          "Neuron",
          "Neuron",
          "Neuron",
          "Neuron",
          "Neuron",
          "Neuron",
          "Neuron",
          "Neuron",
          "Neuron",
          "Neuron",
          "Neuron",
          "Neuron",
          "Neuron",
          "Neuron",
          "Neuron",
          "Neuron",
          "Neuron",
          "Neuron",
          "Neuron",
          "Neuron",
          "Neuron",
          "Neuron",
          "Neuron"
         ],
         "xaxis": "x",
         "y": [
          2.83321334405622,
          2.7080502011022096,
          2.6390573296152597,
          2.484906649788,
          2.3978952727983702,
          2.3978952727983702,
          2.3978952727983702,
          2.3978952727983702,
          2.3978952727983702,
          2.30258509299405,
          2.30258509299405,
          2.30258509299405,
          2.30258509299405,
          2.19722457733622,
          2.19722457733622,
          2.19722457733622,
          2.19722457733622,
          2.07944154167984,
          2.07944154167984,
          2.07944154167984,
          2.07944154167984,
          2.07944154167984,
          2.07944154167984,
          2.07944154167984,
          2.07944154167984,
          1.9459101490553101,
          1.9459101490553101,
          1.9459101490553101,
          1.9459101490553101,
          1.9459101490553101,
          1.79175946922805,
          1.79175946922805,
          1.79175946922805,
          1.79175946922805,
          1.79175946922805,
          1.79175946922805,
          1.6094379124341003,
          1.6094379124341003,
          1.6094379124341003,
          1.38629436111989,
          1.38629436111989,
          0.693147180559945
         ],
         "yaxis": "y"
        },
        {
         "alignmentgroup": "True",
         "customdata": [
          [
           "Endothelial",
           "Endothelial_Flt1 [#12]",
           2.3978952727983702,
           4.40665977396744e-15
          ],
          [
           "Endothelial",
           "Endothelial_Flt1 [#7]",
           2.3978952727983702,
           6.4904261133257686e-114
          ],
          [
           "Endothelial",
           "Endothelial_Flt1 [#4]",
           2.3978952727983702,
           6.691088642699817e-171
          ],
          [
           "Endothelial",
           "Endothelial_Flt1 [#12]",
           2.30258509299405,
           1.31248904844705e-05
          ],
          [
           "Endothelial",
           "Endothelial_Flt1 [#2]",
           2.30258509299405,
           1.06178373845168e-52
          ],
          [
           "Endothelial",
           "Endothelial_Flt1 [#15]",
           2.30258509299405,
           0.006363408180190829
          ],
          [
           "Endothelial",
           "Endothelial_Flt1 [#7]",
           2.30258509299405,
           0.6284673104457571
          ],
          [
           "Endothelial",
           "Endothelial_Flt1 [#12]",
           2.30258509299405,
           1.67267522002675e-110
          ],
          [
           "Endothelial",
           "Endothelial_Flt1 [#10]",
           1.79175946922805,
           0.0144725822990474
          ]
         ],
         "hovertemplate": "<b>%{hovertext}</b><br><br>Class=%{customdata[0]}<br>Rapgef2_Amount=%{customdata[2]}<br>Cluster=%{customdata[1]}<br>Rapgef2_PVal=%{customdata[3]}<extra></extra>",
         "hovertext": [
          "Endothelial_Flt1 [#12]",
          "Endothelial_Flt1 [#7]",
          "Endothelial_Flt1 [#4]",
          "Endothelial_Flt1 [#12]",
          "Endothelial_Flt1 [#2]",
          "Endothelial_Flt1 [#15]",
          "Endothelial_Flt1 [#7]",
          "Endothelial_Flt1 [#12]",
          "Endothelial_Flt1 [#10]"
         ],
         "legendgroup": "Endothelial",
         "marker": {
          "color": "#EF553B"
         },
         "name": "Endothelial",
         "offsetgroup": "Endothelial",
         "orientation": "v",
         "showlegend": true,
         "textposition": "auto",
         "type": "bar",
         "x": [
          "Endothelial",
          "Endothelial",
          "Endothelial",
          "Endothelial",
          "Endothelial",
          "Endothelial",
          "Endothelial",
          "Endothelial",
          "Endothelial"
         ],
         "xaxis": "x",
         "y": [
          2.3978952727983702,
          2.3978952727983702,
          2.3978952727983702,
          2.30258509299405,
          2.30258509299405,
          2.30258509299405,
          2.30258509299405,
          2.30258509299405,
          1.79175946922805
         ],
         "yaxis": "y"
        },
        {
         "alignmentgroup": "True",
         "customdata": [
          [
           "Microglia_Macrophage",
           "Microglia_Macrophage_C1qb [#11]",
           1.9459101490553101,
           0.000828026835336854
          ],
          [
           "Microglia_Macrophage",
           "Microglia_Macrophage_Tmem119-Mrc1 [#11]",
           1.79175946922805,
           0.0007552144256360299
          ],
          [
           "Microglia_Macrophage",
           "Microglia_Macrophage_C1qb [#9]",
           1.79175946922805,
           0.72435692397616
          ],
          [
           "Microglia_Macrophage",
           "Microglia_Macrophage_C1qb [#11]",
           1.6094379124341003,
           0.350521353975846
          ],
          [
           "Microglia_Macrophage",
           "Microglia_Macrophage_C1qb [#5]",
           1.38629436111989,
           1
          ],
          [
           "Microglia_Macrophage",
           "Microglia_Macrophage_C1qb [#10]",
           1.38629436111989,
           1.20276580325459e-13
          ],
          [
           "Microglia_Macrophage",
           "Microglia_Macrophage_C1qb [#6]",
           1.38629436111989,
           2.76480750070967e-08
          ],
          [
           "Microglia_Macrophage",
           "Microglia_Macrophage_C1qb [#7]",
           1.38629436111989,
           0.21636739638133398
          ]
         ],
         "hovertemplate": "<b>%{hovertext}</b><br><br>Class=%{customdata[0]}<br>Rapgef2_Amount=%{customdata[2]}<br>Cluster=%{customdata[1]}<br>Rapgef2_PVal=%{customdata[3]}<extra></extra>",
         "hovertext": [
          "Microglia_Macrophage_C1qb [#11]",
          "Microglia_Macrophage_Tmem119-Mrc1 [#11]",
          "Microglia_Macrophage_C1qb [#9]",
          "Microglia_Macrophage_C1qb [#11]",
          "Microglia_Macrophage_C1qb [#5]",
          "Microglia_Macrophage_C1qb [#10]",
          "Microglia_Macrophage_C1qb [#6]",
          "Microglia_Macrophage_C1qb [#7]"
         ],
         "legendgroup": "Microglia_Macrophage",
         "marker": {
          "color": "#00cc96"
         },
         "name": "Microglia_Macrophage",
         "offsetgroup": "Microglia_Macrophage",
         "orientation": "v",
         "showlegend": true,
         "textposition": "auto",
         "type": "bar",
         "x": [
          "Microglia_Macrophage",
          "Microglia_Macrophage",
          "Microglia_Macrophage",
          "Microglia_Macrophage",
          "Microglia_Macrophage",
          "Microglia_Macrophage",
          "Microglia_Macrophage",
          "Microglia_Macrophage"
         ],
         "xaxis": "x",
         "y": [
          1.9459101490553101,
          1.79175946922805,
          1.79175946922805,
          1.6094379124341003,
          1.38629436111989,
          1.38629436111989,
          1.38629436111989,
          1.38629436111989
         ],
         "yaxis": "y"
        },
        {
         "alignmentgroup": "True",
         "customdata": [
          [
           "Polydendrocyte",
           "Polydendrocyte_Tnr [#10]",
           1.9459101490553101,
           0.000152815223778874
          ],
          [
           "Polydendrocyte",
           "Polydendrocyte_Cacng4 [#6]",
           1.9459101490553101,
           0.0069983746516588
          ],
          [
           "Polydendrocyte",
           "Polydendrocyte_Tnr [#9]",
           1.9459101490553101,
           1.2003031355035401e-16
          ],
          [
           "Polydendrocyte",
           "Polydendrocyte_Tnr [#10]",
           1.79175946922805,
           6.3607687731623e-20
          ],
          [
           "Polydendrocyte",
           "Polydendrocyte_Cacng4 [#6]",
           1.79175946922805,
           0.251857801049146
          ],
          [
           "Polydendrocyte",
           "Polydendrocyte_Tnr [#4]",
           1.6094379124341003,
           0.00771879891596438
          ],
          [
           "Polydendrocyte",
           "Polydendrocyte_Tnr [#12]",
           1.6094379124341003,
           0.00327500487207077
          ],
          [
           "Polydendrocyte",
           "Polydendrocyte_Tnr [#5]",
           1.38629436111989,
           0.9295341041400258
          ],
          [
           "Polydendrocyte",
           "Polydendrocytes_Tnr [#5]",
           1.38629436111989,
           1.33730692279079e-11
          ],
          [
           "Polydendrocyte",
           "Polydendrocyte_Tnr [#5]",
           1.38629436111989,
           0.0607223888241891
          ]
         ],
         "hovertemplate": "<b>%{hovertext}</b><br><br>Class=%{customdata[0]}<br>Rapgef2_Amount=%{customdata[2]}<br>Cluster=%{customdata[1]}<br>Rapgef2_PVal=%{customdata[3]}<extra></extra>",
         "hovertext": [
          "Polydendrocyte_Tnr [#10]",
          "Polydendrocyte_Cacng4 [#6]",
          "Polydendrocyte_Tnr [#9]",
          "Polydendrocyte_Tnr [#10]",
          "Polydendrocyte_Cacng4 [#6]",
          "Polydendrocyte_Tnr [#4]",
          "Polydendrocyte_Tnr [#12]",
          "Polydendrocyte_Tnr [#5]",
          "Polydendrocytes_Tnr [#5]",
          "Polydendrocyte_Tnr [#5]"
         ],
         "legendgroup": "Polydendrocyte",
         "marker": {
          "color": "#ab63fa"
         },
         "name": "Polydendrocyte",
         "offsetgroup": "Polydendrocyte",
         "orientation": "v",
         "showlegend": true,
         "textposition": "auto",
         "type": "bar",
         "x": [
          "Polydendrocyte",
          "Polydendrocyte",
          "Polydendrocyte",
          "Polydendrocyte",
          "Polydendrocyte",
          "Polydendrocyte",
          "Polydendrocyte",
          "Polydendrocyte",
          "Polydendrocyte",
          "Polydendrocyte"
         ],
         "xaxis": "x",
         "y": [
          1.9459101490553101,
          1.9459101490553101,
          1.9459101490553101,
          1.79175946922805,
          1.79175946922805,
          1.6094379124341003,
          1.6094379124341003,
          1.38629436111989,
          1.38629436111989,
          1.38629436111989
         ],
         "yaxis": "y"
        },
        {
         "alignmentgroup": "True",
         "customdata": [
          [
           "Mural",
           "Mural_Rgs5Acta2 [#13]",
           1.79175946922805,
           8.119370014787241e-05
          ],
          [
           "Mural",
           "Mural_Rgs5Acta2 [#8]",
           1.79175946922805,
           0.189023615583846
          ],
          [
           "Mural",
           "Mural_Rgs5Acta2 [#16]",
           1.79175946922805,
           2.3515885448863e-14
          ],
          [
           "Mural",
           "Mural_Rgs5Acta2 [#13]",
           1.6094379124341003,
           1.50161641052176e-12
          ],
          [
           "Mural",
           "Mural_Rgs5Acta2 [#8]",
           1.6094379124341003,
           1.53275060204671e-05
          ],
          [
           "Mural",
           "Mural_Rgs5Acta2 [#13]",
           1.38629436111989,
           0.0268152843274057
          ],
          [
           "Mural",
           "Mural_Rgs5Acta2 [#5]",
           1.09861228866811,
           5.3517746994949e-09
          ]
         ],
         "hovertemplate": "<b>%{hovertext}</b><br><br>Class=%{customdata[0]}<br>Rapgef2_Amount=%{customdata[2]}<br>Cluster=%{customdata[1]}<br>Rapgef2_PVal=%{customdata[3]}<extra></extra>",
         "hovertext": [
          "Mural_Rgs5Acta2 [#13]",
          "Mural_Rgs5Acta2 [#8]",
          "Mural_Rgs5Acta2 [#16]",
          "Mural_Rgs5Acta2 [#13]",
          "Mural_Rgs5Acta2 [#8]",
          "Mural_Rgs5Acta2 [#13]",
          "Mural_Rgs5Acta2 [#5]"
         ],
         "legendgroup": "Mural",
         "marker": {
          "color": "#FFA15A"
         },
         "name": "Mural",
         "offsetgroup": "Mural",
         "orientation": "v",
         "showlegend": true,
         "textposition": "auto",
         "type": "bar",
         "x": [
          "Mural",
          "Mural",
          "Mural",
          "Mural",
          "Mural",
          "Mural",
          "Mural"
         ],
         "xaxis": "x",
         "y": [
          1.79175946922805,
          1.79175946922805,
          1.79175946922805,
          1.6094379124341003,
          1.6094379124341003,
          1.38629436111989,
          1.09861228866811
         ],
         "yaxis": "y"
        },
        {
         "alignmentgroup": "True",
         "customdata": [
          [
           "Fibroblast-Like",
           "Fibroblast-Like_Dcn [#11]",
           1.6094379124341003,
           0.270637432891013
          ],
          [
           "Fibroblast-Like",
           "Fibroblast-Like_Dcn [#14]",
           1.6094379124341003,
           1.04647936919361e-06
          ],
          [
           "Fibroblast-Like",
           "Fibroblast-Like_Dcn [#17]",
           1.6094379124341003,
           1.4386936541247902e-10
          ],
          [
           "Fibroblast-Like",
           "Fibroblast-Like_Dcn [#14]",
           1.38629436111989,
           2.58624032364085e-10
          ],
          [
           "Fibroblast-Like",
           "Fibroblast-Like_Dcn [#14]",
           1.38629436111989,
           0.504613607373631
          ],
          [
           "Fibroblast-Like",
           "Fibroblast-Like_Dcn [#9]",
           1.09861228866811,
           0.000529451734125346
          ],
          [
           "Fibroblast-Like",
           "Fibroblast-Like_Dcn [#9]",
           1.09861228866811,
           0.000286117428408625
          ],
          [
           "Fibroblast-Like",
           "Fibroblast-Like_Dcn [#6]",
           1.09861228866811,
           0.00347509202417995
          ]
         ],
         "hovertemplate": "<b>%{hovertext}</b><br><br>Class=%{customdata[0]}<br>Rapgef2_Amount=%{customdata[2]}<br>Cluster=%{customdata[1]}<br>Rapgef2_PVal=%{customdata[3]}<extra></extra>",
         "hovertext": [
          "Fibroblast-Like_Dcn [#11]",
          "Fibroblast-Like_Dcn [#14]",
          "Fibroblast-Like_Dcn [#17]",
          "Fibroblast-Like_Dcn [#14]",
          "Fibroblast-Like_Dcn [#14]",
          "Fibroblast-Like_Dcn [#9]",
          "Fibroblast-Like_Dcn [#9]",
          "Fibroblast-Like_Dcn [#6]"
         ],
         "legendgroup": "Fibroblast-Like",
         "marker": {
          "color": "#19d3f3"
         },
         "name": "Fibroblast-Like",
         "offsetgroup": "Fibroblast-Like",
         "orientation": "v",
         "showlegend": true,
         "textposition": "auto",
         "type": "bar",
         "x": [
          "Fibroblast-Like",
          "Fibroblast-Like",
          "Fibroblast-Like",
          "Fibroblast-Like",
          "Fibroblast-Like",
          "Fibroblast-Like",
          "Fibroblast-Like",
          "Fibroblast-Like"
         ],
         "xaxis": "x",
         "y": [
          1.6094379124341003,
          1.6094379124341003,
          1.6094379124341003,
          1.38629436111989,
          1.38629436111989,
          1.09861228866811,
          1.09861228866811,
          1.09861228866811
         ],
         "yaxis": "y"
        },
        {
         "alignmentgroup": "True",
         "customdata": [
          [
           "Ependyma",
           "Ependyma [#11]",
           1.6094379124341003,
           1.54716792094626e-20
          ],
          [
           "Ependyma",
           "Ependyma [#6]",
           1.38629436111989,
           0.8509395884992971
          ],
          [
           "Ependyma",
           "Ependyma [#10]",
           1.38629436111989,
           0.000123412095684622
          ],
          [
           "Ependyma",
           "Ependyma [#1]",
           1.09861228866811,
           2.56294224586472e-11
          ],
          [
           "Ependyma",
           "Ependyma [#8]",
           0,
           0.282091515156483
          ]
         ],
         "hovertemplate": "<b>%{hovertext}</b><br><br>Class=%{customdata[0]}<br>Rapgef2_Amount=%{customdata[2]}<br>Cluster=%{customdata[1]}<br>Rapgef2_PVal=%{customdata[3]}<extra></extra>",
         "hovertext": [
          "Ependyma [#11]",
          "Ependyma [#6]",
          "Ependyma [#10]",
          "Ependyma [#1]",
          "Ependyma [#8]"
         ],
         "legendgroup": "Ependyma",
         "marker": {
          "color": "#FF6692"
         },
         "name": "Ependyma",
         "offsetgroup": "Ependyma",
         "orientation": "v",
         "showlegend": true,
         "textposition": "auto",
         "type": "bar",
         "x": [
          "Ependyma",
          "Ependyma",
          "Ependyma",
          "Ependyma",
          "Ependyma"
         ],
         "xaxis": "x",
         "y": [
          1.6094379124341003,
          1.38629436111989,
          1.38629436111989,
          1.09861228866811,
          0
         ],
         "yaxis": "y"
        },
        {
         "alignmentgroup": "True",
         "customdata": [
          [
           "Astrocyte",
           "Astrocyte_Gja1 [#8]",
           1.38629436111989,
           0.207546139989629
          ],
          [
           "Astrocyte",
           "Astrocyte_Gja1 [#7]",
           1.38629436111989,
           0.8238031283144499
          ],
          [
           "Astrocyte",
           "Astrocyte_Gja1 [#8]",
           1.09861228866811,
           8.30033878669186e-108
          ],
          [
           "Astrocyte",
           "Astrocyte_Gja1 [#8]",
           1.09861228866811,
           1.80165119787941e-95
          ],
          [
           "Astrocyte",
           "Astrocyte_Gja1 [#5]",
           1.09861228866811,
           2.9024595334880697e-62
          ],
          [
           "Astrocyte",
           "Astrocyte_Gja1 [#7]",
           1.09861228866811,
           0
          ],
          [
           "Astrocyte",
           "Astrocyte_Gja1 [#7]",
           1.09861228866811,
           7.057369680979029e-05
          ],
          [
           "Astrocyte",
           "Astrocyte_Gja1 [#11]",
           1.09861228866811,
           2.8617207807286203e-06
          ],
          [
           "Astrocyte",
           "BergmannGlia_Gpr37l1 [#7]",
           0.693147180559945,
           4.7275554824616604e-17
          ],
          [
           "Astrocyte",
           "Astrocyte_Gja1 [#4]",
           0.693147180559945,
           2.829559034875449e-77
          ]
         ],
         "hovertemplate": "<b>%{hovertext}</b><br><br>Class=%{customdata[0]}<br>Rapgef2_Amount=%{customdata[2]}<br>Cluster=%{customdata[1]}<br>Rapgef2_PVal=%{customdata[3]}<extra></extra>",
         "hovertext": [
          "Astrocyte_Gja1 [#8]",
          "Astrocyte_Gja1 [#7]",
          "Astrocyte_Gja1 [#8]",
          "Astrocyte_Gja1 [#8]",
          "Astrocyte_Gja1 [#5]",
          "Astrocyte_Gja1 [#7]",
          "Astrocyte_Gja1 [#7]",
          "Astrocyte_Gja1 [#11]",
          "BergmannGlia_Gpr37l1 [#7]",
          "Astrocyte_Gja1 [#4]"
         ],
         "legendgroup": "Astrocyte",
         "marker": {
          "color": "#B6E880"
         },
         "name": "Astrocyte",
         "offsetgroup": "Astrocyte",
         "orientation": "v",
         "showlegend": true,
         "textposition": "auto",
         "type": "bar",
         "x": [
          "Astrocyte",
          "Astrocyte",
          "Astrocyte",
          "Astrocyte",
          "Astrocyte",
          "Astrocyte",
          "Astrocyte",
          "Astrocyte",
          "Astrocyte",
          "Astrocyte"
         ],
         "xaxis": "x",
         "y": [
          1.38629436111989,
          1.38629436111989,
          1.09861228866811,
          1.09861228866811,
          1.09861228866811,
          1.09861228866811,
          1.09861228866811,
          1.09861228866811,
          0.693147180559945,
          0.693147180559945
         ],
         "yaxis": "y"
        },
        {
         "alignmentgroup": "True",
         "customdata": [
          [
           "Oligodendrocyte",
           "Oligodendrocyte_Tfr [#9]",
           1.38629436111989,
           3.35475989642239e-48
          ],
          [
           "Oligodendrocyte",
           "Oligodendrocyte_Tfr [#9]",
           1.09861228866811,
           2.9336053861321694e-138
          ],
          [
           "Oligodendrocyte",
           "Oligodendrocyte_Tfr [#1]",
           1.09861228866811,
           1.0166639501301e-76
          ],
          [
           "Oligodendrocyte",
           "Oligodendrocyte_Mbp [#8]",
           1.09861228866811,
           0.25150354255119195
          ],
          [
           "Oligodendrocyte",
           "Oligodendrocyte_Tfr [#10]",
           1.09861228866811,
           3.1884195149426384e-252
          ],
          [
           "Oligodendrocyte",
           "Oligodendrocyte_Tfr [#8]",
           1.09861228866811,
           5.344614663645819e-115
          ],
          [
           "Oligodendrocyte",
           "Oligodendrocytes_Tfr [#3]",
           1.09861228866811,
           1.25885744507358e-67
          ],
          [
           "Oligodendrocyte",
           "Oligodendrocyte_Tfr [#10]",
           1.09861228866811,
           1.868357956949709e-168
          ],
          [
           "Oligodendrocyte",
           "Oligodendrocyte_Tfr [#8]",
           1.09861228866811,
           1.4015507805e-314
          ],
          [
           "Oligodendrocyte",
           "Oligodendrocyte_Mbp [#11]",
           0.693147180559945,
           0.0041185124783610794
          ],
          [
           "Oligodendrocyte",
           "Oligodendrocyte_Mbp [#9]",
           0.693147180559945,
           0.00011140520851921299
          ]
         ],
         "hovertemplate": "<b>%{hovertext}</b><br><br>Class=%{customdata[0]}<br>Rapgef2_Amount=%{customdata[2]}<br>Cluster=%{customdata[1]}<br>Rapgef2_PVal=%{customdata[3]}<extra></extra>",
         "hovertext": [
          "Oligodendrocyte_Tfr [#9]",
          "Oligodendrocyte_Tfr [#9]",
          "Oligodendrocyte_Tfr [#1]",
          "Oligodendrocyte_Mbp [#8]",
          "Oligodendrocyte_Tfr [#10]",
          "Oligodendrocyte_Tfr [#8]",
          "Oligodendrocytes_Tfr [#3]",
          "Oligodendrocyte_Tfr [#10]",
          "Oligodendrocyte_Tfr [#8]",
          "Oligodendrocyte_Mbp [#11]",
          "Oligodendrocyte_Mbp [#9]"
         ],
         "legendgroup": "Oligodendrocyte",
         "marker": {
          "color": "#FF97FF"
         },
         "name": "Oligodendrocyte",
         "offsetgroup": "Oligodendrocyte",
         "orientation": "v",
         "showlegend": true,
         "textposition": "auto",
         "type": "bar",
         "x": [
          "Oligodendrocyte",
          "Oligodendrocyte",
          "Oligodendrocyte",
          "Oligodendrocyte",
          "Oligodendrocyte",
          "Oligodendrocyte",
          "Oligodendrocyte",
          "Oligodendrocyte",
          "Oligodendrocyte",
          "Oligodendrocyte",
          "Oligodendrocyte"
         ],
         "xaxis": "x",
         "y": [
          1.38629436111989,
          1.09861228866811,
          1.09861228866811,
          1.09861228866811,
          1.09861228866811,
          1.09861228866811,
          1.09861228866811,
          1.09861228866811,
          1.09861228866811,
          0.693147180559945,
          0.693147180559945
         ],
         "yaxis": "y"
        },
        {
         "alignmentgroup": "True",
         "customdata": [
          [
           "Mural_Fibroblast-Like",
           "Mural_Fibroblast-Like_Rgs5Acta2-Dcn [#3]",
           1.38629436111989,
           0.639263644667849
          ]
         ],
         "hovertemplate": "<b>%{hovertext}</b><br><br>Class=%{customdata[0]}<br>Rapgef2_Amount=%{customdata[2]}<br>Cluster=%{customdata[1]}<br>Rapgef2_PVal=%{customdata[3]}<extra></extra>",
         "hovertext": [
          "Mural_Fibroblast-Like_Rgs5Acta2-Dcn [#3]"
         ],
         "legendgroup": "Mural_Fibroblast-Like",
         "marker": {
          "color": "#FECB52"
         },
         "name": "Mural_Fibroblast-Like",
         "offsetgroup": "Mural_Fibroblast-Like",
         "orientation": "v",
         "showlegend": true,
         "textposition": "auto",
         "type": "bar",
         "x": [
          "Mural_Fibroblast-Like"
         ],
         "xaxis": "x",
         "y": [
          1.38629436111989
         ],
         "yaxis": "y"
        },
        {
         "alignmentgroup": "True",
         "customdata": [
          [
           "Neurogenesis",
           "Neurogenesis_Sox4 [#13]",
           1.38629436111989,
           7.41730218135675e-18
          ],
          [
           "Neurogenesis",
           "Neurogenesis_Sox4 [#2]",
           0.693147180559945,
           8.91329084250312e-29
          ]
         ],
         "hovertemplate": "<b>%{hovertext}</b><br><br>Class=%{customdata[0]}<br>Rapgef2_Amount=%{customdata[2]}<br>Cluster=%{customdata[1]}<br>Rapgef2_PVal=%{customdata[3]}<extra></extra>",
         "hovertext": [
          "Neurogenesis_Sox4 [#13]",
          "Neurogenesis_Sox4 [#2]"
         ],
         "legendgroup": "Neurogenesis",
         "marker": {
          "color": "#636efa"
         },
         "name": "Neurogenesis",
         "offsetgroup": "Neurogenesis",
         "orientation": "v",
         "showlegend": true,
         "textposition": "auto",
         "type": "bar",
         "x": [
          "Neurogenesis",
          "Neurogenesis"
         ],
         "xaxis": "x",
         "y": [
          1.38629436111989,
          0.693147180559945
         ],
         "yaxis": "y"
        },
        {
         "alignmentgroup": "True",
         "customdata": [
          [
           "Oligodendrocyte_Polydendrocyte",
           "Oligodendrocyte_Polydendrocyte_Tfr_Tnr [#6]",
           1.09861228866811,
           0.00036323604305688197
          ]
         ],
         "hovertemplate": "<b>%{hovertext}</b><br><br>Class=%{customdata[0]}<br>Rapgef2_Amount=%{customdata[2]}<br>Cluster=%{customdata[1]}<br>Rapgef2_PVal=%{customdata[3]}<extra></extra>",
         "hovertext": [
          "Oligodendrocyte_Polydendrocyte_Tfr_Tnr [#6]"
         ],
         "legendgroup": "Oligodendrocyte_Polydendrocyte",
         "marker": {
          "color": "#EF553B"
         },
         "name": "Oligodendrocyte_Polydendrocyte",
         "offsetgroup": "Oligodendrocyte_Polydendrocyte",
         "orientation": "v",
         "showlegend": true,
         "textposition": "auto",
         "type": "bar",
         "x": [
          "Oligodendrocyte_Polydendrocyte"
         ],
         "xaxis": "x",
         "y": [
          1.09861228866811
         ],
         "yaxis": "y"
        },
        {
         "alignmentgroup": "True",
         "customdata": [
          [
           "Choroid_Plexus",
           "Choroid_Plexus_Ttr [#9]",
           0.693147180559945,
           0.0426465568287287
          ],
          [
           "Choroid_Plexus",
           "Choroid_Plexus_Ttr [#12]",
           0.693147180559945,
           3.84913180354258e-08
          ]
         ],
         "hovertemplate": "<b>%{hovertext}</b><br><br>Class=%{customdata[0]}<br>Rapgef2_Amount=%{customdata[2]}<br>Cluster=%{customdata[1]}<br>Rapgef2_PVal=%{customdata[3]}<extra></extra>",
         "hovertext": [
          "Choroid_Plexus_Ttr [#9]",
          "Choroid_Plexus_Ttr [#12]"
         ],
         "legendgroup": "Choroid_Plexus",
         "marker": {
          "color": "#00cc96"
         },
         "name": "Choroid_Plexus",
         "offsetgroup": "Choroid_Plexus",
         "orientation": "v",
         "showlegend": true,
         "textposition": "auto",
         "type": "bar",
         "x": [
          "Choroid_Plexus",
          "Choroid_Plexus"
         ],
         "xaxis": "x",
         "y": [
          0.693147180559945,
          0.693147180559945
         ],
         "yaxis": "y"
        }
       ],
       "layout": {
        "barmode": "relative",
        "height": 800,
        "legend": {
         "title": {
          "text": "Class"
         },
         "tracegroupgap": 0
        },
        "margin": {
         "t": 60
        },
        "template": {
         "data": {
          "bar": [
           {
            "error_x": {
             "color": "#2a3f5f"
            },
            "error_y": {
             "color": "#2a3f5f"
            },
            "marker": {
             "line": {
              "color": "#E5ECF6",
              "width": 0.5
             }
            },
            "type": "bar"
           }
          ],
          "barpolar": [
           {
            "marker": {
             "line": {
              "color": "#E5ECF6",
              "width": 0.5
             }
            },
            "type": "barpolar"
           }
          ],
          "carpet": [
           {
            "aaxis": {
             "endlinecolor": "#2a3f5f",
             "gridcolor": "white",
             "linecolor": "white",
             "minorgridcolor": "white",
             "startlinecolor": "#2a3f5f"
            },
            "baxis": {
             "endlinecolor": "#2a3f5f",
             "gridcolor": "white",
             "linecolor": "white",
             "minorgridcolor": "white",
             "startlinecolor": "#2a3f5f"
            },
            "type": "carpet"
           }
          ],
          "choropleth": [
           {
            "colorbar": {
             "outlinewidth": 0,
             "ticks": ""
            },
            "type": "choropleth"
           }
          ],
          "contour": [
           {
            "colorbar": {
             "outlinewidth": 0,
             "ticks": ""
            },
            "colorscale": [
             [
              0,
              "#0d0887"
             ],
             [
              0.1111111111111111,
              "#46039f"
             ],
             [
              0.2222222222222222,
              "#7201a8"
             ],
             [
              0.3333333333333333,
              "#9c179e"
             ],
             [
              0.4444444444444444,
              "#bd3786"
             ],
             [
              0.5555555555555556,
              "#d8576b"
             ],
             [
              0.6666666666666666,
              "#ed7953"
             ],
             [
              0.7777777777777778,
              "#fb9f3a"
             ],
             [
              0.8888888888888888,
              "#fdca26"
             ],
             [
              1,
              "#f0f921"
             ]
            ],
            "type": "contour"
           }
          ],
          "contourcarpet": [
           {
            "colorbar": {
             "outlinewidth": 0,
             "ticks": ""
            },
            "type": "contourcarpet"
           }
          ],
          "heatmap": [
           {
            "colorbar": {
             "outlinewidth": 0,
             "ticks": ""
            },
            "colorscale": [
             [
              0,
              "#0d0887"
             ],
             [
              0.1111111111111111,
              "#46039f"
             ],
             [
              0.2222222222222222,
              "#7201a8"
             ],
             [
              0.3333333333333333,
              "#9c179e"
             ],
             [
              0.4444444444444444,
              "#bd3786"
             ],
             [
              0.5555555555555556,
              "#d8576b"
             ],
             [
              0.6666666666666666,
              "#ed7953"
             ],
             [
              0.7777777777777778,
              "#fb9f3a"
             ],
             [
              0.8888888888888888,
              "#fdca26"
             ],
             [
              1,
              "#f0f921"
             ]
            ],
            "type": "heatmap"
           }
          ],
          "heatmapgl": [
           {
            "colorbar": {
             "outlinewidth": 0,
             "ticks": ""
            },
            "colorscale": [
             [
              0,
              "#0d0887"
             ],
             [
              0.1111111111111111,
              "#46039f"
             ],
             [
              0.2222222222222222,
              "#7201a8"
             ],
             [
              0.3333333333333333,
              "#9c179e"
             ],
             [
              0.4444444444444444,
              "#bd3786"
             ],
             [
              0.5555555555555556,
              "#d8576b"
             ],
             [
              0.6666666666666666,
              "#ed7953"
             ],
             [
              0.7777777777777778,
              "#fb9f3a"
             ],
             [
              0.8888888888888888,
              "#fdca26"
             ],
             [
              1,
              "#f0f921"
             ]
            ],
            "type": "heatmapgl"
           }
          ],
          "histogram": [
           {
            "marker": {
             "colorbar": {
              "outlinewidth": 0,
              "ticks": ""
             }
            },
            "type": "histogram"
           }
          ],
          "histogram2d": [
           {
            "colorbar": {
             "outlinewidth": 0,
             "ticks": ""
            },
            "colorscale": [
             [
              0,
              "#0d0887"
             ],
             [
              0.1111111111111111,
              "#46039f"
             ],
             [
              0.2222222222222222,
              "#7201a8"
             ],
             [
              0.3333333333333333,
              "#9c179e"
             ],
             [
              0.4444444444444444,
              "#bd3786"
             ],
             [
              0.5555555555555556,
              "#d8576b"
             ],
             [
              0.6666666666666666,
              "#ed7953"
             ],
             [
              0.7777777777777778,
              "#fb9f3a"
             ],
             [
              0.8888888888888888,
              "#fdca26"
             ],
             [
              1,
              "#f0f921"
             ]
            ],
            "type": "histogram2d"
           }
          ],
          "histogram2dcontour": [
           {
            "colorbar": {
             "outlinewidth": 0,
             "ticks": ""
            },
            "colorscale": [
             [
              0,
              "#0d0887"
             ],
             [
              0.1111111111111111,
              "#46039f"
             ],
             [
              0.2222222222222222,
              "#7201a8"
             ],
             [
              0.3333333333333333,
              "#9c179e"
             ],
             [
              0.4444444444444444,
              "#bd3786"
             ],
             [
              0.5555555555555556,
              "#d8576b"
             ],
             [
              0.6666666666666666,
              "#ed7953"
             ],
             [
              0.7777777777777778,
              "#fb9f3a"
             ],
             [
              0.8888888888888888,
              "#fdca26"
             ],
             [
              1,
              "#f0f921"
             ]
            ],
            "type": "histogram2dcontour"
           }
          ],
          "mesh3d": [
           {
            "colorbar": {
             "outlinewidth": 0,
             "ticks": ""
            },
            "type": "mesh3d"
           }
          ],
          "parcoords": [
           {
            "line": {
             "colorbar": {
              "outlinewidth": 0,
              "ticks": ""
             }
            },
            "type": "parcoords"
           }
          ],
          "pie": [
           {
            "automargin": true,
            "type": "pie"
           }
          ],
          "scatter": [
           {
            "marker": {
             "colorbar": {
              "outlinewidth": 0,
              "ticks": ""
             }
            },
            "type": "scatter"
           }
          ],
          "scatter3d": [
           {
            "line": {
             "colorbar": {
              "outlinewidth": 0,
              "ticks": ""
             }
            },
            "marker": {
             "colorbar": {
              "outlinewidth": 0,
              "ticks": ""
             }
            },
            "type": "scatter3d"
           }
          ],
          "scattercarpet": [
           {
            "marker": {
             "colorbar": {
              "outlinewidth": 0,
              "ticks": ""
             }
            },
            "type": "scattercarpet"
           }
          ],
          "scattergeo": [
           {
            "marker": {
             "colorbar": {
              "outlinewidth": 0,
              "ticks": ""
             }
            },
            "type": "scattergeo"
           }
          ],
          "scattergl": [
           {
            "marker": {
             "colorbar": {
              "outlinewidth": 0,
              "ticks": ""
             }
            },
            "type": "scattergl"
           }
          ],
          "scattermapbox": [
           {
            "marker": {
             "colorbar": {
              "outlinewidth": 0,
              "ticks": ""
             }
            },
            "type": "scattermapbox"
           }
          ],
          "scatterpolar": [
           {
            "marker": {
             "colorbar": {
              "outlinewidth": 0,
              "ticks": ""
             }
            },
            "type": "scatterpolar"
           }
          ],
          "scatterpolargl": [
           {
            "marker": {
             "colorbar": {
              "outlinewidth": 0,
              "ticks": ""
             }
            },
            "type": "scatterpolargl"
           }
          ],
          "scatterternary": [
           {
            "marker": {
             "colorbar": {
              "outlinewidth": 0,
              "ticks": ""
             }
            },
            "type": "scatterternary"
           }
          ],
          "surface": [
           {
            "colorbar": {
             "outlinewidth": 0,
             "ticks": ""
            },
            "colorscale": [
             [
              0,
              "#0d0887"
             ],
             [
              0.1111111111111111,
              "#46039f"
             ],
             [
              0.2222222222222222,
              "#7201a8"
             ],
             [
              0.3333333333333333,
              "#9c179e"
             ],
             [
              0.4444444444444444,
              "#bd3786"
             ],
             [
              0.5555555555555556,
              "#d8576b"
             ],
             [
              0.6666666666666666,
              "#ed7953"
             ],
             [
              0.7777777777777778,
              "#fb9f3a"
             ],
             [
              0.8888888888888888,
              "#fdca26"
             ],
             [
              1,
              "#f0f921"
             ]
            ],
            "type": "surface"
           }
          ],
          "table": [
           {
            "cells": {
             "fill": {
              "color": "#EBF0F8"
             },
             "line": {
              "color": "white"
             }
            },
            "header": {
             "fill": {
              "color": "#C8D4E3"
             },
             "line": {
              "color": "white"
             }
            },
            "type": "table"
           }
          ]
         },
         "layout": {
          "annotationdefaults": {
           "arrowcolor": "#2a3f5f",
           "arrowhead": 0,
           "arrowwidth": 1
          },
          "coloraxis": {
           "colorbar": {
            "outlinewidth": 0,
            "ticks": ""
           }
          },
          "colorscale": {
           "diverging": [
            [
             0,
             "#8e0152"
            ],
            [
             0.1,
             "#c51b7d"
            ],
            [
             0.2,
             "#de77ae"
            ],
            [
             0.3,
             "#f1b6da"
            ],
            [
             0.4,
             "#fde0ef"
            ],
            [
             0.5,
             "#f7f7f7"
            ],
            [
             0.6,
             "#e6f5d0"
            ],
            [
             0.7,
             "#b8e186"
            ],
            [
             0.8,
             "#7fbc41"
            ],
            [
             0.9,
             "#4d9221"
            ],
            [
             1,
             "#276419"
            ]
           ],
           "sequential": [
            [
             0,
             "#0d0887"
            ],
            [
             0.1111111111111111,
             "#46039f"
            ],
            [
             0.2222222222222222,
             "#7201a8"
            ],
            [
             0.3333333333333333,
             "#9c179e"
            ],
            [
             0.4444444444444444,
             "#bd3786"
            ],
            [
             0.5555555555555556,
             "#d8576b"
            ],
            [
             0.6666666666666666,
             "#ed7953"
            ],
            [
             0.7777777777777778,
             "#fb9f3a"
            ],
            [
             0.8888888888888888,
             "#fdca26"
            ],
            [
             1,
             "#f0f921"
            ]
           ],
           "sequentialminus": [
            [
             0,
             "#0d0887"
            ],
            [
             0.1111111111111111,
             "#46039f"
            ],
            [
             0.2222222222222222,
             "#7201a8"
            ],
            [
             0.3333333333333333,
             "#9c179e"
            ],
            [
             0.4444444444444444,
             "#bd3786"
            ],
            [
             0.5555555555555556,
             "#d8576b"
            ],
            [
             0.6666666666666666,
             "#ed7953"
            ],
            [
             0.7777777777777778,
             "#fb9f3a"
            ],
            [
             0.8888888888888888,
             "#fdca26"
            ],
            [
             1,
             "#f0f921"
            ]
           ]
          },
          "colorway": [
           "#636efa",
           "#EF553B",
           "#00cc96",
           "#ab63fa",
           "#FFA15A",
           "#19d3f3",
           "#FF6692",
           "#B6E880",
           "#FF97FF",
           "#FECB52"
          ],
          "font": {
           "color": "#2a3f5f"
          },
          "geo": {
           "bgcolor": "white",
           "lakecolor": "white",
           "landcolor": "#E5ECF6",
           "showlakes": true,
           "showland": true,
           "subunitcolor": "white"
          },
          "hoverlabel": {
           "align": "left"
          },
          "hovermode": "closest",
          "mapbox": {
           "style": "light"
          },
          "paper_bgcolor": "white",
          "plot_bgcolor": "#E5ECF6",
          "polar": {
           "angularaxis": {
            "gridcolor": "white",
            "linecolor": "white",
            "ticks": ""
           },
           "bgcolor": "#E5ECF6",
           "radialaxis": {
            "gridcolor": "white",
            "linecolor": "white",
            "ticks": ""
           }
          },
          "scene": {
           "xaxis": {
            "backgroundcolor": "#E5ECF6",
            "gridcolor": "white",
            "gridwidth": 2,
            "linecolor": "white",
            "showbackground": true,
            "ticks": "",
            "zerolinecolor": "white"
           },
           "yaxis": {
            "backgroundcolor": "#E5ECF6",
            "gridcolor": "white",
            "gridwidth": 2,
            "linecolor": "white",
            "showbackground": true,
            "ticks": "",
            "zerolinecolor": "white"
           },
           "zaxis": {
            "backgroundcolor": "#E5ECF6",
            "gridcolor": "white",
            "gridwidth": 2,
            "linecolor": "white",
            "showbackground": true,
            "ticks": "",
            "zerolinecolor": "white"
           }
          },
          "shapedefaults": {
           "line": {
            "color": "#2a3f5f"
           }
          },
          "ternary": {
           "aaxis": {
            "gridcolor": "white",
            "linecolor": "white",
            "ticks": ""
           },
           "baxis": {
            "gridcolor": "white",
            "linecolor": "white",
            "ticks": ""
           },
           "bgcolor": "#E5ECF6",
           "caxis": {
            "gridcolor": "white",
            "linecolor": "white",
            "ticks": ""
           }
          },
          "title": {
           "x": 0.05
          },
          "xaxis": {
           "automargin": true,
           "gridcolor": "white",
           "linecolor": "white",
           "ticks": "",
           "title": {
            "standoff": 15
           },
           "zerolinecolor": "white",
           "zerolinewidth": 2
          },
          "yaxis": {
           "automargin": true,
           "gridcolor": "white",
           "linecolor": "white",
           "ticks": "",
           "title": {
            "standoff": 15
           },
           "zerolinecolor": "white",
           "zerolinewidth": 2
          }
         }
        },
        "title": {
         "text": "Rapgef2: Adult mouse, Single Cell, Saunder, 2018 (DropViz)"
        },
        "width": 1000,
        "xaxis": {
         "anchor": "y",
         "categoryarray": [
          "Neuron",
          "Endothelial",
          "Microglia_Macrophage",
          "Polydendrocyte",
          "Mural",
          "Fibroblast-Like",
          "Ependyma",
          "Astrocyte",
          "Oligodendrocyte",
          "Mural_Fibroblast-Like",
          "Neurogenesis",
          "Oligodendrocyte_Polydendrocyte",
          "Choroid_Plexus"
         ],
         "categoryorder": "array",
         "domain": [
          0,
          1
         ],
         "title": {
          "text": "Cell Type"
         }
        },
        "yaxis": {
         "anchor": "x",
         "domain": [
          0,
          1
         ],
         "title": {
          "text": "Expression"
         }
        }
       }
      },
      "text/html": [
       "<div>\n",
       "        \n",
       "        \n",
       "            <div id=\"5f7a1fb0-8e09-48a2-be73-83e58302329e\" class=\"plotly-graph-div\" style=\"height:800px; width:1000px;\"></div>\n",
       "            <script type=\"text/javascript\">\n",
       "                require([\"plotly\"], function(Plotly) {\n",
       "                    window.PLOTLYENV=window.PLOTLYENV || {};\n",
       "                    \n",
       "                if (document.getElementById(\"5f7a1fb0-8e09-48a2-be73-83e58302329e\")) {\n",
       "                    Plotly.newPlot(\n",
       "                        '5f7a1fb0-8e09-48a2-be73-83e58302329e',\n",
       "                        [{\"alignmentgroup\": \"True\", \"customdata\": [[\"Neuron\", \"Neuron_CA2CA3_Pvrl3-Rgs15-Calb2 [#6]\", 2.83321334405622, 0.0], [\"Neuron\", \"Neuron_Subiculum_Slc17a6 [#2]\", 2.7080502011022096, 8.395659836866479e-31], [\"Neuron\", \"RSG_Tshz2-Shisa8 [#6]\", 2.6390573296152597, 2.04576845240115e-107], [\"Neuron\", \"Neuron_Claustrum_Nr4a2 [#5]\", 2.484906649788, 4.08400032039014e-11], [\"Neuron\", \"Neuron_Layer5_Parm1 [#7]\", 2.3978952727983702, 2.38100419074208e-40], [\"Neuron\", \"Neuron_Subiculum_Entorhinal_Nxph3 [#3]\", 2.3978952727983702, 0.00308944818365243], [\"Neuron\", \"Neuron_Dentate_C1ql2 [#4]\", 2.3978952727983702, 8.476327376513849e-16], [\"Neuron\", \"Neuron_CA1_Subiculum_Postsubiculum_Entorhinal_Fibcd1-Dcn-Cbln1-Ptgfr-Fezf2 [#5]\", 2.3978952727983702, 0.0554503267529836], [\"Neuron\", \"Neuron_dSPN_Drd1 [#10]\", 2.3978952727983702, 1.0216283241220297e-79], [\"Neuron\", \"Neuron_Layer23_Nptxr [#6]\", 2.30258509299405, 9.457377094537159e-78], [\"Neuron\", \"Neuron_Ppp1r1b [#3]\", 2.30258509299405, 1.8449111529613893e-160], [\"Neuron\", \"Neuron_iSPN_Adora2a [#11]\", 2.30258509299405, 0.00025053024506471803], [\"Neuron\", \"Neuron_SPN_BNST_Amygdala_Otof [#13]\", 2.30258509299405, 0.153343908737328], [\"Neuron\", \"Neuron_Layer6Subplate_Syt6 [#3]\", 2.19722457733622, 1.3203933214913901e-05], [\"Neuron\", \"Neuron_Layer6Subplate_Syt6 [#1]\", 2.19722457733622, 0.194047659376876], [\"Neuron\", \"Neuron_Layer23_5_6_Subiculum_Calb1-Rorb-Fermt1-Tshz2-Oprk1-Crym-Sema3e [#2]\", 2.19722457733622, 0.0037563751311186703], [\"Neuron\", \"Neuron_Layer5_Bcl6 [#3]\", 2.19722457733622, 0.00431631623411374], [\"Neuron\", \"Interneuron_CGE_Cplx3-Synpr [#1]\", 2.07944154167984, 0.000279315538527082], [\"Neuron\", \"Interneuron_MGE_Sst-Pvalb [#2]\", 2.07944154167984, 2.7334910469714998e-05], [\"Neuron\", \"Neuron_Layer5b_Fezf2 [#4]\", 2.07944154167984, 0.000779548184255756], [\"Neuron\", \"Interneuron_CGE_Cplx3-Synpr [#4]\", 2.07944154167984, 0.0536532635228013], [\"Neuron\", \"Interneuron_MGE_Sst-Pvalb [#5]\", 2.07944154167984, 0.146184065984034], [\"Neuron\", \"Layer5b_Fezf2 [#7]\", 2.07944154167984, 0.22644718861229698], [\"Neuron\", \"Interneuron_Gad2 [#1]\", 2.07944154167984, 2.11724779689152e-44], [\"Neuron\", \"Neuron_Gad2-Ahi1 [#3]\", 2.07944154167984, 5.026535384337099e-56], [\"Neuron\", \"Interneurons_and_Other_Nnat [#4]\", 1.9459101490553101, 0.10706606257167], [\"Neuron\", \"Interneuron_Pvalb_Th_Pnoc [#14]\", 1.9459101490553101, 8.17709121905317e-07], [\"Neuron\", \"Interneuron_Sst [#15]\", 1.9459101490553101, 7.080372174011159e-07], [\"Neuron\", \"Neuron_CA3_C1ql3 [#1]\", 1.9459101490553101, 0.0256506522864582], [\"Neuron\", \"Neuron_Rora [#2]\", 1.9459101490553101, 0.0166059844979101], [\"Neuron\", \"Neuron_Syt1 [#4]\", 1.79175946922805, 1.25197128995084e-24], [\"Neuron\", \"Neuron_Gabra1 [#2]\", 1.79175946922805, 1.57532829508569e-25], [\"Neuron\", \"Neuron_CajalRetzius_Lhx1 [#14]\", 1.79175946922805, 1.18968826336102e-05], [\"Neuron\", \"Neuron_Gad2 [#3]\", 1.79175946922805, 6.17260809057622e-65], [\"Neuron\", \"Neuron_Habenula_Tac2 [#1]\", 1.79175946922805, 0.9543560730527451], [\"Neuron\", \"Neuron_Rora [#2]\", 1.79175946922805, 7.847678298460959e-35], [\"Neuron\", \"GranularNeuron_Gabra6 [#1]\", 1.6094379124341003, 1.73675101298754e-18], [\"Neuron\", \"Interneurons_Pvalb [#3]\", 1.6094379124341003, 0.203723812470323], [\"Neuron\", \"Interneuron_Chat [#12]\", 1.6094379124341003, 1.79125995385936e-09], [\"Neuron\", \"Neuron_Chat [#1]\", 1.38629436111989, 0.0028261219723870303], [\"Neuron\", \"Neuron_Th [#4]\", 1.38629436111989, 0.92859716777852], [\"Neuron\", \"PurkinjeNeuron_Pcp2 [#2]\", 0.693147180559945, 1.18792292476695e-10]], \"hovertemplate\": \"<b>%{hovertext}</b><br><br>Class=%{customdata[0]}<br>Rapgef2_Amount=%{customdata[2]}<br>Cluster=%{customdata[1]}<br>Rapgef2_PVal=%{customdata[3]}<extra></extra>\", \"hovertext\": [\"Neuron_CA2CA3_Pvrl3-Rgs15-Calb2 [#6]\", \"Neuron_Subiculum_Slc17a6 [#2]\", \"RSG_Tshz2-Shisa8 [#6]\", \"Neuron_Claustrum_Nr4a2 [#5]\", \"Neuron_Layer5_Parm1 [#7]\", \"Neuron_Subiculum_Entorhinal_Nxph3 [#3]\", \"Neuron_Dentate_C1ql2 [#4]\", \"Neuron_CA1_Subiculum_Postsubiculum_Entorhinal_Fibcd1-Dcn-Cbln1-Ptgfr-Fezf2 [#5]\", \"Neuron_dSPN_Drd1 [#10]\", \"Neuron_Layer23_Nptxr [#6]\", \"Neuron_Ppp1r1b [#3]\", \"Neuron_iSPN_Adora2a [#11]\", \"Neuron_SPN_BNST_Amygdala_Otof [#13]\", \"Neuron_Layer6Subplate_Syt6 [#3]\", \"Neuron_Layer6Subplate_Syt6 [#1]\", \"Neuron_Layer23_5_6_Subiculum_Calb1-Rorb-Fermt1-Tshz2-Oprk1-Crym-Sema3e [#2]\", \"Neuron_Layer5_Bcl6 [#3]\", \"Interneuron_CGE_Cplx3-Synpr [#1]\", \"Interneuron_MGE_Sst-Pvalb [#2]\", \"Neuron_Layer5b_Fezf2 [#4]\", \"Interneuron_CGE_Cplx3-Synpr [#4]\", \"Interneuron_MGE_Sst-Pvalb [#5]\", \"Layer5b_Fezf2 [#7]\", \"Interneuron_Gad2 [#1]\", \"Neuron_Gad2-Ahi1 [#3]\", \"Interneurons_and_Other_Nnat [#4]\", \"Interneuron_Pvalb_Th_Pnoc [#14]\", \"Interneuron_Sst [#15]\", \"Neuron_CA3_C1ql3 [#1]\", \"Neuron_Rora [#2]\", \"Neuron_Syt1 [#4]\", \"Neuron_Gabra1 [#2]\", \"Neuron_CajalRetzius_Lhx1 [#14]\", \"Neuron_Gad2 [#3]\", \"Neuron_Habenula_Tac2 [#1]\", \"Neuron_Rora [#2]\", \"GranularNeuron_Gabra6 [#1]\", \"Interneurons_Pvalb [#3]\", \"Interneuron_Chat [#12]\", \"Neuron_Chat [#1]\", \"Neuron_Th [#4]\", \"PurkinjeNeuron_Pcp2 [#2]\"], \"legendgroup\": \"Neuron\", \"marker\": {\"color\": \"#636efa\"}, \"name\": \"Neuron\", \"offsetgroup\": \"Neuron\", \"orientation\": \"v\", \"showlegend\": true, \"textposition\": \"auto\", \"type\": \"bar\", \"x\": [\"Neuron\", \"Neuron\", \"Neuron\", \"Neuron\", \"Neuron\", \"Neuron\", \"Neuron\", \"Neuron\", \"Neuron\", \"Neuron\", \"Neuron\", \"Neuron\", \"Neuron\", \"Neuron\", \"Neuron\", \"Neuron\", \"Neuron\", \"Neuron\", \"Neuron\", \"Neuron\", \"Neuron\", \"Neuron\", \"Neuron\", \"Neuron\", \"Neuron\", \"Neuron\", \"Neuron\", \"Neuron\", \"Neuron\", \"Neuron\", \"Neuron\", \"Neuron\", \"Neuron\", \"Neuron\", \"Neuron\", \"Neuron\", \"Neuron\", \"Neuron\", \"Neuron\", \"Neuron\", \"Neuron\", \"Neuron\"], \"xaxis\": \"x\", \"y\": [2.83321334405622, 2.7080502011022096, 2.6390573296152597, 2.484906649788, 2.3978952727983702, 2.3978952727983702, 2.3978952727983702, 2.3978952727983702, 2.3978952727983702, 2.30258509299405, 2.30258509299405, 2.30258509299405, 2.30258509299405, 2.19722457733622, 2.19722457733622, 2.19722457733622, 2.19722457733622, 2.07944154167984, 2.07944154167984, 2.07944154167984, 2.07944154167984, 2.07944154167984, 2.07944154167984, 2.07944154167984, 2.07944154167984, 1.9459101490553101, 1.9459101490553101, 1.9459101490553101, 1.9459101490553101, 1.9459101490553101, 1.79175946922805, 1.79175946922805, 1.79175946922805, 1.79175946922805, 1.79175946922805, 1.79175946922805, 1.6094379124341003, 1.6094379124341003, 1.6094379124341003, 1.38629436111989, 1.38629436111989, 0.693147180559945], \"yaxis\": \"y\"}, {\"alignmentgroup\": \"True\", \"customdata\": [[\"Endothelial\", \"Endothelial_Flt1 [#12]\", 2.3978952727983702, 4.40665977396744e-15], [\"Endothelial\", \"Endothelial_Flt1 [#7]\", 2.3978952727983702, 6.4904261133257686e-114], [\"Endothelial\", \"Endothelial_Flt1 [#4]\", 2.3978952727983702, 6.691088642699817e-171], [\"Endothelial\", \"Endothelial_Flt1 [#12]\", 2.30258509299405, 1.31248904844705e-05], [\"Endothelial\", \"Endothelial_Flt1 [#2]\", 2.30258509299405, 1.06178373845168e-52], [\"Endothelial\", \"Endothelial_Flt1 [#15]\", 2.30258509299405, 0.006363408180190829], [\"Endothelial\", \"Endothelial_Flt1 [#7]\", 2.30258509299405, 0.6284673104457571], [\"Endothelial\", \"Endothelial_Flt1 [#12]\", 2.30258509299405, 1.67267522002675e-110], [\"Endothelial\", \"Endothelial_Flt1 [#10]\", 1.79175946922805, 0.0144725822990474]], \"hovertemplate\": \"<b>%{hovertext}</b><br><br>Class=%{customdata[0]}<br>Rapgef2_Amount=%{customdata[2]}<br>Cluster=%{customdata[1]}<br>Rapgef2_PVal=%{customdata[3]}<extra></extra>\", \"hovertext\": [\"Endothelial_Flt1 [#12]\", \"Endothelial_Flt1 [#7]\", \"Endothelial_Flt1 [#4]\", \"Endothelial_Flt1 [#12]\", \"Endothelial_Flt1 [#2]\", \"Endothelial_Flt1 [#15]\", \"Endothelial_Flt1 [#7]\", \"Endothelial_Flt1 [#12]\", \"Endothelial_Flt1 [#10]\"], \"legendgroup\": \"Endothelial\", \"marker\": {\"color\": \"#EF553B\"}, \"name\": \"Endothelial\", \"offsetgroup\": \"Endothelial\", \"orientation\": \"v\", \"showlegend\": true, \"textposition\": \"auto\", \"type\": \"bar\", \"x\": [\"Endothelial\", \"Endothelial\", \"Endothelial\", \"Endothelial\", \"Endothelial\", \"Endothelial\", \"Endothelial\", \"Endothelial\", \"Endothelial\"], \"xaxis\": \"x\", \"y\": [2.3978952727983702, 2.3978952727983702, 2.3978952727983702, 2.30258509299405, 2.30258509299405, 2.30258509299405, 2.30258509299405, 2.30258509299405, 1.79175946922805], \"yaxis\": \"y\"}, {\"alignmentgroup\": \"True\", \"customdata\": [[\"Microglia_Macrophage\", \"Microglia_Macrophage_C1qb [#11]\", 1.9459101490553101, 0.000828026835336854], [\"Microglia_Macrophage\", \"Microglia_Macrophage_Tmem119-Mrc1 [#11]\", 1.79175946922805, 0.0007552144256360299], [\"Microglia_Macrophage\", \"Microglia_Macrophage_C1qb [#9]\", 1.79175946922805, 0.72435692397616], [\"Microglia_Macrophage\", \"Microglia_Macrophage_C1qb [#11]\", 1.6094379124341003, 0.350521353975846], [\"Microglia_Macrophage\", \"Microglia_Macrophage_C1qb [#5]\", 1.38629436111989, 1.0], [\"Microglia_Macrophage\", \"Microglia_Macrophage_C1qb [#10]\", 1.38629436111989, 1.20276580325459e-13], [\"Microglia_Macrophage\", \"Microglia_Macrophage_C1qb [#6]\", 1.38629436111989, 2.76480750070967e-08], [\"Microglia_Macrophage\", \"Microglia_Macrophage_C1qb [#7]\", 1.38629436111989, 0.21636739638133398]], \"hovertemplate\": \"<b>%{hovertext}</b><br><br>Class=%{customdata[0]}<br>Rapgef2_Amount=%{customdata[2]}<br>Cluster=%{customdata[1]}<br>Rapgef2_PVal=%{customdata[3]}<extra></extra>\", \"hovertext\": [\"Microglia_Macrophage_C1qb [#11]\", \"Microglia_Macrophage_Tmem119-Mrc1 [#11]\", \"Microglia_Macrophage_C1qb [#9]\", \"Microglia_Macrophage_C1qb [#11]\", \"Microglia_Macrophage_C1qb [#5]\", \"Microglia_Macrophage_C1qb [#10]\", \"Microglia_Macrophage_C1qb [#6]\", \"Microglia_Macrophage_C1qb [#7]\"], \"legendgroup\": \"Microglia_Macrophage\", \"marker\": {\"color\": \"#00cc96\"}, \"name\": \"Microglia_Macrophage\", \"offsetgroup\": \"Microglia_Macrophage\", \"orientation\": \"v\", \"showlegend\": true, \"textposition\": \"auto\", \"type\": \"bar\", \"x\": [\"Microglia_Macrophage\", \"Microglia_Macrophage\", \"Microglia_Macrophage\", \"Microglia_Macrophage\", \"Microglia_Macrophage\", \"Microglia_Macrophage\", \"Microglia_Macrophage\", \"Microglia_Macrophage\"], \"xaxis\": \"x\", \"y\": [1.9459101490553101, 1.79175946922805, 1.79175946922805, 1.6094379124341003, 1.38629436111989, 1.38629436111989, 1.38629436111989, 1.38629436111989], \"yaxis\": \"y\"}, {\"alignmentgroup\": \"True\", \"customdata\": [[\"Polydendrocyte\", \"Polydendrocyte_Tnr [#10]\", 1.9459101490553101, 0.000152815223778874], [\"Polydendrocyte\", \"Polydendrocyte_Cacng4 [#6]\", 1.9459101490553101, 0.0069983746516588], [\"Polydendrocyte\", \"Polydendrocyte_Tnr [#9]\", 1.9459101490553101, 1.2003031355035401e-16], [\"Polydendrocyte\", \"Polydendrocyte_Tnr [#10]\", 1.79175946922805, 6.3607687731623e-20], [\"Polydendrocyte\", \"Polydendrocyte_Cacng4 [#6]\", 1.79175946922805, 0.251857801049146], [\"Polydendrocyte\", \"Polydendrocyte_Tnr [#4]\", 1.6094379124341003, 0.00771879891596438], [\"Polydendrocyte\", \"Polydendrocyte_Tnr [#12]\", 1.6094379124341003, 0.00327500487207077], [\"Polydendrocyte\", \"Polydendrocyte_Tnr [#5]\", 1.38629436111989, 0.9295341041400258], [\"Polydendrocyte\", \"Polydendrocytes_Tnr [#5]\", 1.38629436111989, 1.33730692279079e-11], [\"Polydendrocyte\", \"Polydendrocyte_Tnr [#5]\", 1.38629436111989, 0.0607223888241891]], \"hovertemplate\": \"<b>%{hovertext}</b><br><br>Class=%{customdata[0]}<br>Rapgef2_Amount=%{customdata[2]}<br>Cluster=%{customdata[1]}<br>Rapgef2_PVal=%{customdata[3]}<extra></extra>\", \"hovertext\": [\"Polydendrocyte_Tnr [#10]\", \"Polydendrocyte_Cacng4 [#6]\", \"Polydendrocyte_Tnr [#9]\", \"Polydendrocyte_Tnr [#10]\", \"Polydendrocyte_Cacng4 [#6]\", \"Polydendrocyte_Tnr [#4]\", \"Polydendrocyte_Tnr [#12]\", \"Polydendrocyte_Tnr [#5]\", \"Polydendrocytes_Tnr [#5]\", \"Polydendrocyte_Tnr [#5]\"], \"legendgroup\": \"Polydendrocyte\", \"marker\": {\"color\": \"#ab63fa\"}, \"name\": \"Polydendrocyte\", \"offsetgroup\": \"Polydendrocyte\", \"orientation\": \"v\", \"showlegend\": true, \"textposition\": \"auto\", \"type\": \"bar\", \"x\": [\"Polydendrocyte\", \"Polydendrocyte\", \"Polydendrocyte\", \"Polydendrocyte\", \"Polydendrocyte\", \"Polydendrocyte\", \"Polydendrocyte\", \"Polydendrocyte\", \"Polydendrocyte\", \"Polydendrocyte\"], \"xaxis\": \"x\", \"y\": [1.9459101490553101, 1.9459101490553101, 1.9459101490553101, 1.79175946922805, 1.79175946922805, 1.6094379124341003, 1.6094379124341003, 1.38629436111989, 1.38629436111989, 1.38629436111989], \"yaxis\": \"y\"}, {\"alignmentgroup\": \"True\", \"customdata\": [[\"Mural\", \"Mural_Rgs5Acta2 [#13]\", 1.79175946922805, 8.119370014787241e-05], [\"Mural\", \"Mural_Rgs5Acta2 [#8]\", 1.79175946922805, 0.189023615583846], [\"Mural\", \"Mural_Rgs5Acta2 [#16]\", 1.79175946922805, 2.3515885448863e-14], [\"Mural\", \"Mural_Rgs5Acta2 [#13]\", 1.6094379124341003, 1.50161641052176e-12], [\"Mural\", \"Mural_Rgs5Acta2 [#8]\", 1.6094379124341003, 1.53275060204671e-05], [\"Mural\", \"Mural_Rgs5Acta2 [#13]\", 1.38629436111989, 0.0268152843274057], [\"Mural\", \"Mural_Rgs5Acta2 [#5]\", 1.09861228866811, 5.3517746994949e-09]], \"hovertemplate\": \"<b>%{hovertext}</b><br><br>Class=%{customdata[0]}<br>Rapgef2_Amount=%{customdata[2]}<br>Cluster=%{customdata[1]}<br>Rapgef2_PVal=%{customdata[3]}<extra></extra>\", \"hovertext\": [\"Mural_Rgs5Acta2 [#13]\", \"Mural_Rgs5Acta2 [#8]\", \"Mural_Rgs5Acta2 [#16]\", \"Mural_Rgs5Acta2 [#13]\", \"Mural_Rgs5Acta2 [#8]\", \"Mural_Rgs5Acta2 [#13]\", \"Mural_Rgs5Acta2 [#5]\"], \"legendgroup\": \"Mural\", \"marker\": {\"color\": \"#FFA15A\"}, \"name\": \"Mural\", \"offsetgroup\": \"Mural\", \"orientation\": \"v\", \"showlegend\": true, \"textposition\": \"auto\", \"type\": \"bar\", \"x\": [\"Mural\", \"Mural\", \"Mural\", \"Mural\", \"Mural\", \"Mural\", \"Mural\"], \"xaxis\": \"x\", \"y\": [1.79175946922805, 1.79175946922805, 1.79175946922805, 1.6094379124341003, 1.6094379124341003, 1.38629436111989, 1.09861228866811], \"yaxis\": \"y\"}, {\"alignmentgroup\": \"True\", \"customdata\": [[\"Fibroblast-Like\", \"Fibroblast-Like_Dcn [#11]\", 1.6094379124341003, 0.270637432891013], [\"Fibroblast-Like\", \"Fibroblast-Like_Dcn [#14]\", 1.6094379124341003, 1.04647936919361e-06], [\"Fibroblast-Like\", \"Fibroblast-Like_Dcn [#17]\", 1.6094379124341003, 1.4386936541247902e-10], [\"Fibroblast-Like\", \"Fibroblast-Like_Dcn [#14]\", 1.38629436111989, 2.58624032364085e-10], [\"Fibroblast-Like\", \"Fibroblast-Like_Dcn [#14]\", 1.38629436111989, 0.504613607373631], [\"Fibroblast-Like\", \"Fibroblast-Like_Dcn [#9]\", 1.09861228866811, 0.000529451734125346], [\"Fibroblast-Like\", \"Fibroblast-Like_Dcn [#9]\", 1.09861228866811, 0.000286117428408625], [\"Fibroblast-Like\", \"Fibroblast-Like_Dcn [#6]\", 1.09861228866811, 0.00347509202417995]], \"hovertemplate\": \"<b>%{hovertext}</b><br><br>Class=%{customdata[0]}<br>Rapgef2_Amount=%{customdata[2]}<br>Cluster=%{customdata[1]}<br>Rapgef2_PVal=%{customdata[3]}<extra></extra>\", \"hovertext\": [\"Fibroblast-Like_Dcn [#11]\", \"Fibroblast-Like_Dcn [#14]\", \"Fibroblast-Like_Dcn [#17]\", \"Fibroblast-Like_Dcn [#14]\", \"Fibroblast-Like_Dcn [#14]\", \"Fibroblast-Like_Dcn [#9]\", \"Fibroblast-Like_Dcn [#9]\", \"Fibroblast-Like_Dcn [#6]\"], \"legendgroup\": \"Fibroblast-Like\", \"marker\": {\"color\": \"#19d3f3\"}, \"name\": \"Fibroblast-Like\", \"offsetgroup\": \"Fibroblast-Like\", \"orientation\": \"v\", \"showlegend\": true, \"textposition\": \"auto\", \"type\": \"bar\", \"x\": [\"Fibroblast-Like\", \"Fibroblast-Like\", \"Fibroblast-Like\", \"Fibroblast-Like\", \"Fibroblast-Like\", \"Fibroblast-Like\", \"Fibroblast-Like\", \"Fibroblast-Like\"], \"xaxis\": \"x\", \"y\": [1.6094379124341003, 1.6094379124341003, 1.6094379124341003, 1.38629436111989, 1.38629436111989, 1.09861228866811, 1.09861228866811, 1.09861228866811], \"yaxis\": \"y\"}, {\"alignmentgroup\": \"True\", \"customdata\": [[\"Ependyma\", \"Ependyma [#11]\", 1.6094379124341003, 1.54716792094626e-20], [\"Ependyma\", \"Ependyma [#6]\", 1.38629436111989, 0.8509395884992971], [\"Ependyma\", \"Ependyma [#10]\", 1.38629436111989, 0.000123412095684622], [\"Ependyma\", \"Ependyma [#1]\", 1.09861228866811, 2.56294224586472e-11], [\"Ependyma\", \"Ependyma [#8]\", 0.0, 0.282091515156483]], \"hovertemplate\": \"<b>%{hovertext}</b><br><br>Class=%{customdata[0]}<br>Rapgef2_Amount=%{customdata[2]}<br>Cluster=%{customdata[1]}<br>Rapgef2_PVal=%{customdata[3]}<extra></extra>\", \"hovertext\": [\"Ependyma [#11]\", \"Ependyma [#6]\", \"Ependyma [#10]\", \"Ependyma [#1]\", \"Ependyma [#8]\"], \"legendgroup\": \"Ependyma\", \"marker\": {\"color\": \"#FF6692\"}, \"name\": \"Ependyma\", \"offsetgroup\": \"Ependyma\", \"orientation\": \"v\", \"showlegend\": true, \"textposition\": \"auto\", \"type\": \"bar\", \"x\": [\"Ependyma\", \"Ependyma\", \"Ependyma\", \"Ependyma\", \"Ependyma\"], \"xaxis\": \"x\", \"y\": [1.6094379124341003, 1.38629436111989, 1.38629436111989, 1.09861228866811, 0.0], \"yaxis\": \"y\"}, {\"alignmentgroup\": \"True\", \"customdata\": [[\"Astrocyte\", \"Astrocyte_Gja1 [#8]\", 1.38629436111989, 0.207546139989629], [\"Astrocyte\", \"Astrocyte_Gja1 [#7]\", 1.38629436111989, 0.8238031283144499], [\"Astrocyte\", \"Astrocyte_Gja1 [#8]\", 1.09861228866811, 8.30033878669186e-108], [\"Astrocyte\", \"Astrocyte_Gja1 [#8]\", 1.09861228866811, 1.80165119787941e-95], [\"Astrocyte\", \"Astrocyte_Gja1 [#5]\", 1.09861228866811, 2.9024595334880697e-62], [\"Astrocyte\", \"Astrocyte_Gja1 [#7]\", 1.09861228866811, 0.0], [\"Astrocyte\", \"Astrocyte_Gja1 [#7]\", 1.09861228866811, 7.057369680979029e-05], [\"Astrocyte\", \"Astrocyte_Gja1 [#11]\", 1.09861228866811, 2.8617207807286203e-06], [\"Astrocyte\", \"BergmannGlia_Gpr37l1 [#7]\", 0.693147180559945, 4.7275554824616604e-17], [\"Astrocyte\", \"Astrocyte_Gja1 [#4]\", 0.693147180559945, 2.829559034875449e-77]], \"hovertemplate\": \"<b>%{hovertext}</b><br><br>Class=%{customdata[0]}<br>Rapgef2_Amount=%{customdata[2]}<br>Cluster=%{customdata[1]}<br>Rapgef2_PVal=%{customdata[3]}<extra></extra>\", \"hovertext\": [\"Astrocyte_Gja1 [#8]\", \"Astrocyte_Gja1 [#7]\", \"Astrocyte_Gja1 [#8]\", \"Astrocyte_Gja1 [#8]\", \"Astrocyte_Gja1 [#5]\", \"Astrocyte_Gja1 [#7]\", \"Astrocyte_Gja1 [#7]\", \"Astrocyte_Gja1 [#11]\", \"BergmannGlia_Gpr37l1 [#7]\", \"Astrocyte_Gja1 [#4]\"], \"legendgroup\": \"Astrocyte\", \"marker\": {\"color\": \"#B6E880\"}, \"name\": \"Astrocyte\", \"offsetgroup\": \"Astrocyte\", \"orientation\": \"v\", \"showlegend\": true, \"textposition\": \"auto\", \"type\": \"bar\", \"x\": [\"Astrocyte\", \"Astrocyte\", \"Astrocyte\", \"Astrocyte\", \"Astrocyte\", \"Astrocyte\", \"Astrocyte\", \"Astrocyte\", \"Astrocyte\", \"Astrocyte\"], \"xaxis\": \"x\", \"y\": [1.38629436111989, 1.38629436111989, 1.09861228866811, 1.09861228866811, 1.09861228866811, 1.09861228866811, 1.09861228866811, 1.09861228866811, 0.693147180559945, 0.693147180559945], \"yaxis\": \"y\"}, {\"alignmentgroup\": \"True\", \"customdata\": [[\"Oligodendrocyte\", \"Oligodendrocyte_Tfr [#9]\", 1.38629436111989, 3.35475989642239e-48], [\"Oligodendrocyte\", \"Oligodendrocyte_Tfr [#9]\", 1.09861228866811, 2.9336053861321694e-138], [\"Oligodendrocyte\", \"Oligodendrocyte_Tfr [#1]\", 1.09861228866811, 1.0166639501301e-76], [\"Oligodendrocyte\", \"Oligodendrocyte_Mbp [#8]\", 1.09861228866811, 0.25150354255119195], [\"Oligodendrocyte\", \"Oligodendrocyte_Tfr [#10]\", 1.09861228866811, 3.1884195149426384e-252], [\"Oligodendrocyte\", \"Oligodendrocyte_Tfr [#8]\", 1.09861228866811, 5.344614663645819e-115], [\"Oligodendrocyte\", \"Oligodendrocytes_Tfr [#3]\", 1.09861228866811, 1.25885744507358e-67], [\"Oligodendrocyte\", \"Oligodendrocyte_Tfr [#10]\", 1.09861228866811, 1.868357956949709e-168], [\"Oligodendrocyte\", \"Oligodendrocyte_Tfr [#8]\", 1.09861228866811, 1.4015507805e-314], [\"Oligodendrocyte\", \"Oligodendrocyte_Mbp [#11]\", 0.693147180559945, 0.0041185124783610794], [\"Oligodendrocyte\", \"Oligodendrocyte_Mbp [#9]\", 0.693147180559945, 0.00011140520851921299]], \"hovertemplate\": \"<b>%{hovertext}</b><br><br>Class=%{customdata[0]}<br>Rapgef2_Amount=%{customdata[2]}<br>Cluster=%{customdata[1]}<br>Rapgef2_PVal=%{customdata[3]}<extra></extra>\", \"hovertext\": [\"Oligodendrocyte_Tfr [#9]\", \"Oligodendrocyte_Tfr [#9]\", \"Oligodendrocyte_Tfr [#1]\", \"Oligodendrocyte_Mbp [#8]\", \"Oligodendrocyte_Tfr [#10]\", \"Oligodendrocyte_Tfr [#8]\", \"Oligodendrocytes_Tfr [#3]\", \"Oligodendrocyte_Tfr [#10]\", \"Oligodendrocyte_Tfr [#8]\", \"Oligodendrocyte_Mbp [#11]\", \"Oligodendrocyte_Mbp [#9]\"], \"legendgroup\": \"Oligodendrocyte\", \"marker\": {\"color\": \"#FF97FF\"}, \"name\": \"Oligodendrocyte\", \"offsetgroup\": \"Oligodendrocyte\", \"orientation\": \"v\", \"showlegend\": true, \"textposition\": \"auto\", \"type\": \"bar\", \"x\": [\"Oligodendrocyte\", \"Oligodendrocyte\", \"Oligodendrocyte\", \"Oligodendrocyte\", \"Oligodendrocyte\", \"Oligodendrocyte\", \"Oligodendrocyte\", \"Oligodendrocyte\", \"Oligodendrocyte\", \"Oligodendrocyte\", \"Oligodendrocyte\"], \"xaxis\": \"x\", \"y\": [1.38629436111989, 1.09861228866811, 1.09861228866811, 1.09861228866811, 1.09861228866811, 1.09861228866811, 1.09861228866811, 1.09861228866811, 1.09861228866811, 0.693147180559945, 0.693147180559945], \"yaxis\": \"y\"}, {\"alignmentgroup\": \"True\", \"customdata\": [[\"Mural_Fibroblast-Like\", \"Mural_Fibroblast-Like_Rgs5Acta2-Dcn [#3]\", 1.38629436111989, 0.639263644667849]], \"hovertemplate\": \"<b>%{hovertext}</b><br><br>Class=%{customdata[0]}<br>Rapgef2_Amount=%{customdata[2]}<br>Cluster=%{customdata[1]}<br>Rapgef2_PVal=%{customdata[3]}<extra></extra>\", \"hovertext\": [\"Mural_Fibroblast-Like_Rgs5Acta2-Dcn [#3]\"], \"legendgroup\": \"Mural_Fibroblast-Like\", \"marker\": {\"color\": \"#FECB52\"}, \"name\": \"Mural_Fibroblast-Like\", \"offsetgroup\": \"Mural_Fibroblast-Like\", \"orientation\": \"v\", \"showlegend\": true, \"textposition\": \"auto\", \"type\": \"bar\", \"x\": [\"Mural_Fibroblast-Like\"], \"xaxis\": \"x\", \"y\": [1.38629436111989], \"yaxis\": \"y\"}, {\"alignmentgroup\": \"True\", \"customdata\": [[\"Neurogenesis\", \"Neurogenesis_Sox4 [#13]\", 1.38629436111989, 7.41730218135675e-18], [\"Neurogenesis\", \"Neurogenesis_Sox4 [#2]\", 0.693147180559945, 8.91329084250312e-29]], \"hovertemplate\": \"<b>%{hovertext}</b><br><br>Class=%{customdata[0]}<br>Rapgef2_Amount=%{customdata[2]}<br>Cluster=%{customdata[1]}<br>Rapgef2_PVal=%{customdata[3]}<extra></extra>\", \"hovertext\": [\"Neurogenesis_Sox4 [#13]\", \"Neurogenesis_Sox4 [#2]\"], \"legendgroup\": \"Neurogenesis\", \"marker\": {\"color\": \"#636efa\"}, \"name\": \"Neurogenesis\", \"offsetgroup\": \"Neurogenesis\", \"orientation\": \"v\", \"showlegend\": true, \"textposition\": \"auto\", \"type\": \"bar\", \"x\": [\"Neurogenesis\", \"Neurogenesis\"], \"xaxis\": \"x\", \"y\": [1.38629436111989, 0.693147180559945], \"yaxis\": \"y\"}, {\"alignmentgroup\": \"True\", \"customdata\": [[\"Oligodendrocyte_Polydendrocyte\", \"Oligodendrocyte_Polydendrocyte_Tfr_Tnr [#6]\", 1.09861228866811, 0.00036323604305688197]], \"hovertemplate\": \"<b>%{hovertext}</b><br><br>Class=%{customdata[0]}<br>Rapgef2_Amount=%{customdata[2]}<br>Cluster=%{customdata[1]}<br>Rapgef2_PVal=%{customdata[3]}<extra></extra>\", \"hovertext\": [\"Oligodendrocyte_Polydendrocyte_Tfr_Tnr [#6]\"], \"legendgroup\": \"Oligodendrocyte_Polydendrocyte\", \"marker\": {\"color\": \"#EF553B\"}, \"name\": \"Oligodendrocyte_Polydendrocyte\", \"offsetgroup\": \"Oligodendrocyte_Polydendrocyte\", \"orientation\": \"v\", \"showlegend\": true, \"textposition\": \"auto\", \"type\": \"bar\", \"x\": [\"Oligodendrocyte_Polydendrocyte\"], \"xaxis\": \"x\", \"y\": [1.09861228866811], \"yaxis\": \"y\"}, {\"alignmentgroup\": \"True\", \"customdata\": [[\"Choroid_Plexus\", \"Choroid_Plexus_Ttr [#9]\", 0.693147180559945, 0.0426465568287287], [\"Choroid_Plexus\", \"Choroid_Plexus_Ttr [#12]\", 0.693147180559945, 3.84913180354258e-08]], \"hovertemplate\": \"<b>%{hovertext}</b><br><br>Class=%{customdata[0]}<br>Rapgef2_Amount=%{customdata[2]}<br>Cluster=%{customdata[1]}<br>Rapgef2_PVal=%{customdata[3]}<extra></extra>\", \"hovertext\": [\"Choroid_Plexus_Ttr [#9]\", \"Choroid_Plexus_Ttr [#12]\"], \"legendgroup\": \"Choroid_Plexus\", \"marker\": {\"color\": \"#00cc96\"}, \"name\": \"Choroid_Plexus\", \"offsetgroup\": \"Choroid_Plexus\", \"orientation\": \"v\", \"showlegend\": true, \"textposition\": \"auto\", \"type\": \"bar\", \"x\": [\"Choroid_Plexus\", \"Choroid_Plexus\"], \"xaxis\": \"x\", \"y\": [0.693147180559945, 0.693147180559945], \"yaxis\": \"y\"}],\n",
       "                        {\"barmode\": \"relative\", \"height\": 800, \"legend\": {\"title\": {\"text\": \"Class\"}, \"tracegroupgap\": 0}, \"margin\": {\"t\": 60}, \"template\": {\"data\": {\"bar\": [{\"error_x\": {\"color\": \"#2a3f5f\"}, \"error_y\": {\"color\": \"#2a3f5f\"}, \"marker\": {\"line\": {\"color\": \"#E5ECF6\", \"width\": 0.5}}, \"type\": \"bar\"}], \"barpolar\": [{\"marker\": {\"line\": {\"color\": \"#E5ECF6\", \"width\": 0.5}}, \"type\": \"barpolar\"}], \"carpet\": [{\"aaxis\": {\"endlinecolor\": \"#2a3f5f\", \"gridcolor\": \"white\", \"linecolor\": \"white\", \"minorgridcolor\": \"white\", \"startlinecolor\": \"#2a3f5f\"}, \"baxis\": {\"endlinecolor\": \"#2a3f5f\", \"gridcolor\": \"white\", \"linecolor\": \"white\", \"minorgridcolor\": \"white\", \"startlinecolor\": \"#2a3f5f\"}, \"type\": \"carpet\"}], \"choropleth\": [{\"colorbar\": {\"outlinewidth\": 0, \"ticks\": \"\"}, \"type\": \"choropleth\"}], \"contour\": [{\"colorbar\": {\"outlinewidth\": 0, \"ticks\": \"\"}, \"colorscale\": [[0.0, \"#0d0887\"], [0.1111111111111111, \"#46039f\"], [0.2222222222222222, \"#7201a8\"], [0.3333333333333333, \"#9c179e\"], [0.4444444444444444, \"#bd3786\"], [0.5555555555555556, \"#d8576b\"], [0.6666666666666666, \"#ed7953\"], [0.7777777777777778, \"#fb9f3a\"], [0.8888888888888888, \"#fdca26\"], [1.0, \"#f0f921\"]], \"type\": \"contour\"}], \"contourcarpet\": [{\"colorbar\": {\"outlinewidth\": 0, \"ticks\": \"\"}, \"type\": \"contourcarpet\"}], \"heatmap\": [{\"colorbar\": {\"outlinewidth\": 0, \"ticks\": \"\"}, \"colorscale\": [[0.0, \"#0d0887\"], [0.1111111111111111, \"#46039f\"], [0.2222222222222222, \"#7201a8\"], [0.3333333333333333, \"#9c179e\"], [0.4444444444444444, \"#bd3786\"], [0.5555555555555556, \"#d8576b\"], [0.6666666666666666, \"#ed7953\"], [0.7777777777777778, \"#fb9f3a\"], [0.8888888888888888, \"#fdca26\"], [1.0, \"#f0f921\"]], \"type\": \"heatmap\"}], \"heatmapgl\": [{\"colorbar\": {\"outlinewidth\": 0, \"ticks\": \"\"}, \"colorscale\": [[0.0, \"#0d0887\"], [0.1111111111111111, \"#46039f\"], [0.2222222222222222, \"#7201a8\"], [0.3333333333333333, \"#9c179e\"], [0.4444444444444444, \"#bd3786\"], [0.5555555555555556, \"#d8576b\"], [0.6666666666666666, \"#ed7953\"], [0.7777777777777778, \"#fb9f3a\"], [0.8888888888888888, \"#fdca26\"], [1.0, \"#f0f921\"]], \"type\": \"heatmapgl\"}], \"histogram\": [{\"marker\": {\"colorbar\": {\"outlinewidth\": 0, \"ticks\": \"\"}}, \"type\": \"histogram\"}], \"histogram2d\": [{\"colorbar\": {\"outlinewidth\": 0, \"ticks\": \"\"}, \"colorscale\": [[0.0, \"#0d0887\"], [0.1111111111111111, \"#46039f\"], [0.2222222222222222, \"#7201a8\"], [0.3333333333333333, \"#9c179e\"], [0.4444444444444444, \"#bd3786\"], [0.5555555555555556, \"#d8576b\"], [0.6666666666666666, \"#ed7953\"], [0.7777777777777778, \"#fb9f3a\"], [0.8888888888888888, \"#fdca26\"], [1.0, \"#f0f921\"]], \"type\": \"histogram2d\"}], \"histogram2dcontour\": [{\"colorbar\": {\"outlinewidth\": 0, \"ticks\": \"\"}, \"colorscale\": [[0.0, \"#0d0887\"], [0.1111111111111111, \"#46039f\"], [0.2222222222222222, \"#7201a8\"], [0.3333333333333333, \"#9c179e\"], [0.4444444444444444, \"#bd3786\"], [0.5555555555555556, \"#d8576b\"], [0.6666666666666666, \"#ed7953\"], [0.7777777777777778, \"#fb9f3a\"], [0.8888888888888888, \"#fdca26\"], [1.0, \"#f0f921\"]], \"type\": \"histogram2dcontour\"}], \"mesh3d\": [{\"colorbar\": {\"outlinewidth\": 0, \"ticks\": \"\"}, \"type\": \"mesh3d\"}], \"parcoords\": [{\"line\": {\"colorbar\": {\"outlinewidth\": 0, \"ticks\": \"\"}}, \"type\": \"parcoords\"}], \"pie\": [{\"automargin\": true, \"type\": \"pie\"}], \"scatter\": [{\"marker\": {\"colorbar\": {\"outlinewidth\": 0, \"ticks\": \"\"}}, \"type\": \"scatter\"}], \"scatter3d\": [{\"line\": {\"colorbar\": {\"outlinewidth\": 0, \"ticks\": \"\"}}, \"marker\": {\"colorbar\": {\"outlinewidth\": 0, \"ticks\": \"\"}}, \"type\": \"scatter3d\"}], \"scattercarpet\": [{\"marker\": {\"colorbar\": {\"outlinewidth\": 0, \"ticks\": \"\"}}, \"type\": \"scattercarpet\"}], \"scattergeo\": [{\"marker\": {\"colorbar\": {\"outlinewidth\": 0, \"ticks\": \"\"}}, \"type\": \"scattergeo\"}], \"scattergl\": [{\"marker\": {\"colorbar\": {\"outlinewidth\": 0, \"ticks\": \"\"}}, \"type\": \"scattergl\"}], \"scattermapbox\": [{\"marker\": {\"colorbar\": {\"outlinewidth\": 0, \"ticks\": \"\"}}, \"type\": \"scattermapbox\"}], \"scatterpolar\": [{\"marker\": {\"colorbar\": {\"outlinewidth\": 0, \"ticks\": \"\"}}, \"type\": \"scatterpolar\"}], \"scatterpolargl\": [{\"marker\": {\"colorbar\": {\"outlinewidth\": 0, \"ticks\": \"\"}}, \"type\": \"scatterpolargl\"}], \"scatterternary\": [{\"marker\": {\"colorbar\": {\"outlinewidth\": 0, \"ticks\": \"\"}}, \"type\": \"scatterternary\"}], \"surface\": [{\"colorbar\": {\"outlinewidth\": 0, \"ticks\": \"\"}, \"colorscale\": [[0.0, \"#0d0887\"], [0.1111111111111111, \"#46039f\"], [0.2222222222222222, \"#7201a8\"], [0.3333333333333333, \"#9c179e\"], [0.4444444444444444, \"#bd3786\"], [0.5555555555555556, \"#d8576b\"], [0.6666666666666666, \"#ed7953\"], [0.7777777777777778, \"#fb9f3a\"], [0.8888888888888888, \"#fdca26\"], [1.0, \"#f0f921\"]], \"type\": \"surface\"}], \"table\": [{\"cells\": {\"fill\": {\"color\": \"#EBF0F8\"}, \"line\": {\"color\": \"white\"}}, \"header\": {\"fill\": {\"color\": \"#C8D4E3\"}, \"line\": {\"color\": \"white\"}}, \"type\": \"table\"}]}, \"layout\": {\"annotationdefaults\": {\"arrowcolor\": \"#2a3f5f\", \"arrowhead\": 0, \"arrowwidth\": 1}, \"coloraxis\": {\"colorbar\": {\"outlinewidth\": 0, \"ticks\": \"\"}}, \"colorscale\": {\"diverging\": [[0, \"#8e0152\"], [0.1, \"#c51b7d\"], [0.2, \"#de77ae\"], [0.3, \"#f1b6da\"], [0.4, \"#fde0ef\"], [0.5, \"#f7f7f7\"], [0.6, \"#e6f5d0\"], [0.7, \"#b8e186\"], [0.8, \"#7fbc41\"], [0.9, \"#4d9221\"], [1, \"#276419\"]], \"sequential\": [[0.0, \"#0d0887\"], [0.1111111111111111, \"#46039f\"], [0.2222222222222222, \"#7201a8\"], [0.3333333333333333, \"#9c179e\"], [0.4444444444444444, \"#bd3786\"], [0.5555555555555556, \"#d8576b\"], [0.6666666666666666, \"#ed7953\"], [0.7777777777777778, \"#fb9f3a\"], [0.8888888888888888, \"#fdca26\"], [1.0, \"#f0f921\"]], \"sequentialminus\": [[0.0, \"#0d0887\"], [0.1111111111111111, \"#46039f\"], [0.2222222222222222, \"#7201a8\"], [0.3333333333333333, \"#9c179e\"], [0.4444444444444444, \"#bd3786\"], [0.5555555555555556, \"#d8576b\"], [0.6666666666666666, \"#ed7953\"], [0.7777777777777778, \"#fb9f3a\"], [0.8888888888888888, \"#fdca26\"], [1.0, \"#f0f921\"]]}, \"colorway\": [\"#636efa\", \"#EF553B\", \"#00cc96\", \"#ab63fa\", \"#FFA15A\", \"#19d3f3\", \"#FF6692\", \"#B6E880\", \"#FF97FF\", \"#FECB52\"], \"font\": {\"color\": \"#2a3f5f\"}, \"geo\": {\"bgcolor\": \"white\", \"lakecolor\": \"white\", \"landcolor\": \"#E5ECF6\", \"showlakes\": true, \"showland\": true, \"subunitcolor\": \"white\"}, \"hoverlabel\": {\"align\": \"left\"}, \"hovermode\": \"closest\", \"mapbox\": {\"style\": \"light\"}, \"paper_bgcolor\": \"white\", \"plot_bgcolor\": \"#E5ECF6\", \"polar\": {\"angularaxis\": {\"gridcolor\": \"white\", \"linecolor\": \"white\", \"ticks\": \"\"}, \"bgcolor\": \"#E5ECF6\", \"radialaxis\": {\"gridcolor\": \"white\", \"linecolor\": \"white\", \"ticks\": \"\"}}, \"scene\": {\"xaxis\": {\"backgroundcolor\": \"#E5ECF6\", \"gridcolor\": \"white\", \"gridwidth\": 2, \"linecolor\": \"white\", \"showbackground\": true, \"ticks\": \"\", \"zerolinecolor\": \"white\"}, \"yaxis\": {\"backgroundcolor\": \"#E5ECF6\", \"gridcolor\": \"white\", \"gridwidth\": 2, \"linecolor\": \"white\", \"showbackground\": true, \"ticks\": \"\", \"zerolinecolor\": \"white\"}, \"zaxis\": {\"backgroundcolor\": \"#E5ECF6\", \"gridcolor\": \"white\", \"gridwidth\": 2, \"linecolor\": \"white\", \"showbackground\": true, \"ticks\": \"\", \"zerolinecolor\": \"white\"}}, \"shapedefaults\": {\"line\": {\"color\": \"#2a3f5f\"}}, \"ternary\": {\"aaxis\": {\"gridcolor\": \"white\", \"linecolor\": \"white\", \"ticks\": \"\"}, \"baxis\": {\"gridcolor\": \"white\", \"linecolor\": \"white\", \"ticks\": \"\"}, \"bgcolor\": \"#E5ECF6\", \"caxis\": {\"gridcolor\": \"white\", \"linecolor\": \"white\", \"ticks\": \"\"}}, \"title\": {\"x\": 0.05}, \"xaxis\": {\"automargin\": true, \"gridcolor\": \"white\", \"linecolor\": \"white\", \"ticks\": \"\", \"title\": {\"standoff\": 15}, \"zerolinecolor\": \"white\", \"zerolinewidth\": 2}, \"yaxis\": {\"automargin\": true, \"gridcolor\": \"white\", \"linecolor\": \"white\", \"ticks\": \"\", \"title\": {\"standoff\": 15}, \"zerolinecolor\": \"white\", \"zerolinewidth\": 2}}}, \"title\": {\"text\": \"Rapgef2: Adult mouse, Single Cell, Saunder, 2018 (DropViz)\"}, \"width\": 1000, \"xaxis\": {\"anchor\": \"y\", \"categoryarray\": [\"Neuron\", \"Endothelial\", \"Microglia_Macrophage\", \"Polydendrocyte\", \"Mural\", \"Fibroblast-Like\", \"Ependyma\", \"Astrocyte\", \"Oligodendrocyte\", \"Mural_Fibroblast-Like\", \"Neurogenesis\", \"Oligodendrocyte_Polydendrocyte\", \"Choroid_Plexus\"], \"categoryorder\": \"array\", \"domain\": [0.0, 1.0], \"title\": {\"text\": \"Cell Type\"}}, \"yaxis\": {\"anchor\": \"x\", \"domain\": [0.0, 1.0], \"title\": {\"text\": \"Expression\"}}},\n",
       "                        {\"responsive\": true}\n",
       "                    ).then(function(){\n",
       "                            \n",
       "var gd = document.getElementById('5f7a1fb0-8e09-48a2-be73-83e58302329e');\n",
       "var x = new MutationObserver(function (mutations, observer) {{\n",
       "        var display = window.getComputedStyle(gd).display;\n",
       "        if (!display || display === 'none') {{\n",
       "            console.log([gd, 'removed!']);\n",
       "            Plotly.purge(gd);\n",
       "            observer.disconnect();\n",
       "        }}\n",
       "}});\n",
       "\n",
       "// Listen for the removal of the full notebook cells\n",
       "var notebookContainer = gd.closest('#notebook-container');\n",
       "if (notebookContainer) {{\n",
       "    x.observe(notebookContainer, {childList: true});\n",
       "}}\n",
       "\n",
       "// Listen for the clearing of the current output cell\n",
       "var outputEl = gd.closest('.output');\n",
       "if (outputEl) {{\n",
       "    x.observe(outputEl, {childList: true});\n",
       "}}\n",
       "\n",
       "                        })\n",
       "                };\n",
       "                });\n",
       "            </script>\n",
       "        </div>"
      ]
     },
     "metadata": {},
     "output_type": "display_data"
    },
    {
     "data": {
      "application/vnd.plotly.v1+json": {
       "config": {
        "plotlyServerURL": "https://plot.ly"
       },
       "data": [
        {
         "cells": {
          "align": "left",
          "fill": {
           "color": "lavender"
          },
          "values": [
           [
            "Hippocampus",
            "Hippocampus",
            "Posterior Cortex",
            "Frontal Cortex",
            "Frontal Cortex",
            "Posterior Cortex",
            "Globus Pallidus",
            "Hippocampus",
            "Hippocampus",
            "Hippocampus",
            "Striatum",
            "Thalamus",
            "Frontal Cortex",
            "Frontal Cortex",
            "Entopeduncular",
            "Globus Pallidus",
            "Hippocampus",
            "Striatum",
            "Striatum",
            "Striatum",
            "Substantia Nigra",
            "Frontal Cortex",
            "Posterior Cortex",
            "Posterior Cortex",
            "Posterior Cortex",
            "Frontal Cortex",
            "Frontal Cortex",
            "Frontal Cortex",
            "Posterior Cortex",
            "Posterior Cortex",
            "Posterior Cortex",
            "Hippocampus",
            "Thalamus",
            "Cerebellum",
            "Frontal Cortex",
            "Posterior Cortex",
            "Entopeduncular",
            "Hippocampus",
            "Striatum",
            "Striatum",
            "Substantia Nigra",
            "Substantia Nigra",
            "Cerebellum",
            "Frontal Cortex",
            "Posterior Cortex",
            "Posterior Cortex",
            "Entopeduncular",
            "Globus Pallidus",
            "Globus Pallidus",
            "Hippocampus",
            "Hippocampus",
            "Substantia Nigra",
            "Substantia Nigra",
            "Substantia Nigra",
            "Thalamus",
            "Thalamus",
            "Cerebellum",
            "Cerebellum",
            "Cerebellum",
            "Frontal Cortex",
            "Frontal Cortex",
            "Globus Pallidus",
            "Globus Pallidus",
            "Hippocampus",
            "Hippocampus",
            "Striatum",
            "Striatum",
            "Thalamus",
            "Cerebellum",
            "Cerebellum",
            "Posterior Cortex",
            "Posterior Cortex",
            "Entopeduncular",
            "Entopeduncular",
            "Entopeduncular",
            "Globus Pallidus",
            "Globus Pallidus",
            "Hippocampus",
            "Hippocampus",
            "Striatum",
            "Striatum",
            "Substantia Nigra",
            "Substantia Nigra",
            "Substantia Nigra",
            "Substantia Nigra",
            "Thalamus",
            "Thalamus",
            "Cerebellum",
            "Frontal Cortex",
            "Frontal Cortex",
            "Posterior Cortex",
            "Entopeduncular",
            "Entopeduncular",
            "Globus Pallidus",
            "Globus Pallidus",
            "Globus Pallidus",
            "Hippocampus",
            "Hippocampus",
            "Striatum",
            "Striatum",
            "Striatum",
            "Substantia Nigra",
            "Substantia Nigra",
            "Thalamus",
            "Thalamus",
            "Thalamus",
            "Thalamus",
            "Cerebellum",
            "Cerebellum",
            "Cerebellum",
            "Hippocampus",
            "Striatum",
            "Striatum",
            "Substantia Nigra",
            "Thalamus",
            "Substantia Nigra"
           ],
           [
            "Neuron",
            "Neuron",
            "Neuron",
            "Neuron",
            "Neuron",
            "Endothelial",
            "Endothelial",
            "Neuron",
            "Neuron",
            "Neuron",
            "Neuron",
            "Endothelial",
            "Endothelial",
            "Neuron",
            "Endothelial",
            "Neuron",
            "Endothelial",
            "Neuron",
            "Neuron",
            "Endothelial",
            "Endothelial",
            "Neuron",
            "Neuron",
            "Neuron",
            "Neuron",
            "Neuron",
            "Neuron",
            "Neuron",
            "Neuron",
            "Neuron",
            "Neuron",
            "Neuron",
            "Neuron",
            "Neuron",
            "Microglia_Macrophage",
            "Polydendrocyte",
            "Polydendrocyte",
            "Polydendrocyte",
            "Neuron",
            "Neuron",
            "Neuron",
            "Neuron",
            "Endothelial",
            "Polydendrocyte",
            "Microglia_Macrophage",
            "Mural",
            "Neuron",
            "Neuron",
            "Mural",
            "Neuron",
            "Mural",
            "Neuron",
            "Polydendrocyte",
            "Microglia_Macrophage",
            "Neuron",
            "Neuron",
            "Neuron",
            "Fibroblast-Like",
            "Neuron",
            "Mural",
            "Fibroblast-Like",
            "Microglia_Macrophage",
            "Polydendrocyte",
            "Ependyma",
            "Fibroblast-Like",
            "Neuron",
            "Mural",
            "Polydendrocyte",
            "Microglia_Macrophage",
            "Astrocyte",
            "Fibroblast-Like",
            "Oligodendrocyte",
            "Mural_Fibroblast-Like",
            "Polydendrocyte",
            "Astrocyte",
            "Neuron",
            "Ependyma",
            "Microglia_Macrophage",
            "Neurogenesis",
            "Polydendrocyte",
            "Microglia_Macrophage",
            "Mural",
            "Fibroblast-Like",
            "Neuron",
            "Polydendrocyte",
            "Ependyma",
            "Microglia_Macrophage",
            "Oligodendrocyte_Polydendrocyte",
            "Astrocyte",
            "Oligodendrocyte",
            "Astrocyte",
            "Oligodendrocyte",
            "Oligodendrocyte",
            "Oligodendrocyte",
            "Astrocyte",
            "Fibroblast-Like",
            "Astrocyte",
            "Oligodendrocyte",
            "Ependyma",
            "Oligodendrocyte",
            "Fibroblast-Like",
            "Oligodendrocyte",
            "Astrocyte",
            "Astrocyte",
            "Mural",
            "Fibroblast-Like",
            "Oligodendrocyte",
            "Neuron",
            "Astrocyte",
            "Choroid_Plexus",
            "Choroid_Plexus",
            "Neurogenesis",
            "Astrocyte",
            "Oligodendrocyte",
            "Oligodendrocyte",
            "Ependyma"
           ],
           [
            "Neuron_CA2CA3_Pvrl3-Rgs15-Calb2 [#6]",
            "Neuron_Subiculum_Slc17a6 [#2]",
            "RSG_Tshz2-Shisa8 [#6]",
            "Neuron_Claustrum_Nr4a2 [#5]",
            "Neuron_Layer5_Parm1 [#7]",
            "Endothelial_Flt1 [#12]",
            "Endothelial_Flt1 [#7]",
            "Neuron_Subiculum_Entorhinal_Nxph3 [#3]",
            "Neuron_Dentate_C1ql2 [#4]",
            "Neuron_CA1_Subiculum_Postsubiculum_Entorhinal_Fibcd1-Dcn-Cbln1-Ptgfr-Fezf2 [#5]",
            "Neuron_dSPN_Drd1 [#10]",
            "Endothelial_Flt1 [#4]",
            "Endothelial_Flt1 [#12]",
            "Neuron_Layer23_Nptxr [#6]",
            "Endothelial_Flt1 [#2]",
            "Neuron_Ppp1r1b [#3]",
            "Endothelial_Flt1 [#15]",
            "Neuron_iSPN_Adora2a [#11]",
            "Neuron_SPN_BNST_Amygdala_Otof [#13]",
            "Endothelial_Flt1 [#7]",
            "Endothelial_Flt1 [#12]",
            "Neuron_Layer6Subplate_Syt6 [#3]",
            "Neuron_Layer6Subplate_Syt6 [#1]",
            "Neuron_Layer23_5_6_Subiculum_Calb1-Rorb-Fermt1-Tshz2-Oprk1-Crym-Sema3e [#2]",
            "Neuron_Layer5_Bcl6 [#3]",
            "Interneuron_CGE_Cplx3-Synpr [#1]",
            "Interneuron_MGE_Sst-Pvalb [#2]",
            "Neuron_Layer5b_Fezf2 [#4]",
            "Interneuron_CGE_Cplx3-Synpr [#4]",
            "Interneuron_MGE_Sst-Pvalb [#5]",
            "Layer5b_Fezf2 [#7]",
            "Interneuron_Gad2 [#1]",
            "Neuron_Gad2-Ahi1 [#3]",
            "Interneurons_and_Other_Nnat [#4]",
            "Microglia_Macrophage_C1qb [#11]",
            "Polydendrocyte_Tnr [#10]",
            "Polydendrocyte_Cacng4 [#6]",
            "Polydendrocyte_Tnr [#9]",
            "Interneuron_Pvalb_Th_Pnoc [#14]",
            "Interneuron_Sst [#15]",
            "Neuron_CA3_C1ql3 [#1]",
            "Neuron_Rora [#2]",
            "Endothelial_Flt1 [#10]",
            "Polydendrocyte_Tnr [#10]",
            "Microglia_Macrophage_Tmem119-Mrc1 [#11]",
            "Mural_Rgs5Acta2 [#13]",
            "Neuron_Syt1 [#4]",
            "Neuron_Gabra1 [#2]",
            "Mural_Rgs5Acta2 [#8]",
            "Neuron_CajalRetzius_Lhx1 [#14]",
            "Mural_Rgs5Acta2 [#16]",
            "Neuron_Gad2 [#3]",
            "Polydendrocyte_Cacng4 [#6]",
            "Microglia_Macrophage_C1qb [#9]",
            "Neuron_Habenula_Tac2 [#1]",
            "Neuron_Rora [#2]",
            "GranularNeuron_Gabra6 [#1]",
            "Fibroblast-Like_Dcn [#11]",
            "Interneurons_Pvalb [#3]",
            "Mural_Rgs5Acta2 [#13]",
            "Fibroblast-Like_Dcn [#14]",
            "Microglia_Macrophage_C1qb [#11]",
            "Polydendrocyte_Tnr [#4]",
            "Ependyma [#11]",
            "Fibroblast-Like_Dcn [#17]",
            "Interneuron_Chat [#12]",
            "Mural_Rgs5Acta2 [#8]",
            "Polydendrocyte_Tnr [#12]",
            "Microglia_Macrophage_C1qb [#5]",
            "Astrocyte_Gja1 [#8]",
            "Fibroblast-Like_Dcn [#14]",
            "Oligodendrocyte_Tfr [#9]",
            "Mural_Fibroblast-Like_Rgs5Acta2-Dcn [#3]",
            "Polydendrocyte_Tnr [#5]",
            "Astrocyte_Gja1 [#7]",
            "Neuron_Chat [#1]",
            "Ependyma [#6]",
            "Microglia_Macrophage_C1qb [#10]",
            "Neurogenesis_Sox4 [#13]",
            "Polydendrocytes_Tnr [#5]",
            "Microglia_Macrophage_C1qb [#6]",
            "Mural_Rgs5Acta2 [#13]",
            "Fibroblast-Like_Dcn [#14]",
            "Neuron_Th [#4]",
            "Polydendrocyte_Tnr [#5]",
            "Ependyma [#10]",
            "Microglia_Macrophage_C1qb [#7]",
            "Oligodendrocyte_Polydendrocyte_Tfr_Tnr [#6]",
            "Astrocyte_Gja1 [#8]",
            "Oligodendrocyte_Tfr [#9]",
            "Astrocyte_Gja1 [#8]",
            "Oligodendrocyte_Tfr [#1]",
            "Oligodendrocyte_Mbp [#8]",
            "Oligodendrocyte_Tfr [#10]",
            "Astrocyte_Gja1 [#5]",
            "Fibroblast-Like_Dcn [#9]",
            "Astrocyte_Gja1 [#7]",
            "Oligodendrocyte_Tfr [#8]",
            "Ependyma [#1]",
            "Oligodendrocytes_Tfr [#3]",
            "Fibroblast-Like_Dcn [#9]",
            "Oligodendrocyte_Tfr [#10]",
            "Astrocyte_Gja1 [#7]",
            "Astrocyte_Gja1 [#11]",
            "Mural_Rgs5Acta2 [#5]",
            "Fibroblast-Like_Dcn [#6]",
            "Oligodendrocyte_Tfr [#8]",
            "PurkinjeNeuron_Pcp2 [#2]",
            "BergmannGlia_Gpr37l1 [#7]",
            "Choroid_Plexus_Ttr [#9]",
            "Choroid_Plexus_Ttr [#12]",
            "Neurogenesis_Sox4 [#2]",
            "Astrocyte_Gja1 [#4]",
            "Oligodendrocyte_Mbp [#11]",
            "Oligodendrocyte_Mbp [#9]",
            "Ependyma [#8]"
           ],
           [
            2.83321334405622,
            2.7080502011022096,
            2.6390573296152597,
            2.484906649788,
            2.3978952727983702,
            2.3978952727983702,
            2.3978952727983702,
            2.3978952727983702,
            2.3978952727983702,
            2.3978952727983702,
            2.3978952727983702,
            2.3978952727983702,
            2.30258509299405,
            2.30258509299405,
            2.30258509299405,
            2.30258509299405,
            2.30258509299405,
            2.30258509299405,
            2.30258509299405,
            2.30258509299405,
            2.30258509299405,
            2.19722457733622,
            2.19722457733622,
            2.19722457733622,
            2.19722457733622,
            2.07944154167984,
            2.07944154167984,
            2.07944154167984,
            2.07944154167984,
            2.07944154167984,
            2.07944154167984,
            2.07944154167984,
            2.07944154167984,
            1.9459101490553101,
            1.9459101490553101,
            1.9459101490553101,
            1.9459101490553101,
            1.9459101490553101,
            1.9459101490553101,
            1.9459101490553101,
            1.9459101490553101,
            1.9459101490553101,
            1.79175946922805,
            1.79175946922805,
            1.79175946922805,
            1.79175946922805,
            1.79175946922805,
            1.79175946922805,
            1.79175946922805,
            1.79175946922805,
            1.79175946922805,
            1.79175946922805,
            1.79175946922805,
            1.79175946922805,
            1.79175946922805,
            1.79175946922805,
            1.6094379124341003,
            1.6094379124341003,
            1.6094379124341003,
            1.6094379124341003,
            1.6094379124341003,
            1.6094379124341003,
            1.6094379124341003,
            1.6094379124341003,
            1.6094379124341003,
            1.6094379124341003,
            1.6094379124341003,
            1.6094379124341003,
            1.38629436111989,
            1.38629436111989,
            1.38629436111989,
            1.38629436111989,
            1.38629436111989,
            1.38629436111989,
            1.38629436111989,
            1.38629436111989,
            1.38629436111989,
            1.38629436111989,
            1.38629436111989,
            1.38629436111989,
            1.38629436111989,
            1.38629436111989,
            1.38629436111989,
            1.38629436111989,
            1.38629436111989,
            1.38629436111989,
            1.38629436111989,
            1.09861228866811,
            1.09861228866811,
            1.09861228866811,
            1.09861228866811,
            1.09861228866811,
            1.09861228866811,
            1.09861228866811,
            1.09861228866811,
            1.09861228866811,
            1.09861228866811,
            1.09861228866811,
            1.09861228866811,
            1.09861228866811,
            1.09861228866811,
            1.09861228866811,
            1.09861228866811,
            1.09861228866811,
            1.09861228866811,
            1.09861228866811,
            1.09861228866811,
            0.693147180559945,
            0.693147180559945,
            0.693147180559945,
            0.693147180559945,
            0.693147180559945,
            0.693147180559945,
            0.693147180559945,
            0.693147180559945,
            0
           ],
           [
            0,
            8.395659836866479e-31,
            2.04576845240115e-107,
            4.08400032039014e-11,
            2.38100419074208e-40,
            4.40665977396744e-15,
            6.4904261133257686e-114,
            0.00308944818365243,
            8.476327376513849e-16,
            0.0554503267529836,
            1.0216283241220297e-79,
            6.691088642699817e-171,
            1.31248904844705e-05,
            9.457377094537159e-78,
            1.06178373845168e-52,
            1.8449111529613893e-160,
            0.006363408180190829,
            0.00025053024506471803,
            0.153343908737328,
            0.6284673104457571,
            1.67267522002675e-110,
            1.3203933214913901e-05,
            0.194047659376876,
            0.0037563751311186703,
            0.00431631623411374,
            0.000279315538527082,
            2.7334910469714998e-05,
            0.000779548184255756,
            0.0536532635228013,
            0.146184065984034,
            0.22644718861229698,
            2.11724779689152e-44,
            5.026535384337099e-56,
            0.10706606257167,
            0.000828026835336854,
            0.000152815223778874,
            0.0069983746516588,
            1.2003031355035401e-16,
            8.17709121905317e-07,
            7.080372174011159e-07,
            0.0256506522864582,
            0.0166059844979101,
            0.0144725822990474,
            6.3607687731623e-20,
            0.0007552144256360299,
            8.119370014787241e-05,
            1.25197128995084e-24,
            1.57532829508569e-25,
            0.189023615583846,
            1.18968826336102e-05,
            2.3515885448863e-14,
            6.17260809057622e-65,
            0.251857801049146,
            0.72435692397616,
            0.9543560730527451,
            7.847678298460959e-35,
            1.73675101298754e-18,
            0.270637432891013,
            0.203723812470323,
            1.50161641052176e-12,
            1.04647936919361e-06,
            0.350521353975846,
            0.00771879891596438,
            1.54716792094626e-20,
            1.4386936541247902e-10,
            1.79125995385936e-09,
            1.53275060204671e-05,
            0.00327500487207077,
            1,
            0.207546139989629,
            2.58624032364085e-10,
            3.35475989642239e-48,
            0.639263644667849,
            0.9295341041400258,
            0.8238031283144499,
            0.0028261219723870303,
            0.8509395884992971,
            1.20276580325459e-13,
            7.41730218135675e-18,
            1.33730692279079e-11,
            2.76480750070967e-08,
            0.0268152843274057,
            0.504613607373631,
            0.92859716777852,
            0.0607223888241891,
            0.000123412095684622,
            0.21636739638133398,
            0.00036323604305688197,
            8.30033878669186e-108,
            2.9336053861321694e-138,
            1.80165119787941e-95,
            1.0166639501301e-76,
            0.25150354255119195,
            3.1884195149426384e-252,
            2.9024595334880697e-62,
            0.000529451734125346,
            0,
            5.344614663645819e-115,
            2.56294224586472e-11,
            1.25885744507358e-67,
            0.000286117428408625,
            1.868357956949709e-168,
            7.057369680979029e-05,
            2.8617207807286203e-06,
            5.3517746994949e-09,
            0.00347509202417995,
            1.4015507805e-314,
            1.18792292476695e-10,
            4.7275554824616604e-17,
            0.0426465568287287,
            3.84913180354258e-08,
            8.91329084250312e-29,
            2.829559034875449e-77,
            0.0041185124783610794,
            0.00011140520851921299,
            0.282091515156483
           ]
          ]
         },
         "header": {
          "align": "left",
          "fill": {
           "color": "paleturquoise"
          },
          "values": [
           "Region",
           "Class",
           "Cluster",
           "Rapgef2_Amount",
           "Rapgef2_PVal"
          ]
         },
         "type": "table"
        }
       ],
       "layout": {
        "template": {
         "data": {
          "bar": [
           {
            "error_x": {
             "color": "#2a3f5f"
            },
            "error_y": {
             "color": "#2a3f5f"
            },
            "marker": {
             "line": {
              "color": "#E5ECF6",
              "width": 0.5
             }
            },
            "type": "bar"
           }
          ],
          "barpolar": [
           {
            "marker": {
             "line": {
              "color": "#E5ECF6",
              "width": 0.5
             }
            },
            "type": "barpolar"
           }
          ],
          "carpet": [
           {
            "aaxis": {
             "endlinecolor": "#2a3f5f",
             "gridcolor": "white",
             "linecolor": "white",
             "minorgridcolor": "white",
             "startlinecolor": "#2a3f5f"
            },
            "baxis": {
             "endlinecolor": "#2a3f5f",
             "gridcolor": "white",
             "linecolor": "white",
             "minorgridcolor": "white",
             "startlinecolor": "#2a3f5f"
            },
            "type": "carpet"
           }
          ],
          "choropleth": [
           {
            "colorbar": {
             "outlinewidth": 0,
             "ticks": ""
            },
            "type": "choropleth"
           }
          ],
          "contour": [
           {
            "colorbar": {
             "outlinewidth": 0,
             "ticks": ""
            },
            "colorscale": [
             [
              0,
              "#0d0887"
             ],
             [
              0.1111111111111111,
              "#46039f"
             ],
             [
              0.2222222222222222,
              "#7201a8"
             ],
             [
              0.3333333333333333,
              "#9c179e"
             ],
             [
              0.4444444444444444,
              "#bd3786"
             ],
             [
              0.5555555555555556,
              "#d8576b"
             ],
             [
              0.6666666666666666,
              "#ed7953"
             ],
             [
              0.7777777777777778,
              "#fb9f3a"
             ],
             [
              0.8888888888888888,
              "#fdca26"
             ],
             [
              1,
              "#f0f921"
             ]
            ],
            "type": "contour"
           }
          ],
          "contourcarpet": [
           {
            "colorbar": {
             "outlinewidth": 0,
             "ticks": ""
            },
            "type": "contourcarpet"
           }
          ],
          "heatmap": [
           {
            "colorbar": {
             "outlinewidth": 0,
             "ticks": ""
            },
            "colorscale": [
             [
              0,
              "#0d0887"
             ],
             [
              0.1111111111111111,
              "#46039f"
             ],
             [
              0.2222222222222222,
              "#7201a8"
             ],
             [
              0.3333333333333333,
              "#9c179e"
             ],
             [
              0.4444444444444444,
              "#bd3786"
             ],
             [
              0.5555555555555556,
              "#d8576b"
             ],
             [
              0.6666666666666666,
              "#ed7953"
             ],
             [
              0.7777777777777778,
              "#fb9f3a"
             ],
             [
              0.8888888888888888,
              "#fdca26"
             ],
             [
              1,
              "#f0f921"
             ]
            ],
            "type": "heatmap"
           }
          ],
          "heatmapgl": [
           {
            "colorbar": {
             "outlinewidth": 0,
             "ticks": ""
            },
            "colorscale": [
             [
              0,
              "#0d0887"
             ],
             [
              0.1111111111111111,
              "#46039f"
             ],
             [
              0.2222222222222222,
              "#7201a8"
             ],
             [
              0.3333333333333333,
              "#9c179e"
             ],
             [
              0.4444444444444444,
              "#bd3786"
             ],
             [
              0.5555555555555556,
              "#d8576b"
             ],
             [
              0.6666666666666666,
              "#ed7953"
             ],
             [
              0.7777777777777778,
              "#fb9f3a"
             ],
             [
              0.8888888888888888,
              "#fdca26"
             ],
             [
              1,
              "#f0f921"
             ]
            ],
            "type": "heatmapgl"
           }
          ],
          "histogram": [
           {
            "marker": {
             "colorbar": {
              "outlinewidth": 0,
              "ticks": ""
             }
            },
            "type": "histogram"
           }
          ],
          "histogram2d": [
           {
            "colorbar": {
             "outlinewidth": 0,
             "ticks": ""
            },
            "colorscale": [
             [
              0,
              "#0d0887"
             ],
             [
              0.1111111111111111,
              "#46039f"
             ],
             [
              0.2222222222222222,
              "#7201a8"
             ],
             [
              0.3333333333333333,
              "#9c179e"
             ],
             [
              0.4444444444444444,
              "#bd3786"
             ],
             [
              0.5555555555555556,
              "#d8576b"
             ],
             [
              0.6666666666666666,
              "#ed7953"
             ],
             [
              0.7777777777777778,
              "#fb9f3a"
             ],
             [
              0.8888888888888888,
              "#fdca26"
             ],
             [
              1,
              "#f0f921"
             ]
            ],
            "type": "histogram2d"
           }
          ],
          "histogram2dcontour": [
           {
            "colorbar": {
             "outlinewidth": 0,
             "ticks": ""
            },
            "colorscale": [
             [
              0,
              "#0d0887"
             ],
             [
              0.1111111111111111,
              "#46039f"
             ],
             [
              0.2222222222222222,
              "#7201a8"
             ],
             [
              0.3333333333333333,
              "#9c179e"
             ],
             [
              0.4444444444444444,
              "#bd3786"
             ],
             [
              0.5555555555555556,
              "#d8576b"
             ],
             [
              0.6666666666666666,
              "#ed7953"
             ],
             [
              0.7777777777777778,
              "#fb9f3a"
             ],
             [
              0.8888888888888888,
              "#fdca26"
             ],
             [
              1,
              "#f0f921"
             ]
            ],
            "type": "histogram2dcontour"
           }
          ],
          "mesh3d": [
           {
            "colorbar": {
             "outlinewidth": 0,
             "ticks": ""
            },
            "type": "mesh3d"
           }
          ],
          "parcoords": [
           {
            "line": {
             "colorbar": {
              "outlinewidth": 0,
              "ticks": ""
             }
            },
            "type": "parcoords"
           }
          ],
          "pie": [
           {
            "automargin": true,
            "type": "pie"
           }
          ],
          "scatter": [
           {
            "marker": {
             "colorbar": {
              "outlinewidth": 0,
              "ticks": ""
             }
            },
            "type": "scatter"
           }
          ],
          "scatter3d": [
           {
            "line": {
             "colorbar": {
              "outlinewidth": 0,
              "ticks": ""
             }
            },
            "marker": {
             "colorbar": {
              "outlinewidth": 0,
              "ticks": ""
             }
            },
            "type": "scatter3d"
           }
          ],
          "scattercarpet": [
           {
            "marker": {
             "colorbar": {
              "outlinewidth": 0,
              "ticks": ""
             }
            },
            "type": "scattercarpet"
           }
          ],
          "scattergeo": [
           {
            "marker": {
             "colorbar": {
              "outlinewidth": 0,
              "ticks": ""
             }
            },
            "type": "scattergeo"
           }
          ],
          "scattergl": [
           {
            "marker": {
             "colorbar": {
              "outlinewidth": 0,
              "ticks": ""
             }
            },
            "type": "scattergl"
           }
          ],
          "scattermapbox": [
           {
            "marker": {
             "colorbar": {
              "outlinewidth": 0,
              "ticks": ""
             }
            },
            "type": "scattermapbox"
           }
          ],
          "scatterpolar": [
           {
            "marker": {
             "colorbar": {
              "outlinewidth": 0,
              "ticks": ""
             }
            },
            "type": "scatterpolar"
           }
          ],
          "scatterpolargl": [
           {
            "marker": {
             "colorbar": {
              "outlinewidth": 0,
              "ticks": ""
             }
            },
            "type": "scatterpolargl"
           }
          ],
          "scatterternary": [
           {
            "marker": {
             "colorbar": {
              "outlinewidth": 0,
              "ticks": ""
             }
            },
            "type": "scatterternary"
           }
          ],
          "surface": [
           {
            "colorbar": {
             "outlinewidth": 0,
             "ticks": ""
            },
            "colorscale": [
             [
              0,
              "#0d0887"
             ],
             [
              0.1111111111111111,
              "#46039f"
             ],
             [
              0.2222222222222222,
              "#7201a8"
             ],
             [
              0.3333333333333333,
              "#9c179e"
             ],
             [
              0.4444444444444444,
              "#bd3786"
             ],
             [
              0.5555555555555556,
              "#d8576b"
             ],
             [
              0.6666666666666666,
              "#ed7953"
             ],
             [
              0.7777777777777778,
              "#fb9f3a"
             ],
             [
              0.8888888888888888,
              "#fdca26"
             ],
             [
              1,
              "#f0f921"
             ]
            ],
            "type": "surface"
           }
          ],
          "table": [
           {
            "cells": {
             "fill": {
              "color": "#EBF0F8"
             },
             "line": {
              "color": "white"
             }
            },
            "header": {
             "fill": {
              "color": "#C8D4E3"
             },
             "line": {
              "color": "white"
             }
            },
            "type": "table"
           }
          ]
         },
         "layout": {
          "annotationdefaults": {
           "arrowcolor": "#2a3f5f",
           "arrowhead": 0,
           "arrowwidth": 1
          },
          "coloraxis": {
           "colorbar": {
            "outlinewidth": 0,
            "ticks": ""
           }
          },
          "colorscale": {
           "diverging": [
            [
             0,
             "#8e0152"
            ],
            [
             0.1,
             "#c51b7d"
            ],
            [
             0.2,
             "#de77ae"
            ],
            [
             0.3,
             "#f1b6da"
            ],
            [
             0.4,
             "#fde0ef"
            ],
            [
             0.5,
             "#f7f7f7"
            ],
            [
             0.6,
             "#e6f5d0"
            ],
            [
             0.7,
             "#b8e186"
            ],
            [
             0.8,
             "#7fbc41"
            ],
            [
             0.9,
             "#4d9221"
            ],
            [
             1,
             "#276419"
            ]
           ],
           "sequential": [
            [
             0,
             "#0d0887"
            ],
            [
             0.1111111111111111,
             "#46039f"
            ],
            [
             0.2222222222222222,
             "#7201a8"
            ],
            [
             0.3333333333333333,
             "#9c179e"
            ],
            [
             0.4444444444444444,
             "#bd3786"
            ],
            [
             0.5555555555555556,
             "#d8576b"
            ],
            [
             0.6666666666666666,
             "#ed7953"
            ],
            [
             0.7777777777777778,
             "#fb9f3a"
            ],
            [
             0.8888888888888888,
             "#fdca26"
            ],
            [
             1,
             "#f0f921"
            ]
           ],
           "sequentialminus": [
            [
             0,
             "#0d0887"
            ],
            [
             0.1111111111111111,
             "#46039f"
            ],
            [
             0.2222222222222222,
             "#7201a8"
            ],
            [
             0.3333333333333333,
             "#9c179e"
            ],
            [
             0.4444444444444444,
             "#bd3786"
            ],
            [
             0.5555555555555556,
             "#d8576b"
            ],
            [
             0.6666666666666666,
             "#ed7953"
            ],
            [
             0.7777777777777778,
             "#fb9f3a"
            ],
            [
             0.8888888888888888,
             "#fdca26"
            ],
            [
             1,
             "#f0f921"
            ]
           ]
          },
          "colorway": [
           "#636efa",
           "#EF553B",
           "#00cc96",
           "#ab63fa",
           "#FFA15A",
           "#19d3f3",
           "#FF6692",
           "#B6E880",
           "#FF97FF",
           "#FECB52"
          ],
          "font": {
           "color": "#2a3f5f"
          },
          "geo": {
           "bgcolor": "white",
           "lakecolor": "white",
           "landcolor": "#E5ECF6",
           "showlakes": true,
           "showland": true,
           "subunitcolor": "white"
          },
          "hoverlabel": {
           "align": "left"
          },
          "hovermode": "closest",
          "mapbox": {
           "style": "light"
          },
          "paper_bgcolor": "white",
          "plot_bgcolor": "#E5ECF6",
          "polar": {
           "angularaxis": {
            "gridcolor": "white",
            "linecolor": "white",
            "ticks": ""
           },
           "bgcolor": "#E5ECF6",
           "radialaxis": {
            "gridcolor": "white",
            "linecolor": "white",
            "ticks": ""
           }
          },
          "scene": {
           "xaxis": {
            "backgroundcolor": "#E5ECF6",
            "gridcolor": "white",
            "gridwidth": 2,
            "linecolor": "white",
            "showbackground": true,
            "ticks": "",
            "zerolinecolor": "white"
           },
           "yaxis": {
            "backgroundcolor": "#E5ECF6",
            "gridcolor": "white",
            "gridwidth": 2,
            "linecolor": "white",
            "showbackground": true,
            "ticks": "",
            "zerolinecolor": "white"
           },
           "zaxis": {
            "backgroundcolor": "#E5ECF6",
            "gridcolor": "white",
            "gridwidth": 2,
            "linecolor": "white",
            "showbackground": true,
            "ticks": "",
            "zerolinecolor": "white"
           }
          },
          "shapedefaults": {
           "line": {
            "color": "#2a3f5f"
           }
          },
          "ternary": {
           "aaxis": {
            "gridcolor": "white",
            "linecolor": "white",
            "ticks": ""
           },
           "baxis": {
            "gridcolor": "white",
            "linecolor": "white",
            "ticks": ""
           },
           "bgcolor": "#E5ECF6",
           "caxis": {
            "gridcolor": "white",
            "linecolor": "white",
            "ticks": ""
           }
          },
          "title": {
           "x": 0.05
          },
          "xaxis": {
           "automargin": true,
           "gridcolor": "white",
           "linecolor": "white",
           "ticks": "",
           "title": {
            "standoff": 15
           },
           "zerolinecolor": "white",
           "zerolinewidth": 2
          },
          "yaxis": {
           "automargin": true,
           "gridcolor": "white",
           "linecolor": "white",
           "ticks": "",
           "title": {
            "standoff": 15
           },
           "zerolinecolor": "white",
           "zerolinewidth": 2
          }
         }
        },
        "title": {
         "text": "Rapgef2: Adult mouse, Single Cell, Saunder, 2018 (DropViz)"
        }
       }
      },
      "text/html": [
       "<div>\n",
       "        \n",
       "        \n",
       "            <div id=\"7aad979c-c5d6-4be7-81fe-975199a497c4\" class=\"plotly-graph-div\" style=\"height:525px; width:100%;\"></div>\n",
       "            <script type=\"text/javascript\">\n",
       "                require([\"plotly\"], function(Plotly) {\n",
       "                    window.PLOTLYENV=window.PLOTLYENV || {};\n",
       "                    \n",
       "                if (document.getElementById(\"7aad979c-c5d6-4be7-81fe-975199a497c4\")) {\n",
       "                    Plotly.newPlot(\n",
       "                        '7aad979c-c5d6-4be7-81fe-975199a497c4',\n",
       "                        [{\"cells\": {\"align\": \"left\", \"fill\": {\"color\": \"lavender\"}, \"values\": [[\"Hippocampus\", \"Hippocampus\", \"Posterior Cortex\", \"Frontal Cortex\", \"Frontal Cortex\", \"Posterior Cortex\", \"Globus Pallidus\", \"Hippocampus\", \"Hippocampus\", \"Hippocampus\", \"Striatum\", \"Thalamus\", \"Frontal Cortex\", \"Frontal Cortex\", \"Entopeduncular\", \"Globus Pallidus\", \"Hippocampus\", \"Striatum\", \"Striatum\", \"Striatum\", \"Substantia Nigra\", \"Frontal Cortex\", \"Posterior Cortex\", \"Posterior Cortex\", \"Posterior Cortex\", \"Frontal Cortex\", \"Frontal Cortex\", \"Frontal Cortex\", \"Posterior Cortex\", \"Posterior Cortex\", \"Posterior Cortex\", \"Hippocampus\", \"Thalamus\", \"Cerebellum\", \"Frontal Cortex\", \"Posterior Cortex\", \"Entopeduncular\", \"Hippocampus\", \"Striatum\", \"Striatum\", \"Substantia Nigra\", \"Substantia Nigra\", \"Cerebellum\", \"Frontal Cortex\", \"Posterior Cortex\", \"Posterior Cortex\", \"Entopeduncular\", \"Globus Pallidus\", \"Globus Pallidus\", \"Hippocampus\", \"Hippocampus\", \"Substantia Nigra\", \"Substantia Nigra\", \"Substantia Nigra\", \"Thalamus\", \"Thalamus\", \"Cerebellum\", \"Cerebellum\", \"Cerebellum\", \"Frontal Cortex\", \"Frontal Cortex\", \"Globus Pallidus\", \"Globus Pallidus\", \"Hippocampus\", \"Hippocampus\", \"Striatum\", \"Striatum\", \"Thalamus\", \"Cerebellum\", \"Cerebellum\", \"Posterior Cortex\", \"Posterior Cortex\", \"Entopeduncular\", \"Entopeduncular\", \"Entopeduncular\", \"Globus Pallidus\", \"Globus Pallidus\", \"Hippocampus\", \"Hippocampus\", \"Striatum\", \"Striatum\", \"Substantia Nigra\", \"Substantia Nigra\", \"Substantia Nigra\", \"Substantia Nigra\", \"Thalamus\", \"Thalamus\", \"Cerebellum\", \"Frontal Cortex\", \"Frontal Cortex\", \"Posterior Cortex\", \"Entopeduncular\", \"Entopeduncular\", \"Globus Pallidus\", \"Globus Pallidus\", \"Globus Pallidus\", \"Hippocampus\", \"Hippocampus\", \"Striatum\", \"Striatum\", \"Striatum\", \"Substantia Nigra\", \"Substantia Nigra\", \"Thalamus\", \"Thalamus\", \"Thalamus\", \"Thalamus\", \"Cerebellum\", \"Cerebellum\", \"Cerebellum\", \"Hippocampus\", \"Striatum\", \"Striatum\", \"Substantia Nigra\", \"Thalamus\", \"Substantia Nigra\"], [\"Neuron\", \"Neuron\", \"Neuron\", \"Neuron\", \"Neuron\", \"Endothelial\", \"Endothelial\", \"Neuron\", \"Neuron\", \"Neuron\", \"Neuron\", \"Endothelial\", \"Endothelial\", \"Neuron\", \"Endothelial\", \"Neuron\", \"Endothelial\", \"Neuron\", \"Neuron\", \"Endothelial\", \"Endothelial\", \"Neuron\", \"Neuron\", \"Neuron\", \"Neuron\", \"Neuron\", \"Neuron\", \"Neuron\", \"Neuron\", \"Neuron\", \"Neuron\", \"Neuron\", \"Neuron\", \"Neuron\", \"Microglia_Macrophage\", \"Polydendrocyte\", \"Polydendrocyte\", \"Polydendrocyte\", \"Neuron\", \"Neuron\", \"Neuron\", \"Neuron\", \"Endothelial\", \"Polydendrocyte\", \"Microglia_Macrophage\", \"Mural\", \"Neuron\", \"Neuron\", \"Mural\", \"Neuron\", \"Mural\", \"Neuron\", \"Polydendrocyte\", \"Microglia_Macrophage\", \"Neuron\", \"Neuron\", \"Neuron\", \"Fibroblast-Like\", \"Neuron\", \"Mural\", \"Fibroblast-Like\", \"Microglia_Macrophage\", \"Polydendrocyte\", \"Ependyma\", \"Fibroblast-Like\", \"Neuron\", \"Mural\", \"Polydendrocyte\", \"Microglia_Macrophage\", \"Astrocyte\", \"Fibroblast-Like\", \"Oligodendrocyte\", \"Mural_Fibroblast-Like\", \"Polydendrocyte\", \"Astrocyte\", \"Neuron\", \"Ependyma\", \"Microglia_Macrophage\", \"Neurogenesis\", \"Polydendrocyte\", \"Microglia_Macrophage\", \"Mural\", \"Fibroblast-Like\", \"Neuron\", \"Polydendrocyte\", \"Ependyma\", \"Microglia_Macrophage\", \"Oligodendrocyte_Polydendrocyte\", \"Astrocyte\", \"Oligodendrocyte\", \"Astrocyte\", \"Oligodendrocyte\", \"Oligodendrocyte\", \"Oligodendrocyte\", \"Astrocyte\", \"Fibroblast-Like\", \"Astrocyte\", \"Oligodendrocyte\", \"Ependyma\", \"Oligodendrocyte\", \"Fibroblast-Like\", \"Oligodendrocyte\", \"Astrocyte\", \"Astrocyte\", \"Mural\", \"Fibroblast-Like\", \"Oligodendrocyte\", \"Neuron\", \"Astrocyte\", \"Choroid_Plexus\", \"Choroid_Plexus\", \"Neurogenesis\", \"Astrocyte\", \"Oligodendrocyte\", \"Oligodendrocyte\", \"Ependyma\"], [\"Neuron_CA2CA3_Pvrl3-Rgs15-Calb2 [#6]\", \"Neuron_Subiculum_Slc17a6 [#2]\", \"RSG_Tshz2-Shisa8 [#6]\", \"Neuron_Claustrum_Nr4a2 [#5]\", \"Neuron_Layer5_Parm1 [#7]\", \"Endothelial_Flt1 [#12]\", \"Endothelial_Flt1 [#7]\", \"Neuron_Subiculum_Entorhinal_Nxph3 [#3]\", \"Neuron_Dentate_C1ql2 [#4]\", \"Neuron_CA1_Subiculum_Postsubiculum_Entorhinal_Fibcd1-Dcn-Cbln1-Ptgfr-Fezf2 [#5]\", \"Neuron_dSPN_Drd1 [#10]\", \"Endothelial_Flt1 [#4]\", \"Endothelial_Flt1 [#12]\", \"Neuron_Layer23_Nptxr [#6]\", \"Endothelial_Flt1 [#2]\", \"Neuron_Ppp1r1b [#3]\", \"Endothelial_Flt1 [#15]\", \"Neuron_iSPN_Adora2a [#11]\", \"Neuron_SPN_BNST_Amygdala_Otof [#13]\", \"Endothelial_Flt1 [#7]\", \"Endothelial_Flt1 [#12]\", \"Neuron_Layer6Subplate_Syt6 [#3]\", \"Neuron_Layer6Subplate_Syt6 [#1]\", \"Neuron_Layer23_5_6_Subiculum_Calb1-Rorb-Fermt1-Tshz2-Oprk1-Crym-Sema3e [#2]\", \"Neuron_Layer5_Bcl6 [#3]\", \"Interneuron_CGE_Cplx3-Synpr [#1]\", \"Interneuron_MGE_Sst-Pvalb [#2]\", \"Neuron_Layer5b_Fezf2 [#4]\", \"Interneuron_CGE_Cplx3-Synpr [#4]\", \"Interneuron_MGE_Sst-Pvalb [#5]\", \"Layer5b_Fezf2 [#7]\", \"Interneuron_Gad2 [#1]\", \"Neuron_Gad2-Ahi1 [#3]\", \"Interneurons_and_Other_Nnat [#4]\", \"Microglia_Macrophage_C1qb [#11]\", \"Polydendrocyte_Tnr [#10]\", \"Polydendrocyte_Cacng4 [#6]\", \"Polydendrocyte_Tnr [#9]\", \"Interneuron_Pvalb_Th_Pnoc [#14]\", \"Interneuron_Sst [#15]\", \"Neuron_CA3_C1ql3 [#1]\", \"Neuron_Rora [#2]\", \"Endothelial_Flt1 [#10]\", \"Polydendrocyte_Tnr [#10]\", \"Microglia_Macrophage_Tmem119-Mrc1 [#11]\", \"Mural_Rgs5Acta2 [#13]\", \"Neuron_Syt1 [#4]\", \"Neuron_Gabra1 [#2]\", \"Mural_Rgs5Acta2 [#8]\", \"Neuron_CajalRetzius_Lhx1 [#14]\", \"Mural_Rgs5Acta2 [#16]\", \"Neuron_Gad2 [#3]\", \"Polydendrocyte_Cacng4 [#6]\", \"Microglia_Macrophage_C1qb [#9]\", \"Neuron_Habenula_Tac2 [#1]\", \"Neuron_Rora [#2]\", \"GranularNeuron_Gabra6 [#1]\", \"Fibroblast-Like_Dcn [#11]\", \"Interneurons_Pvalb [#3]\", \"Mural_Rgs5Acta2 [#13]\", \"Fibroblast-Like_Dcn [#14]\", \"Microglia_Macrophage_C1qb [#11]\", \"Polydendrocyte_Tnr [#4]\", \"Ependyma [#11]\", \"Fibroblast-Like_Dcn [#17]\", \"Interneuron_Chat [#12]\", \"Mural_Rgs5Acta2 [#8]\", \"Polydendrocyte_Tnr [#12]\", \"Microglia_Macrophage_C1qb [#5]\", \"Astrocyte_Gja1 [#8]\", \"Fibroblast-Like_Dcn [#14]\", \"Oligodendrocyte_Tfr [#9]\", \"Mural_Fibroblast-Like_Rgs5Acta2-Dcn [#3]\", \"Polydendrocyte_Tnr [#5]\", \"Astrocyte_Gja1 [#7]\", \"Neuron_Chat [#1]\", \"Ependyma [#6]\", \"Microglia_Macrophage_C1qb [#10]\", \"Neurogenesis_Sox4 [#13]\", \"Polydendrocytes_Tnr [#5]\", \"Microglia_Macrophage_C1qb [#6]\", \"Mural_Rgs5Acta2 [#13]\", \"Fibroblast-Like_Dcn [#14]\", \"Neuron_Th [#4]\", \"Polydendrocyte_Tnr [#5]\", \"Ependyma [#10]\", \"Microglia_Macrophage_C1qb [#7]\", \"Oligodendrocyte_Polydendrocyte_Tfr_Tnr [#6]\", \"Astrocyte_Gja1 [#8]\", \"Oligodendrocyte_Tfr [#9]\", \"Astrocyte_Gja1 [#8]\", \"Oligodendrocyte_Tfr [#1]\", \"Oligodendrocyte_Mbp [#8]\", \"Oligodendrocyte_Tfr [#10]\", \"Astrocyte_Gja1 [#5]\", \"Fibroblast-Like_Dcn [#9]\", \"Astrocyte_Gja1 [#7]\", \"Oligodendrocyte_Tfr [#8]\", \"Ependyma [#1]\", \"Oligodendrocytes_Tfr [#3]\", \"Fibroblast-Like_Dcn [#9]\", \"Oligodendrocyte_Tfr [#10]\", \"Astrocyte_Gja1 [#7]\", \"Astrocyte_Gja1 [#11]\", \"Mural_Rgs5Acta2 [#5]\", \"Fibroblast-Like_Dcn [#6]\", \"Oligodendrocyte_Tfr [#8]\", \"PurkinjeNeuron_Pcp2 [#2]\", \"BergmannGlia_Gpr37l1 [#7]\", \"Choroid_Plexus_Ttr [#9]\", \"Choroid_Plexus_Ttr [#12]\", \"Neurogenesis_Sox4 [#2]\", \"Astrocyte_Gja1 [#4]\", \"Oligodendrocyte_Mbp [#11]\", \"Oligodendrocyte_Mbp [#9]\", \"Ependyma [#8]\"], [2.83321334405622, 2.7080502011022096, 2.6390573296152597, 2.484906649788, 2.3978952727983702, 2.3978952727983702, 2.3978952727983702, 2.3978952727983702, 2.3978952727983702, 2.3978952727983702, 2.3978952727983702, 2.3978952727983702, 2.30258509299405, 2.30258509299405, 2.30258509299405, 2.30258509299405, 2.30258509299405, 2.30258509299405, 2.30258509299405, 2.30258509299405, 2.30258509299405, 2.19722457733622, 2.19722457733622, 2.19722457733622, 2.19722457733622, 2.07944154167984, 2.07944154167984, 2.07944154167984, 2.07944154167984, 2.07944154167984, 2.07944154167984, 2.07944154167984, 2.07944154167984, 1.9459101490553101, 1.9459101490553101, 1.9459101490553101, 1.9459101490553101, 1.9459101490553101, 1.9459101490553101, 1.9459101490553101, 1.9459101490553101, 1.9459101490553101, 1.79175946922805, 1.79175946922805, 1.79175946922805, 1.79175946922805, 1.79175946922805, 1.79175946922805, 1.79175946922805, 1.79175946922805, 1.79175946922805, 1.79175946922805, 1.79175946922805, 1.79175946922805, 1.79175946922805, 1.79175946922805, 1.6094379124341003, 1.6094379124341003, 1.6094379124341003, 1.6094379124341003, 1.6094379124341003, 1.6094379124341003, 1.6094379124341003, 1.6094379124341003, 1.6094379124341003, 1.6094379124341003, 1.6094379124341003, 1.6094379124341003, 1.38629436111989, 1.38629436111989, 1.38629436111989, 1.38629436111989, 1.38629436111989, 1.38629436111989, 1.38629436111989, 1.38629436111989, 1.38629436111989, 1.38629436111989, 1.38629436111989, 1.38629436111989, 1.38629436111989, 1.38629436111989, 1.38629436111989, 1.38629436111989, 1.38629436111989, 1.38629436111989, 1.38629436111989, 1.09861228866811, 1.09861228866811, 1.09861228866811, 1.09861228866811, 1.09861228866811, 1.09861228866811, 1.09861228866811, 1.09861228866811, 1.09861228866811, 1.09861228866811, 1.09861228866811, 1.09861228866811, 1.09861228866811, 1.09861228866811, 1.09861228866811, 1.09861228866811, 1.09861228866811, 1.09861228866811, 1.09861228866811, 1.09861228866811, 0.693147180559945, 0.693147180559945, 0.693147180559945, 0.693147180559945, 0.693147180559945, 0.693147180559945, 0.693147180559945, 0.693147180559945, 0.0], [0.0, 8.395659836866479e-31, 2.04576845240115e-107, 4.08400032039014e-11, 2.38100419074208e-40, 4.40665977396744e-15, 6.4904261133257686e-114, 0.00308944818365243, 8.476327376513849e-16, 0.0554503267529836, 1.0216283241220297e-79, 6.691088642699817e-171, 1.31248904844705e-05, 9.457377094537159e-78, 1.06178373845168e-52, 1.8449111529613893e-160, 0.006363408180190829, 0.00025053024506471803, 0.153343908737328, 0.6284673104457571, 1.67267522002675e-110, 1.3203933214913901e-05, 0.194047659376876, 0.0037563751311186703, 0.00431631623411374, 0.000279315538527082, 2.7334910469714998e-05, 0.000779548184255756, 0.0536532635228013, 0.146184065984034, 0.22644718861229698, 2.11724779689152e-44, 5.026535384337099e-56, 0.10706606257167, 0.000828026835336854, 0.000152815223778874, 0.0069983746516588, 1.2003031355035401e-16, 8.17709121905317e-07, 7.080372174011159e-07, 0.0256506522864582, 0.0166059844979101, 0.0144725822990474, 6.3607687731623e-20, 0.0007552144256360299, 8.119370014787241e-05, 1.25197128995084e-24, 1.57532829508569e-25, 0.189023615583846, 1.18968826336102e-05, 2.3515885448863e-14, 6.17260809057622e-65, 0.251857801049146, 0.72435692397616, 0.9543560730527451, 7.847678298460959e-35, 1.73675101298754e-18, 0.270637432891013, 0.203723812470323, 1.50161641052176e-12, 1.04647936919361e-06, 0.350521353975846, 0.00771879891596438, 1.54716792094626e-20, 1.4386936541247902e-10, 1.79125995385936e-09, 1.53275060204671e-05, 0.00327500487207077, 1.0, 0.207546139989629, 2.58624032364085e-10, 3.35475989642239e-48, 0.639263644667849, 0.9295341041400258, 0.8238031283144499, 0.0028261219723870303, 0.8509395884992971, 1.20276580325459e-13, 7.41730218135675e-18, 1.33730692279079e-11, 2.76480750070967e-08, 0.0268152843274057, 0.504613607373631, 0.92859716777852, 0.0607223888241891, 0.000123412095684622, 0.21636739638133398, 0.00036323604305688197, 8.30033878669186e-108, 2.9336053861321694e-138, 1.80165119787941e-95, 1.0166639501301e-76, 0.25150354255119195, 3.1884195149426384e-252, 2.9024595334880697e-62, 0.000529451734125346, 0.0, 5.344614663645819e-115, 2.56294224586472e-11, 1.25885744507358e-67, 0.000286117428408625, 1.868357956949709e-168, 7.057369680979029e-05, 2.8617207807286203e-06, 5.3517746994949e-09, 0.00347509202417995, 1.4015507805e-314, 1.18792292476695e-10, 4.7275554824616604e-17, 0.0426465568287287, 3.84913180354258e-08, 8.91329084250312e-29, 2.829559034875449e-77, 0.0041185124783610794, 0.00011140520851921299, 0.282091515156483]]}, \"header\": {\"align\": \"left\", \"fill\": {\"color\": \"paleturquoise\"}, \"values\": [\"Region\", \"Class\", \"Cluster\", \"Rapgef2_Amount\", \"Rapgef2_PVal\"]}, \"type\": \"table\"}],\n",
       "                        {\"template\": {\"data\": {\"bar\": [{\"error_x\": {\"color\": \"#2a3f5f\"}, \"error_y\": {\"color\": \"#2a3f5f\"}, \"marker\": {\"line\": {\"color\": \"#E5ECF6\", \"width\": 0.5}}, \"type\": \"bar\"}], \"barpolar\": [{\"marker\": {\"line\": {\"color\": \"#E5ECF6\", \"width\": 0.5}}, \"type\": \"barpolar\"}], \"carpet\": [{\"aaxis\": {\"endlinecolor\": \"#2a3f5f\", \"gridcolor\": \"white\", \"linecolor\": \"white\", \"minorgridcolor\": \"white\", \"startlinecolor\": \"#2a3f5f\"}, \"baxis\": {\"endlinecolor\": \"#2a3f5f\", \"gridcolor\": \"white\", \"linecolor\": \"white\", \"minorgridcolor\": \"white\", \"startlinecolor\": \"#2a3f5f\"}, \"type\": \"carpet\"}], \"choropleth\": [{\"colorbar\": {\"outlinewidth\": 0, \"ticks\": \"\"}, \"type\": \"choropleth\"}], \"contour\": [{\"colorbar\": {\"outlinewidth\": 0, \"ticks\": \"\"}, \"colorscale\": [[0.0, \"#0d0887\"], [0.1111111111111111, \"#46039f\"], [0.2222222222222222, \"#7201a8\"], [0.3333333333333333, \"#9c179e\"], [0.4444444444444444, \"#bd3786\"], [0.5555555555555556, \"#d8576b\"], [0.6666666666666666, \"#ed7953\"], [0.7777777777777778, \"#fb9f3a\"], [0.8888888888888888, \"#fdca26\"], [1.0, \"#f0f921\"]], \"type\": \"contour\"}], \"contourcarpet\": [{\"colorbar\": {\"outlinewidth\": 0, \"ticks\": \"\"}, \"type\": \"contourcarpet\"}], \"heatmap\": [{\"colorbar\": {\"outlinewidth\": 0, \"ticks\": \"\"}, \"colorscale\": [[0.0, \"#0d0887\"], [0.1111111111111111, \"#46039f\"], [0.2222222222222222, \"#7201a8\"], [0.3333333333333333, \"#9c179e\"], [0.4444444444444444, \"#bd3786\"], [0.5555555555555556, \"#d8576b\"], [0.6666666666666666, \"#ed7953\"], [0.7777777777777778, \"#fb9f3a\"], [0.8888888888888888, \"#fdca26\"], [1.0, \"#f0f921\"]], \"type\": \"heatmap\"}], \"heatmapgl\": [{\"colorbar\": {\"outlinewidth\": 0, \"ticks\": \"\"}, \"colorscale\": [[0.0, \"#0d0887\"], [0.1111111111111111, \"#46039f\"], [0.2222222222222222, \"#7201a8\"], [0.3333333333333333, \"#9c179e\"], [0.4444444444444444, \"#bd3786\"], [0.5555555555555556, \"#d8576b\"], [0.6666666666666666, \"#ed7953\"], [0.7777777777777778, \"#fb9f3a\"], [0.8888888888888888, \"#fdca26\"], [1.0, \"#f0f921\"]], \"type\": \"heatmapgl\"}], \"histogram\": [{\"marker\": {\"colorbar\": {\"outlinewidth\": 0, \"ticks\": \"\"}}, \"type\": \"histogram\"}], \"histogram2d\": [{\"colorbar\": {\"outlinewidth\": 0, \"ticks\": \"\"}, \"colorscale\": [[0.0, \"#0d0887\"], [0.1111111111111111, \"#46039f\"], [0.2222222222222222, \"#7201a8\"], [0.3333333333333333, \"#9c179e\"], [0.4444444444444444, \"#bd3786\"], [0.5555555555555556, \"#d8576b\"], [0.6666666666666666, \"#ed7953\"], [0.7777777777777778, \"#fb9f3a\"], [0.8888888888888888, \"#fdca26\"], [1.0, \"#f0f921\"]], \"type\": \"histogram2d\"}], \"histogram2dcontour\": [{\"colorbar\": {\"outlinewidth\": 0, \"ticks\": \"\"}, \"colorscale\": [[0.0, \"#0d0887\"], [0.1111111111111111, \"#46039f\"], [0.2222222222222222, \"#7201a8\"], [0.3333333333333333, \"#9c179e\"], [0.4444444444444444, \"#bd3786\"], [0.5555555555555556, \"#d8576b\"], [0.6666666666666666, \"#ed7953\"], [0.7777777777777778, \"#fb9f3a\"], [0.8888888888888888, \"#fdca26\"], [1.0, \"#f0f921\"]], \"type\": \"histogram2dcontour\"}], \"mesh3d\": [{\"colorbar\": {\"outlinewidth\": 0, \"ticks\": \"\"}, \"type\": \"mesh3d\"}], \"parcoords\": [{\"line\": {\"colorbar\": {\"outlinewidth\": 0, \"ticks\": \"\"}}, \"type\": \"parcoords\"}], \"pie\": [{\"automargin\": true, \"type\": \"pie\"}], \"scatter\": [{\"marker\": {\"colorbar\": {\"outlinewidth\": 0, \"ticks\": \"\"}}, \"type\": \"scatter\"}], \"scatter3d\": [{\"line\": {\"colorbar\": {\"outlinewidth\": 0, \"ticks\": \"\"}}, \"marker\": {\"colorbar\": {\"outlinewidth\": 0, \"ticks\": \"\"}}, \"type\": \"scatter3d\"}], \"scattercarpet\": [{\"marker\": {\"colorbar\": {\"outlinewidth\": 0, \"ticks\": \"\"}}, \"type\": \"scattercarpet\"}], \"scattergeo\": [{\"marker\": {\"colorbar\": {\"outlinewidth\": 0, \"ticks\": \"\"}}, \"type\": \"scattergeo\"}], \"scattergl\": [{\"marker\": {\"colorbar\": {\"outlinewidth\": 0, \"ticks\": \"\"}}, \"type\": \"scattergl\"}], \"scattermapbox\": [{\"marker\": {\"colorbar\": {\"outlinewidth\": 0, \"ticks\": \"\"}}, \"type\": \"scattermapbox\"}], \"scatterpolar\": [{\"marker\": {\"colorbar\": {\"outlinewidth\": 0, \"ticks\": \"\"}}, \"type\": \"scatterpolar\"}], \"scatterpolargl\": [{\"marker\": {\"colorbar\": {\"outlinewidth\": 0, \"ticks\": \"\"}}, \"type\": \"scatterpolargl\"}], \"scatterternary\": [{\"marker\": {\"colorbar\": {\"outlinewidth\": 0, \"ticks\": \"\"}}, \"type\": \"scatterternary\"}], \"surface\": [{\"colorbar\": {\"outlinewidth\": 0, \"ticks\": \"\"}, \"colorscale\": [[0.0, \"#0d0887\"], [0.1111111111111111, \"#46039f\"], [0.2222222222222222, \"#7201a8\"], [0.3333333333333333, \"#9c179e\"], [0.4444444444444444, \"#bd3786\"], [0.5555555555555556, \"#d8576b\"], [0.6666666666666666, \"#ed7953\"], [0.7777777777777778, \"#fb9f3a\"], [0.8888888888888888, \"#fdca26\"], [1.0, \"#f0f921\"]], \"type\": \"surface\"}], \"table\": [{\"cells\": {\"fill\": {\"color\": \"#EBF0F8\"}, \"line\": {\"color\": \"white\"}}, \"header\": {\"fill\": {\"color\": \"#C8D4E3\"}, \"line\": {\"color\": \"white\"}}, \"type\": \"table\"}]}, \"layout\": {\"annotationdefaults\": {\"arrowcolor\": \"#2a3f5f\", \"arrowhead\": 0, \"arrowwidth\": 1}, \"coloraxis\": {\"colorbar\": {\"outlinewidth\": 0, \"ticks\": \"\"}}, \"colorscale\": {\"diverging\": [[0, \"#8e0152\"], [0.1, \"#c51b7d\"], [0.2, \"#de77ae\"], [0.3, \"#f1b6da\"], [0.4, \"#fde0ef\"], [0.5, \"#f7f7f7\"], [0.6, \"#e6f5d0\"], [0.7, \"#b8e186\"], [0.8, \"#7fbc41\"], [0.9, \"#4d9221\"], [1, \"#276419\"]], \"sequential\": [[0.0, \"#0d0887\"], [0.1111111111111111, \"#46039f\"], [0.2222222222222222, \"#7201a8\"], [0.3333333333333333, \"#9c179e\"], [0.4444444444444444, \"#bd3786\"], [0.5555555555555556, \"#d8576b\"], [0.6666666666666666, \"#ed7953\"], [0.7777777777777778, \"#fb9f3a\"], [0.8888888888888888, \"#fdca26\"], [1.0, \"#f0f921\"]], \"sequentialminus\": [[0.0, \"#0d0887\"], [0.1111111111111111, \"#46039f\"], [0.2222222222222222, \"#7201a8\"], [0.3333333333333333, \"#9c179e\"], [0.4444444444444444, \"#bd3786\"], [0.5555555555555556, \"#d8576b\"], [0.6666666666666666, \"#ed7953\"], [0.7777777777777778, \"#fb9f3a\"], [0.8888888888888888, \"#fdca26\"], [1.0, \"#f0f921\"]]}, \"colorway\": [\"#636efa\", \"#EF553B\", \"#00cc96\", \"#ab63fa\", \"#FFA15A\", \"#19d3f3\", \"#FF6692\", \"#B6E880\", \"#FF97FF\", \"#FECB52\"], \"font\": {\"color\": \"#2a3f5f\"}, \"geo\": {\"bgcolor\": \"white\", \"lakecolor\": \"white\", \"landcolor\": \"#E5ECF6\", \"showlakes\": true, \"showland\": true, \"subunitcolor\": \"white\"}, \"hoverlabel\": {\"align\": \"left\"}, \"hovermode\": \"closest\", \"mapbox\": {\"style\": \"light\"}, \"paper_bgcolor\": \"white\", \"plot_bgcolor\": \"#E5ECF6\", \"polar\": {\"angularaxis\": {\"gridcolor\": \"white\", \"linecolor\": \"white\", \"ticks\": \"\"}, \"bgcolor\": \"#E5ECF6\", \"radialaxis\": {\"gridcolor\": \"white\", \"linecolor\": \"white\", \"ticks\": \"\"}}, \"scene\": {\"xaxis\": {\"backgroundcolor\": \"#E5ECF6\", \"gridcolor\": \"white\", \"gridwidth\": 2, \"linecolor\": \"white\", \"showbackground\": true, \"ticks\": \"\", \"zerolinecolor\": \"white\"}, \"yaxis\": {\"backgroundcolor\": \"#E5ECF6\", \"gridcolor\": \"white\", \"gridwidth\": 2, \"linecolor\": \"white\", \"showbackground\": true, \"ticks\": \"\", \"zerolinecolor\": \"white\"}, \"zaxis\": {\"backgroundcolor\": \"#E5ECF6\", \"gridcolor\": \"white\", \"gridwidth\": 2, \"linecolor\": \"white\", \"showbackground\": true, \"ticks\": \"\", \"zerolinecolor\": \"white\"}}, \"shapedefaults\": {\"line\": {\"color\": \"#2a3f5f\"}}, \"ternary\": {\"aaxis\": {\"gridcolor\": \"white\", \"linecolor\": \"white\", \"ticks\": \"\"}, \"baxis\": {\"gridcolor\": \"white\", \"linecolor\": \"white\", \"ticks\": \"\"}, \"bgcolor\": \"#E5ECF6\", \"caxis\": {\"gridcolor\": \"white\", \"linecolor\": \"white\", \"ticks\": \"\"}}, \"title\": {\"x\": 0.05}, \"xaxis\": {\"automargin\": true, \"gridcolor\": \"white\", \"linecolor\": \"white\", \"ticks\": \"\", \"title\": {\"standoff\": 15}, \"zerolinecolor\": \"white\", \"zerolinewidth\": 2}, \"yaxis\": {\"automargin\": true, \"gridcolor\": \"white\", \"linecolor\": \"white\", \"ticks\": \"\", \"title\": {\"standoff\": 15}, \"zerolinecolor\": \"white\", \"zerolinewidth\": 2}}}, \"title\": {\"text\": \"Rapgef2: Adult mouse, Single Cell, Saunder, 2018 (DropViz)\"}},\n",
       "                        {\"responsive\": true}\n",
       "                    ).then(function(){\n",
       "                            \n",
       "var gd = document.getElementById('7aad979c-c5d6-4be7-81fe-975199a497c4');\n",
       "var x = new MutationObserver(function (mutations, observer) {{\n",
       "        var display = window.getComputedStyle(gd).display;\n",
       "        if (!display || display === 'none') {{\n",
       "            console.log([gd, 'removed!']);\n",
       "            Plotly.purge(gd);\n",
       "            observer.disconnect();\n",
       "        }}\n",
       "}});\n",
       "\n",
       "// Listen for the removal of the full notebook cells\n",
       "var notebookContainer = gd.closest('#notebook-container');\n",
       "if (notebookContainer) {{\n",
       "    x.observe(notebookContainer, {childList: true});\n",
       "}}\n",
       "\n",
       "// Listen for the clearing of the current output cell\n",
       "var outputEl = gd.closest('.output');\n",
       "if (outputEl) {{\n",
       "    x.observe(outputEl, {childList: true});\n",
       "}}\n",
       "\n",
       "                        })\n",
       "                };\n",
       "                });\n",
       "            </script>\n",
       "        </div>"
      ]
     },
     "metadata": {},
     "output_type": "display_data"
    }
   ],
   "source": [
    " import plotly.graph_objects as go\n",
    "fig = px.bar(data, x=\"Class\", y=\"Rapgef2_Amount\", color = \"Class\", \n",
    "                    #facet_row = \"Region\",\n",
    "                     width=1000, height=800,\n",
    "                    hover_name = \"Cluster\",\n",
    "                    hover_data = [\"Class\", \"Cluster\", \"Rapgef2_Amount\", \"Rapgef2_PVal\"]\n",
    "                    )\n",
    "for a in fig.layout.annotations:\n",
    "    a.text = a.text.split(\"=\")[1]\n",
    "fig.update_yaxes(title_text='')\n",
    "fig.update_layout(\n",
    "    title=\"Rapgef2: Adult mouse, Single Cell, Saunder, 2018 (DropViz)\",\n",
    "    xaxis_title=\"Cell Type\",\n",
    "    yaxis_title=\"Expression\")\n",
    "fig.show()\n",
    "\n",
    "            ## print table\n",
    "fig2 = go.Figure(data=[go.Table(\n",
    "header=dict(values=list(data.columns),\n",
    "                    fill_color='paleturquoise',\n",
    "                    align='left'),\n",
    "cells=dict(values=[data.Region,data.Class, data.Cluster, data.Rapgef2_Amount,\n",
    "                              data.Rapgef2_PVal],\n",
    "                    fill_color='lavender',\n",
    "                    align='left'))\n",
    "                ])\n",
    "fig2.update_layout(\n",
    "    title=\"Rapgef2: Adult mouse, Single Cell, Saunder, 2018 (DropViz)\")\n",
    "\n",
    "fig2.show()"
   ]
  }
 ],
 "metadata": {
  "celltoolbar": "Hide code",
  "kernelspec": {
   "display_name": "Python 3",
   "language": "python",
   "name": "python3"
  },
  "language_info": {
   "codemirror_mode": {
    "name": "ipython",
    "version": 3
   },
   "file_extension": ".py",
   "mimetype": "text/x-python",
   "name": "python",
   "nbconvert_exporter": "python",
   "pygments_lexer": "ipython3",
   "version": "3.7.6"
  }
 },
 "nbformat": 4,
 "nbformat_minor": 4
}
