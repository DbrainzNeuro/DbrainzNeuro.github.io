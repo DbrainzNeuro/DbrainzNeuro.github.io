{
 "cells": [
  {
   "cell_type": "code",
   "execution_count": 1,
   "metadata": {
    "hideCode": true,
    "hidePrompt": true,
    "hide_input": false,
    "scrolled": true
   },
   "outputs": [],
   "source": [
    "import ipywidgets as widgets\n",
    "import pandas as pd\n",
    "import io\n",
    "\n",
    "from IPython.display import display\n",
    "from ipywidgets import interact_manual, interactive,GridspecLayout, AppLayout, Button, Layout\n",
    "import matplotlib \n",
    "#import seaborn as sns\n",
    "import plotly.express as px"
   ]
  },
  {
   "cell_type": "code",
   "execution_count": 2,
   "metadata": {
    "hideCode": true,
    "hidePrompt": true,
    "scrolled": true
   },
   "outputs": [],
   "source": [
    "mouse_means0 = pd.read_csv('https://idk-etl-prod-download-bucket.s3.amazonaws.com/aibs_mouse_ctx-hip_smart-seq/trimmed_means.csv')\n",
    "#human_means0 = pd.read_csv('https://idk-etl-prod-download-bucket.s3.amazonaws.com/aibs_human_ctx_smart-seq/trimmed_means.csv')\n",
    "\n",
    "# Get all gene and cell type names: HUMAN\n",
    "#human_idx = list(human_means0.columns.values)\n",
    "#human_listOfColumnNames = list(human_means0['cluster_label'])\n",
    "# Get all gene and cell type: MOUSE\n",
    "mouse_idx = list(mouse_means0.columns.values)\n",
    "mouse_listOfColumnNames = list(mouse_means0['cluster_label'])\n",
    "\n"
   ]
  },
  {
   "cell_type": "code",
   "execution_count": 3,
   "metadata": {
    "hideCode": true,
    "hidePrompt": true,
    "scrolled": false
   },
   "outputs": [],
   "source": [
    "#combine clusters into higher_clusters\n",
    "newlist =[]\n",
    "for i in mouse_listOfColumnNames:\n",
    "    i = str(i)\n",
    "    head, sep, tail = i.partition('_') \n",
    "    newlist.append(tail) \n",
    "mouse_means0['higher_cluster'] = newlist\n"
   ]
  },
  {
   "cell_type": "code",
   "execution_count": 4,
   "metadata": {
    "hideCode": true,
    "hidePrompt": true,
    "scrolled": true
   },
   "outputs": [],
   "source": [
    "#list what cell clusters count as which cell types\n",
    "\n",
    "excite_list = ['CA1','CA1-ProS','CA2-IG-FC','CA3','CT SUB','DG', 'L2 IT ENTl',\n",
    " 'L2 IT ENTm','L2 IT HATA','L2 IT PAR','L2 IT ProS','L2 IT RSP-ACA','L2 IT RSPv',\n",
    " 'L2/3 IT APr','L2/3 IT CTX','L2/3 IT ENTl','L2/3 IT PPP','L2/3 IT TPE',\n",
    " 'L3 IT ENTl','L3 IT ENTm','L3 RSP-ACA','L4/5 IT CTX','L4/5 IT TPE-ENT',\n",
    " 'L5 IT CTX','L5 IT TPE-ENT','L5 NP CTX','L5 PPP','L5 PT CTX','L5 PT RSP-ACA',\n",
    " 'L5/6 IT CTX', 'L6 Car3', 'L6 CT CTX','L6 CT ENTm','L6 IT CTX','L6 IT ENTl',\n",
    " 'L6 IT RHP','L6 NP CT CTX','L6b CTX','L6b RHP','L6b/CT ENT','Pax6','SUB','SUB-ProS', 'ProS','Ndnf HPF'\n",
    " 'NP PPP','NP SUB']\n",
    "\n",
    "non_neuron_list = [ 'VLMC', 'Oligo', 'Micro', 'Endo', 'Astro', 'CR', 'OPC', 'Peri',  'PVM', 'SMC', 'v3d']\n",
    "\n",
    "inhib_list =  ['Lamp5 Lhx6','Lamp5','Meis2','Pvalb Vipr2','Pvalb','Sncg','Sst Chodl','Sst','Vip']\n",
    "\n",
    "all_list = excite_list + non_neuron_list + inhib_list"
   ]
  },
  {
   "cell_type": "code",
   "execution_count": null,
   "metadata": {
    "hideCode": true,
    "hidePrompt": true,
    "scrolled": true
   },
   "outputs": [],
   "source": [
    "#add cell type data to frame\n",
    "mega_grps = []\n",
    "for i in mouse_means0[\"higher_cluster\"]:\n",
    "    if i in excite_list :\n",
    "        mega_grps.append(\"Excitatory\")\n",
    "    if i in inhib_list :\n",
    "        mega_grps.append(\"Inhibitory\")\n",
    "    if i in non_neuron_list :\n",
    "        mega_grps.append(\"Non-Neuronal\")\n",
    "    if i not in all_list :\n",
    "        mega_grps.append(\"Unknown\")\n",
    "mouse_means0[\"Cell_Type\"] = mega_grps"
   ]
  },
  {
   "cell_type": "code",
   "execution_count": null,
   "metadata": {
    "hideCode": true,
    "hidePrompt": true,
    "scrolled": true
   },
   "outputs": [],
   "source": [
    "#reshape for graphing\n",
    "genestestdf1 = pd.melt(mouse_means0, id_vars =['cluster_label','higher_cluster', \"Cell_Type\"],\n",
    "                      var_name ='Gene', value_name ='Expression')\n",
    "genestestdf2 = genestestdf1[genestestdf1[\"Gene\"] == 'Rapgef2']"
   ]
  },
  {
   "cell_type": "code",
   "execution_count": null,
   "metadata": {
    "hideCode": true,
    "hidePrompt": true,
    "scrolled": false
   },
   "outputs": [],
   "source": [
    "import plotly.graph_objects as go\n",
    "fig = px.bar(genestestdf2, x=\"higher_cluster\", y=\"Expression\", color = \"Cell_Type\", \n",
    "                    #facet_col = \"Cell_Type\",\n",
    "             #facet_wrap = 4,\n",
    "                    width=1000, height=600,\n",
    "                    hover_name = \"cluster_label\",\n",
    "                    hover_data = [\"higher_cluster\", \"Cell_Type\", \"Expression\"]\n",
    "                    )\n",
    "for a in fig.layout.annotations:\n",
    "    a.text = a.text.split(\"=\")[1]\n",
    "fig.update_yaxes(title_text='')\n",
    "fig.update_layout(\n",
    "    title=\"Rapgef2: Adult mouse, Single Cell, Allen Transcriptomics\",\n",
    "    xaxis_title=\"Cell Type\",\n",
    "    yaxis_title=\"Expression\")\n",
    "fig.show()\n",
    "\n",
    "            ## print table\n",
    "fig2 = go.Figure(data=[go.Table(\n",
    "    header=dict(values=list(genestestdf2.columns),\n",
    "                fill_color='paleturquoise',\n",
    "                align='left'),\n",
    "    cells=dict(values=[genestestdf2.cluster_label,genestestdf2.higher_cluster, genestestdf2.Cell_Type, genestestdf2.Gene,genestestdf2.Expression],\n",
    "               fill_color='lavender',\n",
    "               align='left'))\n",
    "])\n",
    "\n",
    "\n",
    "fig2.update_layout(title=\"Rapgef2: Rapgef2: Adult mouse, Single Cell, Allen Transcriptomics\")\n",
    "fig2.show()"
   ]
  }
 ],
 "metadata": {
  "celltoolbar": "Hide code",
  "kernelspec": {
   "display_name": "Python 3",
   "language": "python",
   "name": "python3"
  },
  "language_info": {
   "codemirror_mode": {
    "name": "ipython",
    "version": 3
   },
   "file_extension": ".py",
   "mimetype": "text/x-python",
   "name": "python",
   "nbconvert_exporter": "python",
   "pygments_lexer": "ipython3",
   "version": "3.7.6"
  }
 },
 "nbformat": 4,
 "nbformat_minor": 2
}
