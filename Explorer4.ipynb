{
 "cells": [
  {
   "cell_type": "markdown",
   "metadata": {},
   "source": [
    "# Press the Double Arrow above to Begin, then click red pop-up to confirm"
   ]
  },
  {
   "cell_type": "code",
   "execution_count": 1,
   "metadata": {
    "hide_input": false
   },
   "outputs": [],
   "source": [
    "%%capture\n",
    "pip install ipython_blocking"
   ]
  },
  {
   "cell_type": "code",
   "execution_count": 2,
   "metadata": {},
   "outputs": [],
   "source": [
    "import ipython_blocking # enables %block and %blockrun magic\n",
    "import matplotlib "
   ]
  },
  {
   "cell_type": "code",
   "execution_count": 3,
   "metadata": {},
   "outputs": [],
   "source": [
    "#interactive plotting in separate window\n",
    "%matplotlib qt\n",
    "matplotlib.use('Qt5Agg')"
   ]
  },
  {
   "cell_type": "code",
   "execution_count": 4,
   "metadata": {
    "hide_input": true,
    "scrolled": true
   },
   "outputs": [
    {
     "data": {
      "text/plain": [
       "\"Loading Allen Transcriptomics Single-Cell RNAseq data, retreived May 2020. Be patient, it's loading!\""
      ]
     },
     "metadata": {},
     "output_type": "display_data"
    }
   ],
   "source": [
    "display(\"Loading Allen Transcriptomics Single-Cell RNAseq data, retreived May 2020. Be patient, it's loading!\")"
   ]
  },
  {
   "cell_type": "code",
   "execution_count": 5,
   "metadata": {
    "hide_input": false
   },
   "outputs": [
    {
     "data": {
      "text/html": [
       "<style>\n",
       ".output_wrapper, .output {\n",
       "    height:auto !important;\n",
       "    max-height:1000px;  /* your desired max-height here */\n",
       "}\n",
       ".output_scroll {\n",
       "    box-shadow:none !important;\n",
       "    webkit-box-shadow:none !important;\n",
       "}\n",
       "</style>\n"
      ],
      "text/plain": [
       "<IPython.core.display.HTML object>"
      ]
     },
     "metadata": {},
     "output_type": "display_data"
    }
   ],
   "source": [
    "\n",
    "%%html\n",
    "<style>\n",
    ".output_wrapper, .output {\n",
    "    height:auto !important;\n",
    "    max-height:1000px;  /* your desired max-height here */\n",
    "}\n",
    ".output_scroll {\n",
    "    box-shadow:none !important;\n",
    "    webkit-box-shadow:none !important;\n",
    "}\n",
    "</style>"
   ]
  },
  {
   "cell_type": "code",
   "execution_count": 6,
   "metadata": {
    "hide_input": false
   },
   "outputs": [],
   "source": [
    "import ipywidgets as widgets\n",
    "import pandas as pd\n",
    "import io\n",
    "import dropbox\n",
    "import seaborn as sns\n",
    "from IPython.display import display\n",
    "from ipywidgets import interact_manual, interactive,GridspecLayout, AppLayout, Button, Layout\n",
    "\n",
    "\n",
    "\n",
    "##get data from dropbox\n",
    "DBX = dropbox.Dropbox('bb3H-rx_L8IAAAAAAAAPdR77ZBO4BYfjelCVEH8kkSj04MX4vx4RrPFfN0cfJ3tm')\n",
    "\n",
    "_, res = DBX.files_download(\"/human_means.csv\")\n",
    "\n",
    "with io.BytesIO(res.content) as stream:\n",
    "    human_means = pd.read_csv(stream, index_col=0)\n",
    "\n",
    "_, res2 = DBX.files_download(\"/mouse_medians.csv\")\n",
    "with io.BytesIO(res2.content) as stream:\n",
    "    meds = pd.read_csv(stream, index_col=0)   \n",
    "    \n",
    "\n",
    "# Get all gene and cell type names: HUMAN\n",
    "human_listOfColumnNames = list(human_means.columns.values)\n",
    "human_idx = list(human_means.index)\n",
    "# Get all gene and cell type: MOUSE\n",
    "mouse_listOfColumnNames = list(meds.columns.values)\n",
    "idx = list(meds.index)\n",
    "\n",
    "\n"
   ]
  },
  {
   "cell_type": "code",
   "execution_count": 7,
   "metadata": {
    "hide_input": false
   },
   "outputs": [],
   "source": [
    "##define GUI\n",
    "table_style = {'description_width': 'initial'}\n",
    "useidx = ('choose species','then genes will appear')\n",
    "spacer = widgets.Label('')\n",
    "\n",
    "from threading import Timer\n"
   ]
  },
  {
   "cell_type": "code",
   "execution_count": 8,
   "metadata": {
    "hide_input": true
   },
   "outputs": [
    {
     "data": {
      "text/plain": [
       "'Collecting the data from Allen'"
      ]
     },
     "metadata": {},
     "output_type": "display_data"
    }
   ],
   "source": [
    "display(\"Collecting the data from Allen\")"
   ]
  },
  {
   "cell_type": "code",
   "execution_count": 9,
   "metadata": {
    "hide_input": false
   },
   "outputs": [],
   "source": [
    "genes = []\n",
    "genetitle = widgets.Label('Select Genes')\n",
    "dropdown =  widgets.Combobox(\n",
    "    options= idx,\n",
    "    description='Gene',\n",
    "    placeholder='Type here',\n",
    "    layout={'width': '80%'})\n",
    "\n",
    "def delay():\n",
    "    gene_button.button_style = ''\n",
    "    gene_button.disabled = False\n",
    "    \n",
    "def choose_gene(change):\n",
    "    if len(genes)<=7:\n",
    "        gene_button.button_style = 'success'\n",
    "        gene_button.disabled = True\n",
    "        genes.append(dropdown.value)     \n",
    "        d = Timer(0.5,delay)\n",
    "        d.start()\n",
    "    if len(genes)>7:       \n",
    "        gene_button.button_style = 'warning'\n",
    "        gene_button.description = \"Max Genes Selected\"\n",
    "        gene_button.disabled = True\n",
    "        \n",
    "gene_button = widgets.Button(description = 'Enter Gene', button_style = '')\n",
    "gene_button.on_click(choose_gene)"
   ]
  },
  {
   "cell_type": "code",
   "execution_count": 10,
   "metadata": {
    "hide_input": false
   },
   "outputs": [],
   "source": [
    "from traitlets import traitlets\n",
    "\n",
    "class LoadedButton(widgets.Button):\n",
    "    \"\"\"A button that can hold a value as a attribute.\"\"\"\n",
    "\n",
    "    def __init__(self, value=None, *args, **kwargs):\n",
    "        super(LoadedButton, self).__init__(*args, **kwargs)\n",
    "        # Create the value attribute.\n",
    "        self.add_traits(value=traitlets.Any(value))\n",
    "\n",
    "analysislabel = widgets.Label('Graph Type')        \n",
    "def on_exp_button_clicked(exp):\n",
    "    exp.value = \"exp\"\n",
    "    venn.disabled = True\n",
    "    exp.button_style = 'success'\n",
    "    graphtype = \"Exp\"\n",
    "\n",
    "\n",
    "def on_venn_button_clicked(venn):\n",
    "    venn.value = \"venn\"\n",
    "    venn.button_style = 'success'\n",
    "    exp.disabled = True\n",
    "    graphtype = \"Venn\"\n",
    "    \n",
    "exp = LoadedButton(description=\"Expression Level\", value=\"not exp\")\n",
    "exp.on_click(on_exp_button_clicked)         \n",
    "\n",
    "venn = LoadedButton(description=\"Venn Diagram\", value=\"not venn\")\n",
    "venn.on_click(on_venn_button_clicked)"
   ]
  },
  {
   "cell_type": "code",
   "execution_count": 11,
   "metadata": {
    "hide_input": true
   },
   "outputs": [
    {
     "data": {
      "text/plain": [
       "'Preparing User Interface'"
      ]
     },
     "metadata": {},
     "output_type": "display_data"
    }
   ],
   "source": [
    "display(\"Preparing User Interface\")"
   ]
  },
  {
   "cell_type": "code",
   "execution_count": 12,
   "metadata": {
    "hide_input": false
   },
   "outputs": [],
   "source": [
    "\n",
    "choicelabel = widgets.Label('Analyze species:')\n",
    "msCells = widgets.Button(\n",
    "    description='Mouse',\n",
    "    disabled=False,\n",
    "    button_style='', # 'success', 'info', 'warning', 'danger' or ''\n",
    "    tooltip='Description',\n",
    "    width = '110%')\n",
    "\n",
    "huCells = widgets.Button(\n",
    "    description='Human',\n",
    "    disabled=False,\n",
    "    button_style='', # 'success', 'info', 'warning', 'danger' or ''\n",
    "    tooltip='Description',\n",
    "    width = '110%')\n",
    "\n",
    "#####################################################\n",
    "\n",
    "    \n",
    "    \n",
    "mscelllabel = widgets.Label('Mouse Cell Clusters:')\n",
    "msCells_drop =widgets.SelectMultiple(\n",
    "    options=mouse_listOfColumnNames,\n",
    "    disabled=True,\n",
    "    rows=17,\n",
    "    layout={'width': 'max-content'},\n",
    "    #style=table_style\n",
    ") \n",
    "\n",
    "hucelllabel = widgets.Label('Human Cell Clusters:')\n",
    "huCells_drop =widgets.SelectMultiple(\n",
    "    options=human_listOfColumnNames,\n",
    "    disabled=True,\n",
    "    rows=17,\n",
    "    layout={'width': 'max-content'},\n",
    "    #style=table_style\n",
    ") \n",
    "\n",
    "def choose_mouse(msCells):\n",
    "    huCells.disabled = True\n",
    "    msCells.button_style = 'success'\n",
    "    msCells_drop.disabled = False\n",
    "    huCells_drop.disabled = True \n",
    "    msCells.value = \"mouse\"\n",
    "\n",
    "msCells.on_click(choose_mouse)\n",
    "\n",
    "def choose_human(huCells):\n",
    "    huCells.button_style = 'success'\n",
    "    msCells.disabled = True\n",
    "    msCells_drop.disabled = True\n",
    "    huCells_drop.disabled = False\n",
    "    huCells.value = \"human\"\n",
    "    dropdown.options = human_idx\n",
    "\n",
    "huCells.on_click(choose_human)\n",
    "\n",
    "msCells = LoadedButton(description=\"Mouse\", value=\"not mouse\")\n",
    "msCells.on_click(choose_mouse)   \n",
    "\n",
    "huCells = LoadedButton(description=\"Human\", value=\"not human\")\n",
    "huCells.on_click(choose_human) \n",
    "dropdown.observe(choose_human, 'change')\n",
    "########################################"
   ]
  },
  {
   "cell_type": "markdown",
   "metadata": {},
   "source": [
    "##doesnt change to human means upon human press- need dropdown to observe choose_human"
   ]
  },
  {
   "cell_type": "code",
   "execution_count": 13,
   "metadata": {},
   "outputs": [],
   "source": [
    "go_button = widgets.Button(description = 'Produce Output', \n",
    "                           button_style = 'success', \n",
    "                            display='flex',\n",
    "                            flex_flow='column',\n",
    "                            align_items='stretch')\n",
    "reset_button = widgets.Button(description = 'Reset Options',\n",
    "                              button_style = 'warning',\n",
    "                            display='flex',\n",
    "                            flex_flow='column',\n",
    "                            align_items='stretch',\n",
    "                             width = 'auto')\n",
    "\n",
    "from ipywidgets import Widget\n",
    "cells =[]\n",
    "def on_go_button_clicked(go_button):\n",
    "    if huCells.value == 'human':\n",
    "        cells.append(huCells_drop.value)\n",
    "    else:\n",
    "        cells.append(msCells_drop.value)\n",
    "    Widget.close_all()\n",
    "\n",
    "def on_reset_button_clicked(reset_button):  \n",
    "    Widget.close_all()\n",
    "    \n",
    "go_button.observe(huCells, 'value')    \n",
    "go_button.on_click(on_go_button_clicked)\n",
    "reset_button.on_click(on_reset_button_clicked)\n",
    "\n",
    "spacervenn = widgets.VBox([spacer,venn])\n",
    "specieschoices = widgets.VBox([choicelabel,msCells, mscelllabel, msCells_drop])\n",
    "spacerhuman = widgets.VBox([spacer, huCells,hucelllabel, huCells_drop])\n",
    "genesbox = widgets.VBox([genetitle,dropdown, gene_button])\n",
    "buttons = widgets.HBox([go_button, spacer, reset_button])\n",
    "graphchoices = widgets.VBox([analysislabel, exp, venn, spacer, spacer, spacer, genesbox, spacer, spacer, buttons])\n",
    "graphs2 = widgets.HBox([graphchoices])\n",
    "####################################################"
   ]
  },
  {
   "cell_type": "code",
   "execution_count": 14,
   "metadata": {
    "hide_input": false
   },
   "outputs": [
    {
     "data": {
      "application/vnd.jupyter.widget-view+json": {
       "model_id": "",
       "version_major": 2,
       "version_minor": 0
      },
      "text/plain": [
       "GridspecLayout(children=(VBox(children=(Label(value='Analyze species:'), LoadedButton(description='Mouse', sty…"
      ]
     },
     "metadata": {},
     "output_type": "display_data"
    },
    {
     "data": {
      "application/javascript": [
       "Jupyter.notebook.select_next().execute_cells_below()"
      ],
      "text/plain": [
       "<IPython.core.display.Javascript object>"
      ]
     },
     "metadata": {},
     "output_type": "display_data"
    }
   ],
   "source": [
    "### cell #1\n",
    "\n",
    "box_layout = widgets.Layout(\n",
    "        border='solid 1px black',\n",
    "        margin='0px 10px 10px 0px',\n",
    "        padding='5px 5px 5px 5px',\n",
    "        height='auto', width='auto')\n",
    "\n",
    "grid = GridspecLayout(1, 3)\n",
    "grid.layout = box_layout\n",
    "# fill it in with widgets\n",
    "grid[0,0] = specieschoices\n",
    "grid[0,1] = spacerhuman\n",
    "grid[0, 2:] = graphs2\n",
    "grid"
   ]
  },
  {
   "cell_type": "code",
   "execution_count": 17,
   "metadata": {},
   "outputs": [],
   "source": [
    "### cell #2\n",
    "%blockrun go_button"
   ]
  },
  {
   "cell_type": "code",
   "execution_count": 18,
   "metadata": {
    "hide_input": false
   },
   "outputs": [
    {
     "name": "stdout",
     "output_type": "stream",
     "text": [
      "()\n"
     ]
    }
   ],
   "source": [
    "### cell #3\n",
    "if msCells.value == 'mouse':\n",
    "    bigframe = meds\n",
    "    cells = msCells_drop.value\n",
    "if huCells.value == 'human':\n",
    "    bigframe = human_means\n",
    "    cells = huCells_drop.value\n",
    "print(cells)    \n",
    "#cells = [item for sublist in cells for item in sublist]\n",
    "#print(cells)\n",
    "newdf = pd.DataFrame(columns = ['Cells','Genes','Expression'])\n",
    "newdf['Cells'] = cells * len(genes)\n",
    "\n",
    "\n",
    "genelist=[]\n",
    "for i in range(len(genes)):\n",
    "    genea = [genes[i]]*len(cells)\n",
    "    genelist.append(genea)\n",
    "flat_geneslist = [item for sublist in genelist for item in sublist]\n",
    "newdf['Genes'] = flat_geneslist\n",
    "\n",
    "expressions =[]\n",
    "for i in range(len(genes)*len(cells)):\n",
    "    value1 = bigframe.loc[newdf['Genes'][i], newdf['Cells'][i]]\n",
    "    expressions.append(value1)\n",
    "newdf['Expression'] = expressions\n",
    "\n",
    "if len(newdf['Expression'])>0:\n",
    "    maxm = max(newdf[\"Expression\"])"
   ]
  },
  {
   "cell_type": "code",
   "execution_count": 19,
   "metadata": {
    "hide_input": false
   },
   "outputs": [],
   "source": [
    "#display(\"Your Results as an Array\")"
   ]
  },
  {
   "cell_type": "code",
   "execution_count": 20,
   "metadata": {
    "hide_input": false
   },
   "outputs": [],
   "source": [
    "#display(newdf)\n",
    "newdf.to_excel('Output.xlsx') "
   ]
  },
  {
   "cell_type": "code",
   "execution_count": 21,
   "metadata": {},
   "outputs": [
    {
     "name": "stdout",
     "output_type": "stream",
     "text": [
      "Genes:  ['Adcyap1', 'Adcyap1r1']\n",
      "cells:  ()\n",
      "Venn?:  venn\n",
      "Exp Graph?:  not exp\n"
     ]
    }
   ],
   "source": [
    "print(\"Genes: \", genes)\n",
    "print(\"cells: \",cells)\n",
    "print(\"Venn?: \", venn.value)\n",
    "print(\"Exp Graph?: \",exp.value)"
   ]
  },
  {
   "cell_type": "code",
   "execution_count": 22,
   "metadata": {
    "hide_input": true
   },
   "outputs": [
    {
     "data": {
      "text/plain": [
       "'Preparing Graph'"
      ]
     },
     "metadata": {},
     "output_type": "display_data"
    }
   ],
   "source": [
    "display(\"Preparing Graph\")"
   ]
  },
  {
   "cell_type": "code",
   "execution_count": 23,
   "metadata": {
    "hide_input": false
   },
   "outputs": [],
   "source": [
    "###Now graph it####################################################\n",
    "\n",
    "if exp.value == 'exp':   \n",
    "    sns.set_palette(\"colorblind\", 10)\n",
    "    g = sns.catplot(x=\"Genes\", y=\"Expression\", col=\"Cells\",\n",
    "                    data=newdf, \n",
    "                    saturation=1,\n",
    "                    kind=\"bar\", \n",
    "                    ci=None, \n",
    "                    aspect=.6, \n",
    "                    edgecolor=\"k\", \n",
    "                    linewidth=1\n",
    "                   )\n",
    "    \n",
    "    \n",
    "    (g.set_axis_labels(\"\", \"Expression\")\n",
    "      .set_xticklabels(genes)\n",
    "      .set_titles(\"{col_name}\")\n",
    "      .set(ylim=(0, (maxm + 1)))\n",
    "      .despine(left=True))  \n",
    "\n",
    "    for ax in g.axes.ravel():\n",
    "        ax.set_xticklabels(ax.get_xticklabels(), rotation=45, horizontalalignment='right')\n",
    "        for p in ax.patches:\n",
    "            ax.annotate('%.2f' % p.get_height(), (p.get_x() + p.get_width() / 2., p.get_height()), \n",
    "\n",
    "                        ha='center', va='center', xytext=(0, 8), \n",
    "                        textcoords='offset points')\n",
    "\n",
    "\n"
   ]
  },
  {
   "cell_type": "code",
   "execution_count": 41,
   "metadata": {},
   "outputs": [
    {
     "ename": "TypeError",
     "evalue": "'('Adcyap1', slice(None, None, None))' is an invalid key",
     "output_type": "error",
     "traceback": [
      "\u001b[1;31m---------------------------------------------------------------------------\u001b[0m",
      "\u001b[1;31mTypeError\u001b[0m                                 Traceback (most recent call last)",
      "\u001b[1;32m<ipython-input-41-f6ec6ed3c4f8>\u001b[0m in \u001b[0;36m<module>\u001b[1;34m\u001b[0m\n\u001b[0;32m      7\u001b[0m \u001b[1;33m\u001b[0m\u001b[0m\n\u001b[0;32m      8\u001b[0m     \u001b[1;32mif\u001b[0m \u001b[0mlen\u001b[0m\u001b[1;33m(\u001b[0m\u001b[0mgenes\u001b[0m\u001b[1;33m)\u001b[0m \u001b[1;33m==\u001b[0m \u001b[1;36m2\u001b[0m\u001b[1;33m:\u001b[0m\u001b[1;33m\u001b[0m\u001b[1;33m\u001b[0m\u001b[0m\n\u001b[1;32m----> 9\u001b[1;33m         \u001b[0mgene1x\u001b[0m \u001b[1;33m=\u001b[0m \u001b[0mvenny\u001b[0m\u001b[1;33m.\u001b[0m\u001b[0mloc\u001b[0m\u001b[1;33m[\u001b[0m\u001b[1;33m(\u001b[0m\u001b[0mvenny\u001b[0m\u001b[1;33m[\u001b[0m\u001b[0mgenes\u001b[0m\u001b[1;33m[\u001b[0m\u001b[1;36m0\u001b[0m\u001b[1;33m]\u001b[0m\u001b[1;33m,\u001b[0m\u001b[1;33m:\u001b[0m\u001b[1;33m]\u001b[0m \u001b[1;33m>=\u001b[0m \u001b[1;36m0.5\u001b[0m\u001b[1;33m)\u001b[0m\u001b[1;33m]\u001b[0m\u001b[1;33m\u001b[0m\u001b[1;33m\u001b[0m\u001b[0m\n\u001b[0m\u001b[0;32m     10\u001b[0m         \u001b[0mg1_only\u001b[0m \u001b[1;33m=\u001b[0m \u001b[0mvenny\u001b[0m\u001b[1;33m.\u001b[0m\u001b[0mloc\u001b[0m\u001b[1;33m[\u001b[0m\u001b[1;33m(\u001b[0m\u001b[0mvenny\u001b[0m\u001b[1;33m[\u001b[0m\u001b[0mgenes\u001b[0m\u001b[1;33m[\u001b[0m\u001b[1;36m0\u001b[0m\u001b[1;33m]\u001b[0m\u001b[1;33m,\u001b[0m\u001b[1;33m:\u001b[0m\u001b[1;33m]\u001b[0m \u001b[1;33m>=\u001b[0m \u001b[1;36m0.5\u001b[0m\u001b[1;33m)\u001b[0m \u001b[1;33m&\u001b[0m \u001b[1;33m(\u001b[0m\u001b[0mvenny\u001b[0m\u001b[1;33m[\u001b[0m\u001b[0mgenes\u001b[0m\u001b[1;33m[\u001b[0m\u001b[1;36m1\u001b[0m\u001b[1;33m]\u001b[0m\u001b[1;33m,\u001b[0m\u001b[1;33m:\u001b[0m\u001b[1;33m]\u001b[0m \u001b[1;33m<\u001b[0m \u001b[1;36m0.5\u001b[0m\u001b[1;33m)\u001b[0m\u001b[1;33m]\u001b[0m\u001b[1;33m.\u001b[0m\u001b[0mreset_index\u001b[0m\u001b[1;33m(\u001b[0m\u001b[1;33m)\u001b[0m\u001b[1;33m\u001b[0m\u001b[1;33m\u001b[0m\u001b[0m\n\u001b[0;32m     11\u001b[0m         \u001b[0mg1_cells\u001b[0m \u001b[1;33m=\u001b[0m \u001b[0mg1_only\u001b[0m\u001b[1;33m[\u001b[0m\u001b[1;34m'index'\u001b[0m\u001b[1;33m]\u001b[0m\u001b[1;33m.\u001b[0m\u001b[0mto_list\u001b[0m\u001b[1;33m(\u001b[0m\u001b[1;33m)\u001b[0m\u001b[1;33m\u001b[0m\u001b[1;33m\u001b[0m\u001b[0m\n",
      "\u001b[1;32m~\\AppData\\Roaming\\Python\\Python37\\site-packages\\pandas\\core\\frame.py\u001b[0m in \u001b[0;36m__getitem__\u001b[1;34m(self, key)\u001b[0m\n\u001b[0;32m   2798\u001b[0m             \u001b[1;32mif\u001b[0m \u001b[0mself\u001b[0m\u001b[1;33m.\u001b[0m\u001b[0mcolumns\u001b[0m\u001b[1;33m.\u001b[0m\u001b[0mnlevels\u001b[0m \u001b[1;33m>\u001b[0m \u001b[1;36m1\u001b[0m\u001b[1;33m:\u001b[0m\u001b[1;33m\u001b[0m\u001b[1;33m\u001b[0m\u001b[0m\n\u001b[0;32m   2799\u001b[0m                 \u001b[1;32mreturn\u001b[0m \u001b[0mself\u001b[0m\u001b[1;33m.\u001b[0m\u001b[0m_getitem_multilevel\u001b[0m\u001b[1;33m(\u001b[0m\u001b[0mkey\u001b[0m\u001b[1;33m)\u001b[0m\u001b[1;33m\u001b[0m\u001b[1;33m\u001b[0m\u001b[0m\n\u001b[1;32m-> 2800\u001b[1;33m             \u001b[0mindexer\u001b[0m \u001b[1;33m=\u001b[0m \u001b[0mself\u001b[0m\u001b[1;33m.\u001b[0m\u001b[0mcolumns\u001b[0m\u001b[1;33m.\u001b[0m\u001b[0mget_loc\u001b[0m\u001b[1;33m(\u001b[0m\u001b[0mkey\u001b[0m\u001b[1;33m)\u001b[0m\u001b[1;33m\u001b[0m\u001b[1;33m\u001b[0m\u001b[0m\n\u001b[0m\u001b[0;32m   2801\u001b[0m             \u001b[1;32mif\u001b[0m \u001b[0mis_integer\u001b[0m\u001b[1;33m(\u001b[0m\u001b[0mindexer\u001b[0m\u001b[1;33m)\u001b[0m\u001b[1;33m:\u001b[0m\u001b[1;33m\u001b[0m\u001b[1;33m\u001b[0m\u001b[0m\n\u001b[0;32m   2802\u001b[0m                 \u001b[0mindexer\u001b[0m \u001b[1;33m=\u001b[0m \u001b[1;33m[\u001b[0m\u001b[0mindexer\u001b[0m\u001b[1;33m]\u001b[0m\u001b[1;33m\u001b[0m\u001b[1;33m\u001b[0m\u001b[0m\n",
      "\u001b[1;32m~\\AppData\\Roaming\\Python\\Python37\\site-packages\\pandas\\core\\indexes\\base.py\u001b[0m in \u001b[0;36mget_loc\u001b[1;34m(self, key, method, tolerance)\u001b[0m\n\u001b[0;32m   2644\u001b[0m                 )\n\u001b[0;32m   2645\u001b[0m             \u001b[1;32mtry\u001b[0m\u001b[1;33m:\u001b[0m\u001b[1;33m\u001b[0m\u001b[1;33m\u001b[0m\u001b[0m\n\u001b[1;32m-> 2646\u001b[1;33m                 \u001b[1;32mreturn\u001b[0m \u001b[0mself\u001b[0m\u001b[1;33m.\u001b[0m\u001b[0m_engine\u001b[0m\u001b[1;33m.\u001b[0m\u001b[0mget_loc\u001b[0m\u001b[1;33m(\u001b[0m\u001b[0mkey\u001b[0m\u001b[1;33m)\u001b[0m\u001b[1;33m\u001b[0m\u001b[1;33m\u001b[0m\u001b[0m\n\u001b[0m\u001b[0;32m   2647\u001b[0m             \u001b[1;32mexcept\u001b[0m \u001b[0mKeyError\u001b[0m\u001b[1;33m:\u001b[0m\u001b[1;33m\u001b[0m\u001b[1;33m\u001b[0m\u001b[0m\n\u001b[0;32m   2648\u001b[0m                 \u001b[1;32mreturn\u001b[0m \u001b[0mself\u001b[0m\u001b[1;33m.\u001b[0m\u001b[0m_engine\u001b[0m\u001b[1;33m.\u001b[0m\u001b[0mget_loc\u001b[0m\u001b[1;33m(\u001b[0m\u001b[0mself\u001b[0m\u001b[1;33m.\u001b[0m\u001b[0m_maybe_cast_indexer\u001b[0m\u001b[1;33m(\u001b[0m\u001b[0mkey\u001b[0m\u001b[1;33m)\u001b[0m\u001b[1;33m)\u001b[0m\u001b[1;33m\u001b[0m\u001b[1;33m\u001b[0m\u001b[0m\n",
      "\u001b[1;32mpandas\\_libs\\index.pyx\u001b[0m in \u001b[0;36mpandas._libs.index.IndexEngine.get_loc\u001b[1;34m()\u001b[0m\n",
      "\u001b[1;32mpandas\\_libs\\index.pyx\u001b[0m in \u001b[0;36mpandas._libs.index.IndexEngine.get_loc\u001b[1;34m()\u001b[0m\n",
      "\u001b[1;31mTypeError\u001b[0m: '('Adcyap1', slice(None, None, None))' is an invalid key"
     ]
    }
   ],
   "source": [
    "if venn.value == 'venn':       \n",
    "    if msCells.value == 'mouse':\n",
    "        venny = meds.loc[genes]\n",
    "    if huCells.value == 'human':\n",
    "        venny = human_means.loc[genes]\n",
    "\n",
    "        \n",
    "    if len(genes) == 2:\n",
    "        for col in venny[genes[0]]:\n",
    "            print(col)\n",
    "        gene1x = venny.loc[(venny[genes[0],:] >= 0.5)]\n",
    "        g1_only = venny.loc[(venny[genes[0],:] >= 0.5) & (venny[genes[1],:] < 0.5)].reset_index()\n",
    "        g1_cells = g1_only['index'].to_list()        \n",
    "\n",
    "    \n",
    "    \n",
    "    \n",
    "    \n",
    "    if len(genes) == 2:\n",
    "        gene1x = venny.loc[(venny[genes[0],:] >= 0.5)]\n",
    "        g1_only = venny.loc[(venny[genes[0],:] >= 0.5) & (venny[genes[1],:] < 0.5)].reset_index()\n",
    "        g1_cells = g1_only['index'].to_list()\n",
    "\n",
    "\n",
    "        gene2x = venny.loc[(venny[genes[1],:] >= 0.5)]\n",
    "        g2_only = venny.loc[(venny[genes[1],:] >= 0.5) & \n",
    "                        (venny[genes[0],:] < 0.5)].reset_index()[genes[1]]\n",
    "        g2_cells = g2_only['index'].to_list()\n",
    "\n",
    "\n",
    "        overlaps = venny.loc[(venny[genes[0],:] >= 0.5) & \n",
    "                             (venny[genes[1],:] >= 0.5)].reset_index()['index'].to_list()\n",
    "        ovs = venny.loc[(venny[genes[0],:] >= 0.5) & \n",
    "                             (venny[genes[1],:] >= 0.5)]\n",
    "\n",
    "    if len(Outputs['Genes']) == 3:\n",
    "        gene1x = venny.loc[(venny[genes[0],:] >= 0.5)]\n",
    "        g1_only = venny.loc[(venny[genes[0],:] >= 0.5) & (venny[genes[1],:] < 0.5) & (venny[genes[2],:] < 0.5)].reset_index()\n",
    "        g1_cells = g1_only['index'].to_list()\n",
    "\n",
    "\n",
    "        gene2x = venny.loc[(venny[genes[1],:] >= 0.5)]\n",
    "        g2_only = venny.loc[(venny[genes[1],:] >= 0.5) & (venny[genes[2],:] < 0.5) & (venny[genes[0],:] < 0.5)].reset_index()\n",
    "        g2_cells = g2_only['index'].to_list()\n",
    "\n",
    "        gene3x = venny.loc[(venny[genes[2],:] >= 0.5)]\n",
    "        g3_only = venny.loc[(venny[genes[2],:] >= 0.5) & (venny[genes[1],:] < 0.5) & (venny[genes[0],:] < 0.5)].reset_index()\n",
    "        g3_cells = g3_only['index'].to_list()\n",
    "\n",
    "        ov_AB = venny.loc[(venny[genes[0],:] >= 0.5) & \n",
    "                             (venny[genes[1],:] >= 0.5)]    \n",
    "        overlapsAB = ov_AB.reset_index()['index'].to_list()       \n",
    "        ov_BC = venny.loc[(venny[genes[1],:] >= 0.5) & \n",
    "                             (venny[genes[2],:] >= 0.5)]    \n",
    "        overlapsBC = ov_BC.reset_index()['index'].to_list()  \n",
    "        ov_AC = venny.loc[(venny[genes[0],:] >= 0.5) & \n",
    "                             (venny[genes[2],:] >= 0.5)]\n",
    "        overlapsAC = ov_AC.reset_index()['index'].to_list() \n",
    "        ov_ABC = venny.loc[(venny[genes[0],:] >= 0.5) &  (venny[genes[1]] >= 0.5) &\n",
    "                             (venny[genes[2],:] >= 0.5)]    \n",
    "        overlapsABC = ov_ABC.reset_index()['index'].to_list()\n",
    "\n",
    "\n",
    "    from matplotlib_venn import venn2\n",
    "    from matplotlib_venn import venn3\n",
    "    from matplotlib import pyplot as plt\n",
    "\n",
    "    gene1 = genes[0]\n",
    "    gene2 = genes[1]\n",
    "    if len(genes) == 3:\n",
    "        gene3 = genes[2]\n",
    "\n",
    "\n",
    "    if len(genes) == 3:\n",
    "        labels = [\"Cells containing \" + genes[0],\"Cells containing \" \n",
    "                  + genes[1], \"Cells containing \" + genes[2] ]\n",
    "        v = venn3([set(gene1x.index), set(gene2x.index), set(gene3x.index)], \n",
    "                  set_labels = (gene1, gene2, gene3))\n",
    "\n",
    "\n",
    "    if len(genes) == 2:\n",
    "        labels = [\"Cells containing \" + genes[0],\"Cells containing \" + genes[1] ]\n",
    "        v = venn2([set(gene1x.index), set(gene2x.index)], set_labels = (gene1, gene2))\n",
    "        if labels_yn == True:\n",
    "            v.get_label_by_id('10').set_text('\\n'.join(g1_cells))\n",
    "            v.get_label_by_id('01').set_text('\\n'.join(g2_cells))\n",
    "            v.get_label_by_id('11').set_text('\\n'.join(overlaps))\n",
    "\n",
    "    plt.title('Cell type by gene overlap\\n')\n",
    "    plt.show()"
   ]
  },
  {
   "cell_type": "code",
   "execution_count": 89,
   "metadata": {},
   "outputs": [
    {
     "ename": "KeyError",
     "evalue": "'Adcyap1'",
     "output_type": "error",
     "traceback": [
      "\u001b[1;31m---------------------------------------------------------------------------\u001b[0m",
      "\u001b[1;31mTypeError\u001b[0m                                 Traceback (most recent call last)",
      "\u001b[1;32m~\\AppData\\Roaming\\Python\\Python37\\site-packages\\pandas\\core\\indexes\\base.py\u001b[0m in \u001b[0;36mget_value\u001b[1;34m(self, series, key)\u001b[0m\n\u001b[0;32m   4410\u001b[0m             \u001b[1;32mtry\u001b[0m\u001b[1;33m:\u001b[0m\u001b[1;33m\u001b[0m\u001b[1;33m\u001b[0m\u001b[0m\n\u001b[1;32m-> 4411\u001b[1;33m                 \u001b[1;32mreturn\u001b[0m \u001b[0mlibindex\u001b[0m\u001b[1;33m.\u001b[0m\u001b[0mget_value_at\u001b[0m\u001b[1;33m(\u001b[0m\u001b[0ms\u001b[0m\u001b[1;33m,\u001b[0m \u001b[0mkey\u001b[0m\u001b[1;33m)\u001b[0m\u001b[1;33m\u001b[0m\u001b[1;33m\u001b[0m\u001b[0m\n\u001b[0m\u001b[0;32m   4412\u001b[0m             \u001b[1;32mexcept\u001b[0m \u001b[0mIndexError\u001b[0m\u001b[1;33m:\u001b[0m\u001b[1;33m\u001b[0m\u001b[1;33m\u001b[0m\u001b[0m\n",
      "\u001b[1;32mpandas\\_libs\\index.pyx\u001b[0m in \u001b[0;36mpandas._libs.index.get_value_at\u001b[1;34m()\u001b[0m\n",
      "\u001b[1;32mpandas\\_libs\\index.pyx\u001b[0m in \u001b[0;36mpandas._libs.index.get_value_at\u001b[1;34m()\u001b[0m\n",
      "\u001b[1;32mpandas\\_libs\\util.pxd\u001b[0m in \u001b[0;36mpandas._libs.util.get_value_at\u001b[1;34m()\u001b[0m\n",
      "\u001b[1;32mpandas\\_libs\\util.pxd\u001b[0m in \u001b[0;36mpandas._libs.util.validate_indexer\u001b[1;34m()\u001b[0m\n",
      "\u001b[1;31mTypeError\u001b[0m: 'str' object cannot be interpreted as an integer",
      "\nDuring handling of the above exception, another exception occurred:\n",
      "\u001b[1;31mKeyError\u001b[0m                                  Traceback (most recent call last)",
      "\u001b[1;32m<ipython-input-89-edf8ea3201ed>\u001b[0m in \u001b[0;36m<module>\u001b[1;34m\u001b[0m\n\u001b[0;32m      2\u001b[0m \u001b[1;32mif\u001b[0m \u001b[0mlen\u001b[0m\u001b[1;33m(\u001b[0m\u001b[0mgenes\u001b[0m\u001b[1;33m)\u001b[0m \u001b[1;33m==\u001b[0m \u001b[1;36m2\u001b[0m\u001b[1;33m:\u001b[0m\u001b[1;33m\u001b[0m\u001b[1;33m\u001b[0m\u001b[0m\n\u001b[0;32m      3\u001b[0m     \u001b[1;32mfor\u001b[0m \u001b[0mindex\u001b[0m\u001b[1;33m,\u001b[0m \u001b[0mrow\u001b[0m \u001b[1;32min\u001b[0m \u001b[0mvenny\u001b[0m\u001b[1;33m.\u001b[0m\u001b[0miterrows\u001b[0m\u001b[1;33m(\u001b[0m\u001b[1;33m)\u001b[0m\u001b[1;33m:\u001b[0m\u001b[1;33m\u001b[0m\u001b[1;33m\u001b[0m\u001b[0m\n\u001b[1;32m----> 4\u001b[1;33m         \u001b[0mdisplay\u001b[0m\u001b[1;33m(\u001b[0m\u001b[0mrow\u001b[0m\u001b[1;33m[\u001b[0m\u001b[0mindex\u001b[0m\u001b[1;33m]\u001b[0m\u001b[1;33m)\u001b[0m\u001b[1;33m\u001b[0m\u001b[1;33m\u001b[0m\u001b[0m\n\u001b[0m\u001b[0;32m      5\u001b[0m         \u001b[1;32mif\u001b[0m \u001b[0mrow\u001b[0m\u001b[1;33m[\u001b[0m\u001b[0mindex\u001b[0m\u001b[1;33m]\u001b[0m \u001b[1;33m>=\u001b[0m \u001b[1;36m0.5\u001b[0m\u001b[1;33m:\u001b[0m\u001b[1;33m\u001b[0m\u001b[1;33m\u001b[0m\u001b[0m\n\u001b[0;32m      6\u001b[0m             \u001b[0mgene1x\u001b[0m\u001b[1;33m.\u001b[0m\u001b[0mappend\u001b[0m\u001b[1;33m(\u001b[0m\u001b[0mindex\u001b[0m\u001b[1;33m)\u001b[0m\u001b[1;33m\u001b[0m\u001b[1;33m\u001b[0m\u001b[0m\n",
      "\u001b[1;32m~\\AppData\\Roaming\\Python\\Python37\\site-packages\\pandas\\core\\series.py\u001b[0m in \u001b[0;36m__getitem__\u001b[1;34m(self, key)\u001b[0m\n\u001b[0;32m    869\u001b[0m         \u001b[0mkey\u001b[0m \u001b[1;33m=\u001b[0m \u001b[0mcom\u001b[0m\u001b[1;33m.\u001b[0m\u001b[0mapply_if_callable\u001b[0m\u001b[1;33m(\u001b[0m\u001b[0mkey\u001b[0m\u001b[1;33m,\u001b[0m \u001b[0mself\u001b[0m\u001b[1;33m)\u001b[0m\u001b[1;33m\u001b[0m\u001b[1;33m\u001b[0m\u001b[0m\n\u001b[0;32m    870\u001b[0m         \u001b[1;32mtry\u001b[0m\u001b[1;33m:\u001b[0m\u001b[1;33m\u001b[0m\u001b[1;33m\u001b[0m\u001b[0m\n\u001b[1;32m--> 871\u001b[1;33m             \u001b[0mresult\u001b[0m \u001b[1;33m=\u001b[0m \u001b[0mself\u001b[0m\u001b[1;33m.\u001b[0m\u001b[0mindex\u001b[0m\u001b[1;33m.\u001b[0m\u001b[0mget_value\u001b[0m\u001b[1;33m(\u001b[0m\u001b[0mself\u001b[0m\u001b[1;33m,\u001b[0m \u001b[0mkey\u001b[0m\u001b[1;33m)\u001b[0m\u001b[1;33m\u001b[0m\u001b[1;33m\u001b[0m\u001b[0m\n\u001b[0m\u001b[0;32m    872\u001b[0m \u001b[1;33m\u001b[0m\u001b[0m\n\u001b[0;32m    873\u001b[0m             \u001b[1;32mif\u001b[0m \u001b[1;32mnot\u001b[0m \u001b[0mis_scalar\u001b[0m\u001b[1;33m(\u001b[0m\u001b[0mresult\u001b[0m\u001b[1;33m)\u001b[0m\u001b[1;33m:\u001b[0m\u001b[1;33m\u001b[0m\u001b[1;33m\u001b[0m\u001b[0m\n",
      "\u001b[1;32m~\\AppData\\Roaming\\Python\\Python37\\site-packages\\pandas\\core\\indexes\\base.py\u001b[0m in \u001b[0;36mget_value\u001b[1;34m(self, series, key)\u001b[0m\n\u001b[0;32m   4417\u001b[0m                     \u001b[1;32mraise\u001b[0m \u001b[0mInvalidIndexError\u001b[0m\u001b[1;33m(\u001b[0m\u001b[0mkey\u001b[0m\u001b[1;33m)\u001b[0m\u001b[1;33m\u001b[0m\u001b[1;33m\u001b[0m\u001b[0m\n\u001b[0;32m   4418\u001b[0m                 \u001b[1;32melse\u001b[0m\u001b[1;33m:\u001b[0m\u001b[1;33m\u001b[0m\u001b[1;33m\u001b[0m\u001b[0m\n\u001b[1;32m-> 4419\u001b[1;33m                     \u001b[1;32mraise\u001b[0m \u001b[0me1\u001b[0m\u001b[1;33m\u001b[0m\u001b[1;33m\u001b[0m\u001b[0m\n\u001b[0m\u001b[0;32m   4420\u001b[0m             \u001b[1;32mexcept\u001b[0m \u001b[0mException\u001b[0m\u001b[1;33m:\u001b[0m\u001b[1;33m\u001b[0m\u001b[1;33m\u001b[0m\u001b[0m\n\u001b[0;32m   4421\u001b[0m                 \u001b[1;32mraise\u001b[0m \u001b[0me1\u001b[0m\u001b[1;33m\u001b[0m\u001b[1;33m\u001b[0m\u001b[0m\n",
      "\u001b[1;32m~\\AppData\\Roaming\\Python\\Python37\\site-packages\\pandas\\core\\indexes\\base.py\u001b[0m in \u001b[0;36mget_value\u001b[1;34m(self, series, key)\u001b[0m\n\u001b[0;32m   4403\u001b[0m         \u001b[0mk\u001b[0m \u001b[1;33m=\u001b[0m \u001b[0mself\u001b[0m\u001b[1;33m.\u001b[0m\u001b[0m_convert_scalar_indexer\u001b[0m\u001b[1;33m(\u001b[0m\u001b[0mk\u001b[0m\u001b[1;33m,\u001b[0m \u001b[0mkind\u001b[0m\u001b[1;33m=\u001b[0m\u001b[1;34m\"getitem\"\u001b[0m\u001b[1;33m)\u001b[0m\u001b[1;33m\u001b[0m\u001b[1;33m\u001b[0m\u001b[0m\n\u001b[0;32m   4404\u001b[0m         \u001b[1;32mtry\u001b[0m\u001b[1;33m:\u001b[0m\u001b[1;33m\u001b[0m\u001b[1;33m\u001b[0m\u001b[0m\n\u001b[1;32m-> 4405\u001b[1;33m             \u001b[1;32mreturn\u001b[0m \u001b[0mself\u001b[0m\u001b[1;33m.\u001b[0m\u001b[0m_engine\u001b[0m\u001b[1;33m.\u001b[0m\u001b[0mget_value\u001b[0m\u001b[1;33m(\u001b[0m\u001b[0ms\u001b[0m\u001b[1;33m,\u001b[0m \u001b[0mk\u001b[0m\u001b[1;33m,\u001b[0m \u001b[0mtz\u001b[0m\u001b[1;33m=\u001b[0m\u001b[0mgetattr\u001b[0m\u001b[1;33m(\u001b[0m\u001b[0mseries\u001b[0m\u001b[1;33m.\u001b[0m\u001b[0mdtype\u001b[0m\u001b[1;33m,\u001b[0m \u001b[1;34m\"tz\"\u001b[0m\u001b[1;33m,\u001b[0m \u001b[1;32mNone\u001b[0m\u001b[1;33m)\u001b[0m\u001b[1;33m)\u001b[0m\u001b[1;33m\u001b[0m\u001b[1;33m\u001b[0m\u001b[0m\n\u001b[0m\u001b[0;32m   4406\u001b[0m         \u001b[1;32mexcept\u001b[0m \u001b[0mKeyError\u001b[0m \u001b[1;32mas\u001b[0m \u001b[0me1\u001b[0m\u001b[1;33m:\u001b[0m\u001b[1;33m\u001b[0m\u001b[1;33m\u001b[0m\u001b[0m\n\u001b[0;32m   4407\u001b[0m             \u001b[1;32mif\u001b[0m \u001b[0mlen\u001b[0m\u001b[1;33m(\u001b[0m\u001b[0mself\u001b[0m\u001b[1;33m)\u001b[0m \u001b[1;33m>\u001b[0m \u001b[1;36m0\u001b[0m \u001b[1;32mand\u001b[0m \u001b[1;33m(\u001b[0m\u001b[0mself\u001b[0m\u001b[1;33m.\u001b[0m\u001b[0mholds_integer\u001b[0m\u001b[1;33m(\u001b[0m\u001b[1;33m)\u001b[0m \u001b[1;32mor\u001b[0m \u001b[0mself\u001b[0m\u001b[1;33m.\u001b[0m\u001b[0mis_boolean\u001b[0m\u001b[1;33m(\u001b[0m\u001b[1;33m)\u001b[0m\u001b[1;33m)\u001b[0m\u001b[1;33m:\u001b[0m\u001b[1;33m\u001b[0m\u001b[1;33m\u001b[0m\u001b[0m\n",
      "\u001b[1;32mpandas\\_libs\\index.pyx\u001b[0m in \u001b[0;36mpandas._libs.index.IndexEngine.get_value\u001b[1;34m()\u001b[0m\n",
      "\u001b[1;32mpandas\\_libs\\index.pyx\u001b[0m in \u001b[0;36mpandas._libs.index.IndexEngine.get_value\u001b[1;34m()\u001b[0m\n",
      "\u001b[1;32mpandas\\_libs\\index.pyx\u001b[0m in \u001b[0;36mpandas._libs.index.IndexEngine.get_loc\u001b[1;34m()\u001b[0m\n",
      "\u001b[1;32mpandas\\_libs\\hashtable_class_helper.pxi\u001b[0m in \u001b[0;36mpandas._libs.hashtable.PyObjectHashTable.get_item\u001b[1;34m()\u001b[0m\n",
      "\u001b[1;32mpandas\\_libs\\hashtable_class_helper.pxi\u001b[0m in \u001b[0;36mpandas._libs.hashtable.PyObjectHashTable.get_item\u001b[1;34m()\u001b[0m\n",
      "\u001b[1;31mKeyError\u001b[0m: 'Adcyap1'"
     ]
    }
   ],
   "source": [
    "    gene1x =[]\n",
    "    if len(genes) == 2:\n",
    "        for index, row in venny.iterrows():\n",
    "            display(row[index])\n",
    "            if row[index] >= 0.5:\n",
    "                gene1x.append(index)\n",
    "            #for key in row.keys():\n",
    "                #print(row.get(key))\n",
    "    print(gene1x)"
   ]
  },
  {
   "cell_type": "code",
   "execution_count": null,
   "metadata": {},
   "outputs": [],
   "source": []
  }
 ],
 "metadata": {
  "kernelspec": {
   "display_name": "Python 3",
   "language": "python",
   "name": "python3"
  },
  "language_info": {
   "codemirror_mode": {
    "name": "ipython",
    "version": 3
   },
   "file_extension": ".py",
   "mimetype": "text/x-python",
   "name": "python",
   "nbconvert_exporter": "python",
   "pygments_lexer": "ipython3",
   "version": "3.7.6"
  }
 },
 "nbformat": 4,
 "nbformat_minor": 4
}
