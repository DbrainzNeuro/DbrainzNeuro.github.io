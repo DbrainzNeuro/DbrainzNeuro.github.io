{
 "cells": [
  {
   "cell_type": "code",
   "execution_count": 1,
   "metadata": {
    "hideCode": false,
    "hidePrompt": false,
    "hide_input": false
   },
   "outputs": [],
   "source": [
    "import matplotlib \n",
    "import ipywidgets as widgets\n",
    "import pandas as pd\n",
    "import io\n",
    "import seaborn as sns\n",
    "import openpyxl\n",
    "from IPython.display import display, clear_output\n",
    "from ipywidgets import interact, interactive, fixed, interact_manual, GridspecLayout, Button, Layout,Label, HTML, HBox, Image, VBox, Box\n",
    "from matplotlib_venn import venn2, venn3\n",
    "from matplotlib import pyplot as plt\n",
    "from traitlets import traitlets\n",
    "from ipyevents import Event\n"
   ]
  },
  {
   "cell_type": "code",
   "execution_count": 2,
   "metadata": {
    "hideCode": false,
    "hidePrompt": false,
    "hide_input": false
   },
   "outputs": [],
   "source": [
    "#access file from Allen\n",
    "mouse_means = pd.read_csv('https://idk-etl-prod-download-bucket.s3.amazonaws.com/aibs_mouse_ctx-hip_smart-seq/trimmed_means.csv')\n",
    "\n",
    "# Get all gene and cell type: MOUSE\n",
    "mouse_idx = list(mouse_means.columns.values)\n",
    "mouse_listOfColumnNames = list(mouse_means['cluster_label'])\n"
   ]
  },
  {
   "cell_type": "code",
   "execution_count": 3,
   "metadata": {
    "hideCode": false,
    "hidePrompt": false,
    "hide_input": false
   },
   "outputs": [],
   "source": [
    "#rearrange mouse data\n",
    "mouse_means2 = mouse_means.set_index('cluster_label').T.rename_axis('GeneID').rename_axis(None, axis = 1)"
   ]
  },
  {
   "cell_type": "code",
   "execution_count": 4,
   "metadata": {},
   "outputs": [],
   "source": [
    "#allow for whole dataframe to print out\n",
    "pd.set_option('display.max_rows', None)\n",
    "pd.set_option('display.max_columns', None)\n",
    "pd.set_option('display.width', None)\n",
    "pd.set_option('display.max_colwidth', None)\n"
   ]
  },
  {
   "cell_type": "code",
   "execution_count": 5,
   "metadata": {
    "hideCode": false,
    "hidePrompt": false,
    "hide_input": false
   },
   "outputs": [],
   "source": [
    "##Create a class of buttons which allows me to check which one was pressed\n",
    "class LoadedButton(widgets.Button):\n",
    "    \"\"\"A button that can hold a value as a attribute.\"\"\"\n",
    "\n",
    "    def __init__(self, value=None, *args, **kwargs):\n",
    "        super(LoadedButton, self).__init__(*args, **kwargs)\n",
    "        # Create the value attribute.\n",
    "        self.add_traits(value=traitlets.Any(value))\n",
    "\n",
    "\n",
    "button_layout = widgets.Layout(border='solid 1px black', height='auto', width='auto')\n",
    "def create_expanded_button(description, button_style):\n",
    "    return LoadedButton(description=description, button_style=button_style, layout=button_layout)\n"
   ]
  },
  {
   "cell_type": "code",
   "execution_count": 6,
   "metadata": {
    "hideCode": false,
    "hidePrompt": false,
    "hide_input": false
   },
   "outputs": [],
   "source": [
    "##functions needed\n",
    "def on_go_button_clicked(go_button):\n",
    "    genes = [genes1.value, genes2.value, genes3.value]\n",
    "    #cut list to two if two or fewer selected\n",
    "    genes_b = list(filter(None, genes))\n",
    "    if len(genes_b) < 2:\n",
    "        warnbox.value == \"Please pick at least two genes\"\n",
    "        #display (\"Please pick at least two genes\")\n",
    "    else:\n",
    "        venngraph(genes_b)\n",
    "\n",
    "        \n",
    "def on_reset_button_clicked(reset_button):  \n",
    "    genes1.value == 'Type Here'\n",
    "    genes2.value == 'Type Here'\n",
    "    genes3.value == 'Type Here'\n",
    "    genes = []\n",
    "\n",
    "    \n",
    "def on_value_change(change):\n",
    "    #just be here\n",
    "    print('')\n",
    "\n"
   ]
  },
  {
   "cell_type": "code",
   "execution_count": 7,
   "metadata": {
    "hideCode": false,
    "hidePrompt": false,
    "hide_input": false
   },
   "outputs": [],
   "source": [
    "## all the labels\n",
    "spacer = widgets.Label('')\n",
    "welcome = widgets.Label('Allen Transcriptomics Venn: Choose a threhold for expression and 2 or 3 genes')\n",
    "genetitle = widgets.Label('Select Genes')\n",
    "\n",
    "    \n",
    "## The buttons/ widgets and what they do\n",
    "genes1 =  widgets.Combobox(options= mouse_idx,description='Gene',placeholder='Type here',layout={'width': '80%'})\n",
    "genes2 =  widgets.Combobox(options= mouse_idx,description='Gene',placeholder='Type here',layout={'width': '80%'})\n",
    "genes3 =  widgets.Combobox(options= mouse_idx,description='Gene',placeholder='Type here',layout={'width': '80%'})\n",
    "\n",
    "\n",
    "go_button = create_expanded_button('Create Venn', '')\n",
    "go_button.observe(genes1, 'value')  \n",
    "go_button.observe(genes2, 'value')  \n",
    "go_button.observe(genes3, 'value')  \n",
    "go_button.on_click(on_go_button_clicked)\n",
    "\n",
    "\n",
    "\n",
    "style = {'description_width': 'initial'}\n",
    "threshold = widgets.FloatText(\n",
    "    value=0.5,\n",
    "    description='Expression Threshold',\n",
    "    disabled=False,\n",
    "    style = style,\n",
    "width = '80%')\n",
    "threshold.observe(on_value_change, names='value')\n",
    "\n"
   ]
  },
  {
   "cell_type": "code",
   "execution_count": 8,
   "metadata": {
    "hideCode": false,
    "hidePrompt": false,
    "hide_input": false
   },
   "outputs": [],
   "source": [
    "%matplotlib inline\n",
    "def venngraph(genes):\n",
    "        venny1, venny2, venny3 = [],[],[]\n",
    "        venny = mouse_means2.loc[genes]\n",
    "\n",
    "        venny1 = venny.loc[genes[0]]\n",
    "        venny1 = venny1[venny1 >= threshold.value].index.to_list()\n",
    "        venny1 = set(venny1)\n",
    "\n",
    "        venny2 = venny.loc[genes[1]]\n",
    "        venny2 = venny2[venny2 >= threshold.value].index.to_list()\n",
    "        venny2 = set(venny2)\n",
    "        \n",
    "        v1only0 = venny1.difference(venny2)  #new set with elements in venny1 but not in venny2\n",
    "        v2only0 = venny2.difference(venny1)  #new set with elements in venny2 but not in venny1\n",
    "        \n",
    "        v1only = list(v1only0)\n",
    "        v2only = list(v2only0)\n",
    "        \n",
    "        overlap_ab = [value for value in venny1 if value in venny2] \n",
    "        \n",
    "        name1 = str(genes[0]) + \" only\"\n",
    "        name2 = str(genes[1]) + \" only\"\n",
    "        nameab = str(genes[0]) + \" and \" + str(genes[1])\n",
    "        \n",
    "        \n",
    "        if len(genes) == 2:\n",
    "            Title = (genes[0] + \" / \" + genes[1])\n",
    "            excelTitle = (genes[0] + \"_\" + genes[1] + \".xlsx\")\n",
    "\n",
    "            if (len(venny1) >= 1) & (len(venny2) >= 1):\n",
    "                la,lb,lc = len(v1only),len(v2only),len(overlap_ab)\n",
    "                # now find the max\n",
    "                max_len = max(la,lb,lc)\n",
    "                if not max_len == la:\n",
    "                    v1only.extend(['']*(max_len-la))\n",
    "                if not max_len == lb:\n",
    "                    v2only.extend(['']*(max_len-lb))\n",
    "                if not max_len == lc:\n",
    "                    overlap_ab.extend(['']*(max_len-lc))\n",
    "                    \n",
    "                venn_df = pd.DataFrame({name1:v1only,name2:v2only,nameab:overlap_ab}) \n",
    "                writer = pd.ExcelWriter(excelTitle, engine='openpyxl')\n",
    "                venn_df.to_excel(writer, sheet_name='Sheet1')\n",
    "                writer.save()\n",
    "                display(venn_df)\n",
    "                with out2:\n",
    "                    clear_output()\n",
    "                    plt.figure(figsize=(5, 5), facecolor=\"white\")\n",
    "                    v = venn2([set(venny1), set(venny2)], set_labels = (genes[0], genes[1]))\n",
    "                    plt.title(Title)\n",
    "                    plt.show()\n",
    "                    savename = excelTitle + \".pdf\"\n",
    "                    plt.savefig(savename)\n",
    "\n",
    "            else:\n",
    "                with out2:\n",
    "                    print(\"No Overlap: At least one gene is not expressed over a value of\", threshold.value, \"in any cell types:\", \n",
    "                          genes[0], \": expressed in \", len(venny1), \"cells; \", genes[1], \": expressed in \", len(venny2), \"cells. \")\n",
    "\n",
    "            \n",
    "        elif len(genes) == 3:\n",
    "            Title = (genes[0] + \" / \" + genes[1]+ \" / \" + genes[2])\n",
    "            excelTitle = (genes[0] + \"_\" + genes[1] + \"_\" + genes[2] + \".xlsx\")\n",
    "            venny3 = mouse_means2.loc[genes[2]]\n",
    "          \n",
    "\n",
    "            venny3 = venny3[venny3 >= threshold.value].index.to_list()\n",
    "            if (len(venny1) >= 1) & (len(venny2) >= 1) & (len(venny3) >= 1):\n",
    "                name3 = str(genes[2]) + \" only\"\n",
    "                namebc = str(genes[1]) + \" and \" + str(genes[2])\n",
    "                nameac = str(genes[0]) + \" and \" + str(genes[2])\n",
    "                nameabc = str(genes[0]) + \" and \" + str(genes[1])+ \" and \" + str(genes[2])\n",
    "                \n",
    "                venny30 = set(venny3)\n",
    "                \n",
    "                v3only = venny1.difference(venny2, venny30)\n",
    "                v3only = list(v3only)\n",
    "                \n",
    "                overlap_bc = [value for value in venny2 if value in venny3]\n",
    "                overlap_ac = [value for value in venny1 if value in venny3]\n",
    "                overlap_abc = [value for value in venny3 if value in overlap_ab]\n",
    "\n",
    "                la,lb,lc, ld, le, lf, lg  = len(v1only),len(v2only),len(v3only),len(overlap_ab),len(overlap_bc),len(overlap_ac),len(overlap_abc)\n",
    "                # now find the max\n",
    "                max_len = max(la,lb,lc,ld, le, lf, lg)\n",
    "                if not max_len == la:\n",
    "                    v1only.extend(['']*(max_len-la))\n",
    "                if not max_len == lb:\n",
    "                    v2only.extend(['']*(max_len-lb))\n",
    "                if not max_len == lc:\n",
    "                    v3only.extend(['']*(max_len-lc))\n",
    "                if not max_len == ld:\n",
    "                    overlap_ab.extend(['']*(max_len-ld))\n",
    "                if not max_len == le:\n",
    "                    overlap_bc.extend(['']*(max_len-le))\n",
    "                if not max_len == lf:\n",
    "                    overlap_ac.extend(['']*(max_len-lf))\n",
    "                if not max_len == lg:\n",
    "                    overlap_abc.extend(['']*(max_len-lg))\n",
    "\n",
    "                venn_df = pd.DataFrame({name1:v1only,name2:v2only,name3:v3only,nameab:overlap_ab,namebc:overlap_bc,\n",
    "                                                nameac:overlap_ac, nameabc: overlap_abc}) \n",
    "                writer = pd.ExcelWriter(excelTitle, engine='openpyxl')\n",
    "                venn_df.to_excel(writer, sheet_name='Sheet1')\n",
    "                writer.save() \n",
    "                display(venn_df)\n",
    "                with out2:\n",
    "                    clear_output()\n",
    "                    plt.figure(figsize=(5, 5), facecolor=\"white\")\n",
    "                    v = venn3([set(venny1), set(venny2), set(venny3)], set_labels = (genes[0], genes[1], genes[2]))\n",
    "                    plt.title(Title)\n",
    "                    plt.show()\n",
    "                    savename = excelTitle + \".pdf\"\n",
    "                    plt.savefig(savename)\n",
    " \n",
    "            else:\n",
    "                with out2:\n",
    "                    print(\"No Overlap: At least one gene is not expressed over a value of\", threshold.value, \"in two of three cell types:\", \n",
    "                          genes[0], \": expressed in \", len(venny1), \"cells; \", genes[1], \": expressed in \", len(venny2), \"cells; \",\n",
    "                         genes[2], \": expressed in \", len(venny3), \"cells.\")\n",
    "\n",
    "        "
   ]
  },
  {
   "cell_type": "code",
   "execution_count": 9,
   "metadata": {
    "hideCode": false,
    "hidePrompt": false,
    "hide_input": false,
    "scrolled": false
   },
   "outputs": [],
   "source": [
    "from ipywidgets import AppLayout\n",
    "genesbox = widgets.VBox([threshold, genetitle,genes1, genes2, genes3, spacer, go_button])\n",
    "\n",
    "out1 = widgets.Output(layout={'border': '1px solid black'})\n",
    "out2 = widgets.Output(layout={'border': '1px solid black'})\n",
    "\n",
    "\n",
    "box_layout = widgets.Layout(\n",
    "        border='solid 1px black',\n",
    "        margin='0px 10px 10px 0px',\n",
    "        padding='5px 5px 5px 5px')\n",
    "\n",
    "with out2:\n",
    "    genes1.value == 'Type Here'\n",
    "    genes2.value == 'Type Here'\n",
    "    genes3.value == 'Type Here'\n",
    "\n",
    "#with out2:\n",
    "#    clear_output()\n",
    "    \n"
   ]
  },
  {
   "cell_type": "code",
   "execution_count": 10,
   "metadata": {
    "scrolled": false
   },
   "outputs": [
    {
     "data": {
      "application/vnd.jupyter.widget-view+json": {
       "model_id": "1c50201029da43269a32041415efa1ce",
       "version_major": 2,
       "version_minor": 0
      },
      "text/plain": [
       "AppLayout(children=(Label(value='Allen Transcriptomics Venn: Choose a threhold for expression and 2 or 3 genes…"
      ]
     },
     "metadata": {},
     "output_type": "display_data"
    }
   ],
   "source": [
    "AppLayout(header=welcome,\n",
    "          left_sidebar=genesbox,\n",
    "          center=out2,\n",
    "          right_sidebar=None,\n",
    "          footer=None,\n",
    "          pane_widths=[2, 1, 1],\n",
    "          pane_heights=[1, 4, '60px'],\n",
    "         layout = box_layout)"
   ]
  }
 ],
 "metadata": {
  "celltoolbar": "Hide code",
  "hide_code_all_hidden": false,
  "kernelspec": {
   "display_name": "Python 3",
   "language": "python",
   "name": "python3"
  },
  "language_info": {
   "codemirror_mode": {
    "name": "ipython",
    "version": 3
   },
   "file_extension": ".py",
   "mimetype": "text/x-python",
   "name": "python",
   "nbconvert_exporter": "python",
   "pygments_lexer": "ipython3",
   "version": "3.7.6"
  }
 },
 "nbformat": 4,
 "nbformat_minor": 2
}
